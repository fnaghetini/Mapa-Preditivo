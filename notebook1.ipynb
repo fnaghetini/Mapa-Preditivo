{
 "cells": [
  {
   "cell_type": "markdown",
   "metadata": {},
   "source": [
    "# Notebook 1 - Mapa Geológico Preditivo\n",
    "\n",
    "### Limpeza & análise exploratória dos dados\n",
    "\n",
    "##### Trabalho de Conclusão de Curso - Geologia / IGC / UFMG\n",
    "\n",
    "Autores: [Franco Naghetini](https://github.com/fnaghetini) & [Guilherme Silveira](https://github.com/guiasilveira)"
   ]
  },
  {
   "cell_type": "markdown",
   "metadata": {},
   "source": [
    "## Introdução\n",
    "\n",
    "De forma geral, a **teoria do aprendizado estatístico supervisionado** visa aprender uma função desconhecida $f\\colon x \\mapsto y$ por meio do treinamento de um  agente  com exemplos $\\left\\{(x^{(1)},y^{(1)}), (x^{(2)},y^{(2)}),\\ldots,(x^{(n)},y^{(n)})\\right\\}$ de entrada e saída da função.\n",
    "\n",
    "Nesse sentido, o objetivo deste trabalho é solucionar uma tarefa supervisionada de classificação multinomial $T$ que consiste em predizer as unidades litoestratigráficas $y^{(i)}$ em um determinado domínio $D$ como função de sensores remotos $x_i$ e com base em anotações / interpretações $y^{(i)} = f(x^{(i)})$ feitas pelos geólogos que realizaram o mapeamento da área.\n",
    "\n",
    "O produto final é um **mapa geológico preditivo 1:25.000 da região de Diamantina (MG)** que pode ser utilizado como um meio de reconciliação entre os dados / interpretações de campo e os sensores remotos. Nesse sentido, as inconsistências entre o mapa geológico e o mapa preditivo podem fornecer *insights* e orientar futuras campanhas de mapeamento na região."
   ]
  },
  {
   "cell_type": "markdown",
   "metadata": {},
   "source": [
    "## Sumário\n",
    "\n",
    "<big><big>[Contexto geológico](#0)</big></big>\n",
    "\n",
    "<big><big>[Configurações iniciais](#1)</big></big>\n",
    "\n",
    "<big><big>[Visualização geoespacial](#2)</big></big>\n",
    "\n",
    "<big><big>[Análise geral](#3)</big></big>\n",
    "\n",
    "<big><big>[Variáveis globais & funções auxiliares](#4)</big></big>\n",
    "\n",
    "<big><big>[Limpeza dos dados](#5)</big></big>\n",
    "\n",
    "<big><big>[Análise exploratória](#6)</big></big>\n",
    "\n",
    "<big><big>[Descrição univariada](#6_1)</big></big>\n",
    "\n",
    "<big><big>[Descrição bivariada](#6_2)</big></big>\n",
    "\n",
    "\n",
    "<big><big>[Exportação dos dados](#7)</big></big>"
   ]
  },
  {
   "cell_type": "markdown",
   "metadata": {},
   "source": [
    "<a id='0'></a>\n",
    "## Contexto geológico\n",
    "\n",
    " A área de estudo está localizada no Sudeste brasileiro próximo a cidade de Diamantina no contexto geotectônico da borda leste do Cráton São Francisco. A Serra do Espinhaço (SDE) estende-se por mais de 1200 Km em direção meridiana (Knauer, 2007), indo desde a borda Leste do Quadrilátero Ferrífero até o norte do estado da Bahia. A SDE pode ser dividida nos domínios setentrional e meridional, sendo a área de estudo pertencente à essa última. A parte Meridional, localizada no estado de Minas Gerais, possui um grande acervo de conhecimento geológico adquirido, principalmente, a partir da descoberta dos depósitos diamantíferos em diamantina (Knauer op.cit.), além disso, a área vem sendo estutada por décadas por centenas de alunos e professores de diversos institutos de geociências do país, a partir do programa de estagio supervisionado.\n",
    "\n",
    "Na região de estudo afloram principalmente os litotipos do Supergrupo Rio Paraúna definido por Fogaça et al. (1984), principalmente os xistos do Grupo Costa Sena e os quartzitos Formação Bandeirinha, alem das rochas basais do Supergrupo Espinhaço."
   ]
  },
  {
   "cell_type": "markdown",
   "metadata": {},
   "source": [
    "### Trabalhos Anteriores\n",
    "Um dos primeiros estudos da região da Serra do Espinhaço data ainda do século XVIII realizado\n",
    "por Viera Couto (Renger, 1979). Uma das maiores contribuições iniciais para a geologia, não só\n",
    "do Espinhaço, mas de grande parte do Sudeste brasileiro, foi feita pelo naturalista Ludwig Von\n",
    "Eschwege durante sua passagem pelo Brasil no início do século XIX. Durante seu trabalho,\n",
    "descrito no Pluto Brasiliensis de 1833, ele descreve a Serra do Espinhaço como um grande\n",
    "conjunto de Serras que funcionariam como o grande divisor de águas no território sudeste\n",
    "brasileiro (Derby, 1906). Eschwege dá início, ainda, à primeira tentativa de divisão\n",
    "estratigráfica (Renger ,op.cit.).\n",
    "Outros trabalhos posteriores são importantes para o entendimento da geologia da região. Vale,\n",
    "então, citar os trabalhos realizados por Derby entre os sécs. XVIII e XIX. Derby (1906) em seu\n",
    "trabalho, publicado em The Jounal of Geology, sugere que a Serra do Espinhaço é composta por\n",
    "três grupos de rochas: 1º os Gnaisses e os mica xistos; 2º Xistos, quartzitos e calcários nas\n",
    "regiões auríferas (Quadrilátero ferrífero) e 3º quartzitos e arenitos em regiões diamantíferas.\n",
    "Diversos autores trabalharam desde então com a geologia da Serra do Espinhaço, na tentativa de\n",
    "propor uma estratigrafia mais detalhada e compreender os eventos geológicos envolvidos na\n",
    "formação da mesma. Diversas propostas estratigráficas, então, foram feitas destacando o\n",
    "trabalho realizado por Pflug (1968), onde o mesmo propõe a divisão da série Minas na região de\n",
    "Diamantina, dividindo essa sequência em 8 formações litoestratifgráficas, até hoje adotadas.\n",
    "16\n",
    "Outros trabalhos de grande relevância e as proposições sobre a geologia do Espinhaço podem\n",
    "ser encontrados nos artigos publicados por Moraes & Guimarães (1930); Pflug & Renger\n",
    "(1973); Schol & Fogaça (1979), como descrito em Renger (1979)."
   ]
  },
  {
   "cell_type": "markdown",
   "metadata": {},
   "source": [
    "### Estratigrafia\n",
    "\n",
    "A estratigrafia da região de Diamantina foi amplamente discutida nas últimas décadas e uma de\n",
    "suas propostas foi feita por Almeida Abreu (1995), segundo a ***Figura 1***. Contudo, outros autores\n",
    "vêm propondo outras compartimentações para seus grupos e formações, como será discutido\n",
    "neste trabalho. Serão tratados os tópicos Embasamento, Supergrupo Rio Paraúna e Supergrupo\n",
    "Espinhaço.\n",
    "\n",
    "**Embasamento**\n",
    "\n",
    "O Complexo Basal da região da Serra do Espinhaço corresponde à faixa mediana-central da\n",
    "mesma, constituída por rochas graníticas, chamadas de Complexo Gouveia. Também ocorrem,\n",
    "ocasionalmente, rochas gnáissicas (Almeida Abreu, 1995; Knauer, 1990). Já no leste e sul, há\n",
    "ocorrência de gnaisses e granitos, charnockitos e granulitos subordinados (Almeida Abreu,\n",
    "1995). Segundo Knauer (1990), também se observa ocorrências menos expressivas de corpos\n",
    "anfibolíticos e produtos de sua milonitização.\n",
    "O Complexo possui idades arqueanas, segundo Teixeira et al. (1990) in Almeida Abreu (1995)\n",
    "e Brito Neves et al. (1979) in Knauer (1990) e proterozoicas, segundo Teixeira et al. 1990 in\n",
    "Almeida Abreu 1995. De acordo com Brito Neves et al. (1979) in Dossin et al. (1984), as rochas\n",
    "do embasamento incluem rochas graníticas e migmatíticas, além de, segundo Carvalho (1982)\n",
    "in Dossin et al. (1984), anatexitos, protomilonitos, milonitos, ultramilonitos e corpos isolados de\n",
    "anfibolitos.\n",
    "\n",
    "**Supergrupo Rio Paraúna**\n",
    "\n",
    "Sobreposto ao embasamento, encontra-se o Supergrupo Rio Paraúna que, segundo Fogaça et al.\n",
    "(1984) e Almeida Abreu (1995), são compostos pelo Grupo Pedro Pereira e pelo Grupo Costa\n",
    "Sena, da base para o topo. O Grupo Pedro Pereira é subdividido nas Unidades\n",
    "ultramáfica/máfica e vulcanossedimentar, enquanto o Grupo Costa Sena é composto pelas\n",
    "Formações Barão de Guaicuí e Bandeirinha, englobando sucessões epiclásticas finas e grossas,\n",
    "respectivamente (Fogaça et al. 1984).\n",
    "As definições do Grupo Pedro Pereira são feitas por Almeida Abreu (1995) descrevendo uma\n",
    "associação de rochas meta-máficas, ultramáficas, ácidas e também metassedimentos de origem\n",
    "química, sobre o qual Machado et al. (1989) cita idades de 2971 +/- 16 Ma. Já o grupo Costa\n",
    "Sena é descrito como uma sequência de sericita-xistos com frequente presença de cianita por\n",
    "Almeida Abreu (1995), e como sequências marinha com vulcanismo ácido calcoalcalino e\n",
    "continental a até marinha rasa, correspondentes respectivamente às Formações Barão de Guaicuí\n",
    "e Bandeirinha, por Knauer (1990). Essa sequência supracrustal ao embasamento é chamada por\n",
    "Dossin et al. (1984) de Supergrupo Rio das Velhas, cuja porção basal é composta por uma\n",
    "associação de clorita-xistos e mica xistos, enquanto a porção superior é constituída por quartzomica-\n",
    "xistos com cianita e quartzitos com lentes de metaconglomerados.\n",
    "\n",
    "**Supergrupo Espinhaço**\n",
    "\n",
    "Uma das primeiras divisões feitas para o pacote de rochas sobreposto ao Supergrupo Rio\n",
    "Paraúna foi proposta no trabalho de Pflug (1968), no qual menciona-se oito formações para a\n",
    "Série Minas, correspondente nesse estudo ao Supergrupo Espinhaço. Esse autor descreve a\n",
    "primeira delas, Formação São João da Chapada, como quartzitos médios a grossos com\n",
    "estratificações cruzadas, apresentando intercalações de seixos na base e lâminas de filito na\n",
    "porção superior. De acordo com Schöll & Fogaça (1979), essa formação se encontra na porção\n",
    "basal do Supergrupo e é composta por quartzitos metaconglomerados, filitos e metavulcânicas.\n",
    "Já Almeida Abreu (1995) a descreve como pertencente ao Grupo Guinda do Supergrupo\n",
    "Espinhaço, englobando uma sequência de sedimentos continentais com metavulcânicas\n",
    "intercaladas a eles. A Formação é subdivida por Schöll & Fogaça (1979) in Knauer (1990) em\n",
    "três níveis informais, chamados de A, B e C. O nível A é caracterizado por quartzitos,\n",
    "metaconglomerados e/ou metabrechas, enquanto o nível B se destaca pela presença de filitos\n",
    "hematíticos intercalados principalmente por clorita-xistos e turmalinitos finos. O nível C por sua\n",
    "vez é composto por quartzitos médios a grossos com pequenos conteúdos de ferro de maneira\n",
    "geral.\n",
    "18\n",
    "Acima da Formação São João da Chapada, segundo Pflug (1968), encontra-se a Formação Sopa\n",
    "Brumadinho, a qual possui principalmente quartzitos e filitos, por vezes intercalados por\n",
    "conglomerados polimíticos e monomíticos. Também foi observado pelo autor lentes de\n",
    "conglomerado e intercalações de brecha quartzítica e de filito hematítico. Almeida Abreu (1995)\n",
    "o coloca como pertencente ao Grupo Guinda, enquanto Schöll & Fogaça (1979) o encaixam na\n",
    "porção Basal do Supergrupo Espinhaço.\n",
    "A Formação é subdividida nos níveis D, E e F por Schöll & Fogaça (1979) in Knauer (1990),\n",
    "em cujo trabalho também se destaca as mineralizações diamantíferas pertencentes a ela. No\n",
    "nível D predominam filitos e quartzo-filitos, que podem variar lateral e/ou verticalmente para\n",
    "quartzitos micáceos (Knauer, 1990). O nível E é descrito como bastante heterogêneo,\n",
    "apresentando quartzitos, metaconglomerados, filitos, filitos hematíticos, metassiltitos e também\n",
    "xistos verdes (Knauer, 1990). O nível F é chamado, segundo Fogaça & Almeida Abreu (1982)\n",
    "in Knauer (1990), de Membro Campo Sampaio, marcando o topo da Formação. É composto por\n",
    "filitos acizentados com gradações para metassiltitos e metargilitos, incluindo lentes de\n",
    "quartzitos (Knauer, 1990). Almeida-Abreu (1993) in Knauer (2007) descreve os níveis E e F\n",
    "como membros Datas e Caldeirões, respectivamente.\n",
    "Pflug (1968) descreve a unidade disposta estratigraficamente acima da Formação Sopa\n",
    "Brumadinho, como quartzitos puros com estratificações cruzadas e com lâminas muito pouco\n",
    "expressivas de filitos intercaladas. As estratificações observadas são comentadas por Schöll &\n",
    "Fogaça (1979) como mega estratificações cruzadas. A Formação se encontra englobada no\n",
    "Grupo Guinda de acordo com Knauer (1990) in Almeida Abreu (1995) e é relacionada, de\n",
    "acordo com suas características marcantes, a um ambiente de deposição eólico em Dossin et al.\n",
    "(1987) in Knauer (1990).\n",
    "Na proposta feita por Pflug (1968), acima da Formação Galho do Miguel encontram-se cinco\n",
    "unidades chamadas, da base para o topo, de Formações Santa Rita, Córrego dos Borges,\n",
    "Córrego da Bandeira, Córrego Pereira e Rio Pardo Grande. Segundo ele, a Formação Santa Rita\n",
    "é composta por filitos, e siltitos bem laminados, enquanto Schöll & Fogaça (1979) utilizam a\n",
    "descrição de sedimentos clásticos finos, de maneira geral. Almeida Abreu (1995) o inclui no\n",
    "Grupo Conselheiro Mata, cuja idade é proposta por Machado et al. (1989) in Almeida Abreu\n",
    "(1995) como 906 +/- 2 Ma. A Formação Córrego dos Borges por sua vez engloba quartzitos\n",
    "puros e brechas compostas por material quartzítico (Pflug, 1968), e é incluída na porção\n",
    "Superior do Supergrupo Espinhaço (Schöll & Fogaça, 1979). A Formação Córrego da Bandeira\n",
    "foi estudada por fotointerpretação por Pflug (1968) como correspondente a filitos e siltitos com\n",
    "intercalações de quartzitos e foi incluída no Grupo Conselheiro Mata por Almeida Abreu\n",
    "(1995), enquanto a Formação Córrego Pereira foi tida como extremamente semelhante à\n",
    "19\n",
    "Formação Córrego dos Borges (Pflug, 1968), descrita por Schöll & Fogaça (1979) com\n",
    "presença de filitos, metassiltitos e quartzitos, com ocasionais lentes de dolomito. No topo do\n",
    "Supergrupo se encontra a Formação Rio Pardo Grande, constituída de filitos e, menos\n",
    "expressivamente, bancos de quartzitos e dolomitos (Pflug, 1968). Ela foi incluída na porção\n",
    "Superior do Supergrupo por Schöll & Fogaça (1979), enquanto Almeida Abreu (1995), por sua\n",
    "vez, a considerou como componente do Grupo Conselheiro Mata. Acredita-se que a\n",
    "sedimentação do Supergrupo Espinhaço é correspondente ao Proterozoico Médio, entre 1,7 e\n",
    "1,0 b.a. (Brito Neves et al., 1979; Costa & Inda, 1982; Hasui, 1982 in Dossin et al., 1984)."
   ]
  },
  {
   "cell_type": "markdown",
   "metadata": {},
   "source": [
    "### Geologia Estrutural\n",
    "Trabalhos focados na geologia estrutural da Serra do Espinhaço procuram entender os\n",
    "fenômenos que levaram à formação das bacias Paleo-Meso Proterozoicas e o(s) evento(s) que\n",
    "teriam levado ao fechamento das mesmas gerando o relevo montanhoso durante eventos\n",
    "compressivos no Meso-Neoproterozoicos.\n",
    "A Serra do Espinhaço encontra-se no limite Leste do Cráton do São Francisco (***Figura 2***), e faz\n",
    "parte do Cinturão de Cavalgamentos do Espinhaço Meridional (Alkimim et al. 2007) que está\n",
    "inserido segundo Uhlein et al. (1995) e Alkimim et al. (2007) na unidade externa da Faixa de\n",
    "dobramentos Araçuaí.\n",
    "Figura 2: Limites do cráton São\n",
    "Francisco. Alkimim (1993)\n",
    "Segundo Almeida Abreu et al. (1986) in Pedrosa-Soares (1992), a movimentação de massas se\n",
    "deu, em geral, de Leste para Oeste, em um regime tectônico compressivo, sendo frequentes as\n",
    "inversões da estratigrafia, a partir de um complexo sistema de cavalgamentos. Uma das\n",
    "principais estruturas, relacionadas a esse processo deformacional das rochas que formam a Serra\n",
    "do Espinhaço, são os planos de foliação de direção NNE marcados pelos minerais placoídes,\n",
    "com mergulhos para leste com ângulos entre 10 e 35° (Rolim, 1992). Além da foliação,\n",
    "estruturas como foliação S-C, profiroclastos rotacionados, boudinagem de veios de quartzo e\n",
    "dobras de segunda ordem são comuns em diversas rochas da região.\n",
    "Segundo Rolim (1992), a propagação dos empurrões de leste para oeste varia desde leques\n",
    "embricados e dobras isoclinais presentes a leste, na porção mais deformada, passando por\n",
    "duplexes empilhados que teriam sua formação relacionada aos empilhamentos dos cavalos\n",
    "frente ao alto estrutural formado pelo complexo Gouveia que teria, então, impedido a\n",
    "movimentação das massas para oeste. Após o complexo, na região centro-oeste da Serra o\n",
    "arranjo estrutural forma um sistema de duplexes com rampas mais afastadas podendo gerar\n",
    "Fault-bend folds.\n",
    "Uhlein (1991) in Uhlein et al. (1995) define duas fases progressivas da deformação, a primeira,\n",
    "definida por ele como fase Dp1 está relacionada ao desenvolvimento de zonas de cisalhamento\n",
    "subparalelas ao acamamento, e a segunda, segundo o autor, a mais importante, é marcada pelo\n",
    "desenvolvimento de dobras isoclinais de eixos norte sul que podem estar rotacionados nas\n",
    "extremidades das dobras, aparecimento de uma lineação mineral de extiramente de direção EW,\n",
    "indicando o movimento de massas em direção ao Cráton do São Francisco.\n",
    "A deformação bem como o metamorfismo relacionados à orogenia brasiliana crescem de dentro\n",
    "do Cráton, onde as coberturas proterozoicas encontram-se em um estado de anquimetamorfismo\n",
    "em direção ao cinturão orogênico, local desse estudo o estudo, onde as rochas apresentam um\n",
    "metamorfismo na fácies xisto-verde. (Alkimim et al. 1996)\n",
    "Na região de diamantina, os estudos estruturais apontam para um evento deformacional\n",
    "principal caracterizado por transporte tectônico de Leste para Oeste, sendo esse transporte\n",
    "responsável pelos grandes alinhamentos de serras de trends Norte/Sul (Knauer & Ebert ,1997)."
   ]
  },
  {
   "cell_type": "markdown",
   "metadata": {},
   "source": [
    "### Evolução Geológica\n",
    "Um dos modelos mais clássicos sobre a evolução geológica do Espinhaço é o de Pflug (1965).\n",
    "Nele, é proposto um geossinclinal na Série Pré-Minas, com eixo de direção NNW-SSE (Dorr et\n",
    "al. 1959 in Pflug 1965), e a consequente intrusão de granito. Após a erosão, ocorre a\n",
    "sedimentação da Série Minas, com orientação perpendicular às dobras da Pré-Minas, e fácies\n",
    "evoluindo de sedimentos costeiros para geossinclinais agrupam-se ao redor de um núcleo mais\n",
    "antigo. Posteriormente à sedimentação, ocorrem intrusões graníticas, metamorfismo regional e\n",
    "dobramentos com vergência para N e NE. Em uma bacia que as dobras circundam, é depositada\n",
    "a Série Lavras, a qual também é, posteriormente, dobrada e metamorfoseada; e, no estágio final\n",
    "da orogênese, forma-se a bacia do São Francisco, onde se depositam os sedimentos da Série\n",
    "Bambuí.\n",
    "Fogaça et al. (1984) apresenta um modelo para a evolução do Supergrupo Rio Paraúna, o qual\n",
    "ele afirma ser integrante do embasamento pré-Espinhaço. Como no conjunto crustal há granitos\n",
    "intrusivos (mais jovens que os gnaisses) com rochas metamórficas integrantes da base da\n",
    "sequência supracrustal, é notado que, mesmo algumas vezes separados por contatos tectônicos,\n",
    "há uma estreita relação entre os conjuntos crustal e supracrustal. Assim, as rochas crustais de\n",
    "alto grau (Formação Pedro Pereira) são consideradas mais antigas e pertencentes ao\n",
    "embasamento do Rio Paraúna. Além disso, o cinturão deste Supergrupo é considerado um\n",
    "“greenstone belt”, de modo a apresentar um grau de metamorfismo regional mais elevado que o\n",
    "Espinhaço.\n",
    "Já Almeida Abreu (1995), afirma que o SE do Cráton do São Francisco é limitado por uma faixa\n",
    "orogênica representada pela Serra do Espinhaço Meridional. O autor propõe que através dos\n",
    "sistemas deposicionais e elementos estruturais das Formações Bandeirinha, São João da\n",
    "Chapada e Sopa-Brumadinho, é conclusivo que o Rift Espinhaço evoluiu em 3 fases. A primeira\n",
    "fase é caracterizada por processos de distensão crustal e fragmentação de um supercontinente,\n",
    "no qual a Formação Bandeirinha foi formada e a atividade tectônica que ocorreu durante sua\n",
    "sedimentação é indicada pelo contato discordante angular e erosivo entre Bandeirinha e São\n",
    "João da Chapada. A segunda fase foi marcada por uma subsidência mecânica e clima\n",
    "constantemente úmido, o que levou a formação de uma larga bacia fluvial onde depositou-se a\n",
    "Formação São João da Chapada.\n",
    "Na terceira fase, foram depositadas as Formações Sopa-Brumadinho e Galho do Miguel, e a\n",
    "subsidência volta a ser termal. O ápice do aquecimento levou ao acesso da astenosfera à crosta,\n",
    "de modo que ocorreu vulcanismo kimberlítico, e, consequentemente, diamantes nos\n",
    "metaconglomerados da Sopa-Brumadinho; além disso, há o desenvolvimento de meio-grabens.\n",
    "O Grupo Conselheiro Mata está na margem passiva do Espinhaço e suas sequências são de\n",
    "ambientes marinho costeiro e plataformal. Ademais, ele se forma quando o fluxo de calor é\n",
    "difundido pela crosta oceânica.\n",
    "Segundo o modelo de Dussin & Dussin (1995), as bacias sedimentares indicam uma tectônica\n",
    "extensiva no interior de placas. Os autores propõem um regime extensivo de forças no\n",
    "Mesoproterozoico que culminou com o adelgaçamento da litosfera continental, gerando uma\n",
    "fraturação e ruptura da crosta, desenvolvendo-se uma fase rifte marcada pela grande\n",
    "instabilidade da bacia e geração de falhamentos normais levando, então, a deposição do Grupo\n",
    "Diamantina.\n",
    "Na fase pós-rifte, o Grupo Conselheiro Mata se deposita durante uma transgressão em uma\n",
    "época de estabilidade tectônica e subsidência da bacia. É proposto que entre as sequências rifte e\n",
    "pós-rifte houve um hiato temporal na sedimentação, devido à presença de várias discordâncias\n",
    "erosivas. No início do Neoproterozoico, um segundo período de extensão crustal gerou o Rifte\n",
    "Araçuaí, no qual não ocorreu muita sedimentação nem vulcanismos; e, no final do\n",
    "Neoproterozoico, houve a tectônica Brasiliana, na qual, a partir de um cisalhamento dúctil e\n",
    "consequente deformação regional, as bacias se fecharam e a Faixa Araçuaí foi estruturada.\n",
    "Conforme Uhlein et al. (1995) o Supergrupo Espinhaço é representado por um rifte que ocorreu\n",
    "no final do Paleoproterozoico até o início do Mesoproterozoico com orientação norte-sul.\n",
    "Uhlein et al. (op.cit) divide o rifteamento em três sequências distintas: Sequência Inferior,\n",
    "Sequênciar Média e Sequência Superior. Tal rifte é continental submeridiano (ensiálico)\n",
    "tectonizado na orogênese brasiliana (e.g Trompette et al. 1992). As formações São João da\n",
    "Chapada e Sopa Brumadinho (Sequência Inferior) foram depositadas em ambiente continental e\n",
    "marcam o início do rifteamento (e.g: Garcia & Uhlein 1987). Nesta mesma fase, ocorreu\n",
    "também vulcanismo-plutonismo ácido-intermediário sub-alcalino, num contexto intraplaca e\n",
    "anatexia crustal localizada (e.g Jardim de Sá et al. 1976). Posteriormente, se deu a deposição da\n",
    "Formação Galho do Miguel (Sequência Média) em depósitos eólicos costeiros (e.g: Dossin et al.\n",
    "1987), a qual aconteceu numa fase de subsidência térmica e flexural (e.g: Uhlein, 1991). Por\n",
    "último, houve a sedimentação do Grupo Conselheiro Mata em ambiente marinho raso (e.g\n",
    "Garcia & Uhlein 1987), também em fase de subsidência térmica e flexural (e.g: Martins Neto\n",
    "1993). No final do Neoproterozoico, uma tectônica de inversão, em regime compressional,\n",
    "afetou o sistema Espinhaço com dobras, zonas de cisalhamento, espessamento litósferico e\n",
    "metamorfismo (Uhlein et al. 1995). *Todas as citações acimas foram retiradas de Uhlein et al.\n",
    "(1995).\n"
   ]
  },
  {
   "cell_type": "markdown",
   "metadata": {},
   "source": [
    "<a id='1'></a>\n",
    "##  Configurações iniciais"
   ]
  },
  {
   "cell_type": "markdown",
   "metadata": {},
   "source": [
    "##### Importação de bibliotecas"
   ]
  },
  {
   "cell_type": "code",
   "execution_count": null,
   "metadata": {
    "scrolled": true
   },
   "outputs": [],
   "source": [
    "import os                              # Sistema operacional\n",
    "import pandas as pd                    # Manipulação de dataframes e series\n",
    "import numpy as np                     # Operações numéricas\n",
    "import matplotlib.pyplot as plt        # Visualização de dados\n",
    "import seaborn as sns                  # Visualização de dados\n",
    "import statistics as stats             # Ferramentas estatísticas\n",
    "import scipy.stats as st               # Ferramentas estatísticas\n",
    "import geopandas as gpd                # Manipulação de dataframes e series geoespaciais\n",
    "import rasterio, folium                # Manipulação de rasters e mapas interativos\n",
    "import warnings                        # Desabilitar avisos\n",
    "warnings.filterwarnings(\"ignore\")\n",
    "\n",
    "%matplotlib inline"
   ]
  },
  {
   "cell_type": "markdown",
   "metadata": {},
   "source": [
    "##### Importação do banco de dados"
   ]
  },
  {
   "cell_type": "code",
   "execution_count": null,
   "metadata": {},
   "outputs": [],
   "source": [
    "df_original = pd.read_csv(\"data/data_nb1.csv\",sep=\",\")"
   ]
  },
  {
   "cell_type": "code",
   "execution_count": null,
   "metadata": {},
   "outputs": [],
   "source": [
    "# criação de uma cópia (deep) do dataframe original\n",
    "df = df_original.copy(deep = True)"
   ]
  },
  {
   "cell_type": "markdown",
   "metadata": {},
   "source": [
    "<a id='2'></a>\n",
    "## Visualização geoespacial"
   ]
  },
  {
   "cell_type": "markdown",
   "metadata": {},
   "source": [
    "##### Polígono da área"
   ]
  },
  {
   "cell_type": "code",
   "execution_count": null,
   "metadata": {
    "scrolled": false
   },
   "outputs": [],
   "source": [
    "# importação do polígono da área\n",
    "pol = \"shp/poligono_Sirgas.shp\"\n",
    "# transformação do polígono em (geo)dataframe\n",
    "gdf = gpd.read_file(pol)\n",
    "# modificação do crs (31983 -> 4326)\n",
    "gdf_wgs = gdf.to_crs(\"EPSG:4326\")\n",
    "\n",
    "# mapa interativo\n",
    "pol_map = folium.Map(location=[-18.3,-43.7], zoom_start=12,\n",
    "                     tiles='https://mt1.google.com/vt/lyrs=y&x={x}&y={y}&z={z}',\n",
    "                     attr = 'Google', name = 'Google Satellite', overlay = True, \n",
    "                     control = True)\n",
    "\n",
    "# polígono sobre mapa interativo\n",
    "folium.Choropleth(geo_data=gdf_wgs.geometry, fill_opacity=0.1).add_to(pol_map)\n",
    "\n",
    "pol_map"
   ]
  },
  {
   "cell_type": "markdown",
   "metadata": {},
   "source": [
    "##### Unidades litoestratigráficas"
   ]
  },
  {
   "cell_type": "code",
   "execution_count": null,
   "metadata": {
    "scrolled": false
   },
   "outputs": [],
   "source": [
    "# importação do shapefile de unidades litoestratigráficas\n",
    "lito = \"shp/lithology_sirgas.shp\"\n",
    "# transformação do shapefile em (geo)dataframe\n",
    "gdf = gpd.read_file(lito)\n",
    "# modificação do crs (31983 -> 4326)\n",
    "gdf_wgs = gdf.to_crs(\"EPSG:4326\")\n",
    "\n",
    "# mapa interativo\n",
    "lito_map = folium.Map(location=[-18.3,-43.7], zoom_start=12,\n",
    "                 tiles='https://mt1.google.com/vt/lyrs=y&x={x}&y={y}&z={z}',\n",
    "                 attr = 'Google', name = 'Google Satellite', overlay = True, \n",
    "                 control = True)\n",
    "\n",
    "# unidades litoestratigráficas sobre mapa interativo\n",
    "cplt = folium.Choropleth(geo_data=gdf_wgs, fill_opacity=0.4,\n",
    "                  data=gdf_wgs,\n",
    "                  columns=['Unidades','Id'],\n",
    "                  key_on=\"feature.properties.Unidades\",\n",
    "                  locations=gdf_wgs.index,\n",
    "                  legend_name='ID Litologia',\n",
    "                  highlight=True,\n",
    "                  fill_color=\"Set1\").add_to(lito_map)\n",
    "\n",
    "cplt.geojson.add_child(folium.features.GeoJsonTooltip(['Unidades'],labels=False))\n",
    "\n",
    "lito_map"
   ]
  },
  {
   "cell_type": "markdown",
   "metadata": {},
   "source": [
    "<a id='3'></a>\n",
    "## Análise geral"
   ]
  },
  {
   "cell_type": "markdown",
   "metadata": {},
   "source": [
    "##### Forma dos dados"
   ]
  },
  {
   "cell_type": "code",
   "execution_count": null,
   "metadata": {},
   "outputs": [],
   "source": [
    "print(\"O banco de dados apresenta:\")\n",
    "print(f\"   - {df.shape[0]} instâncias\")\n",
    "print(f\"   - {df.shape[1]} colunas\")"
   ]
  },
  {
   "cell_type": "markdown",
   "metadata": {},
   "source": [
    "##### Sumário dos dados"
   ]
  },
  {
   "cell_type": "code",
   "execution_count": null,
   "metadata": {},
   "outputs": [],
   "source": [
    "datadict = pd.DataFrame(df.dtypes)\n",
    "datadict[\"Valores Faltantes\"] = df.isnull().sum()\n",
    "datadict[\"Valores Únicos\"] = df.nunique()\n",
    "datadict[\"Contagem\"] = df.count()\n",
    "datadict = datadict.rename(columns = {0 : 'dType'})\n",
    "datadict"
   ]
  },
  {
   "cell_type": "markdown",
   "metadata": {},
   "source": [
    "- Os dados geofísicos são do tipo *float64*;\n",
    "\n",
    "- Os sensores remotos são do tipo *int64*;\n",
    "\n",
    "- Não há valores faltantes no banco de dados;\n",
    "\n",
    "- `ID_UNID` representa o *target*;\n",
    "\n",
    "- `UNID` representa as siglas litoestratigráficas do *target* `ID_UNID`;\n",
    "\n",
    "- `COD_UNID` representa os códigos litoestratigráficos do *target* `ID_UNID`;\n",
    "    \n",
    "- Todas as (possíveis) *features* são numéricas (*float* ou *int*)."
   ]
  },
  {
   "cell_type": "markdown",
   "metadata": {},
   "source": [
    "##### Renomeação das features"
   ]
  },
  {
   "cell_type": "code",
   "execution_count": null,
   "metadata": {},
   "outputs": [],
   "source": [
    "# Dicionário para renomeação\n",
    "dic_rename = {'X_UTM_23S_SIRGAS'  : 'X_SIR',\n",
    "              'Y_UTM_23S_SIRGAS'  : 'Y_SIR',\n",
    "              'SIGNAL'            : 'GT',\n",
    "              'K_PERC'            : 'K',\n",
    "              'TH_PPM'            : 'TH',\n",
    "              'U_PPM'             : 'U',\n",
    "              'TC_EXP'            : 'CT',\n",
    "              'LAND7_R'           : 'R',\n",
    "              'LAND7_G'           : 'G',\n",
    "              'LAND7_B'           : 'B',\n",
    "              'ID_UNID'           : 'TARGET',\n",
    "              'COD_UNID'          : 'COD'\n",
    "             }\n",
    "\n",
    "df.rename(columns = dic_rename, inplace = True);"
   ]
  },
  {
   "cell_type": "markdown",
   "metadata": {},
   "source": [
    "##### Visualização das primeiras linhas do banco de dados"
   ]
  },
  {
   "cell_type": "code",
   "execution_count": null,
   "metadata": {},
   "outputs": [],
   "source": [
    "df.head(10)"
   ]
  },
  {
   "cell_type": "markdown",
   "metadata": {},
   "source": [
    "<a id='4'></a>\n",
    "## Variáveis globais & funções auxiliares"
   ]
  },
  {
   "cell_type": "markdown",
   "metadata": {},
   "source": [
    "##### Variáveis globais"
   ]
  },
  {
   "cell_type": "code",
   "execution_count": null,
   "metadata": {},
   "outputs": [],
   "source": [
    "# features\n",
    "FEAT = ['GT', 'K', 'TH', 'U', 'CT', 'U_K', 'TH_K',\n",
    "        'U_TH', 'MDT', 'MDE', 'B01', 'B02', 'B03',\n",
    "        'B04', 'B05', 'B06', 'B07', 'B08', 'B09',\n",
    "        'R', 'G', 'B']\n",
    "\n",
    "# dados geofísicos\n",
    "GF = ['GT', 'K', 'TH', 'U', 'CT',\n",
    "      'U_K', 'TH_K', 'U_TH']\n",
    "\n",
    "# canais radiométricos\n",
    "RADIO = ['K', 'TH', 'U']\n",
    "\n",
    "# sensores remotos\n",
    "SR = ['MDT', 'MDE', 'B01', 'B02','B03', 'B04', 'B05',\n",
    "      'B06', 'B07', 'B08', 'B09', 'R', 'G', 'B']\n",
    "\n",
    "# coordenadas em sirgas\n",
    "COORD = ['X_SIR', 'Y_SIR']\n",
    "\n",
    "# dicionário litoestratigráfico\n",
    "dic_lith = {}\n",
    "for k, v1, v2 in zip(df['TARGET'].unique(), df['UNID'].unique(), df['COD'].unique()):\n",
    "    dic_lith[k] = [v1, v2]\n",
    "    \n",
    "# Dicionário de features\n",
    "titles = ['Gradiente Total (nT/m)', 'K (%)', 'Th (ppm)', 'U (ppm)',\n",
    "          'Contagem Total (μR/h)', 'U/K', 'Th/K', 'U/Th', 'MDT (m)',\n",
    "          'MDE (m)', 'Landsat8 - 01', 'Landsat8 - 02', 'Landsat8 - 03',\n",
    "          'Landsat8 - 04', 'Landsat8 - 05', 'Landsat8 - 06', 'Landsat8 - 07',\n",
    "          'Landsat8 - 08', 'Landsat8 - 09', 'Landsat7 - Vermelho', 'Landsat7 - Verde',\n",
    "          'Landsat7 - Azul']\n",
    "dic_features = {}\n",
    "for f, t in zip(FEAT, titles):\n",
    "    dic_features[f] = t"
   ]
  },
  {
   "cell_type": "markdown",
   "metadata": {},
   "source": [
    "##### Parâmetros dos gráficos"
   ]
  },
  {
   "cell_type": "code",
   "execution_count": null,
   "metadata": {},
   "outputs": [],
   "source": [
    "# fonte: Times New Roman, tamanho: 12\n",
    "plt.rcParams.update({'font.family':'Times New Roman', 'font.size' : 12})\n",
    "\n",
    "fs_title = 16    # tamanho da fonte dos títulos\n",
    "cm = 'jet'       # mapa de cores\n",
    "mk = 's'         # estilo do marcador (quadrado)\n",
    "sz = 1           # tamanho do marcador    \n",
    "col = 'orange'   # cor dos histogramas\n",
    "ec = 'black'     # cor das bordas dos histogramas"
   ]
  },
  {
   "cell_type": "markdown",
   "metadata": {},
   "source": [
    "##### truncateVar(data :: dataframe, col :: string)\n",
    "\n",
    "Realiza o truncamento de uma variável radiométrica `col`, tendo como referência os limiares inferior (*lower*) e superior (*upper*):"
   ]
  },
  {
   "cell_type": "code",
   "execution_count": null,
   "metadata": {},
   "outputs": [],
   "source": [
    "def truncateVar(data = None, col = None):\n",
    "\n",
    "    lower = data[col].mean() / 10\n",
    "    upper = data[col].quantile(0.995)\n",
    "    var_trunc = []\n",
    "    \n",
    "    for v in data[col]:\n",
    "        if v <= lower:\n",
    "            v = lower\n",
    "            var_trunc.append(v)\n",
    "        elif v >= upper:\n",
    "            v = upper\n",
    "            var_trunc.append(v)\n",
    "        else:\n",
    "            var_trunc.append(v)\n",
    "        \n",
    "    return pd.Series(var_trunc)"
   ]
  },
  {
   "cell_type": "markdown",
   "metadata": {},
   "source": [
    "##### sumStats(df :: dataframe)\n",
    "\n",
    "Cria um sumário estatístico completo de um dataframe `df`."
   ]
  },
  {
   "cell_type": "code",
   "execution_count": null,
   "metadata": {},
   "outputs": [],
   "source": [
    "def sumStats(df = None):\n",
    "    stats = df.describe(percentiles = [0.1, 0.5, 0.995]).T\n",
    "\n",
    "    stats['Amp'] = (df.max() - df.min()).tolist() # amplitude\n",
    "    stats['S²'] = df.var().tolist() # variância\n",
    "    stats['Cᵥ'] = (df.std() / df.mean()).tolist() # coeficiente de variação\n",
    "    stats['Skew'] = df.skew().tolist() # coeficiente de assimetria\n",
    "    stats = stats.rename(columns={'mean':'X̅','std':'S','min':'Min','max':'Max'})\n",
    "    \n",
    "    return stats[['X̅', '50%', 'Min','10%','99.5%','Max','Amp','S²','S','Cᵥ','Skew']]"
   ]
  },
  {
   "cell_type": "markdown",
   "metadata": {},
   "source": [
    "##### plotBoxplots(cols :: list)\n",
    "\n",
    "Plota `n` boxplots, sendo `n` o número de features presentes na lista `cols`."
   ]
  },
  {
   "cell_type": "code",
   "execution_count": null,
   "metadata": {},
   "outputs": [],
   "source": [
    "def plotBoxplots(cols = None):\n",
    "    \n",
    "    n = len(cols)\n",
    "    fig, axs = plt.subplots(n,1,figsize = (12, n * 2))\n",
    "    \n",
    "    for ax, f in zip(axs, cols):\n",
    "        sns.boxplot(y = f, x = 'COD', data = df, ax = ax)\n",
    "        if f != cols[n - 1]:\n",
    "            ax.axes.get_xaxis().set_visible(False)"
   ]
  },
  {
   "cell_type": "markdown",
   "metadata": {},
   "source": [
    "##### sumByLito(f :: string)\n",
    "\n",
    "Cria um sumário estatístico completo de uma feature `f` agrupado pelas unidades litoestratigráficas."
   ]
  },
  {
   "cell_type": "code",
   "execution_count": null,
   "metadata": {},
   "outputs": [],
   "source": [
    "def sumByLito(f = None):\n",
    "    \n",
    "    table = df[['COD', f]].groupby(by = 'COD')\n",
    "    stats = table.describe(percentiles = [0.1,0.995])\n",
    "    \n",
    "    return stats.T"
   ]
  },
  {
   "cell_type": "markdown",
   "metadata": {},
   "source": [
    "##### histByLito(f :: string)\n",
    "\n",
    "Plota histogramas de uma feature `f` agrupados pelas unidades litoestratigráficas."
   ]
  },
  {
   "cell_type": "code",
   "execution_count": null,
   "metadata": {},
   "outputs": [],
   "source": [
    "def histByLito(f = None):\n",
    "    \n",
    "    df[f].hist(by = df['COD'],\n",
    "                 figsize = (12, 9),\n",
    "                 edgecolor = ec,\n",
    "                 color = col)\n",
    "    plt.tight_layout();"
   ]
  },
  {
   "cell_type": "markdown",
   "metadata": {},
   "source": [
    "<a id='5'></a>\n",
    "\n",
    "## Limpeza dos dados"
   ]
  },
  {
   "cell_type": "markdown",
   "metadata": {},
   "source": [
    "##### Sumário estatístico das features geofísicas"
   ]
  },
  {
   "cell_type": "code",
   "execution_count": null,
   "metadata": {},
   "outputs": [],
   "source": [
    "df[GF].describe(percentiles = [0.10, 0.25, 0.50, 0.75, 0.995]).T"
   ]
  },
  {
   "cell_type": "code",
   "execution_count": null,
   "metadata": {},
   "outputs": [],
   "source": [
    "# número de valores negativos de K\n",
    "df.query('K < 0')['K'].count()"
   ]
  },
  {
   "cell_type": "markdown",
   "metadata": {},
   "source": [
    "- Presença de 88 exemplos com valores negativos de `K`."
   ]
  },
  {
   "cell_type": "markdown",
   "metadata": {},
   "source": [
    "##### Truncamento das  variáveis radiométricas\n",
    "\n",
    "- Nesta etapa, devemos truncar as variáveis radiométricas principais (*i.e.*, `K`, `TH` e `U`), utilizando a função auxiliar `truncateVar()`."
   ]
  },
  {
   "cell_type": "code",
   "execution_count": null,
   "metadata": {},
   "outputs": [],
   "source": [
    "# Truncamento da features radiométricas (K, U, TH):\n",
    "for r in RADIO:\n",
    "    df[r] = truncateVar(data = df, col = r)"
   ]
  },
  {
   "cell_type": "code",
   "execution_count": null,
   "metadata": {},
   "outputs": [],
   "source": [
    "# sumário estatístico após o truncamento\n",
    "df[GF].describe(percentiles = [0.10, 0.25, 0.50, 0.75, 0.995]).T"
   ]
  },
  {
   "cell_type": "markdown",
   "metadata": {},
   "source": [
    "- Repare que o truncamento foi realizado com êxito. Após esse tratamento, os valores máximos das variáveis correspondem aos seus P99.5 originais, ao passo que seus valores mínimos correspondem um décimo das médias originais. "
   ]
  },
  {
   "cell_type": "markdown",
   "metadata": {},
   "source": [
    "<a id='6'></a>\n",
    "## Análise exploratória"
   ]
  },
  {
   "cell_type": "markdown",
   "metadata": {},
   "source": [
    "### Visualização espacial das features"
   ]
  },
  {
   "cell_type": "code",
   "execution_count": null,
   "metadata": {},
   "outputs": [],
   "source": [
    "# criação de uma cópia do dataframe\n",
    "df_plt = df.copy(deep = True)\n",
    "\n",
    "# divisão realizada para fins de plotagem\n",
    "df_plt['Y_SIR'] = df_plt['Y_SIR'] / 10E5"
   ]
  },
  {
   "cell_type": "code",
   "execution_count": null,
   "metadata": {},
   "outputs": [],
   "source": [
    "# layout dos plots\n",
    "fig, axs = plt.subplots(nrows = 4, ncols = 6, figsize = (15, 15))\n",
    "\n",
    "# coordenadas X e Y\n",
    "X, Y = COORD[0], COORD[1]\n",
    "\n",
    "# plotagem dos mapas das features\n",
    "for ax, f in zip(axs.flat, dic_features):\n",
    "    g = ax.scatter(data = df_plt, x = X, y = Y, c = f, cmap = cm, s = sz, marker = mk)\n",
    "    fig.colorbar(g, ax = ax)\n",
    "    ax.set_title(str(dic_features[f]), size = fs_title)\n",
    "\n",
    "# layout ajustado\n",
    "plt.tight_layout();"
   ]
  },
  {
   "cell_type": "markdown",
   "metadata": {},
   "source": [
    "<a id='6_1'></a>\n",
    "### Descrição univariada"
   ]
  },
  {
   "cell_type": "markdown",
   "metadata": {},
   "source": [
    "##### Estatísticas dos dados geofísicos"
   ]
  },
  {
   "cell_type": "code",
   "execution_count": null,
   "metadata": {},
   "outputs": [],
   "source": [
    "sumStats(df = df[GF])"
   ]
  },
  {
   "cell_type": "code",
   "execution_count": null,
   "metadata": {
    "scrolled": false
   },
   "outputs": [],
   "source": [
    "fig, axs = plt.subplots(nrows = 2, ncols = 4, figsize = (12, 6))\n",
    "\n",
    "for ax, gf in zip(axs.flat, GF):\n",
    "    g = ax.hist(df[gf], color = col, edgecolor = ec)\n",
    "    ax.set_title(str(dic_features[gf]), size = fs_title)\n",
    "\n",
    "plt.tight_layout();"
   ]
  },
  {
   "cell_type": "markdown",
   "metadata": {},
   "source": [
    "- Todas as features geofísicas apresentam distribuições assimétricas positivas;\n",
    "\n",
    "- As features geofísicas tendem a ser as mais erráticas do banco de dados, com destaque para o **Gradiente Total** que, por sua vez, apresenta um Cᵥ ~ 1.04."
   ]
  },
  {
   "cell_type": "markdown",
   "metadata": {},
   "source": [
    "##### Estatísticas dos sensores remotos"
   ]
  },
  {
   "cell_type": "code",
   "execution_count": null,
   "metadata": {
    "scrolled": true
   },
   "outputs": [],
   "source": [
    "sumStats(df = df[SR])"
   ]
  },
  {
   "cell_type": "code",
   "execution_count": null,
   "metadata": {},
   "outputs": [],
   "source": [
    "fig, axs = plt.subplots(nrows = 4, ncols = 4, figsize = (13, 12))\n",
    "\n",
    "for ax, sr in zip(axs.flat, SR):\n",
    "    g = ax.hist(df[sr], color = col, edgecolor = ec)\n",
    "    ax.set_title(str(dic_features[sr]), size = fs_title)\n",
    "\n",
    "plt.tight_layout();"
   ]
  },
  {
   "cell_type": "markdown",
   "metadata": {},
   "source": [
    "- A grande maioria dos sensores remotos apresentam distribuições assimétricas positivas ou quase simétricas;\n",
    "\n",
    "- Apenas três features apresentam distribuições assimétricas negativas: **MDE**, **MDT** e **Landsat7 - Vermelho**.\n",
    "\n",
    "- Em geral, os sensores remotos tendem a ser pouco erráticos, com destaque para a **Banda Landsat8 - 09** que, por sua vez, apresenta um Cᵥ ~ 0.03."
   ]
  },
  {
   "cell_type": "markdown",
   "metadata": {},
   "source": [
    "##### Análise da dispersão das features"
   ]
  },
  {
   "cell_type": "code",
   "execution_count": null,
   "metadata": {},
   "outputs": [],
   "source": [
    "disp = sumStats(df = df[FEAT]).sort_values(by = 'Cᵥ', ascending = False)['Cᵥ']\n",
    "\n",
    "plt.figure(figsize = (12,4))\n",
    "\n",
    "plt.bar(x = disp.index, height = disp.values,\n",
    "       color = col, edgecolor = ec)\n",
    "\n",
    "plt.title(\"Dispersão das features\", size = fs_title)\n",
    "plt.xticks(rotation = 45)\n",
    "plt.ylabel(\"Cᵥ\", size = fs_title);"
   ]
  },
  {
   "cell_type": "markdown",
   "metadata": {},
   "source": [
    "- Os sensores remotos tendem a ser muito pouco erráticos (Cᵥ < 0.2), com exceção das features `R`, `G` e `B` que, por sua vez, encontram-se entre as 10 features mais erráticas;\n",
    "\n",
    "- Os dados geofísicos são, em geral os que apresentam maior dispersão, com exceção da razão `U_TH`."
   ]
  },
  {
   "cell_type": "markdown",
   "metadata": {},
   "source": [
    "##### Gráfico de barras unidades litoestratigráficas"
   ]
  },
  {
   "cell_type": "code",
   "execution_count": null,
   "metadata": {},
   "outputs": [],
   "source": [
    "labels = df.COD.value_counts().sort_values().index\n",
    "values = df.COD.value_counts().sort_values().values\n",
    "\n",
    "plt.figure(figsize = (10, 6))\n",
    "\n",
    "p = sns.countplot(y = 'COD', data = df, color = col, edgecolor = ec, order = labels)\n",
    "\n",
    "for i, v in enumerate(values):\n",
    "    p.text(v + 30, i, str(v), va='center', size = 14)\n",
    "    \n",
    "plt.title(\"Frequência das unidades litoestratigráficas\", size = fs_title)\n",
    "plt.xlabel(\"Frequência absoluta\", size = 14)\n",
    "plt.xticks(np.arange(0, 6000, 500))\n",
    "plt.ylabel(\"\");"
   ]
  },
  {
   "cell_type": "markdown",
   "metadata": {},
   "source": [
    "- As 3 unidades litoestratigráficas mais frequentes (`Fm_SJC`, `Fm_SB_E` e `Fm_BG`) representam mais de 80% do total de ocorrências;\n",
    "\n",
    "- Portanto, as classes estão claramente desbalanceadas e algumas abordagens serão conduzidas posteriormente para lidar com esse problema."
   ]
  },
  {
   "cell_type": "markdown",
   "metadata": {},
   "source": [
    "<a id='6_2'></a>\n",
    "### Descrição bivariada"
   ]
  },
  {
   "cell_type": "markdown",
   "metadata": {},
   "source": [
    "##### Mapa de calor - coeficiente de correlação de Spearman"
   ]
  },
  {
   "cell_type": "code",
   "execution_count": null,
   "metadata": {},
   "outputs": [],
   "source": [
    "mx_spear = df[FEAT].corr(method = 'spearman').round(1)\n",
    "\n",
    "mask = np.triu(np.ones_like(mx_spear, dtype = np.bool))\n",
    "\n",
    "plt.figure(figsize = (13, 13))\n",
    "plt.title ('Heatmap de correlação rankeada entre features', size = fs_title)\n",
    "\n",
    "ax = sns.heatmap(\n",
    "                 mx_spear,\n",
    "                 annot = True,\n",
    "                 cmap = 'coolwarm',\n",
    "                 cbar = True,\n",
    "                 mask = mask\n",
    "                )\n",
    "\n",
    "ax.set_xticklabels(FEAT, rotation = 45)\n",
    "ax.set_yticklabels(FEAT, rotation = 0);"
   ]
  },
  {
   "cell_type": "markdown",
   "metadata": {},
   "source": [
    "##### Mapa de calor - Coeficiente de Correlação de Pearson"
   ]
  },
  {
   "cell_type": "code",
   "execution_count": null,
   "metadata": {},
   "outputs": [],
   "source": [
    "mx_pear = df[FEAT].corr().round(1)\n",
    "\n",
    "mask = np.triu(np.ones_like(mx_pear, dtype = np.bool))\n",
    "\n",
    "plt.figure(figsize = (13, 13))\n",
    "plt.title ('Heatmap de correlação linear entre features', size = fs_title)\n",
    "\n",
    "ax = sns.heatmap(\n",
    "                 mx_pear,\n",
    "                 annot = True,\n",
    "                 cmap = 'coolwarm',\n",
    "                 cbar = True,\n",
    "                 mask = mask\n",
    "                )\n",
    "\n",
    "ax.set_xticklabels(FEAT, rotation = 45)\n",
    "ax.set_yticklabels(FEAT, rotation = 0);"
   ]
  },
  {
   "cell_type": "markdown",
   "metadata": {},
   "source": [
    "- As features `U`, `TH` e `K` apresentam correlações lineares positivas médias a fortes entre si;\n",
    "\n",
    "- As features `U`, `TH` e `K` apresentam forte correlação linear positiva com a variável `CT`, o que já era esperado;\n",
    "\n",
    "- As features `U_K`, `TH_K`, `U_TH` apresentam forte correlação linear positiva com os canais rediométricos.\n",
    "\n",
    "- A feature `GT` não apresenta correlação (linear ou monotônica) significativa com nenhuma outra feature;\n",
    "\n",
    "- As features Landsat 8 apresentam fortíssimas correlações lineares entre si. Esse fato pode implicar em multicolinearidade e deve ser tratado cautelosamente caso um algoritmo linear seja utilizado.As únicas exceções são `B05` e `B09`;\n",
    "\n",
    "- As features `MDE` e `MDT` são particamente idênticas e, por essa razão, a primeira será descartada;\n",
    "\n",
    "- A feature `MDT` apresenta uma correlação linear negativa média com `U`. Esse fato é interessante e deve ser investigado!"
   ]
  },
  {
   "cell_type": "markdown",
   "metadata": {},
   "source": [
    "##### Features geofísicas x target"
   ]
  },
  {
   "cell_type": "code",
   "execution_count": null,
   "metadata": {},
   "outputs": [],
   "source": [
    "plotBoxplots(cols = GF);"
   ]
  },
  {
   "cell_type": "markdown",
   "metadata": {},
   "source": [
    "- As features radiométricas apresentam uma variabilidade significativa quando agrupadas pelas unidades litoestratigráficas. Essas variáveis possivelmente serão as **mais importantes** para treinar os modelos;\n",
    "\n",
    "- Em contrapartida, a variável magnetométrica `GT` apresenta-se praticamente estacionária quando agrupada pelas unidades."
   ]
  },
  {
   "cell_type": "markdown",
   "metadata": {},
   "source": [
    "##### Sensores remotos x target"
   ]
  },
  {
   "cell_type": "code",
   "execution_count": null,
   "metadata": {},
   "outputs": [],
   "source": [
    "plotBoxplots(cols = SR);"
   ]
  },
  {
   "cell_type": "markdown",
   "metadata": {},
   "source": [
    "- As features Landsat 8 apresentam uma variabilidade extremamente baixa quando agrupadas pelas unidades. Nesse sentido, possivelmente, essas variáveis não serão úteis para treinar os modelos;\n",
    "\n",
    "- Em contrapartida, as features geofísicas, juntamente com `MDE` / `MDT`, `R`, `G` e `B`, apresentam uma dispersão significativa quando agrupadas pelas unidades. Essas variáveis possivelmente contribuirão positivamente para as predições."
   ]
  },
  {
   "cell_type": "markdown",
   "metadata": {},
   "source": [
    "##### Estatísticas de K (%) por unidade litoestratigráfica"
   ]
  },
  {
   "cell_type": "code",
   "execution_count": null,
   "metadata": {},
   "outputs": [],
   "source": [
    "sumByLito(f = 'K')"
   ]
  },
  {
   "cell_type": "code",
   "execution_count": null,
   "metadata": {},
   "outputs": [],
   "source": [
    "histByLito(f = 'K');"
   ]
  },
  {
   "cell_type": "markdown",
   "metadata": {},
   "source": [
    "- As unidades que apresentam MAIORES concentrações de `K` são **PP4esbd** e **PP3csbg**;\n",
    "\n",
    "- As unidades que apresentam MENORES concentrações de `K` são **PP4egm** e **PP4esbf**."
   ]
  },
  {
   "cell_type": "markdown",
   "metadata": {},
   "source": [
    "##### Estatísticas de U (ppm) por unidade litoestratigráfica"
   ]
  },
  {
   "cell_type": "code",
   "execution_count": null,
   "metadata": {
    "scrolled": true
   },
   "outputs": [],
   "source": [
    "sumByLito(f = 'U')"
   ]
  },
  {
   "cell_type": "code",
   "execution_count": null,
   "metadata": {},
   "outputs": [],
   "source": [
    "histByLito(f = 'U');"
   ]
  },
  {
   "cell_type": "markdown",
   "metadata": {},
   "source": [
    "- As unidades que apresentam MAIORES concentrações de `U` são **MAcgg** e **PP3csbg**;\n",
    "\n",
    "- As unidades que apresentam MENORES concentrações de `U` são **PP4egm** e **PP4esbf**."
   ]
  },
  {
   "cell_type": "markdown",
   "metadata": {},
   "source": [
    "##### Estatísticas de Th (ppm) por unidade litoestratigráfica"
   ]
  },
  {
   "cell_type": "code",
   "execution_count": null,
   "metadata": {
    "scrolled": false
   },
   "outputs": [],
   "source": [
    "sumByLito(f = 'TH')"
   ]
  },
  {
   "cell_type": "code",
   "execution_count": null,
   "metadata": {
    "scrolled": false
   },
   "outputs": [],
   "source": [
    "histByLito(f = 'TH');"
   ]
  },
  {
   "cell_type": "markdown",
   "metadata": {},
   "source": [
    "- As unidades que apresentam MAIORES concentrações de `TH` são **MAcgg** e **PP3csbg** (mesmas do `U`);\n",
    "\n",
    "- As unidades que apresentam MENORES concentrações de `TH` são **PP4egm** e **PP4esbf** (mesmas do `U`)."
   ]
  },
  {
   "cell_type": "markdown",
   "metadata": {},
   "source": [
    "##### Estatísticas de contagem total (μR/h) por unidade litoestratigráfica"
   ]
  },
  {
   "cell_type": "code",
   "execution_count": null,
   "metadata": {},
   "outputs": [],
   "source": [
    "sumByLito(f = 'CT')"
   ]
  },
  {
   "cell_type": "code",
   "execution_count": null,
   "metadata": {},
   "outputs": [],
   "source": [
    "histByLito(f = 'CT');"
   ]
  },
  {
   "cell_type": "markdown",
   "metadata": {},
   "source": [
    "- As unidades que apresentam MAIORES concentrações de `CT` são **MAcgg** e **PP3csbg** (mesmas do `U` e `TH`);\n",
    "\n",
    "- As unidades que apresentam MENORES concentrações de `CT` são **PP4egm** e **PP4esbf** (mesmas do `U` e `TH`)."
   ]
  },
  {
   "cell_type": "markdown",
   "metadata": {},
   "source": [
    "##### Estatísticas do gradiente total (nT/m) por unidade litoestratigráfica"
   ]
  },
  {
   "cell_type": "code",
   "execution_count": null,
   "metadata": {},
   "outputs": [],
   "source": [
    "sumByLito(f = 'GT')"
   ]
  },
  {
   "cell_type": "code",
   "execution_count": null,
   "metadata": {},
   "outputs": [],
   "source": [
    "histByLito(f = 'GT');"
   ]
  },
  {
   "cell_type": "markdown",
   "metadata": {},
   "source": [
    "- As unidades que apresentam MAIORES respostas de `GT` são **PP4esbd** e **PP3csbg**;\n",
    "\n",
    "- As unidades que apresentam MENORES respostas de `GT` são **PP4esbf** e **PP4egm**."
   ]
  },
  {
   "cell_type": "markdown",
   "metadata": {},
   "source": [
    "<a id='7'></a>\n",
    "## Exportação dos dados\n",
    "\n",
    "Os dados serão exportados (`data_nb2.csv`) para serem utilizados como input no [notebook2.ipynb](https://github.com/fnaghetini/Mapa-Preditivo/blob/notebook2/notebook2.ipynb)."
   ]
  },
  {
   "cell_type": "code",
   "execution_count": null,
   "metadata": {},
   "outputs": [],
   "source": [
    "# colunas a serem descartadas\n",
    "drop_cols = ['LINE','X','Y','MDE']\n",
    "\n",
    "# exclusão das colunas\n",
    "df.drop(drop_cols, axis = 1, inplace = True)\n",
    "\n",
    "# renomeação das coordenadas\n",
    "df.rename(columns = {'X_SIR' : 'X', 'Y_SIR' : 'Y'}, inplace = True)\n",
    "\n",
    "# exportação dados dados\n",
    "df.to_csv('data/data_nb2.csv', header = True, index = False)"
   ]
  }
 ],
 "metadata": {
  "kernelspec": {
   "display_name": "Python 3",
   "language": "python",
   "name": "python3"
  },
  "language_info": {
   "codemirror_mode": {
    "name": "ipython",
    "version": 3
   },
   "file_extension": ".py",
   "mimetype": "text/x-python",
   "name": "python",
   "nbconvert_exporter": "python",
   "pygments_lexer": "ipython3",
   "version": "3.6.10"
  }
 },
 "nbformat": 4,
 "nbformat_minor": 2
}
