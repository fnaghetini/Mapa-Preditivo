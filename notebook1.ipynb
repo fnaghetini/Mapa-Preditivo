{
 "cells": [
  {
   "cell_type": "markdown",
   "metadata": {},
   "source": [
    "# Notebook 1 - Mapa Geológico Preditivo\n",
    "\n",
    "### Limpeza & análise exploratória dos dados\n",
    "\n",
    "##### Trabalho de Conclusão de Curso - Geologia / IGC / UFMG\n",
    "\n",
    "Autores: [Franco Naghetini](https://github.com/fnaghetini) & [Guilherme Silveira](https://github.com/guiasilveira)"
   ]
  },
  {
   "cell_type": "markdown",
   "metadata": {},
   "source": [
    "## Introdução\n",
    "\n",
    "De forma geral, a **teoria do aprendizado estatístico supervisionado** visa aprender uma função desconhecida $f\\colon x \\mapsto y$ por meio do treinamento de um  agente  com exemplos $\\left\\{(x^{(1)},y^{(1)}), (x^{(2)},y^{(2)}),\\ldots,(x^{(n)},y^{(n)})\\right\\}$ de entrada e saída da função.\n",
    "\n",
    "Nesse sentido, o objetivo deste trabalho é solucionar uma tarefa supervisionada de classificação multinomial $T$ que consiste em predizer as unidades litoestratigráficas $y^{(i)}$ em um determinado domínio $D$ como função de sensores remotos $x_i$ e com base em anotações / interpretações $y^{(i)} = f(x^{(i)})$ feitas pelos geólogos que realizaram o mapeamento da área.\n",
    "\n",
    "O produto final é um **mapa geológico preditivo 1:25.000 da região de Diamantina (MG)** que pode ser utilizado como um meio de reconciliação entre os dados / interpretações de campo e os sensores remotos. Nesse sentido, as inconsistências entre o mapa geológico e o mapa preditivo podem fornecer *insights* e orientar futuras campanhas de mapeamento na região."
   ]
  },
  {
   "cell_type": "markdown",
   "metadata": {},
   "source": [
    "## Sumário\n",
    "\n",
    "<big><big>[Contexto geológico](#0)</big></big>\n",
    "\n",
    "<big><big>[Configurações iniciais](#1)</big></big>\n",
    "\n",
    "<big><big>[Visualização geoespacial](#2)</big></big>\n",
    "\n",
    "<big><big>[Análise geral](#3)</big></big>\n",
    "\n",
    "<big><big>[Variáveis globais & funções auxiliares](#4)</big></big>\n",
    "\n",
    "<big><big>[Limpeza dos dados](#5)</big></big>\n",
    "\n",
    "<big><big>[Análise exploratória](#6)</big></big>\n",
    "\n",
    "<big><big>[Descrição univariada](#6_1)</big></big>\n",
    "\n",
    "<big><big>[Descrição bivariada](#6_2)</big></big>\n",
    "\n",
    "\n",
    "<big><big>[Exportação dos dados](#7)</big></big>"
   ]
  },
  {
   "cell_type": "markdown",
   "metadata": {},
   "source": [
    "<a id='0'></a>\n",
    "## Contexto geológico\n",
    "\n",
    " A área de estudo está localizada no Sudeste brasileiro próximo a cidade de Diamantina no contexto geotectônico da borda leste do Cráton São Francisco. A Serra do Espinhaço (SDE) estende-se por mais de 1200 Km em direção meridiana (Knauer, 2007), indo desde a borda Leste do Quadrilátero Ferrífero até o norte do estado da Bahia. A SDE pode ser dividida nos domínios setentrional e meridional, sendo a área de estudo pertencente à essa última. A parte Meridional, localizada no estado de Minas Gerais, possui um grande acervo de conhecimento geológico adquirido, principalmente, a partir da descoberta dos depósitos diamantíferos em diamantina (Knauer op.cit.), além disso, a área vem sendo estutada por décadas por centenas de alunos e professores de diversos institutos de geociências do país, a partir do programa de estagio supervisionado.\n",
    "\n",
    "Na região de estudo afloram principalmente os litotipos do Supergrupo Rio Paraúna definido por Fogaça et al. (1984), principalmente os xistos do Grupo Costa Sena e os quartzitos Formação Bandeirinha, alem das rochas basais do Supergrupo Espinhaço."
   ]
  },
  {
   "cell_type": "markdown",
   "metadata": {},
   "source": [
    "### Estratigrafia\n",
    "\n",
    "A estratigrafia da região de Diamantina foi amplamente discutida nas últimas décadas e uma de\n",
    "suas propostas foi feita por Almeida Abreu (1995), segundo a ***Figura 1***. Contudo, outros autores\n",
    "vêm propondo outras compartimentações para seus grupos e formações, como será discutido\n",
    "neste trabalho. Serão tratados os tópicos Embasamento, Supergrupo Rio Paraúna e Supergrupo\n",
    "Espinhaço.\n",
    "\n",
    "**Embasamento**\n",
    "\n",
    "O Complexo Basal da região da Serra do Espinhaço corresponde à faixa mediana-central da\n",
    "mesma, constituída por rochas graníticas, chamadas de Complexo Gouveia. Também ocorrem,\n",
    "ocasionalmente, rochas gnáissicas (Almeida Abreu, 1995; Knauer, 1990). Já no leste e sul, há\n",
    "ocorrência de gnaisses e granitos, charnockitos e granulitos subordinados (Almeida Abreu,\n",
    "1995). Segundo Knauer (1990), também se observa ocorrências menos expressivas de corpos\n",
    "anfibolíticos e produtos de sua milonitização.\n",
    "De acordo com Brito Neves et al. (1979) in Dossin et al. (1984), as rochas\n",
    "do embasamento incluem rochas graníticas e migmatíticas, além de, segundo Carvalho (1982)\n",
    "in Dossin et al. (1984), anatexitos, protomilonitos, milonitos, ultramilonitos e corpos isolados de\n",
    "anfibolitos.\n",
    "\n",
    "**Supergrupo Rio Paraúna**\n",
    "\n",
    "Sobreposto ao embasamento, encontra-se o Supergrupo Rio Paraúna que, segundo Fogaça et al.\n",
    "(1984) e Almeida Abreu (1995), são compostos pelo Grupo Pedro Pereira e pelo Grupo Costa\n",
    "Sena, da base para o topo. O Grupo Pedro Pereira é subdividido nas Unidades\n",
    "ultramáfica/máfica e vulcanossedimentar, enquanto o Grupo Costa Sena é composto pelas\n",
    "Formações Barão de Guaicuí e Bandeirinha, englobando sucessões epiclásticas finas e grossas,\n",
    "respectivamente (Fogaça et al. 1984).\n",
    "As definições do Grupo Pedro Pereira são feitas por Almeida Abreu (1995) descrevendo uma\n",
    "associação de rochas meta-máficas, ultramáficas, ácidas e também metassedimentos de origem\n",
    "química. Já o grupo Costa\n",
    "Sena é descrito como uma sequência de sericita-xistos com frequente presença de cianita por\n",
    "Almeida Abreu (1995), e como sequências marinha com vulcanismo ácido calcoalcalino e\n",
    "continental a até marinha rasa, correspondentes respectivamente às Formações Barão de Guaicuí\n",
    "e Bandeirinha, por Knauer (1990). \n",
    "\n",
    "**Supergrupo Espinhaço**\n",
    "\n",
    "Uma das primeiras divisões feitas para o pacote de rochas sobreposto ao Supergrupo Rio\n",
    "Paraúna foi proposta no trabalho de Pflug (1968), no qual menciona-se oito formações para a\n",
    "Série Minas, correspondente nesse estudo ao Supergrupo Espinhaço. Esse autor descreve a\n",
    "primeira delas, Formação São João da Chapada, como quartzitos médios a grossos com\n",
    "estratificações cruzadas, apresentando intercalações de seixos na base e lâminas de filito na\n",
    "porção superior. De acordo com Schöll & Fogaça (1979), essa formação se encontra na porção\n",
    "basal do Supergrupo e é composta por quartzitos metaconglomerados, filitos e metavulcânicas.\n",
    "Já Almeida Abreu (1995) a descreve como pertencente ao Grupo Guinda do Supergrupo\n",
    "Espinhaço, englobando uma sequência de sedimentos continentais com metavulcânicas\n",
    "intercaladas a eles.\n",
    "\n",
    "Acima da Formação São João da Chapada, segundo Pflug (1968), encontra-se a Formação Sopa\n",
    "Brumadinho, a qual possui principalmente quartzitos e filitos, por vezes intercalados por\n",
    "conglomerados polimíticos e monomíticos. Também foi observado pelo autor lentes de\n",
    "conglomerado e intercalações de brecha quartzítica e de filito hematítico. Almeida Abreu (1995)\n",
    "o coloca como pertencente ao Grupo Guinda, enquanto Schöll & Fogaça (1979) o encaixam na\n",
    "porção Basal do Supergrupo Espinhaço.\n",
    "A Formação é subdividida nos níveis D, E e F por Schöll & Fogaça (1979) in Knauer (1990),\n",
    "em cujo trabalho também se destaca as mineralizações diamantíferas pertencentes a ela. No\n",
    "nível D predominam filitos e quartzo-filitos, que podem variar lateral e/ou verticalmente para\n",
    "quartzitos micáceos (Knauer, 1990). O nível E é descrito como bastante heterogêneo,\n",
    "apresentando quartzitos, metaconglomerados, filitos, filitos hematíticos, metassiltitos e também\n",
    "xistos verdes (Knauer, 1990). O nível F é chamado, segundo Fogaça & Almeida Abreu (1982)\n",
    "in Knauer (1990), de Membro Campo Sampaio, marcando o topo da Formação. É composto por\n",
    "filitos acizentados com gradações para metassiltitos e metargilitos, incluindo lentes de\n",
    "quartzitos (Knauer, 1990). Almeida-Abreu (1993) in Knauer (2007) descreve os níveis E e F\n",
    "como membros Datas e Caldeirões, respectivamente.\n",
    "\n",
    "Pflug (1968) descreve a unidade disposta estratigraficamente acima da Formação Sopa\n",
    "Brumadinho,a Formação Galho do Miguel, como quartzitos puros com estratificações cruzadas e com lâminas muito pouco\n",
    "expressivas de filitos intercaladas. As estratificações observadas são comentadas por Schöll &\n",
    "Fogaça (1979) como mega estratificações cruzadas. A Formação se encontra englobada no\n",
    "Grupo Guinda de acordo com Knauer (1990) in Almeida Abreu (1995) e é relacionada, de\n",
    "acordo com suas características marcantes, a um ambiente de deposição eólico em Dossin et al.\n",
    "(1987) in Knauer (1990).\n",
    "Na proposta feita por Pflug (1968), acima da Formação Galho do Miguel encontram-se cinco\n",
    "unidades chamadas, da base para o topo, de Formações Santa Rita, Córrego dos Borges,\n",
    "Córrego da Bandeira, Córrego Pereira e Rio Pardo Grande que não são abordadas neste trabalho."
   ]
  },
  {
   "cell_type": "markdown",
   "metadata": {},
   "source": [
    "### Geologia Local\n",
    "\n",
    "As unidades geológicas da área desse estudo foram mapeadas na escala de 1:25.000 por alunos do curso de Geologia da UFMG, durante a disciplina Estágio Supervisionado. Dessa forma, as descrições das unidades apresentadas neste trabalho são resultantes dos relatórios elaborados por diversos alunos do curso de geologia, em especial aqueles da turma de 2018, cujo mapa é também usado neste trabalho.\n",
    "\n",
    "#### Complexo Granito-Gnáissico (MAcgg)\n",
    "\n",
    "Localizado ao sul da área, o Complexo Granito-Gnáissico é composto por uma variedade de rochas de composição granítica a granodioríticas.  Comumente apresentam uma mineralogia composta por quartzo, k-feldspato, plagioclásio, anfibólio, biotita e clorita. A textura dessas rochas varia desde uma textura granular ipidiomórfica, típica de rochas ígneas, até texturas migmatíticas, sendo, também comum, rochas com textura gnaíssica. Um importante aspecto dessa unidade é a alteração marcante dessas rochas que leva a formação de um saprólito areno-argiloso rosado muito espesso. \n",
    "\n",
    "#### Grupo Costa Sena\n",
    "\n",
    "##### Formação Barão de Guaicuí (PP3csbg)\n",
    "\n",
    "Essa unidade encontra-se na região sul e central da área de estudo e apresenta-se comuemnte como um quartzo-sericita xisto, podendo apresentar ainda biotita, muscovita e clorita em sua mineralogia principal e cianita, turmalina, especularita e magnetita como minerais acessórios. Essa unidade aflora em cristas, drenagens e em bordas de morro, com boa exposição. A alteração pode ser descrita como moderada a muito alterada, localmente. \n",
    "\n",
    "\n",
    "##### Formação Bandeirinha (PP34b)\n",
    "\n",
    "Localizada na porção central da área, a Fm. Bandeirinha é composta por quartzitos micáceos, brancos a rosados. Os quartzitos possuem uma granulação fina, com grãos de quartzo subarredondados a subangulosos e possuem uma matriz fina de cor rósea por conta de presença de óxidos de ferro. As micas (i.e., sericita e muscovita) marcam a presença de planos de foliação. As rochas dessa unidade são um típico exemplo de *red beds*, onde a presença de óxido de ferro na matriz é responsável pelo tom rosado a avermelhado da rocha. \n",
    "\n",
    "\n",
    "#### Supergrupo Espinhaço\n",
    "\n",
    "##### Grupo Guinda\n",
    "\n",
    "##### Formação São João da Chapada (PP4esjc)\n",
    " \n",
    "Sendo a unidade com maior cobertura em área, optou-se por questões de detalhamento tratar os níveis A, B e C como uma única unidade. Dessa forma, a Fm. São João da Chapada é composta por quartzitos, intercalados com filitos sericíticos e hematíticos. A granulação dos quartzitos pode variar de fina a grossa, podendo apresentar alguns níveis de quartzito conglomerático. Os filitos hematíticos são encontrados na unidade e são compostos predominantemente por hematita em sua variedade especular.\n",
    "\n",
    "##### Formação Sopa-Brumadinho (PP4esb)\n",
    "\n",
    "- *Nível D*\n",
    "\n",
    "Marcado pela presença de filito sericitico de cor cinza-esverdeado, podendo variar para porções mais quartzosas, chegando em alguns pontos a quartzitos muito finos. \n",
    "\n",
    "- *Nível E*\n",
    "\n",
    "Importante nível estratigráfico onde localizam-se os metaconglomerados diamantíferos, que podem ser descritos como para/orto-metaconglomerados polimíticos, apresentando seixos de quartzo, quartzito, gnaisses e do próprio conglomerado. Além do nível conglomerático, ocorrem quartzitos de granulação grossa, localmente conglomeráticos. Pode-se facilmente observar ainda uma tonalidade rósea nos quartzitos, quando alterados. \n",
    "\n",
    "- *Nível F*\n",
    "\n",
    "Este nível ocorre ao norte da área em duas faixas de sentido norte-sul. Composto principalmente por quartzitos de granulação areia fina a média, grão subesféricos e subarredondados. \n",
    "\n",
    "##### Formação Galho do Miguel (PP4egm)\n",
    "\n",
    "Ocorrendo nas bordas nordeste e sudoeste da área, essa unidade é formada por ortoquartzitos de granulação areia fina, loclamente com níveis de sericita de cor esverdeada. Apresenta mega estratos cruzados tabulares e acanalados. Rocha possui um cor branca, por vezes rósea e amarela e comumente apresenta-se com destaque no relevo na forma de “morrotes” de quartzito altos.\n"
   ]
  },
  {
   "cell_type": "markdown",
   "metadata": {},
   "source": [
    "<a id='1'></a>\n",
    "##  Configurações iniciais"
   ]
  },
  {
   "cell_type": "markdown",
   "metadata": {},
   "source": [
    "##### Importação de bibliotecas"
   ]
  },
  {
   "cell_type": "code",
   "execution_count": 1,
   "metadata": {
    "scrolled": true
   },
   "outputs": [],
   "source": [
    "import os                              # Sistema operacional\n",
    "import pandas as pd                    # Manipulação de dataframes e series\n",
    "import numpy as np                     # Operações numéricas\n",
    "import matplotlib.pyplot as plt        # Visualização de dados\n",
    "import seaborn as sns                  # Visualização de dados\n",
    "import statistics as stats             # Ferramentas estatísticas\n",
    "import scipy.stats as st               # Ferramentas estatísticas\n",
    "import geopandas as gpd                # Manipulação de dataframes e series geoespaciais\n",
    "import rasterio, folium                # Manipulação de rasters e mapas interativos\n",
    "import warnings                        # Desabilitar avisos\n",
    "warnings.filterwarnings(\"ignore\")\n",
    "\n",
    "%matplotlib inline"
   ]
  },
  {
   "cell_type": "markdown",
   "metadata": {},
   "source": [
    "##### Importação do banco de dados"
   ]
  },
  {
   "cell_type": "code",
   "execution_count": 2,
   "metadata": {},
   "outputs": [],
   "source": [
    "df_original = pd.read_csv(\"data/data_nb1.csv\",sep=\",\")"
   ]
  },
  {
   "cell_type": "code",
   "execution_count": 3,
   "metadata": {},
   "outputs": [],
   "source": [
    "# criação de uma cópia (deep) do dataframe original\n",
    "df = df_original.copy(deep = True)"
   ]
  },
  {
   "cell_type": "markdown",
   "metadata": {},
   "source": [
    "<a id='2'></a>\n",
    "## Visualização geoespacial"
   ]
  },
  {
   "cell_type": "markdown",
   "metadata": {},
   "source": [
    "##### Polígono da área"
   ]
  },
  {
   "cell_type": "code",
   "execution_count": 4,
   "metadata": {
    "scrolled": false
   },
   "outputs": [
    {
     "data": {
      "text/html": [
       "<div style=\"width:100%;\"><div style=\"position:relative;width:100%;height:0;padding-bottom:60%;\"><span style=\"color:#565656\">Make this Notebook Trusted to load map: File -> Trust Notebook</span><iframe src=\"about:blank\" style=\"position:absolute;width:100%;height:100%;left:0;top:0;border:none !important;\" data-html=%3C%21DOCTYPE%20html%3E%0A%3Chead%3E%20%20%20%20%0A%20%20%20%20%3Cmeta%20http-equiv%3D%22content-type%22%20content%3D%22text/html%3B%20charset%3DUTF-8%22%20/%3E%0A%20%20%20%20%0A%20%20%20%20%20%20%20%20%3Cscript%3E%0A%20%20%20%20%20%20%20%20%20%20%20%20L_NO_TOUCH%20%3D%20false%3B%0A%20%20%20%20%20%20%20%20%20%20%20%20L_DISABLE_3D%20%3D%20false%3B%0A%20%20%20%20%20%20%20%20%3C/script%3E%0A%20%20%20%20%0A%20%20%20%20%3Cstyle%3Ehtml%2C%20body%20%7Bwidth%3A%20100%25%3Bheight%3A%20100%25%3Bmargin%3A%200%3Bpadding%3A%200%3B%7D%3C/style%3E%0A%20%20%20%20%3Cstyle%3E%23map%20%7Bposition%3Aabsolute%3Btop%3A0%3Bbottom%3A0%3Bright%3A0%3Bleft%3A0%3B%7D%3C/style%3E%0A%20%20%20%20%3Cscript%20src%3D%22https%3A//cdn.jsdelivr.net/npm/leaflet%401.6.0/dist/leaflet.js%22%3E%3C/script%3E%0A%20%20%20%20%3Cscript%20src%3D%22https%3A//code.jquery.com/jquery-1.12.4.min.js%22%3E%3C/script%3E%0A%20%20%20%20%3Cscript%20src%3D%22https%3A//maxcdn.bootstrapcdn.com/bootstrap/3.2.0/js/bootstrap.min.js%22%3E%3C/script%3E%0A%20%20%20%20%3Cscript%20src%3D%22https%3A//cdnjs.cloudflare.com/ajax/libs/Leaflet.awesome-markers/2.0.2/leaflet.awesome-markers.js%22%3E%3C/script%3E%0A%20%20%20%20%3Clink%20rel%3D%22stylesheet%22%20href%3D%22https%3A//cdn.jsdelivr.net/npm/leaflet%401.6.0/dist/leaflet.css%22/%3E%0A%20%20%20%20%3Clink%20rel%3D%22stylesheet%22%20href%3D%22https%3A//maxcdn.bootstrapcdn.com/bootstrap/3.2.0/css/bootstrap.min.css%22/%3E%0A%20%20%20%20%3Clink%20rel%3D%22stylesheet%22%20href%3D%22https%3A//maxcdn.bootstrapcdn.com/bootstrap/3.2.0/css/bootstrap-theme.min.css%22/%3E%0A%20%20%20%20%3Clink%20rel%3D%22stylesheet%22%20href%3D%22https%3A//maxcdn.bootstrapcdn.com/font-awesome/4.6.3/css/font-awesome.min.css%22/%3E%0A%20%20%20%20%3Clink%20rel%3D%22stylesheet%22%20href%3D%22https%3A//cdnjs.cloudflare.com/ajax/libs/Leaflet.awesome-markers/2.0.2/leaflet.awesome-markers.css%22/%3E%0A%20%20%20%20%3Clink%20rel%3D%22stylesheet%22%20href%3D%22https%3A//cdn.jsdelivr.net/gh/python-visualization/folium/folium/templates/leaflet.awesome.rotate.min.css%22/%3E%0A%20%20%20%20%0A%20%20%20%20%20%20%20%20%20%20%20%20%3Cmeta%20name%3D%22viewport%22%20content%3D%22width%3Ddevice-width%2C%0A%20%20%20%20%20%20%20%20%20%20%20%20%20%20%20%20initial-scale%3D1.0%2C%20maximum-scale%3D1.0%2C%20user-scalable%3Dno%22%20/%3E%0A%20%20%20%20%20%20%20%20%20%20%20%20%3Cstyle%3E%0A%20%20%20%20%20%20%20%20%20%20%20%20%20%20%20%20%23map_b11361aa515b4050a772c23f30556397%20%7B%0A%20%20%20%20%20%20%20%20%20%20%20%20%20%20%20%20%20%20%20%20position%3A%20relative%3B%0A%20%20%20%20%20%20%20%20%20%20%20%20%20%20%20%20%20%20%20%20width%3A%20100.0%25%3B%0A%20%20%20%20%20%20%20%20%20%20%20%20%20%20%20%20%20%20%20%20height%3A%20100.0%25%3B%0A%20%20%20%20%20%20%20%20%20%20%20%20%20%20%20%20%20%20%20%20left%3A%200.0%25%3B%0A%20%20%20%20%20%20%20%20%20%20%20%20%20%20%20%20%20%20%20%20top%3A%200.0%25%3B%0A%20%20%20%20%20%20%20%20%20%20%20%20%20%20%20%20%7D%0A%20%20%20%20%20%20%20%20%20%20%20%20%3C/style%3E%0A%20%20%20%20%20%20%20%20%0A%3C/head%3E%0A%3Cbody%3E%20%20%20%20%0A%20%20%20%20%0A%20%20%20%20%20%20%20%20%20%20%20%20%3Cdiv%20class%3D%22folium-map%22%20id%3D%22map_b11361aa515b4050a772c23f30556397%22%20%3E%3C/div%3E%0A%20%20%20%20%20%20%20%20%0A%3C/body%3E%0A%3Cscript%3E%20%20%20%20%0A%20%20%20%20%0A%20%20%20%20%20%20%20%20%20%20%20%20var%20map_b11361aa515b4050a772c23f30556397%20%3D%20L.map%28%0A%20%20%20%20%20%20%20%20%20%20%20%20%20%20%20%20%22map_b11361aa515b4050a772c23f30556397%22%2C%0A%20%20%20%20%20%20%20%20%20%20%20%20%20%20%20%20%7B%0A%20%20%20%20%20%20%20%20%20%20%20%20%20%20%20%20%20%20%20%20center%3A%20%5B-18.3%2C%20-43.7%5D%2C%0A%20%20%20%20%20%20%20%20%20%20%20%20%20%20%20%20%20%20%20%20crs%3A%20L.CRS.EPSG3857%2C%0A%20%20%20%20%20%20%20%20%20%20%20%20%20%20%20%20%20%20%20%20zoom%3A%2012%2C%0A%20%20%20%20%20%20%20%20%20%20%20%20%20%20%20%20%20%20%20%20zoomControl%3A%20true%2C%0A%20%20%20%20%20%20%20%20%20%20%20%20%20%20%20%20%20%20%20%20preferCanvas%3A%20false%2C%0A%20%20%20%20%20%20%20%20%20%20%20%20%20%20%20%20%20%20%20%20name%3A%20%22Google%20Satellite%22%2C%0A%20%20%20%20%20%20%20%20%20%20%20%20%20%20%20%20%20%20%20%20overlay%3A%20true%2C%0A%20%20%20%20%20%20%20%20%20%20%20%20%20%20%20%20%20%20%20%20control%3A%20true%2C%0A%20%20%20%20%20%20%20%20%20%20%20%20%20%20%20%20%7D%0A%20%20%20%20%20%20%20%20%20%20%20%20%29%3B%0A%0A%20%20%20%20%20%20%20%20%20%20%20%20%0A%0A%20%20%20%20%20%20%20%20%0A%20%20%20%20%0A%20%20%20%20%20%20%20%20%20%20%20%20var%20tile_layer_886c7156a3cb47acb8730b4e7f9d9435%20%3D%20L.tileLayer%28%0A%20%20%20%20%20%20%20%20%20%20%20%20%20%20%20%20%22https%3A//mt1.google.com/vt/lyrs%3Dy%5Cu0026x%3D%7Bx%7D%5Cu0026y%3D%7By%7D%5Cu0026z%3D%7Bz%7D%22%2C%0A%20%20%20%20%20%20%20%20%20%20%20%20%20%20%20%20%7B%22attribution%22%3A%20%22Google%22%2C%20%22detectRetina%22%3A%20false%2C%20%22maxNativeZoom%22%3A%2018%2C%20%22maxZoom%22%3A%2018%2C%20%22minZoom%22%3A%200%2C%20%22noWrap%22%3A%20false%2C%20%22opacity%22%3A%201%2C%20%22subdomains%22%3A%20%22abc%22%2C%20%22tms%22%3A%20false%7D%0A%20%20%20%20%20%20%20%20%20%20%20%20%29.addTo%28map_b11361aa515b4050a772c23f30556397%29%3B%0A%20%20%20%20%20%20%20%20%0A%20%20%20%20%0A%20%20%20%20%20%20%20%20%20%20%20%20var%20choropleth_d8da09e0938b4b1ea4b0c59f9bfc3974%20%3D%20L.featureGroup%28%0A%20%20%20%20%20%20%20%20%20%20%20%20%20%20%20%20%7B%7D%0A%20%20%20%20%20%20%20%20%20%20%20%20%29.addTo%28map_b11361aa515b4050a772c23f30556397%29%3B%0A%20%20%20%20%20%20%20%20%0A%20%20%20%20%0A%20%20%20%20%20%20%20%20function%20geo_json_5a21161fccb94bc883b1c971b9a8291b_styler%28feature%29%20%7B%0A%20%20%20%20%20%20%20%20%20%20%20%20switch%28feature.id%29%20%7B%0A%20%20%20%20%20%20%20%20%20%20%20%20%20%20%20%20default%3A%0A%20%20%20%20%20%20%20%20%20%20%20%20%20%20%20%20%20%20%20%20return%20%7B%22color%22%3A%20%22black%22%2C%20%22fillColor%22%3A%20%22blue%22%2C%20%22fillOpacity%22%3A%200.1%2C%20%22opacity%22%3A%201%2C%20%22weight%22%3A%201%7D%3B%0A%20%20%20%20%20%20%20%20%20%20%20%20%7D%0A%20%20%20%20%20%20%20%20%7D%0A%0A%20%20%20%20%20%20%20%20function%20geo_json_5a21161fccb94bc883b1c971b9a8291b_onEachFeature%28feature%2C%20layer%29%20%7B%0A%20%20%20%20%20%20%20%20%20%20%20%20layer.on%28%7B%0A%20%20%20%20%20%20%20%20%20%20%20%20%7D%29%3B%0A%20%20%20%20%20%20%20%20%7D%3B%0A%20%20%20%20%20%20%20%20var%20geo_json_5a21161fccb94bc883b1c971b9a8291b%20%3D%20L.geoJson%28null%2C%20%7B%0A%20%20%20%20%20%20%20%20%20%20%20%20%20%20%20%20onEachFeature%3A%20geo_json_5a21161fccb94bc883b1c971b9a8291b_onEachFeature%2C%0A%20%20%20%20%20%20%20%20%20%20%20%20%0A%20%20%20%20%20%20%20%20%20%20%20%20%20%20%20%20style%3A%20geo_json_5a21161fccb94bc883b1c971b9a8291b_styler%2C%0A%20%20%20%20%20%20%20%20%7D%29%3B%0A%0A%20%20%20%20%20%20%20%20function%20geo_json_5a21161fccb94bc883b1c971b9a8291b_add%20%28data%29%20%7B%0A%20%20%20%20%20%20%20%20%20%20%20%20geo_json_5a21161fccb94bc883b1c971b9a8291b%0A%20%20%20%20%20%20%20%20%20%20%20%20%20%20%20%20.addData%28data%29%0A%20%20%20%20%20%20%20%20%20%20%20%20%20%20%20%20.addTo%28choropleth_d8da09e0938b4b1ea4b0c59f9bfc3974%29%3B%0A%20%20%20%20%20%20%20%20%7D%0A%20%20%20%20%20%20%20%20%20%20%20%20geo_json_5a21161fccb94bc883b1c971b9a8291b_add%28%7B%22bbox%22%3A%20%5B-43.730729625975584%2C%20-18.36422389933886%2C%20-43.675211773051444%2C%20-18.235488621019435%5D%2C%20%22features%22%3A%20%5B%7B%22bbox%22%3A%20%5B-43.730729625975584%2C%20-18.36422389933886%2C%20-43.675211773051444%2C%20-18.235488621019435%5D%2C%20%22geometry%22%3A%20%7B%22coordinates%22%3A%20%5B%5B%5B-43.701305005801316%2C%20-18.235665583677815%2C%200.0%5D%2C%20%5B-43.675460743044766%2C%20-18.235488621019435%2C%200.0%5D%2C%20%5B-43.675211773051444%2C%20-18.26833439183507%2C%200.0%5D%2C%20%5B-43.682924165042095%2C%20-18.268354948038265%2C%200.0%5D%2C%20%5B-43.68278287352007%2C%20-18.28699496292688%2C%200.0%5D%2C%20%5B-43.68720470217841%2C%20-18.28699489248464%2C%200.0%5D%2C%20%5B-43.68707152842512%2C%20-18.304568784611153%2C%200.0%5D%2C%20%5B-43.68182697795754%2C%20-18.304568825696595%2C%200.0%5D%2C%20%5B-43.681540283681045%2C%20-18.342457001467952%2C%200.0%5D%2C%20%5B-43.7071260568506%2C%20-18.342633010198195%2C%200.0%5D%2C%20%5B-43.707011009910616%2C%20-18.357708204400357%2C%200.0%5D%2C%20%5B-43.714313557904575%2C%20-18.35775930927417%2C%200.0%5D%2C%20%5B-43.71422877770897%2C%20-18.364112993652608%2C%200.0%5D%2C%20%5B-43.730512314880684%2C%20-18.36422389933886%2C%200.0%5D%2C%20%5B-43.730729625975584%2C%20-18.3355704836112%2C%200.0%5D%2C%20%5B-43.71426002596195%2C%20-18.33542548282651%2C%200.0%5D%2C%20%5B-43.71434400626299%2C%20-18.324347921124055%2C%200.0%5D%2C%20%5B-43.71756611848713%2C%20-18.3243538491543%2C%200.0%5D%2C%20%5B-43.71766927803628%2C%20-18.313002281423163%2C%200.0%5D%2C%20%5B-43.710179724635%2C%20-18.312967946993748%2C%200.0%5D%2C%20%5B-43.710181112653856%2C%20-18.30888896587908%2C%200.0%5D%2C%20%5B-43.70757173622838%2C%20-18.30886993019107%2C%200.0%5D%2C%20%5B-43.70763419707998%2C%20-18.30061399761985%2C%200.0%5D%2C%20%5B-43.71596414754481%2C%20-18.30060580751519%2C%200.0%5D%2C%20%5B-43.716193223014784%2C%20-18.263535454800206%2C%200.0%5D%2C%20%5B-43.701129331278196%2C%20-18.26336756003177%2C%200.0%5D%2C%20%5B-43.701305005801316%2C%20-18.235665583677815%2C%200.0%5D%5D%5D%2C%20%22type%22%3A%20%22Polygon%22%7D%2C%20%22id%22%3A%20%220%22%2C%20%22properties%22%3A%20%7B%7D%2C%20%22type%22%3A%20%22Feature%22%7D%5D%2C%20%22type%22%3A%20%22FeatureCollection%22%7D%29%3B%0A%0A%20%20%20%20%20%20%20%20%0A%3C/script%3E onload=\"this.contentDocument.open();this.contentDocument.write(    decodeURIComponent(this.getAttribute('data-html')));this.contentDocument.close();\" allowfullscreen webkitallowfullscreen mozallowfullscreen></iframe></div></div>"
      ],
      "text/plain": [
       "<folium.folium.Map at 0x1a6b9b9a9e8>"
      ]
     },
     "execution_count": 4,
     "metadata": {},
     "output_type": "execute_result"
    }
   ],
   "source": [
    "# importação do polígono da área\n",
    "pol = \"shp/poligono_Sirgas.shp\"\n",
    "# transformação do polígono em (geo)dataframe\n",
    "gdf = gpd.read_file(pol)\n",
    "# modificação do crs (31983 -> 4326)\n",
    "gdf_wgs = gdf.to_crs(\"EPSG:4326\")\n",
    "\n",
    "# mapa interativo\n",
    "pol_map = folium.Map(location=[-18.3,-43.7], zoom_start=12,\n",
    "                     tiles='https://mt1.google.com/vt/lyrs=y&x={x}&y={y}&z={z}',\n",
    "                     attr = 'Google', name = 'Google Satellite', overlay = True, \n",
    "                     control = True)\n",
    "\n",
    "# polígono sobre mapa interativo\n",
    "folium.Choropleth(geo_data=gdf_wgs.geometry, fill_opacity=0.1).add_to(pol_map)\n",
    "\n",
    "pol_map"
   ]
  },
  {
   "cell_type": "markdown",
   "metadata": {},
   "source": [
    "##### Unidades litoestratigráficas"
   ]
  },
  {
   "cell_type": "code",
   "execution_count": 5,
   "metadata": {
    "scrolled": false
   },
   "outputs": [
    {
     "data": {
      "text/html": [
       "<div style=\"width:100%;\"><div style=\"position:relative;width:100%;height:0;padding-bottom:60%;\"><span style=\"color:#565656\">Make this Notebook Trusted to load map: File -> Trust Notebook</span><iframe src=\"about:blank\" style=\"position:absolute;width:100%;height:100%;left:0;top:0;border:none !important;\" data-html=%3C%21DOCTYPE%20html%3E%0A%3Chead%3E%20%20%20%20%0A%20%20%20%20%3Cmeta%20http-equiv%3D%22content-type%22%20content%3D%22text/html%3B%20charset%3DUTF-8%22%20/%3E%0A%20%20%20%20%0A%20%20%20%20%20%20%20%20%3Cscript%3E%0A%20%20%20%20%20%20%20%20%20%20%20%20L_NO_TOUCH%20%3D%20false%3B%0A%20%20%20%20%20%20%20%20%20%20%20%20L_DISABLE_3D%20%3D%20false%3B%0A%20%20%20%20%20%20%20%20%3C/script%3E%0A%20%20%20%20%0A%20%20%20%20%3Cstyle%3Ehtml%2C%20body%20%7Bwidth%3A%20100%25%3Bheight%3A%20100%25%3Bmargin%3A%200%3Bpadding%3A%200%3B%7D%3C/style%3E%0A%20%20%20%20%3Cstyle%3E%23map%20%7Bposition%3Aabsolute%3Btop%3A0%3Bbottom%3A0%3Bright%3A0%3Bleft%3A0%3B%7D%3C/style%3E%0A%20%20%20%20%3Cscript%20src%3D%22https%3A//cdn.jsdelivr.net/npm/leaflet%401.6.0/dist/leaflet.js%22%3E%3C/script%3E%0A%20%20%20%20%3Cscript%20src%3D%22https%3A//code.jquery.com/jquery-1.12.4.min.js%22%3E%3C/script%3E%0A%20%20%20%20%3Cscript%20src%3D%22https%3A//maxcdn.bootstrapcdn.com/bootstrap/3.2.0/js/bootstrap.min.js%22%3E%3C/script%3E%0A%20%20%20%20%3Cscript%20src%3D%22https%3A//cdnjs.cloudflare.com/ajax/libs/Leaflet.awesome-markers/2.0.2/leaflet.awesome-markers.js%22%3E%3C/script%3E%0A%20%20%20%20%3Clink%20rel%3D%22stylesheet%22%20href%3D%22https%3A//cdn.jsdelivr.net/npm/leaflet%401.6.0/dist/leaflet.css%22/%3E%0A%20%20%20%20%3Clink%20rel%3D%22stylesheet%22%20href%3D%22https%3A//maxcdn.bootstrapcdn.com/bootstrap/3.2.0/css/bootstrap.min.css%22/%3E%0A%20%20%20%20%3Clink%20rel%3D%22stylesheet%22%20href%3D%22https%3A//maxcdn.bootstrapcdn.com/bootstrap/3.2.0/css/bootstrap-theme.min.css%22/%3E%0A%20%20%20%20%3Clink%20rel%3D%22stylesheet%22%20href%3D%22https%3A//maxcdn.bootstrapcdn.com/font-awesome/4.6.3/css/font-awesome.min.css%22/%3E%0A%20%20%20%20%3Clink%20rel%3D%22stylesheet%22%20href%3D%22https%3A//cdnjs.cloudflare.com/ajax/libs/Leaflet.awesome-markers/2.0.2/leaflet.awesome-markers.css%22/%3E%0A%20%20%20%20%3Clink%20rel%3D%22stylesheet%22%20href%3D%22https%3A//cdn.jsdelivr.net/gh/python-visualization/folium/folium/templates/leaflet.awesome.rotate.min.css%22/%3E%0A%20%20%20%20%0A%20%20%20%20%20%20%20%20%20%20%20%20%3Cmeta%20name%3D%22viewport%22%20content%3D%22width%3Ddevice-width%2C%0A%20%20%20%20%20%20%20%20%20%20%20%20%20%20%20%20initial-scale%3D1.0%2C%20maximum-scale%3D1.0%2C%20user-scalable%3Dno%22%20/%3E%0A%20%20%20%20%20%20%20%20%20%20%20%20%3Cstyle%3E%0A%20%20%20%20%20%20%20%20%20%20%20%20%20%20%20%20%23map_ec599396eca64f97876a66b422b73dbe%20%7B%0A%20%20%20%20%20%20%20%20%20%20%20%20%20%20%20%20%20%20%20%20position%3A%20relative%3B%0A%20%20%20%20%20%20%20%20%20%20%20%20%20%20%20%20%20%20%20%20width%3A%20100.0%25%3B%0A%20%20%20%20%20%20%20%20%20%20%20%20%20%20%20%20%20%20%20%20height%3A%20100.0%25%3B%0A%20%20%20%20%20%20%20%20%20%20%20%20%20%20%20%20%20%20%20%20left%3A%200.0%25%3B%0A%20%20%20%20%20%20%20%20%20%20%20%20%20%20%20%20%20%20%20%20top%3A%200.0%25%3B%0A%20%20%20%20%20%20%20%20%20%20%20%20%20%20%20%20%7D%0A%20%20%20%20%20%20%20%20%20%20%20%20%3C/style%3E%0A%20%20%20%20%20%20%20%20%0A%20%20%20%20%0A%20%20%20%20%20%20%20%20%20%20%20%20%20%20%20%20%20%20%20%20%3Cstyle%3E%0A%20%20%20%20%20%20%20%20%20%20%20%20%20%20%20%20%20%20%20%20%20%20%20%20.foliumtooltip%20%7B%0A%20%20%20%20%20%20%20%20%20%20%20%20%20%20%20%20%20%20%20%20%20%20%20%20%20%20%20%20%0A%20%20%20%20%20%20%20%20%20%20%20%20%20%20%20%20%20%20%20%20%20%20%20%20%7D%0A%20%20%20%20%20%20%20%20%20%20%20%20%20%20%20%20%20%20%20%20%20%20%20.foliumtooltip%20table%7B%0A%20%20%20%20%20%20%20%20%20%20%20%20%20%20%20%20%20%20%20%20%20%20%20%20%20%20%20%20margin%3A%20auto%3B%0A%20%20%20%20%20%20%20%20%20%20%20%20%20%20%20%20%20%20%20%20%20%20%20%20%7D%0A%20%20%20%20%20%20%20%20%20%20%20%20%20%20%20%20%20%20%20%20%20%20%20%20.foliumtooltip%20tr%7B%0A%20%20%20%20%20%20%20%20%20%20%20%20%20%20%20%20%20%20%20%20%20%20%20%20%20%20%20%20text-align%3A%20left%3B%0A%20%20%20%20%20%20%20%20%20%20%20%20%20%20%20%20%20%20%20%20%20%20%20%20%7D%0A%20%20%20%20%20%20%20%20%20%20%20%20%20%20%20%20%20%20%20%20%20%20%20%20.foliumtooltip%20th%7B%0A%20%20%20%20%20%20%20%20%20%20%20%20%20%20%20%20%20%20%20%20%20%20%20%20%20%20%20%20padding%3A%202px%3B%20padding-right%3A%208px%3B%0A%20%20%20%20%20%20%20%20%20%20%20%20%20%20%20%20%20%20%20%20%20%20%20%20%7D%0A%20%20%20%20%20%20%20%20%20%20%20%20%20%20%20%20%20%20%20%20%3C/style%3E%0A%20%20%20%20%20%20%20%20%20%20%20%20%0A%20%20%20%20%3Cscript%20src%3D%22https%3A//cdnjs.cloudflare.com/ajax/libs/d3/3.5.5/d3.min.js%22%3E%3C/script%3E%0A%3C/head%3E%0A%3Cbody%3E%20%20%20%20%0A%20%20%20%20%0A%20%20%20%20%20%20%20%20%20%20%20%20%3Cdiv%20class%3D%22folium-map%22%20id%3D%22map_ec599396eca64f97876a66b422b73dbe%22%20%3E%3C/div%3E%0A%20%20%20%20%20%20%20%20%0A%3C/body%3E%0A%3Cscript%3E%20%20%20%20%0A%20%20%20%20%0A%20%20%20%20%20%20%20%20%20%20%20%20var%20map_ec599396eca64f97876a66b422b73dbe%20%3D%20L.map%28%0A%20%20%20%20%20%20%20%20%20%20%20%20%20%20%20%20%22map_ec599396eca64f97876a66b422b73dbe%22%2C%0A%20%20%20%20%20%20%20%20%20%20%20%20%20%20%20%20%7B%0A%20%20%20%20%20%20%20%20%20%20%20%20%20%20%20%20%20%20%20%20center%3A%20%5B-18.3%2C%20-43.7%5D%2C%0A%20%20%20%20%20%20%20%20%20%20%20%20%20%20%20%20%20%20%20%20crs%3A%20L.CRS.EPSG3857%2C%0A%20%20%20%20%20%20%20%20%20%20%20%20%20%20%20%20%20%20%20%20zoom%3A%2012%2C%0A%20%20%20%20%20%20%20%20%20%20%20%20%20%20%20%20%20%20%20%20zoomControl%3A%20true%2C%0A%20%20%20%20%20%20%20%20%20%20%20%20%20%20%20%20%20%20%20%20preferCanvas%3A%20false%2C%0A%20%20%20%20%20%20%20%20%20%20%20%20%20%20%20%20%20%20%20%20name%3A%20%22Google%20Satellite%22%2C%0A%20%20%20%20%20%20%20%20%20%20%20%20%20%20%20%20%20%20%20%20overlay%3A%20true%2C%0A%20%20%20%20%20%20%20%20%20%20%20%20%20%20%20%20%20%20%20%20control%3A%20true%2C%0A%20%20%20%20%20%20%20%20%20%20%20%20%20%20%20%20%7D%0A%20%20%20%20%20%20%20%20%20%20%20%20%29%3B%0A%0A%20%20%20%20%20%20%20%20%20%20%20%20%0A%0A%20%20%20%20%20%20%20%20%0A%20%20%20%20%0A%20%20%20%20%20%20%20%20%20%20%20%20var%20tile_layer_dc4d6a874e484427ba06857546ce9db3%20%3D%20L.tileLayer%28%0A%20%20%20%20%20%20%20%20%20%20%20%20%20%20%20%20%22https%3A//mt1.google.com/vt/lyrs%3Dy%5Cu0026x%3D%7Bx%7D%5Cu0026y%3D%7By%7D%5Cu0026z%3D%7Bz%7D%22%2C%0A%20%20%20%20%20%20%20%20%20%20%20%20%20%20%20%20%7B%22attribution%22%3A%20%22Google%22%2C%20%22detectRetina%22%3A%20false%2C%20%22maxNativeZoom%22%3A%2018%2C%20%22maxZoom%22%3A%2018%2C%20%22minZoom%22%3A%200%2C%20%22noWrap%22%3A%20false%2C%20%22opacity%22%3A%201%2C%20%22subdomains%22%3A%20%22abc%22%2C%20%22tms%22%3A%20false%7D%0A%20%20%20%20%20%20%20%20%20%20%20%20%29.addTo%28map_ec599396eca64f97876a66b422b73dbe%29%3B%0A%20%20%20%20%20%20%20%20%0A%20%20%20%20%0A%20%20%20%20%20%20%20%20%20%20%20%20var%20choropleth_f17273c7077c43268fbf9ec5ed615558%20%3D%20L.featureGroup%28%0A%20%20%20%20%20%20%20%20%20%20%20%20%20%20%20%20%7B%7D%0A%20%20%20%20%20%20%20%20%20%20%20%20%29.addTo%28map_ec599396eca64f97876a66b422b73dbe%29%3B%0A%20%20%20%20%20%20%20%20%0A%20%20%20%20%0A%20%20%20%20%20%20%20%20function%20geo_json_b788d29a7de44b4a82f86fb5ae05559b_styler%28feature%29%20%7B%0A%20%20%20%20%20%20%20%20%20%20%20%20switch%28feature.id%29%20%7B%0A%20%20%20%20%20%20%20%20%20%20%20%20%20%20%20%20case%20%222%22%3A%20%0A%20%20%20%20%20%20%20%20%20%20%20%20%20%20%20%20%20%20%20%20return%20%7B%22color%22%3A%20%22black%22%2C%20%22fillColor%22%3A%20%22%234daf4a%22%2C%20%22fillOpacity%22%3A%200.4%2C%20%22opacity%22%3A%201%2C%20%22weight%22%3A%201%7D%3B%0A%20%20%20%20%20%20%20%20%20%20%20%20%20%20%20%20case%20%223%22%3A%20%0A%20%20%20%20%20%20%20%20%20%20%20%20%20%20%20%20%20%20%20%20return%20%7B%22color%22%3A%20%22black%22%2C%20%22fillColor%22%3A%20%22%23ff7f00%22%2C%20%22fillOpacity%22%3A%200.4%2C%20%22opacity%22%3A%201%2C%20%22weight%22%3A%201%7D%3B%0A%20%20%20%20%20%20%20%20%20%20%20%20%20%20%20%20case%20%224%22%3A%20case%20%227%22%3A%20%0A%20%20%20%20%20%20%20%20%20%20%20%20%20%20%20%20%20%20%20%20return%20%7B%22color%22%3A%20%22black%22%2C%20%22fillColor%22%3A%20%22%23e41a1c%22%2C%20%22fillOpacity%22%3A%200.4%2C%20%22opacity%22%3A%201%2C%20%22weight%22%3A%201%7D%3B%0A%20%20%20%20%20%20%20%20%20%20%20%20%20%20%20%20case%20%225%22%3A%20%0A%20%20%20%20%20%20%20%20%20%20%20%20%20%20%20%20%20%20%20%20return%20%7B%22color%22%3A%20%22black%22%2C%20%22fillColor%22%3A%20%22%23984ea3%22%2C%20%22fillOpacity%22%3A%200.4%2C%20%22opacity%22%3A%201%2C%20%22weight%22%3A%201%7D%3B%0A%20%20%20%20%20%20%20%20%20%20%20%20%20%20%20%20case%20%226%22%3A%20%0A%20%20%20%20%20%20%20%20%20%20%20%20%20%20%20%20%20%20%20%20return%20%7B%22color%22%3A%20%22black%22%2C%20%22fillColor%22%3A%20%22%23377eb8%22%2C%20%22fillOpacity%22%3A%200.4%2C%20%22opacity%22%3A%201%2C%20%22weight%22%3A%201%7D%3B%0A%20%20%20%20%20%20%20%20%20%20%20%20%20%20%20%20default%3A%0A%20%20%20%20%20%20%20%20%20%20%20%20%20%20%20%20%20%20%20%20return%20%7B%22color%22%3A%20%22black%22%2C%20%22fillColor%22%3A%20%22%23ffff33%22%2C%20%22fillOpacity%22%3A%200.4%2C%20%22opacity%22%3A%201%2C%20%22weight%22%3A%201%7D%3B%0A%20%20%20%20%20%20%20%20%20%20%20%20%7D%0A%20%20%20%20%20%20%20%20%7D%0A%20%20%20%20%20%20%20%20function%20geo_json_b788d29a7de44b4a82f86fb5ae05559b_highlighter%28feature%29%20%7B%0A%20%20%20%20%20%20%20%20%20%20%20%20switch%28feature.id%29%20%7B%0A%20%20%20%20%20%20%20%20%20%20%20%20%20%20%20%20default%3A%0A%20%20%20%20%20%20%20%20%20%20%20%20%20%20%20%20%20%20%20%20return%20%7B%22fillOpacity%22%3A%200.6000000000000001%2C%20%22weight%22%3A%203%7D%3B%0A%20%20%20%20%20%20%20%20%20%20%20%20%7D%0A%20%20%20%20%20%20%20%20%7D%0A%0A%20%20%20%20%20%20%20%20function%20geo_json_b788d29a7de44b4a82f86fb5ae05559b_onEachFeature%28feature%2C%20layer%29%20%7B%0A%20%20%20%20%20%20%20%20%20%20%20%20layer.on%28%7B%0A%20%20%20%20%20%20%20%20%20%20%20%20%20%20%20%20mouseout%3A%20function%28e%29%20%7B%0A%20%20%20%20%20%20%20%20%20%20%20%20%20%20%20%20%20%20%20%20if%28typeof%20e.target.setStyle%20%3D%3D%3D%20%22function%22%29%7B%0A%20%20%20%20%20%20%20%20%20%20%20%20%20%20%20%20%20%20%20%20%20%20%20%20geo_json_b788d29a7de44b4a82f86fb5ae05559b.resetStyle%28e.target%29%3B%0A%20%20%20%20%20%20%20%20%20%20%20%20%20%20%20%20%20%20%20%20%7D%0A%20%20%20%20%20%20%20%20%20%20%20%20%20%20%20%20%7D%2C%0A%20%20%20%20%20%20%20%20%20%20%20%20%20%20%20%20mouseover%3A%20function%28e%29%20%7B%0A%20%20%20%20%20%20%20%20%20%20%20%20%20%20%20%20%20%20%20%20if%28typeof%20e.target.setStyle%20%3D%3D%3D%20%22function%22%29%7B%0A%20%20%20%20%20%20%20%20%20%20%20%20%20%20%20%20%20%20%20%20%20%20%20%20const%20highlightStyle%20%3D%20geo_json_b788d29a7de44b4a82f86fb5ae05559b_highlighter%28e.target.feature%29%0A%20%20%20%20%20%20%20%20%20%20%20%20%20%20%20%20%20%20%20%20%20%20%20%20e.target.setStyle%28highlightStyle%29%3B%0A%20%20%20%20%20%20%20%20%20%20%20%20%20%20%20%20%20%20%20%20%7D%0A%20%20%20%20%20%20%20%20%20%20%20%20%20%20%20%20%7D%2C%0A%20%20%20%20%20%20%20%20%20%20%20%20%7D%29%3B%0A%20%20%20%20%20%20%20%20%7D%3B%0A%20%20%20%20%20%20%20%20var%20geo_json_b788d29a7de44b4a82f86fb5ae05559b%20%3D%20L.geoJson%28null%2C%20%7B%0A%20%20%20%20%20%20%20%20%20%20%20%20%20%20%20%20onEachFeature%3A%20geo_json_b788d29a7de44b4a82f86fb5ae05559b_onEachFeature%2C%0A%20%20%20%20%20%20%20%20%20%20%20%20%0A%20%20%20%20%20%20%20%20%20%20%20%20%20%20%20%20style%3A%20geo_json_b788d29a7de44b4a82f86fb5ae05559b_styler%2C%0A%20%20%20%20%20%20%20%20%7D%29%3B%0A%0A%20%20%20%20%20%20%20%20function%20geo_json_b788d29a7de44b4a82f86fb5ae05559b_add%20%28data%29%20%7B%0A%20%20%20%20%20%20%20%20%20%20%20%20geo_json_b788d29a7de44b4a82f86fb5ae05559b%0A%20%20%20%20%20%20%20%20%20%20%20%20%20%20%20%20.addData%28data%29%0A%20%20%20%20%20%20%20%20%20%20%20%20%20%20%20%20.addTo%28choropleth_f17273c7077c43268fbf9ec5ed615558%29%3B%0A%20%20%20%20%20%20%20%20%7D%0A%20%20%20%20%20%20%20%20%20%20%20%20geo_json_b788d29a7de44b4a82f86fb5ae05559b_add%28%7B%22bbox%22%3A%20%5B-43.73072962597555%2C%20-18.364223899338846%2C%20-43.675211773051444%2C%20-18.235488621019435%5D%2C%20%22features%22%3A%20%5B%7B%22bbox%22%3A%20%5B-43.68390856985965%2C%20-18.268354948038255%2C%20-43.675211773051444%2C%20-18.235488621019435%5D%2C%20%22geometry%22%3A%20%7B%22coordinates%22%3A%20%5B%5B%5B-43.675221983714366%2C%20-18.266988700188577%2C%200.0%5D%2C%20%5B-43.675211773051444%2C%20-18.26833439183507%2C%200.0%5D%2C%20%5B-43.68292416504209%2C%20-18.268354948038255%2C%200.0%5D%2C%20%5B-43.6832287850092%2C%20-18.26767619465917%2C%200.0%5D%2C%20%5B-43.68360961449622%2C%20-18.266954372658162%2C%200.0%5D%2C%20%5B-43.68379400746744%2C%20-18.2663961704676%2C%200.0%5D%2C%20%5B-43.683888852364504%2C%20-18.265765624913673%2C%200.0%5D%2C%20%5B-43.68390856985965%2C%20-18.2651417351367%2C%200.0%5D%2C%20%5B-43.68389037255732%2C%20-18.264567793440563%2C%200.0%5D%2C%20%5B-43.683762412241414%2C%20-18.2632968419554%2C%200.0%5D%2C%20%5B-43.68369318685961%2C%20-18.262919081316145%2C%200.0%5D%2C%20%5B-43.6836061283942%2C%20-18.262516810759195%2C%200.0%5D%2C%20%5B-43.68354231456809%2C%20-18.26221798708574%2C%200.0%5D%2C%20%5B-43.68346387596284%2C%20-18.261867419275042%2C%200.0%5D%2C%20%5B-43.68336764768053%2C%20-18.26148660365811%2C%200.0%5D%2C%20%5B-43.68330939682868%2C%20-18.261246634401008%2C%200.0%5D%2C%20%5B-43.683255607102325%2C%20-18.261012433994093%2C%200.0%5D%2C%20%5B-43.68319511769388%2C%20-18.260770686013934%2C%200.0%5D%2C%20%5B-43.68298143445936%2C%20-18.26006987644869%2C%200.0%5D%2C%20%5B-43.68287146549531%2C%20-18.259719450069586%2C%200.0%5D%2C%20%5B-43.682776235108726%2C%20-18.259488670218047%2C%200.0%5D%2C%20%5B-43.68269009572664%2C%20-18.259296805073973%2C%200.0%5D%2C%20%5B-43.682613069807125%2C%20-18.259140866173425%2C%200.0%5D%2C%20%5B-43.682495831982834%2C%20-18.258924877846383%2C%200.0%5D%2C%20%5B-43.6823412399189%2C%20-18.25868472324223%2C%200.0%5D%2C%20%5B-43.681973483816556%2C%20-18.258090442475996%2C%200.0%5D%2C%20%5B-43.68174472586998%2C%20-18.257730231551626%2C%200.0%5D%2C%20%5B-43.6815943687828%2C%20-18.25734366285059%2C%200.0%5D%2C%20%5B-43.68154259314971%2C%20-18.257158011257967%2C%200.0%5D%2C%20%5B-43.68148881742802%2C%20-18.2568229144908%2C%200.0%5D%2C%20%5B-43.681465756659804%2C%20-18.256562745007432%2C%200.0%5D%2C%20%5B-43.68142939510436%2C%20-18.256407085858015%2C%200.0%5D%2C%20%5B-43.681373950684005%2C%20-18.256293136019163%2C%200.0%5D%2C%20%5B-43.681259370278376%2C%20-18.256139926558735%2C%200.0%5D%2C%20%5B-43.6810882405493%2C%20-18.256019202268206%2C%200.0%5D%2C%20%5B-43.68094485561773%2C%20-18.25595246434226%2C%200.0%5D%2C%20%5B-43.68081083179204%2C%20-18.25588877946296%2C%200.0%5D%2C%20%5B-43.68049883657963%2C%20-18.255782026857048%2C%200.0%5D%2C%20%5B-43.68020549599117%2C%20-18.255690345531054%2C%200.0%5D%2C%20%5B-43.6799655548887%2C%20-18.255569145796425%2C%200.0%5D%2C%20%5B-43.679791343985535%2C%20-18.255442421918296%2C%200.0%5D%2C%20%5B-43.67965797592098%2C%20-18.255292070632496%2C%200.0%5D%2C%20%5B-43.67956900756853%2C%20-18.255061332657586%2C%200.0%5D%2C%20%5B-43.67955148269461%2C%20-18.254896837308483%2C%200.0%5D%2C%20%5B-43.67954685308847%2C%20-18.254681624267945%2C%200.0%5D%2C%20%5B-43.679594143035835%2C%20-18.25421871338087%2C%200.0%5D%2C%20%5B-43.679612446817515%2C%20-18.253866181692842%2C%200.0%5D%2C%20%5B-43.67957737451024%2C%20-18.25354017944158%2C%200.0%5D%2C%20%5B-43.67951936887782%2C%20-18.2533514958155%2C%200.0%5D%2C%20%5B-43.67945182186917%2C%20-18.253183666740743%2C%200.0%5D%2C%20%5B-43.67939325185589%2C%20-18.253069694860557%2C%200.0%5D%2C%20%5B-43.67918318170355%2C%20-18.252721564798737%2C%200.0%5D%2C%20%5B-43.67904394455174%2C%20-18.252520366044244%2C%200.0%5D%2C%20%5B-43.678877145042996%2C%20-18.252241272697155%2C%200.0%5D%2C%20%5B-43.67856758163964%2C%20-18.251620888878072%2C%200.0%5D%2C%20%5B-43.67832778838306%2C%20-18.250901963184663%2C%200.0%5D%2C%20%5B-43.678201796145544%2C%20-18.250355967875375%2C%200.0%5D%2C%20%5B-43.678169152085474%2C%20-18.25004014353777%2C%200.0%5D%2C%20%5B-43.67812599306344%2C%20-18.24979119182575%2C%200.0%5D%2C%20%5B-43.678062671982815%2C%20-18.24956122810209%2C%200.0%5D%2C%20%5B-43.677904991395984%2C%20-18.249234976740528%2C%200.0%5D%2C%20%5B-43.677776577919495%2C%20-18.249009345241117%2C%200.0%5D%2C%20%5B-43.67753868400835%2C%20-18.248701666861123%2C%200.0%5D%2C%20%5B-43.67740570117926%2C%20-18.248418621965843%2C%200.0%5D%2C%20%5B-43.67739858685569%2C%20-18.248036028659445%2C%200.0%5D%2C%20%5B-43.67743078351447%2C%20-18.247749342927985%2C%200.0%5D%2C%20%5B-43.677595949809906%2C%20-18.247085813157078%2C%200.0%5D%2C%20%5B-43.67778722105747%2C%20-18.24627900928367%2C%200.0%5D%2C%20%5B-43.67796819251005%2C%20-18.245510388379326%2C%200.0%5D%2C%20%5B-43.67805819987875%2C%20-18.244902445444442%2C%200.0%5D%2C%20%5B-43.67811188646935%2C%20-18.244420810122715%2C%200.0%5D%2C%20%5B-43.67813005460745%2C%20-18.24413593995323%2C%200.0%5D%2C%20%5B-43.67819495545717%2C%20-18.24375958167155%2C%200.0%5D%2C%20%5B-43.67827951131843%2C%20-18.24343117704656%2C%200.0%5D%2C%20%5B-43.67836942129301%2C%20-18.243188881811342%2C%200.0%5D%2C%20%5B-43.678481291600065%2C%20-18.2429543889401%2C%200.0%5D%2C%20%5B-43.678564646726855%2C%20-18.242784731798874%2C%200.0%5D%2C%20%5B-43.67870237922081%2C%20-18.24257145715206%2C%200.0%5D%2C%20%5B-43.67883774842189%2C%20-18.242405984149958%2C%200.0%5D%2C%20%5B-43.679124470470796%2C%20-18.242078973488617%2C%200.0%5D%2C%20%5B-43.67939504813805%2C%20-18.241769065516884%2C%200.0%5D%2C%20%5B-43.67954062654344%2C%20-18.24157688419828%2C%200.0%5D%2C%20%5B-43.67958529852275%2C%20-18.24149303234922%2C%200.0%5D%2C%20%5B-43.679624182107055%2C%20-18.241380449729615%2C%200.0%5D%2C%20%5B-43.67964562837779%2C%20-18.24119123794866%2C%200.0%5D%2C%20%5B-43.679628999845484%2C%20-18.24100750185463%2C%200.0%5D%2C%20%5B-43.679593865459296%2C%20-18.24088867078265%2C%200.0%5D%2C%20%5B-43.67950323267202%2C%20-18.240730047013585%2C%200.0%5D%2C%20%5B-43.67940106070074%2C%20-18.240591865577432%2C%200.0%5D%2C%20%5B-43.67929234033638%2C%20-18.24049249113586%2C%200.0%5D%2C%20%5B-43.67915873494785%2C%20-18.240375013250596%2C%200.0%5D%2C%20%5B-43.678891411832794%2C%20-18.240154999602535%2C%200.0%5D%2C%20%5B-43.67868114128132%2C%20-18.239945739776942%2C%200.0%5D%2C%20%5B-43.67856745600184%2C%20-18.23975846499491%2C%200.0%5D%2C%20%5B-43.678462156887385%2C%20-18.23952103903376%2C%200.0%5D%2C%20%5B-43.6784494751312%2C%20-18.23921252493101%2C%200.0%5D%2C%20%5B-43.67845866134984%2C%20-18.238990234238393%2C%200.0%5D%2C%20%5B-43.67859940706011%2C%20-18.238245243108157%2C%200.0%5D%2C%20%5B-43.678784916753536%2C%20-18.23753642406485%2C%200.0%5D%2C%20%5B-43.678946389942375%2C%20-18.23702827496313%2C%200.0%5D%2C%20%5B-43.679045864111565%2C%20-18.23677791589387%2C%200.0%5D%2C%20%5B-43.67924383672859%2C%20-18.236406299689975%2C%200.0%5D%2C%20%5B-43.679410863997305%2C%20-18.236156406084433%2C%200.0%5D%2C%20%5B-43.67976646059306%2C%20-18.235785875704142%2C%200.0%5D%2C%20%5B-43.68010624813551%2C%20-18.23552068704899%2C%200.0%5D%2C%20%5B-43.675460743044745%2C%20-18.235488621019435%2C%200.0%5D%2C%20%5B-43.675430141992805%2C%20-18.23952946624144%2C%200.0%5D%2C%20%5B-43.67535050208699%2C%20-18.250040919923574%2C%200.0%5D%2C%20%5B-43.6754212937329%2C%20-18.250187852286615%2C%200.0%5D%2C%20%5B-43.67555671771383%2C%20-18.250478685715514%2C%200.0%5D%2C%20%5B-43.675778455818154%2C%20-18.250950629009825%2C%200.0%5D%2C%20%5B-43.67597101967996%2C%20-18.251296250388076%2C%200.0%5D%2C%20%5B-43.6762571473086%2C%20-18.251843354146736%2C%200.0%5D%2C%20%5B-43.67630398865221%2C%20-18.251919688718306%2C%200.0%5D%2C%20%5B-43.67664703582805%2C%20-18.25255086704023%2C%200.0%5D%2C%20%5B-43.676854145761766%2C%20-18.252958751619403%2C%200.0%5D%2C%20%5B-43.67708521115257%2C%20-18.25350786464536%2C%200.0%5D%2C%20%5B-43.67721740042448%2C%20-18.253896103908396%2C%200.0%5D%2C%20%5B-43.67728019671332%2C%20-18.254195400299125%2C%200.0%5D%2C%20%5B-43.6772809977756%2C%20-18.254420150386327%2C%200.0%5D%2C%20%5B-43.67725898890544%2C%20-18.254682997230066%2C%200.0%5D%2C%20%5B-43.67720550027513%2C%20-18.254806954348744%2C%200.0%5D%2C%20%5B-43.67713208395558%2C%20-18.25491881922437%2C%200.0%5D%2C%20%5B-43.67692227797557%2C%20-18.255197104254766%2C%200.0%5D%2C%20%5B-43.676800286178164%2C%20-18.255444914426604%2C%200.0%5D%2C%20%5B-43.6767764983222%2C%20-18.25561211289003%2C%200.0%5D%2C%20%5B-43.676805330620944%2C%20-18.255770111537824%2C%200.0%5D%2C%20%5B-43.67691425395758%2C%20-18.255926272953747%2C%200.0%5D%2C%20%5B-43.677038517018275%2C%20-18.256039504168502%2C%200.0%5D%2C%20%5B-43.67726522897831%2C%20-18.25617257055937%2C%200.0%5D%2C%20%5B-43.677646811476826%2C%20-18.256342570268085%2C%200.0%5D%2C%20%5B-43.678265931206425%2C%20-18.25653811881621%2C%200.0%5D%2C%20%5B-43.678630361193754%2C%20-18.256660180201678%2C%200.0%5D%2C%20%5B-43.67878472575545%2C%20-18.25676405458819%2C%200.0%5D%2C%20%5B-43.678911312183025%2C%20-18.256901209720045%2C%200.0%5D%2C%20%5B-43.679029524232654%2C%20-18.25715307018591%2C%200.0%5D%2C%20%5B-43.679060409133555%2C%20-18.25737085527148%2C%200.0%5D%2C%20%5B-43.679055809913656%2C%20-18.257648167940282%2C%200.0%5D%2C%20%5B-43.679032682135336%2C%20-18.258059243109034%2C%200.0%5D%2C%20%5B-43.67894645388788%2C%20-18.258541609672797%2C%200.0%5D%2C%20%5B-43.67881005201743%2C%20-18.25904036605716%2C%200.0%5D%2C%20%5B-43.67869999270937%2C%20-18.259364768508835%2C%200.0%5D%2C%20%5B-43.67859765698067%2C%20-18.25966053340587%2C%200.0%5D%2C%20%5B-43.67827628472207%2C%20-18.260461656019736%2C%200.0%5D%2C%20%5B-43.67797352961593%2C%20-18.26111706168687%2C%200.0%5D%2C%20%5B-43.67779566827101%2C%20-18.26147207660443%2C%200.0%5D%2C%20%5B-43.677761617306466%2C%20-18.261672676753133%2C%200.0%5D%2C%20%5B-43.6777006782898%2C%20-18.262119353569414%2C%200.0%5D%2C%20%5B-43.677614624636135%2C%20-18.262577811244405%2C%200.0%5D%2C%20%5B-43.67752445276807%2C%20-18.262919086385686%2C%200.0%5D%2C%20%5B-43.677426918195835%2C%20-18.263241183378337%2C%200.0%5D%2C%20%5B-43.677342673752875%2C%20-18.263460563579887%2C%200.0%5D%2C%20%5B-43.67723860915892%2C%20-18.263653506829556%2C%200.0%5D%2C%20%5B-43.67711717246465%2C%20-18.26382720271339%2C%200.0%5D%2C%20%5B-43.6770111664537%2C%20-18.263946014575303%2C%200.0%5D%2C%20%5B-43.67683224668835%2C%20-18.264109749159143%2C%200.0%5D%2C%20%5B-43.67671361963016%2C%20-18.264242818925297%2C%200.0%5D%2C%20%5B-43.676614884754464%2C%20-18.264392762479563%2C%200.0%5D%2C%20%5B-43.676538417647954%2C%20-18.264576332562125%2C%200.0%5D%2C%20%5B-43.676482096439344%2C%20-18.264743305696058%2C%200.0%5D%2C%20%5B-43.67642769765476%2C%20-18.26498680078619%2C%200.0%5D%2C%20%5B-43.67635094009967%2C%20-18.265208623086533%2C%200.0%5D%2C%20%5B-43.676246166443036%2C%20-18.26549480568084%2C%200.0%5D%2C%20%5B-43.67612909783166%2C%20-18.265752212357313%2C%200.0%5D%2C%20%5B-43.67604887338643%2C%20-18.26589736678412%2C%200.0%5D%2C%20%5B-43.676047797184054%2C%20-18.265899314013268%2C%200.0%5D%2C%20%5B-43.67595401995269%2C%20-18.266068989848076%2C%200.0%5D%2C%20%5B-43.675779340294326%2C%20-18.266333170188634%2C%200.0%5D%2C%20%5B-43.6755947591764%2C%20-18.266582936411577%2C%200.0%5D%2C%20%5B-43.67543057784239%2C%20-18.266782634874748%2C%200.0%5D%2C%20%5B-43.675221983714366%2C%20-18.266988700188577%2C%200.0%5D%5D%5D%2C%20%22type%22%3A%20%22Polygon%22%7D%2C%20%22id%22%3A%20%220%22%2C%20%22properties%22%3A%20%7B%22Hexadec%22%3A%20%22%234ce600%22%2C%20%22Id%22%3A%207%2C%20%22RGB%22%3A%20%22076%2C230%2C000%22%2C%20%22Unidades%22%3A%20%22Forma%5Cu00e7%5Cu00e3o%20Sopa%20Brumadinho%20-%20N%5Cu00edvel%20F%22%7D%2C%20%22type%22%3A%20%22Feature%22%7D%2C%20%7B%22bbox%22%3A%20%5B-43.73072962597555%2C%20-18.344725763687723%2C%20-43.67522198371438%2C%20-18.238977118137722%5D%2C%20%22geometry%22%3A%20%7B%22coordinates%22%3A%20%5B%5B%5B%5B-43.730308738385496%2C%20-18.344371974441064%2C%200.0%5D%2C%20%5B-43.730660233355785%2C%20-18.344725763687723%2C%200.0%5D%2C%20%5B-43.73072962597555%2C%20-18.3355704836112%2C%200.0%5D%2C%20%5B-43.72428489668498%2C%20-18.33551391265184%2C%200.0%5D%2C%20%5B-43.72462813218855%2C%20-18.33581067520551%2C%200.0%5D%2C%20%5B-43.72482161487122%2C%20-18.33605584269211%2C%200.0%5D%2C%20%5B-43.72495459386915%2C%20-18.336357987429082%2C%200.0%5D%2C%20%5B-43.72507202654141%2C%20-18.33673175563601%2C%200.0%5D%2C%20%5B-43.725188933854575%2C%20-18.337177247766093%2C%200.0%5D%2C%20%5B-43.72529050522822%2C%20-18.337665673804555%2C%200.0%5D%2C%20%5B-43.725393549209436%2C%20-18.33795327266177%2C%200.0%5D%2C%20%5B-43.725646278330274%2C%20-18.33831359950732%2C%200.0%5D%2C%20%5B-43.726153000768086%2C%20-18.338862114764126%2C%200.0%5D%2C%20%5B-43.72699421773283%2C%20-18.339529778445712%2C%200.0%5D%2C%20%5B-43.72802527387625%2C%20-18.340275453888026%2C%200.0%5D%2C%20%5B-43.728532848825495%2C%20-18.340709205045776%2C%200.0%5D%2C%20%5B-43.72909920078729%2C%20-18.34132266570897%2C%200.0%5D%2C%20%5B-43.72928460832684%2C%20-18.341646675680156%2C%200.0%5D%2C%20%5B-43.72941035033198%2C%20-18.34191290577468%2C%200.0%5D%2C%20%5B-43.72964366911952%2C%20-18.342875610030433%2C%200.0%5D%2C%20%5B-43.72987141849161%2C%20-18.343572884991964%2C%200.0%5D%2C%20%5B-43.730056253224184%2C%20-18.34397579084182%2C%200.0%5D%2C%20%5B-43.730308738385496%2C%20-18.344371974441064%2C%200.0%5D%5D%5D%2C%20%5B%5B%5B-43.6828854414325%2C%20-18.27346581520128%2C%200.0%5D%2C%20%5B-43.682795618502944%2C%20-18.28531448401249%2C%200.0%5D%2C%20%5B-43.68301025832023%2C%20-18.285237062319066%2C%200.0%5D%2C%20%5B-43.683605943448846%2C%20-18.284904049427848%2C%200.0%5D%2C%20%5B-43.68419465935364%2C%20-18.284499259631488%2C%200.0%5D%2C%20%5B-43.685101685125446%2C%20-18.283702159544475%2C%200.0%5D%2C%20%5B-43.68538899111508%2C%20-18.283438745931456%2C%200.0%5D%2C%20%5B-43.686030524391036%2C%20-18.282998449644314%2C%200.0%5D%2C%20%5B-43.68630237970713%2C%20-18.282792309882858%2C%200.0%5D%2C%20%5B-43.6870377762898%2C%20-18.2820696876014%2C%200.0%5D%2C%20%5B-43.6874163056776%2C%20-18.281656270348314%2C%200.0%5D%2C%20%5B-43.687642947647575%2C%20-18.281471336103735%2C%200.0%5D%2C%20%5B-43.68790069982135%2C%20-18.281143161007297%2C%200.0%5D%2C%20%5B-43.68808315589602%2C%20-18.280843159615095%2C%200.0%5D%2C%20%5B-43.68829445668676%2C%20-18.280701155437455%2C%200.0%5D%2C%20%5B-43.68850629629624%2C%20-18.280487427641106%2C%200.0%5D%2C%20%5B-43.68888363293819%2C%20-18.28023179840052%2C%200.0%5D%2C%20%5B-43.689382280285955%2C%20-18.27981920043069%2C%200.0%5D%2C%20%5B-43.68971532099523%2C%20-18.279462847778042%2C%200.0%5D%2C%20%5B-43.68995115188571%2C%20-18.27894990591132%2C%200.0%5D%2C%20%5B-43.68999759913511%2C%20-18.27876373368979%2C%200.0%5D%2C%20%5B-43.690066892884374%2C%20-18.278534681712895%2C%200.0%5D%2C%20%5B-43.690226388137596%2C%20-18.278291902213592%2C%200.0%5D%2C%20%5B-43.69046144563234%2C%20-18.277985085689934%2C%200.0%5D%2C%20%5B-43.6906516706943%2C%20-18.277649270961405%2C%200.0%5D%2C%20%5B-43.69070653942494%2C%20-18.277341220025367%2C%200.0%5D%2C%20%5B-43.69069329973455%2C%20-18.277104429822224%2C%200.0%5D%2C%20%5B-43.69066461398477%2C%20-18.276924915554087%2C%200.0%5D%2C%20%5B-43.690590935479655%2C%20-18.276737920461816%2C%200.0%5D%2C%20%5B-43.6904870646109%2C%20-18.27657223671641%2C%200.0%5D%2C%20%5B-43.69036029388411%2C%20-18.276456605072596%2C%200.0%5D%2C%20%5B-43.69020365381781%2C%20-18.276319250613692%2C%200.0%5D%2C%20%5B-43.69003934473919%2C%20-18.276203361638018%2C%200.0%5D%2C%20%5B-43.68986725891605%2C%20-18.276123282810445%2C%200.0%5D%2C%20%5B-43.68951661479252%2C%20-18.27588776688492%2C%200.0%5D%2C%20%5B-43.68918896831889%2C%20-18.27552688557036%2C%200.0%5D%2C%20%5B-43.68895152331118%2C%20-18.275152276787146%2C%200.0%5D%2C%20%5B-43.688832477869084%2C%20-18.275008006351065%2C%200.0%5D%2C%20%5B-43.688734651171025%2C%20-18.274975058363676%2C%200.0%5D%2C%20%5B-43.68860653543085%2C%20-18.27503873420051%2C%200.0%5D%2C%20%5B-43.68837979542561%2C%20-18.275238014981273%2C%200.0%5D%2C%20%5B-43.68825151764424%2C%20-18.275323207576125%2C%200.0%5D%2C%20%5B-43.68812367106023%2C%20-18.275351021365214%2C%200.0%5D%2C%20%5B-43.68791356324734%2C%20-18.275335234390983%2C%200.0%5D%2C%20%5B-43.68775557794838%2C%20-18.275377186544123%2C%200.0%5D%2C%20%5B-43.6876039758679%2C%20-18.275477874747498%2C%200.0%5D%2C%20%5B-43.68727783269631%2C%20-18.27558322666831%2C%200.0%5D%2C%20%5B-43.68698904785743%2C%20-18.275712743554635%2C%200.0%5D%2C%20%5B-43.686838479808735%2C%20-18.275766700356094%2C%200.0%5D%2C%20%5B-43.6864774048677%2C%20-18.27583360066263%2C%200.0%5D%2C%20%5B-43.6861526104052%2C%20-18.2757596422514%2C%200.0%5D%2C%20%5B-43.685678202223116%2C%20-18.275612927979314%2C%200.0%5D%2C%20%5B-43.68512871792714%2C%20-18.275465696349087%2C%200.0%5D%2C%20%5B-43.68457995546257%2C%20-18.27522283214632%2C%200.0%5D%2C%20%5B-43.68400743095788%2C%20-18.274812439932038%2C%200.0%5D%2C%20%5B-43.683562380942575%2C%20-18.274092106765032%2C%200.0%5D%2C%20%5B-43.683165040262736%2C%20-18.273682918177922%2C%200.0%5D%2C%20%5B-43.6828854414325%2C%20-18.27346581520128%2C%200.0%5D%5D%5D%2C%20%5B%5B%5B-43.675350502086985%2C%20-18.25004091992357%2C%200.0%5D%2C%20%5B-43.67522198371438%2C%20-18.266988700188563%2C%200.0%5D%2C%20%5B-43.67543057784239%2C%20-18.266782634874733%2C%200.0%5D%2C%20%5B-43.67559475917639%2C%20-18.266582936411567%2C%200.0%5D%2C%20%5B-43.67577934029432%2C%20-18.266333170188634%2C%200.0%5D%2C%20%5B-43.67595401995268%2C%20-18.266068989848076%2C%200.0%5D%2C%20%5B-43.67612909783166%2C%20-18.265752212357306%2C%200.0%5D%2C%20%5B-43.67624616644303%2C%20-18.26549480568084%2C%200.0%5D%2C%20%5B-43.67635094009966%2C%20-18.26520862308652%2C%200.0%5D%2C%20%5B-43.67642769765476%2C%20-18.26498680078619%2C%200.0%5D%2C%20%5B-43.67648209643934%2C%20-18.26474330569604%2C%200.0%5D%2C%20%5B-43.67653841764795%2C%20-18.26457633256212%2C%200.0%5D%2C%20%5B-43.67661488475446%2C%20-18.264392762479563%2C%200.0%5D%2C%20%5B-43.676713619630156%2C%20-18.264242818925297%2C%200.0%5D%2C%20%5B-43.67683224668834%2C%20-18.264109749159132%2C%200.0%5D%2C%20%5B-43.6770111664537%2C%20-18.26394601457529%2C%200.0%5D%2C%20%5B-43.677117172464634%2C%20-18.26382720271339%2C%200.0%5D%2C%20%5B-43.67723860915891%2C%20-18.263653506829538%2C%200.0%5D%2C%20%5B-43.67734267375287%2C%20-18.263460563579883%2C%200.0%5D%2C%20%5B-43.67742691819582%2C%20-18.26324118337833%2C%200.0%5D%2C%20%5B-43.67752445276806%2C%20-18.262919086385683%2C%200.0%5D%2C%20%5B-43.67761462463612%2C%20-18.262577811244405%2C%200.0%5D%2C%20%5B-43.67770067828979%2C%20-18.262119353569414%2C%200.0%5D%2C%20%5B-43.67776161730646%2C%20-18.261672676753133%2C%200.0%5D%2C%20%5B-43.677795668270996%2C%20-18.261472076604427%2C%200.0%5D%2C%20%5B-43.677973529615926%2C%20-18.26111706168687%2C%200.0%5D%2C%20%5B-43.67827628472205%2C%20-18.260461656019736%2C%200.0%5D%2C%20%5B-43.67859765698066%2C%20-18.25966053340587%2C%200.0%5D%2C%20%5B-43.67869999270937%2C%20-18.259364768508824%2C%200.0%5D%2C%20%5B-43.67881005201743%2C%20-18.25904036605715%2C%200.0%5D%2C%20%5B-43.67894645388787%2C%20-18.258541609672797%2C%200.0%5D%2C%20%5B-43.67903268213535%2C%20-18.258059243109024%2C%200.0%5D%2C%20%5B-43.67905580991364%2C%20-18.25764816794027%2C%200.0%5D%2C%20%5B-43.67906040913354%2C%20-18.25737085527147%2C%200.0%5D%2C%20%5B-43.67902952423264%2C%20-18.25715307018589%2C%200.0%5D%2C%20%5B-43.67891131218301%2C%20-18.256901209720045%2C%200.0%5D%2C%20%5B-43.678784725755435%2C%20-18.256764054588185%2C%200.0%5D%2C%20%5B-43.67863036119374%2C%20-18.256660180201674%2C%200.0%5D%2C%20%5B-43.67826593120642%2C%20-18.256538118816213%2C%200.0%5D%2C%20%5B-43.67764681147681%2C%20-18.256342570268085%2C%200.0%5D%2C%20%5B-43.67726522897829%2C%20-18.25617257055937%2C%200.0%5D%2C%20%5B-43.67703851701826%2C%20-18.256039504168495%2C%200.0%5D%2C%20%5B-43.67691425395757%2C%20-18.255926272953747%2C%200.0%5D%2C%20%5B-43.67680533062094%2C%20-18.255770111537824%2C%200.0%5D%2C%20%5B-43.676776498322184%2C%20-18.255612112890013%2C%200.0%5D%2C%20%5B-43.67680028617816%2C%20-18.255444914426604%2C%200.0%5D%2C%20%5B-43.67692227797556%2C%20-18.255197104254748%2C%200.0%5D%2C%20%5B-43.67713208395556%2C%20-18.25491881922437%2C%200.0%5D%2C%20%5B-43.67720550027512%2C%20-18.254806954348734%2C%200.0%5D%2C%20%5B-43.67725898890543%2C%20-18.254682997230066%2C%200.0%5D%2C%20%5B-43.67728099777558%2C%20-18.254420150386327%2C%200.0%5D%2C%20%5B-43.6772801967133%2C%20-18.254195400299125%2C%200.0%5D%2C%20%5B-43.67721740042447%2C%20-18.253896103908385%2C%200.0%5D%2C%20%5B-43.677085211152566%2C%20-18.25350786464536%2C%200.0%5D%2C%20%5B-43.676854145761745%2C%20-18.25295875161939%2C%200.0%5D%2C%20%5B-43.67664703582804%2C%20-18.25255086704023%2C%200.0%5D%2C%20%5B-43.6763039886522%2C%20-18.251919688718306%2C%200.0%5D%2C%20%5B-43.67625714730859%2C%20-18.251843354146736%2C%200.0%5D%2C%20%5B-43.675971019679956%2C%20-18.251296250388076%2C%200.0%5D%2C%20%5B-43.67577845581815%2C%20-18.250950629009825%2C%200.0%5D%2C%20%5B-43.67555671771382%2C%20-18.2504786857155%2C%200.0%5D%2C%20%5B-43.675421293732896%2C%20-18.250187852286615%2C%200.0%5D%2C%20%5B-43.675350502086985%2C%20-18.25004091992357%2C%200.0%5D%5D%5D%2C%20%5B%5B%5B-43.68824370977486%2C%20-18.25347465578143%2C%200.0%5D%2C%20%5B-43.68875387282847%2C%20-18.25379018111947%2C%200.0%5D%2C%20%5B-43.688654421654675%2C%20-18.253369507835945%2C%200.0%5D%2C%20%5B-43.6885063204244%2C%20-18.252743044043115%2C%200.0%5D%2C%20%5B-43.68856049186807%2C%20-18.25219350617903%2C%200.0%5D%2C%20%5B-43.68871430352316%2C%20-18.251704423511804%2C%200.0%5D%2C%20%5B-43.68878071581797%2C%20-18.251190832955565%2C%200.0%5D%2C%20%5B-43.688724683784336%2C%20-18.250901264104606%2C%200.0%5D%2C%20%5B-43.68872049219129%2C%20-18.250879602270814%2C%200.0%5D%2C%20%5B-43.68861988184562%2C%20-18.250741739801786%2C%200.0%5D%2C%20%5B-43.68857026103252%2C%20-18.250702630695766%2C%200.0%5D%2C%20%5B-43.688477901354005%2C%20-18.25062983647675%2C%200.0%5D%2C%20%5B-43.68824518050222%2C%20-18.250380185245657%2C%200.0%5D%2C%20%5B-43.68811538470418%2C%20-18.250170091342888%2C%200.0%5D%2C%20%5B-43.687952148567916%2C%20-18.24983125684645%2C%200.0%5D%2C%20%5B-43.68783285852005%2C%20-18.249471802979762%2C%200.0%5D%2C%20%5B-43.68775780598768%2C%20-18.249052879538404%2C%200.0%5D%2C%20%5B-43.68774828281721%2C%20-18.248928911855348%2C%200.0%5D%2C%20%5B-43.687708154832244%2C%20-18.248406545528674%2C%200.0%5D%2C%20%5B-43.68772497336148%2C%20-18.247832842627705%2C%200.0%5D%2C%20%5B-43.68777976733688%2C%20-18.24750805451058%2C%200.0%5D%2C%20%5B-43.68782972633718%2C%20-18.247211924130937%2C%200.0%5D%2C%20%5B-43.6879587822272%2C%20-18.246686808406974%2C%200.0%5D%2C%20%5B-43.68819962666637%2C%20-18.246270049328672%2C%200.0%5D%2C%20%5B-43.68841428257281%2C%20-18.246008519646807%2C%200.0%5D%2C%20%5B-43.688628579154916%2C%20-18.2457948054265%2C%200.0%5D%2C%20%5B-43.68880561204872%2C%20-18.245544972121856%2C%200.0%5D%2C%20%5B-43.689009279300684%2C%20-18.24508013899674%2C%200.0%5D%2C%20%5B-43.6892391317383%2C%20-18.244460075585113%2C%200.0%5D%2C%20%5B-43.68940633986979%2C%20-18.243851537620515%2C%200.0%5D%2C%20%5B-43.68954942152293%2C%20-18.243123288737475%2C%200.0%5D%2C%20%5B-43.689640489045296%2C%20-18.2426576840623%2C%200.0%5D%2C%20%5B-43.68976881869934%2C%20-18.242228197896598%2C%200.0%5D%2C%20%5B-43.68982252413917%2C%20-18.242022946860583%2C%200.0%5D%2C%20%5B-43.68987185808192%2C%20-18.2418344022769%2C%200.0%5D%2C%20%5B-43.68987508227613%2C%20-18.241404060126108%2C%200.0%5D%2C%20%5B-43.68989180188165%2C%20-18.240842310083256%2C%200.0%5D%2C%20%5B-43.68978216405828%2C%20-18.24044705956793%2C%200.0%5D%2C%20%5B-43.689586118886766%2C%20-18.239895808562142%2C%200.0%5D%2C%20%5B-43.68928846970111%2C%20-18.239547089714733%2C%200.0%5D%2C%20%5B-43.688852850433285%2C%20-18.239245244342797%2C%200.0%5D%2C%20%5B-43.688541080089614%2C%20-18.239111609863123%2C%200.0%5D%2C%20%5B-43.68810420791806%2C%20-18.238977118137722%2C%200.0%5D%2C%20%5B-43.6883056079008%2C%20-18.23914795325356%2C%200.0%5D%2C%20%5B-43.6884813168542%2C%20-18.23932399182354%2C%200.0%5D%2C%20%5B-43.68869112309837%2C%20-18.23970797414478%2C%200.0%5D%2C%20%5B-43.68883757202338%2C%20-18.24019911361011%2C%200.0%5D%2C%20%5B-43.688933621762594%2C%20-18.24073772624144%2C%200.0%5D%2C%20%5B-43.688954251082606%2C%20-18.241323640812237%2C%200.0%5D%2C%20%5B-43.6889388727038%2C%20-18.241706081393097%2C%200.0%5D%2C%20%5B-43.68884905887611%2C%20-18.24200433048874%2C%200.0%5D%2C%20%5B-43.68869660269505%2C%20-18.242314105180704%2C%200.0%5D%2C%20%5B-43.688393212988316%2C%20-18.242730437088152%2C%200.0%5D%2C%20%5B-43.68817829236601%2C%20-18.243027828902925%2C%200.0%5D%2C%20%5B-43.68797561243807%2C%20-18.24336116794243%2C%200.0%5D%2C%20%5B-43.68787328538508%2C%20-18.243659330661394%2C%200.0%5D%2C%20%5B-43.687668450685955%2C%20-18.244279563711252%2C%200.0%5D%2C%20%5B-43.68753903726755%2C%20-18.244852495158927%2C%200.0%5D%2C%20%5B-43.687410699863975%2C%20-18.24528197924618%2C%200.0%5D%2C%20%5B-43.68724473986891%2C%20-18.245723159821125%2C%200.0%5D%2C%20%5B-43.687066537556674%2C%20-18.246128392610093%2C%200.0%5D%2C%20%5B-43.686800848791236%2C%20-18.24652107065564%2C%200.0%5D%2C%20%5B-43.6864099610461%2C%20-18.246924843933797%2C%200.0%5D%2C%20%5B-43.68619512139207%2C%20-18.247210278930094%2C%200.0%5D%2C%20%5B-43.686104850242344%2C%20-18.24756829571126%2C%200.0%5D%2C%20%5B-43.686050583711484%2C%20-18.248129786661764%2C%200.0%5D%2C%20%5B-43.68608119738186%2C%20-18.249050496201242%2C%200.0%5D%2C%20%5B-43.68613737221787%2C%20-18.24989965386808%2C%200.0%5D%2C%20%5B-43.68621856944532%2C%20-18.250748983196%2C%200.0%5D%2C%20%5B-43.68634838791795%2C%20-18.251555098877944%2C%200.0%5D%2C%20%5B-43.6867311076685%2C%20-18.25229752154595%2C%200.0%5D%2C%20%5B-43.68754638266365%2C%20-18.25302994884814%2C%200.0%5D%2C%20%5B-43.68824370977486%2C%20-18.25347465578143%2C%200.0%5D%5D%5D%5D%2C%20%22type%22%3A%20%22MultiPolygon%22%7D%2C%20%22id%22%3A%20%221%22%2C%20%22properties%22%3A%20%7B%22Hexadec%22%3A%20%22%2373ffdf%22%2C%20%22Id%22%3A%208%2C%20%22RGB%22%3A%20%22115%2C255%2C223%22%2C%20%22Unidades%22%3A%20%22Forma%5Cu00e7%5Cu00e3o%20Galho%20do%20Miguel%22%7D%2C%20%22type%22%3A%20%22Feature%22%7D%2C%20%7B%22bbox%22%3A%20%5B-43.73059537105421%2C%20-18.364223899338846%2C%20-43.68154028368104%2C%20-18.2355556851694%5D%2C%20%22geometry%22%3A%20%7B%22coordinates%22%3A%20%5B%5B%5B%5B-43.72959095430261%2C%20-18.3534297211949%2C%200.0%5D%2C%20%5B-43.728749595932925%2C%20-18.353438454714905%2C%200.0%5D%2C%20%5B-43.72806628776241%2C%20-18.35340520324497%2C%200.0%5D%2C%20%5B-43.727555422040915%2C%20-18.353416137546766%2C%200.0%5D%2C%20%5B-43.726946700709526%2C%20-18.353455107614103%2C%200.0%5D%2C%20%5B-43.72616469605467%2C%20-18.353564644637515%2C%200.0%5D%2C%20%5B-43.7247352540795%2C%20-18.353870682499522%2C%200.0%5D%2C%20%5B-43.72444200142172%2C%20-18.353911755785326%2C%200.0%5D%2C%20%5B-43.72414150083746%2C%20-18.353916916399232%2C%200.0%5D%2C%20%5B-43.722533577694804%2C%20-18.353977869168382%2C%200.0%5D%2C%20%5B-43.720715816291786%2C%20-18.35397284486117%2C%200.0%5D%2C%20%5B-43.72072856750782%2C%20-18.35428135775366%2C%200.0%5D%2C%20%5B-43.720727141405305%2C%20-18.354475011809008%2C%200.0%5D%2C%20%5B-43.72064261645873%2C%20-18.354732662385217%2C%200.0%5D%2C%20%5B-43.72048234493634%2C%20-18.355075876899356%2C%200.0%5D%2C%20%5B-43.72023944898175%2C%20-18.35541853620828%2C%200.0%5D%2C%20%5B-43.71987579036615%2C%20-18.355839283662426%2C%200.0%5D%2C%20%5B-43.71950530605303%2C%20-18.356166739028147%2C%200.0%5D%2C%20%5B-43.719478102830614%2C%20-18.356233900072148%2C%200.0%5D%2C%20%5B-43.71962198397244%2C%20-18.357095593927315%2C%200.0%5D%2C%20%5B-43.71960505992277%2C%20-18.358032715883482%2C%200.0%5D%2C%20%5B-43.71955759458497%2C%20-18.35835756020951%2C%200.0%5D%2C%20%5B-43.71947341884498%2C%20-18.35890690297523%2C%200.0%5D%2C%20%5B-43.72016439723184%2C%20-18.358921110638413%2C%200.0%5D%2C%20%5B-43.72061437690826%2C%20-18.35901976989827%2C%200.0%5D%2C%20%5B-43.720994144995494%2C%20-18.359132302122752%2C%200.0%5D%2C%20%5B-43.72121377563216%2C%20-18.35922941311303%2C%200.0%5D%2C%20%5B-43.72149776630114%2C%20-18.35942737402846%2C%200.0%5D%2C%20%5B-43.72168160513437%2C%20-18.359624662419343%2C%200.0%5D%2C%20%5B-43.721849752826934%2C%20-18.359912699881182%2C%200.0%5D%2C%20%5B-43.72190639563444%2C%20-18.360381698053953%2C%200.0%5D%2C%20%5B-43.72185220143088%2C%20-18.360940806938842%2C%200.0%5D%2C%20%5B-43.72174383746256%2C%20-18.36137522497529%2C%200.0%5D%2C%20%5B-43.72145350615536%2C%20-18.362037948537868%2C%200.0%5D%2C%20%5B-43.72105275627664%2C%20-18.362733402692985%2C%200.0%5D%2C%20%5B-43.720754588573975%2C%20-18.363099599743187%2C%200.0%5D%2C%20%5B-43.72065926567574%2C%20-18.36312286847067%2C%200.0%5D%2C%20%5B-43.72047937524243%2C%20-18.363069059957812%2C%200.0%5D%2C%20%5B-43.72021498809191%2C%20-18.362928610830387%2C%200.0%5D%2C%20%5B-43.71977222755289%2C%20-18.36252874445607%2C%200.0%5D%2C%20%5B-43.71966784143768%2C%20-18.362422842831762%2C%200.0%5D%2C%20%5B-43.719457764833265%2C%20-18.362387957716194%2C%200.0%5D%2C%20%5B-43.71912281332285%2C%20-18.362309196237526%2C%200.0%5D%2C%20%5B-43.71874307517179%2C%20-18.362191878391204%2C%200.0%5D%2C%20%5B-43.71845354656239%2C%20-18.362065603243966%2C%200.0%5D%2C%20%5B-43.71805444946516%2C%20-18.361857299407195%2C%200.0%5D%2C%20%5B-43.7178998115237%2C%20-18.361774967679427%2C%200.0%5D%2C%20%5B-43.71747631315066%2C%20-18.361480425853845%2C%200.0%5D%2C%20%5B-43.717060769326885%2C%20-18.361126164122776%2C%200.0%5D%2C%20%5B-43.71640431791101%2C%20-18.36050488775209%2C%200.0%5D%2C%20%5B-43.71565932536609%2C%20-18.359667830961435%2C%200.0%5D%2C%20%5B-43.71483605845699%2C%20-18.358581589500183%2C%200.0%5D%2C%20%5B-43.71431355790456%2C%20-18.35775930927417%2C%200.0%5D%2C%20%5B-43.714228777708946%2C%20-18.364112993652608%2C%200.0%5D%2C%20%5B-43.73051231488068%2C%20-18.364223899338846%2C%200.0%5D%2C%20%5B-43.73059537105421%2C%20-18.353278618419314%2C%200.0%5D%2C%20%5B-43.73015487049351%2C%20-18.35335458027216%2C%200.0%5D%2C%20%5B-43.72959095430261%2C%20-18.3534297211949%2C%200.0%5D%5D%5D%2C%20%5B%5B%5B-43.69471165878114%2C%20-18.303249614404475%2C%200.0%5D%2C%20%5B-43.69222514167677%2C%20-18.303361137692413%2C%200.0%5D%2C%20%5B-43.69147225689953%2C%20-18.303324610386678%2C%200.0%5D%2C%20%5B-43.6912887348588%2C%20-18.3035327357671%2C%200.0%5D%2C%20%5B-43.69041123038479%2C%20-18.304387443467927%2C%200.0%5D%2C%20%5B-43.68945992224843%2C%20-18.30506949549074%2C%200.0%5D%2C%20%5B-43.68869925959469%2C%20-18.305568450634908%2C%200.0%5D%2C%20%5B-43.688312832455594%2C%20-18.305821924399464%2C%200.0%5D%2C%20%5B-43.68813686765099%2C%20-18.305905701394202%2C%200.0%5D%2C%20%5B-43.687302949578466%2C%20-18.306302727103045%2C%200.0%5D%2C%20%5B-43.68657419615722%2C%20-18.30652184230608%2C%200.0%5D%2C%20%5B-43.68631345008711%2C%20-18.306577430004833%2C%200.0%5D%2C%20%5B-43.68591790179845%2C%20-18.306584271782256%2C%200.0%5D%2C%20%5B-43.685121330083206%2C%20-18.306660078391594%2C%200.0%5D%2C%20%5B-43.683703613055044%2C%20-18.3067842002425%2C%200.0%5D%2C%20%5B-43.68232097310316%2C%20-18.30690377173358%2C%200.0%5D%2C%20%5B-43.68180892295509%2C%20-18.30695761885399%2C%200.0%5D%2C%20%5B-43.68175039694726%2C%20-18.314698461679118%2C%200.0%5D%2C%20%5B-43.68169668953602%2C%20-18.32179858827137%2C%200.0%5D%2C%20%5B-43.682020287989126%2C%20-18.321836687090034%2C%200.0%5D%2C%20%5B-43.6825076575555%2C%20-18.32194047023702%2C%200.0%5D%2C%20%5B-43.682961315555644%2C%20-18.322033260479763%2C%200.0%5D%2C%20%5B-43.683493636108615%2C%20-18.32215169677164%2C%200.0%5D%2C%20%5B-43.6839244950304%2C%20-18.322280190797525%2C%200.0%5D%2C%20%5B-43.684400060548626%2C%20-18.3224556144827%2C%200.0%5D%2C%20%5B-43.68480444727077%2C%20-18.322609028398542%2C%200.0%5D%2C%20%5B-43.685122581169814%2C%20-18.3227475017658%2C%200.0%5D%2C%20%5B-43.68530200210525%2C%20-18.32285632818899%2C%200.0%5D%2C%20%5B-43.68561592158812%2C%20-18.32305573942456%2C%200.0%5D%2C%20%5B-43.6858658192985%2C%20-18.323279813566625%2C%200.0%5D%2C%20%5B-43.68604070117799%2C%20-18.32349261179355%2C%200.0%5D%2C%20%5B-43.686174036024084%2C%20-18.323737400793405%2C%200.0%5D%2C%20%5B-43.68624783434962%2C%20-18.323910053056938%2C%200.0%5D%2C%20%5B-43.68629518609211%2C%20-18.324104041203253%2C%200.0%5D%2C%20%5B-43.68631674090075%2C%20-18.32423329768224%2C%200.0%5D%2C%20%5B-43.686304582813925%2C%20-18.32435156301619%2C%200.0%5D%2C%20%5B-43.68625052511351%2C%20-18.3245484391895%2C%200.0%5D%2C%20%5B-43.68619279358977%2C%20-18.324734531033048%2C%200.0%5D%2C%20%5B-43.68617660968844%2C%20-18.324888631967575%2C%200.0%5D%2C%20%5B-43.686194084638785%2C%20-18.325060896368065%2C%200.0%5D%2C%20%5B-43.686275339152544%2C%20-18.325240772648314%2C%200.0%5D%2C%20%5B-43.68642698993527%2C%20-18.32554665533985%2C%200.0%5D%2C%20%5B-43.68659709108217%2C%20-18.325895700975003%2C%200.0%5D%2C%20%5B-43.686667054462056%2C%20-18.32607908571536%2C%200.0%5D%2C%20%5B-43.68679568971445%2C%20-18.326449363739147%2C%200.0%5D%2C%20%5B-43.68682053991269%2C%20-18.32663961054302%2C%200.0%5D%2C%20%5B-43.68682623644284%2C%20-18.32687993417666%2C%200.0%5D%2C%20%5B-43.68681737323109%2C%20-18.327059189889802%2C%200.0%5D%2C%20%5B-43.68678598018637%2C%20-18.327238290499125%2C%200.0%5D%2C%20%5B-43.686675245427416%2C%20-18.327481398871456%2C%200.0%5D%2C%20%5B-43.6865229348602%2C%20-18.327760084218678%2C%200.0%5D%2C%20%5B-43.68623182479104%2C%20-18.328019881825462%2C%200.0%5D%2C%20%5B-43.68586593914444%2C%20-18.328236127792923%2C%200.0%5D%2C%20%5B-43.68548543908769%2C%20-18.328398477301317%2C%200.0%5D%2C%20%5B-43.68505628608265%2C%20-18.328538972621967%2C%200.0%5D%2C%20%5B-43.68417620763526%2C%20-18.32871939278392%2C%200.0%5D%2C%20%5B-43.68369897059453%2C%20-18.328762722311932%2C%200.0%5D%2C%20%5B-43.683319498985064%2C%20-18.32878879387371%2C%200.0%5D%2C%20%5B-43.682954558622505%2C%20-18.328879518938802%2C%200.0%5D%2C%20%5B-43.6824651055005%2C%20-18.329048282490778%2C%200.0%5D%2C%20%5B-43.68208071007254%2C%20-18.32922852964381%2C%200.0%5D%2C%20%5B-43.68163850239636%2C%20-18.32948727545823%2C%200.0%5D%2C%20%5B-43.68154028368104%2C%20-18.34245700146794%2C%200.0%5D%2C%20%5B-43.69251596194867%2C%20-18.342532925545253%2C%200.0%5D%2C%20%5B-43.69269182787937%2C%20-18.34253413695117%2C%200.0%5D%2C%20%5B-43.6927542614771%2C%20-18.34222208423019%2C%200.0%5D%2C%20%5B-43.692893065483545%2C%20-18.34174246700836%2C%200.0%5D%2C%20%5B-43.6931164257863%2C%20-18.34100521306895%2C%200.0%5D%2C%20%5B-43.69331590479751%2C%20-18.340447111887038%2C%200.0%5D%2C%20%5B-43.69351462786723%2C%20-18.3399894226678%2C%200.0%5D%2C%20%5B-43.693759705973484%2C%20-18.339359906544104%2C%200.0%5D%2C%20%5B-43.693958103216204%2C%20-18.33894525050813%2C%200.0%5D%2C%20%5B-43.69421706261814%2C%20-18.338400466248736%2C%200.0%5D%2C%20%5B-43.69425514873055%2C%20-18.338325015559626%2C%200.0%5D%2C%20%5B-43.694425818384545%2C%20-18.33798690859022%2C%200.0%5D%2C%20%5B-43.694603201732555%2C%20-18.33786977395182%2C%200.0%5D%2C%20%5B-43.6948185137581%2C%20-18.33770269001783%2C%200.0%5D%2C%20%5B-43.69499786694706%2C%20-18.3375231661423%2C%200.0%5D%2C%20%5B-43.695209988066836%2C%20-18.337280746723646%2C%200.0%5D%2C%20%5B-43.695431448443856%2C%20-18.336794519745474%2C%200.0%5D%2C%20%5B-43.695517075539264%2C%20-18.33639343537301%2C%200.0%5D%2C%20%5B-43.695581354734564%2C%20-18.33583440586136%2C%200.0%5D%2C%20%5B-43.695573542918716%2C%20-18.33487321285562%2C%200.0%5D%2C%20%5B-43.69553022375766%2C%20-18.333639214872154%2C%200.0%5D%2C%20%5B-43.69546362096455%2C%20-18.332505475086514%2C%200.0%5D%2C%20%5B-43.695404959004655%2C%20-18.331314408030334%2C%200.0%5D%2C%20%5B-43.695353000523006%2C%20-18.330230977011187%2C%200.0%5D%2C%20%5B-43.69530742270111%2C%20-18.32929821597097%2C%200.0%5D%2C%20%5B-43.69530807101883%2C%20-18.32855492011033%2C%200.0%5D%2C%20%5B-43.69530841107948%2C%20-18.328164938117055%2C%200.0%5D%2C%20%5B-43.69534372182234%2C%20-18.32746225619279%2C%200.0%5D%2C%20%5B-43.695423177518755%2C%20-18.326881811813827%2C%200.0%5D%2C%20%5B-43.69531706583149%2C%20-18.326306880474434%2C%200.0%5D%2C%20%5B-43.695168530078135%2C%20-18.32541645109674%2C%200.0%5D%2C%20%5B-43.69506587927804%2C%20-18.324416354220045%2C%200.0%5D%2C%20%5B-43.695048447825606%2C%20-18.323402494765148%2C%200.0%5D%2C%20%5B-43.69508711464888%2C%20-18.322919798042946%2C%200.0%5D%2C%20%5B-43.695160360636045%2C%20-18.322499501086785%2C%200.0%5D%2C%20%5B-43.69532133313612%2C%20-18.32173073291664%2C%200.0%5D%2C%20%5B-43.695495961563566%2C%20-18.321143766063408%2C%200.0%5D%2C%20%5B-43.69571482263171%2C%20-18.320667082607443%2C%200.0%5D%2C%20%5B-43.695700304904186%2C%20-18.320600038228907%2C%200.0%5D%2C%20%5B-43.69550731101171%2C%20-18.320297465810462%2C%200.0%5D%2C%20%5B-43.69523550517%2C%20-18.319822209711862%2C%200.0%5D%2C%20%5B-43.69505302756439%2C%20-18.31945276366918%2C%200.0%5D%2C%20%5B-43.694623681662875%2C%20-18.318532360051105%2C%200.0%5D%2C%20%5B-43.69428477715913%2C%20-18.31765855937283%2C%200.0%5D%2C%20%5B-43.69410587756195%2C%20-18.316979515819536%2C%200.0%5D%2C%20%5B-43.69395958817726%2C%20-18.316458494537127%2C%200.0%5D%2C%20%5B-43.69385505899958%2C%20-18.315876791064163%2C%200.0%5D%2C%20%5B-43.693808910982604%2C%20-18.315521426927894%2C%200.0%5D%2C%20%5B-43.69377762054994%2C%20-18.315187682540433%2C%200.0%5D%2C%20%5B-43.69377628716613%2C%20-18.31486490220051%2C%200.0%5D%2C%20%5B-43.6938131464334%2C%20-18.314456310888943%2C%200.0%5D%2C%20%5B-43.693864620729094%2C%20-18.314101614762382%2C%200.0%5D%2C%20%5B-43.69388085000461%2C%20-18.313940340188054%2C%200.0%5D%2C%20%5B-43.693833787564884%2C%20-18.313706905569415%2C%200.0%5D%2C%20%5B-43.69379841968449%2C%20-18.3134161694088%2C%200.0%5D%2C%20%5B-43.693774907723224%2C%20-18.313046614725504%2C%200.0%5D%2C%20%5B-43.6938196253272%2C%20-18.312591454570597%2C%200.0%5D%2C%20%5B-43.69386737104008%2C%20-18.3122331464852%2C%200.0%5D%2C%20%5B-43.69396816566132%2C%20-18.311810647045547%2C%200.0%5D%2C%20%5B-43.69411798512349%2C%20-18.31135979208969%2C%200.0%5D%2C%20%5B-43.69429041215381%2C%20-18.310898332534812%2C%200.0%5D%2C%20%5B-43.6945669698623%2C%20-18.310119834270317%2C%200.0%5D%2C%20%5B-43.69467313332592%2C%20-18.309732038964707%2C%200.0%5D%2C%20%5B-43.694777535313094%2C%20-18.309351842548004%2C%200.0%5D%2C%20%5B-43.69488073909445%2C%20-18.30894131325948%2C%200.0%5D%2C%20%5B-43.69494861301189%2C%20-18.30856879678493%2C%200.0%5D%2C%20%5B-43.69498158724113%2C%20-18.308176914511442%2C%200.0%5D%2C%20%5B-43.69501084478629%2C%20-18.30761286196456%2C%200.0%5D%2C%20%5B-43.69501846583855%2C%20-18.307263842559397%2C%200.0%5D%2C%20%5B-43.694995907198916%2C%20-18.306933744080524%2C%200.0%5D%2C%20%5B-43.69496333651034%2C%20-18.306603577163575%2C%200.0%5D%2C%20%5B-43.694920180679745%2C%20-18.306349846716174%2C%200.0%5D%2C%20%5B-43.694852711259564%2C%20-18.30600031404056%2C%200.0%5D%2C%20%5B-43.694774907606565%2C%20-18.305693746921296%2C%200.0%5D%2C%20%5B-43.694647581500966%2C%20-18.305315114222022%2C%200.0%5D%2C%20%5B-43.694599169527734%2C%20-18.30509482039501%2C%200.0%5D%2C%20%5B-43.69456573981587%2C%20-18.304879410782767%2C%200.0%5D%2C%20%5B-43.69455211915403%2C%20-18.30469282739689%2C%200.0%5D%2C%20%5B-43.69455652599066%2C%20-18.304104695875782%2C%200.0%5D%2C%20%5B-43.69457333523902%2C%20-18.303865720672455%2C%200.0%5D%2C%20%5B-43.69459507872783%2C%20-18.30363634279334%2C%200.0%5D%2C%20%5B-43.69466702496267%2C%20-18.303388180848074%2C%200.0%5D%2C%20%5B-43.69471165878114%2C%20-18.303249614404475%2C%200.0%5D%5D%2C%20%5B%5B-43.69026748814546%2C%20-18.31429669533722%2C%200.0%5D%2C%20%5B-43.690152779092465%2C%20-18.31457086114352%2C%200.0%5D%2C%20%5B-43.6899677422728%2C%20-18.314210956973273%2C%200.0%5D%2C%20%5B-43.689611175915466%2C%20-18.3133597416842%2C%200.0%5D%2C%20%5B-43.68937886822902%2C%20-18.312628923793444%2C%200.0%5D%2C%20%5B-43.68933348458331%2C%20-18.31200697945934%2C%200.0%5D%2C%20%5B-43.6893363635249%2C%20-18.311624455989463%2C%200.0%5D%2C%20%5B-43.68942685033356%2C%20-18.311242533972727%2C%200.0%5D%2C%20%5B-43.689551194992305%2C%20-18.311350977885297%2C%200.0%5D%2C%20%5B-43.689861832496526%2C%20-18.31165197200276%2C%200.0%5D%2C%20%5B-43.69017085267968%2C%20-18.31216813519155%2C%200.0%5D%2C%20%5B-43.69036705506619%2C%20-18.31270743293093%2C%200.0%5D%2C%20%5B-43.69040127537555%2C%20-18.31314998342605%2C%200.0%5D%2C%20%5B-43.69038480407592%2C%20-18.31367586746486%2C%200.0%5D%2C%20%5B-43.69026748814546%2C%20-18.31429669533722%2C%200.0%5D%5D%5D%2C%20%5B%5B%5B-43.684891551938826%2C%20-18.286441996328673%2C%200.0%5D%2C%20%5B-43.684261451877916%2C%20-18.286994950760995%2C%200.0%5D%2C%20%5B-43.68720470217841%2C%20-18.28699489248464%2C%200.0%5D%2C%20%5B-43.68708633825881%2C%20-18.302615424549852%2C%200.0%5D%2C%20%5B-43.68719274839523%2C%20-18.302654409613496%2C%200.0%5D%2C%20%5B-43.68775297853035%2C%20-18.302050972261107%2C%200.0%5D%2C%20%5B-43.68816151634093%2C%20-18.30164732646743%2C%200.0%5D%2C%20%5B-43.68821261912379%2C%20-18.30150900546015%2C%200.0%5D%2C%20%5B-43.68821405894983%2C%20-18.30131774360337%2C%200.0%5D%2C%20%5B-43.68819612317662%2C%20-18.301040276375886%2C%200.0%5D%2C%20%5B-43.688093879681496%2C%20-18.300657030601194%2C%200.0%5D%2C%20%5B-43.687879238193155%2C%20-18.299909596337216%2C%200.0%5D%2C%20%5B-43.68777796799275%2C%20-18.299397248677582%2C%200.0%5D%2C%20%5B-43.687780992235%2C%20-18.298995598755308%2C%200.0%5D%2C%20%5B-43.68779355998502%2C%20-18.298656177703787%2C%200.0%5D%2C%20%5B-43.68789615992715%2C%20-18.298326938686582%2C%200.0%5D%2C%20%5B-43.68801827866648%2C%20-18.298064778773846%2C%200.0%5D%2C%20%5B-43.68814507888606%2C%20-18.297845687063344%2C%200.0%5D%2C%20%5B-43.688472937312305%2C%20-18.297517994480657%2C%200.0%5D%2C%20%5B-43.68891596302155%2C%20-18.297186309929845%2C%200.0%5D%2C%20%5B-43.68933370661172%2C%20-18.296887923366594%2C%200.0%5D%2C%20%5B-43.6895997362119%2C%20-18.296842048009182%2C%200.0%5D%2C%20%5B-43.69005867915677%2C%20-18.296723259796977%2C%200.0%5D%2C%20%5B-43.69035642997862%2C%20-18.296570908973706%2C%200.0%5D%2C%20%5B-43.690662253279456%2C%20-18.296343478953663%2C%200.0%5D%2C%20%5B-43.690874729975285%2C%20-18.296047268078816%2C%200.0%5D%2C%20%5B-43.690993429356126%2C%20-18.295739655323896%2C%200.0%5D%2C%20%5B-43.69103274965428%2C%20-18.29550322560696%2C%200.0%5D%2C%20%5B-43.69105812982366%2C%20-18.29512324632981%2C%200.0%5D%2C%20%5B-43.69103837776537%2C%20-18.294753716864168%2C%200.0%5D%2C%20%5B-43.69093646277775%2C%20-18.29432624281892%2C%200.0%5D%2C%20%5B-43.69078150388202%2C%20-18.29396295956608%2C%200.0%5D%2C%20%5B-43.69057379757045%2C%20-18.29362441916643%2C%200.0%5D%2C%20%5B-43.690346377929075%2C%20-18.29341126571822%2C%200.0%5D%2C%20%5B-43.69008112006298%2C%20-18.293237302464433%2C%200.0%5D%2C%20%5B-43.68970326264768%2C%20-18.29305898035231%2C%200.0%5D%2C%20%5B-43.68923645706884%2C%20-18.292893197288937%2C%200.0%5D%2C%20%5B-43.688494216653446%2C%20-18.292742258997233%2C%200.0%5D%2C%20%5B-43.688189284912184%2C%20-18.292701976531543%2C%200.0%5D%2C%20%5B-43.68784967990686%2C%20-18.29253108274291%2C%200.0%5D%2C%20%5B-43.687680784273475%2C%20-18.292357778088896%2C%200.0%5D%2C%20%5B-43.687591798876745%2C%20-18.292208931182945%2C%200.0%5D%2C%20%5B-43.687583335355555%2C%20-18.292003255774507%2C%200.0%5D%2C%20%5B-43.68768020550031%2C%20-18.291769613050942%2C%200.0%5D%2C%20%5B-43.68796815167818%2C%20-18.291422519230096%2C%200.0%5D%2C%20%5B-43.68835674796935%2C%20-18.291004388839674%2C%200.0%5D%2C%20%5B-43.68853366974209%2C%20-18.29077607684642%2C%200.0%5D%2C%20%5B-43.68872128540265%2C%20-18.290456983850035%2C%200.0%5D%2C%20%5B-43.68881829688114%2C%20-18.290204214149274%2C%200.0%5D%2C%20%5B-43.68893107970921%2C%20-18.28985113477994%2C%200.0%5D%2C%20%5B-43.688973137342465%2C%20-18.28958364250962%2C%200.0%5D%2C%20%5B-43.68905931003137%2C%20-18.289440779671356%2C%200.0%5D%2C%20%5B-43.6891898854263%2C%20-18.28938429378136%2C%200.0%5D%2C%20%5B-43.68959158627192%2C%20-18.289219685745977%2C%200.0%5D%2C%20%5B-43.68990865936643%2C%20-18.288992333240106%2C%200.0%5D%2C%20%5B-43.69025126205317%2C%20-18.28869820989016%2C%200.0%5D%2C%20%5B-43.69046467609529%2C%20-18.288480510353505%2C%200.0%5D%2C%20%5B-43.69072478756186%2C%20-18.288380864637357%2C%200.0%5D%2C%20%5B-43.69108371840078%2C%20-18.288078483336513%2C%200.0%5D%2C%20%5B-43.69141851748853%2C%20-18.287656390920226%2C%200.0%5D%2C%20%5B-43.69166643639232%2C%20-18.287138066951194%2C%200.0%5D%2C%20%5B-43.69176369659288%2C%20-18.286684461175113%2C%200.0%5D%2C%20%5B-43.69179145872829%2C%20-18.286320038481954%2C%200.0%5D%2C%20%5B-43.6917686730764%2C%20-18.286021019619298%2C%200.0%5D%2C%20%5B-43.69169020394744%2C%20-18.285637937981743%2C%200.0%5D%2C%20%5B-43.691554751499936%2C%20-18.285344125103897%2C%200.0%5D%2C%20%5B-43.691282726748256%2C%20-18.284905922888818%2C%200.0%5D%2C%20%5B-43.69112332486865%2C%20-18.28446849158835%2C%200.0%5D%2C%20%5B-43.69103815237711%2C%20-18.28414513641839%2C%200.0%5D%2C%20%5B-43.69102301518757%2C%20-18.283660874871128%2C%200.0%5D%2C%20%5B-43.69105082279516%2C%20-18.283290475289544%2C%200.0%5D%2C%20%5B-43.69116667244396%2C%20-18.28286090594097%2C%200.0%5D%2C%20%5B-43.6912063841954%2C%20-18.28278299529697%2C%200.0%5D%2C%20%5B-43.691298477030905%2C%20-18.282659986207562%2C%200.0%5D%2C%20%5B-43.69160817955322%2C%20-18.282301079758568%2C%200.0%5D%2C%20%5B-43.69208897468727%2C%20-18.281599053148664%2C%200.0%5D%2C%20%5B-43.692330490767894%2C%20-18.281098615391382%2C%200.0%5D%2C%20%5B-43.692471809910664%2C%20-18.28060944648775%2C%200.0%5D%2C%20%5B-43.69260321266057%2C%20-18.27977352832964%2C%200.0%5D%2C%20%5B-43.69274605227039%2C%20-18.279081142478304%2C%200.0%5D%2C%20%5B-43.69267348133007%2C%20-18.27874591947707%2C%200.0%5D%2C%20%5B-43.69250958184677%2C%20-18.27861659200475%2C%200.0%5D%2C%20%5B-43.692354132817435%2C%20-18.27865378337541%2C%200.0%5D%2C%20%5B-43.69216832974114%2C%20-18.27873380327877%2C%200.0%5D%2C%20%5B-43.69196119263273%2C%20-18.27885527878318%2C%200.0%5D%2C%20%5B-43.69162151013771%2C%20-18.279096826816573%2C%200.0%5D%2C%20%5B-43.690748910549786%2C%20-18.279849248024117%2C%200.0%5D%2C%20%5B-43.69043610749087%2C%20-18.28017705032763%2C%200.0%5D%2C%20%5B-43.69016348913654%2C%20-18.280486000144684%2C%200.0%5D%2C%20%5B-43.68991539359973%2C%20-18.28086206284647%2C%200.0%5D%2C%20%5B-43.68946446258835%2C%20-18.281585806516315%2C%200.0%5D%2C%20%5B-43.68930825598545%2C%20-18.281723407917152%2C%200.0%5D%2C%20%5B-43.68905208639018%2C%20-18.281841196464576%2C%200.0%5D%2C%20%5B-43.688866062903855%2C%20-18.2819499021663%2C%200.0%5D%2C%20%5B-43.68876973977135%2C%20-18.282111822813032%2C%200.0%5D%2C%20%5B-43.68862199722288%2C%20-18.282455099188006%2C%200.0%5D%2C%20%5B-43.68845534709685%2C%20-18.282650009788195%2C%200.0%5D%2C%20%5B-43.68818365615502%2C%20-18.282834635790106%2C%200.0%5D%2C%20%5B-43.68798733267448%2C%20-18.282981524266194%2C%200.0%5D%2C%20%5B-43.68777588488907%2C%20-18.283142654099663%2C%200.0%5D%2C%20%5B-43.68770487462946%2C%20-18.283266493452494%2C%200.0%5D%2C%20%5B-43.68768388193895%2C%20-18.283395457969387%2C%200.0%5D%2C%20%5B-43.687526880819995%2C%20-18.283638251886313%2C%200.0%5D%2C%20%5B-43.68721581175791%2C%20-18.2840664777831%2C%200.0%5D%2C%20%5B-43.68688999491778%2C%20-18.28445873825663%2C%200.0%5D%2C%20%5B-43.68636750736055%2C%20-18.285043309353483%2C%200.0%5D%2C%20%5B-43.68564741379337%2C%20-18.285777744336002%2C%200.0%5D%2C%20%5B-43.684891551938826%2C%20-18.286441996328673%2C%200.0%5D%5D%5D%2C%20%5B%5B%5B-43.69830816308325%2C%20-18.312796234008566%2C%200.0%5D%2C%20%5B-43.698561515380945%2C%20-18.313060960723522%2C%200.0%5D%2C%20%5B-43.698769347722404%2C%20-18.313387540291487%2C%200.0%5D%2C%20%5B-43.698867471888704%2C%20-18.31365599021551%2C%200.0%5D%2C%20%5B-43.69897407261067%2C%20-18.314130115457203%2C%200.0%5D%2C%20%5B-43.69901580649953%2C%20-18.314575107700193%2C%200.0%5D%2C%20%5B-43.69898308920132%2C%20-18.3149335199865%2C%200.0%5D%2C%20%5B-43.69886444271311%2C%20-18.31540132795976%2C%200.0%5D%2C%20%5B-43.69870688855932%2C%20-18.31571585283509%2C%200.0%5D%2C%20%5B-43.698443950788416%2C%20-18.31606313152034%2C%200.0%5D%2C%20%5B-43.698342823340994%2C%20-18.316196332315993%2C%200.0%5D%2C%20%5B-43.69810627009104%2C%20-18.316446361174048%2C%200.0%5D%2C%20%5B-43.69777164979496%2C%20-18.31683857689132%2C%200.0%5D%2C%20%5B-43.69754310002921%2C%20-18.31727335659654%2C%200.0%5D%2C%20%5B-43.697383610262655%2C%20-18.317678721083922%2C%200.0%5D%2C%20%5B-43.6973120891623%2C%20-18.31803686788571%2C%200.0%5D%2C%20%5B-43.69731928264682%2C%20-18.31874820968158%2C%200.0%5D%2C%20%5B-43.69741471450801%2C%20-18.319376472278716%2C%200.0%5D%2C%20%5B-43.69743603435392%2C%20-18.31987272947418%2C%200.0%5D%2C%20%5B-43.69737608893098%2C%20-18.320356477413025%2C%200.0%5D%2C%20%5B-43.69715244889194%2C%20-18.320970607133894%2C%200.0%5D%2C%20%5B-43.696866852646295%2C%20-18.321500631888778%2C%200.0%5D%2C%20%5B-43.69646029114986%2C%20-18.322304783014495%2C%200.0%5D%2C%20%5B-43.69629980849785%2C%20-18.32284163860057%2C%200.0%5D%2C%20%5B-43.696112948658914%2C%20-18.32355763103148%2C%200.0%5D%2C%20%5B-43.69605192276965%2C%20-18.324184824565414%2C%200.0%5D%2C%20%5B-43.6960715364887%2C%20-18.324908205078017%2C%200.0%5D%2C%20%5B-43.696112343376285%2C%20-18.325308959275848%2C%200.0%5D%2C%20%5B-43.6962338806345%2C%20-18.325793946606538%2C%200.0%5D%2C%20%5B-43.69639292331076%2C%20-18.326285167415833%2C%200.0%5D%2C%20%5B-43.69652729186055%2C%20-18.32672840157762%2C%200.0%5D%2C%20%5B-43.69660614225079%2C%20-18.32706366595852%2C%200.0%5D%2C%20%5B-43.69665280589353%2C%20-18.327518255255363%2C%200.0%5D%2C%20%5B-43.69666241223865%2C%20-18.327906841668657%2C%200.0%5D%2C%20%5B-43.69666267070909%2C%20-18.32870779391331%2C%200.0%5D%2C%20%5B-43.69661952325357%2C%20-18.32945465431546%2C%200.0%5D%2C%20%5B-43.69653609287374%2C%20-18.33056585103576%2C%200.0%5D%2C%20%5B-43.69649177935206%2C%20-18.331468111491542%2C%200.0%5D%2C%20%5B-43.69646556862139%2C%20-18.33246015415943%2C%200.0%5D%2C%20%5B-43.69647557720309%2C%20-18.332794947978673%2C%200.0%5D%2C%20%5B-43.69654092698414%2C%20-18.333261619314616%2C%200.0%5D%2C%20%5B-43.696656703638894%2C%20-18.33368081736402%2C%200.0%5D%2C%20%5B-43.696928631077974%2C%20-18.334142923111727%2C%200.0%5D%2C%20%5B-43.6971574663118%2C%20-18.33450909828741%2C%200.0%5D%2C%20%5B-43.69727423007182%2C%20-18.33479680351053%2C%200.0%5D%2C%20%5B-43.69733412966839%2C%20-18.335155847096242%2C%200.0%5D%2C%20%5B-43.69734427403625%2C%20-18.33547271009151%2C%200.0%5D%2C%20%5B-43.69732321488377%2C%20-18.33577740542919%2C%200.0%5D%2C%20%5B-43.69722673871562%2C%20-18.33612342616593%2C%200.0%5D%2C%20%5B-43.697067541409545%2C%20-18.33648694995567%2C%200.0%5D%2C%20%5B-43.69696570133986%2C%20-18.336713389073235%2C%200.0%5D%2C%20%5B-43.6964978573094%2C%20-18.33733780118444%2C%200.0%5D%2C%20%5B-43.69597895421577%2C%20-18.338093361888042%2C%200.0%5D%2C%20%5B-43.69570011954338%2C%20-18.33855170165919%2C%200.0%5D%2C%20%5B-43.69536298151712%2C%20-18.339272640229282%2C%200.0%5D%2C%20%5B-43.695196845509436%2C%20-18.339725772973114%2C%200.0%5D%2C%20%5B-43.6951186452844%2C%20-18.340137666788987%2C%200.0%5D%2C%20%5B-43.69509895318705%2C%20-18.3402891338385%2C%200.0%5D%2C%20%5B-43.69505886205874%2C%20-18.340597504458636%2C%200.0%5D%2C%20%5B-43.69504324892053%2C%20-18.341009826582134%2C%200.0%5D%2C%20%5B-43.695107833722815%2C%20-18.341578105686363%2C%200.0%5D%2C%20%5B-43.695254994895485%2C%20-18.34198556472876%2C%200.0%5D%2C%20%5B-43.6953843669925%2C%20-18.34226140283671%2C%200.0%5D%2C%20%5B-43.69550806370139%2C%20-18.342459498020702%2C%200.0%5D%2C%20%5B-43.695576206403274%2C%20-18.342553982077494%2C%200.0%5D%2C%20%5B-43.70330722308958%2C%20-18.34260695783573%2C%200.0%5D%2C%20%5B-43.703484786566115%2C%20-18.34260817088254%2C%200.0%5D%2C%20%5B-43.70358055928877%2C%20-18.342355406507167%2C%200.0%5D%2C%20%5B-43.70376290034447%2C%20-18.342076911323645%2C%200.0%5D%2C%20%5B-43.70427054938998%2C%20-18.34148502862968%2C%200.0%5D%2C%20%5B-43.70464188228568%2C%20-18.341042844848857%2C%200.0%5D%2C%20%5B-43.70503649288655%2C%20-18.340500400522988%2C%200.0%5D%2C%20%5B-43.70524887175476%2C%20-18.340222107662676%2C%200.0%5D%2C%20%5B-43.705610873328176%2C%20-18.34002373018276%2C%200.0%5D%2C%20%5B-43.70598067053849%2C%20-18.339946773007043%2C%200.0%5D%2C%20%5B-43.70615560640306%2C%20-18.339944772454125%2C%200.0%5D%2C%20%5B-43.70646632670151%2C%20-18.339908626535927%2C%200.0%5D%2C%20%5B-43.70678276525024%2C%20-18.339776882815052%2C%200.0%5D%2C%20%5B-43.70709948780294%2C%20-18.33960688603058%2C%200.0%5D%2C%20%5B-43.70726077899027%2C%20-18.339464525636743%2C%200.0%5D%2C%20%5B-43.707503106272334%2C%20-18.339198387548166%2C%200.0%5D%2C%20%5B-43.707720753183075%2C%20-18.338884263760047%2C%200.0%5D%2C%20%5B-43.707843266457864%2C%20-18.338569494935328%2C%200.0%5D%2C%20%5B-43.70803172270042%2C%20-18.338140409501342%2C%200.0%5D%2C%20%5B-43.708089037622756%2C%20-18.337839544049274%2C%200.0%5D%2C%20%5B-43.708074798288564%2C%20-18.337734247814737%2C%200.0%5D%2C%20%5B-43.708015780509896%2C%20-18.33759039370231%2C%200.0%5D%2C%20%5B-43.707932722848305%2C%20-18.33731248607815%2C%200.0%5D%2C%20%5B-43.70792129041128%2C%20-18.336829446105924%2C%200.0%5D%2C%20%5B-43.707972994053755%2C%20-18.33660983333534%2C%200.0%5D%2C%20%5B-43.70808449650516%2C%20-18.336428880171276%2C%200.0%5D%2C%20%5B-43.70828097436783%2C%20-18.336267629830655%2C%200.0%5D%2C%20%5B-43.708709083943994%2C%20-18.335931021113325%2C%200.0%5D%2C%20%5B-43.709067201659245%2C%20-18.335579592068857%2C%200.0%5D%2C%20%5B-43.70922468712914%2C%20-18.335274622364715%2C%200.0%5D%2C%20%5B-43.70929289967878%2C%20-18.334854284813517%2C%200.0%5D%2C%20%5B-43.709317895170265%2C%20-18.334185000560034%2C%200.0%5D%2C%20%5B-43.70922503584582%2C%20-18.333878336177815%2C%200.0%5D%2C%20%5B-43.709146877971556%2C%20-18.333614807567372%2C%200.0%5D%2C%20%5B-43.70891404058832%2C%20-18.333278504640916%2C%200.0%5D%2C%20%5B-43.708606882656035%2C%20-18.3328364983944%2C%200.0%5D%2C%20%5B-43.70844069814494%2C%20-18.3322902466675%2C%200.0%5D%2C%20%5B-43.70824881292191%2C%20-18.331275933575157%2C%200.0%5D%2C%20%5B-43.70843690516405%2C%20-18.330414157355342%2C%200.0%5D%2C%20%5B-43.708526520193516%2C%20-18.330145787307107%2C%200.0%5D%2C%20%5B-43.70863439997123%2C%20-18.32994627939551%2C%200.0%5D%2C%20%5B-43.70880752713688%2C%20-18.329809974390358%2C%200.0%5D%2C%20%5B-43.70902772525647%2C%20-18.329656056014723%2C%200.0%5D%2C%20%5B-43.70943583066332%2C%20-18.329482488434586%2C%200.0%5D%2C%20%5B-43.70984653260852%2C%20-18.32938066469838%2C%200.0%5D%2C%20%5B-43.71017849439703%2C%20-18.329347046185834%2C%200.0%5D%2C%20%5B-43.71077317654006%2C%20-18.329333134826715%2C%200.0%5D%2C%20%5B-43.711520990669015%2C%20-18.329347153817036%2C%200.0%5D%2C%20%5B-43.71179926889981%2C%20-18.32937891978748%2C%200.0%5D%2C%20%5B-43.71198034262607%2C%20-18.329436926698964%2C%200.0%5D%2C%20%5B-43.712179793543996%2C%20-18.329548852965303%2C%200.0%5D%2C%20%5B-43.712381975793505%2C%20-18.329714592917973%2C%200.0%5D%2C%20%5B-43.7126144111811%2C%20-18.33002100276128%2C%200.0%5D%2C%20%5B-43.712740984385135%2C%20-18.330254970650437%2C%200.0%5D%2C%20%5B-43.71293106063005%2C%20-18.33078823060649%2C%200.0%5D%2C%20%5B-43.71303697997205%2C%20-18.331276093010384%2C%200.0%5D%2C%20%5B-43.71307661063469%2C%20-18.33184121260434%2C%200.0%5D%2C%20%5B-43.71307298449764%2C%20-18.33233132438979%2C%200.0%5D%2C%20%5B-43.713023237319845%2C%20-18.33271054540091%2C%200.0%5D%2C%20%5B-43.71293906782293%2C%20-18.333089534062125%2C%200.0%5D%2C%20%5B-43.71288156872733%2C%20-18.33324754366136%2C%200.0%5D%2C%20%5B-43.71277444553714%2C%20-18.333373339510576%2C%200.0%5D%2C%20%5B-43.71250223502945%2C%20-18.333620156337588%2C%200.0%5D%2C%20%5B-43.71168453628517%2C%20-18.33450405140052%2C%200.0%5D%2C%20%5B-43.7109980719211%2C%20-18.335245375213944%2C%200.0%5D%2C%20%5B-43.71089665792939%2C%20-18.335416834891237%2C%200.0%5D%2C%20%5B-43.710944813089185%2C%20-18.335675378293345%2C%200.0%5D%2C%20%5B-43.71116157355897%2C%20-18.3361550247555%2C%200.0%5D%2C%20%5B-43.71138905768807%2C%20-18.33653910723839%2C%200.0%5D%2C%20%5B-43.71174700689737%2C%20-18.336885816506054%2C%200.0%5D%2C%20%5B-43.71214586313199%2C%20-18.33711803795583%2C%200.0%5D%2C%20%5B-43.71258576742043%2C%20-18.337216645000776%2C%200.0%5D%2C%20%5B-43.713026167719306%2C%20-18.337248309000532%2C%200.0%5D%2C%20%5B-43.713496327027244%2C%20-18.337318427309395%2C%200.0%5D%2C%20%5B-43.713706124421485%2C%20-18.33738678818649%2C%200.0%5D%2C%20%5B-43.71390505928532%2C%20-18.33756983915008%2C%200.0%5D%2C%20%5B-43.714003430619364%2C%20-18.337809593459273%2C%200.0%5D%2C%20%5B-43.71423127675186%2C%20-18.338145857232284%2C%200.0%5D%2C%20%5B-43.71477893566999%2C%20-18.338570349589027%2C%200.0%5D%2C%20%5B-43.71513823867788%2C%20-18.33873535309637%2C%200.0%5D%2C%20%5B-43.71536813721771%2C%20-18.338794284092863%2C%200.0%5D%2C%20%5B-43.71590762332339%2C%20-18.338970063833454%2C%200.0%5D%2C%20%5B-43.71646692691938%2C%20-18.339174666435383%2C%200.0%5D%2C%20%5B-43.71699736045798%2C%20-18.339449429686173%2C%200.0%5D%2C%20%5B-43.71706551197266%2C%20-18.339484731835164%2C%200.0%5D%2C%20%5B-43.717563958343504%2C%20-18.33979412187716%2C%200.0%5D%2C%20%5B-43.71804037842564%2C%20-18.34009164712995%2C%200.0%5D%2C%20%5B-43.718867956645%2C%20-18.340754710789835%2C%200.0%5D%2C%20%5B-43.719240757349496%2C%20-18.34112780695697%2C%200.0%5D%2C%20%5B-43.719924170771186%2C%20-18.341819784231916%2C%200.0%5D%2C%20%5B-43.72010427029491%2C%20-18.342012266442904%2C%200.0%5D%2C%20%5B-43.72075529638929%2C%20-18.342853455578513%2C%200.0%5D%2C%20%5B-43.72108962849373%2C%20-18.343351813223155%2C%200.0%5D%2C%20%5B-43.72118236938005%2C%20-18.34350784471447%2C%200.0%5D%2C%20%5B-43.72127185666152%2C%20-18.34410617304848%2C%200.0%5D%2C%20%5B-43.72138580880861%2C%20-18.34478237009093%2C%200.0%5D%2C%20%5B-43.72141036614758%2C%20-18.344901665993007%2C%200.0%5D%2C%20%5B-43.72151271936593%2C%20-18.345398881197763%2C%200.0%5D%2C%20%5B-43.721738192790156%2C%20-18.346231235358946%2C%200.0%5D%2C%20%5B-43.72191588117861%2C%20-18.346752450330026%2C%200.0%5D%2C%20%5B-43.722260456539004%2C%20-18.347561693550844%2C%200.0%5D%2C%20%5B-43.72258871791382%2C%20-18.348036099239003%2C%200.0%5D%2C%20%5B-43.72300905332467%2C%20-18.348453366939502%2C%200.0%5D%2C%20%5B-43.72308804242403%2C%20-18.34835200904045%2C%200.0%5D%2C%20%5B-43.72348050875907%2C%20-18.348096419791112%2C%200.0%5D%2C%20%5B-43.72381253535465%2C%20-18.347888243195438%2C%200.0%5D%2C%20%5B-43.7241048539514%2C%20-18.347631981871785%2C%200.0%5D%2C%20%5B-43.72439801401732%2C%20-18.3472609618317%2C%200.0%5D%2C%20%5B-43.724662673124314%2C%20-18.346679350125505%2C%200.0%5D%2C%20%5B-43.72481667988663%2C%20-18.346163943205852%2C%200.0%5D%2C%20%5B-43.72488979822607%2C%20-18.345753195170754%2C%200.0%5D%2C%20%5B-43.72489393761491%2C%20-18.345188967094572%2C%200.0%5D%2C%20%5B-43.72484849597223%2C%20-18.344557461686392%2C%200.0%5D%2C%20%5B-43.72466285351383%2C%20-18.343925018238185%2C%200.0%5D%2C%20%5B-43.7242977967184%2C%20-18.343176610099928%2C%200.0%5D%2C%20%5B-43.724010751167306%2C%20-18.34271563330023%2C%200.0%5D%2C%20%5B-43.72355430736452%2C%20-18.342138758019914%2C%200.0%5D%2C%20%5B-43.72298785068008%2C%20-18.341542017537147%2C%200.0%5D%2C%20%5B-43.72250997946232%2C%20-18.341156269586882%2C%200.0%5D%2C%20%5B-43.721543737061424%2C%20-18.34045164554284%2C%200.0%5D%2C%20%5B-43.720311162433305%2C%20-18.33960018077329%2C%200.0%5D%2C%20%5B-43.719178664416035%2C%20-18.338695983930922%2C%200.0%5D%2C%20%5B-43.718072447051505%2C%20-18.337624593850013%2C%200.0%5D%2C%20%5B-43.71740205915779%2C%20-18.33686694852687%2C%200.0%5D%2C%20%5B-43.716981141985116%2C%20-18.33623052540655%2C%200.0%5D%2C%20%5B-43.71675847592014%2C%20-18.335870390460055%2C%200.0%5D%2C%20%5B-43.716625972380285%2C%20-18.335446400451975%2C%200.0%5D%2C%20%5B-43.71426002596193%2C%20-18.335425482826466%2C%200.0%5D%2C%20%5B-43.71428117191082%2C%20-18.33263691882%2C%200.0%5D%2C%20%5B-43.71431031833451%2C%20-18.32879251157296%2C%200.0%5D%2C%20%5B-43.71431567227005%2C%20-18.328086227409063%2C%200.0%5D%2C%20%5B-43.71376040308322%2C%20-18.32738911622974%2C%200.0%5D%2C%20%5B-43.71265605726086%2C%20-18.326078620943147%2C%200.0%5D%2C%20%5B-43.71211782262501%2C%20-18.325232192520513%2C%200.0%5D%2C%20%5B-43.71191506037758%2C%20-18.3247227553743%2C%200.0%5D%2C%20%5B-43.711849537901806%2C%20-18.324274017459324%2C%200.0%5D%2C%20%5B-43.71190141765729%2C%20-18.324029299507522%2C%200.0%5D%2C%20%5B-43.71203456559383%2C%20-18.323797084713263%2C%200.0%5D%2C%20%5B-43.71213902508403%2C%20-18.3237090828378%2C%200.0%5D%2C%20%5B-43.712273881590185%2C%20-18.32359547277666%2C%200.0%5D%2C%20%5B-43.71265034697172%2C%20-18.323466513261934%2C%200.0%5D%2C%20%5B-43.71310830107723%2C%20-18.32332017079703%2C%200.0%5D%2C%20%5B-43.713730116217135%2C%20-18.323019522723875%2C%200.0%5D%2C%20%5B-43.71405091818657%2C%20-18.322800525860774%2C%200.0%5D%2C%20%5B-43.71418064804105%2C%20-18.32265499747598%2C%200.0%5D%2C%20%5B-43.7143475255513%2C%20-18.32246779707135%2C%200.0%5D%2C%20%5B-43.71453814028771%2C%20-18.32208055817452%2C%200.0%5D%2C%20%5B-43.71466026761639%2C%20-18.3216450394412%2C%200.0%5D%2C%20%5B-43.71468896367438%2C%20-18.321149118437717%2C%200.0%5D%2C%20%5B-43.714630443163415%2C%20-18.320598814383764%2C%200.0%5D%2C%20%5B-43.7144491006838%2C%20-18.319730886997718%2C%200.0%5D%2C%20%5B-43.71427992924822%2C%20-18.319457900506013%2C%200.0%5D%2C%20%5B-43.713798790256874%2C%20-18.318847366487834%2C%200.0%5D%2C%20%5B-43.713334440877%2C%20-18.317997853396264%2C%200.0%5D%2C%20%5B-43.71303619019382%2C%20-18.317029913886728%2C%200.0%5D%2C%20%5B-43.71289303339455%2C%20-18.316077365457296%2C%200.0%5D%2C%20%5B-43.71285994629538%2C%20-18.31513512287135%2C%200.0%5D%2C%20%5B-43.712907525512186%2C%20-18.314116914964913%2C%200.0%5D%2C%20%5B-43.71299264475517%2C%20-18.31343846966513%2C%200.0%5D%2C%20%5B-43.712998404190714%2C%20-18.313404548026757%2C%200.0%5D%2C%20%5B-43.71305022286665%2C%20-18.313099348225787%2C%200.0%5D%2C%20%5B-43.713076153766686%2C%20-18.312981259968918%2C%200.0%5D%2C%20%5B-43.71017972463498%2C%20-18.312967946993737%2C%200.0%5D%2C%20%5B-43.710179795055225%2C%20-18.312761466079476%2C%200.0%5D%2C%20%5B-43.71018097527157%2C%20-18.309293553875925%2C%200.0%5D%2C%20%5B-43.71018111265383%2C%20-18.30888896587907%2C%200.0%5D%2C%20%5B-43.70757173622837%2C%20-18.30886993019106%2C%200.0%5D%2C%20%5B-43.707592319803005%2C%20-18.306149717078473%2C%200.0%5D%2C%20%5B-43.70763419707997%2C%20-18.300613997619834%2C%200.0%5D%2C%20%5B-43.715964147544796%2C%20-18.30060580751519%2C%200.0%5D%2C%20%5B-43.71617183158409%2C%20-18.26700148053385%2C%200.0%5D%2C%20%5B-43.71586734456655%2C%20-18.267214663432426%2C%200.0%5D%2C%20%5B-43.71484864974335%2C%20-18.267913145382142%2C%200.0%5D%2C%20%5B-43.71398071310631%2C%20-18.268528952672952%2C%200.0%5D%2C%20%5B-43.71309928867302%2C%20-18.269276165695185%2C%200.0%5D%2C%20%5B-43.712330469935054%2C%20-18.270024132293187%2C%200.0%5D%2C%20%5B-43.711863623598205%2C%20-18.270546991743636%2C%200.0%5D%2C%20%5B-43.711307862181485%2C%20-18.271248569922047%2C%200.0%5D%2C%20%5B-43.7110543431186%2C%20-18.271689182028553%2C%200.0%5D%2C%20%5B-43.71055910728407%2C%20-18.27266612136687%2C%200.0%5D%2C%20%5B-43.709872108650316%2C%20-18.27419167703616%2C%200.0%5D%2C%20%5B-43.709043740615215%2C%20-18.27621836793491%2C%200.0%5D%2C%20%5B-43.70821774136997%2C%20-18.277922295883286%2C%200.0%5D%2C%20%5B-43.70777553284809%2C%20-18.278493127886758%2C%200.0%5D%2C%20%5B-43.707485782089734%2C%20-18.27875417020478%2C%200.0%5D%2C%20%5B-43.707133553066555%2C%20-18.279002834964576%2C%200.0%5D%2C%20%5B-43.70667909078181%2C%20-18.279537717412214%2C%200.0%5D%2C%20%5B-43.7062985529739%2C%20-18.280228508373135%2C%200.0%5D%2C%20%5B-43.70587931931236%2C%20-18.2810744459076%2C%200.0%5D%2C%20%5B-43.70507749213915%2C%20-18.282886111243332%2C%200.0%5D%2C%20%5B-43.70450201011563%2C%20-18.284183665900876%2C%200.0%5D%2C%20%5B-43.70392290054592%2C%20-18.285322596374478%2C%200.0%5D%2C%20%5B-43.70372576891475%2C%20-18.285579478072584%2C%200.0%5D%2C%20%5B-43.7037187958406%2C%20-18.285940226203856%2C%200.0%5D%2C%20%5B-43.7037264650894%2C%20-18.28622168860478%2C%200.0%5D%2C%20%5B-43.70380196579584%2C%20-18.28717617466112%2C%200.0%5D%2C%20%5B-43.70385020579027%2C%20-18.28775749347951%2C%200.0%5D%2C%20%5B-43.70398342843355%2C%20-18.28902797125397%2C%200.0%5D%2C%20%5B-43.70416793188902%2C%20-18.29047094228338%2C%200.0%5D%2C%20%5B-43.7043544096649%2C%20-18.29164853530919%2C%200.0%5D%2C%20%5B-43.70449940922428%2C%20-18.292345273726433%2C%200.0%5D%2C%20%5B-43.70465165181879%2C%20-18.293077924826644%2C%200.0%5D%2C%20%5B-43.70492988904628%2C%20-18.29403378467578%2C%200.0%5D%2C%20%5B-43.705129844519035%2C%20-18.294586749343924%2C%200.0%5D%2C%20%5B-43.70577277817162%2C%20-18.295643107026216%2C%200.0%5D%2C%20%5B-43.70613267840055%2C%20-18.29605199989424%2C%200.0%5D%2C%20%5B-43.7061573523029%2C%20-18.296099985242666%2C%200.0%5D%2C%20%5B-43.70619400826563%2C%20-18.296219779093867%2C%200.0%5D%2C%20%5B-43.706396151237534%2C%20-18.296739219024396%2C%200.0%5D%2C%20%5B-43.70661150930859%2C%20-18.29740056894558%2C%200.0%5D%2C%20%5B-43.70671209063978%2C%20-18.297677652874306%2C%200.0%5D%2C%20%5B-43.70679203813871%2C%20-18.29786647844459%2C%200.0%5D%2C%20%5B-43.70679707583528%2C%20-18.29803088774264%2C%200.0%5D%2C%20%5B-43.70676429726516%2C%20-18.298273941106753%2C%200.0%5D%2C%20%5B-43.70667083916788%2C%20-18.298725190654206%2C%200.0%5D%2C%20%5B-43.70656390664307%2C%20-18.298968339569438%2C%200.0%5D%2C%20%5B-43.706351318417504%2C%20-18.299282500192597%2C%200.0%5D%2C%20%5B-43.70613888915304%2C%20-18.299575143404333%2C%200.0%5D%2C%20%5B-43.70584354265691%2C%20-18.299910260929305%2C%200.0%5D%2C%20%5B-43.705420278558975%2C%20-18.300280374604466%2C%200.0%5D%2C%20%5B-43.704763385615976%2C%20-18.30076366668307%2C%200.0%5D%2C%20%5B-43.70418243111396%2C%20-18.301132707873187%2C%200.0%5D%2C%20%5B-43.70368492555075%2C%20-18.3013875499478%2C%200.0%5D%2C%20%5B-43.70284110249483%2C%20-18.301761975113504%2C%200.0%5D%2C%20%5B-43.70236649391765%2C%20-18.30196675998222%2C%200.0%5D%2C%20%5B-43.70224474912275%2C%20-18.302181114422595%2C%200.0%5D%2C%20%5B-43.70178887135457%2C%20-18.30289528820661%2C%200.0%5D%2C%20%5B-43.70159826194795%2C%20-18.30328131927637%2C%200.0%5D%2C%20%5B-43.701322540385725%2C%20-18.30400388910132%2C%200.0%5D%2C%20%5B-43.701174576403766%2C%20-18.30471298191036%2C%200.0%5D%2C%20%5B-43.70108953534593%2C%20-18.305039957585528%2C%200.0%5D%2C%20%5B-43.70096228145394%2C%20-18.305321218820918%2C%200.0%5D%2C%20%5B-43.70064862717904%2C%20-18.30575901140126%2C%200.0%5D%2C%20%5B-43.69998133669176%2C%20-18.306624758865077%2C%200.0%5D%2C%20%5B-43.699385374113604%2C%20-18.307323626159437%2C%200.0%5D%2C%20%5B-43.69879909740398%2C%20-18.308065593548477%2C%200.0%5D%2C%20%5B-43.69841988862694%2C%20-18.308565098463614%2C%200.0%5D%2C%20%5B-43.69801432452669%2C%20-18.30924134953703%2C%200.0%5D%2C%20%5B-43.6977442091241%2C%20-18.30988026906653%2C%200.0%5D%2C%20%5B-43.69762062908915%2C%20-18.310338479245722%2C%200.0%5D%2C%20%5B-43.697546645169766%2C%20-18.310859191111746%2C%200.0%5D%2C%20%5B-43.697553510675995%2C%20-18.3112800366554%2C%200.0%5D%2C%20%5B-43.69767945215959%2C%20-18.311845148671544%2C%200.0%5D%2C%20%5B-43.69796119488296%2C%20-18.312330032725388%2C%200.0%5D%2C%20%5B-43.69830816308325%2C%20-18.312796234008566%2C%200.0%5D%5D%2C%20%5B%5B-43.7065735770771%2C%20-18.31907375943492%2C%200.0%5D%2C%20%5B-43.70570943523701%2C%20-18.319139627621265%2C%200.0%5D%2C%20%5B-43.705334042110515%2C%20-18.31912512665011%2C%200.0%5D%2C%20%5B-43.70503383440343%2C%20-18.31909918063508%2C%200.0%5D%2C%20%5B-43.70474685445076%2C%20-18.318977687722047%2C%200.0%5D%2C%20%5B-43.70444798164312%2C%20-18.318772431977873%2C%200.0%5D%2C%20%5B-43.704211155768846%2C%20-18.31863932426534%2C%200.0%5D%2C%20%5B-43.70397319110251%2C%20-18.318659226453494%2C%200.0%5D%2C%20%5B-43.703717703965665%2C%20-18.318679009317357%2C%200.0%5D%2C%20%5B-43.70357603616031%2C%20-18.318541765397338%2C%200.0%5D%2C%20%5B-43.70348976813763%2C%20-18.318429186712883%2C%200.0%5D%2C%20%5B-43.70338265611293%2C%20-18.31828940662308%2C%200.0%5D%2C%20%5B-43.703249887570216%2C%20-18.317965732406858%2C%200.0%5D%2C%20%5B-43.70323711231535%2C%20-18.31766439163609%2C%200.0%5D%2C%20%5B-43.7032611903417%2C%20-18.31745654654677%2C%200.0%5D%2C%20%5B-43.70345143993641%2C%20-18.317120721572927%2C%200.0%5D%2C%20%5B-43.703499879692906%2C%20-18.317071463161774%2C%200.0%5D%2C%20%5B-43.70364062062984%2C%20-18.316928343397155%2C%200.0%5D%2C%20%5B-43.70389685273268%2C%20-18.316808147531706%2C%200.0%5D%2C%20%5B-43.704069785607395%2C%20-18.31678063100707%2C%200.0%5D%2C%20%5B-43.70423446155358%2C%20-18.316853476292984%2C%200.0%5D%2C%20%5B-43.704398835182076%2C%20-18.316966964786054%2C%200.0%5D%2C%20%5B-43.704584261136745%2C%20-18.317279041214125%2C%200.0%5D%2C%20%5B-43.70473205093206%2C%20-18.31760281658268%2C%200.0%5D%2C%20%5B-43.70509287962251%2C%20-18.317892173913133%2C%200.0%5D%2C%20%5B-43.70557949171109%2C%20-18.318098702107225%2C%200.0%5D%2C%20%5B-43.70671516149788%2C%20-18.3185487195083%2C%200.0%5D%2C%20%5B-43.70693982851567%2C%20-18.318633923683837%2C%200.0%5D%2C%20%5B-43.707139108553406%2C%20-18.318766773760853%2C%200.0%5D%2C%20%5B-43.7071506480159%2C%20-18.318898351834697%2C%200.0%5D%2C%20%5B-43.707067384604834%2C%20-18.318926118757066%2C%200.0%5D%2C%20%5B-43.70697497923622%2C%20-18.318956934311704%2C%200.0%5D%2C%20%5B-43.7065735770771%2C%20-18.31907375943492%2C%200.0%5D%5D%2C%20%5B%5B-43.71354753647914%2C%20-18.322059101867982%2C%200.0%5D%2C%20%5B-43.71318621808543%2C%20-18.322171429154523%2C%200.0%5D%2C%20%5B-43.712735683522126%2C%20-18.32216121740335%2C%200.0%5D%2C%20%5B-43.712180595801044%2C%20-18.322071398904686%2C%200.0%5D%2C%20%5B-43.712167233852114%2C%20-18.322068905789244%2C%200.0%5D%2C%20%5B-43.71130311924958%2C%20-18.321907674391987%2C%200.0%5D%2C%20%5B-43.71099601519093%2C%20-18.32179800904909%2C%200.0%5D%2C%20%5B-43.710516665182624%2C%20-18.321622624721343%2C%200.0%5D%2C%20%5B-43.70973071899402%2C%20-18.32126943448055%2C%200.0%5D%2C%20%5B-43.70942390969807%2C%20-18.32112031872013%2C%200.0%5D%2C%20%5B-43.70910256024284%2C%20-18.32090654960498%2C%200.0%5D%2C%20%5B-43.708919556156985%2C%20-18.32077261606122%2C%200.0%5D%2C%20%5B-43.70876291617162%2C%20-18.320628101674238%2C%200.0%5D%2C%20%5B-43.70869625991856%2C%20-18.32050212793883%2C%200.0%5D%2C%20%5B-43.70868952175511%2C%20-18.320398077842462%2C%200.0%5D%2C%20%5B-43.708746536234926%2C%20-18.320305218247615%2C%200.0%5D%2C%20%5B-43.708863495221166%2C%20-18.320230696050256%2C%200.0%5D%2C%20%5B-43.7092511488491%2C%20-18.32011138227731%2C%200.0%5D%2C%20%5B-43.709668388821584%2C%20-18.320053235924142%2C%200.0%5D%2C%20%5B-43.71014168551641%2C%20-18.320031331201406%2C%200.0%5D%2C%20%5B-43.71102013386091%2C%20-18.320062371575254%2C%200.0%5D%2C%20%5B-43.71150778637354%2C%20-18.320130219558028%2C%200.0%5D%2C%20%5B-43.71207386670046%2C%20-18.320255977525047%2C%200.0%5D%2C%20%5B-43.712508368779424%2C%20-18.320402364317772%2C%200.0%5D%2C%20%5B-43.71300241910998%2C%20-18.320620879136037%2C%200.0%5D%2C%20%5B-43.713413439502645%2C%20-18.32089621479622%2C%200.0%5D%2C%20%5B-43.71367426617107%2C%20-18.321170537191527%2C%200.0%5D%2C%20%5B-43.71378553439521%2C%20-18.32135777836249%2C%200.0%5D%2C%20%5B-43.713829426932904%2C%20-18.32151587439707%2C%200.0%5D%2C%20%5B-43.71384280342783%2C%20-18.32173831934334%2C%200.0%5D%2C%20%5B-43.71374379816518%2C%20-18.321924143059533%2C%200.0%5D%2C%20%5B-43.71354753647914%2C%20-18.322059101867982%2C%200.0%5D%5D%5D%2C%20%5B%5B%5B-43.69202190783183%2C%20-18.256086784463125%2C%200.0%5D%2C%20%5B-43.692179445071375%2C%20-18.256102206455438%2C%200.0%5D%2C%20%5B-43.692375053585124%2C%20-18.25604616110565%2C%200.0%5D%2C%20%5B-43.69263184409349%2C%20-18.25583990607961%2C%200.0%5D%2C%20%5B-43.69288874131639%2C%20-18.255619305931553%2C%200.0%5D%2C%20%5B-43.693190357191526%2C%20-18.25544204712997%2C%200.0%5D%2C%20%5B-43.69366543450975%2C%20-18.25515838073736%2C%200.0%5D%2C%20%5B-43.693880505685854%2C%20-18.255009221013253%2C%200.0%5D%2C%20%5B-43.69395039066212%2C%20-18.25486624314924%2C%200.0%5D%2C%20%5B-43.69401406449635%2C%20-18.254717245591547%2C%200.0%5D%2C%20%5B-43.69411075876406%2C%20-18.25433535932125%2C%200.0%5D%2C%20%5B-43.694264780802094%2C%20-18.253816386550653%2C%200.0%5D%2C%20%5B-43.694494584011885%2C%20-18.253202293903808%2C%200.0%5D%2C%20%5B-43.69484467070951%2C%20-18.25239774790462%2C%200.0%5D%2C%20%5B-43.69517674584321%2C%20-18.25149146440918%2C%200.0%5D%2C%20%5B-43.69526691204293%2C%20-18.251145396407587%2C%200.0%5D%2C%20%5B-43.69531217591988%2C%20-18.25098537665801%2C%200.0%5D%2C%20%5B-43.69534809597281%2C%20-18.250330975223527%2C%200.0%5D%2C%20%5B-43.695326125227105%2C%20-18.25005064064996%2C%200.0%5D%2C%20%5B-43.69530853466182%2C%20-18.249725356404316%2C%200.0%5D%2C%20%5B-43.695152962524126%2C%20-18.24911222205996%2C%200.0%5D%2C%20%5B-43.69493798138982%2C%20-18.248412609754126%2C%200.0%5D%2C%20%5B-43.69466287811141%2C%20-18.247722151045508%2C%200.0%5D%2C%20%5B-43.694263536429055%2C%20-18.24622785622121%2C%200.0%5D%2C%20%5B-43.69415117748241%2C%20-18.24569272061403%2C%200.0%5D%2C%20%5B-43.694095090500134%2C%20-18.24516155508112%2C%200.0%5D%2C%20%5B-43.69409382848678%2C%20-18.244828013872517%2C%200.0%5D%2C%20%5B-43.69412832732749%2C%20-18.244229324963122%2C%200.0%5D%2C%20%5B-43.69418690181959%2C%20-18.24392488271577%2C%200.0%5D%2C%20%5B-43.69427142694831%2C%20-18.243663653839572%2C%200.0%5D%2C%20%5B-43.694431684725075%2C%20-18.24331328188096%2C%200.0%5D%2C%20%5B-43.6946478644828%2C%20-18.243013500137728%2C%200.0%5D%2C%20%5B-43.69498197059169%2C%20-18.242502925639556%2C%200.0%5D%2C%20%5B-43.69522203197867%2C%20-18.242020400747478%2C%200.0%5D%2C%20%5B-43.69531100329542%2C%20-18.241665955773506%2C%200.0%5D%2C%20%5B-43.695339094680314%2C%20-18.241422273650663%2C%200.0%5D%2C%20%5B-43.69532638315891%2C%20-18.241113758827435%2C%200.0%5D%2C%20%5B-43.695308768031175%2C%20-18.240959424716007%2C%200.0%5D%2C%20%5B-43.69525485252761%2C%20-18.240639870077736%2C%200.0%5D%2C%20%5B-43.69521203596921%2C%20-18.240341909283497%2C%200.0%5D%2C%20%5B-43.69522591741432%2C%20-18.239990539087316%2C%200.0%5D%2C%20%5B-43.695257975622894%2C%20-18.23971819294691%2C%200.0%5D%2C%20%5B-43.695329665375425%2C%20-18.239499912365112%2C%200.0%5D%2C%20%5B-43.695437786363165%2C%20-18.23926155707025%2C%200.0%5D%2C%20%5B-43.69552660666082%2C%20-18.23909479776988%2C%200.0%5D%2C%20%5B-43.69567824556716%2C%20-18.238892602415387%2C%200.0%5D%2C%20%5B-43.69596847729781%2C%20-18.238559849992757%2C%200.0%5D%2C%20%5B-43.696353069164516%2C%20-18.238156011709506%2C%200.0%5D%2C%20%5B-43.696492151524694%2C%20-18.23795970743413%2C%200.0%5D%2C%20%5B-43.69655572701139%2C%20-18.237822662235658%2C%200.0%5D%2C%20%5B-43.696562739318864%2C%20-18.237721095921167%2C%200.0%5D%2C%20%5B-43.69653865433757%2C%20-18.23759540882669%2C%200.0%5D%2C%20%5B-43.696443131232435%2C%20-18.23737479434621%2C%200.0%5D%2C%20%5B-43.69642475424089%2C%20-18.237154704807264%2C%200.0%5D%2C%20%5B-43.69646635462532%2C%20-18.236944587065175%2C%200.0%5D%2C%20%5B-43.69656733571511%2C%20-18.23671255809566%2C%200.0%5D%2C%20%5B-43.696619513934195%2C%20-18.2364260028679%2C%200.0%5D%2C%20%5B-43.69653381392133%2C%20-18.236174373325728%2C%200.0%5D%2C%20%5B-43.69632247902974%2C%20-18.235993616411484%2C%200.0%5D%2C%20%5B-43.695499513725515%2C%20-18.235626135501455%2C%200.0%5D%2C%20%5B-43.68519526375142%2C%20-18.2355556851694%2C%200.0%5D%2C%20%5B-43.68521367695777%2C%20-18.235717616923008%2C%200.0%5D%2C%20%5B-43.68538495373104%2C%20-18.23623283797502%2C%200.0%5D%2C%20%5B-43.68565649155323%2C%20-18.23672483771201%2C%200.0%5D%2C%20%5B-43.686003091411614%2C%20-18.237217352010962%2C%200.0%5D%2C%20%5B-43.6866366184009%2C%20-18.237819424166776%2C%200.0%5D%2C%20%5B-43.68756895907676%2C%20-18.238614814878968%2C%200.0%5D%2C%20%5B-43.68810420791806%2C%20-18.238977118137722%2C%200.0%5D%2C%20%5B-43.688541080089614%2C%20-18.239111609863123%2C%200.0%5D%2C%20%5B-43.688852850433285%2C%20-18.239245244342797%2C%200.0%5D%2C%20%5B-43.68928846970111%2C%20-18.239547089714733%2C%200.0%5D%2C%20%5B-43.689586118886766%2C%20-18.239895808562142%2C%200.0%5D%2C%20%5B-43.68978216405828%2C%20-18.24044705956793%2C%200.0%5D%2C%20%5B-43.68989180188165%2C%20-18.240842310083256%2C%200.0%5D%2C%20%5B-43.68987508227613%2C%20-18.241404060126108%2C%200.0%5D%2C%20%5B-43.68987185808192%2C%20-18.2418344022769%2C%200.0%5D%2C%20%5B-43.68976881869934%2C%20-18.242228197896598%2C%200.0%5D%2C%20%5B-43.689640489045296%2C%20-18.2426576840623%2C%200.0%5D%2C%20%5B-43.68954942152293%2C%20-18.243123288737475%2C%200.0%5D%2C%20%5B-43.68940633986979%2C%20-18.243851537620515%2C%200.0%5D%2C%20%5B-43.6892391317383%2C%20-18.244460075585113%2C%200.0%5D%2C%20%5B-43.689009279300684%2C%20-18.24508013899674%2C%200.0%5D%2C%20%5B-43.68880561204872%2C%20-18.245544972121856%2C%200.0%5D%2C%20%5B-43.688628579154916%2C%20-18.2457948054265%2C%200.0%5D%2C%20%5B-43.68841428257281%2C%20-18.246008519646807%2C%200.0%5D%2C%20%5B-43.68819962666637%2C%20-18.246270049328672%2C%200.0%5D%2C%20%5B-43.6879587822272%2C%20-18.246686808406974%2C%200.0%5D%2C%20%5B-43.68782972633718%2C%20-18.247211924130937%2C%200.0%5D%2C%20%5B-43.68772497336148%2C%20-18.247832842627705%2C%200.0%5D%2C%20%5B-43.687708154832244%2C%20-18.248406545528674%2C%200.0%5D%2C%20%5B-43.68775780598768%2C%20-18.249052879538404%2C%200.0%5D%2C%20%5B-43.68783285852005%2C%20-18.249471802979762%2C%200.0%5D%2C%20%5B-43.687952148567916%2C%20-18.24983125684645%2C%200.0%5D%2C%20%5B-43.68811538470418%2C%20-18.250170091342888%2C%200.0%5D%2C%20%5B-43.68824518050222%2C%20-18.250380185245657%2C%200.0%5D%2C%20%5B-43.688477901354005%2C%20-18.25062983647675%2C%200.0%5D%2C%20%5B-43.68861988184562%2C%20-18.250741739801807%2C%200.0%5D%2C%20%5B-43.68872049219129%2C%20-18.250879602270814%2C%200.0%5D%2C%20%5B-43.68878071581797%2C%20-18.251190832955565%2C%200.0%5D%2C%20%5B-43.68871430352316%2C%20-18.251704423511804%2C%200.0%5D%2C%20%5B-43.68856049186807%2C%20-18.25219350617903%2C%200.0%5D%2C%20%5B-43.6885063204244%2C%20-18.252743044043115%2C%200.0%5D%2C%20%5B-43.68875387282847%2C%20-18.25379018111947%2C%200.0%5D%2C%20%5B-43.688914583644944%2C%20-18.253994638840943%2C%200.0%5D%2C%20%5B-43.689108282206824%2C%20-18.254192976352513%2C%200.0%5D%2C%20%5B-43.68930227531445%2C%20-18.254352104801402%2C%200.0%5D%2C%20%5B-43.68952651118847%2C%20-18.254482749221182%2C%200.0%5D%2C%20%5B-43.68966043702695%2C%20-18.254643259265173%2C%200.0%5D%2C%20%5B-43.689995770256296%2C%20-18.25497550006142%2C%200.0%5D%2C%20%5B-43.69018247328055%2C%20-18.255105886893485%2C%200.0%5D%2C%20%5B-43.69045228943845%2C%20-18.2551651149364%2C%200.0%5D%2C%20%5B-43.69072982762665%2C%20-18.255195704513945%2C%200.0%5D%2C%20%5B-43.69092457568807%2C%20-18.255254418399026%2C%200.0%5D%2C%20%5B-43.69103631868521%2C%20-18.255369946293587%2C%200.0%5D%2C%20%5B-43.691446402377025%2C%20-18.255745732329476%2C%200.0%5D%2C%20%5B-43.691760187218144%2C%20-18.255948713824576%2C%200.0%5D%2C%20%5B-43.69202190783183%2C%20-18.256086784463125%2C%200.0%5D%5D%5D%5D%2C%20%22type%22%3A%20%22MultiPolygon%22%7D%2C%20%22id%22%3A%20%222%22%2C%20%22properties%22%3A%20%7B%22Hexadec%22%3A%20%22%23ffff00%22%2C%20%22Id%22%3A%204%2C%20%22RGB%22%3A%20%22255%2C255%2C000%22%2C%20%22Unidades%22%3A%20%22Forma%5Cu00e7%5Cu00e3o%20S%5Cu00e3o%20Jo%5Cu00e3o%20da%20Chapada%22%7D%2C%20%22type%22%3A%20%22Feature%22%7D%2C%20%7B%22bbox%22%3A%20%5B-43.730660233355785%2C%20-18.347765987116713%2C%20-43.677398586855674%2C%20-18.23552068704899%5D%2C%20%22geometry%22%3A%20%7B%22coordinates%22%3A%20%5B%5B%5B%5B-43.72884403155293%2C%20-18.34771816423424%2C%200.0%5D%2C%20%5B-43.7290239532383%2C%20-18.347765987116713%2C%200.0%5D%2C%20%5B-43.729290670503026%2C%20-18.347757006576913%2C%200.0%5D%2C%20%5B-43.72959906499684%2C%20-18.347698094229134%2C%200.0%5D%2C%20%5B-43.729975739211525%2C%20-18.347546390619915%2C%200.0%5D%2C%20%5B-43.73048876229184%2C%20-18.347237793951763%2C%200.0%5D%2C%20%5B-43.73058317278498%2C%20-18.347166695279626%2C%200.0%5D%2C%20%5B-43.73064226126136%2C%20-18.347096051497807%2C%200.0%5D%2C%20%5B-43.73065051595134%2C%20-18.346007407662093%2C%200.0%5D%2C%20%5B-43.730660233355785%2C%20-18.344725763687723%2C%200.0%5D%2C%20%5B-43.730308738385496%2C%20-18.344371974441064%2C%200.0%5D%2C%20%5B-43.730056253224184%2C%20-18.34397579084182%2C%200.0%5D%2C%20%5B-43.72987141849161%2C%20-18.343572884991964%2C%200.0%5D%2C%20%5B-43.72964366911952%2C%20-18.342875610030433%2C%200.0%5D%2C%20%5B-43.72941035033198%2C%20-18.34191290577468%2C%200.0%5D%2C%20%5B-43.72928460832684%2C%20-18.341646675680156%2C%200.0%5D%2C%20%5B-43.72909920078729%2C%20-18.34132266570897%2C%200.0%5D%2C%20%5B-43.728532848825495%2C%20-18.340709205045776%2C%200.0%5D%2C%20%5B-43.72802527387625%2C%20-18.340275453888026%2C%200.0%5D%2C%20%5B-43.72699421773283%2C%20-18.339529778445712%2C%200.0%5D%2C%20%5B-43.726153000768086%2C%20-18.338862114764126%2C%200.0%5D%2C%20%5B-43.725646278330274%2C%20-18.33831359950732%2C%200.0%5D%2C%20%5B-43.725393549209436%2C%20-18.33795327266177%2C%200.0%5D%2C%20%5B-43.72529050522822%2C%20-18.337665673804555%2C%200.0%5D%2C%20%5B-43.725188933854575%2C%20-18.337177247766093%2C%200.0%5D%2C%20%5B-43.72507202654141%2C%20-18.33673175563601%2C%200.0%5D%2C%20%5B-43.72495459386915%2C%20-18.336357987429082%2C%200.0%5D%2C%20%5B-43.72482161487122%2C%20-18.33605584269211%2C%200.0%5D%2C%20%5B-43.72462813218855%2C%20-18.33581067520551%2C%200.0%5D%2C%20%5B-43.72428489668498%2C%20-18.33551391265184%2C%200.0%5D%2C%20%5B-43.72156709345754%2C%20-18.335489990856388%2C%200.0%5D%2C%20%5B-43.72201407180899%2C%20-18.335993353849606%2C%200.0%5D%2C%20%5B-43.722312029306174%2C%20-18.336330078636337%2C%200.0%5D%2C%20%5B-43.722597294909%2C%20-18.336690627127894%2C%200.0%5D%2C%20%5B-43.72284544832987%2C%20-18.336991153793807%2C%200.0%5D%2C%20%5B-43.72303439305857%2C%20-18.337342688314394%2C%200.0%5D%2C%20%5B-43.723114638254195%2C%20-18.337665999227493%2C%200.0%5D%2C%20%5B-43.7231648943518%2C%20-18.33798193653898%2C%200.0%5D%2C%20%5B-43.723214623928484%2C%20-18.33836959775285%2C%200.0%5D%2C%20%5B-43.72327260152487%2C%20-18.338656895767706%2C%200.0%5D%2C%20%5B-43.72340410493641%2C%20-18.339159868422538%2C%200.0%5D%2C%20%5B-43.7235961148956%2C%20-18.33960586415656%2C%200.0%5D%2C%20%5B-43.72388539503405%2C%20-18.34010272006331%2C%200.0%5D%2C%20%5B-43.724115539236074%2C%20-18.340470070426285%2C%200.0%5D%2C%20%5B-43.72452515026889%2C%20-18.340946212551717%2C%200.0%5D%2C%20%5B-43.725017012565495%2C%20-18.341473113247275%2C%200.0%5D%2C%20%5B-43.725373948411956%2C%20-18.341963246939116%2C%200.0%5D%2C%20%5B-43.7256786267422%2C%20-18.34240999423125%2C%200.0%5D%2C%20%5B-43.72581192682738%2C%20-18.342669104189966%2C%200.0%5D%2C%20%5B-43.725952580314924%2C%20-18.342949781459865%2C%200.0%5D%2C%20%5B-43.72609139451693%2C%20-18.343481492496863%2C%200.0%5D%2C%20%5B-43.72613367321672%2C%20-18.343861930634677%2C%200.0%5D%2C%20%5B-43.7261309924634%2C%20-18.344227722797225%2C%200.0%5D%2C%20%5B-43.72609154615049%2C%20-18.344485678032562%2C%200.0%5D%2C%20%5B-43.725976360759894%2C%20-18.344829199956724%2C%200.0%5D%2C%20%5B-43.725892269711%2C%20-18.34502947472866%2C%200.0%5D%2C%20%5B-43.72584573259044%2C%20-18.345230000501548%2C%200.0%5D%2C%20%5B-43.7258294490124%2C%20-18.345402037525872%2C%200.0%5D%2C%20%5B-43.72588801091754%2C%20-18.345610438619016%2C%200.0%5D%2C%20%5B-43.72602966549065%2C%20-18.345754840420803%2C%200.0%5D%2C%20%5B-43.72626859349327%2C%20-18.34595010145171%2C%200.0%5D%2C%20%5B-43.7263303278795%2C%20-18.345978586036203%2C%200.0%5D%2C%20%5B-43.726710262952395%2C%20-18.34615388953231%2C%200.0%5D%2C%20%5B-43.7270923717755%2C%20-18.34628555138295%2C%200.0%5D%2C%20%5B-43.72725703329303%2C%20-18.346365551277884%2C%200.0%5D%2C%20%5B-43.72761603278521%2C%20-18.346575958027177%2C%200.0%5D%2C%20%5B-43.72779492907893%2C%20-18.346763643743206%2C%200.0%5D%2C%20%5B-43.7281448444704%2C%20-18.347189171397325%2C%200.0%5D%2C%20%5B-43.728387753389995%2C%20-18.34745690131321%2C%200.0%5D%2C%20%5B-43.72866797038795%2C%20-18.347656021440937%2C%200.0%5D%2C%20%5B-43.72884403155293%2C%20-18.34771816423424%2C%200.0%5D%5D%5D%2C%20%5B%5B%5B-43.681693301796095%2C%20-18.322246339144005%2C%200.0%5D%2C%20%5B-43.68164363645782%2C%20-18.328809027817893%2C%200.0%5D%2C%20%5B-43.68218537064944%2C%20-18.32864062789719%2C%200.0%5D%2C%20%5B-43.6826742396586%2C%20-18.3284937774296%2C%200.0%5D%2C%20%5B-43.683112909748395%2C%20-18.328419102657058%2C%200.0%5D%2C%20%5B-43.68357625097062%2C%20-18.328392414857575%2C%200.0%5D%2C%20%5B-43.684083400312176%2C%20-18.32836602815063%2C%200.0%5D%2C%20%5B-43.68461589916545%2C%20-18.328297974362314%2C%200.0%5D%2C%20%5B-43.68499212066626%2C%20-18.328204932877366%2C%200.0%5D%2C%20%5B-43.68550697286258%2C%20-18.3279873243689%2C%200.0%5D%2C%20%5B-43.68579008633866%2C%20-18.32779202682811%2C%200.0%5D%2C%20%5B-43.685960820831816%2C%20-18.327560091385163%2C%200.0%5D%2C%20%5B-43.68609432112862%2C%20-18.327286058738753%2C%200.0%5D%2C%20%5B-43.68614056628547%2C%20-18.326963607231136%2C%200.0%5D%2C%20%5B-43.68616785593939%2C%20-18.32666493403411%2C%200.0%5D%2C%20%5B-43.68608321918222%2C%20-18.326269854372754%2C%200.0%5D%2C%20%5B-43.685893772732285%2C%20-18.325664849920205%2C%200.0%5D%2C%20%5B-43.685653629862735%2C%20-18.32514317717602%2C%200.0%5D%2C%20%5B-43.68524754299428%2C%20-18.324219886739275%2C%200.0%5D%2C%20%5B-43.6850322557497%2C%20-18.32372229353201%2C%200.0%5D%2C%20%5B-43.684890215382026%2C%20-18.323470271150608%2C%200.0%5D%2C%20%5B-43.68459185772742%2C%20-18.32319923935827%2C%200.0%5D%2C%20%5B-43.68419346151386%2C%20-18.322915562818118%2C%200.0%5D%2C%20%5B-43.68367073459698%2C%20-18.322686765367163%2C%200.0%5D%2C%20%5B-43.68307134037062%2C%20-18.32249972622937%2C%200.0%5D%2C%20%5B-43.682306598214794%2C%20-18.32232947508925%2C%200.0%5D%2C%20%5B-43.681693301796095%2C%20-18.322246339144005%2C%200.0%5D%5D%5D%2C%20%5B%5B%5B-43.71280211598362%2C%20-18.321810201700664%2C%200.0%5D%2C%20%5B-43.712993535763545%2C%20-18.32182225203743%2C%200.0%5D%2C%20%5B-43.71308769967993%2C%20-18.321783437125877%2C%200.0%5D%2C%20%5B-43.71312559327001%2C%20-18.321737069932855%2C%200.0%5D%2C%20%5B-43.71311496498575%2C%20-18.32165092545346%2C%200.0%5D%2C%20%5B-43.712992114483164%2C%20-18.321506642202497%2C%200.0%5D%2C%20%5B-43.71276426017839%2C%20-18.321343718708636%2C%200.0%5D%2C%20%5B-43.712606862258454%2C%20-18.32124957973963%2C%200.0%5D%2C%20%5B-43.712491347811245%2C%20-18.321180490938865%2C%200.0%5D%2C%20%5B-43.712135855350944%2C%20-18.321013119096396%2C%200.0%5D%2C%20%5B-43.71172782202174%2C%20-18.320841805543058%2C%200.0%5D%2C%20%5B-43.71096736371101%2C%20-18.320596383442506%2C%200.0%5D%2C%20%5B-43.710292844208844%2C%20-18.32040892110345%2C%200.0%5D%2C%20%5B-43.709966517383776%2C%20-18.32036009252361%2C%200.0%5D%2C%20%5B-43.70973755109423%2C%20-18.320347785372512%2C%200.0%5D%2C%20%5B-43.7095647747035%2C%20-18.32035378976078%2C%200.0%5D%2C%20%5B-43.70941423493655%2C%20-18.320399394379223%2C%200.0%5D%2C%20%5B-43.70929711648963%2C%20-18.320495434017367%2C%200.0%5D%2C%20%5B-43.709315305736396%2C%20-18.320574457028197%2C%200.0%5D%2C%20%5B-43.709386063019494%2C%20-18.32065383559531%2C%200.0%5D%2C%20%5B-43.70952059982061%2C%20-18.320740818212844%2C%200.0%5D%2C%20%5B-43.70970749216396%2C%20-18.32085684568133%2C%200.0%5D%2C%20%5B-43.70994325118744%2C%20-18.32096603063696%2C%200.0%5D%2C%20%5B-43.71104058561401%2C%20-18.32135718733622%2C%200.0%5D%2C%20%5B-43.711804908353265%2C%20-18.32158828994462%2C%200.0%5D%2C%20%5B-43.71229949159696%2C%20-18.321735082980663%2C%200.0%5D%2C%20%5B-43.71280211598362%2C%20-18.321810201700664%2C%200.0%5D%5D%5D%2C%20%5B%5B%5B-43.714064640813994%2C%20-18.326992546896%2C%200.0%5D%2C%20%5B-43.71432177450005%2C%20-18.32728119091789%2C%200.0%5D%2C%20%5B-43.71434400626297%2C%20-18.324347921124033%2C%200.0%5D%2C%20%5B-43.717566118487106%2C%20-18.324353849154292%2C%200.0%5D%2C%20%5B-43.71766927803627%2C%20-18.313002281423152%2C%200.0%5D%2C%20%5B-43.71488404589972%2C%20-18.312989547379072%2C%200.0%5D%2C%20%5B-43.71479726929444%2C%20-18.31321148153428%2C%200.0%5D%2C%20%5B-43.71470940973413%2C%20-18.31358387258447%2C%200.0%5D%2C%20%5B-43.71464499288185%2C%20-18.31417160368553%2C%200.0%5D%2C%20%5B-43.714619708245266%2C%20-18.314883925758846%2C%200.0%5D%2C%20%5B-43.71461959612237%2C%20-18.315577289986063%2C%200.0%5D%2C%20%5B-43.71468798438231%2C%20-18.316486297705925%2C%200.0%5D%2C%20%5B-43.71475313165506%2C%20-18.317156192197512%2C%200.0%5D%2C%20%5B-43.71479600060659%2C%20-18.317452954146933%2C%200.0%5D%2C%20%5B-43.71489601683191%2C%20-18.3181469925212%2C%200.0%5D%2C%20%5B-43.71500142837108%2C%20-18.318788467079397%2C%200.0%5D%2C%20%5B-43.71507860187662%2C%20-18.319185878308147%2C%200.0%5D%2C%20%5B-43.715152604494435%2C%20-18.31933461319406%2C%200.0%5D%2C%20%5B-43.71526563544733%2C%20-18.31962228378087%2C%200.0%5D%2C%20%5B-43.71532863734874%2C%20-18.31990483568584%2C%200.0%5D%2C%20%5B-43.7153962577268%2C%20-18.32024001875379%2C%200.0%5D%2C%20%5B-43.71541466037367%2C%20-18.320460106646024%2C%200.0%5D%2C%20%5B-43.7154066543028%2C%20-18.32086650796549%2C%200.0%5D%2C%20%5B-43.715374462582034%2C%20-18.321157982621312%2C%200.0%5D%2C%20%5B-43.715332434159485%2C%20-18.321425481901997%2C%200.0%5D%2C%20%5B-43.7152300096757%2C%20-18.32173561093073%2C%200.0%5D%2C%20%5B-43.71502142388857%2C%20-18.32218369787802%2C%200.0%5D%2C%20%5B-43.714934971209985%2C%20-18.322364824971846%2C%200.0%5D%2C%20%5B-43.71478304486206%2C%20-18.32259811106502%2C%200.0%5D%2C%20%5B-43.71414670902851%2C%20-18.323339788079853%2C%200.0%5D%2C%20%5B-43.713849554821564%2C%20-18.323576876292435%2C%200.0%5D%2C%20%5B-43.71363800645325%2C%20-18.323747595687173%2C%200.0%5D%2C%20%5B-43.71350236938802%2C%20-18.323808844813836%2C%200.0%5D%2C%20%5B-43.713336763465726%2C%20-18.32386032809%2C%200.0%5D%2C%20%5B-43.71317616403367%2C%20-18.323911844984433%2C%200.0%5D%2C%20%5B-43.71299021334853%2C%20-18.32400622711336%2C%200.0%5D%2C%20%5B-43.71284396147643%2C%20-18.3241486950901%2C%200.0%5D%2C%20%5B-43.71274798747893%2C%20-18.324262811256403%2C%200.0%5D%2C%20%5B-43.71270218538691%2C%20-18.324362920442866%2C%200.0%5D%2C%20%5B-43.712665582859486%2C%20-18.324573073552127%2C%200.0%5D%2C%20%5B-43.71266899768248%2C%20-18.324788278495127%2C%200.0%5D%2C%20%5B-43.71273679099256%2C%20-18.325099554233333%2C%200.0%5D%2C%20%5B-43.71288444288257%2C%20-18.325444841496775%2C%200.0%5D%2C%20%5B-43.713230875547495%2C%20-18.325992306016953%2C%200.0%5D%2C%20%5B-43.713528375052064%2C%20-18.326386421755018%2C%200.0%5D%2C%20%5B-43.714064640813994%2C%20-18.326992546896%2C%200.0%5D%5D%5D%2C%20%5B%5B%5B-43.69642818873851%2C%20-18.29987164022379%2C%200.0%5D%2C%20%5B-43.69687871576133%2C%20-18.29987471449487%2C%200.0%5D%2C%20%5B-43.69712414572518%2C%20-18.29985726156117%2C%200.0%5D%2C%20%5B-43.697370183259416%2C%20-18.299758521707986%2C%200.0%5D%2C%20%5B-43.69749107424606%2C%20-18.2996589281544%2C%200.0%5D%2C%20%5B-43.697577245768606%2C%20-18.299516061493666%2C%200.0%5D%2C%20%5B-43.697628840769525%2C%20-18.299310795510152%2C%200.0%5D%2C%20%5B-43.69770635806911%2C%20-18.29898616100615%2C%200.0%5D%2C%20%5B-43.6978241717103%2C%20-18.298628328488338%2C%200.0%5D%2C%20%5B-43.697976239639516%2C%20-18.29837592917114%2C%200.0%5D%2C%20%5B-43.698207900044004%2C%20-18.298191017490876%2C%200.0%5D%2C%20%5B-43.69848951090089%2C%20-18.298020791276166%2C%200.0%5D%2C%20%5B-43.698625667352026%2C%20-18.297887828214726%2C%200.0%5D%2C%20%5B-43.69876725777505%2C%20-18.297697520319325%2C%200.0%5D%2C%20%5B-43.69885349860149%2C%20-18.297545089790344%2C%200.0%5D%2C%20%5B-43.69887498526499%2C%20-18.297349181855285%2C%200.0%5D%2C%20%5B-43.69885767491776%2C%20-18.29698564623386%2C%200.0%5D%2C%20%5B-43.69881544284112%2C%20-18.29660759541586%2C%200.0%5D%2C%20%5B-43.69880292417575%2C%20-18.296272783285342%2C%200.0%5D%2C%20%5B-43.698813649569146%2C%20-18.29617722009068%2C%200.0%5D%2C%20%5B-43.69892520378554%2C%20-18.295986707372812%2C%200.0%5D%2C%20%5B-43.699092427578556%2C%20-18.295715282848512%2C%200.0%5D%2C%20%5B-43.69913415065348%2C%20-18.295490821741584%2C%200.0%5D%2C%20%5B-43.699131464342514%2C%20-18.295179985583285%2C%200.0%5D%2C%20%5B-43.69912355818994%2C%20-18.294897804754306%2C%200.0%5D%2C%20%5B-43.699130419387096%2C%20-18.29464919716658%2C%200.0%5D%2C%20%5B-43.69914650696237%2C%20-18.29450585229618%2C%200.0%5D%2C%20%5B-43.699132595969246%2C%20-18.29435752134993%2C%200.0%5D%2C%20%5B-43.69908385919888%2C%20-18.294180262387137%2C%200.0%5D%2C%20%5B-43.699019998389005%2C%20-18.2940172458699%2C%200.0%5D%2C%20%5B-43.698866178065366%2C%20-18.293834489458973%2C%200.0%5D%2C%20%5B-43.69870216823866%2C%20-18.293675572605654%2C%200.0%5D%2C%20%5B-43.698453561976415%2C%20-18.293449133967048%2C%200.0%5D%2C%20%5B-43.69810534290453%2C%20-18.2931550709222%2C%200.0%5D%2C%20%5B-43.69792631743053%2C%20-18.292996051150173%2C%200.0%5D%2C%20%5B-43.69777718335937%2C%20-18.29285636220548%2C%200.0%5D%2C%20%5B-43.6976580834414%2C%20-18.292716877875968%2C%200.0%5D%2C%20%5B-43.697514348412554%2C%20-18.2925246256141%2C%200.0%5D%2C%20%5B-43.69742074154952%2C%20-18.29232315137863%2C%200.0%5D%2C%20%5B-43.69738727395494%2C%20-18.292112523483716%2C%200.0%5D%2C%20%5B-43.697358133278364%2C%20-18.29199277951388%2C%200.0%5D%2C%20%5B-43.69728876898352%2C%20-18.291896670367418%2C%200.0%5D%2C%20%5B-43.697149111629685%2C%20-18.291828772787692%2C%200.0%5D%2C%20%5B-43.69705386180868%2C%20-18.291847250545437%2C%200.0%5D%2C%20%5B-43.696978420065356%2C%20-18.291894554205847%2C%200.0%5D%2C%20%5B-43.69687251565112%2C%20-18.291999031817397%2C%200.0%5D%2C%20%5B-43.69673085682765%2C%20-18.29219890171383%2C%200.0%5D%2C%20%5B-43.69658329834801%2C%20-18.292518276507035%2C%200.0%5D%2C%20%5B-43.69639480023483%2C%20-18.292956917083547%2C%200.0%5D%2C%20%5B-43.696095928928806%2C%20-18.29366772596326%2C%200.0%5D%2C%20%5B-43.69586354317523%2C%20-18.29420110474932%2C%200.0%5D%2C%20%5B-43.69571167312495%2C%20-18.29442720392466%2C%200.0%5D%2C%20%5B-43.695585099531684%2C%20-18.2946176121073%2C%200.0%5D%2C%20%5B-43.69537108232659%2C%20-18.29478650266155%2C%200.0%5D%2C%20%5B-43.69511637093509%2C%20-18.294958103634567%2C%200.0%5D%2C%20%5B-43.69500275803752%2C%20-18.29508882729881%2C%200.0%5D%2C%20%5B-43.694945325060424%2C%20-18.295237866443426%2C%200.0%5D%2C%20%5B-43.69483099581437%2C%20-18.295464221224663%2C%200.0%5D%2C%20%5B-43.694723191958246%2C%20-18.29565475695248%2C%200.0%5D%2C%20%5B-43.69460986923433%2C%20-18.2957466301393%2C%200.0%5D%2C%20%5B-43.69446559628589%2C%20-18.29579346231278%2C%200.0%5D%2C%20%5B-43.69402012832824%2C%20-18.295951803449054%2C%200.0%5D%2C%20%5B-43.69357139664346%2C%20-18.29612805294501%2C%200.0%5D%2C%20%5B-43.693245037648055%2C%20-18.296257320414398%2C%200.0%5D%2C%20%5B-43.69281652034952%2C%20-18.296487432412903%2C%200.0%5D%2C%20%5B-43.69267546275352%2C%20-18.29660601221281%2C%200.0%5D%2C%20%5B-43.69263945414087%2C%20-18.29673487445783%2C%200.0%5D%2C%20%5B-43.69266372978886%2C%20-18.296835458449305%2C%200.0%5D%2C%20%5B-43.69281178163381%2C%20-18.296935733863947%2C%200.0%5D%2C%20%5B-43.69294550103439%2C%20-18.296993103462327%2C%200.0%5D%2C%20%5B-43.693410033659966%2C%20-18.297130171834805%2C%200.0%5D%2C%20%5B-43.69366010717748%2C%20-18.29716057295542%2C%200.0%5D%2C%20%5B-43.69424556763989%2C%20-18.297193266576016%2C%200.0%5D%2C%20%5B-43.694695514402625%2C%20-18.29727285053502%2C%200.0%5D%2C%20%5B-43.6950552144036%2C%20-18.297370944200292%2C%200.0%5D%2C%20%5B-43.695294203341504%2C%20-18.29754472168519%2C%200.0%5D%2C%20%5B-43.695467688006445%2C%20-18.297775433240094%2C%200.0%5D%2C%20%5B-43.695515634449485%2C%20-18.298057887259656%2C%200.0%5D%2C%20%5B-43.69551788453113%2C%20-18.298426101719024%2C%200.0%5D%2C%20%5B-43.695465500015%2C%20-18.298736561367978%2C%200.0%5D%2C%20%5B-43.695508440782724%2C%20-18.299018981189874%2C%200.0%5D%2C%20%5B-43.69559593315138%2C%20-18.29936865053766%2C%200.0%5D%2C%20%5B-43.6958788686522%2C%20-18.299690963548052%2C%200.0%5D%2C%20%5B-43.696128230966856%2C%20-18.299816992933717%2C%200.0%5D%2C%20%5B-43.69642818873851%2C%20-18.29987164022379%2C%200.0%5D%5D%5D%2C%20%5B%5B%5B-43.681088240549286%2C%20-18.256019202268202%2C%200.0%5D%2C%20%5B-43.68125937027837%2C%20-18.256139926558724%2C%200.0%5D%2C%20%5B-43.681373950684005%2C%20-18.256293136019163%2C%200.0%5D%2C%20%5B-43.681429395104345%2C%20-18.256407085858015%2C%200.0%5D%2C%20%5B-43.68146575665981%2C%20-18.256562745007425%2C%200.0%5D%2C%20%5B-43.68148881742802%2C%20-18.256822914490794%2C%200.0%5D%2C%20%5B-43.68154259314971%2C%20-18.25715801125795%2C%200.0%5D%2C%20%5B-43.6815943687828%2C%20-18.257343662850584%2C%200.0%5D%2C%20%5B-43.68174472586998%2C%20-18.257730231551612%2C%200.0%5D%2C%20%5B-43.681973483816556%2C%20-18.258090442475982%2C%200.0%5D%2C%20%5B-43.6823412399189%2C%20-18.258684723242233%2C%200.0%5D%2C%20%5B-43.682495831982834%2C%20-18.258924877846376%2C%200.0%5D%2C%20%5B-43.682613069807104%2C%20-18.259140866173425%2C%200.0%5D%2C%20%5B-43.68269009572665%2C%20-18.25929680507396%2C%200.0%5D%2C%20%5B-43.682776235108726%2C%20-18.259488670218047%2C%200.0%5D%2C%20%5B-43.682871465495296%2C%20-18.25971945006958%2C%200.0%5D%2C%20%5B-43.68298143445936%2C%20-18.260069876448686%2C%200.0%5D%2C%20%5B-43.68319511769388%2C%20-18.26077068601392%2C%200.0%5D%2C%20%5B-43.683255607102325%2C%20-18.26101243399408%2C%200.0%5D%2C%20%5B-43.68330939682869%2C%20-18.261246634401008%2C%200.0%5D%2C%20%5B-43.68336764768053%2C%20-18.26148660365811%2C%200.0%5D%2C%20%5B-43.68346387596285%2C%20-18.261867419275035%2C%200.0%5D%2C%20%5B-43.68354231456809%2C%20-18.262217987085727%2C%200.0%5D%2C%20%5B-43.68360612839422%2C%20-18.262516810759195%2C%200.0%5D%2C%20%5B-43.68369318685961%2C%20-18.262919081316145%2C%200.0%5D%2C%20%5B-43.683762412241414%2C%20-18.263296841955412%2C%200.0%5D%2C%20%5B-43.68389037255732%2C%20-18.264567793440573%2C%200.0%5D%2C%20%5B-43.683908569859646%2C%20-18.265141735136694%2C%200.0%5D%2C%20%5B-43.683888852364504%2C%20-18.26576562491367%2C%200.0%5D%2C%20%5B-43.68379400746744%2C%20-18.2663961704676%2C%200.0%5D%2C%20%5B-43.68360961449622%2C%20-18.26695437265815%2C%200.0%5D%2C%20%5B-43.6832287850092%2C%20-18.26767619465917%2C%200.0%5D%2C%20%5B-43.68292416504209%2C%20-18.268354948038247%2C%200.0%5D%2C%20%5B-43.6828854414325%2C%20-18.27346581520128%2C%200.0%5D%2C%20%5B-43.683165040262736%2C%20-18.273682918177922%2C%200.0%5D%2C%20%5B-43.683562380942575%2C%20-18.274092106765032%2C%200.0%5D%2C%20%5B-43.68370008284114%2C%20-18.27431498409211%2C%200.0%5D%2C%20%5B-43.68400743095788%2C%20-18.274812439932038%2C%200.0%5D%2C%20%5B-43.68457995546257%2C%20-18.27522283214632%2C%200.0%5D%2C%20%5B-43.68512871792714%2C%20-18.275465696349087%2C%200.0%5D%2C%20%5B-43.685678202223116%2C%20-18.275612927979314%2C%200.0%5D%2C%20%5B-43.6861526104052%2C%20-18.2757596422514%2C%200.0%5D%2C%20%5B-43.6864774048677%2C%20-18.27583360066263%2C%200.0%5D%2C%20%5B-43.686838479808735%2C%20-18.275766700356094%2C%200.0%5D%2C%20%5B-43.68698904785743%2C%20-18.275712743554635%2C%200.0%5D%2C%20%5B-43.68727783269631%2C%20-18.27558322666831%2C%200.0%5D%2C%20%5B-43.6876039758679%2C%20-18.275477874747498%2C%200.0%5D%2C%20%5B-43.68775557794838%2C%20-18.275377186544123%2C%200.0%5D%2C%20%5B-43.68791356324734%2C%20-18.275335234390983%2C%200.0%5D%2C%20%5B-43.68812367106023%2C%20-18.275351021365214%2C%200.0%5D%2C%20%5B-43.68825151764424%2C%20-18.275323207576125%2C%200.0%5D%2C%20%5B-43.68837979542561%2C%20-18.275238014981273%2C%200.0%5D%2C%20%5B-43.68860653543085%2C%20-18.27503873420051%2C%200.0%5D%2C%20%5B-43.688734651171025%2C%20-18.274975058363676%2C%200.0%5D%2C%20%5B-43.688832477869084%2C%20-18.275008006351065%2C%200.0%5D%2C%20%5B-43.68895152331118%2C%20-18.275152276787146%2C%200.0%5D%2C%20%5B-43.68918896831889%2C%20-18.27552688557036%2C%200.0%5D%2C%20%5B-43.68951661479252%2C%20-18.27588776688492%2C%200.0%5D%2C%20%5B-43.68986725891605%2C%20-18.276123282810445%2C%200.0%5D%2C%20%5B-43.68995366567299%2C%20-18.276163491564766%2C%200.0%5D%2C%20%5B-43.69003934473919%2C%20-18.276203361638018%2C%200.0%5D%2C%20%5B-43.69020365381781%2C%20-18.276319250613692%2C%200.0%5D%2C%20%5B-43.69036029388411%2C%20-18.276456605072596%2C%200.0%5D%2C%20%5B-43.6904870646109%2C%20-18.27657223671641%2C%200.0%5D%2C%20%5B-43.690590935479655%2C%20-18.276737920461816%2C%200.0%5D%2C%20%5B-43.69066461398477%2C%20-18.276924915554087%2C%200.0%5D%2C%20%5B-43.69069329973455%2C%20-18.277104429822224%2C%200.0%5D%2C%20%5B-43.69070653942494%2C%20-18.277341220025367%2C%200.0%5D%2C%20%5B-43.6906516706943%2C%20-18.277649270961405%2C%200.0%5D%2C%20%5B-43.69046144563234%2C%20-18.277985085689934%2C%200.0%5D%2C%20%5B-43.690226388137596%2C%20-18.278291902213592%2C%200.0%5D%2C%20%5B-43.690066892884374%2C%20-18.278534681712895%2C%200.0%5D%2C%20%5B-43.68999759913511%2C%20-18.27876373368979%2C%200.0%5D%2C%20%5B-43.68995115188571%2C%20-18.27894990591132%2C%200.0%5D%2C%20%5B-43.68971532099523%2C%20-18.279462847778042%2C%200.0%5D%2C%20%5B-43.689382280285955%2C%20-18.27981920043069%2C%200.0%5D%2C%20%5B-43.68888363293819%2C%20-18.28023179840052%2C%200.0%5D%2C%20%5B-43.68850629629624%2C%20-18.280487427641106%2C%200.0%5D%2C%20%5B-43.68829445668676%2C%20-18.280701155437455%2C%200.0%5D%2C%20%5B-43.68808315589602%2C%20-18.280843159615095%2C%200.0%5D%2C%20%5B-43.68790069982135%2C%20-18.281143161007297%2C%200.0%5D%2C%20%5B-43.687642947647575%2C%20-18.281471336103735%2C%200.0%5D%2C%20%5B-43.6874163056776%2C%20-18.281656270348314%2C%200.0%5D%2C%20%5B-43.6870377762898%2C%20-18.2820696876014%2C%200.0%5D%2C%20%5B-43.68630237970713%2C%20-18.282792309882858%2C%200.0%5D%2C%20%5B-43.686030524391036%2C%20-18.282998449644314%2C%200.0%5D%2C%20%5B-43.68538899111508%2C%20-18.283438745931456%2C%200.0%5D%2C%20%5B-43.685101685125446%2C%20-18.283702159544475%2C%200.0%5D%2C%20%5B-43.68419465935364%2C%20-18.284499259631488%2C%200.0%5D%2C%20%5B-43.683605943448846%2C%20-18.284904049427848%2C%200.0%5D%2C%20%5B-43.68301025832023%2C%20-18.285237062319066%2C%200.0%5D%2C%20%5B-43.682795618502944%2C%20-18.28531448401249%2C%200.0%5D%2C%20%5B-43.68278287352005%2C%20-18.28699496292688%2C%200.0%5D%2C%20%5B-43.684261451877916%2C%20-18.286994950760995%2C%200.0%5D%2C%20%5B-43.684891551938826%2C%20-18.286441996328673%2C%200.0%5D%2C%20%5B-43.68564741379337%2C%20-18.285777744336002%2C%200.0%5D%2C%20%5B-43.68636750736055%2C%20-18.285043309353483%2C%200.0%5D%2C%20%5B-43.68688999491778%2C%20-18.28445873825663%2C%200.0%5D%2C%20%5B-43.68721581175791%2C%20-18.2840664777831%2C%200.0%5D%2C%20%5B-43.687526880819995%2C%20-18.283638251886313%2C%200.0%5D%2C%20%5B-43.68768388193895%2C%20-18.283395457969387%2C%200.0%5D%2C%20%5B-43.68770487462946%2C%20-18.283266493452494%2C%200.0%5D%2C%20%5B-43.68777588488907%2C%20-18.283142654099663%2C%200.0%5D%2C%20%5B-43.68798733267448%2C%20-18.282981524266194%2C%200.0%5D%2C%20%5B-43.68818365615502%2C%20-18.282834635790106%2C%200.0%5D%2C%20%5B-43.68845534709685%2C%20-18.282650009788195%2C%200.0%5D%2C%20%5B-43.68862199722288%2C%20-18.282455099188006%2C%200.0%5D%2C%20%5B-43.68876973977135%2C%20-18.282111822813032%2C%200.0%5D%2C%20%5B-43.688866062903855%2C%20-18.2819499021663%2C%200.0%5D%2C%20%5B-43.68905208639018%2C%20-18.281841196464576%2C%200.0%5D%2C%20%5B-43.68930825598545%2C%20-18.281723407917152%2C%200.0%5D%2C%20%5B-43.68946446258835%2C%20-18.281585806516315%2C%200.0%5D%2C%20%5B-43.68991539359973%2C%20-18.28086206284647%2C%200.0%5D%2C%20%5B-43.69016348913654%2C%20-18.280486000144684%2C%200.0%5D%2C%20%5B-43.69043610749087%2C%20-18.28017705032763%2C%200.0%5D%2C%20%5B-43.690748910549786%2C%20-18.279849248024117%2C%200.0%5D%2C%20%5B-43.69162151013771%2C%20-18.279096826816573%2C%200.0%5D%2C%20%5B-43.69196119263273%2C%20-18.27885527878318%2C%200.0%5D%2C%20%5B-43.69216832974114%2C%20-18.27873380327877%2C%200.0%5D%2C%20%5B-43.692354132817435%2C%20-18.27865378337541%2C%200.0%5D%2C%20%5B-43.69250958184677%2C%20-18.27861659200475%2C%200.0%5D%2C%20%5B-43.69271597878768%2C%20-18.278460203580945%2C%200.0%5D%2C%20%5B-43.693068458178736%2C%20-18.27818048640854%2C%200.0%5D%2C%20%5B-43.69359722886937%2C%20-18.277753736929892%2C%200.0%5D%2C%20%5B-43.693921247384615%2C%20-18.277514867625836%2C%200.0%5D%2C%20%5B-43.694325437734385%2C%20-18.277180510243614%2C%200.0%5D%2C%20%5B-43.69446905181013%2C%20-18.277052381877684%2C%200.0%5D%2C%20%5B-43.694456326812386%2C%20-18.27674610940857%2C%200.0%5D%2C%20%5B-43.69443648643393%2C%20-18.276387337815294%2C%200.0%5D%2C%20%5B-43.69441632413554%2C%20-18.276071600350775%2C%200.0%5D%2C%20%5B-43.694415306820474%2C%20-18.275705784534157%2C%200.0%5D%2C%20%5B-43.694499179615285%2C%20-18.27553421181299%2C%200.0%5D%2C%20%5B-43.69463576723539%2C%20-18.275341480732394%2C%200.0%5D%2C%20%5B-43.694704355971595%2C%20-18.275205667178437%2C%200.0%5D%2C%20%5B-43.69470537520279%2C%20-18.275069392376757%2C%200.0%5D%2C%20%5B-43.694671216241424%2C%20-18.274617277575782%2C%200.0%5D%2C%20%5B-43.69443874963109%2C%20-18.273575645596804%2C%200.0%5D%2C%20%5B-43.69419818756571%2C%20-18.27261285808224%2C%200.0%5D%2C%20%5B-43.69403146922358%2C%20-18.271815547245815%2C%200.0%5D%2C%20%5B-43.69391768053961%2C%20-18.27096838866228%2C%200.0%5D%2C%20%5B-43.69386861600197%2C%20-18.27050182645776%2C%200.0%5D%2C%20%5B-43.693887441029126%2C%20-18.269992691483097%2C%200.0%5D%2C%20%5B-43.69392680288909%2C%20-18.269749087578695%2C%200.0%5D%2C%20%5B-43.69401930709284%2C%20-18.269426946512617%2C%200.0%5D%2C%20%5B-43.69420179305079%2C%20-18.2691197651252%2C%200.0%5D%2C%20%5B-43.69455748576954%2C%20-18.268742038403005%2C%200.0%5D%2C%20%5B-43.69483070252684%2C%20-18.268349402731%2C%200.0%5D%2C%20%5B-43.69526441421859%2C%20-18.26757770662311%2C%200.0%5D%2C%20%5B-43.695561114074486%2C%20-18.267056120662804%2C%200.0%5D%2C%20%5B-43.69580381421559%2C%20-18.266727829764655%2C%200.0%5D%2C%20%5B-43.69604635273875%2C%20-18.266421055595195%2C%200.0%5D%2C%20%5B-43.6965685354634%2C%20-18.265865140856082%2C%200.0%5D%2C%20%5B-43.697105301318864%2C%20-18.265366705682418%2C%200.0%5D%2C%20%5B-43.69744500235805%2C%20-18.265117973035633%2C%200.0%5D%2C%20%5B-43.697528919956135%2C%20-18.264939225919793%2C%200.0%5D%2C%20%5B-43.69790562822348%2C%20-18.264006345436%2C%200.0%5D%2C%20%5B-43.69854031841084%2C%20-18.262791297858357%2C%200.0%5D%2C%20%5B-43.699503157092835%2C%20-18.26119593169471%2C%200.0%5D%2C%20%5B-43.70031370166523%2C%20-18.259886435092966%2C%200.0%5D%2C%20%5B-43.701158824977405%2C%20-18.258720663092564%2C%200.0%5D%2C%20%5B-43.70118454461134%2C%20-18.254667094706004%2C%200.0%5D%2C%20%5B-43.70122060798844%2C%20-18.24898125430981%2C%200.0%5D%2C%20%5B-43.701305005801316%2C%20-18.2356655836778%2C%200.0%5D%2C%20%5B-43.698673282264544%2C%20-18.235647722978328%2C%200.0%5D%2C%20%5B-43.695499513725515%2C%20-18.235626135501455%2C%200.0%5D%2C%20%5B-43.69632247902974%2C%20-18.235993616411484%2C%200.0%5D%2C%20%5B-43.69653381392133%2C%20-18.236174373325728%2C%200.0%5D%2C%20%5B-43.696619513934195%2C%20-18.2364260028679%2C%200.0%5D%2C%20%5B-43.69656733571511%2C%20-18.23671255809566%2C%200.0%5D%2C%20%5B-43.69646635462532%2C%20-18.236944587065175%2C%200.0%5D%2C%20%5B-43.69642475424089%2C%20-18.237154704807264%2C%200.0%5D%2C%20%5B-43.696443131232435%2C%20-18.23737479434621%2C%200.0%5D%2C%20%5B-43.69653865433757%2C%20-18.23759540882669%2C%200.0%5D%2C%20%5B-43.696562739318864%2C%20-18.237721095921167%2C%200.0%5D%2C%20%5B-43.69655572701139%2C%20-18.237822662235658%2C%200.0%5D%2C%20%5B-43.696492151524694%2C%20-18.23795970743413%2C%200.0%5D%2C%20%5B-43.696353069164516%2C%20-18.238156011709506%2C%200.0%5D%2C%20%5B-43.69596847729781%2C%20-18.238559849992757%2C%200.0%5D%2C%20%5B-43.69567824556716%2C%20-18.238892602415387%2C%200.0%5D%2C%20%5B-43.69552660666082%2C%20-18.23909479776988%2C%200.0%5D%2C%20%5B-43.695437786363165%2C%20-18.23926155707025%2C%200.0%5D%2C%20%5B-43.695329665375425%2C%20-18.239499912365112%2C%200.0%5D%2C%20%5B-43.695257975622894%2C%20-18.23971819294691%2C%200.0%5D%2C%20%5B-43.69522591741432%2C%20-18.239990539087316%2C%200.0%5D%2C%20%5B-43.69521203596921%2C%20-18.240341909283497%2C%200.0%5D%2C%20%5B-43.69525485252761%2C%20-18.240639870077736%2C%200.0%5D%2C%20%5B-43.695308768031175%2C%20-18.240959424716007%2C%200.0%5D%2C%20%5B-43.69532638315891%2C%20-18.241113758827435%2C%200.0%5D%2C%20%5B-43.695339094680314%2C%20-18.241422273650663%2C%200.0%5D%2C%20%5B-43.69531100329542%2C%20-18.241665955773506%2C%200.0%5D%2C%20%5B-43.69522203197867%2C%20-18.242020400747478%2C%200.0%5D%2C%20%5B-43.69498197059169%2C%20-18.242502925639556%2C%200.0%5D%2C%20%5B-43.6946478644828%2C%20-18.243013500137728%2C%200.0%5D%2C%20%5B-43.694431684725075%2C%20-18.24331328188096%2C%200.0%5D%2C%20%5B-43.69427142694831%2C%20-18.243663653839572%2C%200.0%5D%2C%20%5B-43.69418690181959%2C%20-18.24392488271577%2C%200.0%5D%2C%20%5B-43.69412832732749%2C%20-18.244229324963122%2C%200.0%5D%2C%20%5B-43.69409382848678%2C%20-18.244828013872517%2C%200.0%5D%2C%20%5B-43.694095090500134%2C%20-18.24516155508112%2C%200.0%5D%2C%20%5B-43.69415117748241%2C%20-18.24569272061403%2C%200.0%5D%2C%20%5B-43.694263536429055%2C%20-18.24622785622121%2C%200.0%5D%2C%20%5B-43.69466287811141%2C%20-18.247722151045508%2C%200.0%5D%2C%20%5B-43.69493798138982%2C%20-18.248412609754126%2C%200.0%5D%2C%20%5B-43.695152962524126%2C%20-18.24911222205996%2C%200.0%5D%2C%20%5B-43.69530853466182%2C%20-18.249725356404316%2C%200.0%5D%2C%20%5B-43.695326125227105%2C%20-18.25005064064996%2C%200.0%5D%2C%20%5B-43.69533744549634%2C%20-18.25019508109337%2C%200.0%5D%2C%20%5B-43.69534809597281%2C%20-18.250330975223527%2C%200.0%5D%2C%20%5B-43.69532578940658%2C%20-18.25073736334751%2C%200.0%5D%2C%20%5B-43.69531217591988%2C%20-18.25098537665801%2C%200.0%5D%2C%20%5B-43.69530552970741%2C%20-18.251008872794543%2C%200.0%5D%2C%20%5B-43.69527632586799%2C%20-18.251112116080186%2C%200.0%5D%2C%20%5B-43.69526691204293%2C%20-18.251145396407587%2C%200.0%5D%2C%20%5B-43.69517674584321%2C%20-18.25149146440918%2C%200.0%5D%2C%20%5B-43.69484467070951%2C%20-18.25239774790462%2C%200.0%5D%2C%20%5B-43.694494584011885%2C%20-18.253202293903808%2C%200.0%5D%2C%20%5B-43.694264780802094%2C%20-18.253816386550653%2C%200.0%5D%2C%20%5B-43.69411075876406%2C%20-18.25433535932125%2C%200.0%5D%2C%20%5B-43.69401406449635%2C%20-18.254717245591547%2C%200.0%5D%2C%20%5B-43.69395039066212%2C%20-18.25486624314924%2C%200.0%5D%2C%20%5B-43.693880505685854%2C%20-18.255009221013253%2C%200.0%5D%2C%20%5B-43.69366543450975%2C%20-18.25515838073736%2C%200.0%5D%2C%20%5B-43.693190357191526%2C%20-18.25544204712997%2C%200.0%5D%2C%20%5B-43.69288874131639%2C%20-18.255619305931553%2C%200.0%5D%2C%20%5B-43.69263184409349%2C%20-18.25583990607961%2C%200.0%5D%2C%20%5B-43.692375053585124%2C%20-18.25604616110565%2C%200.0%5D%2C%20%5B-43.692179445071375%2C%20-18.256102206455438%2C%200.0%5D%2C%20%5B-43.69202190783183%2C%20-18.256086784463125%2C%200.0%5D%2C%20%5B-43.691760187218144%2C%20-18.255948713824576%2C%200.0%5D%2C%20%5B-43.691446402377025%2C%20-18.255745732329476%2C%200.0%5D%2C%20%5B-43.69103631868521%2C%20-18.255369946293587%2C%200.0%5D%2C%20%5B-43.69092457568807%2C%20-18.255254418399026%2C%200.0%5D%2C%20%5B-43.69072982762665%2C%20-18.255195704513945%2C%200.0%5D%2C%20%5B-43.69045228943845%2C%20-18.2551651149364%2C%200.0%5D%2C%20%5B-43.69018247328055%2C%20-18.255105886893485%2C%200.0%5D%2C%20%5B-43.689995770256296%2C%20-18.25497550006142%2C%200.0%5D%2C%20%5B-43.68966043702695%2C%20-18.254643259265173%2C%200.0%5D%2C%20%5B-43.68952651118847%2C%20-18.254482749221182%2C%200.0%5D%2C%20%5B-43.68930227531445%2C%20-18.254352104801402%2C%200.0%5D%2C%20%5B-43.689108282206824%2C%20-18.254192976352513%2C%200.0%5D%2C%20%5B-43.688914583644944%2C%20-18.253994638840943%2C%200.0%5D%2C%20%5B-43.68875387282847%2C%20-18.25379018111947%2C%200.0%5D%2C%20%5B-43.68824370977486%2C%20-18.25347465578143%2C%200.0%5D%2C%20%5B-43.68754638266365%2C%20-18.25302994884814%2C%200.0%5D%2C%20%5B-43.6867311076685%2C%20-18.25229752154595%2C%200.0%5D%2C%20%5B-43.68634838791795%2C%20-18.251555098877944%2C%200.0%5D%2C%20%5B-43.68626676004465%2C%20-18.2510482263406%2C%200.0%5D%2C%20%5B-43.68621856944532%2C%20-18.250748983196%2C%200.0%5D%2C%20%5B-43.68613737221787%2C%20-18.24989965386808%2C%200.0%5D%2C%20%5B-43.68608119738186%2C%20-18.249050496201242%2C%200.0%5D%2C%20%5B-43.686050583711484%2C%20-18.248129786661764%2C%200.0%5D%2C%20%5B-43.686104850242344%2C%20-18.24756829571126%2C%200.0%5D%2C%20%5B-43.68619512139207%2C%20-18.247210278930094%2C%200.0%5D%2C%20%5B-43.6864099610461%2C%20-18.246924843933797%2C%200.0%5D%2C%20%5B-43.686800848791236%2C%20-18.24652107065564%2C%200.0%5D%2C%20%5B-43.687066537556674%2C%20-18.246128392610093%2C%200.0%5D%2C%20%5B-43.68724473986891%2C%20-18.245723159821125%2C%200.0%5D%2C%20%5B-43.687410699863975%2C%20-18.24528197924618%2C%200.0%5D%2C%20%5B-43.68753903726755%2C%20-18.244852495158927%2C%200.0%5D%2C%20%5B-43.687668450685955%2C%20-18.244279563711252%2C%200.0%5D%2C%20%5B-43.68787328538508%2C%20-18.243659330661394%2C%200.0%5D%2C%20%5B-43.68797561243807%2C%20-18.24336116794243%2C%200.0%5D%2C%20%5B-43.68817829236601%2C%20-18.243027828902925%2C%200.0%5D%2C%20%5B-43.688393212988316%2C%20-18.242730437088152%2C%200.0%5D%2C%20%5B-43.68869660269505%2C%20-18.242314105180704%2C%200.0%5D%2C%20%5B-43.68884905887611%2C%20-18.24200433048874%2C%200.0%5D%2C%20%5B-43.6889388727038%2C%20-18.241706081393097%2C%200.0%5D%2C%20%5B-43.688954251082606%2C%20-18.241323640812237%2C%200.0%5D%2C%20%5B-43.68895372608173%2C%20-18.241308729722878%2C%200.0%5D%2C%20%5B-43.688933621762594%2C%20-18.24073772624144%2C%200.0%5D%2C%20%5B-43.68883757202338%2C%20-18.24019911361011%2C%200.0%5D%2C%20%5B-43.68869112309837%2C%20-18.23970797414478%2C%200.0%5D%2C%20%5B-43.6884813168542%2C%20-18.23932399182354%2C%200.0%5D%2C%20%5B-43.6883056079008%2C%20-18.23914795325356%2C%200.0%5D%2C%20%5B-43.68810420791806%2C%20-18.238977118137722%2C%200.0%5D%2C%20%5B-43.68756895907676%2C%20-18.238614814878968%2C%200.0%5D%2C%20%5B-43.6866366184009%2C%20-18.237819424166776%2C%200.0%5D%2C%20%5B-43.686003091411614%2C%20-18.237217352010962%2C%200.0%5D%2C%20%5B-43.68565649155323%2C%20-18.23672483771201%2C%200.0%5D%2C%20%5B-43.68538495373104%2C%20-18.23623283797502%2C%200.0%5D%2C%20%5B-43.68521367695777%2C%20-18.235717616923008%2C%200.0%5D%2C%20%5B-43.68519526375142%2C%20-18.2355556851694%2C%200.0%5D%2C%20%5B-43.68010624813549%2C%20-18.23552068704899%2C%200.0%5D%2C%20%5B-43.67976646059306%2C%20-18.23578587570413%2C%200.0%5D%2C%20%5B-43.679410863997305%2C%20-18.23615640608442%2C%200.0%5D%2C%20%5B-43.67924383672859%2C%20-18.236406299689975%2C%200.0%5D%2C%20%5B-43.67904586411157%2C%20-18.236777915893867%2C%200.0%5D%2C%20%5B-43.678946389942375%2C%20-18.23702827496313%2C%200.0%5D%2C%20%5B-43.678784916753536%2C%20-18.237536424064846%2C%200.0%5D%2C%20%5B-43.67859940706011%2C%20-18.238245243108157%2C%200.0%5D%2C%20%5B-43.67845866134984%2C%20-18.238990234238393%2C%200.0%5D%2C%20%5B-43.6784494751312%2C%20-18.23921252493101%2C%200.0%5D%2C%20%5B-43.678462156887385%2C%20-18.23952103903375%2C%200.0%5D%2C%20%5B-43.67856745600184%2C%20-18.23975846499491%2C%200.0%5D%2C%20%5B-43.678681141281324%2C%20-18.239945739776932%2C%200.0%5D%2C%20%5B-43.678891411832794%2C%20-18.240154999602513%2C%200.0%5D%2C%20%5B-43.67915873494782%2C%20-18.240375013250596%2C%200.0%5D%2C%20%5B-43.67929234033637%2C%20-18.24049249113585%2C%200.0%5D%2C%20%5B-43.67940106070074%2C%20-18.240591865577432%2C%200.0%5D%2C%20%5B-43.67950323267202%2C%20-18.240730047013578%2C%200.0%5D%2C%20%5B-43.67959386545931%2C%20-18.24088867078264%2C%200.0%5D%2C%20%5B-43.67962899984546%2C%20-18.24100750185463%2C%200.0%5D%2C%20%5B-43.67964562837778%2C%20-18.24119123794865%2C%200.0%5D%2C%20%5B-43.67963956346734%2C%20-18.241244746258086%2C%200.0%5D%2C%20%5B-43.679624182107055%2C%20-18.241380449729608%2C%200.0%5D%2C%20%5B-43.67958529852276%2C%20-18.241493032349204%2C%200.0%5D%2C%20%5B-43.67954062654343%2C%20-18.24157688419827%2C%200.0%5D%2C%20%5B-43.67939504813805%2C%20-18.241769065516884%2C%200.0%5D%2C%20%5B-43.679124470470796%2C%20-18.24207897348861%2C%200.0%5D%2C%20%5B-43.67883774842189%2C%20-18.242405984149947%2C%200.0%5D%2C%20%5B-43.6787023792208%2C%20-18.242571457152046%2C%200.0%5D%2C%20%5B-43.678564646726855%2C%20-18.242784731798867%2C%200.0%5D%2C%20%5B-43.678481291600065%2C%20-18.242954388940085%2C%200.0%5D%2C%20%5B-43.678369421293%2C%20-18.24318888181133%2C%200.0%5D%2C%20%5B-43.678279511318415%2C%20-18.243431177046556%2C%200.0%5D%2C%20%5B-43.67819495545719%2C%20-18.243759581671544%2C%200.0%5D%2C%20%5B-43.67813005460746%2C%20-18.244135939953217%2C%200.0%5D%2C%20%5B-43.67811188646935%2C%20-18.24442081012271%2C%200.0%5D%2C%20%5B-43.67805819987874%2C%20-18.244902445444424%2C%200.0%5D%2C%20%5B-43.67796819251005%2C%20-18.24551038837932%2C%200.0%5D%2C%20%5B-43.67778722105745%2C%20-18.24627900928366%2C%200.0%5D%2C%20%5B-43.67759594980989%2C%20-18.247085813157078%2C%200.0%5D%2C%20%5B-43.677430783514446%2C%20-18.247749342927975%2C%200.0%5D%2C%20%5B-43.677398586855674%2C%20-18.24803602865944%2C%200.0%5D%2C%20%5B-43.677405701179254%2C%20-18.24841862196583%2C%200.0%5D%2C%20%5B-43.67753868400833%2C%20-18.248701666861116%2C%200.0%5D%2C%20%5B-43.677776577919495%2C%20-18.249009345241106%2C%200.0%5D%2C%20%5B-43.67790499139598%2C%20-18.249234976740517%2C%200.0%5D%2C%20%5B-43.67806267198281%2C%20-18.24956122810209%2C%200.0%5D%2C%20%5B-43.678125993063446%2C%20-18.249791191825754%2C%200.0%5D%2C%20%5B-43.67816915208546%2C%20-18.25004014353777%2C%200.0%5D%2C%20%5B-43.67820179614553%2C%20-18.250355967875375%2C%200.0%5D%2C%20%5B-43.678327788383044%2C%20-18.250901963184646%2C%200.0%5D%2C%20%5B-43.678567581639626%2C%20-18.251620888878072%2C%200.0%5D%2C%20%5B-43.67887714504298%2C%20-18.252241272697155%2C%200.0%5D%2C%20%5B-43.67904394455173%2C%20-18.252520366044244%2C%200.0%5D%2C%20%5B-43.679183181703564%2C%20-18.252721564798737%2C%200.0%5D%2C%20%5B-43.6793932518559%2C%20-18.253069694860542%2C%200.0%5D%2C%20%5B-43.679451821869165%2C%20-18.253183666740735%2C%200.0%5D%2C%20%5B-43.67951936887782%2C%20-18.2533514958155%2C%200.0%5D%2C%20%5B-43.679577374510224%2C%20-18.253540179441572%2C%200.0%5D%2C%20%5B-43.67961244681752%2C%20-18.253866181692842%2C%200.0%5D%2C%20%5B-43.67959414303582%2C%20-18.254218713380848%2C%200.0%5D%2C%20%5B-43.67954685308846%2C%20-18.25468162426794%2C%200.0%5D%2C%20%5B-43.679551482694606%2C%20-18.254896837308483%2C%200.0%5D%2C%20%5B-43.67956900756852%2C%20-18.255061332657593%2C%200.0%5D%2C%20%5B-43.67965797592098%2C%20-18.255292070632485%2C%200.0%5D%2C%20%5B-43.67979134398553%2C%20-18.255442421918286%2C%200.0%5D%2C%20%5B-43.67996555488872%2C%20-18.255569145796425%2C%200.0%5D%2C%20%5B-43.68020549599117%2C%20-18.255690345531054%2C%200.0%5D%2C%20%5B-43.68049883657963%2C%20-18.255782026857048%2C%200.0%5D%2C%20%5B-43.680810831792016%2C%20-18.255888779462946%2C%200.0%5D%2C%20%5B-43.68094485561773%2C%20-18.25595246434226%2C%200.0%5D%2C%20%5B-43.681088240549286%2C%20-18.256019202268202%2C%200.0%5D%5D%5D%5D%2C%20%22type%22%3A%20%22MultiPolygon%22%7D%2C%20%22id%22%3A%20%223%22%2C%20%22properties%22%3A%20%7B%22Hexadec%22%3A%20%22%239b0000%22%2C%20%22Id%22%3A%206%2C%20%22RGB%22%3A%20%22155%2C000%2C000%22%2C%20%22Unidades%22%3A%20%22Forma%5Cu00e7%5Cu00e3o%20Sopa%20Brumadinho%20-%20N%5Cu00edvel%20E%22%7D%2C%20%22type%22%3A%20%22Feature%22%7D%2C%20%7B%22bbox%22%3A%20%5B-43.73060218223261%2C%20-18.36312286847067%2C%20-43.68180892295509%2C%20-18.265117973035633%5D%2C%20%22geometry%22%3A%20%7B%22coordinates%22%3A%20%5B%5B%5B%5B-43.70803172270042%2C%20-18.338140409501342%2C%200.0%5D%2C%20%5B-43.707843266457864%2C%20-18.338569494935328%2C%200.0%5D%2C%20%5B-43.707720753183075%2C%20-18.338884263760047%2C%200.0%5D%2C%20%5B-43.707503106272334%2C%20-18.339198387548166%2C%200.0%5D%2C%20%5B-43.70726077899027%2C%20-18.339464525636743%2C%200.0%5D%2C%20%5B-43.70709948780294%2C%20-18.33960688603058%2C%200.0%5D%2C%20%5B-43.70678276525024%2C%20-18.339776882815052%2C%200.0%5D%2C%20%5B-43.70646632670151%2C%20-18.339908626535927%2C%200.0%5D%2C%20%5B-43.70615560640306%2C%20-18.339944772454125%2C%200.0%5D%2C%20%5B-43.70598067053849%2C%20-18.339946773007043%2C%200.0%5D%2C%20%5B-43.705610873328176%2C%20-18.34002373018276%2C%200.0%5D%2C%20%5B-43.70524887175476%2C%20-18.340222107662676%2C%200.0%5D%2C%20%5B-43.70503649288655%2C%20-18.340500400522988%2C%200.0%5D%2C%20%5B-43.70464188228568%2C%20-18.341042844848857%2C%200.0%5D%2C%20%5B-43.70427054938998%2C%20-18.34148502862968%2C%200.0%5D%2C%20%5B-43.70376290034447%2C%20-18.342076911323645%2C%200.0%5D%2C%20%5B-43.70358055928877%2C%20-18.342355406507167%2C%200.0%5D%2C%20%5B-43.703484786566115%2C%20-18.34260817088254%2C%200.0%5D%2C%20%5B-43.707126056850605%2C%20-18.342633010198178%2C%200.0%5D%2C%20%5B-43.70712511872331%2C%20-18.342755995706366%2C%200.0%5D%2C%20%5B-43.70727081793607%2C%20-18.342667330668327%2C%200.0%5D%2C%20%5B-43.70739049229155%2C%20-18.342566528902378%2C%200.0%5D%2C%20%5B-43.7075046631006%2C%20-18.34236407640658%2C%200.0%5D%2C%20%5B-43.70758096937617%2C%20-18.34220320789394%2C%200.0%5D%2C%20%5B-43.70763303985949%2C%20-18.341934584439496%2C%200.0%5D%2C%20%5B-43.70765940827348%2C%20-18.341755445544347%2C%200.0%5D%2C%20%5B-43.70771250033757%2C%20-18.341349352087043%2C%200.0%5D%2C%20%5B-43.70777158435535%2C%20-18.340979162737955%2C%200.0%5D%2C%20%5B-43.70796379103035%2C%20-18.34038273986173%2C%200.0%5D%2C%20%5B-43.70812310353003%2C%20-18.340001275050025%2C%200.0%5D%2C%20%5B-43.70826306167077%2C%20-18.33969738326807%2C%200.0%5D%2C%20%5B-43.708453622235815%2C%20-18.339322107057892%2C%200.0%5D%2C%20%5B-43.70868777126629%2C%20-18.338977012126026%2C%200.0%5D%2C%20%5B-43.70906662483129%2C%20-18.338531283273337%2C%200.0%5D%2C%20%5B-43.7092867899444%2C%20-18.33838334236602%2C%200.0%5D%2C%20%5B-43.70946886997504%2C%20-18.338306870526978%2C%200.0%5D%2C%20%5B-43.70963212930732%2C%20-18.338236248389965%2C%200.0%5D%2C%20%5B-43.709788331486266%2C%20-18.338273169056553%2C%200.0%5D%2C%20%5B-43.710069043320864%2C%20-18.338400590955956%2C%200.0%5D%2C%20%5B-43.71013735737698%2C%20-18.33847278027837%2C%200.0%5D%2C%20%5B-43.710149254121816%2C%20-18.338556542431824%2C%200.0%5D%2C%20%5B-43.71009776527813%2C%20-18.338747466466966%2C%200.0%5D%2C%20%5B-43.71002785478477%2C%20-18.338890447744905%2C%200.0%5D%2C%20%5B-43.70976893948151%2C%20-18.339199513310472%2C%200.0%5D%2C%20%5B-43.70959169785961%2C%20-18.339467290468615%2C%200.0%5D%2C%20%5B-43.70947717661302%2C%20-18.33971756022116%2C%200.0%5D%2C%20%5B-43.70942528731082%2C%20-18.339962276620327%2C%200.0%5D%2C%20%5B-43.70948450346172%2C%20-18.34041694921989%2C%200.0%5D%2C%20%5B-43.70950097286155%2C%20-18.34072787820466%2C%200.0%5D%2C%20%5B-43.7092807604343%2C%20-18.340881796109873%2C%200.0%5D%2C%20%5B-43.709091664251744%2C%20-18.34105983348083%2C%200.0%5D%2C%20%5B-43.7089381936695%2C%20-18.341330540251402%2C%200.0%5D%2C%20%5B-43.70888237071738%2C%20-18.341429006102636%2C%200.0%5D%2C%20%5B-43.70874263400332%2C%20-18.341703013482718%2C%200.0%5D%2C%20%5B-43.70863889602338%2C%20-18.34218646859473%2C%200.0%5D%2C%20%5B-43.70861687813577%2C%20-18.342622659183338%2C%200.0%5D%2C%20%5B-43.70865765897074%2C%20-18.342738444020267%2C%200.0%5D%2C%20%5B-43.7087456064952%2C%20-18.342988143891734%2C%200.0%5D%2C%20%5B-43.708768777392166%2C%20-18.34323934563188%2C%200.0%5D%2C%20%5B-43.70872172381844%2C%20-18.34367536660023%2C%200.0%5D%2C%20%5B-43.70865682559887%2C%20-18.343985744256294%2C%200.0%5D%2C%20%5B-43.708426485316664%2C%20-18.344659613447437%2C%200.0%5D%2C%20%5B-43.708171462549394%2C%20-18.345285496890458%2C%200.0%5D%2C%20%5B-43.708131243122445%2C%20-18.345643859530988%2C%200.0%5D%2C%20%5B-43.70824714326733%2C%20-18.34605109835807%2C%200.0%5D%2C%20%5B-43.708567548663424%2C%20-18.34673467667975%2C%200.0%5D%2C%20%5B-43.70929084450148%2C%20-18.347952959289408%2C%200.0%5D%2C%20%5B-43.709651075202686%2C%20-18.348331965797936%2C%200.0%5D%2C%20%5B-43.71003594458356%2C%20-18.34876493378234%2C%200.0%5D%2C%20%5B-43.71034641607888%2C%20-18.349101761496023%2C%200.0%5D%2C%20%5B-43.710736971495976%2C%20-18.349612471036806%2C%200.0%5D%2C%20%5B-43.71091027650031%2C%20-18.34987664278813%2C%200.0%5D%2C%20%5B-43.71101473122166%2C%20-18.350140348684224%2C%200.0%5D%2C%20%5B-43.71110551514447%2C%20-18.350559370739386%2C%200.0%5D%2C%20%5B-43.71109788151539%2C%20-18.3507446140598%2C%200.0%5D%2C%20%5B-43.71100949913884%2C%20-18.350845629563832%2C%200.0%5D%2C%20%5B-43.71073937835282%2C%20-18.350975301722183%2C%200.0%5D%2C%20%5B-43.710501262904515%2C%20-18.351009553985783%2C%200.0%5D%2C%20%5B-43.709889193455346%2C%20-18.35082609326659%2C%200.0%5D%2C%20%5B-43.70900886901136%2C%20-18.35052126832667%2C%200.0%5D%2C%20%5B-43.70801020163502%2C%20-18.350137932860687%2C%200.0%5D%2C%20%5B-43.707071764346416%2C%20-18.349749019037603%2C%200.0%5D%2C%20%5B-43.7070110099106%2C%20-18.357708204400357%2C%200.0%5D%2C%20%5B-43.71431355790456%2C%20-18.35775930927417%2C%200.0%5D%2C%20%5B-43.71465682317709%2C%20-18.35829952068305%2C%200.0%5D%2C%20%5B-43.71483605845699%2C%20-18.358581589500183%2C%200.0%5D%2C%20%5B-43.71565932536609%2C%20-18.359667830961435%2C%200.0%5D%2C%20%5B-43.71640431791101%2C%20-18.36050488775209%2C%200.0%5D%2C%20%5B-43.717060769326885%2C%20-18.361126164122776%2C%200.0%5D%2C%20%5B-43.71747631315066%2C%20-18.361480425853845%2C%200.0%5D%2C%20%5B-43.7178998115237%2C%20-18.361774967679427%2C%200.0%5D%2C%20%5B-43.71805444946516%2C%20-18.361857299407195%2C%200.0%5D%2C%20%5B-43.71845354656239%2C%20-18.362065603243966%2C%200.0%5D%2C%20%5B-43.71874307517179%2C%20-18.362191878391204%2C%200.0%5D%2C%20%5B-43.7189292259187%2C%20-18.36224938867126%2C%200.0%5D%2C%20%5B-43.71912281332285%2C%20-18.362309196237526%2C%200.0%5D%2C%20%5B-43.719457764833265%2C%20-18.362387957716194%2C%200.0%5D%2C%20%5B-43.71966784143768%2C%20-18.362422842831762%2C%200.0%5D%2C%20%5B-43.71977222755289%2C%20-18.36252874445607%2C%200.0%5D%2C%20%5B-43.72021498809191%2C%20-18.362928610830387%2C%200.0%5D%2C%20%5B-43.72047937524243%2C%20-18.363069059957812%2C%200.0%5D%2C%20%5B-43.72065926567574%2C%20-18.36312286847067%2C%200.0%5D%2C%20%5B-43.720754588573975%2C%20-18.363099599743187%2C%200.0%5D%2C%20%5B-43.72105275627664%2C%20-18.362733402692985%2C%200.0%5D%2C%20%5B-43.721322398179154%2C%20-18.362265471727575%2C%200.0%5D%2C%20%5B-43.72145350615536%2C%20-18.362037948537868%2C%200.0%5D%2C%20%5B-43.72174383746256%2C%20-18.36137522497529%2C%200.0%5D%2C%20%5B-43.72185220143088%2C%20-18.360940806938842%2C%200.0%5D%2C%20%5B-43.72190639563444%2C%20-18.360381698053953%2C%200.0%5D%2C%20%5B-43.721849752826934%2C%20-18.359912699881182%2C%200.0%5D%2C%20%5B-43.72168160513437%2C%20-18.359624662419343%2C%200.0%5D%2C%20%5B-43.72149776630114%2C%20-18.35942737402846%2C%200.0%5D%2C%20%5B-43.72121377563216%2C%20-18.35922941311303%2C%200.0%5D%2C%20%5B-43.720994144995494%2C%20-18.359132302122752%2C%200.0%5D%2C%20%5B-43.72061437690826%2C%20-18.35901976989827%2C%200.0%5D%2C%20%5B-43.72016439723184%2C%20-18.358921110638413%2C%200.0%5D%2C%20%5B-43.71947341884498%2C%20-18.35890690297523%2C%200.0%5D%2C%20%5B-43.71955759458497%2C%20-18.35835756020951%2C%200.0%5D%2C%20%5B-43.71956124872523%2C%20-18.35833255197797%2C%200.0%5D%2C%20%5B-43.71960505992277%2C%20-18.358032715883482%2C%200.0%5D%2C%20%5B-43.71962198397244%2C%20-18.357095593927315%2C%200.0%5D%2C%20%5B-43.719478102830614%2C%20-18.356233900072148%2C%200.0%5D%2C%20%5B-43.71950530605303%2C%20-18.356166739028147%2C%200.0%5D%2C%20%5B-43.71987579036615%2C%20-18.355839283662426%2C%200.0%5D%2C%20%5B-43.72023944898175%2C%20-18.35541853620828%2C%200.0%5D%2C%20%5B-43.72048234493634%2C%20-18.355075876899356%2C%200.0%5D%2C%20%5B-43.72064261645873%2C%20-18.354732662385217%2C%200.0%5D%2C%20%5B-43.720727141405305%2C%20-18.354475011809008%2C%200.0%5D%2C%20%5B-43.72072856750782%2C%20-18.35428135775366%2C%200.0%5D%2C%20%5B-43.720715816291786%2C%20-18.35397284486117%2C%200.0%5D%2C%20%5B-43.722533577694804%2C%20-18.353977869168382%2C%200.0%5D%2C%20%5B-43.72378099006776%2C%20-18.353930583743274%2C%200.0%5D%2C%20%5B-43.72414150083746%2C%20-18.353916916399232%2C%200.0%5D%2C%20%5B-43.72444200142172%2C%20-18.353911755785326%2C%200.0%5D%2C%20%5B-43.7247352540795%2C%20-18.353870682499522%2C%200.0%5D%2C%20%5B-43.72616469605467%2C%20-18.353564644637515%2C%200.0%5D%2C%20%5B-43.726946700709526%2C%20-18.353455107614103%2C%200.0%5D%2C%20%5B-43.727555422040915%2C%20-18.353416137546766%2C%200.0%5D%2C%20%5B-43.72806628776241%2C%20-18.35340520324497%2C%200.0%5D%2C%20%5B-43.728749595932925%2C%20-18.353438454714905%2C%200.0%5D%2C%20%5B-43.72959095430261%2C%20-18.3534297211949%2C%200.0%5D%2C%20%5B-43.73015487049351%2C%20-18.35335458027216%2C%200.0%5D%2C%20%5B-43.73059537105421%2C%20-18.353278618419314%2C%200.0%5D%2C%20%5B-43.73060218223261%2C%20-18.35238069884239%2C%200.0%5D%2C%20%5B-43.730049520668594%2C%20-18.3523291946163%2C%200.0%5D%2C%20%5B-43.72928846125658%2C%20-18.35231455683944%2C%200.0%5D%2C%20%5B-43.72838677425535%2C%20-18.352356359511884%2C%200.0%5D%2C%20%5B-43.72760456499087%2C%20-18.352494592389775%2C%200.0%5D%2C%20%5B-43.72683257980027%2C%20-18.35260419933526%2C%200.0%5D%2C%20%5B-43.725899163682385%2C%20-18.352875305766265%2C%200.0%5D%2C%20%5B-43.72565796487976%2C%20-18.352988456512318%2C%200.0%5D%2C%20%5B-43.72552791172131%2C%20-18.35296845931196%2C%200.0%5D%2C%20%5B-43.72540885573264%2C%20-18.352814644470456%2C%200.0%5D%2C%20%5B-43.725330350549854%2C%20-18.352594155293815%2C%200.0%5D%2C%20%5B-43.72522383590388%2C%20-18.352096132796877%2C%200.0%5D%2C%20%5B-43.725095678187984%2C%20-18.35181792942817%2C%200.0%5D%2C%20%5B-43.72478774586005%2C%20-18.351471577364478%2C%200.0%5D%2C%20%5B-43.72417993342347%2C%20-18.351046708015758%2C%200.0%5D%2C%20%5B-43.72403820329837%2C%20-18.350974677650644%2C%200.0%5D%2C%20%5B-43.723321825853404%2C%20-18.350610596420434%2C%200.0%5D%2C%20%5B-43.72281318318076%2C%20-18.350320278474424%2C%200.0%5D%2C%20%5B-43.7225748688455%2C%20-18.350041335290737%2C%200.0%5D%2C%20%5B-43.72243670210299%2C%20-18.34976306329242%2C%200.0%5D%2C%20%5B-43.72240841587452%2C%20-18.349523782508026%2C%200.0%5D%2C%20%5B-43.72247082407195%2C%20-18.34920860058586%2C%200.0%5D%2C%20%5B-43.72275439745598%2C%20-18.348780137316588%2C%200.0%5D%2C%20%5B-43.72300905332467%2C%20-18.348453366939502%2C%200.0%5D%2C%20%5B-43.72258871791382%2C%20-18.348036099239003%2C%200.0%5D%2C%20%5B-43.722260456539004%2C%20-18.347561693550844%2C%200.0%5D%2C%20%5B-43.72191588117861%2C%20-18.346752450330026%2C%200.0%5D%2C%20%5B-43.721738192790156%2C%20-18.346231235358946%2C%200.0%5D%2C%20%5B-43.72151271936593%2C%20-18.345398881197763%2C%200.0%5D%2C%20%5B-43.72138580880861%2C%20-18.34478237009093%2C%200.0%5D%2C%20%5B-43.72127185666152%2C%20-18.34410617304848%2C%200.0%5D%2C%20%5B-43.72118236938005%2C%20-18.34350784471447%2C%200.0%5D%2C%20%5B-43.72108962849373%2C%20-18.343351813223155%2C%200.0%5D%2C%20%5B-43.72075529638929%2C%20-18.342853455578513%2C%200.0%5D%2C%20%5B-43.72010427029491%2C%20-18.342012266442904%2C%200.0%5D%2C%20%5B-43.719924170771186%2C%20-18.341819784231916%2C%200.0%5D%2C%20%5B-43.719240757349496%2C%20-18.34112780695697%2C%200.0%5D%2C%20%5B-43.718867956645%2C%20-18.340754710789835%2C%200.0%5D%2C%20%5B-43.71804037842564%2C%20-18.34009164712995%2C%200.0%5D%2C%20%5B-43.717563958343504%2C%20-18.33979412187716%2C%200.0%5D%2C%20%5B-43.71706551197266%2C%20-18.339484731835164%2C%200.0%5D%2C%20%5B-43.71646692691938%2C%20-18.339174666435383%2C%200.0%5D%2C%20%5B-43.71590762332339%2C%20-18.338970063833454%2C%200.0%5D%2C%20%5B-43.71536813721771%2C%20-18.338794284092863%2C%200.0%5D%2C%20%5B-43.71513823867788%2C%20-18.33873535309637%2C%200.0%5D%2C%20%5B-43.71477893566999%2C%20-18.338570349589027%2C%200.0%5D%2C%20%5B-43.71423127675186%2C%20-18.338145857232284%2C%200.0%5D%2C%20%5B-43.714003430619364%2C%20-18.337809593459273%2C%200.0%5D%2C%20%5B-43.71390505928532%2C%20-18.33756983915008%2C%200.0%5D%2C%20%5B-43.713706124421485%2C%20-18.33738678818649%2C%200.0%5D%2C%20%5B-43.713496327027244%2C%20-18.337318427309395%2C%200.0%5D%2C%20%5B-43.713026167719306%2C%20-18.337248309000532%2C%200.0%5D%2C%20%5B-43.71258576742043%2C%20-18.337216645000776%2C%200.0%5D%2C%20%5B-43.71214586313199%2C%20-18.33711803795583%2C%200.0%5D%2C%20%5B-43.71174700689737%2C%20-18.336885816506054%2C%200.0%5D%2C%20%5B-43.71138905768807%2C%20-18.33653910723839%2C%200.0%5D%2C%20%5B-43.71116157355897%2C%20-18.3361550247555%2C%200.0%5D%2C%20%5B-43.710944813089185%2C%20-18.335675378293345%2C%200.0%5D%2C%20%5B-43.71089665792939%2C%20-18.335416834891237%2C%200.0%5D%2C%20%5B-43.7109980719211%2C%20-18.335245375213944%2C%200.0%5D%2C%20%5B-43.71168453628517%2C%20-18.33450405140052%2C%200.0%5D%2C%20%5B-43.71250223502945%2C%20-18.333620156337588%2C%200.0%5D%2C%20%5B-43.71277444553714%2C%20-18.333373339510576%2C%200.0%5D%2C%20%5B-43.71288156872733%2C%20-18.33324754366136%2C%200.0%5D%2C%20%5B-43.71293906782293%2C%20-18.333089534062125%2C%200.0%5D%2C%20%5B-43.713023237319845%2C%20-18.33271054540091%2C%200.0%5D%2C%20%5B-43.71307298449764%2C%20-18.33233132438979%2C%200.0%5D%2C%20%5B-43.71307661063469%2C%20-18.33184121260434%2C%200.0%5D%2C%20%5B-43.71303697997205%2C%20-18.331276093010384%2C%200.0%5D%2C%20%5B-43.71293106063005%2C%20-18.33078823060649%2C%200.0%5D%2C%20%5B-43.712740984385135%2C%20-18.330254970650437%2C%200.0%5D%2C%20%5B-43.7126144111811%2C%20-18.33002100276128%2C%200.0%5D%2C%20%5B-43.712381975793505%2C%20-18.329714592917973%2C%200.0%5D%2C%20%5B-43.712179793543996%2C%20-18.329548852965303%2C%200.0%5D%2C%20%5B-43.71198034262607%2C%20-18.329436926698964%2C%200.0%5D%2C%20%5B-43.71179926889981%2C%20-18.32937891978748%2C%200.0%5D%2C%20%5B-43.711520990669015%2C%20-18.329347153817036%2C%200.0%5D%2C%20%5B-43.71077317654006%2C%20-18.329333134826715%2C%200.0%5D%2C%20%5B-43.71017849439703%2C%20-18.329347046185834%2C%200.0%5D%2C%20%5B-43.70984653260852%2C%20-18.32938066469838%2C%200.0%5D%2C%20%5B-43.70943583066332%2C%20-18.329482488434586%2C%200.0%5D%2C%20%5B-43.70902772525647%2C%20-18.329656056014723%2C%200.0%5D%2C%20%5B-43.70880752713688%2C%20-18.329809974390358%2C%200.0%5D%2C%20%5B-43.70863439997123%2C%20-18.32994627939551%2C%200.0%5D%2C%20%5B-43.708526520193516%2C%20-18.330145787307107%2C%200.0%5D%2C%20%5B-43.70843690516405%2C%20-18.330414157355342%2C%200.0%5D%2C%20%5B-43.70824881292191%2C%20-18.331275933575157%2C%200.0%5D%2C%20%5B-43.708254141288315%2C%20-18.331304099670785%2C%200.0%5D%2C%20%5B-43.70830568677245%2C%20-18.331576572097894%2C%200.0%5D%2C%20%5B-43.70844069814494%2C%20-18.3322902466675%2C%200.0%5D%2C%20%5B-43.70845457005936%2C%20-18.33233584404267%2C%200.0%5D%2C%20%5B-43.708606882656035%2C%20-18.3328364983944%2C%200.0%5D%2C%20%5B-43.70891404058832%2C%20-18.333278504640916%2C%200.0%5D%2C%20%5B-43.709146877971556%2C%20-18.333614807567372%2C%200.0%5D%2C%20%5B-43.70922503584582%2C%20-18.333878336177815%2C%200.0%5D%2C%20%5B-43.709317895170265%2C%20-18.334185000560034%2C%200.0%5D%2C%20%5B-43.709315366997124%2C%20-18.33425269587644%2C%200.0%5D%2C%20%5B-43.70929289967878%2C%20-18.334854284813517%2C%200.0%5D%2C%20%5B-43.70922468712914%2C%20-18.335274622364715%2C%200.0%5D%2C%20%5B-43.709067201659245%2C%20-18.335579592068857%2C%200.0%5D%2C%20%5B-43.708709083943994%2C%20-18.335931021113325%2C%200.0%5D%2C%20%5B-43.70828097436783%2C%20-18.336267629830655%2C%200.0%5D%2C%20%5B-43.70808449650516%2C%20-18.336428880171276%2C%200.0%5D%2C%20%5B-43.707972994053755%2C%20-18.33660983333534%2C%200.0%5D%2C%20%5B-43.70792129041128%2C%20-18.336829446105924%2C%200.0%5D%2C%20%5B-43.707932722848305%2C%20-18.33731248607815%2C%200.0%5D%2C%20%5B-43.708015780509896%2C%20-18.33759039370231%2C%200.0%5D%2C%20%5B-43.708074798288564%2C%20-18.337734247814737%2C%200.0%5D%2C%20%5B-43.708089037622756%2C%20-18.337839544049274%2C%200.0%5D%2C%20%5B-43.70803172270042%2C%20-18.338140409501342%2C%200.0%5D%5D%5D%2C%20%5B%5B%5B-43.70357603616031%2C%20-18.318541765397338%2C%200.0%5D%2C%20%5B-43.703717703965665%2C%20-18.318679009317357%2C%200.0%5D%2C%20%5B-43.70397319110251%2C%20-18.318659226453494%2C%200.0%5D%2C%20%5B-43.704211155768846%2C%20-18.31863932426534%2C%200.0%5D%2C%20%5B-43.70444798164312%2C%20-18.318772431977873%2C%200.0%5D%2C%20%5B-43.70474685445076%2C%20-18.318977687722047%2C%200.0%5D%2C%20%5B-43.70503383440343%2C%20-18.31909918063508%2C%200.0%5D%2C%20%5B-43.705334042110515%2C%20-18.31912512665011%2C%200.0%5D%2C%20%5B-43.70570943523701%2C%20-18.319139627621265%2C%200.0%5D%2C%20%5B-43.7065735770771%2C%20-18.31907375943492%2C%200.0%5D%2C%20%5B-43.70697497923622%2C%20-18.318956934311704%2C%200.0%5D%2C%20%5B-43.7071506480159%2C%20-18.318898351834697%2C%200.0%5D%2C%20%5B-43.707139108553406%2C%20-18.318766773760853%2C%200.0%5D%2C%20%5B-43.70693982851567%2C%20-18.318633923683837%2C%200.0%5D%2C%20%5B-43.70671516149788%2C%20-18.3185487195083%2C%200.0%5D%2C%20%5B-43.70557949171109%2C%20-18.318098702107225%2C%200.0%5D%2C%20%5B-43.70509287962251%2C%20-18.317892173913133%2C%200.0%5D%2C%20%5B-43.70473205093206%2C%20-18.31760281658268%2C%200.0%5D%2C%20%5B-43.704584261136745%2C%20-18.317279041214125%2C%200.0%5D%2C%20%5B-43.704398835182076%2C%20-18.316966964786054%2C%200.0%5D%2C%20%5B-43.70423446155358%2C%20-18.316853476292984%2C%200.0%5D%2C%20%5B-43.704069785607395%2C%20-18.31678063100707%2C%200.0%5D%2C%20%5B-43.70389685273268%2C%20-18.316808147531706%2C%200.0%5D%2C%20%5B-43.70364062062984%2C%20-18.316928343397155%2C%200.0%5D%2C%20%5B-43.70345143993641%2C%20-18.317120721572927%2C%200.0%5D%2C%20%5B-43.7032611903417%2C%20-18.31745654654677%2C%200.0%5D%2C%20%5B-43.70323711231535%2C%20-18.31766439163609%2C%200.0%5D%2C%20%5B-43.703249887570216%2C%20-18.317965732406858%2C%200.0%5D%2C%20%5B-43.70338265611293%2C%20-18.31828940662308%2C%200.0%5D%2C%20%5B-43.70357603616031%2C%20-18.318541765397338%2C%200.0%5D%5D%5D%2C%20%5B%5B%5B-43.71427992924822%2C%20-18.319457900506013%2C%200.0%5D%2C%20%5B-43.7144491006838%2C%20-18.319730886997718%2C%200.0%5D%2C%20%5B-43.714446743680874%2C%20-18.319685045310628%2C%200.0%5D%2C%20%5B-43.71442173897157%2C%20-18.319198724617397%2C%200.0%5D%2C%20%5B-43.71426939859207%2C%20-18.31815717309063%2C%200.0%5D%2C%20%5B-43.714266843262244%2C%20-18.318139702211397%2C%200.0%5D%2C%20%5B-43.713979218294405%2C%20-18.316410329724437%2C%200.0%5D%2C%20%5B-43.71379387595211%2C%20-18.31523753340609%2C%200.0%5D%2C%20%5B-43.713759463377635%2C%20-18.314812914422745%2C%200.0%5D%2C%20%5B-43.7138187425554%2C%20-18.314412835913977%2C%200.0%5D%2C%20%5B-43.71401949071846%2C%20-18.313499664088358%2C%200.0%5D%2C%20%5B-43.71417357534465%2C%20-18.312986292611566%2C%200.0%5D%2C%20%5B-43.713076153766686%2C%20-18.312981259968918%2C%200.0%5D%2C%20%5B-43.71305022286665%2C%20-18.313099348225787%2C%200.0%5D%2C%20%5B-43.71299264475517%2C%20-18.31343846966513%2C%200.0%5D%2C%20%5B-43.712907525512186%2C%20-18.314116914964913%2C%200.0%5D%2C%20%5B-43.71285994629538%2C%20-18.31513512287135%2C%200.0%5D%2C%20%5B-43.71289303339455%2C%20-18.316077365457296%2C%200.0%5D%2C%20%5B-43.71303619019382%2C%20-18.317029913886728%2C%200.0%5D%2C%20%5B-43.713334440877%2C%20-18.317997853396264%2C%200.0%5D%2C%20%5B-43.713798790256874%2C%20-18.318847366487834%2C%200.0%5D%2C%20%5B-43.71427992924822%2C%20-18.319457900506013%2C%200.0%5D%5D%5D%2C%20%5B%5B%5B-43.6899677422728%2C%20-18.314210956973273%2C%200.0%5D%2C%20%5B-43.690152779092465%2C%20-18.31457086114352%2C%200.0%5D%2C%20%5B-43.69026748814546%2C%20-18.31429669533722%2C%200.0%5D%2C%20%5B-43.69038480407592%2C%20-18.31367586746486%2C%200.0%5D%2C%20%5B-43.69040127537555%2C%20-18.31314998342605%2C%200.0%5D%2C%20%5B-43.69036705506619%2C%20-18.31270743293093%2C%200.0%5D%2C%20%5B-43.69017085267968%2C%20-18.31216813519155%2C%200.0%5D%2C%20%5B-43.689861832496526%2C%20-18.31165197200276%2C%200.0%5D%2C%20%5B-43.689551194992305%2C%20-18.311350977885297%2C%200.0%5D%2C%20%5B-43.68942685033356%2C%20-18.311242533972727%2C%200.0%5D%2C%20%5B-43.6893363635249%2C%20-18.311624455989463%2C%200.0%5D%2C%20%5B-43.68933348458331%2C%20-18.31200697945934%2C%200.0%5D%2C%20%5B-43.68937886822902%2C%20-18.312628923793444%2C%200.0%5D%2C%20%5B-43.689611175915466%2C%20-18.3133597416842%2C%200.0%5D%2C%20%5B-43.6899677422728%2C%20-18.314210956973273%2C%200.0%5D%5D%5D%2C%20%5B%5B%5B-43.69147225689953%2C%20-18.303324610386678%2C%200.0%5D%2C%20%5B-43.69099147073095%2C%20-18.303350006232513%2C%200.0%5D%2C%20%5B-43.69009104799581%2C%20-18.303257759845803%2C%200.0%5D%2C%20%5B-43.68957114955212%2C%20-18.303158557162632%2C%200.0%5D%2C%20%5B-43.68880102717003%2C%20-18.30304807166562%2C%200.0%5D%2C%20%5B-43.68803155404278%2C%20-18.302851515306546%2C%200.0%5D%2C%20%5B-43.68719274839523%2C%20-18.302654409613496%2C%200.0%5D%2C%20%5B-43.68708633825881%2C%20-18.302615424549852%2C%200.0%5D%2C%20%5B-43.687071528425115%2C%20-18.30456878461114%2C%200.0%5D%2C%20%5B-43.68392187337081%2C%20-18.304568826567035%2C%200.0%5D%2C%20%5B-43.683921222731364%2C%20-18.30456882657032%2C%200.0%5D%2C%20%5B-43.681826977957535%2C%20-18.304568825696588%2C%200.0%5D%2C%20%5B-43.68180892295509%2C%20-18.30695761885399%2C%200.0%5D%2C%20%5B-43.68232097310316%2C%20-18.30690377173358%2C%200.0%5D%2C%20%5B-43.683703613055044%2C%20-18.3067842002425%2C%200.0%5D%2C%20%5B-43.685121330083206%2C%20-18.306660078391594%2C%200.0%5D%2C%20%5B-43.68591790179845%2C%20-18.306584271782256%2C%200.0%5D%2C%20%5B-43.68631345008711%2C%20-18.306577430004833%2C%200.0%5D%2C%20%5B-43.68657419615722%2C%20-18.30652184230608%2C%200.0%5D%2C%20%5B-43.687302949578466%2C%20-18.306302727103045%2C%200.0%5D%2C%20%5B-43.688312832455594%2C%20-18.305821924399464%2C%200.0%5D%2C%20%5B-43.68945992224843%2C%20-18.30506949549074%2C%200.0%5D%2C%20%5B-43.69041123038479%2C%20-18.304387443467927%2C%200.0%5D%2C%20%5B-43.6912887348588%2C%20-18.3035327357671%2C%200.0%5D%2C%20%5B-43.69147225689953%2C%20-18.303324610386678%2C%200.0%5D%5D%5D%2C%20%5B%5B%5B-43.69147225689953%2C%20-18.303324610386678%2C%200.0%5D%2C%20%5B-43.69222514167677%2C%20-18.303361137692413%2C%200.0%5D%2C%20%5B-43.69471165878114%2C%20-18.303249614404475%2C%200.0%5D%2C%20%5B-43.69466702496267%2C%20-18.303388180848074%2C%200.0%5D%2C%20%5B-43.69459507872783%2C%20-18.30363634279334%2C%200.0%5D%2C%20%5B-43.69457333523902%2C%20-18.303865720672455%2C%200.0%5D%2C%20%5B-43.69455652599066%2C%20-18.304104695875782%2C%200.0%5D%2C%20%5B-43.69455211915403%2C%20-18.30469282739689%2C%200.0%5D%2C%20%5B-43.69456573981587%2C%20-18.304879410782767%2C%200.0%5D%2C%20%5B-43.694599169527734%2C%20-18.30509482039501%2C%200.0%5D%2C%20%5B-43.694647581500966%2C%20-18.305315114222022%2C%200.0%5D%2C%20%5B-43.694774907606565%2C%20-18.305693746921296%2C%200.0%5D%2C%20%5B-43.694852711259564%2C%20-18.30600031404056%2C%200.0%5D%2C%20%5B-43.694920180679745%2C%20-18.306349846716174%2C%200.0%5D%2C%20%5B-43.69496333651034%2C%20-18.306603577163575%2C%200.0%5D%2C%20%5B-43.694995907198916%2C%20-18.306933744080524%2C%200.0%5D%2C%20%5B-43.69501846583855%2C%20-18.307263842559397%2C%200.0%5D%2C%20%5B-43.69501084478629%2C%20-18.30761286196456%2C%200.0%5D%2C%20%5B-43.69498158724113%2C%20-18.308176914511442%2C%200.0%5D%2C%20%5B-43.69494861301189%2C%20-18.30856879678493%2C%200.0%5D%2C%20%5B-43.69488073909445%2C%20-18.30894131325948%2C%200.0%5D%2C%20%5B-43.694777535313094%2C%20-18.309351842548004%2C%200.0%5D%2C%20%5B-43.69467313332592%2C%20-18.309732038964707%2C%200.0%5D%2C%20%5B-43.6945669698623%2C%20-18.310119834270317%2C%200.0%5D%2C%20%5B-43.69429041215381%2C%20-18.310898332534812%2C%200.0%5D%2C%20%5B-43.69411798512349%2C%20-18.31135979208969%2C%200.0%5D%2C%20%5B-43.69396816566132%2C%20-18.311810647045547%2C%200.0%5D%2C%20%5B-43.69386737104008%2C%20-18.3122331464852%2C%200.0%5D%2C%20%5B-43.6938196253272%2C%20-18.312591454570597%2C%200.0%5D%2C%20%5B-43.693774907723224%2C%20-18.313046614725504%2C%200.0%5D%2C%20%5B-43.69379841968449%2C%20-18.3134161694088%2C%200.0%5D%2C%20%5B-43.693833787564884%2C%20-18.313706905569415%2C%200.0%5D%2C%20%5B-43.69388085000461%2C%20-18.313940340188054%2C%200.0%5D%2C%20%5B-43.693864620729094%2C%20-18.314101614762382%2C%200.0%5D%2C%20%5B-43.6938131464334%2C%20-18.314456310888943%2C%200.0%5D%2C%20%5B-43.69377628716613%2C%20-18.31486490220051%2C%200.0%5D%2C%20%5B-43.69377762054994%2C%20-18.315187682540433%2C%200.0%5D%2C%20%5B-43.693808910982604%2C%20-18.315521426927894%2C%200.0%5D%2C%20%5B-43.69385505899958%2C%20-18.315876791064163%2C%200.0%5D%2C%20%5B-43.69395958817726%2C%20-18.316458494537127%2C%200.0%5D%2C%20%5B-43.69410587756195%2C%20-18.316979515819536%2C%200.0%5D%2C%20%5B-43.69428477715913%2C%20-18.31765855937283%2C%200.0%5D%2C%20%5B-43.694623681662875%2C%20-18.318532360051105%2C%200.0%5D%2C%20%5B-43.69505302756439%2C%20-18.31945276366918%2C%200.0%5D%2C%20%5B-43.69523550517%2C%20-18.319822209711862%2C%200.0%5D%2C%20%5B-43.69550731101171%2C%20-18.320297465810462%2C%200.0%5D%2C%20%5B-43.695700304904186%2C%20-18.320600038228907%2C%200.0%5D%2C%20%5B-43.69571482263171%2C%20-18.320667082607443%2C%200.0%5D%2C%20%5B-43.695495961563566%2C%20-18.321143766063408%2C%200.0%5D%2C%20%5B-43.69532133313612%2C%20-18.32173073291664%2C%200.0%5D%2C%20%5B-43.695160360636045%2C%20-18.322499501086785%2C%200.0%5D%2C%20%5B-43.69508711464888%2C%20-18.322919798042946%2C%200.0%5D%2C%20%5B-43.695048447825606%2C%20-18.323402494765148%2C%200.0%5D%2C%20%5B-43.69506587927804%2C%20-18.324416354220045%2C%200.0%5D%2C%20%5B-43.695168530078135%2C%20-18.32541645109674%2C%200.0%5D%2C%20%5B-43.69531706583149%2C%20-18.326306880474434%2C%200.0%5D%2C%20%5B-43.695423177518755%2C%20-18.326881811813827%2C%200.0%5D%2C%20%5B-43.69534372182234%2C%20-18.32746225619279%2C%200.0%5D%2C%20%5B-43.69530841107948%2C%20-18.328164938117055%2C%200.0%5D%2C%20%5B-43.69530807101883%2C%20-18.32855492011033%2C%200.0%5D%2C%20%5B-43.69530742270111%2C%20-18.32929821597097%2C%200.0%5D%2C%20%5B-43.695353000523006%2C%20-18.330230977011187%2C%200.0%5D%2C%20%5B-43.695404959004655%2C%20-18.331314408030334%2C%200.0%5D%2C%20%5B-43.69546362096455%2C%20-18.332505475086514%2C%200.0%5D%2C%20%5B-43.69553022375766%2C%20-18.333639214872154%2C%200.0%5D%2C%20%5B-43.695573542918716%2C%20-18.33487321285562%2C%200.0%5D%2C%20%5B-43.695581354734564%2C%20-18.33583440586136%2C%200.0%5D%2C%20%5B-43.695517075539264%2C%20-18.33639343537301%2C%200.0%5D%2C%20%5B-43.695431448443856%2C%20-18.336794519745474%2C%200.0%5D%2C%20%5B-43.695209988066836%2C%20-18.337280746723646%2C%200.0%5D%2C%20%5B-43.69499786694706%2C%20-18.3375231661423%2C%200.0%5D%2C%20%5B-43.6948185137581%2C%20-18.33770269001783%2C%200.0%5D%2C%20%5B-43.694603201732555%2C%20-18.33786977395182%2C%200.0%5D%2C%20%5B-43.694425818384545%2C%20-18.33798690859022%2C%200.0%5D%2C%20%5B-43.69425514873055%2C%20-18.338325015559626%2C%200.0%5D%2C%20%5B-43.69421706261814%2C%20-18.338400466248736%2C%200.0%5D%2C%20%5B-43.693958103216204%2C%20-18.33894525050813%2C%200.0%5D%2C%20%5B-43.693759705973484%2C%20-18.339359906544104%2C%200.0%5D%2C%20%5B-43.69351462786723%2C%20-18.3399894226678%2C%200.0%5D%2C%20%5B-43.69331590479751%2C%20-18.340447111887038%2C%200.0%5D%2C%20%5B-43.6931164257863%2C%20-18.34100521306895%2C%200.0%5D%2C%20%5B-43.692893065483545%2C%20-18.34174246700836%2C%200.0%5D%2C%20%5B-43.6927542614771%2C%20-18.34222208423019%2C%200.0%5D%2C%20%5B-43.69269182787937%2C%20-18.34253413695117%2C%200.0%5D%2C%20%5B-43.695576206403274%2C%20-18.342553982077494%2C%200.0%5D%2C%20%5B-43.69550806370139%2C%20-18.342459498020702%2C%200.0%5D%2C%20%5B-43.6953843669925%2C%20-18.34226140283671%2C%200.0%5D%2C%20%5B-43.695254994895485%2C%20-18.34198556472876%2C%200.0%5D%2C%20%5B-43.695107833722815%2C%20-18.341578105686363%2C%200.0%5D%2C%20%5B-43.69504324892053%2C%20-18.341009826582134%2C%200.0%5D%2C%20%5B-43.69505886205874%2C%20-18.340597504458636%2C%200.0%5D%2C%20%5B-43.6951186452844%2C%20-18.340137666788987%2C%200.0%5D%2C%20%5B-43.695196845509436%2C%20-18.339725772973114%2C%200.0%5D%2C%20%5B-43.69536298151712%2C%20-18.339272640229282%2C%200.0%5D%2C%20%5B-43.69570011954338%2C%20-18.33855170165919%2C%200.0%5D%2C%20%5B-43.69597895421577%2C%20-18.338093361888042%2C%200.0%5D%2C%20%5B-43.6964978573094%2C%20-18.33733780118444%2C%200.0%5D%2C%20%5B-43.69696570133986%2C%20-18.336713389073235%2C%200.0%5D%2C%20%5B-43.697067541409545%2C%20-18.33648694995567%2C%200.0%5D%2C%20%5B-43.69722673871562%2C%20-18.33612342616593%2C%200.0%5D%2C%20%5B-43.69732321488377%2C%20-18.33577740542919%2C%200.0%5D%2C%20%5B-43.69734427403625%2C%20-18.33547271009151%2C%200.0%5D%2C%20%5B-43.69733412966839%2C%20-18.335155847096242%2C%200.0%5D%2C%20%5B-43.69727423007182%2C%20-18.33479680351053%2C%200.0%5D%2C%20%5B-43.6971574663118%2C%20-18.33450909828741%2C%200.0%5D%2C%20%5B-43.696928631077974%2C%20-18.334142923111727%2C%200.0%5D%2C%20%5B-43.696656703638894%2C%20-18.33368081736402%2C%200.0%5D%2C%20%5B-43.69654092698414%2C%20-18.333261619314616%2C%200.0%5D%2C%20%5B-43.69647557720309%2C%20-18.332794947978673%2C%200.0%5D%2C%20%5B-43.69646556862139%2C%20-18.33246015415943%2C%200.0%5D%2C%20%5B-43.69649177935206%2C%20-18.331468111491542%2C%200.0%5D%2C%20%5B-43.69653609287374%2C%20-18.33056585103576%2C%200.0%5D%2C%20%5B-43.69661952325357%2C%20-18.32945465431546%2C%200.0%5D%2C%20%5B-43.69666267070909%2C%20-18.32870779391331%2C%200.0%5D%2C%20%5B-43.69666241223865%2C%20-18.327906841668657%2C%200.0%5D%2C%20%5B-43.69665280589353%2C%20-18.327518255255363%2C%200.0%5D%2C%20%5B-43.69660614225079%2C%20-18.32706366595852%2C%200.0%5D%2C%20%5B-43.69652729186055%2C%20-18.32672840157762%2C%200.0%5D%2C%20%5B-43.69639292331076%2C%20-18.326285167415833%2C%200.0%5D%2C%20%5B-43.6962338806345%2C%20-18.325793946606538%2C%200.0%5D%2C%20%5B-43.696112343376285%2C%20-18.325308959275848%2C%200.0%5D%2C%20%5B-43.6960715364887%2C%20-18.324908205078017%2C%200.0%5D%2C%20%5B-43.69605192276965%2C%20-18.324184824565414%2C%200.0%5D%2C%20%5B-43.696112948658914%2C%20-18.32355763103148%2C%200.0%5D%2C%20%5B-43.69629980849785%2C%20-18.32284163860057%2C%200.0%5D%2C%20%5B-43.69646029114986%2C%20-18.322304783014495%2C%200.0%5D%2C%20%5B-43.696866852646295%2C%20-18.321500631888778%2C%200.0%5D%2C%20%5B-43.69715244889194%2C%20-18.320970607133894%2C%200.0%5D%2C%20%5B-43.69737608893098%2C%20-18.320356477413025%2C%200.0%5D%2C%20%5B-43.69743603435392%2C%20-18.31987272947418%2C%200.0%5D%2C%20%5B-43.69741471450801%2C%20-18.319376472278716%2C%200.0%5D%2C%20%5B-43.69731928264682%2C%20-18.31874820968158%2C%200.0%5D%2C%20%5B-43.6973120891623%2C%20-18.31803686788571%2C%200.0%5D%2C%20%5B-43.697383610262655%2C%20-18.317678721083922%2C%200.0%5D%2C%20%5B-43.69754310002921%2C%20-18.31727335659654%2C%200.0%5D%2C%20%5B-43.69777164979496%2C%20-18.31683857689132%2C%200.0%5D%2C%20%5B-43.69810627009104%2C%20-18.316446361174048%2C%200.0%5D%2C%20%5B-43.698342823340994%2C%20-18.316196332315993%2C%200.0%5D%2C%20%5B-43.698443950788416%2C%20-18.31606313152034%2C%200.0%5D%2C%20%5B-43.69870688855932%2C%20-18.31571585283509%2C%200.0%5D%2C%20%5B-43.69886444271311%2C%20-18.31540132795976%2C%200.0%5D%2C%20%5B-43.69898308920132%2C%20-18.3149335199865%2C%200.0%5D%2C%20%5B-43.69901580649953%2C%20-18.314575107700193%2C%200.0%5D%2C%20%5B-43.69897407261067%2C%20-18.314130115457203%2C%200.0%5D%2C%20%5B-43.698867471888704%2C%20-18.31365599021551%2C%200.0%5D%2C%20%5B-43.698769347722404%2C%20-18.313387540291487%2C%200.0%5D%2C%20%5B-43.698561515380945%2C%20-18.313060960723522%2C%200.0%5D%2C%20%5B-43.69830816308325%2C%20-18.312796234008566%2C%200.0%5D%2C%20%5B-43.69796119488296%2C%20-18.312330032725388%2C%200.0%5D%2C%20%5B-43.69767945215959%2C%20-18.311845148671544%2C%200.0%5D%2C%20%5B-43.697553510675995%2C%20-18.3112800366554%2C%200.0%5D%2C%20%5B-43.697546645169766%2C%20-18.310859191111746%2C%200.0%5D%2C%20%5B-43.69762062908915%2C%20-18.310338479245722%2C%200.0%5D%2C%20%5B-43.6977442091241%2C%20-18.30988026906653%2C%200.0%5D%2C%20%5B-43.69801432452669%2C%20-18.30924134953703%2C%200.0%5D%2C%20%5B-43.69841988862694%2C%20-18.308565098463614%2C%200.0%5D%2C%20%5B-43.69879909740398%2C%20-18.308065593548477%2C%200.0%5D%2C%20%5B-43.699385374113604%2C%20-18.307323626159437%2C%200.0%5D%2C%20%5B-43.69998133669176%2C%20-18.306624758865077%2C%200.0%5D%2C%20%5B-43.70064862717904%2C%20-18.30575901140126%2C%200.0%5D%2C%20%5B-43.70096228145394%2C%20-18.305321218820918%2C%200.0%5D%2C%20%5B-43.70108953534593%2C%20-18.305039957585528%2C%200.0%5D%2C%20%5B-43.701174576403766%2C%20-18.30471298191036%2C%200.0%5D%2C%20%5B-43.701322540385725%2C%20-18.30400388910132%2C%200.0%5D%2C%20%5B-43.70159826194795%2C%20-18.30328131927637%2C%200.0%5D%2C%20%5B-43.70178887135457%2C%20-18.30289528820661%2C%200.0%5D%2C%20%5B-43.70224474912275%2C%20-18.302181114422595%2C%200.0%5D%2C%20%5B-43.70236649391765%2C%20-18.30196675998222%2C%200.0%5D%2C%20%5B-43.70284110249483%2C%20-18.301761975113504%2C%200.0%5D%2C%20%5B-43.70368492555075%2C%20-18.3013875499478%2C%200.0%5D%2C%20%5B-43.70418243111396%2C%20-18.301132707873187%2C%200.0%5D%2C%20%5B-43.704763385615976%2C%20-18.30076366668307%2C%200.0%5D%2C%20%5B-43.705420278558975%2C%20-18.300280374604466%2C%200.0%5D%2C%20%5B-43.70584354265691%2C%20-18.299910260929305%2C%200.0%5D%2C%20%5B-43.70613888915304%2C%20-18.299575143404333%2C%200.0%5D%2C%20%5B-43.706351318417504%2C%20-18.299282500192597%2C%200.0%5D%2C%20%5B-43.70656390664307%2C%20-18.298968339569438%2C%200.0%5D%2C%20%5B-43.70667083916788%2C%20-18.298725190654206%2C%200.0%5D%2C%20%5B-43.70676429726516%2C%20-18.298273941106753%2C%200.0%5D%2C%20%5B-43.70679707583528%2C%20-18.29803088774264%2C%200.0%5D%2C%20%5B-43.70679203813871%2C%20-18.29786647844459%2C%200.0%5D%2C%20%5B-43.70671209063978%2C%20-18.297677652874306%2C%200.0%5D%2C%20%5B-43.70661150930859%2C%20-18.29740056894558%2C%200.0%5D%2C%20%5B-43.706396151237534%2C%20-18.296739219024396%2C%200.0%5D%2C%20%5B-43.70619400826563%2C%20-18.296219779093867%2C%200.0%5D%2C%20%5B-43.7061573523029%2C%20-18.296099985242666%2C%200.0%5D%2C%20%5B-43.70613267840055%2C%20-18.29605199989424%2C%200.0%5D%2C%20%5B-43.70577277817162%2C%20-18.295643107026216%2C%200.0%5D%2C%20%5B-43.705129844519035%2C%20-18.294586749343924%2C%200.0%5D%2C%20%5B-43.70492988904628%2C%20-18.29403378467578%2C%200.0%5D%2C%20%5B-43.70465165181879%2C%20-18.293077924826644%2C%200.0%5D%2C%20%5B-43.70449940922428%2C%20-18.292345273726433%2C%200.0%5D%2C%20%5B-43.7043544096649%2C%20-18.29164853530919%2C%200.0%5D%2C%20%5B-43.70416793188902%2C%20-18.29047094228338%2C%200.0%5D%2C%20%5B-43.70398342843355%2C%20-18.28902797125397%2C%200.0%5D%2C%20%5B-43.70385020579027%2C%20-18.28775749347951%2C%200.0%5D%2C%20%5B-43.70380196579584%2C%20-18.28717617466112%2C%200.0%5D%2C%20%5B-43.7037264650894%2C%20-18.28622168860478%2C%200.0%5D%2C%20%5B-43.7037187958406%2C%20-18.285940226203856%2C%200.0%5D%2C%20%5B-43.70372576891475%2C%20-18.285579478072584%2C%200.0%5D%2C%20%5B-43.7036759957921%2C%20-18.28525729313037%2C%200.0%5D%2C%20%5B-43.70363958123859%2C%20-18.28502157855215%2C%200.0%5D%2C%20%5B-43.703611146518966%2C%20-18.28483751778254%2C%200.0%5D%2C%20%5B-43.70346989844894%2C%20-18.284310558959312%2C%200.0%5D%2C%20%5B-43.70338943954635%2C%20-18.28407690691896%2C%200.0%5D%2C%20%5B-43.703384817834426%2C%20-18.28406348548465%2C%200.0%5D%2C%20%5B-43.70331310173773%2C%20-18.283855221952486%2C%200.0%5D%2C%20%5B-43.70309127117677%2C%20-18.28339466178937%2C%200.0%5D%2C%20%5B-43.702888325499444%2C%20-18.283087247957745%2C%200.0%5D%2C%20%5B-43.70280079322992%2C%20-18.28298480189752%2C%200.0%5D%2C%20%5B-43.70277004624491%2C%20-18.282948816189784%2C%200.0%5D%2C%20%5B-43.70276278522878%2C%20-18.28294031802682%2C%200.0%5D%2C%20%5B-43.7026253159898%2C%20-18.282779426297473%2C%200.0%5D%2C%20%5B-43.70231690339437%2C%20-18.28251911434644%2C%200.0%5D%2C%20%5B-43.702002881548836%2C%20-18.28234005486113%2C%200.0%5D%2C%20%5B-43.70172347085426%2C%20-18.282218611840047%2C%200.0%5D%2C%20%5B-43.701221062288944%2C%20-18.2817943986441%2C%200.0%5D%2C%20%5B-43.70083420613602%2C%20-18.28131358769412%2C%200.0%5D%2C%20%5B-43.700633118556034%2C%20-18.280959163133318%2C%200.0%5D%2C%20%5B-43.70040721918912%2C%20-18.280374245285763%2C%200.0%5D%2C%20%5B-43.700321469244976%2C%20-18.279790280022354%2C%200.0%5D%2C%20%5B-43.70033582514168%2C%20-18.279206995247865%2C%200.0%5D%2C%20%5B-43.70043218794548%2C%20-18.278366049405363%2C%200.0%5D%2C%20%5B-43.70048076138535%2C%20-18.27775845038465%2C%200.0%5D%2C%20%5B-43.70046277023919%2C%20-18.27748576415056%2C%200.0%5D%2C%20%5B-43.70038925883201%2C%20-18.27727486426173%2C%200.0%5D%2C%20%5B-43.70025536455496%2C%20-18.277106590316112%2C%200.0%5D%2C%20%5B-43.699997816468155%2C%20-18.27696329746738%2C%200.0%5D%2C%20%5B-43.69973904220791%2C%20-18.276760701349072%2C%200.0%5D%2C%20%5B-43.69943278239863%2C%20-18.276213490693266%2C%200.0%5D%2C%20%5B-43.69933446063827%2C%20-18.27597373078462%2C%200.0%5D%2C%20%5B-43.69906101449543%2C%20-18.275053760655844%2C%200.0%5D%2C%20%5B-43.6988667973583%2C%20-18.27424909304625%2C%200.0%5D%2C%20%5B-43.69869587826054%2C%20-18.27367650222438%2C%200.0%5D%2C%20%5B-43.69860728371443%2C%20-18.273475062790297%2C%200.0%5D%2C%20%5B-43.69842881156839%2C%20-18.273244320708276%2C%200.0%5D%2C%20%5B-43.69833968264493%2C%20-18.27311460487403%2C%200.0%5D%2C%20%5B-43.69831892485684%2C%20-18.272877763366548%2C%200.0%5D%2C%20%5B-43.69839007696433%2C%20-18.272397674434252%2C%200.0%5D%2C%20%5B-43.69866006182368%2C%20-18.271431192416653%2C%200.0%5D%2C%20%5B-43.69870772710846%2C%20-18.27108005266036%2C%200.0%5D%2C%20%5B-43.69870251861032%2C%20-18.27077158955973%2C%200.0%5D%2C%20%5B-43.6985924721053%2C%20-18.270426549462755%2C%200.0%5D%2C%20%5B-43.698565275917545%2C%20-18.270046209378012%2C%200.0%5D%2C%20%5B-43.698597230770446%2C%20-18.269788208275674%2C%200.0%5D%2C%20%5B-43.69916520968237%2C%20-18.269132179975927%2C%200.0%5D%2C%20%5B-43.69932612602144%2C%20-18.26869573716574%2C%200.0%5D%2C%20%5B-43.69933502273096%2C%20-18.268509306435064%2C%200.0%5D%2C%20%5B-43.69927613876464%2C%20-18.268351105767845%2C%200.0%5D%2C%20%5B-43.69909734981748%2C%20-18.268163398718016%2C%200.0%5D%2C%20%5B-43.698895611405696%2C%20-18.26803291733419%2C%200.0%5D%2C%20%5B-43.69851401616281%2C%20-18.26785817570804%2C%200.0%5D%2C%20%5B-43.69804211895873%2C%20-18.267711509721277%2C%200.0%5D%2C%20%5B-43.697668407249665%2C%20-18.267486610989717%2C%200.0%5D%2C%20%5B-43.697474187061616%2C%20-18.26735498392844%2C%200.0%5D%2C%20%5B-43.6973882953284%2C%20-18.267127262433068%2C%200.0%5D%2C%20%5B-43.69732814182366%2C%20-18.266804079694925%2C%200.0%5D%2C%20%5B-43.69729506420537%2C%20-18.266206126425594%2C%200.0%5D%2C%20%5B-43.6973617274572%2C%20-18.26565667054028%2C%200.0%5D%2C%20%5B-43.69744500235805%2C%20-18.265117973035633%2C%200.0%5D%2C%20%5B-43.697105301318864%2C%20-18.265366705682418%2C%200.0%5D%2C%20%5B-43.6965685354634%2C%20-18.265865140856082%2C%200.0%5D%2C%20%5B-43.69604635273875%2C%20-18.266421055595195%2C%200.0%5D%2C%20%5B-43.69580381421559%2C%20-18.266727829764655%2C%200.0%5D%2C%20%5B-43.695561114074486%2C%20-18.267056120662804%2C%200.0%5D%2C%20%5B-43.69526441421859%2C%20-18.26757770662311%2C%200.0%5D%2C%20%5B-43.69483070252684%2C%20-18.268349402731%2C%200.0%5D%2C%20%5B-43.69455748576954%2C%20-18.268742038403005%2C%200.0%5D%2C%20%5B-43.69420179305079%2C%20-18.2691197651252%2C%200.0%5D%2C%20%5B-43.69401930709284%2C%20-18.269426946512617%2C%200.0%5D%2C%20%5B-43.69392680288909%2C%20-18.269749087578695%2C%200.0%5D%2C%20%5B-43.693887441029126%2C%20-18.269992691483097%2C%200.0%5D%2C%20%5B-43.69386861600197%2C%20-18.27050182645776%2C%200.0%5D%2C%20%5B-43.69391768053961%2C%20-18.27096838866228%2C%200.0%5D%2C%20%5B-43.69403146922358%2C%20-18.271815547245815%2C%200.0%5D%2C%20%5B-43.69419818756571%2C%20-18.27261285808224%2C%200.0%5D%2C%20%5B-43.69443874963109%2C%20-18.273575645596804%2C%200.0%5D%2C%20%5B-43.694671216241424%2C%20-18.274617277575782%2C%200.0%5D%2C%20%5B-43.69470537520279%2C%20-18.275069392376757%2C%200.0%5D%2C%20%5B-43.694704355971595%2C%20-18.275205667178437%2C%200.0%5D%2C%20%5B-43.69463576723539%2C%20-18.275341480732394%2C%200.0%5D%2C%20%5B-43.694499179615285%2C%20-18.27553421181299%2C%200.0%5D%2C%20%5B-43.694415306820474%2C%20-18.275705784534157%2C%200.0%5D%2C%20%5B-43.69441632413554%2C%20-18.276071600350775%2C%200.0%5D%2C%20%5B-43.69443648643393%2C%20-18.276387337815294%2C%200.0%5D%2C%20%5B-43.694456326812386%2C%20-18.27674610940857%2C%200.0%5D%2C%20%5B-43.69446905181013%2C%20-18.277052381877684%2C%200.0%5D%2C%20%5B-43.69448674790697%2C%20-18.277184783821557%2C%200.0%5D%2C%20%5B-43.69453824725238%2C%20-18.277326198979196%2C%200.0%5D%2C%20%5B-43.694654456699716%2C%20-18.277515874061763%2C%200.0%5D%2C%20%5B-43.69489810270377%2C%20-18.277732718967222%2C%200.0%5D%2C%20%5B-43.6950623987896%2C%20-18.277850994828192%2C%200.0%5D%2C%20%5B-43.69562820383495%2C%20-18.278160891840113%2C%200.0%5D%2C%20%5B-43.695927302685035%2C%20-18.27832551385895%2C%200.0%5D%2C%20%5B-43.69631578195614%2C%20-18.278586381251554%2C%200.0%5D%2C%20%5B-43.69646958711285%2C%20-18.278769138987457%2C%200.0%5D%2C%20%5B-43.69655835998896%2C%20-18.27894667144951%2C%200.0%5D%2C%20%5B-43.69663163506073%2C%20-18.279188652758126%2C%200.0%5D%2C%20%5B-43.69666518962113%2C%20-18.279387326915373%2C%200.0%5D%2C%20%5B-43.69668304978566%2C%20-18.279676748601254%2C%200.0%5D%2C%20%5B-43.69666816131414%2C%20-18.279994637928013%2C%200.0%5D%2C%20%5B-43.69661903940582%2C%20-18.280204702978608%2C%200.0%5D%2C%20%5B-43.69650903214059%2C%20-18.28052433466009%2C%200.0%5D%2C%20%5B-43.69637455168453%2C%20-18.280769681214533%2C%200.0%5D%2C%20%5B-43.69625322729856%2C%20-18.28092904468612%2C%200.0%5D%2C%20%5B-43.69603637282944%2C%20-18.281145138269075%2C%200.0%5D%2C%20%5B-43.695872520505006%2C%20-18.281301820465583%2C%200.0%5D%2C%20%5B-43.69577659724284%2C%20-18.281411147807056%2C%200.0%5D%2C%20%5B-43.69573315829863%2C%20-18.28153039681154%2C%200.0%5D%2C%20%5B-43.69576217147289%2C%20-18.28166687647445%2C%200.0%5D%2C%20%5B-43.69585861373525%2C%20-18.281822943411935%2C%200.0%5D%2C%20%5B-43.695893114928225%2C%20-18.28189490600054%2C%200.0%5D%2C%20%5B-43.695882603829524%2C%20-18.281961779699937%2C%200.0%5D%2C%20%5B-43.695837091072875%2C%20-18.282023632795404%2C%200.0%5D%2C%20%5B-43.695701142478626%2C%20-18.282130296091076%2C%200.0%5D%2C%20%5B-43.695450052854206%2C%20-18.282238564456193%2C%200.0%5D%2C%20%5B-43.695324257608064%2C%20-18.28232616949436%2C%200.0%5D%2C%20%5B-43.69525085749962%2C%20-18.282435650231143%2C%200.0%5D%2C%20%5B-43.695229852592846%2C%20-18.282567006730634%2C%200.0%5D%2C%20%5B-43.69527876175611%2C%20-18.282720358589895%2C%200.0%5D%2C%20%5B-43.695463253771464%2C%20-18.282927634207077%2C%200.0%5D%2C%20%5B-43.69584920362447%2C%20-18.283193267516857%2C%200.0%5D%2C%20%5B-43.69609187538134%2C%20-18.283374241051273%2C%200.0%5D%2C%20%5B-43.69625325478877%2C%20-18.283548682589824%2C%200.0%5D%2C%20%5B-43.69647639794334%2C%20-18.28383113604487%2C%200.0%5D%2C%20%5B-43.69666092944634%2C%20-18.284256780441698%2C%200.0%5D%2C%20%5B-43.69677033583289%2C%20-18.284687889754547%2C%200.0%5D%2C%20%5B-43.69677288600517%2C%20-18.28518402041108%2C%200.0%5D%2C%20%5B-43.696726632124545%2C%20-18.285512454766565%2C%200.0%5D%2C%20%5B-43.69661780986574%2C%20-18.28584046242103%2C%200.0%5D%2C%20%5B-43.69651569068591%2C%20-18.286108743024446%2C%200.0%5D%2C%20%5B-43.69635667886543%2C%20-18.28645433996112%2C%200.0%5D%2C%20%5B-43.69602122331237%2C%20-18.286966096391506%2C%200.0%5D%2C%20%5B-43.695749496639316%2C%20-18.287322878136987%2C%200.0%5D%2C%20%5B-43.69550364580843%2C%20-18.28756626802572%2C%200.0%5D%2C%20%5B-43.695345793086794%2C%20-18.28775646293596%2C%200.0%5D%2C%20%5B-43.69505243766629%2C%20-18.28816756932518%2C%200.0%5D%2C%20%5B-43.695035940955954%2C%20-18.28819068763285%2C%200.0%5D%2C%20%5B-43.69460608738044%2C%20-18.288773523597055%2C%200.0%5D%2C%20%5B-43.69433480548512%2C%20-18.289165434810652%2C%200.0%5D%2C%20%5B-43.693957431656166%2C%20-18.289742923716723%2C%200.0%5D%2C%20%5B-43.69377338430128%2C%20-18.29005025479407%2C%200.0%5D%2C%20%5B-43.69363230352003%2C%20-18.290339785157574%2C%200.0%5D%2C%20%5B-43.693555258400714%2C%20-18.290601062361528%2C%200.0%5D%2C%20%5B-43.69356852862014%2C%20-18.290834266179232%2C%200.0%5D%2C%20%5B-43.693660894941296%2C%20-18.291033581744784%2C%200.0%5D%2C%20%5B-43.69395130469516%2C%20-18.29135833892231%2C%200.0%5D%2C%20%5B-43.69401002887811%2C%20-18.29153805807544%2C%200.0%5D%2C%20%5B-43.69398508598704%2C%20-18.291860659574585%2C%200.0%5D%2C%20%5B-43.69387749634409%2C%20-18.292189868826995%2C%200.0%5D%2C%20%5B-43.69371594982624%2C%20-18.292705199549303%2C%200.0%5D%2C%20%5B-43.69358448995583%2C%20-18.293213563070964%2C%200.0%5D%2C%20%5B-43.6934603764716%2C%20-18.293743494795887%2C%200.0%5D%2C%20%5B-43.69335133295175%2C%20-18.294266356729867%2C%200.0%5D%2C%20%5B-43.69337117058694%2C%20-18.29462512777065%2C%200.0%5D%2C%20%5B-43.6933777114589%2C%20-18.29475428123466%2C%200.0%5D%2C%20%5B-43.69324807672384%2C%20-18.295018784738524%2C%200.0%5D%2C%20%5B-43.69296270489402%2C%20-18.295685089670346%2C%200.0%5D%2C%20%5B-43.69284938761855%2C%20-18.296109894857164%2C%200.0%5D%2C%20%5B-43.69281652034952%2C%20-18.296487432412903%2C%200.0%5D%2C%20%5B-43.693245037648055%2C%20-18.296257320414398%2C%200.0%5D%2C%20%5B-43.69357139664346%2C%20-18.29612805294501%2C%200.0%5D%2C%20%5B-43.69402012832824%2C%20-18.295951803449054%2C%200.0%5D%2C%20%5B-43.69446559628589%2C%20-18.29579346231278%2C%200.0%5D%2C%20%5B-43.69460986923433%2C%20-18.2957466301393%2C%200.0%5D%2C%20%5B-43.694723191958246%2C%20-18.29565475695248%2C%200.0%5D%2C%20%5B-43.69483099581437%2C%20-18.295464221224663%2C%200.0%5D%2C%20%5B-43.694945325060424%2C%20-18.295237866443426%2C%200.0%5D%2C%20%5B-43.69500275803752%2C%20-18.29508882729881%2C%200.0%5D%2C%20%5B-43.69511637093509%2C%20-18.294958103634567%2C%200.0%5D%2C%20%5B-43.69537108232659%2C%20-18.29478650266155%2C%200.0%5D%2C%20%5B-43.695585099531684%2C%20-18.2946176121073%2C%200.0%5D%2C%20%5B-43.69571167312495%2C%20-18.29442720392466%2C%200.0%5D%2C%20%5B-43.69586354317523%2C%20-18.29420110474932%2C%200.0%5D%2C%20%5B-43.696095928928806%2C%20-18.29366772596326%2C%200.0%5D%2C%20%5B-43.69639480023483%2C%20-18.292956917083547%2C%200.0%5D%2C%20%5B-43.69658329834801%2C%20-18.292518276507035%2C%200.0%5D%2C%20%5B-43.69673085682765%2C%20-18.29219890171383%2C%200.0%5D%2C%20%5B-43.69687251565112%2C%20-18.291999031817397%2C%200.0%5D%2C%20%5B-43.696978420065356%2C%20-18.291894554205847%2C%200.0%5D%2C%20%5B-43.69705386180868%2C%20-18.291847250545437%2C%200.0%5D%2C%20%5B-43.697149111629685%2C%20-18.291828772787692%2C%200.0%5D%2C%20%5B-43.69728876898352%2C%20-18.291896670367418%2C%200.0%5D%2C%20%5B-43.697358133278364%2C%20-18.29199277951388%2C%200.0%5D%2C%20%5B-43.69738727395494%2C%20-18.292112523483716%2C%200.0%5D%2C%20%5B-43.69742074154952%2C%20-18.29232315137863%2C%200.0%5D%2C%20%5B-43.697514348412554%2C%20-18.2925246256141%2C%200.0%5D%2C%20%5B-43.6976580834414%2C%20-18.292716877875968%2C%200.0%5D%2C%20%5B-43.69777718335937%2C%20-18.29285636220548%2C%200.0%5D%2C%20%5B-43.69792631743053%2C%20-18.292996051150173%2C%200.0%5D%2C%20%5B-43.69810534290453%2C%20-18.2931550709222%2C%200.0%5D%2C%20%5B-43.698453561976415%2C%20-18.293449133967048%2C%200.0%5D%2C%20%5B-43.69870216823866%2C%20-18.293675572605654%2C%200.0%5D%2C%20%5B-43.698866178065366%2C%20-18.293834489458973%2C%200.0%5D%2C%20%5B-43.699019998389005%2C%20-18.2940172458699%2C%200.0%5D%2C%20%5B-43.69908385919888%2C%20-18.294180262387137%2C%200.0%5D%2C%20%5B-43.699132595969246%2C%20-18.29435752134993%2C%200.0%5D%2C%20%5B-43.69914650696237%2C%20-18.29450585229618%2C%200.0%5D%2C%20%5B-43.699130419387096%2C%20-18.29464919716658%2C%200.0%5D%2C%20%5B-43.69912355818994%2C%20-18.294897804754306%2C%200.0%5D%2C%20%5B-43.699131464342514%2C%20-18.295179985583285%2C%200.0%5D%2C%20%5B-43.69913415065348%2C%20-18.295490821741584%2C%200.0%5D%2C%20%5B-43.699092427578556%2C%20-18.295715282848512%2C%200.0%5D%2C%20%5B-43.69892520378554%2C%20-18.295986707372812%2C%200.0%5D%2C%20%5B-43.698813649569146%2C%20-18.29617722009068%2C%200.0%5D%2C%20%5B-43.69880292417575%2C%20-18.296272783285342%2C%200.0%5D%2C%20%5B-43.69881544284112%2C%20-18.29660759541586%2C%200.0%5D%2C%20%5B-43.69885767491776%2C%20-18.29698564623386%2C%200.0%5D%2C%20%5B-43.69887498526499%2C%20-18.297349181855285%2C%200.0%5D%2C%20%5B-43.69885349860149%2C%20-18.297545089790344%2C%200.0%5D%2C%20%5B-43.69876725777505%2C%20-18.297697520319325%2C%200.0%5D%2C%20%5B-43.698625667352026%2C%20-18.297887828214726%2C%200.0%5D%2C%20%5B-43.69848951090089%2C%20-18.298020791276166%2C%200.0%5D%2C%20%5B-43.698207900044004%2C%20-18.298191017490876%2C%200.0%5D%2C%20%5B-43.697976239639516%2C%20-18.29837592917114%2C%200.0%5D%2C%20%5B-43.6978241717103%2C%20-18.298628328488338%2C%200.0%5D%2C%20%5B-43.69770635806911%2C%20-18.29898616100615%2C%200.0%5D%2C%20%5B-43.697628840769525%2C%20-18.299310795510152%2C%200.0%5D%2C%20%5B-43.697577245768606%2C%20-18.299516061493666%2C%200.0%5D%2C%20%5B-43.69749107424606%2C%20-18.2996589281544%2C%200.0%5D%2C%20%5B-43.697370183259416%2C%20-18.299758521707986%2C%200.0%5D%2C%20%5B-43.69712414572518%2C%20-18.29985726156117%2C%200.0%5D%2C%20%5B-43.69687871576133%2C%20-18.29987471449487%2C%200.0%5D%2C%20%5B-43.69642818873851%2C%20-18.29987164022379%2C%200.0%5D%2C%20%5B-43.696128230966856%2C%20-18.299816992933717%2C%200.0%5D%2C%20%5B-43.6958788686522%2C%20-18.299690963548052%2C%200.0%5D%2C%20%5B-43.69559593315138%2C%20-18.29936865053766%2C%200.0%5D%2C%20%5B-43.695508440782724%2C%20-18.299018981189874%2C%200.0%5D%2C%20%5B-43.695465500015%2C%20-18.298736561367978%2C%200.0%5D%2C%20%5B-43.69551788453113%2C%20-18.298426101719024%2C%200.0%5D%2C%20%5B-43.695515634449485%2C%20-18.298057887259656%2C%200.0%5D%2C%20%5B-43.695467688006445%2C%20-18.297775433240094%2C%200.0%5D%2C%20%5B-43.695294203341504%2C%20-18.29754472168519%2C%200.0%5D%2C%20%5B-43.6950552144036%2C%20-18.297370944200292%2C%200.0%5D%2C%20%5B-43.694695514402625%2C%20-18.29727285053502%2C%200.0%5D%2C%20%5B-43.69424556763989%2C%20-18.297193266576016%2C%200.0%5D%2C%20%5B-43.69366010717748%2C%20-18.29716057295542%2C%200.0%5D%2C%20%5B-43.693410033659966%2C%20-18.297130171834805%2C%200.0%5D%2C%20%5B-43.69294550103439%2C%20-18.296993103462327%2C%200.0%5D%2C%20%5B-43.69281178163381%2C%20-18.296935733863947%2C%200.0%5D%2C%20%5B-43.69302122783759%2C%20-18.29754187035208%2C%200.0%5D%2C%20%5B-43.693046966998146%2C%20-18.297616359104065%2C%200.0%5D%2C%20%5B-43.69339812153359%2C%20-18.2981906136646%2C%200.0%5D%2C%20%5B-43.69342281839293%2C%20-18.298231001093665%2C%200.0%5D%2C%20%5B-43.69403665857103%2C%20-18.299153305196537%2C%200.0%5D%2C%20%5B-43.69425254435217%2C%20-18.299738161202697%2C%200.0%5D%2C%20%5B-43.694269844940465%2C%20-18.300101696553835%2C%200.0%5D%2C%20%5B-43.69420640673315%2C%20-18.300550752381977%2C%200.0%5D%2C%20%5B-43.694053435577445%2C%20-18.30092268712634%2C%200.0%5D%2C%20%5B-43.69378025065306%2C%20-18.301303363171094%2C%200.0%5D%2C%20%5B-43.69336589532652%2C%20-18.301816963415614%2C%200.0%5D%2C%20%5B-43.6928920403935%2C%20-18.30225364657158%2C%200.0%5D%2C%20%5B-43.69198544780457%2C%20-18.30298383656209%2C%200.0%5D%2C%20%5B-43.69147225689953%2C%20-18.303324610386678%2C%200.0%5D%5D%5D%5D%2C%20%22type%22%3A%20%22MultiPolygon%22%7D%2C%20%22id%22%3A%20%224%22%2C%20%22properties%22%3A%20%7B%22Hexadec%22%3A%20%22%23cccccc%22%2C%20%22Id%22%3A%202%2C%20%22RGB%22%3A%20%22204%2C204%2C204%22%2C%20%22Unidades%22%3A%20%22Forma%5Cu00e7%5Cu00e3o%20Bar%5Cu00e3o%20do%20Guaicui%22%7D%2C%20%22type%22%3A%20%22Feature%22%7D%2C%20%7B%22bbox%22%3A%20%5B-43.73064226126136%2C%20-18.352988456512318%2C%20-43.68163850239636%2C%20-18.312986292611566%5D%2C%20%22geometry%22%3A%20%7B%22coordinates%22%3A%20%5B%5B%5B%5B-43.7241048539514%2C%20-18.347631981871785%2C%200.0%5D%2C%20%5B-43.72381253535465%2C%20-18.347888243195438%2C%200.0%5D%2C%20%5B-43.72348050875907%2C%20-18.348096419791112%2C%200.0%5D%2C%20%5B-43.72308804242403%2C%20-18.34835200904045%2C%200.0%5D%2C%20%5B-43.72275439745598%2C%20-18.348780137316588%2C%200.0%5D%2C%20%5B-43.72247082407195%2C%20-18.34920860058586%2C%200.0%5D%2C%20%5B-43.72240841587452%2C%20-18.349523782508026%2C%200.0%5D%2C%20%5B-43.72243670210299%2C%20-18.34976306329242%2C%200.0%5D%2C%20%5B-43.7225748688455%2C%20-18.350041335290737%2C%200.0%5D%2C%20%5B-43.72281318318076%2C%20-18.350320278474424%2C%200.0%5D%2C%20%5B-43.723321825853404%2C%20-18.350610596420434%2C%200.0%5D%2C%20%5B-43.72417993342347%2C%20-18.351046708015758%2C%200.0%5D%2C%20%5B-43.72478774586005%2C%20-18.351471577364478%2C%200.0%5D%2C%20%5B-43.725095678187984%2C%20-18.35181792942817%2C%200.0%5D%2C%20%5B-43.72522383590388%2C%20-18.352096132796877%2C%200.0%5D%2C%20%5B-43.725330350549854%2C%20-18.352594155293815%2C%200.0%5D%2C%20%5B-43.72540885573264%2C%20-18.352814644470456%2C%200.0%5D%2C%20%5B-43.72552791172131%2C%20-18.35296845931196%2C%200.0%5D%2C%20%5B-43.72565796487976%2C%20-18.352988456512318%2C%200.0%5D%2C%20%5B-43.725899163682385%2C%20-18.352875305766265%2C%200.0%5D%2C%20%5B-43.72683257980027%2C%20-18.35260419933526%2C%200.0%5D%2C%20%5B-43.72760456499087%2C%20-18.352494592389775%2C%200.0%5D%2C%20%5B-43.72838677425535%2C%20-18.352356359511884%2C%200.0%5D%2C%20%5B-43.72928846125658%2C%20-18.35231455683944%2C%200.0%5D%2C%20%5B-43.730049520668594%2C%20-18.3523291946163%2C%200.0%5D%2C%20%5B-43.73060218223261%2C%20-18.35238069884239%2C%200.0%5D%2C%20%5B-43.73064226126136%2C%20-18.347096051497807%2C%200.0%5D%2C%20%5B-43.73058317278498%2C%20-18.347166695279626%2C%200.0%5D%2C%20%5B-43.73048876229184%2C%20-18.347237793951763%2C%200.0%5D%2C%20%5B-43.729975739211525%2C%20-18.347546390619915%2C%200.0%5D%2C%20%5B-43.72959906499684%2C%20-18.347698094229134%2C%200.0%5D%2C%20%5B-43.729290670503026%2C%20-18.347757006576913%2C%200.0%5D%2C%20%5B-43.7290239532383%2C%20-18.347765987116713%2C%200.0%5D%2C%20%5B-43.72884403155293%2C%20-18.34771816423424%2C%200.0%5D%2C%20%5B-43.72866797038795%2C%20-18.347656021440937%2C%200.0%5D%2C%20%5B-43.728387753389995%2C%20-18.34745690131321%2C%200.0%5D%2C%20%5B-43.7281448444704%2C%20-18.347189171397325%2C%200.0%5D%2C%20%5B-43.72779492907893%2C%20-18.346763643743206%2C%200.0%5D%2C%20%5B-43.72761603278521%2C%20-18.346575958027177%2C%200.0%5D%2C%20%5B-43.72725703329303%2C%20-18.346365551277884%2C%200.0%5D%2C%20%5B-43.7270923717755%2C%20-18.34628555138295%2C%200.0%5D%2C%20%5B-43.726710262952395%2C%20-18.34615388953231%2C%200.0%5D%2C%20%5B-43.72626859349327%2C%20-18.34595010145171%2C%200.0%5D%2C%20%5B-43.72602966549065%2C%20-18.345754840420803%2C%200.0%5D%2C%20%5B-43.72588801091754%2C%20-18.345610438619016%2C%200.0%5D%2C%20%5B-43.7258294490124%2C%20-18.345402037525872%2C%200.0%5D%2C%20%5B-43.72584573259044%2C%20-18.345230000501548%2C%200.0%5D%2C%20%5B-43.725892269711%2C%20-18.34502947472866%2C%200.0%5D%2C%20%5B-43.725976360759894%2C%20-18.344829199956724%2C%200.0%5D%2C%20%5B-43.72609154615049%2C%20-18.344485678032562%2C%200.0%5D%2C%20%5B-43.7261309924634%2C%20-18.344227722797225%2C%200.0%5D%2C%20%5B-43.72613367321672%2C%20-18.343861930634677%2C%200.0%5D%2C%20%5B-43.72609139451693%2C%20-18.343481492496863%2C%200.0%5D%2C%20%5B-43.725952580314924%2C%20-18.342949781459865%2C%200.0%5D%2C%20%5B-43.72581192682738%2C%20-18.342669104189966%2C%200.0%5D%2C%20%5B-43.7256786267422%2C%20-18.34240999423125%2C%200.0%5D%2C%20%5B-43.725373948411956%2C%20-18.341963246939116%2C%200.0%5D%2C%20%5B-43.725017012565495%2C%20-18.341473113247275%2C%200.0%5D%2C%20%5B-43.72452515026889%2C%20-18.340946212551717%2C%200.0%5D%2C%20%5B-43.724115539236074%2C%20-18.340470070426285%2C%200.0%5D%2C%20%5B-43.72388539503405%2C%20-18.34010272006331%2C%200.0%5D%2C%20%5B-43.7235961148956%2C%20-18.33960586415656%2C%200.0%5D%2C%20%5B-43.72340410493641%2C%20-18.339159868422538%2C%200.0%5D%2C%20%5B-43.72327260152487%2C%20-18.338656895767706%2C%200.0%5D%2C%20%5B-43.723214623928484%2C%20-18.33836959775285%2C%200.0%5D%2C%20%5B-43.7231648943518%2C%20-18.33798193653898%2C%200.0%5D%2C%20%5B-43.723114638254195%2C%20-18.337665999227493%2C%200.0%5D%2C%20%5B-43.72303439305857%2C%20-18.337342688314394%2C%200.0%5D%2C%20%5B-43.72284544832987%2C%20-18.336991153793807%2C%200.0%5D%2C%20%5B-43.722597294909%2C%20-18.336690627127894%2C%200.0%5D%2C%20%5B-43.722312029306174%2C%20-18.336330078636337%2C%200.0%5D%2C%20%5B-43.72201407180899%2C%20-18.335993353849606%2C%200.0%5D%2C%20%5B-43.72156709345754%2C%20-18.335489990856388%2C%200.0%5D%2C%20%5B-43.716625972380285%2C%20-18.335446400452%2C%200.0%5D%2C%20%5B-43.71675847592014%2C%20-18.335870390460055%2C%200.0%5D%2C%20%5B-43.716981141985116%2C%20-18.33623052540655%2C%200.0%5D%2C%20%5B-43.71740205915779%2C%20-18.33686694852687%2C%200.0%5D%2C%20%5B-43.718072447051505%2C%20-18.337624593850013%2C%200.0%5D%2C%20%5B-43.719178664416035%2C%20-18.338695983930922%2C%200.0%5D%2C%20%5B-43.720311162433305%2C%20-18.33960018077329%2C%200.0%5D%2C%20%5B-43.721543737061424%2C%20-18.34045164554284%2C%200.0%5D%2C%20%5B-43.72250997946232%2C%20-18.341156269586882%2C%200.0%5D%2C%20%5B-43.72298785068008%2C%20-18.341542017537147%2C%200.0%5D%2C%20%5B-43.72355430736452%2C%20-18.342138758019914%2C%200.0%5D%2C%20%5B-43.724010751167306%2C%20-18.34271563330023%2C%200.0%5D%2C%20%5B-43.7242977967184%2C%20-18.343176610099928%2C%200.0%5D%2C%20%5B-43.72466285351383%2C%20-18.343925018238185%2C%200.0%5D%2C%20%5B-43.72484849597223%2C%20-18.344557461686392%2C%200.0%5D%2C%20%5B-43.72489393761491%2C%20-18.345188967094572%2C%200.0%5D%2C%20%5B-43.72488979822607%2C%20-18.345753195170754%2C%200.0%5D%2C%20%5B-43.72481667988663%2C%20-18.346163943205852%2C%200.0%5D%2C%20%5B-43.724662673124314%2C%20-18.346679350125505%2C%200.0%5D%2C%20%5B-43.72439801401732%2C%20-18.3472609618317%2C%200.0%5D%2C%20%5B-43.7241048539514%2C%20-18.347631981871785%2C%200.0%5D%5D%5D%2C%20%5B%5B%5B-43.68164363645782%2C%20-18.328809027817893%2C%200.0%5D%2C%20%5B-43.68163850239636%2C%20-18.32948727545823%2C%200.0%5D%2C%20%5B-43.68208071007254%2C%20-18.32922852964381%2C%200.0%5D%2C%20%5B-43.6824651055005%2C%20-18.329048282490778%2C%200.0%5D%2C%20%5B-43.682954558622505%2C%20-18.328879518938802%2C%200.0%5D%2C%20%5B-43.683319498985064%2C%20-18.32878879387371%2C%200.0%5D%2C%20%5B-43.68369897059453%2C%20-18.328762722311932%2C%200.0%5D%2C%20%5B-43.68417620763526%2C%20-18.32871939278392%2C%200.0%5D%2C%20%5B-43.68505628608265%2C%20-18.328538972621967%2C%200.0%5D%2C%20%5B-43.68548543908769%2C%20-18.328398477301317%2C%200.0%5D%2C%20%5B-43.68586593914444%2C%20-18.328236127792923%2C%200.0%5D%2C%20%5B-43.68623182479104%2C%20-18.328019881825462%2C%200.0%5D%2C%20%5B-43.6865229348602%2C%20-18.327760084218678%2C%200.0%5D%2C%20%5B-43.686675245427416%2C%20-18.327481398871456%2C%200.0%5D%2C%20%5B-43.68678598018637%2C%20-18.327238290499125%2C%200.0%5D%2C%20%5B-43.68681737323109%2C%20-18.327059189889802%2C%200.0%5D%2C%20%5B-43.68682623644284%2C%20-18.32687993417666%2C%200.0%5D%2C%20%5B-43.68682053991269%2C%20-18.32663961054302%2C%200.0%5D%2C%20%5B-43.68679568971445%2C%20-18.326449363739147%2C%200.0%5D%2C%20%5B-43.686667054462056%2C%20-18.32607908571536%2C%200.0%5D%2C%20%5B-43.68659709108217%2C%20-18.325895700975003%2C%200.0%5D%2C%20%5B-43.68642698993527%2C%20-18.32554665533985%2C%200.0%5D%2C%20%5B-43.686275339152544%2C%20-18.325240772648314%2C%200.0%5D%2C%20%5B-43.686194084638785%2C%20-18.325060896368065%2C%200.0%5D%2C%20%5B-43.68617660968844%2C%20-18.324888631967575%2C%200.0%5D%2C%20%5B-43.68619279358977%2C%20-18.324734531033048%2C%200.0%5D%2C%20%5B-43.68625052511351%2C%20-18.3245484391895%2C%200.0%5D%2C%20%5B-43.686304582813925%2C%20-18.32435156301619%2C%200.0%5D%2C%20%5B-43.68631674090075%2C%20-18.32423329768224%2C%200.0%5D%2C%20%5B-43.68629518609211%2C%20-18.324104041203253%2C%200.0%5D%2C%20%5B-43.68624783434962%2C%20-18.323910053056938%2C%200.0%5D%2C%20%5B-43.686174036024084%2C%20-18.323737400793405%2C%200.0%5D%2C%20%5B-43.68604070117799%2C%20-18.32349261179355%2C%200.0%5D%2C%20%5B-43.6858658192985%2C%20-18.323279813566625%2C%200.0%5D%2C%20%5B-43.68561592158812%2C%20-18.32305573942456%2C%200.0%5D%2C%20%5B-43.68530200210525%2C%20-18.32285632818899%2C%200.0%5D%2C%20%5B-43.685122581169814%2C%20-18.3227475017658%2C%200.0%5D%2C%20%5B-43.68480444727077%2C%20-18.322609028398542%2C%200.0%5D%2C%20%5B-43.684400060548626%2C%20-18.3224556144827%2C%200.0%5D%2C%20%5B-43.6839244950304%2C%20-18.322280190797525%2C%200.0%5D%2C%20%5B-43.683493636108615%2C%20-18.32215169677164%2C%200.0%5D%2C%20%5B-43.682961315555644%2C%20-18.322033260479763%2C%200.0%5D%2C%20%5B-43.6825076575555%2C%20-18.32194047023702%2C%200.0%5D%2C%20%5B-43.682020287989126%2C%20-18.321836687090034%2C%200.0%5D%2C%20%5B-43.68169668953602%2C%20-18.32179858827137%2C%200.0%5D%2C%20%5B-43.681693301796095%2C%20-18.322246339144005%2C%200.0%5D%2C%20%5B-43.682306598214794%2C%20-18.32232947508925%2C%200.0%5D%2C%20%5B-43.68307134037062%2C%20-18.32249972622937%2C%200.0%5D%2C%20%5B-43.68367073459698%2C%20-18.322686765367163%2C%200.0%5D%2C%20%5B-43.68419346151386%2C%20-18.322915562818118%2C%200.0%5D%2C%20%5B-43.68459185772742%2C%20-18.32319923935827%2C%200.0%5D%2C%20%5B-43.684890215382026%2C%20-18.323470271150608%2C%200.0%5D%2C%20%5B-43.6850322557497%2C%20-18.32372229353201%2C%200.0%5D%2C%20%5B-43.68524754299428%2C%20-18.324219886739275%2C%200.0%5D%2C%20%5B-43.685653629862735%2C%20-18.32514317717602%2C%200.0%5D%2C%20%5B-43.685893772732285%2C%20-18.325664849920205%2C%200.0%5D%2C%20%5B-43.68608321918222%2C%20-18.326269854372754%2C%200.0%5D%2C%20%5B-43.68616785593939%2C%20-18.32666493403411%2C%200.0%5D%2C%20%5B-43.68614056628547%2C%20-18.326963607231136%2C%200.0%5D%2C%20%5B-43.68609432112862%2C%20-18.327286058738753%2C%200.0%5D%2C%20%5B-43.685960820831816%2C%20-18.327560091385163%2C%200.0%5D%2C%20%5B-43.68579008633866%2C%20-18.32779202682811%2C%200.0%5D%2C%20%5B-43.68550697286258%2C%20-18.3279873243689%2C%200.0%5D%2C%20%5B-43.68499212066626%2C%20-18.328204932877366%2C%200.0%5D%2C%20%5B-43.68461589916545%2C%20-18.328297974362314%2C%200.0%5D%2C%20%5B-43.684083400312176%2C%20-18.32836602815063%2C%200.0%5D%2C%20%5B-43.68372939715155%2C%20-18.328384446887828%2C%200.0%5D%2C%20%5B-43.68357625097062%2C%20-18.328392414857575%2C%200.0%5D%2C%20%5B-43.683112909748395%2C%20-18.328419102657058%2C%200.0%5D%2C%20%5B-43.6826742396586%2C%20-18.3284937774296%2C%200.0%5D%2C%20%5B-43.68218537064944%2C%20-18.32864062789719%2C%200.0%5D%2C%20%5B-43.68164363645782%2C%20-18.328809027817893%2C%200.0%5D%5D%5D%2C%20%5B%5B%5B-43.708746536234926%2C%20-18.320305218247615%2C%200.0%5D%2C%20%5B-43.70868952175511%2C%20-18.320398077842462%2C%200.0%5D%2C%20%5B-43.70869625991856%2C%20-18.32050212793883%2C%200.0%5D%2C%20%5B-43.70876291617162%2C%20-18.320628101674238%2C%200.0%5D%2C%20%5B-43.708919556156985%2C%20-18.32077261606122%2C%200.0%5D%2C%20%5B-43.70910256024284%2C%20-18.32090654960498%2C%200.0%5D%2C%20%5B-43.70942390969807%2C%20-18.32112031872013%2C%200.0%5D%2C%20%5B-43.70973071899402%2C%20-18.32126943448055%2C%200.0%5D%2C%20%5B-43.710516665182624%2C%20-18.321622624721343%2C%200.0%5D%2C%20%5B-43.71099601519093%2C%20-18.32179800904909%2C%200.0%5D%2C%20%5B-43.71130311924958%2C%20-18.321907674391987%2C%200.0%5D%2C%20%5B-43.712180595801044%2C%20-18.322071398904686%2C%200.0%5D%2C%20%5B-43.712735683522126%2C%20-18.32216121740335%2C%200.0%5D%2C%20%5B-43.71318621808543%2C%20-18.322171429154523%2C%200.0%5D%2C%20%5B-43.71354753647914%2C%20-18.322059101867982%2C%200.0%5D%2C%20%5B-43.71374379816518%2C%20-18.321924143059533%2C%200.0%5D%2C%20%5B-43.71384280342783%2C%20-18.32173831934334%2C%200.0%5D%2C%20%5B-43.713829426932904%2C%20-18.32151587439707%2C%200.0%5D%2C%20%5B-43.71378553439521%2C%20-18.32135777836249%2C%200.0%5D%2C%20%5B-43.71367426617107%2C%20-18.321170537191527%2C%200.0%5D%2C%20%5B-43.713413439502645%2C%20-18.32089621479622%2C%200.0%5D%2C%20%5B-43.71300241910998%2C%20-18.320620879136037%2C%200.0%5D%2C%20%5B-43.712508368779424%2C%20-18.320402364317772%2C%200.0%5D%2C%20%5B-43.71207386670046%2C%20-18.320255977525047%2C%200.0%5D%2C%20%5B-43.71150778637354%2C%20-18.320130219558028%2C%200.0%5D%2C%20%5B-43.71102013386091%2C%20-18.320062371575254%2C%200.0%5D%2C%20%5B-43.71014168551641%2C%20-18.320031331201406%2C%200.0%5D%2C%20%5B-43.709668388821584%2C%20-18.320053235924142%2C%200.0%5D%2C%20%5B-43.7092511488491%2C%20-18.32011138227731%2C%200.0%5D%2C%20%5B-43.708863495221166%2C%20-18.320230696050256%2C%200.0%5D%2C%20%5B-43.708746536234926%2C%20-18.320305218247615%2C%200.0%5D%5D%2C%20%5B%5B-43.71308769967993%2C%20-18.321783437125877%2C%200.0%5D%2C%20%5B-43.712993535763545%2C%20-18.32182225203743%2C%200.0%5D%2C%20%5B-43.71280211598362%2C%20-18.321810201700664%2C%200.0%5D%2C%20%5B-43.71229949159696%2C%20-18.321735082980663%2C%200.0%5D%2C%20%5B-43.711804908353265%2C%20-18.32158828994462%2C%200.0%5D%2C%20%5B-43.71104058561401%2C%20-18.32135718733622%2C%200.0%5D%2C%20%5B-43.70994325118744%2C%20-18.32096603063696%2C%200.0%5D%2C%20%5B-43.70970749216396%2C%20-18.32085684568133%2C%200.0%5D%2C%20%5B-43.70952059982061%2C%20-18.320740818212844%2C%200.0%5D%2C%20%5B-43.709386063019494%2C%20-18.32065383559531%2C%200.0%5D%2C%20%5B-43.709315305736396%2C%20-18.320574457028197%2C%200.0%5D%2C%20%5B-43.70929711648963%2C%20-18.320495434017367%2C%200.0%5D%2C%20%5B-43.70941423493655%2C%20-18.320399394379223%2C%200.0%5D%2C%20%5B-43.7095647747035%2C%20-18.32035378976078%2C%200.0%5D%2C%20%5B-43.70973755109423%2C%20-18.320347785372512%2C%200.0%5D%2C%20%5B-43.709966517383776%2C%20-18.32036009252361%2C%200.0%5D%2C%20%5B-43.710292844208844%2C%20-18.32040892110345%2C%200.0%5D%2C%20%5B-43.71096736371101%2C%20-18.320596383442506%2C%200.0%5D%2C%20%5B-43.71172782202174%2C%20-18.320841805543058%2C%200.0%5D%2C%20%5B-43.712135855350944%2C%20-18.321013119096396%2C%200.0%5D%2C%20%5B-43.712491347811245%2C%20-18.321180490938865%2C%200.0%5D%2C%20%5B-43.71276426017839%2C%20-18.321343718708636%2C%200.0%5D%2C%20%5B-43.712992114483164%2C%20-18.321506642202497%2C%200.0%5D%2C%20%5B-43.71311496498575%2C%20-18.32165092545346%2C%200.0%5D%2C%20%5B-43.71312559327001%2C%20-18.321737069932855%2C%200.0%5D%2C%20%5B-43.71308769967993%2C%20-18.321783437125877%2C%200.0%5D%5D%5D%2C%20%5B%5B%5B-43.71376040308322%2C%20-18.32738911622974%2C%200.0%5D%2C%20%5B-43.71431567227006%2C%20-18.328086227409063%2C%200.0%5D%2C%20%5B-43.71431934220335%2C%20-18.327602076468988%2C%200.0%5D%2C%20%5B-43.71432177450005%2C%20-18.32728119091789%2C%200.0%5D%2C%20%5B-43.714064640813994%2C%20-18.326992546896%2C%200.0%5D%2C%20%5B-43.713528375052064%2C%20-18.326386421755018%2C%200.0%5D%2C%20%5B-43.713230875547495%2C%20-18.325992306016953%2C%200.0%5D%2C%20%5B-43.71288444288257%2C%20-18.325444841496775%2C%200.0%5D%2C%20%5B-43.71273679099256%2C%20-18.325099554233333%2C%200.0%5D%2C%20%5B-43.71266899768248%2C%20-18.324788278495127%2C%200.0%5D%2C%20%5B-43.712665582859486%2C%20-18.324573073552127%2C%200.0%5D%2C%20%5B-43.71270218538691%2C%20-18.324362920442866%2C%200.0%5D%2C%20%5B-43.71274798747893%2C%20-18.324262811256403%2C%200.0%5D%2C%20%5B-43.71284396147643%2C%20-18.3241486950901%2C%200.0%5D%2C%20%5B-43.71299021334853%2C%20-18.32400622711336%2C%200.0%5D%2C%20%5B-43.71317616403367%2C%20-18.323911844984433%2C%200.0%5D%2C%20%5B-43.713336763465726%2C%20-18.32386032809%2C%200.0%5D%2C%20%5B-43.71350236938802%2C%20-18.323808844813836%2C%200.0%5D%2C%20%5B-43.71363800645325%2C%20-18.323747595687173%2C%200.0%5D%2C%20%5B-43.713849554821564%2C%20-18.323576876292435%2C%200.0%5D%2C%20%5B-43.71414670902851%2C%20-18.323339788079853%2C%200.0%5D%2C%20%5B-43.71478304486206%2C%20-18.32259811106502%2C%200.0%5D%2C%20%5B-43.714934971209985%2C%20-18.322364824971846%2C%200.0%5D%2C%20%5B-43.71502142388857%2C%20-18.32218369787802%2C%200.0%5D%2C%20%5B-43.7152300096757%2C%20-18.32173561093073%2C%200.0%5D%2C%20%5B-43.715332434159485%2C%20-18.321425481901997%2C%200.0%5D%2C%20%5B-43.715374462582034%2C%20-18.321157982621312%2C%200.0%5D%2C%20%5B-43.71539269304708%2C%20-18.32099291802443%2C%200.0%5D%2C%20%5B-43.7154066543028%2C%20-18.32086650796549%2C%200.0%5D%2C%20%5B-43.71541466037367%2C%20-18.320460106646024%2C%200.0%5D%2C%20%5B-43.7153962577268%2C%20-18.32024001875379%2C%200.0%5D%2C%20%5B-43.71532863734874%2C%20-18.31990483568584%2C%200.0%5D%2C%20%5B-43.71526563544733%2C%20-18.31962228378087%2C%200.0%5D%2C%20%5B-43.715152604494435%2C%20-18.31933461319406%2C%200.0%5D%2C%20%5B-43.71507860187662%2C%20-18.319185878308147%2C%200.0%5D%2C%20%5B-43.71500142837108%2C%20-18.318788467079397%2C%200.0%5D%2C%20%5B-43.71489601683191%2C%20-18.3181469925212%2C%200.0%5D%2C%20%5B-43.71479600060659%2C%20-18.317452954146933%2C%200.0%5D%2C%20%5B-43.71475313165506%2C%20-18.317156192197512%2C%200.0%5D%2C%20%5B-43.71468798438231%2C%20-18.316486297705925%2C%200.0%5D%2C%20%5B-43.71461959612237%2C%20-18.315577289986063%2C%200.0%5D%2C%20%5B-43.714619708245266%2C%20-18.314883925758846%2C%200.0%5D%2C%20%5B-43.71464499288185%2C%20-18.31417160368553%2C%200.0%5D%2C%20%5B-43.71470940973413%2C%20-18.31358387258447%2C%200.0%5D%2C%20%5B-43.71479726929444%2C%20-18.31321148153428%2C%200.0%5D%2C%20%5B-43.71488404589972%2C%20-18.312989547379072%2C%200.0%5D%2C%20%5B-43.71417357534465%2C%20-18.312986292611566%2C%200.0%5D%2C%20%5B-43.71401949071846%2C%20-18.313499664088358%2C%200.0%5D%2C%20%5B-43.7138187425554%2C%20-18.314412835913977%2C%200.0%5D%2C%20%5B-43.713759463377635%2C%20-18.314812914422745%2C%200.0%5D%2C%20%5B-43.71379387595211%2C%20-18.31523753340609%2C%200.0%5D%2C%20%5B-43.713979218294405%2C%20-18.316410329724437%2C%200.0%5D%2C%20%5B-43.714266843262244%2C%20-18.318139702211397%2C%200.0%5D%2C%20%5B-43.71442173897157%2C%20-18.319198724617397%2C%200.0%5D%2C%20%5B-43.7144491006838%2C%20-18.319730886997718%2C%200.0%5D%2C%20%5B-43.714630443163415%2C%20-18.320598814383764%2C%200.0%5D%2C%20%5B-43.71468896367438%2C%20-18.321149118437717%2C%200.0%5D%2C%20%5B-43.71466026761639%2C%20-18.3216450394412%2C%200.0%5D%2C%20%5B-43.71453814028771%2C%20-18.32208055817452%2C%200.0%5D%2C%20%5B-43.7143475255513%2C%20-18.32246779707135%2C%200.0%5D%2C%20%5B-43.71405091818657%2C%20-18.322800525860774%2C%200.0%5D%2C%20%5B-43.713730116217135%2C%20-18.323019522723875%2C%200.0%5D%2C%20%5B-43.71310830107723%2C%20-18.32332017079703%2C%200.0%5D%2C%20%5B-43.71265034697172%2C%20-18.323466513261934%2C%200.0%5D%2C%20%5B-43.712273881590185%2C%20-18.32359547277666%2C%200.0%5D%2C%20%5B-43.71203456559383%2C%20-18.323797084713263%2C%200.0%5D%2C%20%5B-43.71190141765729%2C%20-18.324029299507522%2C%200.0%5D%2C%20%5B-43.711849537901806%2C%20-18.324274017459324%2C%200.0%5D%2C%20%5B-43.71191506037758%2C%20-18.3247227553743%2C%200.0%5D%2C%20%5B-43.71211782262501%2C%20-18.325232192520513%2C%200.0%5D%2C%20%5B-43.71265605726086%2C%20-18.326078620943147%2C%200.0%5D%2C%20%5B-43.71376040308322%2C%20-18.32738911622974%2C%200.0%5D%5D%5D%5D%2C%20%22type%22%3A%20%22MultiPolygon%22%7D%2C%20%22id%22%3A%20%225%22%2C%20%22properties%22%3A%20%7B%22Hexadec%22%3A%20%22%230000ff%22%2C%20%22Id%22%3A%205%2C%20%22RGB%22%3A%20%22000%2C000%2C255%22%2C%20%22Unidades%22%3A%20%22Forma%5Cu00e7%5Cu00e3o%20Sopa%20Brumadinho%20-%20N%5Cu00edvel%20D%22%7D%2C%20%22type%22%3A%20%22Feature%22%7D%2C%20%7B%22bbox%22%3A%20%5B-43.71619322301478%2C%20-18.303350006232513%2C%20-43.68719274839523%2C%20-18.258720663092564%5D%2C%20%22geometry%22%3A%20%7B%22coordinates%22%3A%20%5B%5B%5B%5B-43.69009104799581%2C%20-18.303257759845803%2C%200.0%5D%2C%20%5B-43.69099147073095%2C%20-18.303350006232513%2C%200.0%5D%2C%20%5B-43.69147225689953%2C%20-18.303324610386678%2C%200.0%5D%2C%20%5B-43.69198544780457%2C%20-18.30298383656209%2C%200.0%5D%2C%20%5B-43.6928920403935%2C%20-18.30225364657158%2C%200.0%5D%2C%20%5B-43.69336589532652%2C%20-18.301816963415614%2C%200.0%5D%2C%20%5B-43.69378025065306%2C%20-18.301303363171094%2C%200.0%5D%2C%20%5B-43.694053435577445%2C%20-18.30092268712634%2C%200.0%5D%2C%20%5B-43.69420640673315%2C%20-18.300550752381977%2C%200.0%5D%2C%20%5B-43.694269844940465%2C%20-18.300101696553835%2C%200.0%5D%2C%20%5B-43.69425254435217%2C%20-18.299738161202697%2C%200.0%5D%2C%20%5B-43.69403665857103%2C%20-18.299153305196537%2C%200.0%5D%2C%20%5B-43.69342281839293%2C%20-18.298231001093665%2C%200.0%5D%2C%20%5B-43.69339812153357%2C%20-18.2981906136646%2C%200.0%5D%2C%20%5B-43.693046966998146%2C%20-18.297616359104065%2C%200.0%5D%2C%20%5B-43.69302122783759%2C%20-18.29754187035208%2C%200.0%5D%2C%20%5B-43.69281178163381%2C%20-18.296935733863947%2C%200.0%5D%2C%20%5B-43.69266372978886%2C%20-18.296835458449305%2C%200.0%5D%2C%20%5B-43.69263945414087%2C%20-18.29673487445783%2C%200.0%5D%2C%20%5B-43.69267546275352%2C%20-18.29660601221281%2C%200.0%5D%2C%20%5B-43.69281652034952%2C%20-18.296487432412903%2C%200.0%5D%2C%20%5B-43.69284938761855%2C%20-18.296109894857164%2C%200.0%5D%2C%20%5B-43.69296270489402%2C%20-18.295685089670346%2C%200.0%5D%2C%20%5B-43.69324807672384%2C%20-18.295018784738524%2C%200.0%5D%2C%20%5B-43.6933777114589%2C%20-18.29475428123466%2C%200.0%5D%2C%20%5B-43.69337117058694%2C%20-18.29462512777065%2C%200.0%5D%2C%20%5B-43.69335133295175%2C%20-18.294266356729867%2C%200.0%5D%2C%20%5B-43.6934603764716%2C%20-18.293743494795887%2C%200.0%5D%2C%20%5B-43.69358448995583%2C%20-18.293213563070964%2C%200.0%5D%2C%20%5B-43.69371594982624%2C%20-18.292705199549303%2C%200.0%5D%2C%20%5B-43.69387749634409%2C%20-18.292189868826995%2C%200.0%5D%2C%20%5B-43.69398508598704%2C%20-18.291860659574585%2C%200.0%5D%2C%20%5B-43.69401002887811%2C%20-18.29153805807544%2C%200.0%5D%2C%20%5B-43.69395130469516%2C%20-18.29135833892231%2C%200.0%5D%2C%20%5B-43.693660894941296%2C%20-18.291033581744784%2C%200.0%5D%2C%20%5B-43.69356852862014%2C%20-18.290834266179232%2C%200.0%5D%2C%20%5B-43.693555258400714%2C%20-18.290601062361528%2C%200.0%5D%2C%20%5B-43.69363230352003%2C%20-18.290339785157574%2C%200.0%5D%2C%20%5B-43.69377338430128%2C%20-18.29005025479407%2C%200.0%5D%2C%20%5B-43.693957431656166%2C%20-18.289742923716723%2C%200.0%5D%2C%20%5B-43.69433480548512%2C%20-18.289165434810652%2C%200.0%5D%2C%20%5B-43.69460608738044%2C%20-18.288773523597055%2C%200.0%5D%2C%20%5B-43.695035940955954%2C%20-18.28819068763285%2C%200.0%5D%2C%20%5B-43.69505243766629%2C%20-18.28816756932518%2C%200.0%5D%2C%20%5B-43.695345793086794%2C%20-18.28775646293596%2C%200.0%5D%2C%20%5B-43.69550364580843%2C%20-18.28756626802572%2C%200.0%5D%2C%20%5B-43.695749496639316%2C%20-18.287322878136987%2C%200.0%5D%2C%20%5B-43.69602122331237%2C%20-18.286966096391506%2C%200.0%5D%2C%20%5B-43.69635667886543%2C%20-18.28645433996112%2C%200.0%5D%2C%20%5B-43.69651569068591%2C%20-18.286108743024446%2C%200.0%5D%2C%20%5B-43.69661780986574%2C%20-18.28584046242103%2C%200.0%5D%2C%20%5B-43.696726632124545%2C%20-18.285512454766565%2C%200.0%5D%2C%20%5B-43.69677288600517%2C%20-18.28518402041108%2C%200.0%5D%2C%20%5B-43.69677033583289%2C%20-18.284687889754547%2C%200.0%5D%2C%20%5B-43.69666092944634%2C%20-18.284256780441698%2C%200.0%5D%2C%20%5B-43.69647639794334%2C%20-18.28383113604487%2C%200.0%5D%2C%20%5B-43.69625325478877%2C%20-18.283548682589824%2C%200.0%5D%2C%20%5B-43.69609187538134%2C%20-18.283374241051273%2C%200.0%5D%2C%20%5B-43.69584920362447%2C%20-18.283193267516857%2C%200.0%5D%2C%20%5B-43.695463253771464%2C%20-18.282927634207077%2C%200.0%5D%2C%20%5B-43.69527876175611%2C%20-18.282720358589895%2C%200.0%5D%2C%20%5B-43.695229852592846%2C%20-18.282567006730634%2C%200.0%5D%2C%20%5B-43.69525085749962%2C%20-18.282435650231143%2C%200.0%5D%2C%20%5B-43.695324257608064%2C%20-18.28232616949436%2C%200.0%5D%2C%20%5B-43.695450052854206%2C%20-18.282238564456193%2C%200.0%5D%2C%20%5B-43.695701142478626%2C%20-18.282130296091076%2C%200.0%5D%2C%20%5B-43.695837091072875%2C%20-18.282023632795404%2C%200.0%5D%2C%20%5B-43.695882603829524%2C%20-18.281961779699937%2C%200.0%5D%2C%20%5B-43.695893114928225%2C%20-18.28189490600054%2C%200.0%5D%2C%20%5B-43.69585861373525%2C%20-18.281822943411935%2C%200.0%5D%2C%20%5B-43.69576217147289%2C%20-18.28166687647445%2C%200.0%5D%2C%20%5B-43.69573315829863%2C%20-18.28153039681154%2C%200.0%5D%2C%20%5B-43.69577659724284%2C%20-18.281411147807056%2C%200.0%5D%2C%20%5B-43.695872520505006%2C%20-18.281301820465583%2C%200.0%5D%2C%20%5B-43.69603637282944%2C%20-18.281145138269075%2C%200.0%5D%2C%20%5B-43.69625322729856%2C%20-18.28092904468612%2C%200.0%5D%2C%20%5B-43.69637455168453%2C%20-18.280769681214533%2C%200.0%5D%2C%20%5B-43.69650903214059%2C%20-18.28052433466009%2C%200.0%5D%2C%20%5B-43.69661903940582%2C%20-18.280204702978608%2C%200.0%5D%2C%20%5B-43.69666816131414%2C%20-18.279994637928013%2C%200.0%5D%2C%20%5B-43.69668304978566%2C%20-18.279676748601254%2C%200.0%5D%2C%20%5B-43.69666518962113%2C%20-18.279387326915373%2C%200.0%5D%2C%20%5B-43.69663163506073%2C%20-18.279188652758126%2C%200.0%5D%2C%20%5B-43.69655835998896%2C%20-18.27894667144951%2C%200.0%5D%2C%20%5B-43.69646958711285%2C%20-18.278769138987457%2C%200.0%5D%2C%20%5B-43.69631578195614%2C%20-18.278586381251554%2C%200.0%5D%2C%20%5B-43.695927302685035%2C%20-18.27832551385895%2C%200.0%5D%2C%20%5B-43.69562820383495%2C%20-18.278160891840113%2C%200.0%5D%2C%20%5B-43.6950623987896%2C%20-18.277850994828192%2C%200.0%5D%2C%20%5B-43.69489810270377%2C%20-18.277732718967222%2C%200.0%5D%2C%20%5B-43.694654456699716%2C%20-18.277515874061763%2C%200.0%5D%2C%20%5B-43.69453824725238%2C%20-18.277326198979196%2C%200.0%5D%2C%20%5B-43.69448674790697%2C%20-18.277184783821557%2C%200.0%5D%2C%20%5B-43.69446905181013%2C%20-18.277052381877684%2C%200.0%5D%2C%20%5B-43.694325437734385%2C%20-18.277180510243614%2C%200.0%5D%2C%20%5B-43.693921247384615%2C%20-18.277514867625836%2C%200.0%5D%2C%20%5B-43.69359722886937%2C%20-18.277753736929892%2C%200.0%5D%2C%20%5B-43.693481863607495%2C%20-18.27784684389194%2C%200.0%5D%2C%20%5B-43.693068458178736%2C%20-18.27818048640854%2C%200.0%5D%2C%20%5B-43.69271597878768%2C%20-18.278460203580945%2C%200.0%5D%2C%20%5B-43.69250958184677%2C%20-18.27861659200475%2C%200.0%5D%2C%20%5B-43.69267348133007%2C%20-18.27874591947707%2C%200.0%5D%2C%20%5B-43.69274605227039%2C%20-18.279081142478304%2C%200.0%5D%2C%20%5B-43.69260321266057%2C%20-18.27977352832964%2C%200.0%5D%2C%20%5B-43.692471809910664%2C%20-18.28060944648775%2C%200.0%5D%2C%20%5B-43.692330490767894%2C%20-18.281098615391382%2C%200.0%5D%2C%20%5B-43.69208897468727%2C%20-18.281599053148664%2C%200.0%5D%2C%20%5B-43.69160817955322%2C%20-18.282301079758568%2C%200.0%5D%2C%20%5B-43.691298477030905%2C%20-18.282659986207562%2C%200.0%5D%2C%20%5B-43.6912063841954%2C%20-18.28278299529697%2C%200.0%5D%2C%20%5B-43.69116667244396%2C%20-18.28286090594097%2C%200.0%5D%2C%20%5B-43.69105082279516%2C%20-18.283290475289544%2C%200.0%5D%2C%20%5B-43.69102301518757%2C%20-18.283660874871128%2C%200.0%5D%2C%20%5B-43.69103815237711%2C%20-18.28414513641839%2C%200.0%5D%2C%20%5B-43.69112332486865%2C%20-18.28446849158835%2C%200.0%5D%2C%20%5B-43.691282726748256%2C%20-18.284905922888818%2C%200.0%5D%2C%20%5B-43.691554751499936%2C%20-18.285344125103897%2C%200.0%5D%2C%20%5B-43.69169020394744%2C%20-18.285637937981743%2C%200.0%5D%2C%20%5B-43.6917686730764%2C%20-18.286021019619298%2C%200.0%5D%2C%20%5B-43.69179145872829%2C%20-18.286320038481954%2C%200.0%5D%2C%20%5B-43.69176369659288%2C%20-18.286684461175113%2C%200.0%5D%2C%20%5B-43.69166643639232%2C%20-18.287138066951194%2C%200.0%5D%2C%20%5B-43.691639380061794%2C%20-18.287194633792186%2C%200.0%5D%2C%20%5B-43.69141851748853%2C%20-18.287656390920226%2C%200.0%5D%2C%20%5B-43.69108371840078%2C%20-18.288078483336513%2C%200.0%5D%2C%20%5B-43.69072478756186%2C%20-18.288380864637357%2C%200.0%5D%2C%20%5B-43.69046467609529%2C%20-18.288480510353505%2C%200.0%5D%2C%20%5B-43.69025126205317%2C%20-18.28869820989016%2C%200.0%5D%2C%20%5B-43.68990865936643%2C%20-18.288992333240106%2C%200.0%5D%2C%20%5B-43.68959158627192%2C%20-18.289219685745977%2C%200.0%5D%2C%20%5B-43.6891898854263%2C%20-18.28938429378136%2C%200.0%5D%2C%20%5B-43.68905931003137%2C%20-18.289440779671356%2C%200.0%5D%2C%20%5B-43.688973137342465%2C%20-18.28958364250962%2C%200.0%5D%2C%20%5B-43.68893107970921%2C%20-18.28985113477994%2C%200.0%5D%2C%20%5B-43.68881829688114%2C%20-18.290204214149274%2C%200.0%5D%2C%20%5B-43.68872128540265%2C%20-18.290456983850035%2C%200.0%5D%2C%20%5B-43.68853366974209%2C%20-18.29077607684642%2C%200.0%5D%2C%20%5B-43.68835674796935%2C%20-18.291004388839674%2C%200.0%5D%2C%20%5B-43.68796815167818%2C%20-18.291422519230096%2C%200.0%5D%2C%20%5B-43.68768020550031%2C%20-18.291769613050942%2C%200.0%5D%2C%20%5B-43.687583335355555%2C%20-18.292003255774507%2C%200.0%5D%2C%20%5B-43.687591798876745%2C%20-18.292208931182945%2C%200.0%5D%2C%20%5B-43.687680784273475%2C%20-18.292357778088896%2C%200.0%5D%2C%20%5B-43.68784967990686%2C%20-18.29253108274291%2C%200.0%5D%2C%20%5B-43.688189284912184%2C%20-18.292701976531543%2C%200.0%5D%2C%20%5B-43.688494216653446%2C%20-18.292742258997233%2C%200.0%5D%2C%20%5B-43.68923645706884%2C%20-18.292893197288937%2C%200.0%5D%2C%20%5B-43.68970326264768%2C%20-18.29305898035231%2C%200.0%5D%2C%20%5B-43.69008112006298%2C%20-18.293237302464433%2C%200.0%5D%2C%20%5B-43.690346377929075%2C%20-18.29341126571822%2C%200.0%5D%2C%20%5B-43.69057379757045%2C%20-18.29362441916643%2C%200.0%5D%2C%20%5B-43.69078150388202%2C%20-18.29396295956608%2C%200.0%5D%2C%20%5B-43.69093646277775%2C%20-18.29432624281892%2C%200.0%5D%2C%20%5B-43.69103837776537%2C%20-18.294753716864168%2C%200.0%5D%2C%20%5B-43.69105812982366%2C%20-18.29512324632981%2C%200.0%5D%2C%20%5B-43.69103274965428%2C%20-18.29550322560696%2C%200.0%5D%2C%20%5B-43.690993429356126%2C%20-18.295739655323896%2C%200.0%5D%2C%20%5B-43.690874729975285%2C%20-18.296047268078816%2C%200.0%5D%2C%20%5B-43.690662253279456%2C%20-18.296343478953663%2C%200.0%5D%2C%20%5B-43.69035642997862%2C%20-18.296570908973706%2C%200.0%5D%2C%20%5B-43.69005867915677%2C%20-18.296723259796977%2C%200.0%5D%2C%20%5B-43.6895997362119%2C%20-18.296842048009182%2C%200.0%5D%2C%20%5B-43.68933370661172%2C%20-18.296887923366594%2C%200.0%5D%2C%20%5B-43.68891596302155%2C%20-18.297186309929845%2C%200.0%5D%2C%20%5B-43.688472937312305%2C%20-18.297517994480657%2C%200.0%5D%2C%20%5B-43.68814507888606%2C%20-18.297845687063344%2C%200.0%5D%2C%20%5B-43.68801827866648%2C%20-18.298064778773846%2C%200.0%5D%2C%20%5B-43.68789615992715%2C%20-18.298326938686582%2C%200.0%5D%2C%20%5B-43.68779355998502%2C%20-18.298656177703787%2C%200.0%5D%2C%20%5B-43.687780992235%2C%20-18.298995598755308%2C%200.0%5D%2C%20%5B-43.68777796799275%2C%20-18.299397248677582%2C%200.0%5D%2C%20%5B-43.687879238193155%2C%20-18.299909596337216%2C%200.0%5D%2C%20%5B-43.688093879681496%2C%20-18.300657030601194%2C%200.0%5D%2C%20%5B-43.68819612317662%2C%20-18.301040276375886%2C%200.0%5D%2C%20%5B-43.68821405894983%2C%20-18.30131774360337%2C%200.0%5D%2C%20%5B-43.68821261912379%2C%20-18.30150900546015%2C%200.0%5D%2C%20%5B-43.68816151634093%2C%20-18.30164732646743%2C%200.0%5D%2C%20%5B-43.68775297853035%2C%20-18.302050972261107%2C%200.0%5D%2C%20%5B-43.68719274839523%2C%20-18.302654409613496%2C%200.0%5D%2C%20%5B-43.68803155404278%2C%20-18.302851515306546%2C%200.0%5D%2C%20%5B-43.68880102717003%2C%20-18.30304807166562%2C%200.0%5D%2C%20%5B-43.68957114955212%2C%20-18.303158557162632%2C%200.0%5D%2C%20%5B-43.69009104799581%2C%20-18.303257759845803%2C%200.0%5D%5D%5D%2C%20%5B%5B%5B-43.7036759957921%2C%20-18.28525729313037%2C%200.0%5D%2C%20%5B-43.70372576891475%2C%20-18.285579478072584%2C%200.0%5D%2C%20%5B-43.70392290054592%2C%20-18.285322596374478%2C%200.0%5D%2C%20%5B-43.70450201011563%2C%20-18.284183665900876%2C%200.0%5D%2C%20%5B-43.70507749213915%2C%20-18.282886111243332%2C%200.0%5D%2C%20%5B-43.70587931931236%2C%20-18.2810744459076%2C%200.0%5D%2C%20%5B-43.7062985529739%2C%20-18.280228508373135%2C%200.0%5D%2C%20%5B-43.70667909078181%2C%20-18.279537717412214%2C%200.0%5D%2C%20%5B-43.707133553066555%2C%20-18.279002834964576%2C%200.0%5D%2C%20%5B-43.707485782089734%2C%20-18.27875417020478%2C%200.0%5D%2C%20%5B-43.70777553284809%2C%20-18.278493127886758%2C%200.0%5D%2C%20%5B-43.70821774136997%2C%20-18.277922295883286%2C%200.0%5D%2C%20%5B-43.709043740615215%2C%20-18.27621836793491%2C%200.0%5D%2C%20%5B-43.709872108650316%2C%20-18.27419167703616%2C%200.0%5D%2C%20%5B-43.71055910728407%2C%20-18.27266612136687%2C%200.0%5D%2C%20%5B-43.7110543431186%2C%20-18.271689182028553%2C%200.0%5D%2C%20%5B-43.711307862181485%2C%20-18.271248569922047%2C%200.0%5D%2C%20%5B-43.711863623598205%2C%20-18.270546991743636%2C%200.0%5D%2C%20%5B-43.712330469935054%2C%20-18.270024132293187%2C%200.0%5D%2C%20%5B-43.71309928867302%2C%20-18.269276165695185%2C%200.0%5D%2C%20%5B-43.71398071310631%2C%20-18.268528952672952%2C%200.0%5D%2C%20%5B-43.71484864974335%2C%20-18.267913145382142%2C%200.0%5D%2C%20%5B-43.71586734456655%2C%20-18.267214663432426%2C%200.0%5D%2C%20%5B-43.71617183158409%2C%20-18.26700148053385%2C%200.0%5D%2C%20%5B-43.71619322301478%2C%20-18.263535454800195%2C%200.0%5D%2C%20%5B-43.701129331278175%2C%20-18.263367560031757%2C%200.0%5D%2C%20%5B-43.701158824977384%2C%20-18.258720663092564%2C%200.0%5D%2C%20%5B-43.70109797240387%2C%20-18.258804604459353%2C%200.0%5D%2C%20%5B-43.70031370166523%2C%20-18.259886435092966%2C%200.0%5D%2C%20%5B-43.699503157092835%2C%20-18.26119593169471%2C%200.0%5D%2C%20%5B-43.69854031841084%2C%20-18.262791297858357%2C%200.0%5D%2C%20%5B-43.69790562822348%2C%20-18.264006345436%2C%200.0%5D%2C%20%5B-43.697528919956135%2C%20-18.264939225919793%2C%200.0%5D%2C%20%5B-43.69744500235805%2C%20-18.265117973035633%2C%200.0%5D%2C%20%5B-43.6973617274572%2C%20-18.26565667054028%2C%200.0%5D%2C%20%5B-43.69729506420537%2C%20-18.266206126425594%2C%200.0%5D%2C%20%5B-43.69732814182366%2C%20-18.266804079694925%2C%200.0%5D%2C%20%5B-43.6973882953284%2C%20-18.267127262433068%2C%200.0%5D%2C%20%5B-43.697474187061616%2C%20-18.26735498392844%2C%200.0%5D%2C%20%5B-43.697668407249665%2C%20-18.267486610989717%2C%200.0%5D%2C%20%5B-43.69804211895873%2C%20-18.267711509721277%2C%200.0%5D%2C%20%5B-43.69851401616281%2C%20-18.26785817570804%2C%200.0%5D%2C%20%5B-43.698895611405696%2C%20-18.26803291733419%2C%200.0%5D%2C%20%5B-43.69909734981748%2C%20-18.268163398718016%2C%200.0%5D%2C%20%5B-43.69927613876464%2C%20-18.268351105767845%2C%200.0%5D%2C%20%5B-43.69933502273096%2C%20-18.268509306435064%2C%200.0%5D%2C%20%5B-43.69932612602144%2C%20-18.26869573716574%2C%200.0%5D%2C%20%5B-43.69916520968237%2C%20-18.269132179975927%2C%200.0%5D%2C%20%5B-43.698597230770446%2C%20-18.269788208275674%2C%200.0%5D%2C%20%5B-43.698565275917545%2C%20-18.270046209378012%2C%200.0%5D%2C%20%5B-43.6985924721053%2C%20-18.270426549462755%2C%200.0%5D%2C%20%5B-43.69870251861032%2C%20-18.27077158955973%2C%200.0%5D%2C%20%5B-43.69870772710846%2C%20-18.27108005266036%2C%200.0%5D%2C%20%5B-43.69866006182368%2C%20-18.271431192416653%2C%200.0%5D%2C%20%5B-43.69839007696433%2C%20-18.272397674434252%2C%200.0%5D%2C%20%5B-43.69831892485684%2C%20-18.272877763366548%2C%200.0%5D%2C%20%5B-43.69833968264493%2C%20-18.27311460487403%2C%200.0%5D%2C%20%5B-43.69842881156839%2C%20-18.273244320708276%2C%200.0%5D%2C%20%5B-43.69860728371443%2C%20-18.273475062790297%2C%200.0%5D%2C%20%5B-43.69869587826054%2C%20-18.27367650222438%2C%200.0%5D%2C%20%5B-43.6988667973583%2C%20-18.27424909304625%2C%200.0%5D%2C%20%5B-43.69906101449543%2C%20-18.275053760655844%2C%200.0%5D%2C%20%5B-43.69933446063827%2C%20-18.27597373078462%2C%200.0%5D%2C%20%5B-43.69943278239863%2C%20-18.276213490693266%2C%200.0%5D%2C%20%5B-43.69973904220791%2C%20-18.276760701349072%2C%200.0%5D%2C%20%5B-43.699997816468155%2C%20-18.27696329746738%2C%200.0%5D%2C%20%5B-43.70025536455496%2C%20-18.277106590316112%2C%200.0%5D%2C%20%5B-43.70038925883201%2C%20-18.27727486426173%2C%200.0%5D%2C%20%5B-43.70046277023919%2C%20-18.27748576415056%2C%200.0%5D%2C%20%5B-43.70048076138535%2C%20-18.27775845038465%2C%200.0%5D%2C%20%5B-43.70043218794548%2C%20-18.278366049405363%2C%200.0%5D%2C%20%5B-43.70033582514168%2C%20-18.279206995247865%2C%200.0%5D%2C%20%5B-43.700321469244976%2C%20-18.279790280022354%2C%200.0%5D%2C%20%5B-43.70040721918912%2C%20-18.280374245285763%2C%200.0%5D%2C%20%5B-43.700633118556034%2C%20-18.280959163133318%2C%200.0%5D%2C%20%5B-43.70083420613602%2C%20-18.28131358769412%2C%200.0%5D%2C%20%5B-43.701221062288944%2C%20-18.2817943986441%2C%200.0%5D%2C%20%5B-43.70172347085426%2C%20-18.282218611840047%2C%200.0%5D%2C%20%5B-43.702002881548836%2C%20-18.28234005486113%2C%200.0%5D%2C%20%5B-43.70231690339437%2C%20-18.28251911434644%2C%200.0%5D%2C%20%5B-43.7026253159898%2C%20-18.282779426297473%2C%200.0%5D%2C%20%5B-43.70276278522878%2C%20-18.28294031802682%2C%200.0%5D%2C%20%5B-43.70277004624491%2C%20-18.282948816189784%2C%200.0%5D%2C%20%5B-43.70280079322992%2C%20-18.28298480189752%2C%200.0%5D%2C%20%5B-43.702888325499444%2C%20-18.283087247957745%2C%200.0%5D%2C%20%5B-43.70309127117677%2C%20-18.28339466178937%2C%200.0%5D%2C%20%5B-43.70331310173773%2C%20-18.283855221952486%2C%200.0%5D%2C%20%5B-43.703384817834426%2C%20-18.28406348548465%2C%200.0%5D%2C%20%5B-43.70338943954635%2C%20-18.28407690691896%2C%200.0%5D%2C%20%5B-43.70346989844894%2C%20-18.284310558959312%2C%200.0%5D%2C%20%5B-43.703611146518966%2C%20-18.28483751778254%2C%200.0%5D%2C%20%5B-43.70363958123859%2C%20-18.28502157855215%2C%200.0%5D%2C%20%5B-43.7036759957921%2C%20-18.28525729313037%2C%200.0%5D%5D%5D%5D%2C%20%22type%22%3A%20%22MultiPolygon%22%7D%2C%20%22id%22%3A%20%226%22%2C%20%22properties%22%3A%20%7B%22Hexadec%22%3A%20%22%23e600a9%22%2C%20%22Id%22%3A%203%2C%20%22RGB%22%3A%20%22230%2C000%2C169%22%2C%20%22Unidades%22%3A%20%22Forma%5Cu00e7%5Cu00e3o%20Bandeirinha%22%7D%2C%20%22type%22%3A%20%22Feature%22%7D%2C%20%7B%22bbox%22%3A%20%5B-43.71110551514448%2C%20-18.351009553985783%2C%20-43.70707176434642%2C%20-18.338236248389965%5D%2C%20%22geometry%22%3A%20%7B%22coordinates%22%3A%20%5B%5B%5B-43.70707213819032%2C%20-18.349700030966765%2C%200.0%5D%2C%20%5B-43.70707176434642%2C%20-18.349749019037603%2C%200.0%5D%2C%20%5B-43.70801020163503%2C%20-18.350137932860687%2C%200.0%5D%2C%20%5B-43.709008869011356%2C%20-18.350521268326677%2C%200.0%5D%2C%20%5B-43.709889193455346%2C%20-18.350826093266587%2C%200.0%5D%2C%20%5B-43.71050126290453%2C%20-18.351009553985783%2C%200.0%5D%2C%20%5B-43.71073937835282%2C%20-18.350975301722183%2C%200.0%5D%2C%20%5B-43.711009499138854%2C%20-18.35084562956384%2C%200.0%5D%2C%20%5B-43.7110978815154%2C%20-18.350744614059806%2C%200.0%5D%2C%20%5B-43.71110551514448%2C%20-18.350559370739393%2C%200.0%5D%2C%20%5B-43.71101473122167%2C%20-18.35014034868423%2C%200.0%5D%2C%20%5B-43.71091027650031%2C%20-18.349876642788136%2C%200.0%5D%2C%20%5B-43.710736971495976%2C%20-18.349612471036806%2C%200.0%5D%2C%20%5B-43.710346416078885%2C%20-18.349101761496048%2C%200.0%5D%2C%20%5B-43.71003594458356%2C%20-18.348764933782352%2C%200.0%5D%2C%20%5B-43.709651075202686%2C%20-18.348331965797943%2C%200.0%5D%2C%20%5B-43.70929084450148%2C%20-18.34795295928941%2C%200.0%5D%2C%20%5B-43.70856754866344%2C%20-18.34673467667975%2C%200.0%5D%2C%20%5B-43.708247143267336%2C%20-18.34605109835809%2C%200.0%5D%2C%20%5B-43.70813124312245%2C%20-18.345643859531002%2C%200.0%5D%2C%20%5B-43.708171462549394%2C%20-18.345285496890458%2C%200.0%5D%2C%20%5B-43.70842648531667%2C%20-18.344659613447437%2C%200.0%5D%2C%20%5B-43.70865682559887%2C%20-18.343985744256305%2C%200.0%5D%2C%20%5B-43.70872172381845%2C%20-18.34367536660023%2C%200.0%5D%2C%20%5B-43.708768777392166%2C%20-18.343239345631883%2C%200.0%5D%2C%20%5B-43.7087456064952%2C%20-18.34298814389174%2C%200.0%5D%2C%20%5B-43.70861687813577%2C%20-18.342622659183338%2C%200.0%5D%2C%20%5B-43.70863889602339%2C%20-18.34218646859473%2C%200.0%5D%2C%20%5B-43.70874263400333%2C%20-18.34170301348272%2C%200.0%5D%2C%20%5B-43.70888237071738%2C%20-18.34142900610264%2C%200.0%5D%2C%20%5B-43.709091664251744%2C%20-18.341059833480838%2C%200.0%5D%2C%20%5B-43.7092807604343%2C%20-18.340881796109862%2C%200.0%5D%2C%20%5B-43.70950097286155%2C%20-18.34072787820466%2C%200.0%5D%2C%20%5B-43.70948450346173%2C%20-18.34041694921989%2C%200.0%5D%2C%20%5B-43.70942528731082%2C%20-18.33996227662033%2C%200.0%5D%2C%20%5B-43.70947717661302%2C%20-18.33971756022116%2C%200.0%5D%2C%20%5B-43.709591697859615%2C%20-18.339467290468615%2C%200.0%5D%2C%20%5B-43.70976893948152%2C%20-18.339199513310486%2C%200.0%5D%2C%20%5B-43.71002785478477%2C%20-18.338890447744905%2C%200.0%5D%2C%20%5B-43.71009776527813%2C%20-18.338747466466977%2C%200.0%5D%2C%20%5B-43.710149254121816%2C%20-18.33855654243183%2C%200.0%5D%2C%20%5B-43.71013735737698%2C%20-18.33847278027838%2C%200.0%5D%2C%20%5B-43.710069043320864%2C%20-18.338400590955956%2C%200.0%5D%2C%20%5B-43.709788331486266%2C%20-18.33827316905656%2C%200.0%5D%2C%20%5B-43.70963212930732%2C%20-18.338236248389965%2C%200.0%5D%2C%20%5B-43.70946886997504%2C%20-18.33830687052697%2C%200.0%5D%2C%20%5B-43.7092867899444%2C%20-18.338383342366026%2C%200.0%5D%2C%20%5B-43.70906662483129%2C%20-18.338531283273344%2C%200.0%5D%2C%20%5B-43.70868777126629%2C%20-18.338977012126044%2C%200.0%5D%2C%20%5B-43.708453622235815%2C%20-18.339322107057903%2C%200.0%5D%2C%20%5B-43.70826306167077%2C%20-18.33969738326807%2C%200.0%5D%2C%20%5B-43.708123103530035%2C%20-18.340001275050035%2C%200.0%5D%2C%20%5B-43.70796379103035%2C%20-18.34038273986173%2C%200.0%5D%2C%20%5B-43.70777158435535%2C%20-18.340979162737955%2C%200.0%5D%2C%20%5B-43.70771250033757%2C%20-18.341349352087057%2C%200.0%5D%2C%20%5B-43.70765940827349%2C%20-18.341755445544347%2C%200.0%5D%2C%20%5B-43.7076330398595%2C%20-18.341934584439496%2C%200.0%5D%2C%20%5B-43.70758096937616%2C%20-18.342203207893956%2C%200.0%5D%2C%20%5B-43.70750466310062%2C%20-18.342364076406582%2C%200.0%5D%2C%20%5B-43.707390492291545%2C%20-18.34256652890239%2C%200.0%5D%2C%20%5B-43.70727081793608%2C%20-18.342667330668327%2C%200.0%5D%2C%20%5B-43.70712511872331%2C%20-18.342755995706366%2C%200.0%5D%2C%20%5B-43.70707213819032%2C%20-18.349700030966765%2C%200.0%5D%5D%5D%2C%20%22type%22%3A%20%22Polygon%22%7D%2C%20%22id%22%3A%20%227%22%2C%20%22properties%22%3A%20%7B%22Hexadec%22%3A%20%22%23fabee8%22%2C%20%22Id%22%3A%201%2C%20%22RGB%22%3A%20%22255%2C190%2C232%22%2C%20%22Unidades%22%3A%20%22Complexo%20Granito-gna%5Cu00edssico%22%7D%2C%20%22type%22%3A%20%22Feature%22%7D%5D%2C%20%22type%22%3A%20%22FeatureCollection%22%7D%29%3B%0A%0A%20%20%20%20%20%20%20%20%0A%20%20%20%20%0A%20%20%20%20geo_json_b788d29a7de44b4a82f86fb5ae05559b.bindTooltip%28%0A%20%20%20%20function%28layer%29%7B%0A%20%20%20%20let%20div%20%3D%20L.DomUtil.create%28%27div%27%29%3B%0A%20%20%20%20%0A%20%20%20%20let%20handleObject%20%3D%20feature%3D%3Etypeof%28feature%29%3D%3D%27object%27%20%3F%20JSON.stringify%28feature%29%20%3A%20feature%3B%0A%20%20%20%20let%20fields%20%3D%20%5B%22Unidades%22%5D%3B%0A%20%20%20%20let%20aliases%20%3D%20%5B%22Unidades%22%5D%3B%0A%20%20%20%20let%20table%20%3D%20%27%3Ctable%3E%27%20%2B%0A%20%20%20%20%20%20%20%20String%28%0A%20%20%20%20%20%20%20%20fields.map%28%0A%20%20%20%20%20%20%20%20%28v%2Ci%29%3D%3E%0A%20%20%20%20%20%20%20%20%60%3Ctr%3E%0A%20%20%20%20%20%20%20%20%20%20%20%20%3Ctd%3E%24%7BhandleObject%28layer.feature.properties%5Bv%5D%29%7D%3C/td%3E%0A%20%20%20%20%20%20%20%20%3C/tr%3E%60%29.join%28%27%27%29%29%0A%20%20%20%20%2B%27%3C/table%3E%27%3B%0A%20%20%20%20div.innerHTML%3Dtable%3B%0A%20%20%20%20%0A%20%20%20%20return%20div%0A%20%20%20%20%7D%0A%20%20%20%20%2C%7B%22className%22%3A%20%22foliumtooltip%22%2C%20%22sticky%22%3A%20true%7D%29%3B%0A%20%20%20%20%20%20%20%20%20%20%20%20%20%20%20%20%20%20%20%20%20%0A%20%20%20%20%0A%20%20%20%20var%20color_map_e562535218224363af70cc400dbb12e4%20%3D%20%7B%7D%3B%0A%0A%20%20%20%20%0A%20%20%20%20color_map_e562535218224363af70cc400dbb12e4.color%20%3D%20d3.scale.threshold%28%29%0A%20%20%20%20%20%20%20%20%20%20%20%20%20%20.domain%28%5B1.0%2C%201.0140280561122244%2C%201.028056112224449%2C%201.0420841683366733%2C%201.0561122244488979%2C%201.0701402805611222%2C%201.0841683366733468%2C%201.0981963927855711%2C%201.1122244488977957%2C%201.12625250501002%2C%201.1402805611222444%2C%201.154308617234469%2C%201.1683366733466933%2C%201.182364729458918%2C%201.1963927855711423%2C%201.2104208416833666%2C%201.2244488977955912%2C%201.2384769539078155%2C%201.25250501002004%2C%201.2665330661322645%2C%201.280561122244489%2C%201.2945891783567134%2C%201.308617234468938%2C%201.3226452905811623%2C%201.3366733466933867%2C%201.3507014028056112%2C%201.3647294589178356%2C%201.3787575150300602%2C%201.3927855711422845%2C%201.406813627254509%2C%201.4208416833667334%2C%201.434869739478958%2C%201.4488977955911824%2C%201.4629258517034067%2C%201.4769539078156313%2C%201.4909819639278556%2C%201.5050100200400802%2C%201.5190380761523046%2C%201.533066132264529%2C%201.5470941883767535%2C%201.561122244488978%2C%201.5751503006012024%2C%201.5891783567134268%2C%201.6032064128256514%2C%201.6172344689378757%2C%201.6312625250501003%2C%201.6452905811623246%2C%201.659318637274549%2C%201.6733466933867736%2C%201.6873747494989981%2C%201.7014028056112225%2C%201.7154308617234468%2C%201.7294589178356712%2C%201.7434869739478958%2C%201.7575150300601203%2C%201.7715430861723447%2C%201.785571142284569%2C%201.7995991983967936%2C%201.8136272545090182%2C%201.8276553106212425%2C%201.8416833667334669%2C%201.8557114228456912%2C%201.8697394789579158%2C%201.8837675350701404%2C%201.8977955911823647%2C%201.911823647294589%2C%201.9258517034068137%2C%201.9398797595190382%2C%201.9539078156312626%2C%201.967935871743487%2C%201.9819639278557113%2C%201.9959919839679359%2C%202.0100200400801604%2C%202.024048096192385%2C%202.038076152304609%2C%202.052104208416834%2C%202.066132264529058%2C%202.0801603206412826%2C%202.094188376753507%2C%202.1082164328657313%2C%202.122244488977956%2C%202.13627254509018%2C%202.150300601202405%2C%202.164328657314629%2C%202.1783567134268536%2C%202.1923847695390783%2C%202.2064128256513027%2C%202.220440881763527%2C%202.2344689378757514%2C%202.2484969939879758%2C%202.2625250501002006%2C%202.276553106212425%2C%202.2905811623246493%2C%202.304609218436874%2C%202.318637274549098%2C%202.3326653306613228%2C%202.346693386773547%2C%202.3607214428857715%2C%202.3747494989979963%2C%202.38877755511022%2C%202.402805611222445%2C%202.4168336673346693%2C%202.4308617234468937%2C%202.4448897795591185%2C%202.4589178356713424%2C%202.472945891783567%2C%202.4869739478957915%2C%202.501002004008016%2C%202.5150300601202407%2C%202.529058116232465%2C%202.5430861723446894%2C%202.5571142284569137%2C%202.571142284569138%2C%202.585170340681363%2C%202.599198396793587%2C%202.6132264529058116%2C%202.6272545090180364%2C%202.6412825651302603%2C%202.655310621242485%2C%202.6693386773547094%2C%202.6833667334669338%2C%202.6973947895791586%2C%202.7114228456913825%2C%202.7254509018036073%2C%202.7394789579158316%2C%202.753507014028056%2C%202.7675350701402808%2C%202.7815631262525047%2C%202.7955911823647295%2C%202.809619238476954%2C%202.823647294589178%2C%202.837675350701403%2C%202.8517034068136273%2C%202.8657314629258517%2C%202.8797595190380765%2C%202.8937875751503004%2C%202.907815631262525%2C%202.9218436873747495%2C%202.935871743486974%2C%202.9498997995991987%2C%202.9639278557114226%2C%202.9779559118236474%2C%202.9919839679358717%2C%203.006012024048096%2C%203.0200400801603204%2C%203.0340681362725452%2C%203.0480961923847696%2C%203.062124248496994%2C%203.0761523046092183%2C%203.090180360721443%2C%203.1042084168336674%2C%203.118236472945892%2C%203.132264529058116%2C%203.1462925851703405%2C%203.1603206412825653%2C%203.1743486973947896%2C%203.188376753507014%2C%203.2024048096192383%2C%203.216432865731463%2C%203.2304609218436875%2C%203.244488977955912%2C%203.258517034068136%2C%203.2725450901803605%2C%203.2865731462925853%2C%203.3006012024048097%2C%203.314629258517034%2C%203.3286573146292584%2C%203.3426853707414828%2C%203.3567134268537075%2C%203.370741482965932%2C%203.3847695390781563%2C%203.3987975951903806%2C%203.4128256513026054%2C%203.4268537074148298%2C%203.440881763527054%2C%203.4549098196392785%2C%203.468937875751503%2C%203.4829659318637276%2C%203.496993987975952%2C%203.5110220440881763%2C%203.5250501002004007%2C%203.5390781563126255%2C%203.55310621242485%2C%203.567134268537074%2C%203.5811623246492985%2C%203.595190380761523%2C%203.6092184368737477%2C%203.623246492985972%2C%203.6372745490981964%2C%203.6513026052104207%2C%203.6653306613226455%2C%203.67935871743487%2C%203.693386773547094%2C%203.7074148296593186%2C%203.721442885771543%2C%203.7354709418837677%2C%203.749498997995992%2C%203.7635270541082164%2C%203.7775551102204408%2C%203.791583166332665%2C%203.80561122244489%2C%203.8196392785571143%2C%203.8336673346693386%2C%203.847695390781563%2C%203.8617234468937878%2C%203.875751503006012%2C%203.8897795591182365%2C%203.903807615230461%2C%203.917835671342685%2C%203.93186372745491%2C%203.9458917835671343%2C%203.9599198396793587%2C%203.973947895791583%2C%203.987975951903808%2C%204.002004008016032%2C%204.0160320641282565%2C%204.030060120240481%2C%204.044088176352705%2C%204.05811623246493%2C%204.072144288577155%2C%204.086172344689379%2C%204.100200400801603%2C%204.114228456913827%2C%204.128256513026052%2C%204.142284569138276%2C%204.156312625250501%2C%204.170340681362726%2C%204.18436873747495%2C%204.198396793587174%2C%204.212424849699399%2C%204.226452905811623%2C%204.240480961923847%2C%204.254509018036073%2C%204.268537074148297%2C%204.2825651302605205%2C%204.296593186372745%2C%204.31062124248497%2C%204.324649298597194%2C%204.338677354709419%2C%204.352705410821644%2C%204.3667334669338675%2C%204.380761523046092%2C%204.394789579158317%2C%204.408817635270541%2C%204.422845691382765%2C%204.436873747494991%2C%204.4509018036072145%2C%204.4649298597194385%2C%204.478957915831663%2C%204.492985971943888%2C%204.507014028056112%2C%204.521042084168337%2C%204.5350701402805615%2C%204.5490981963927855%2C%204.563126252505009%2C%204.577154308617235%2C%204.591182364729459%2C%204.605210420841683%2C%204.619238476953908%2C%204.6332665330661325%2C%204.647294589178356%2C%204.661322645290581%2C%204.675350701402806%2C%204.68937875751503%2C%204.703406813627255%2C%204.7174348697394795%2C%204.731462925851703%2C%204.745490981963927%2C%204.759519038076153%2C%204.773547094188377%2C%204.787575150300601%2C%204.801603206412826%2C%204.81563126252505%2C%204.829659318637274%2C%204.843687374749499%2C%204.857715430861724%2C%204.871743486973948%2C%204.885771543086173%2C%204.899799599198397%2C%204.913827655310621%2C%204.927855711422845%2C%204.94188376753507%2C%204.955911823647295%2C%204.969939879759519%2C%204.9839679358717435%2C%204.997995991983968%2C%205.012024048096192%2C%205.026052104208417%2C%205.040080160320641%2C%205.054108216432866%2C%205.0681362725450905%2C%205.082164328657314%2C%205.096192384769539%2C%205.110220440881764%2C%205.124248496993988%2C%205.138276553106213%2C%205.152304609218437%2C%205.166332665330661%2C%205.180360721442886%2C%205.19438877755511%2C%205.208416833667335%2C%205.222444889779559%2C%205.236472945891784%2C%205.250501002004008%2C%205.264529058116232%2C%205.278557114228457%2C%205.292585170340681%2C%205.306613226452906%2C%205.320641282565131%2C%205.3346693386773545%2C%205.348697394789579%2C%205.362725450901803%2C%205.376753507014028%2C%205.390781563126253%2C%205.404809619238477%2C%205.4188376753507015%2C%205.432865731462926%2C%205.44689378757515%2C%205.460921843687375%2C%205.474949899799599%2C%205.488977955911824%2C%205.5030060120240485%2C%205.517034068136272%2C%205.531062124248497%2C%205.545090180360721%2C%205.559118236472946%2C%205.573146292585171%2C%205.587174348697395%2C%205.601202404809619%2C%205.615230460921843%2C%205.629258517034068%2C%205.643286573146293%2C%205.657314629258517%2C%205.671342685370742%2C%205.6853707414829655%2C%205.69939879759519%2C%205.713426853707415%2C%205.727454909819639%2C%205.741482965931864%2C%205.755511022044089%2C%205.7695390781563125%2C%205.783567134268537%2C%205.797595190380761%2C%205.811623246492986%2C%205.825651302605211%2C%205.839679358717435%2C%205.8537074148296595%2C%205.867735470941883%2C%205.881763527054108%2C%205.895791583166333%2C%205.909819639278557%2C%205.923847695390782%2C%205.937875751503006%2C%205.95190380761523%2C%205.965931863727455%2C%205.979959919839679%2C%205.993987975951904%2C%206.008016032064128%2C%206.022044088176353%2C%206.036072144288577%2C%206.050100200400801%2C%206.064128256513026%2C%206.078156312625251%2C%206.092184368737475%2C%206.1062124248497%2C%206.1202404809619235%2C%206.134268537074148%2C%206.148296593186373%2C%206.162324649298597%2C%206.176352705410822%2C%206.190380761523046%2C%206.2044088176352705%2C%206.218436873747495%2C%206.232464929859719%2C%206.246492985971944%2C%206.260521042084168%2C%206.274549098196393%2C%206.2885771543086175%2C%206.302605210420841%2C%206.316633266533066%2C%206.330661322645291%2C%206.344689378757515%2C%206.35871743486974%2C%206.372745490981964%2C%206.386773547094188%2C%206.400801603206413%2C%206.414829659318637%2C%206.428857715430862%2C%206.442885771543086%2C%206.456913827655311%2C%206.470941883767535%2C%206.484969939879759%2C%206.498997995991984%2C%206.513026052104208%2C%206.527054108216433%2C%206.541082164328658%2C%206.5551102204408815%2C%206.569138276553106%2C%206.58316633266533%2C%206.597194388777555%2C%206.61122244488978%2C%206.625250501002004%2C%206.6392785571142285%2C%206.653306613226453%2C%206.667334669338677%2C%206.681362725450902%2C%206.695390781563126%2C%206.709418837675351%2C%206.7234468937875755%2C%206.7374749498997994%2C%206.751503006012024%2C%206.765531062124248%2C%206.779559118236473%2C%206.793587174348698%2C%206.807615230460922%2C%206.8216432865731464%2C%206.83567134268537%2C%206.849699398797595%2C%206.86372745490982%2C%206.877755511022044%2C%206.891783567134269%2C%206.905811623246493%2C%206.919839679358717%2C%206.933867735470942%2C%206.947895791583166%2C%206.961923847695391%2C%206.975951903807616%2C%206.98997995991984%2C%207.004008016032064%2C%207.018036072144288%2C%207.032064128256513%2C%207.046092184368738%2C%207.060120240480962%2C%207.074148296593187%2C%207.0881763527054105%2C%207.102204408817635%2C%207.11623246492986%2C%207.130260521042084%2C%207.144288577154309%2C%207.158316633266533%2C%207.1723446893787575%2C%207.186372745490982%2C%207.200400801603206%2C%207.214428857715431%2C%207.228456913827655%2C%207.24248496993988%2C%207.2565130260521045%2C%207.270541082164328%2C%207.284569138276553%2C%207.298597194388778%2C%207.312625250501002%2C%207.326653306613227%2C%207.340681362725451%2C%207.354709418837675%2C%207.3687374749499%2C%207.382765531062124%2C%207.396793587174349%2C%207.410821643286573%2C%207.424849699398798%2C%207.438877755511022%2C%207.452905811623246%2C%207.466933867735471%2C%207.480961923847695%2C%207.49498997995992%2C%207.509018036072145%2C%207.5230460921843685%2C%207.537074148296593%2C%207.551102204408818%2C%207.565130260521042%2C%207.579158316633267%2C%207.593186372745491%2C%207.6072144288577155%2C%207.62124248496994%2C%207.635270541082164%2C%207.649298597194389%2C%207.663326653306613%2C%207.677354709418838%2C%207.6913827655310625%2C%207.705410821643286%2C%207.719438877755511%2C%207.733466933867735%2C%207.74749498997996%2C%207.761523046092185%2C%207.775551102204409%2C%207.789579158316633%2C%207.803607214428857%2C%207.817635270541082%2C%207.831663326653307%2C%207.845691382765531%2C%207.859719438877756%2C%207.87374749498998%2C%207.887775551102204%2C%207.901803607214429%2C%207.915831663326653%2C%207.929859719438878%2C%207.943887775551103%2C%207.9579158316633265%2C%207.971943887775551%2C%207.985971943887775%2C%208.0%5D%29%0A%20%20%20%20%20%20%20%20%20%20%20%20%20%20.range%28%5B%27%23e41a1cff%27%2C%20%27%23e41a1cff%27%2C%20%27%23e41a1cff%27%2C%20%27%23e41a1cff%27%2C%20%27%23e41a1cff%27%2C%20%27%23e41a1cff%27%2C%20%27%23e41a1cff%27%2C%20%27%23e41a1cff%27%2C%20%27%23e41a1cff%27%2C%20%27%23e41a1cff%27%2C%20%27%23e41a1cff%27%2C%20%27%23e41a1cff%27%2C%20%27%23e41a1cff%27%2C%20%27%23e41a1cff%27%2C%20%27%23e41a1cff%27%2C%20%27%23e41a1cff%27%2C%20%27%23e41a1cff%27%2C%20%27%23e41a1cff%27%2C%20%27%23e41a1cff%27%2C%20%27%23e41a1cff%27%2C%20%27%23e41a1cff%27%2C%20%27%23e41a1cff%27%2C%20%27%23e41a1cff%27%2C%20%27%23e41a1cff%27%2C%20%27%23e41a1cff%27%2C%20%27%23e41a1cff%27%2C%20%27%23e41a1cff%27%2C%20%27%23e41a1cff%27%2C%20%27%23e41a1cff%27%2C%20%27%23e41a1cff%27%2C%20%27%23e41a1cff%27%2C%20%27%23e41a1cff%27%2C%20%27%23e41a1cff%27%2C%20%27%23e41a1cff%27%2C%20%27%23e41a1cff%27%2C%20%27%23e41a1cff%27%2C%20%27%23e41a1cff%27%2C%20%27%23e41a1cff%27%2C%20%27%23e41a1cff%27%2C%20%27%23e41a1cff%27%2C%20%27%23e41a1cff%27%2C%20%27%23e41a1cff%27%2C%20%27%23e41a1cff%27%2C%20%27%23e41a1cff%27%2C%20%27%23e41a1cff%27%2C%20%27%23e41a1cff%27%2C%20%27%23e41a1cff%27%2C%20%27%23e41a1cff%27%2C%20%27%23e41a1cff%27%2C%20%27%23e41a1cff%27%2C%20%27%23e41a1cff%27%2C%20%27%23e41a1cff%27%2C%20%27%23e41a1cff%27%2C%20%27%23e41a1cff%27%2C%20%27%23e41a1cff%27%2C%20%27%23e41a1cff%27%2C%20%27%23e41a1cff%27%2C%20%27%23e41a1cff%27%2C%20%27%23e41a1cff%27%2C%20%27%23e41a1cff%27%2C%20%27%23e41a1cff%27%2C%20%27%23e41a1cff%27%2C%20%27%23e41a1cff%27%2C%20%27%23e41a1cff%27%2C%20%27%23e41a1cff%27%2C%20%27%23e41a1cff%27%2C%20%27%23e41a1cff%27%2C%20%27%23e41a1cff%27%2C%20%27%23e41a1cff%27%2C%20%27%23e41a1cff%27%2C%20%27%23e41a1cff%27%2C%20%27%23e41a1cff%27%2C%20%27%23e41a1cff%27%2C%20%27%23e41a1cff%27%2C%20%27%23e41a1cff%27%2C%20%27%23e41a1cff%27%2C%20%27%23e41a1cff%27%2C%20%27%23e41a1cff%27%2C%20%27%23e41a1cff%27%2C%20%27%23e41a1cff%27%2C%20%27%23e41a1cff%27%2C%20%27%23e41a1cff%27%2C%20%27%23e41a1cff%27%2C%20%27%23e41a1cff%27%2C%20%27%23377eb8ff%27%2C%20%27%23377eb8ff%27%2C%20%27%23377eb8ff%27%2C%20%27%23377eb8ff%27%2C%20%27%23377eb8ff%27%2C%20%27%23377eb8ff%27%2C%20%27%23377eb8ff%27%2C%20%27%23377eb8ff%27%2C%20%27%23377eb8ff%27%2C%20%27%23377eb8ff%27%2C%20%27%23377eb8ff%27%2C%20%27%23377eb8ff%27%2C%20%27%23377eb8ff%27%2C%20%27%23377eb8ff%27%2C%20%27%23377eb8ff%27%2C%20%27%23377eb8ff%27%2C%20%27%23377eb8ff%27%2C%20%27%23377eb8ff%27%2C%20%27%23377eb8ff%27%2C%20%27%23377eb8ff%27%2C%20%27%23377eb8ff%27%2C%20%27%23377eb8ff%27%2C%20%27%23377eb8ff%27%2C%20%27%23377eb8ff%27%2C%20%27%23377eb8ff%27%2C%20%27%23377eb8ff%27%2C%20%27%23377eb8ff%27%2C%20%27%23377eb8ff%27%2C%20%27%23377eb8ff%27%2C%20%27%23377eb8ff%27%2C%20%27%23377eb8ff%27%2C%20%27%23377eb8ff%27%2C%20%27%23377eb8ff%27%2C%20%27%23377eb8ff%27%2C%20%27%23377eb8ff%27%2C%20%27%23377eb8ff%27%2C%20%27%23377eb8ff%27%2C%20%27%23377eb8ff%27%2C%20%27%23377eb8ff%27%2C%20%27%23377eb8ff%27%2C%20%27%23377eb8ff%27%2C%20%27%23377eb8ff%27%2C%20%27%23377eb8ff%27%2C%20%27%23377eb8ff%27%2C%20%27%23377eb8ff%27%2C%20%27%23377eb8ff%27%2C%20%27%23377eb8ff%27%2C%20%27%23377eb8ff%27%2C%20%27%23377eb8ff%27%2C%20%27%23377eb8ff%27%2C%20%27%23377eb8ff%27%2C%20%27%23377eb8ff%27%2C%20%27%23377eb8ff%27%2C%20%27%23377eb8ff%27%2C%20%27%23377eb8ff%27%2C%20%27%23377eb8ff%27%2C%20%27%23377eb8ff%27%2C%20%27%23377eb8ff%27%2C%20%27%23377eb8ff%27%2C%20%27%23377eb8ff%27%2C%20%27%23377eb8ff%27%2C%20%27%23377eb8ff%27%2C%20%27%23377eb8ff%27%2C%20%27%23377eb8ff%27%2C%20%27%23377eb8ff%27%2C%20%27%23377eb8ff%27%2C%20%27%23377eb8ff%27%2C%20%27%23377eb8ff%27%2C%20%27%23377eb8ff%27%2C%20%27%23377eb8ff%27%2C%20%27%23377eb8ff%27%2C%20%27%23377eb8ff%27%2C%20%27%23377eb8ff%27%2C%20%27%23377eb8ff%27%2C%20%27%23377eb8ff%27%2C%20%27%23377eb8ff%27%2C%20%27%23377eb8ff%27%2C%20%27%23377eb8ff%27%2C%20%27%23377eb8ff%27%2C%20%27%23377eb8ff%27%2C%20%27%23377eb8ff%27%2C%20%27%23377eb8ff%27%2C%20%27%23377eb8ff%27%2C%20%27%234daf4aff%27%2C%20%27%234daf4aff%27%2C%20%27%234daf4aff%27%2C%20%27%234daf4aff%27%2C%20%27%234daf4aff%27%2C%20%27%234daf4aff%27%2C%20%27%234daf4aff%27%2C%20%27%234daf4aff%27%2C%20%27%234daf4aff%27%2C%20%27%234daf4aff%27%2C%20%27%234daf4aff%27%2C%20%27%234daf4aff%27%2C%20%27%234daf4aff%27%2C%20%27%234daf4aff%27%2C%20%27%234daf4aff%27%2C%20%27%234daf4aff%27%2C%20%27%234daf4aff%27%2C%20%27%234daf4aff%27%2C%20%27%234daf4aff%27%2C%20%27%234daf4aff%27%2C%20%27%234daf4aff%27%2C%20%27%234daf4aff%27%2C%20%27%234daf4aff%27%2C%20%27%234daf4aff%27%2C%20%27%234daf4aff%27%2C%20%27%234daf4aff%27%2C%20%27%234daf4aff%27%2C%20%27%234daf4aff%27%2C%20%27%234daf4aff%27%2C%20%27%234daf4aff%27%2C%20%27%234daf4aff%27%2C%20%27%234daf4aff%27%2C%20%27%234daf4aff%27%2C%20%27%234daf4aff%27%2C%20%27%234daf4aff%27%2C%20%27%234daf4aff%27%2C%20%27%234daf4aff%27%2C%20%27%234daf4aff%27%2C%20%27%234daf4aff%27%2C%20%27%234daf4aff%27%2C%20%27%234daf4aff%27%2C%20%27%234daf4aff%27%2C%20%27%234daf4aff%27%2C%20%27%234daf4aff%27%2C%20%27%234daf4aff%27%2C%20%27%234daf4aff%27%2C%20%27%234daf4aff%27%2C%20%27%234daf4aff%27%2C%20%27%234daf4aff%27%2C%20%27%234daf4aff%27%2C%20%27%234daf4aff%27%2C%20%27%234daf4aff%27%2C%20%27%234daf4aff%27%2C%20%27%234daf4aff%27%2C%20%27%234daf4aff%27%2C%20%27%234daf4aff%27%2C%20%27%234daf4aff%27%2C%20%27%234daf4aff%27%2C%20%27%234daf4aff%27%2C%20%27%234daf4aff%27%2C%20%27%234daf4aff%27%2C%20%27%234daf4aff%27%2C%20%27%234daf4aff%27%2C%20%27%234daf4aff%27%2C%20%27%234daf4aff%27%2C%20%27%234daf4aff%27%2C%20%27%234daf4aff%27%2C%20%27%234daf4aff%27%2C%20%27%234daf4aff%27%2C%20%27%234daf4aff%27%2C%20%27%234daf4aff%27%2C%20%27%234daf4aff%27%2C%20%27%234daf4aff%27%2C%20%27%234daf4aff%27%2C%20%27%234daf4aff%27%2C%20%27%234daf4aff%27%2C%20%27%234daf4aff%27%2C%20%27%234daf4aff%27%2C%20%27%234daf4aff%27%2C%20%27%234daf4aff%27%2C%20%27%234daf4aff%27%2C%20%27%234daf4aff%27%2C%20%27%234daf4aff%27%2C%20%27%23984ea3ff%27%2C%20%27%23984ea3ff%27%2C%20%27%23984ea3ff%27%2C%20%27%23984ea3ff%27%2C%20%27%23984ea3ff%27%2C%20%27%23984ea3ff%27%2C%20%27%23984ea3ff%27%2C%20%27%23984ea3ff%27%2C%20%27%23984ea3ff%27%2C%20%27%23984ea3ff%27%2C%20%27%23984ea3ff%27%2C%20%27%23984ea3ff%27%2C%20%27%23984ea3ff%27%2C%20%27%23984ea3ff%27%2C%20%27%23984ea3ff%27%2C%20%27%23984ea3ff%27%2C%20%27%23984ea3ff%27%2C%20%27%23984ea3ff%27%2C%20%27%23984ea3ff%27%2C%20%27%23984ea3ff%27%2C%20%27%23984ea3ff%27%2C%20%27%23984ea3ff%27%2C%20%27%23984ea3ff%27%2C%20%27%23984ea3ff%27%2C%20%27%23984ea3ff%27%2C%20%27%23984ea3ff%27%2C%20%27%23984ea3ff%27%2C%20%27%23984ea3ff%27%2C%20%27%23984ea3ff%27%2C%20%27%23984ea3ff%27%2C%20%27%23984ea3ff%27%2C%20%27%23984ea3ff%27%2C%20%27%23984ea3ff%27%2C%20%27%23984ea3ff%27%2C%20%27%23984ea3ff%27%2C%20%27%23984ea3ff%27%2C%20%27%23984ea3ff%27%2C%20%27%23984ea3ff%27%2C%20%27%23984ea3ff%27%2C%20%27%23984ea3ff%27%2C%20%27%23984ea3ff%27%2C%20%27%23984ea3ff%27%2C%20%27%23984ea3ff%27%2C%20%27%23984ea3ff%27%2C%20%27%23984ea3ff%27%2C%20%27%23984ea3ff%27%2C%20%27%23984ea3ff%27%2C%20%27%23984ea3ff%27%2C%20%27%23984ea3ff%27%2C%20%27%23984ea3ff%27%2C%20%27%23984ea3ff%27%2C%20%27%23984ea3ff%27%2C%20%27%23984ea3ff%27%2C%20%27%23984ea3ff%27%2C%20%27%23984ea3ff%27%2C%20%27%23984ea3ff%27%2C%20%27%23984ea3ff%27%2C%20%27%23984ea3ff%27%2C%20%27%23984ea3ff%27%2C%20%27%23984ea3ff%27%2C%20%27%23984ea3ff%27%2C%20%27%23984ea3ff%27%2C%20%27%23984ea3ff%27%2C%20%27%23984ea3ff%27%2C%20%27%23984ea3ff%27%2C%20%27%23984ea3ff%27%2C%20%27%23984ea3ff%27%2C%20%27%23984ea3ff%27%2C%20%27%23984ea3ff%27%2C%20%27%23984ea3ff%27%2C%20%27%23984ea3ff%27%2C%20%27%23984ea3ff%27%2C%20%27%23984ea3ff%27%2C%20%27%23984ea3ff%27%2C%20%27%23984ea3ff%27%2C%20%27%23984ea3ff%27%2C%20%27%23984ea3ff%27%2C%20%27%23984ea3ff%27%2C%20%27%23984ea3ff%27%2C%20%27%23984ea3ff%27%2C%20%27%23984ea3ff%27%2C%20%27%23984ea3ff%27%2C%20%27%23984ea3ff%27%2C%20%27%23ff7f00ff%27%2C%20%27%23ff7f00ff%27%2C%20%27%23ff7f00ff%27%2C%20%27%23ff7f00ff%27%2C%20%27%23ff7f00ff%27%2C%20%27%23ff7f00ff%27%2C%20%27%23ff7f00ff%27%2C%20%27%23ff7f00ff%27%2C%20%27%23ff7f00ff%27%2C%20%27%23ff7f00ff%27%2C%20%27%23ff7f00ff%27%2C%20%27%23ff7f00ff%27%2C%20%27%23ff7f00ff%27%2C%20%27%23ff7f00ff%27%2C%20%27%23ff7f00ff%27%2C%20%27%23ff7f00ff%27%2C%20%27%23ff7f00ff%27%2C%20%27%23ff7f00ff%27%2C%20%27%23ff7f00ff%27%2C%20%27%23ff7f00ff%27%2C%20%27%23ff7f00ff%27%2C%20%27%23ff7f00ff%27%2C%20%27%23ff7f00ff%27%2C%20%27%23ff7f00ff%27%2C%20%27%23ff7f00ff%27%2C%20%27%23ff7f00ff%27%2C%20%27%23ff7f00ff%27%2C%20%27%23ff7f00ff%27%2C%20%27%23ff7f00ff%27%2C%20%27%23ff7f00ff%27%2C%20%27%23ff7f00ff%27%2C%20%27%23ff7f00ff%27%2C%20%27%23ff7f00ff%27%2C%20%27%23ff7f00ff%27%2C%20%27%23ff7f00ff%27%2C%20%27%23ff7f00ff%27%2C%20%27%23ff7f00ff%27%2C%20%27%23ff7f00ff%27%2C%20%27%23ff7f00ff%27%2C%20%27%23ff7f00ff%27%2C%20%27%23ff7f00ff%27%2C%20%27%23ff7f00ff%27%2C%20%27%23ff7f00ff%27%2C%20%27%23ff7f00ff%27%2C%20%27%23ff7f00ff%27%2C%20%27%23ff7f00ff%27%2C%20%27%23ff7f00ff%27%2C%20%27%23ff7f00ff%27%2C%20%27%23ff7f00ff%27%2C%20%27%23ff7f00ff%27%2C%20%27%23ff7f00ff%27%2C%20%27%23ff7f00ff%27%2C%20%27%23ff7f00ff%27%2C%20%27%23ff7f00ff%27%2C%20%27%23ff7f00ff%27%2C%20%27%23ff7f00ff%27%2C%20%27%23ff7f00ff%27%2C%20%27%23ff7f00ff%27%2C%20%27%23ff7f00ff%27%2C%20%27%23ff7f00ff%27%2C%20%27%23ff7f00ff%27%2C%20%27%23ff7f00ff%27%2C%20%27%23ff7f00ff%27%2C%20%27%23ff7f00ff%27%2C%20%27%23ff7f00ff%27%2C%20%27%23ff7f00ff%27%2C%20%27%23ff7f00ff%27%2C%20%27%23ff7f00ff%27%2C%20%27%23ff7f00ff%27%2C%20%27%23ff7f00ff%27%2C%20%27%23ff7f00ff%27%2C%20%27%23ff7f00ff%27%2C%20%27%23ff7f00ff%27%2C%20%27%23ff7f00ff%27%2C%20%27%23ff7f00ff%27%2C%20%27%23ff7f00ff%27%2C%20%27%23ff7f00ff%27%2C%20%27%23ff7f00ff%27%2C%20%27%23ff7f00ff%27%2C%20%27%23ff7f00ff%27%2C%20%27%23ff7f00ff%27%2C%20%27%23ff7f00ff%27%2C%20%27%23ff7f00ff%27%2C%20%27%23ffff33ff%27%2C%20%27%23ffff33ff%27%2C%20%27%23ffff33ff%27%2C%20%27%23ffff33ff%27%2C%20%27%23ffff33ff%27%2C%20%27%23ffff33ff%27%2C%20%27%23ffff33ff%27%2C%20%27%23ffff33ff%27%2C%20%27%23ffff33ff%27%2C%20%27%23ffff33ff%27%2C%20%27%23ffff33ff%27%2C%20%27%23ffff33ff%27%2C%20%27%23ffff33ff%27%2C%20%27%23ffff33ff%27%2C%20%27%23ffff33ff%27%2C%20%27%23ffff33ff%27%2C%20%27%23ffff33ff%27%2C%20%27%23ffff33ff%27%2C%20%27%23ffff33ff%27%2C%20%27%23ffff33ff%27%2C%20%27%23ffff33ff%27%2C%20%27%23ffff33ff%27%2C%20%27%23ffff33ff%27%2C%20%27%23ffff33ff%27%2C%20%27%23ffff33ff%27%2C%20%27%23ffff33ff%27%2C%20%27%23ffff33ff%27%2C%20%27%23ffff33ff%27%2C%20%27%23ffff33ff%27%2C%20%27%23ffff33ff%27%2C%20%27%23ffff33ff%27%2C%20%27%23ffff33ff%27%2C%20%27%23ffff33ff%27%2C%20%27%23ffff33ff%27%2C%20%27%23ffff33ff%27%2C%20%27%23ffff33ff%27%2C%20%27%23ffff33ff%27%2C%20%27%23ffff33ff%27%2C%20%27%23ffff33ff%27%2C%20%27%23ffff33ff%27%2C%20%27%23ffff33ff%27%2C%20%27%23ffff33ff%27%2C%20%27%23ffff33ff%27%2C%20%27%23ffff33ff%27%2C%20%27%23ffff33ff%27%2C%20%27%23ffff33ff%27%2C%20%27%23ffff33ff%27%2C%20%27%23ffff33ff%27%2C%20%27%23ffff33ff%27%2C%20%27%23ffff33ff%27%2C%20%27%23ffff33ff%27%2C%20%27%23ffff33ff%27%2C%20%27%23ffff33ff%27%2C%20%27%23ffff33ff%27%2C%20%27%23ffff33ff%27%2C%20%27%23ffff33ff%27%2C%20%27%23ffff33ff%27%2C%20%27%23ffff33ff%27%2C%20%27%23ffff33ff%27%2C%20%27%23ffff33ff%27%2C%20%27%23ffff33ff%27%2C%20%27%23ffff33ff%27%2C%20%27%23ffff33ff%27%2C%20%27%23ffff33ff%27%2C%20%27%23ffff33ff%27%2C%20%27%23ffff33ff%27%2C%20%27%23ffff33ff%27%2C%20%27%23ffff33ff%27%2C%20%27%23ffff33ff%27%2C%20%27%23ffff33ff%27%2C%20%27%23ffff33ff%27%2C%20%27%23ffff33ff%27%2C%20%27%23ffff33ff%27%2C%20%27%23ffff33ff%27%2C%20%27%23ffff33ff%27%2C%20%27%23ffff33ff%27%2C%20%27%23ffff33ff%27%2C%20%27%23ffff33ff%27%2C%20%27%23ffff33ff%27%2C%20%27%23ffff33ff%27%2C%20%27%23ffff33ff%27%2C%20%27%23ffff33ff%27%2C%20%27%23ffff33ff%27%2C%20%27%23ffff33ff%27%5D%29%3B%0A%20%20%20%20%0A%0A%20%20%20%20color_map_e562535218224363af70cc400dbb12e4.x%20%3D%20d3.scale.linear%28%29%0A%20%20%20%20%20%20%20%20%20%20%20%20%20%20.domain%28%5B1.0%2C%208.0%5D%29%0A%20%20%20%20%20%20%20%20%20%20%20%20%20%20.range%28%5B0%2C%20400%5D%29%3B%0A%0A%20%20%20%20color_map_e562535218224363af70cc400dbb12e4.legend%20%3D%20L.control%28%7Bposition%3A%20%27topright%27%7D%29%3B%0A%20%20%20%20color_map_e562535218224363af70cc400dbb12e4.legend.onAdd%20%3D%20function%20%28map%29%20%7Bvar%20div%20%3D%20L.DomUtil.create%28%27div%27%2C%20%27legend%27%29%3B%20return%20div%7D%3B%0A%20%20%20%20color_map_e562535218224363af70cc400dbb12e4.legend.addTo%28map_ec599396eca64f97876a66b422b73dbe%29%3B%0A%0A%20%20%20%20color_map_e562535218224363af70cc400dbb12e4.xAxis%20%3D%20d3.svg.axis%28%29%0A%20%20%20%20%20%20%20%20.scale%28color_map_e562535218224363af70cc400dbb12e4.x%29%0A%20%20%20%20%20%20%20%20.orient%28%22top%22%29%0A%20%20%20%20%20%20%20%20.tickSize%281%29%0A%20%20%20%20%20%20%20%20.tickValues%28%5B1.0%2C%202.166666666666667%2C%203.3333333333333335%2C%204.5%2C%205.666666666666667%2C%206.833333333333334%2C%208.0%5D%29%3B%0A%0A%20%20%20%20color_map_e562535218224363af70cc400dbb12e4.svg%20%3D%20d3.select%28%22.legend.leaflet-control%22%29.append%28%22svg%22%29%0A%20%20%20%20%20%20%20%20.attr%28%22id%22%2C%20%27legend%27%29%0A%20%20%20%20%20%20%20%20.attr%28%22width%22%2C%20450%29%0A%20%20%20%20%20%20%20%20.attr%28%22height%22%2C%2040%29%3B%0A%0A%20%20%20%20color_map_e562535218224363af70cc400dbb12e4.g%20%3D%20color_map_e562535218224363af70cc400dbb12e4.svg.append%28%22g%22%29%0A%20%20%20%20%20%20%20%20.attr%28%22class%22%2C%20%22key%22%29%0A%20%20%20%20%20%20%20%20.attr%28%22transform%22%2C%20%22translate%2825%2C16%29%22%29%3B%0A%0A%20%20%20%20color_map_e562535218224363af70cc400dbb12e4.g.selectAll%28%22rect%22%29%0A%20%20%20%20%20%20%20%20.data%28color_map_e562535218224363af70cc400dbb12e4.color.range%28%29.map%28function%28d%2C%20i%29%20%7B%0A%20%20%20%20%20%20%20%20%20%20return%20%7B%0A%20%20%20%20%20%20%20%20%20%20%20%20x0%3A%20i%20%3F%20color_map_e562535218224363af70cc400dbb12e4.x%28color_map_e562535218224363af70cc400dbb12e4.color.domain%28%29%5Bi%20-%201%5D%29%20%3A%20color_map_e562535218224363af70cc400dbb12e4.x.range%28%29%5B0%5D%2C%0A%20%20%20%20%20%20%20%20%20%20%20%20x1%3A%20i%20%3C%20color_map_e562535218224363af70cc400dbb12e4.color.domain%28%29.length%20%3F%20color_map_e562535218224363af70cc400dbb12e4.x%28color_map_e562535218224363af70cc400dbb12e4.color.domain%28%29%5Bi%5D%29%20%3A%20color_map_e562535218224363af70cc400dbb12e4.x.range%28%29%5B1%5D%2C%0A%20%20%20%20%20%20%20%20%20%20%20%20z%3A%20d%0A%20%20%20%20%20%20%20%20%20%20%7D%3B%0A%20%20%20%20%20%20%20%20%7D%29%29%0A%20%20%20%20%20%20.enter%28%29.append%28%22rect%22%29%0A%20%20%20%20%20%20%20%20.attr%28%22height%22%2C%2010%29%0A%20%20%20%20%20%20%20%20.attr%28%22x%22%2C%20function%28d%29%20%7B%20return%20d.x0%3B%20%7D%29%0A%20%20%20%20%20%20%20%20.attr%28%22width%22%2C%20function%28d%29%20%7B%20return%20d.x1%20-%20d.x0%3B%20%7D%29%0A%20%20%20%20%20%20%20%20.style%28%22fill%22%2C%20function%28d%29%20%7B%20return%20d.z%3B%20%7D%29%3B%0A%0A%20%20%20%20color_map_e562535218224363af70cc400dbb12e4.g.call%28color_map_e562535218224363af70cc400dbb12e4.xAxis%29.append%28%22text%22%29%0A%20%20%20%20%20%20%20%20.attr%28%22class%22%2C%20%22caption%22%29%0A%20%20%20%20%20%20%20%20.attr%28%22y%22%2C%2021%29%0A%20%20%20%20%20%20%20%20.text%28%27ID%20Litologia%27%29%3B%0A%3C/script%3E onload=\"this.contentDocument.open();this.contentDocument.write(    decodeURIComponent(this.getAttribute('data-html')));this.contentDocument.close();\" allowfullscreen webkitallowfullscreen mozallowfullscreen></iframe></div></div>"
      ],
      "text/plain": [
       "<folium.folium.Map at 0x1a6b9bd22e8>"
      ]
     },
     "execution_count": 5,
     "metadata": {},
     "output_type": "execute_result"
    }
   ],
   "source": [
    "# importação do shapefile de unidades litoestratigráficas\n",
    "lito = \"shp/lithology_sirgas.shp\"\n",
    "# transformação do shapefile em (geo)dataframe\n",
    "gdf = gpd.read_file(lito)\n",
    "# modificação do crs (31983 -> 4326)\n",
    "gdf_wgs = gdf.to_crs(\"EPSG:4326\")\n",
    "\n",
    "# mapa interativo\n",
    "lito_map = folium.Map(location=[-18.3,-43.7], zoom_start=12,\n",
    "                 tiles='https://mt1.google.com/vt/lyrs=y&x={x}&y={y}&z={z}',\n",
    "                 attr = 'Google', name = 'Google Satellite', overlay = True, \n",
    "                 control = True)\n",
    "\n",
    "# unidades litoestratigráficas sobre mapa interativo\n",
    "cplt = folium.Choropleth(geo_data=gdf_wgs, fill_opacity=0.4,\n",
    "                  data=gdf_wgs,\n",
    "                  columns=['Unidades','Id'],\n",
    "                  key_on=\"feature.properties.Unidades\",\n",
    "                  locations=gdf_wgs.index,\n",
    "                  legend_name='ID Litologia',\n",
    "                  highlight=True,\n",
    "                  fill_color=\"Set1\").add_to(lito_map)\n",
    "\n",
    "cplt.geojson.add_child(folium.features.GeoJsonTooltip(['Unidades'],labels=False))\n",
    "\n",
    "lito_map"
   ]
  },
  {
   "cell_type": "markdown",
   "metadata": {},
   "source": [
    "<a id='3'></a>\n",
    "## Análise geral"
   ]
  },
  {
   "cell_type": "markdown",
   "metadata": {},
   "source": [
    "##### Forma dos dados"
   ]
  },
  {
   "cell_type": "code",
   "execution_count": 6,
   "metadata": {},
   "outputs": [
    {
     "name": "stdout",
     "output_type": "stream",
     "text": [
      "O banco de dados apresenta:\n",
      "   - 11418 instâncias\n",
      "   - 30 colunas\n"
     ]
    }
   ],
   "source": [
    "print(\"O banco de dados apresenta:\")\n",
    "print(f\"   - {df.shape[0]} instâncias\")\n",
    "print(f\"   - {df.shape[1]} colunas\")"
   ]
  },
  {
   "cell_type": "markdown",
   "metadata": {},
   "source": [
    "##### Sumário dos dados"
   ]
  },
  {
   "cell_type": "code",
   "execution_count": 7,
   "metadata": {},
   "outputs": [
    {
     "data": {
      "text/html": [
       "<div>\n",
       "<style scoped>\n",
       "    .dataframe tbody tr th:only-of-type {\n",
       "        vertical-align: middle;\n",
       "    }\n",
       "\n",
       "    .dataframe tbody tr th {\n",
       "        vertical-align: top;\n",
       "    }\n",
       "\n",
       "    .dataframe thead th {\n",
       "        text-align: right;\n",
       "    }\n",
       "</style>\n",
       "<table border=\"1\" class=\"dataframe\">\n",
       "  <thead>\n",
       "    <tr style=\"text-align: right;\">\n",
       "      <th></th>\n",
       "      <th>dType</th>\n",
       "      <th>Valores Faltantes</th>\n",
       "      <th>Valores Únicos</th>\n",
       "      <th>Contagem</th>\n",
       "    </tr>\n",
       "  </thead>\n",
       "  <tbody>\n",
       "    <tr>\n",
       "      <th>LINE</th>\n",
       "      <td>object</td>\n",
       "      <td>0</td>\n",
       "      <td>228</td>\n",
       "      <td>11418</td>\n",
       "    </tr>\n",
       "    <tr>\n",
       "      <th>X</th>\n",
       "      <td>float64</td>\n",
       "      <td>0</td>\n",
       "      <td>95</td>\n",
       "      <td>11418</td>\n",
       "    </tr>\n",
       "    <tr>\n",
       "      <th>Y</th>\n",
       "      <td>float64</td>\n",
       "      <td>0</td>\n",
       "      <td>228</td>\n",
       "      <td>11418</td>\n",
       "    </tr>\n",
       "    <tr>\n",
       "      <th>X_UTM_23S_</th>\n",
       "      <td>float64</td>\n",
       "      <td>0</td>\n",
       "      <td>101</td>\n",
       "      <td>11418</td>\n",
       "    </tr>\n",
       "    <tr>\n",
       "      <th>Y_UTM_23S_</th>\n",
       "      <td>float64</td>\n",
       "      <td>0</td>\n",
       "      <td>238</td>\n",
       "      <td>11418</td>\n",
       "    </tr>\n",
       "    <tr>\n",
       "      <th>SIGNAL</th>\n",
       "      <td>float64</td>\n",
       "      <td>0</td>\n",
       "      <td>10694</td>\n",
       "      <td>11418</td>\n",
       "    </tr>\n",
       "    <tr>\n",
       "      <th>K_PERC</th>\n",
       "      <td>float64</td>\n",
       "      <td>0</td>\n",
       "      <td>509</td>\n",
       "      <td>11418</td>\n",
       "    </tr>\n",
       "    <tr>\n",
       "      <th>TH_PPM</th>\n",
       "      <td>float64</td>\n",
       "      <td>0</td>\n",
       "      <td>2557</td>\n",
       "      <td>11418</td>\n",
       "    </tr>\n",
       "    <tr>\n",
       "      <th>U_PPM</th>\n",
       "      <td>float64</td>\n",
       "      <td>0</td>\n",
       "      <td>850</td>\n",
       "      <td>11418</td>\n",
       "    </tr>\n",
       "    <tr>\n",
       "      <th>TC_EXP</th>\n",
       "      <td>float64</td>\n",
       "      <td>0</td>\n",
       "      <td>1547</td>\n",
       "      <td>11418</td>\n",
       "    </tr>\n",
       "    <tr>\n",
       "      <th>U_K</th>\n",
       "      <td>float64</td>\n",
       "      <td>0</td>\n",
       "      <td>1492</td>\n",
       "      <td>11418</td>\n",
       "    </tr>\n",
       "    <tr>\n",
       "      <th>TH_K</th>\n",
       "      <td>float64</td>\n",
       "      <td>0</td>\n",
       "      <td>2723</td>\n",
       "      <td>11418</td>\n",
       "    </tr>\n",
       "    <tr>\n",
       "      <th>U_TH</th>\n",
       "      <td>float64</td>\n",
       "      <td>0</td>\n",
       "      <td>150</td>\n",
       "      <td>11418</td>\n",
       "    </tr>\n",
       "    <tr>\n",
       "      <th>MDT</th>\n",
       "      <td>float64</td>\n",
       "      <td>0</td>\n",
       "      <td>8079</td>\n",
       "      <td>11418</td>\n",
       "    </tr>\n",
       "    <tr>\n",
       "      <th>MDE</th>\n",
       "      <td>int64</td>\n",
       "      <td>0</td>\n",
       "      <td>299</td>\n",
       "      <td>11418</td>\n",
       "    </tr>\n",
       "    <tr>\n",
       "      <th>B01</th>\n",
       "      <td>int64</td>\n",
       "      <td>0</td>\n",
       "      <td>2123</td>\n",
       "      <td>11418</td>\n",
       "    </tr>\n",
       "    <tr>\n",
       "      <th>B02</th>\n",
       "      <td>int64</td>\n",
       "      <td>0</td>\n",
       "      <td>2442</td>\n",
       "      <td>11418</td>\n",
       "    </tr>\n",
       "    <tr>\n",
       "      <th>B03</th>\n",
       "      <td>int64</td>\n",
       "      <td>0</td>\n",
       "      <td>2969</td>\n",
       "      <td>11418</td>\n",
       "    </tr>\n",
       "    <tr>\n",
       "      <th>B04</th>\n",
       "      <td>int64</td>\n",
       "      <td>0</td>\n",
       "      <td>4065</td>\n",
       "      <td>11418</td>\n",
       "    </tr>\n",
       "    <tr>\n",
       "      <th>B05</th>\n",
       "      <td>int64</td>\n",
       "      <td>0</td>\n",
       "      <td>4678</td>\n",
       "      <td>11418</td>\n",
       "    </tr>\n",
       "    <tr>\n",
       "      <th>B06</th>\n",
       "      <td>int64</td>\n",
       "      <td>0</td>\n",
       "      <td>6538</td>\n",
       "      <td>11418</td>\n",
       "    </tr>\n",
       "    <tr>\n",
       "      <th>B07</th>\n",
       "      <td>int64</td>\n",
       "      <td>0</td>\n",
       "      <td>6278</td>\n",
       "      <td>11418</td>\n",
       "    </tr>\n",
       "    <tr>\n",
       "      <th>B08</th>\n",
       "      <td>int64</td>\n",
       "      <td>0</td>\n",
       "      <td>3519</td>\n",
       "      <td>11418</td>\n",
       "    </tr>\n",
       "    <tr>\n",
       "      <th>B09</th>\n",
       "      <td>int64</td>\n",
       "      <td>0</td>\n",
       "      <td>94</td>\n",
       "      <td>11418</td>\n",
       "    </tr>\n",
       "    <tr>\n",
       "      <th>LAND7_R</th>\n",
       "      <td>int64</td>\n",
       "      <td>0</td>\n",
       "      <td>251</td>\n",
       "      <td>11418</td>\n",
       "    </tr>\n",
       "    <tr>\n",
       "      <th>LAND7_G</th>\n",
       "      <td>int64</td>\n",
       "      <td>0</td>\n",
       "      <td>255</td>\n",
       "      <td>11418</td>\n",
       "    </tr>\n",
       "    <tr>\n",
       "      <th>LAND7_B</th>\n",
       "      <td>int64</td>\n",
       "      <td>0</td>\n",
       "      <td>256</td>\n",
       "      <td>11418</td>\n",
       "    </tr>\n",
       "    <tr>\n",
       "      <th>ID_UNID</th>\n",
       "      <td>int64</td>\n",
       "      <td>0</td>\n",
       "      <td>6</td>\n",
       "      <td>11418</td>\n",
       "    </tr>\n",
       "    <tr>\n",
       "      <th>UNID</th>\n",
       "      <td>object</td>\n",
       "      <td>0</td>\n",
       "      <td>6</td>\n",
       "      <td>11418</td>\n",
       "    </tr>\n",
       "    <tr>\n",
       "      <th>COD_UNID</th>\n",
       "      <td>object</td>\n",
       "      <td>0</td>\n",
       "      <td>6</td>\n",
       "      <td>11418</td>\n",
       "    </tr>\n",
       "  </tbody>\n",
       "</table>\n",
       "</div>"
      ],
      "text/plain": [
       "              dType  Valores Faltantes  Valores Únicos  Contagem\n",
       "LINE         object                  0             228     11418\n",
       "X           float64                  0              95     11418\n",
       "Y           float64                  0             228     11418\n",
       "X_UTM_23S_  float64                  0             101     11418\n",
       "Y_UTM_23S_  float64                  0             238     11418\n",
       "SIGNAL      float64                  0           10694     11418\n",
       "K_PERC      float64                  0             509     11418\n",
       "TH_PPM      float64                  0            2557     11418\n",
       "U_PPM       float64                  0             850     11418\n",
       "TC_EXP      float64                  0            1547     11418\n",
       "U_K         float64                  0            1492     11418\n",
       "TH_K        float64                  0            2723     11418\n",
       "U_TH        float64                  0             150     11418\n",
       "MDT         float64                  0            8079     11418\n",
       "MDE           int64                  0             299     11418\n",
       "B01           int64                  0            2123     11418\n",
       "B02           int64                  0            2442     11418\n",
       "B03           int64                  0            2969     11418\n",
       "B04           int64                  0            4065     11418\n",
       "B05           int64                  0            4678     11418\n",
       "B06           int64                  0            6538     11418\n",
       "B07           int64                  0            6278     11418\n",
       "B08           int64                  0            3519     11418\n",
       "B09           int64                  0              94     11418\n",
       "LAND7_R       int64                  0             251     11418\n",
       "LAND7_G       int64                  0             255     11418\n",
       "LAND7_B       int64                  0             256     11418\n",
       "ID_UNID       int64                  0               6     11418\n",
       "UNID         object                  0               6     11418\n",
       "COD_UNID     object                  0               6     11418"
      ]
     },
     "execution_count": 7,
     "metadata": {},
     "output_type": "execute_result"
    }
   ],
   "source": [
    "datadict = pd.DataFrame(df.dtypes)\n",
    "datadict[\"Valores Faltantes\"] = df.isnull().sum()\n",
    "datadict[\"Valores Únicos\"] = df.nunique()\n",
    "datadict[\"Contagem\"] = df.count()\n",
    "datadict = datadict.rename(columns = {0 : 'dType'})\n",
    "datadict"
   ]
  },
  {
   "cell_type": "markdown",
   "metadata": {},
   "source": [
    "- Os dados geofísicos são do tipo *float64*;\n",
    "\n",
    "- Os sensores remotos são do tipo *int64*;\n",
    "\n",
    "- Não há valores faltantes no banco de dados;\n",
    "\n",
    "- `ID_UNID` representa o *target*;\n",
    "\n",
    "- `UNID` representa as siglas litoestratigráficas do *target* `ID_UNID`;\n",
    "\n",
    "- `COD_UNID` representa os códigos litoestratigráficos do *target* `ID_UNID`;\n",
    "    \n",
    "- Todas as (possíveis) *features* são numéricas (*float* ou *int*)."
   ]
  },
  {
   "cell_type": "markdown",
   "metadata": {},
   "source": [
    "##### Renomeação das features"
   ]
  },
  {
   "cell_type": "code",
   "execution_count": 8,
   "metadata": {},
   "outputs": [],
   "source": [
    "# Dicionário para renomeação\n",
    "dic_rename = {'X_UTM_23S_SIRGAS'  : 'X_SIR',\n",
    "              'Y_UTM_23S_SIRGAS'  : 'Y_SIR',\n",
    "              'SIGNAL'            : 'GT',\n",
    "              'K_PERC'            : 'K',\n",
    "              'TH_PPM'            : 'TH',\n",
    "              'U_PPM'             : 'U',\n",
    "              'TC_EXP'            : 'CT',\n",
    "              'LAND7_R'           : 'R',\n",
    "              'LAND7_G'           : 'G',\n",
    "              'LAND7_B'           : 'B',\n",
    "              'ID_UNID'           : 'TARGET',\n",
    "              'COD_UNID'          : 'COD'\n",
    "             }\n",
    "\n",
    "df.rename(columns = dic_rename, inplace = True);"
   ]
  },
  {
   "cell_type": "markdown",
   "metadata": {},
   "source": [
    "##### Visualização das primeiras linhas do banco de dados"
   ]
  },
  {
   "cell_type": "code",
   "execution_count": 9,
   "metadata": {},
   "outputs": [
    {
     "data": {
      "text/html": [
       "<div>\n",
       "<style scoped>\n",
       "    .dataframe tbody tr th:only-of-type {\n",
       "        vertical-align: middle;\n",
       "    }\n",
       "\n",
       "    .dataframe tbody tr th {\n",
       "        vertical-align: top;\n",
       "    }\n",
       "\n",
       "    .dataframe thead th {\n",
       "        text-align: right;\n",
       "    }\n",
       "</style>\n",
       "<table border=\"1\" class=\"dataframe\">\n",
       "  <thead>\n",
       "    <tr style=\"text-align: right;\">\n",
       "      <th></th>\n",
       "      <th>LINE</th>\n",
       "      <th>X</th>\n",
       "      <th>Y</th>\n",
       "      <th>X_UTM_23S_</th>\n",
       "      <th>Y_UTM_23S_</th>\n",
       "      <th>GT</th>\n",
       "      <th>K</th>\n",
       "      <th>TH</th>\n",
       "      <th>U</th>\n",
       "      <th>CT</th>\n",
       "      <th>...</th>\n",
       "      <th>B06</th>\n",
       "      <th>B07</th>\n",
       "      <th>B08</th>\n",
       "      <th>B09</th>\n",
       "      <th>R</th>\n",
       "      <th>G</th>\n",
       "      <th>B</th>\n",
       "      <th>TARGET</th>\n",
       "      <th>UNID</th>\n",
       "      <th>COD</th>\n",
       "    </tr>\n",
       "  </thead>\n",
       "  <tbody>\n",
       "    <tr>\n",
       "      <th>0</th>\n",
       "      <td>L319</td>\n",
       "      <td>638687.5</td>\n",
       "      <td>7981562.5</td>\n",
       "      <td>638663.68</td>\n",
       "      <td>7981552.08</td>\n",
       "      <td>0.076001</td>\n",
       "      <td>0.38</td>\n",
       "      <td>3.98</td>\n",
       "      <td>2.21</td>\n",
       "      <td>3.56</td>\n",
       "      <td>...</td>\n",
       "      <td>15656</td>\n",
       "      <td>11371</td>\n",
       "      <td>7669</td>\n",
       "      <td>5089</td>\n",
       "      <td>208</td>\n",
       "      <td>199</td>\n",
       "      <td>185</td>\n",
       "      <td>6</td>\n",
       "      <td>Fm_GM</td>\n",
       "      <td>PP4egm</td>\n",
       "    </tr>\n",
       "    <tr>\n",
       "      <th>1</th>\n",
       "      <td>L318</td>\n",
       "      <td>638687.5</td>\n",
       "      <td>7981500.0</td>\n",
       "      <td>638663.68</td>\n",
       "      <td>7981489.58</td>\n",
       "      <td>0.054137</td>\n",
       "      <td>0.41</td>\n",
       "      <td>3.66</td>\n",
       "      <td>2.44</td>\n",
       "      <td>3.60</td>\n",
       "      <td>...</td>\n",
       "      <td>17906</td>\n",
       "      <td>13743</td>\n",
       "      <td>8706</td>\n",
       "      <td>5077</td>\n",
       "      <td>195</td>\n",
       "      <td>189</td>\n",
       "      <td>169</td>\n",
       "      <td>6</td>\n",
       "      <td>Fm_GM</td>\n",
       "      <td>PP4egm</td>\n",
       "    </tr>\n",
       "    <tr>\n",
       "      <th>2</th>\n",
       "      <td>L318</td>\n",
       "      <td>638750.0</td>\n",
       "      <td>7981500.0</td>\n",
       "      <td>638726.18</td>\n",
       "      <td>7981489.58</td>\n",
       "      <td>0.071591</td>\n",
       "      <td>0.57</td>\n",
       "      <td>5.30</td>\n",
       "      <td>2.63</td>\n",
       "      <td>4.23</td>\n",
       "      <td>...</td>\n",
       "      <td>17693</td>\n",
       "      <td>13716</td>\n",
       "      <td>8699</td>\n",
       "      <td>5083</td>\n",
       "      <td>197</td>\n",
       "      <td>160</td>\n",
       "      <td>153</td>\n",
       "      <td>6</td>\n",
       "      <td>Fm_GM</td>\n",
       "      <td>PP4egm</td>\n",
       "    </tr>\n",
       "    <tr>\n",
       "      <th>3</th>\n",
       "      <td>L318</td>\n",
       "      <td>638812.5</td>\n",
       "      <td>7981500.0</td>\n",
       "      <td>638788.68</td>\n",
       "      <td>7981489.58</td>\n",
       "      <td>0.055794</td>\n",
       "      <td>0.80</td>\n",
       "      <td>7.26</td>\n",
       "      <td>2.88</td>\n",
       "      <td>4.92</td>\n",
       "      <td>...</td>\n",
       "      <td>16064</td>\n",
       "      <td>11973</td>\n",
       "      <td>8334</td>\n",
       "      <td>5083</td>\n",
       "      <td>226</td>\n",
       "      <td>208</td>\n",
       "      <td>202</td>\n",
       "      <td>6</td>\n",
       "      <td>Fm_GM</td>\n",
       "      <td>PP4egm</td>\n",
       "    </tr>\n",
       "    <tr>\n",
       "      <th>4</th>\n",
       "      <td>L318</td>\n",
       "      <td>638875.0</td>\n",
       "      <td>7981500.0</td>\n",
       "      <td>638851.18</td>\n",
       "      <td>7981489.58</td>\n",
       "      <td>0.033372</td>\n",
       "      <td>1.05</td>\n",
       "      <td>9.20</td>\n",
       "      <td>3.17</td>\n",
       "      <td>5.54</td>\n",
       "      <td>...</td>\n",
       "      <td>15789</td>\n",
       "      <td>11648</td>\n",
       "      <td>8081</td>\n",
       "      <td>5085</td>\n",
       "      <td>161</td>\n",
       "      <td>167</td>\n",
       "      <td>130</td>\n",
       "      <td>6</td>\n",
       "      <td>Fm_GM</td>\n",
       "      <td>PP4egm</td>\n",
       "    </tr>\n",
       "    <tr>\n",
       "      <th>5</th>\n",
       "      <td>L317</td>\n",
       "      <td>638812.5</td>\n",
       "      <td>7981437.5</td>\n",
       "      <td>638788.68</td>\n",
       "      <td>7981427.08</td>\n",
       "      <td>0.028260</td>\n",
       "      <td>0.85</td>\n",
       "      <td>6.60</td>\n",
       "      <td>2.97</td>\n",
       "      <td>4.92</td>\n",
       "      <td>...</td>\n",
       "      <td>15269</td>\n",
       "      <td>11403</td>\n",
       "      <td>8028</td>\n",
       "      <td>5079</td>\n",
       "      <td>142</td>\n",
       "      <td>107</td>\n",
       "      <td>106</td>\n",
       "      <td>6</td>\n",
       "      <td>Fm_GM</td>\n",
       "      <td>PP4egm</td>\n",
       "    </tr>\n",
       "    <tr>\n",
       "      <th>6</th>\n",
       "      <td>L317</td>\n",
       "      <td>638687.5</td>\n",
       "      <td>7981437.5</td>\n",
       "      <td>638663.68</td>\n",
       "      <td>7981427.08</td>\n",
       "      <td>0.051313</td>\n",
       "      <td>0.44</td>\n",
       "      <td>3.20</td>\n",
       "      <td>2.62</td>\n",
       "      <td>3.62</td>\n",
       "      <td>...</td>\n",
       "      <td>18497</td>\n",
       "      <td>14848</td>\n",
       "      <td>9045</td>\n",
       "      <td>5091</td>\n",
       "      <td>226</td>\n",
       "      <td>175</td>\n",
       "      <td>200</td>\n",
       "      <td>6</td>\n",
       "      <td>Fm_GM</td>\n",
       "      <td>PP4egm</td>\n",
       "    </tr>\n",
       "    <tr>\n",
       "      <th>7</th>\n",
       "      <td>L317</td>\n",
       "      <td>638750.0</td>\n",
       "      <td>7981437.5</td>\n",
       "      <td>638726.18</td>\n",
       "      <td>7981427.08</td>\n",
       "      <td>0.047716</td>\n",
       "      <td>0.62</td>\n",
       "      <td>4.74</td>\n",
       "      <td>2.80</td>\n",
       "      <td>4.25</td>\n",
       "      <td>...</td>\n",
       "      <td>16202</td>\n",
       "      <td>12264</td>\n",
       "      <td>8508</td>\n",
       "      <td>5097</td>\n",
       "      <td>170</td>\n",
       "      <td>107</td>\n",
       "      <td>122</td>\n",
       "      <td>6</td>\n",
       "      <td>Fm_GM</td>\n",
       "      <td>PP4egm</td>\n",
       "    </tr>\n",
       "    <tr>\n",
       "      <th>8</th>\n",
       "      <td>L316</td>\n",
       "      <td>638687.5</td>\n",
       "      <td>7981375.0</td>\n",
       "      <td>638663.68</td>\n",
       "      <td>7981364.58</td>\n",
       "      <td>0.048052</td>\n",
       "      <td>0.49</td>\n",
       "      <td>2.99</td>\n",
       "      <td>2.77</td>\n",
       "      <td>3.63</td>\n",
       "      <td>...</td>\n",
       "      <td>17907</td>\n",
       "      <td>14332</td>\n",
       "      <td>8848</td>\n",
       "      <td>5082</td>\n",
       "      <td>224</td>\n",
       "      <td>150</td>\n",
       "      <td>198</td>\n",
       "      <td>6</td>\n",
       "      <td>Fm_GM</td>\n",
       "      <td>PP4egm</td>\n",
       "    </tr>\n",
       "    <tr>\n",
       "      <th>9</th>\n",
       "      <td>L316</td>\n",
       "      <td>638750.0</td>\n",
       "      <td>7981375.0</td>\n",
       "      <td>638726.18</td>\n",
       "      <td>7981364.58</td>\n",
       "      <td>0.044078</td>\n",
       "      <td>0.64</td>\n",
       "      <td>4.20</td>\n",
       "      <td>2.87</td>\n",
       "      <td>4.23</td>\n",
       "      <td>...</td>\n",
       "      <td>15765</td>\n",
       "      <td>11898</td>\n",
       "      <td>8060</td>\n",
       "      <td>5098</td>\n",
       "      <td>243</td>\n",
       "      <td>171</td>\n",
       "      <td>217</td>\n",
       "      <td>6</td>\n",
       "      <td>Fm_GM</td>\n",
       "      <td>PP4egm</td>\n",
       "    </tr>\n",
       "  </tbody>\n",
       "</table>\n",
       "<p>10 rows × 30 columns</p>\n",
       "</div>"
      ],
      "text/plain": [
       "   LINE         X          Y  X_UTM_23S_  Y_UTM_23S_        GT     K    TH  \\\n",
       "0  L319  638687.5  7981562.5   638663.68  7981552.08  0.076001  0.38  3.98   \n",
       "1  L318  638687.5  7981500.0   638663.68  7981489.58  0.054137  0.41  3.66   \n",
       "2  L318  638750.0  7981500.0   638726.18  7981489.58  0.071591  0.57  5.30   \n",
       "3  L318  638812.5  7981500.0   638788.68  7981489.58  0.055794  0.80  7.26   \n",
       "4  L318  638875.0  7981500.0   638851.18  7981489.58  0.033372  1.05  9.20   \n",
       "5  L317  638812.5  7981437.5   638788.68  7981427.08  0.028260  0.85  6.60   \n",
       "6  L317  638687.5  7981437.5   638663.68  7981427.08  0.051313  0.44  3.20   \n",
       "7  L317  638750.0  7981437.5   638726.18  7981427.08  0.047716  0.62  4.74   \n",
       "8  L316  638687.5  7981375.0   638663.68  7981364.58  0.048052  0.49  2.99   \n",
       "9  L316  638750.0  7981375.0   638726.18  7981364.58  0.044078  0.64  4.20   \n",
       "\n",
       "      U    CT  ...    B06    B07   B08   B09    R    G    B  TARGET   UNID  \\\n",
       "0  2.21  3.56  ...  15656  11371  7669  5089  208  199  185       6  Fm_GM   \n",
       "1  2.44  3.60  ...  17906  13743  8706  5077  195  189  169       6  Fm_GM   \n",
       "2  2.63  4.23  ...  17693  13716  8699  5083  197  160  153       6  Fm_GM   \n",
       "3  2.88  4.92  ...  16064  11973  8334  5083  226  208  202       6  Fm_GM   \n",
       "4  3.17  5.54  ...  15789  11648  8081  5085  161  167  130       6  Fm_GM   \n",
       "5  2.97  4.92  ...  15269  11403  8028  5079  142  107  106       6  Fm_GM   \n",
       "6  2.62  3.62  ...  18497  14848  9045  5091  226  175  200       6  Fm_GM   \n",
       "7  2.80  4.25  ...  16202  12264  8508  5097  170  107  122       6  Fm_GM   \n",
       "8  2.77  3.63  ...  17907  14332  8848  5082  224  150  198       6  Fm_GM   \n",
       "9  2.87  4.23  ...  15765  11898  8060  5098  243  171  217       6  Fm_GM   \n",
       "\n",
       "      COD  \n",
       "0  PP4egm  \n",
       "1  PP4egm  \n",
       "2  PP4egm  \n",
       "3  PP4egm  \n",
       "4  PP4egm  \n",
       "5  PP4egm  \n",
       "6  PP4egm  \n",
       "7  PP4egm  \n",
       "8  PP4egm  \n",
       "9  PP4egm  \n",
       "\n",
       "[10 rows x 30 columns]"
      ]
     },
     "execution_count": 9,
     "metadata": {},
     "output_type": "execute_result"
    }
   ],
   "source": [
    "df.head(10)"
   ]
  },
  {
   "cell_type": "markdown",
   "metadata": {},
   "source": [
    "<a id='4'></a>\n",
    "## Variáveis globais & funções auxiliares"
   ]
  },
  {
   "cell_type": "markdown",
   "metadata": {},
   "source": [
    "##### Variáveis globais"
   ]
  },
  {
   "cell_type": "code",
   "execution_count": 10,
   "metadata": {},
   "outputs": [],
   "source": [
    "# features\n",
    "FEAT = ['GT', 'K', 'TH', 'U', 'CT', 'U_K', 'TH_K',\n",
    "        'U_TH', 'MDT', 'MDE', 'B01', 'B02', 'B03',\n",
    "        'B04', 'B05', 'B06', 'B07', 'B08', 'B09',\n",
    "        'R', 'G', 'B']\n",
    "\n",
    "# dados geofísicos\n",
    "GF = ['GT', 'K', 'TH', 'U', 'CT',\n",
    "      'U_K', 'TH_K', 'U_TH']\n",
    "\n",
    "# canais radiométricos\n",
    "RADIO = ['K', 'TH', 'U']\n",
    "\n",
    "# sensores remotos\n",
    "SR = ['MDT', 'MDE', 'B01', 'B02','B03', 'B04', 'B05',\n",
    "      'B06', 'B07', 'B08', 'B09', 'R', 'G', 'B']\n",
    "\n",
    "# coordenadas em sirgas\n",
    "COORD = ['X_SIR', 'Y_SIR']\n",
    "\n",
    "# dicionário litoestratigráfico\n",
    "dic_lith = {}\n",
    "for k, v1, v2 in zip(df['TARGET'].unique(), df['UNID'].unique(), df['COD'].unique()):\n",
    "    dic_lith[k] = [v1, v2]\n",
    "    \n",
    "# Dicionário de features\n",
    "titles = ['Gradiente Total (nT/m)', 'K (%)', 'Th (ppm)', 'U (ppm)',\n",
    "          'Contagem Total (μR/h)', 'U/K', 'Th/K', 'U/Th', 'MDT (m)',\n",
    "          'MDE (m)', 'Landsat8 - 01', 'Landsat8 - 02', 'Landsat8 - 03',\n",
    "          'Landsat8 - 04', 'Landsat8 - 05', 'Landsat8 - 06', 'Landsat8 - 07',\n",
    "          'Landsat8 - 08', 'Landsat8 - 09', 'Landsat7 - Vermelho', 'Landsat7 - Verde',\n",
    "          'Landsat7 - Azul']\n",
    "dic_features = {}\n",
    "for f, t in zip(FEAT, titles):\n",
    "    dic_features[f] = t"
   ]
  },
  {
   "cell_type": "markdown",
   "metadata": {},
   "source": [
    "##### Parâmetros dos gráficos"
   ]
  },
  {
   "cell_type": "code",
   "execution_count": 11,
   "metadata": {},
   "outputs": [],
   "source": [
    "# fonte: Times New Roman, tamanho: 12\n",
    "plt.rcParams.update({'font.family':'Times New Roman', 'font.size' : 12})\n",
    "\n",
    "fs_title = 16    # tamanho da fonte dos títulos\n",
    "cm = 'jet'       # mapa de cores\n",
    "mk = 's'         # estilo do marcador (quadrado)\n",
    "sz = 1           # tamanho do marcador    \n",
    "col = 'orange'   # cor dos histogramas\n",
    "ec = 'black'     # cor das bordas dos histogramas"
   ]
  },
  {
   "cell_type": "markdown",
   "metadata": {},
   "source": [
    "##### truncateVar(data :: dataframe, col :: string)\n",
    "\n",
    "Realiza o truncamento de uma variável radiométrica `col`, tendo como referência os limiares inferior (*lower*) e superior (*upper*):"
   ]
  },
  {
   "cell_type": "code",
   "execution_count": 12,
   "metadata": {},
   "outputs": [],
   "source": [
    "def truncateVar(data = None, col = None):\n",
    "\n",
    "    lower = data[col].mean() / 10\n",
    "    upper = data[col].quantile(0.995)\n",
    "    var_trunc = []\n",
    "    \n",
    "    for v in data[col]:\n",
    "        if v <= lower:\n",
    "            v = lower\n",
    "            var_trunc.append(v)\n",
    "        elif v >= upper:\n",
    "            v = upper\n",
    "            var_trunc.append(v)\n",
    "        else:\n",
    "            var_trunc.append(v)\n",
    "        \n",
    "    return pd.Series(var_trunc)"
   ]
  },
  {
   "cell_type": "markdown",
   "metadata": {},
   "source": [
    "##### sumStats(df :: dataframe)\n",
    "\n",
    "Cria um sumário estatístico completo de um dataframe `df`."
   ]
  },
  {
   "cell_type": "code",
   "execution_count": 13,
   "metadata": {},
   "outputs": [],
   "source": [
    "def sumStats(df = None):\n",
    "    stats = df.describe(percentiles = [0.1, 0.5, 0.995]).T\n",
    "\n",
    "    stats['Amp'] = (df.max() - df.min()).tolist() # amplitude\n",
    "    stats['S²'] = df.var().tolist() # variância\n",
    "    stats['Cᵥ'] = (df.std() / df.mean()).tolist() # coeficiente de variação\n",
    "    stats['Skew'] = df.skew().tolist() # coeficiente de assimetria\n",
    "    stats = stats.rename(columns={'mean':'X̅','std':'S','min':'Min','max':'Max'})\n",
    "    \n",
    "    return stats[['X̅', '50%', 'Min','10%','99.5%','Max','Amp','S²','S','Cᵥ','Skew']]"
   ]
  },
  {
   "cell_type": "markdown",
   "metadata": {},
   "source": [
    "##### plotBoxplots(cols :: list)\n",
    "\n",
    "Plota `n` boxplots, sendo `n` o número de features presentes na lista `cols`."
   ]
  },
  {
   "cell_type": "code",
   "execution_count": 14,
   "metadata": {},
   "outputs": [],
   "source": [
    "def plotBoxplots(cols = None):\n",
    "    \n",
    "    n = len(cols)\n",
    "    fig, axs = plt.subplots(n,1,figsize = (12, n * 2))\n",
    "    \n",
    "    for ax, f in zip(axs, cols):\n",
    "        sns.boxplot(y = f, x = 'COD', data = df, ax = ax)\n",
    "        if f != cols[n - 1]:\n",
    "            ax.axes.get_xaxis().set_visible(False)"
   ]
  },
  {
   "cell_type": "markdown",
   "metadata": {},
   "source": [
    "##### sumByLito(f :: string)\n",
    "\n",
    "Cria um sumário estatístico completo de uma feature `f` agrupado pelas unidades litoestratigráficas."
   ]
  },
  {
   "cell_type": "code",
   "execution_count": 15,
   "metadata": {},
   "outputs": [],
   "source": [
    "def sumByLito(f = None):\n",
    "    \n",
    "    table = df[['COD', f]].groupby(by = 'COD')\n",
    "    stats = table.describe(percentiles = [0.1,0.995])\n",
    "    \n",
    "    return stats.T"
   ]
  },
  {
   "cell_type": "markdown",
   "metadata": {},
   "source": [
    "##### histByLito(f :: string)\n",
    "\n",
    "Plota histogramas de uma feature `f` agrupados pelas unidades litoestratigráficas."
   ]
  },
  {
   "cell_type": "code",
   "execution_count": 16,
   "metadata": {},
   "outputs": [],
   "source": [
    "def histByLito(f = None):\n",
    "    \n",
    "    df[f].hist(by = df['COD'],\n",
    "                 figsize = (12, 9),\n",
    "                 edgecolor = ec,\n",
    "                 color = col)\n",
    "    plt.tight_layout();"
   ]
  },
  {
   "cell_type": "markdown",
   "metadata": {},
   "source": [
    "<a id='5'></a>\n",
    "\n",
    "## Limpeza dos dados"
   ]
  },
  {
   "cell_type": "markdown",
   "metadata": {},
   "source": [
    "##### Sumário estatístico das features geofísicas"
   ]
  },
  {
   "cell_type": "code",
   "execution_count": 17,
   "metadata": {},
   "outputs": [
    {
     "data": {
      "text/html": [
       "<div>\n",
       "<style scoped>\n",
       "    .dataframe tbody tr th:only-of-type {\n",
       "        vertical-align: middle;\n",
       "    }\n",
       "\n",
       "    .dataframe tbody tr th {\n",
       "        vertical-align: top;\n",
       "    }\n",
       "\n",
       "    .dataframe thead th {\n",
       "        text-align: right;\n",
       "    }\n",
       "</style>\n",
       "<table border=\"1\" class=\"dataframe\">\n",
       "  <thead>\n",
       "    <tr style=\"text-align: right;\">\n",
       "      <th></th>\n",
       "      <th>count</th>\n",
       "      <th>mean</th>\n",
       "      <th>std</th>\n",
       "      <th>min</th>\n",
       "      <th>10%</th>\n",
       "      <th>25%</th>\n",
       "      <th>50%</th>\n",
       "      <th>75%</th>\n",
       "      <th>99.5%</th>\n",
       "      <th>max</th>\n",
       "    </tr>\n",
       "  </thead>\n",
       "  <tbody>\n",
       "    <tr>\n",
       "      <th>GT</th>\n",
       "      <td>11418.0</td>\n",
       "      <td>0.048625</td>\n",
       "      <td>0.050442</td>\n",
       "      <td>0.00</td>\n",
       "      <td>0.011728</td>\n",
       "      <td>0.018873</td>\n",
       "      <td>0.033145</td>\n",
       "      <td>0.060799</td>\n",
       "      <td>0.272914</td>\n",
       "      <td>0.962399</td>\n",
       "    </tr>\n",
       "    <tr>\n",
       "      <th>K</th>\n",
       "      <td>11418.0</td>\n",
       "      <td>1.020346</td>\n",
       "      <td>0.970971</td>\n",
       "      <td>-0.20</td>\n",
       "      <td>0.190000</td>\n",
       "      <td>0.320000</td>\n",
       "      <td>0.640000</td>\n",
       "      <td>1.470000</td>\n",
       "      <td>4.719150</td>\n",
       "      <td>6.790000</td>\n",
       "    </tr>\n",
       "    <tr>\n",
       "      <th>TH</th>\n",
       "      <td>11418.0</td>\n",
       "      <td>9.040604</td>\n",
       "      <td>7.120726</td>\n",
       "      <td>0.15</td>\n",
       "      <td>2.600000</td>\n",
       "      <td>3.720000</td>\n",
       "      <td>6.450000</td>\n",
       "      <td>12.490000</td>\n",
       "      <td>34.077900</td>\n",
       "      <td>46.810000</td>\n",
       "    </tr>\n",
       "    <tr>\n",
       "      <th>U</th>\n",
       "      <td>11418.0</td>\n",
       "      <td>3.432387</td>\n",
       "      <td>1.798660</td>\n",
       "      <td>0.68</td>\n",
       "      <td>1.520000</td>\n",
       "      <td>1.990000</td>\n",
       "      <td>2.945000</td>\n",
       "      <td>4.650000</td>\n",
       "      <td>9.009150</td>\n",
       "      <td>10.780000</td>\n",
       "    </tr>\n",
       "    <tr>\n",
       "      <th>CT</th>\n",
       "      <td>11418.0</td>\n",
       "      <td>6.370295</td>\n",
       "      <td>3.983452</td>\n",
       "      <td>1.28</td>\n",
       "      <td>2.460000</td>\n",
       "      <td>3.120000</td>\n",
       "      <td>4.930000</td>\n",
       "      <td>9.190000</td>\n",
       "      <td>17.220000</td>\n",
       "      <td>19.280000</td>\n",
       "    </tr>\n",
       "    <tr>\n",
       "      <th>U_K</th>\n",
       "      <td>11418.0</td>\n",
       "      <td>5.380546</td>\n",
       "      <td>3.393909</td>\n",
       "      <td>0.97</td>\n",
       "      <td>2.120000</td>\n",
       "      <td>2.950000</td>\n",
       "      <td>4.420000</td>\n",
       "      <td>6.760000</td>\n",
       "      <td>18.119150</td>\n",
       "      <td>23.730000</td>\n",
       "    </tr>\n",
       "    <tr>\n",
       "      <th>TH_K</th>\n",
       "      <td>11418.0</td>\n",
       "      <td>12.626573</td>\n",
       "      <td>10.279783</td>\n",
       "      <td>2.23</td>\n",
       "      <td>5.310000</td>\n",
       "      <td>6.960000</td>\n",
       "      <td>9.840000</td>\n",
       "      <td>14.480000</td>\n",
       "      <td>74.419150</td>\n",
       "      <td>106.870000</td>\n",
       "    </tr>\n",
       "    <tr>\n",
       "      <th>U_TH</th>\n",
       "      <td>11418.0</td>\n",
       "      <td>0.479001</td>\n",
       "      <td>0.200478</td>\n",
       "      <td>0.11</td>\n",
       "      <td>0.270000</td>\n",
       "      <td>0.330000</td>\n",
       "      <td>0.450000</td>\n",
       "      <td>0.580000</td>\n",
       "      <td>1.290000</td>\n",
       "      <td>1.860000</td>\n",
       "    </tr>\n",
       "  </tbody>\n",
       "</table>\n",
       "</div>"
      ],
      "text/plain": [
       "        count       mean        std   min       10%       25%       50%  \\\n",
       "GT    11418.0   0.048625   0.050442  0.00  0.011728  0.018873  0.033145   \n",
       "K     11418.0   1.020346   0.970971 -0.20  0.190000  0.320000  0.640000   \n",
       "TH    11418.0   9.040604   7.120726  0.15  2.600000  3.720000  6.450000   \n",
       "U     11418.0   3.432387   1.798660  0.68  1.520000  1.990000  2.945000   \n",
       "CT    11418.0   6.370295   3.983452  1.28  2.460000  3.120000  4.930000   \n",
       "U_K   11418.0   5.380546   3.393909  0.97  2.120000  2.950000  4.420000   \n",
       "TH_K  11418.0  12.626573  10.279783  2.23  5.310000  6.960000  9.840000   \n",
       "U_TH  11418.0   0.479001   0.200478  0.11  0.270000  0.330000  0.450000   \n",
       "\n",
       "            75%      99.5%         max  \n",
       "GT     0.060799   0.272914    0.962399  \n",
       "K      1.470000   4.719150    6.790000  \n",
       "TH    12.490000  34.077900   46.810000  \n",
       "U      4.650000   9.009150   10.780000  \n",
       "CT     9.190000  17.220000   19.280000  \n",
       "U_K    6.760000  18.119150   23.730000  \n",
       "TH_K  14.480000  74.419150  106.870000  \n",
       "U_TH   0.580000   1.290000    1.860000  "
      ]
     },
     "execution_count": 17,
     "metadata": {},
     "output_type": "execute_result"
    }
   ],
   "source": [
    "df[GF].describe(percentiles = [0.10, 0.25, 0.50, 0.75, 0.995]).T"
   ]
  },
  {
   "cell_type": "code",
   "execution_count": 18,
   "metadata": {},
   "outputs": [
    {
     "data": {
      "text/plain": [
       "88"
      ]
     },
     "execution_count": 18,
     "metadata": {},
     "output_type": "execute_result"
    }
   ],
   "source": [
    "# número de valores negativos de K\n",
    "df.query('K < 0')['K'].count()"
   ]
  },
  {
   "cell_type": "markdown",
   "metadata": {},
   "source": [
    "- Presença de 88 exemplos com valores negativos de `K`."
   ]
  },
  {
   "cell_type": "markdown",
   "metadata": {},
   "source": [
    "##### Truncamento das  variáveis radiométricas\n",
    "\n",
    "- Nesta etapa, devemos truncar as variáveis radiométricas principais (*i.e.*, `K`, `TH` e `U`), utilizando a função auxiliar `truncateVar()`."
   ]
  },
  {
   "cell_type": "code",
   "execution_count": 19,
   "metadata": {},
   "outputs": [],
   "source": [
    "# Truncamento da features radiométricas (K, U, TH):\n",
    "for r in RADIO:\n",
    "    df[r] = truncateVar(data = df, col = r)"
   ]
  },
  {
   "cell_type": "code",
   "execution_count": 20,
   "metadata": {},
   "outputs": [
    {
     "data": {
      "text/html": [
       "<div>\n",
       "<style scoped>\n",
       "    .dataframe tbody tr th:only-of-type {\n",
       "        vertical-align: middle;\n",
       "    }\n",
       "\n",
       "    .dataframe tbody tr th {\n",
       "        vertical-align: top;\n",
       "    }\n",
       "\n",
       "    .dataframe thead th {\n",
       "        text-align: right;\n",
       "    }\n",
       "</style>\n",
       "<table border=\"1\" class=\"dataframe\">\n",
       "  <thead>\n",
       "    <tr style=\"text-align: right;\">\n",
       "      <th></th>\n",
       "      <th>count</th>\n",
       "      <th>mean</th>\n",
       "      <th>std</th>\n",
       "      <th>min</th>\n",
       "      <th>10%</th>\n",
       "      <th>25%</th>\n",
       "      <th>50%</th>\n",
       "      <th>75%</th>\n",
       "      <th>99.5%</th>\n",
       "      <th>max</th>\n",
       "    </tr>\n",
       "  </thead>\n",
       "  <tbody>\n",
       "    <tr>\n",
       "      <th>GT</th>\n",
       "      <td>11418.0</td>\n",
       "      <td>0.048625</td>\n",
       "      <td>0.050442</td>\n",
       "      <td>0.000000</td>\n",
       "      <td>0.011728</td>\n",
       "      <td>0.018873</td>\n",
       "      <td>0.033145</td>\n",
       "      <td>0.060799</td>\n",
       "      <td>0.272914</td>\n",
       "      <td>0.962399</td>\n",
       "    </tr>\n",
       "    <tr>\n",
       "      <th>K</th>\n",
       "      <td>11418.0</td>\n",
       "      <td>1.019616</td>\n",
       "      <td>0.954047</td>\n",
       "      <td>0.102035</td>\n",
       "      <td>0.190000</td>\n",
       "      <td>0.320000</td>\n",
       "      <td>0.640000</td>\n",
       "      <td>1.470000</td>\n",
       "      <td>4.718372</td>\n",
       "      <td>4.719150</td>\n",
       "    </tr>\n",
       "    <tr>\n",
       "      <th>TH</th>\n",
       "      <td>11418.0</td>\n",
       "      <td>9.012547</td>\n",
       "      <td>7.000011</td>\n",
       "      <td>0.904060</td>\n",
       "      <td>2.600000</td>\n",
       "      <td>3.720000</td>\n",
       "      <td>6.450000</td>\n",
       "      <td>12.490000</td>\n",
       "      <td>34.057678</td>\n",
       "      <td>34.077900</td>\n",
       "    </tr>\n",
       "    <tr>\n",
       "      <th>U</th>\n",
       "      <td>11418.0</td>\n",
       "      <td>3.428294</td>\n",
       "      <td>1.784558</td>\n",
       "      <td>0.680000</td>\n",
       "      <td>1.520000</td>\n",
       "      <td>1.990000</td>\n",
       "      <td>2.945000</td>\n",
       "      <td>4.650000</td>\n",
       "      <td>9.008372</td>\n",
       "      <td>9.009150</td>\n",
       "    </tr>\n",
       "    <tr>\n",
       "      <th>CT</th>\n",
       "      <td>11418.0</td>\n",
       "      <td>6.370295</td>\n",
       "      <td>3.983452</td>\n",
       "      <td>1.280000</td>\n",
       "      <td>2.460000</td>\n",
       "      <td>3.120000</td>\n",
       "      <td>4.930000</td>\n",
       "      <td>9.190000</td>\n",
       "      <td>17.220000</td>\n",
       "      <td>19.280000</td>\n",
       "    </tr>\n",
       "    <tr>\n",
       "      <th>U_K</th>\n",
       "      <td>11418.0</td>\n",
       "      <td>5.380546</td>\n",
       "      <td>3.393909</td>\n",
       "      <td>0.970000</td>\n",
       "      <td>2.120000</td>\n",
       "      <td>2.950000</td>\n",
       "      <td>4.420000</td>\n",
       "      <td>6.760000</td>\n",
       "      <td>18.119150</td>\n",
       "      <td>23.730000</td>\n",
       "    </tr>\n",
       "    <tr>\n",
       "      <th>TH_K</th>\n",
       "      <td>11418.0</td>\n",
       "      <td>12.626573</td>\n",
       "      <td>10.279783</td>\n",
       "      <td>2.230000</td>\n",
       "      <td>5.310000</td>\n",
       "      <td>6.960000</td>\n",
       "      <td>9.840000</td>\n",
       "      <td>14.480000</td>\n",
       "      <td>74.419150</td>\n",
       "      <td>106.870000</td>\n",
       "    </tr>\n",
       "    <tr>\n",
       "      <th>U_TH</th>\n",
       "      <td>11418.0</td>\n",
       "      <td>0.479001</td>\n",
       "      <td>0.200478</td>\n",
       "      <td>0.110000</td>\n",
       "      <td>0.270000</td>\n",
       "      <td>0.330000</td>\n",
       "      <td>0.450000</td>\n",
       "      <td>0.580000</td>\n",
       "      <td>1.290000</td>\n",
       "      <td>1.860000</td>\n",
       "    </tr>\n",
       "  </tbody>\n",
       "</table>\n",
       "</div>"
      ],
      "text/plain": [
       "        count       mean        std       min       10%       25%       50%  \\\n",
       "GT    11418.0   0.048625   0.050442  0.000000  0.011728  0.018873  0.033145   \n",
       "K     11418.0   1.019616   0.954047  0.102035  0.190000  0.320000  0.640000   \n",
       "TH    11418.0   9.012547   7.000011  0.904060  2.600000  3.720000  6.450000   \n",
       "U     11418.0   3.428294   1.784558  0.680000  1.520000  1.990000  2.945000   \n",
       "CT    11418.0   6.370295   3.983452  1.280000  2.460000  3.120000  4.930000   \n",
       "U_K   11418.0   5.380546   3.393909  0.970000  2.120000  2.950000  4.420000   \n",
       "TH_K  11418.0  12.626573  10.279783  2.230000  5.310000  6.960000  9.840000   \n",
       "U_TH  11418.0   0.479001   0.200478  0.110000  0.270000  0.330000  0.450000   \n",
       "\n",
       "            75%      99.5%         max  \n",
       "GT     0.060799   0.272914    0.962399  \n",
       "K      1.470000   4.718372    4.719150  \n",
       "TH    12.490000  34.057678   34.077900  \n",
       "U      4.650000   9.008372    9.009150  \n",
       "CT     9.190000  17.220000   19.280000  \n",
       "U_K    6.760000  18.119150   23.730000  \n",
       "TH_K  14.480000  74.419150  106.870000  \n",
       "U_TH   0.580000   1.290000    1.860000  "
      ]
     },
     "execution_count": 20,
     "metadata": {},
     "output_type": "execute_result"
    }
   ],
   "source": [
    "# sumário estatístico após o truncamento\n",
    "df[GF].describe(percentiles = [0.10, 0.25, 0.50, 0.75, 0.995]).T"
   ]
  },
  {
   "cell_type": "markdown",
   "metadata": {},
   "source": [
    "- Repare que o truncamento foi realizado com êxito. Após esse tratamento, os valores máximos das variáveis correspondem aos seus P99.5 originais, ao passo que seus valores mínimos correspondem um décimo das médias originais. "
   ]
  },
  {
   "cell_type": "markdown",
   "metadata": {},
   "source": [
    "<a id='6'></a>\n",
    "## Análise exploratória"
   ]
  },
  {
   "cell_type": "markdown",
   "metadata": {},
   "source": [
    "### Visualização espacial das features"
   ]
  },
  {
   "cell_type": "code",
   "execution_count": 21,
   "metadata": {},
   "outputs": [
    {
     "ename": "KeyError",
     "evalue": "'Y_SIR'",
     "output_type": "error",
     "traceback": [
      "\u001b[1;31m---------------------------------------------------------------------------\u001b[0m",
      "\u001b[1;31mKeyError\u001b[0m                                  Traceback (most recent call last)",
      "\u001b[1;32m~\\anaconda3\\envs\\MP\\lib\\site-packages\\pandas\\core\\indexes\\base.py\u001b[0m in \u001b[0;36mget_loc\u001b[1;34m(self, key, method, tolerance)\u001b[0m\n\u001b[0;32m   2645\u001b[0m             \u001b[1;32mtry\u001b[0m\u001b[1;33m:\u001b[0m\u001b[1;33m\u001b[0m\u001b[1;33m\u001b[0m\u001b[0m\n\u001b[1;32m-> 2646\u001b[1;33m                 \u001b[1;32mreturn\u001b[0m \u001b[0mself\u001b[0m\u001b[1;33m.\u001b[0m\u001b[0m_engine\u001b[0m\u001b[1;33m.\u001b[0m\u001b[0mget_loc\u001b[0m\u001b[1;33m(\u001b[0m\u001b[0mkey\u001b[0m\u001b[1;33m)\u001b[0m\u001b[1;33m\u001b[0m\u001b[1;33m\u001b[0m\u001b[0m\n\u001b[0m\u001b[0;32m   2647\u001b[0m             \u001b[1;32mexcept\u001b[0m \u001b[0mKeyError\u001b[0m\u001b[1;33m:\u001b[0m\u001b[1;33m\u001b[0m\u001b[1;33m\u001b[0m\u001b[0m\n",
      "\u001b[1;32mpandas\\_libs\\index.pyx\u001b[0m in \u001b[0;36mpandas._libs.index.IndexEngine.get_loc\u001b[1;34m()\u001b[0m\n",
      "\u001b[1;32mpandas\\_libs\\index.pyx\u001b[0m in \u001b[0;36mpandas._libs.index.IndexEngine.get_loc\u001b[1;34m()\u001b[0m\n",
      "\u001b[1;32mpandas\\_libs\\hashtable_class_helper.pxi\u001b[0m in \u001b[0;36mpandas._libs.hashtable.PyObjectHashTable.get_item\u001b[1;34m()\u001b[0m\n",
      "\u001b[1;32mpandas\\_libs\\hashtable_class_helper.pxi\u001b[0m in \u001b[0;36mpandas._libs.hashtable.PyObjectHashTable.get_item\u001b[1;34m()\u001b[0m\n",
      "\u001b[1;31mKeyError\u001b[0m: 'Y_SIR'",
      "\nDuring handling of the above exception, another exception occurred:\n",
      "\u001b[1;31mKeyError\u001b[0m                                  Traceback (most recent call last)",
      "\u001b[1;32m<ipython-input-21-1684ba54e6a9>\u001b[0m in \u001b[0;36m<module>\u001b[1;34m\u001b[0m\n\u001b[0;32m      3\u001b[0m \u001b[1;33m\u001b[0m\u001b[0m\n\u001b[0;32m      4\u001b[0m \u001b[1;31m# divisão realizada para fins de plotagem\u001b[0m\u001b[1;33m\u001b[0m\u001b[1;33m\u001b[0m\u001b[1;33m\u001b[0m\u001b[0m\n\u001b[1;32m----> 5\u001b[1;33m \u001b[0mdf_plt\u001b[0m\u001b[1;33m[\u001b[0m\u001b[1;34m'Y_SIR'\u001b[0m\u001b[1;33m]\u001b[0m \u001b[1;33m=\u001b[0m \u001b[0mdf_plt\u001b[0m\u001b[1;33m[\u001b[0m\u001b[1;34m'Y_SIR'\u001b[0m\u001b[1;33m]\u001b[0m \u001b[1;33m/\u001b[0m \u001b[1;36m10E5\u001b[0m\u001b[1;33m\u001b[0m\u001b[1;33m\u001b[0m\u001b[0m\n\u001b[0m",
      "\u001b[1;32m~\\anaconda3\\envs\\MP\\lib\\site-packages\\pandas\\core\\frame.py\u001b[0m in \u001b[0;36m__getitem__\u001b[1;34m(self, key)\u001b[0m\n\u001b[0;32m   2798\u001b[0m             \u001b[1;32mif\u001b[0m \u001b[0mself\u001b[0m\u001b[1;33m.\u001b[0m\u001b[0mcolumns\u001b[0m\u001b[1;33m.\u001b[0m\u001b[0mnlevels\u001b[0m \u001b[1;33m>\u001b[0m \u001b[1;36m1\u001b[0m\u001b[1;33m:\u001b[0m\u001b[1;33m\u001b[0m\u001b[1;33m\u001b[0m\u001b[0m\n\u001b[0;32m   2799\u001b[0m                 \u001b[1;32mreturn\u001b[0m \u001b[0mself\u001b[0m\u001b[1;33m.\u001b[0m\u001b[0m_getitem_multilevel\u001b[0m\u001b[1;33m(\u001b[0m\u001b[0mkey\u001b[0m\u001b[1;33m)\u001b[0m\u001b[1;33m\u001b[0m\u001b[1;33m\u001b[0m\u001b[0m\n\u001b[1;32m-> 2800\u001b[1;33m             \u001b[0mindexer\u001b[0m \u001b[1;33m=\u001b[0m \u001b[0mself\u001b[0m\u001b[1;33m.\u001b[0m\u001b[0mcolumns\u001b[0m\u001b[1;33m.\u001b[0m\u001b[0mget_loc\u001b[0m\u001b[1;33m(\u001b[0m\u001b[0mkey\u001b[0m\u001b[1;33m)\u001b[0m\u001b[1;33m\u001b[0m\u001b[1;33m\u001b[0m\u001b[0m\n\u001b[0m\u001b[0;32m   2801\u001b[0m             \u001b[1;32mif\u001b[0m \u001b[0mis_integer\u001b[0m\u001b[1;33m(\u001b[0m\u001b[0mindexer\u001b[0m\u001b[1;33m)\u001b[0m\u001b[1;33m:\u001b[0m\u001b[1;33m\u001b[0m\u001b[1;33m\u001b[0m\u001b[0m\n\u001b[0;32m   2802\u001b[0m                 \u001b[0mindexer\u001b[0m \u001b[1;33m=\u001b[0m \u001b[1;33m[\u001b[0m\u001b[0mindexer\u001b[0m\u001b[1;33m]\u001b[0m\u001b[1;33m\u001b[0m\u001b[1;33m\u001b[0m\u001b[0m\n",
      "\u001b[1;32m~\\anaconda3\\envs\\MP\\lib\\site-packages\\pandas\\core\\indexes\\base.py\u001b[0m in \u001b[0;36mget_loc\u001b[1;34m(self, key, method, tolerance)\u001b[0m\n\u001b[0;32m   2646\u001b[0m                 \u001b[1;32mreturn\u001b[0m \u001b[0mself\u001b[0m\u001b[1;33m.\u001b[0m\u001b[0m_engine\u001b[0m\u001b[1;33m.\u001b[0m\u001b[0mget_loc\u001b[0m\u001b[1;33m(\u001b[0m\u001b[0mkey\u001b[0m\u001b[1;33m)\u001b[0m\u001b[1;33m\u001b[0m\u001b[1;33m\u001b[0m\u001b[0m\n\u001b[0;32m   2647\u001b[0m             \u001b[1;32mexcept\u001b[0m \u001b[0mKeyError\u001b[0m\u001b[1;33m:\u001b[0m\u001b[1;33m\u001b[0m\u001b[1;33m\u001b[0m\u001b[0m\n\u001b[1;32m-> 2648\u001b[1;33m                 \u001b[1;32mreturn\u001b[0m \u001b[0mself\u001b[0m\u001b[1;33m.\u001b[0m\u001b[0m_engine\u001b[0m\u001b[1;33m.\u001b[0m\u001b[0mget_loc\u001b[0m\u001b[1;33m(\u001b[0m\u001b[0mself\u001b[0m\u001b[1;33m.\u001b[0m\u001b[0m_maybe_cast_indexer\u001b[0m\u001b[1;33m(\u001b[0m\u001b[0mkey\u001b[0m\u001b[1;33m)\u001b[0m\u001b[1;33m)\u001b[0m\u001b[1;33m\u001b[0m\u001b[1;33m\u001b[0m\u001b[0m\n\u001b[0m\u001b[0;32m   2649\u001b[0m         \u001b[0mindexer\u001b[0m \u001b[1;33m=\u001b[0m \u001b[0mself\u001b[0m\u001b[1;33m.\u001b[0m\u001b[0mget_indexer\u001b[0m\u001b[1;33m(\u001b[0m\u001b[1;33m[\u001b[0m\u001b[0mkey\u001b[0m\u001b[1;33m]\u001b[0m\u001b[1;33m,\u001b[0m \u001b[0mmethod\u001b[0m\u001b[1;33m=\u001b[0m\u001b[0mmethod\u001b[0m\u001b[1;33m,\u001b[0m \u001b[0mtolerance\u001b[0m\u001b[1;33m=\u001b[0m\u001b[0mtolerance\u001b[0m\u001b[1;33m)\u001b[0m\u001b[1;33m\u001b[0m\u001b[1;33m\u001b[0m\u001b[0m\n\u001b[0;32m   2650\u001b[0m         \u001b[1;32mif\u001b[0m \u001b[0mindexer\u001b[0m\u001b[1;33m.\u001b[0m\u001b[0mndim\u001b[0m \u001b[1;33m>\u001b[0m \u001b[1;36m1\u001b[0m \u001b[1;32mor\u001b[0m \u001b[0mindexer\u001b[0m\u001b[1;33m.\u001b[0m\u001b[0msize\u001b[0m \u001b[1;33m>\u001b[0m \u001b[1;36m1\u001b[0m\u001b[1;33m:\u001b[0m\u001b[1;33m\u001b[0m\u001b[1;33m\u001b[0m\u001b[0m\n",
      "\u001b[1;32mpandas\\_libs\\index.pyx\u001b[0m in \u001b[0;36mpandas._libs.index.IndexEngine.get_loc\u001b[1;34m()\u001b[0m\n",
      "\u001b[1;32mpandas\\_libs\\index.pyx\u001b[0m in \u001b[0;36mpandas._libs.index.IndexEngine.get_loc\u001b[1;34m()\u001b[0m\n",
      "\u001b[1;32mpandas\\_libs\\hashtable_class_helper.pxi\u001b[0m in \u001b[0;36mpandas._libs.hashtable.PyObjectHashTable.get_item\u001b[1;34m()\u001b[0m\n",
      "\u001b[1;32mpandas\\_libs\\hashtable_class_helper.pxi\u001b[0m in \u001b[0;36mpandas._libs.hashtable.PyObjectHashTable.get_item\u001b[1;34m()\u001b[0m\n",
      "\u001b[1;31mKeyError\u001b[0m: 'Y_SIR'"
     ]
    }
   ],
   "source": [
    "# criação de uma cópia do dataframe\n",
    "df_plt = df.copy(deep = True)\n",
    "\n",
    "# divisão realizada para fins de plotagem\n",
    "df_plt['Y_SIR'] = df_plt['Y_SIR'] / 10E5"
   ]
  },
  {
   "cell_type": "code",
   "execution_count": null,
   "metadata": {},
   "outputs": [],
   "source": [
    "# layout dos plots\n",
    "fig, axs = plt.subplots(nrows = 4, ncols = 6, figsize = (15, 15))\n",
    "\n",
    "# coordenadas X e Y\n",
    "X, Y = COORD[0], COORD[1]\n",
    "\n",
    "# plotagem dos mapas das features\n",
    "for ax, f in zip(axs.flat, dic_features):\n",
    "    g = ax.scatter(data = df_plt, x = X, y = Y, c = f, cmap = cm, s = sz, marker = mk)\n",
    "    fig.colorbar(g, ax = ax)\n",
    "    ax.set_title(str(dic_features[f]), size = fs_title)\n",
    "\n",
    "# layout ajustado\n",
    "plt.tight_layout();"
   ]
  },
  {
   "cell_type": "markdown",
   "metadata": {},
   "source": [
    "<a id='6_1'></a>\n",
    "### Descrição univariada"
   ]
  },
  {
   "cell_type": "markdown",
   "metadata": {},
   "source": [
    "##### Estatísticas dos dados geofísicos"
   ]
  },
  {
   "cell_type": "code",
   "execution_count": null,
   "metadata": {},
   "outputs": [],
   "source": [
    "sumStats(df = df[GF])"
   ]
  },
  {
   "cell_type": "code",
   "execution_count": null,
   "metadata": {
    "scrolled": false
   },
   "outputs": [],
   "source": [
    "fig, axs = plt.subplots(nrows = 2, ncols = 4, figsize = (12, 6))\n",
    "\n",
    "for ax, gf in zip(axs.flat, GF):\n",
    "    g = ax.hist(df[gf], color = col, edgecolor = ec)\n",
    "    ax.set_title(str(dic_features[gf]), size = fs_title)\n",
    "\n",
    "plt.tight_layout();"
   ]
  },
  {
   "cell_type": "markdown",
   "metadata": {},
   "source": [
    "- Todas as features geofísicas apresentam distribuições assimétricas positivas;\n",
    "\n",
    "- As features geofísicas tendem a ser as mais erráticas do banco de dados, com destaque para o **Gradiente Total** que, por sua vez, apresenta um Cᵥ ~ 1.04."
   ]
  },
  {
   "cell_type": "markdown",
   "metadata": {},
   "source": [
    "##### Estatísticas dos sensores remotos"
   ]
  },
  {
   "cell_type": "code",
   "execution_count": null,
   "metadata": {
    "scrolled": true
   },
   "outputs": [],
   "source": [
    "sumStats(df = df[SR])"
   ]
  },
  {
   "cell_type": "code",
   "execution_count": null,
   "metadata": {},
   "outputs": [],
   "source": [
    "fig, axs = plt.subplots(nrows = 4, ncols = 4, figsize = (13, 12))\n",
    "\n",
    "for ax, sr in zip(axs.flat, SR):\n",
    "    g = ax.hist(df[sr], color = col, edgecolor = ec)\n",
    "    ax.set_title(str(dic_features[sr]), size = fs_title)\n",
    "\n",
    "plt.tight_layout();"
   ]
  },
  {
   "cell_type": "markdown",
   "metadata": {},
   "source": [
    "- A grande maioria dos sensores remotos apresentam distribuições assimétricas positivas ou quase simétricas;\n",
    "\n",
    "- Apenas três features apresentam distribuições assimétricas negativas: **MDE**, **MDT** e **Landsat7 - Vermelho**.\n",
    "\n",
    "- Em geral, os sensores remotos tendem a ser pouco erráticos, com destaque para a **Banda Landsat8 - 09** que, por sua vez, apresenta um Cᵥ ~ 0.03."
   ]
  },
  {
   "cell_type": "markdown",
   "metadata": {},
   "source": [
    "##### Análise da dispersão das features"
   ]
  },
  {
   "cell_type": "code",
   "execution_count": null,
   "metadata": {},
   "outputs": [],
   "source": [
    "disp = sumStats(df = df[FEAT]).sort_values(by = 'Cᵥ', ascending = False)['Cᵥ']\n",
    "\n",
    "plt.figure(figsize = (12,4))\n",
    "\n",
    "plt.bar(x = disp.index, height = disp.values,\n",
    "       color = col, edgecolor = ec)\n",
    "\n",
    "plt.title(\"Dispersão das features\", size = fs_title)\n",
    "plt.xticks(rotation = 45)\n",
    "plt.ylabel(\"Cᵥ\", size = fs_title);"
   ]
  },
  {
   "cell_type": "markdown",
   "metadata": {},
   "source": [
    "- Os sensores remotos tendem a ser muito pouco erráticos (Cᵥ < 0.2), com exceção das features `R`, `G` e `B` que, por sua vez, encontram-se entre as 10 features mais erráticas;\n",
    "\n",
    "- Os dados geofísicos são, em geral os que apresentam maior dispersão, com exceção da razão `U_TH`."
   ]
  },
  {
   "cell_type": "markdown",
   "metadata": {},
   "source": [
    "##### Gráfico de barras unidades litoestratigráficas"
   ]
  },
  {
   "cell_type": "code",
   "execution_count": null,
   "metadata": {},
   "outputs": [],
   "source": [
    "labels = df.COD.value_counts().sort_values().index\n",
    "values = df.COD.value_counts().sort_values().values\n",
    "\n",
    "plt.figure(figsize = (10, 6))\n",
    "\n",
    "p = sns.countplot(y = 'COD', data = df, color = col, edgecolor = ec, order = labels)\n",
    "\n",
    "for i, v in enumerate(values):\n",
    "    p.text(v + 30, i, str(v), va='center', size = 14)\n",
    "    \n",
    "plt.title(\"Frequência das unidades litoestratigráficas\", size = fs_title)\n",
    "plt.xlabel(\"Frequência absoluta\", size = 14)\n",
    "plt.xticks(np.arange(0, 6000, 500))\n",
    "plt.ylabel(\"\");"
   ]
  },
  {
   "cell_type": "markdown",
   "metadata": {},
   "source": [
    "- As 3 unidades litoestratigráficas mais frequentes (`Fm_SJC`, `Fm_SB_E` e `Fm_BG`) representam mais de 80% do total de ocorrências;\n",
    "\n",
    "- Portanto, as classes estão claramente desbalanceadas e algumas abordagens serão conduzidas posteriormente para lidar com esse problema."
   ]
  },
  {
   "cell_type": "markdown",
   "metadata": {},
   "source": [
    "<a id='6_2'></a>\n",
    "### Descrição bivariada"
   ]
  },
  {
   "cell_type": "markdown",
   "metadata": {},
   "source": [
    "##### Mapa de calor - coeficiente de correlação de Spearman"
   ]
  },
  {
   "cell_type": "code",
   "execution_count": null,
   "metadata": {},
   "outputs": [],
   "source": [
    "mx_spear = df[FEAT].corr(method = 'spearman').round(1)\n",
    "\n",
    "mask = np.triu(np.ones_like(mx_spear, dtype = np.bool))\n",
    "\n",
    "plt.figure(figsize = (13, 13))\n",
    "plt.title ('Heatmap de correlação rankeada entre features', size = fs_title)\n",
    "\n",
    "ax = sns.heatmap(\n",
    "                 mx_spear,\n",
    "                 annot = True,\n",
    "                 cmap = 'coolwarm',\n",
    "                 cbar = True,\n",
    "                 mask = mask\n",
    "                )\n",
    "\n",
    "ax.set_xticklabels(FEAT, rotation = 45)\n",
    "ax.set_yticklabels(FEAT, rotation = 0);"
   ]
  },
  {
   "cell_type": "markdown",
   "metadata": {},
   "source": [
    "##### Mapa de calor - Coeficiente de Correlação de Pearson"
   ]
  },
  {
   "cell_type": "code",
   "execution_count": null,
   "metadata": {},
   "outputs": [],
   "source": [
    "mx_pear = df[FEAT].corr().round(1)\n",
    "\n",
    "mask = np.triu(np.ones_like(mx_pear, dtype = np.bool))\n",
    "\n",
    "plt.figure(figsize = (13, 13))\n",
    "plt.title ('Heatmap de correlação linear entre features', size = fs_title)\n",
    "\n",
    "ax = sns.heatmap(\n",
    "                 mx_pear,\n",
    "                 annot = True,\n",
    "                 cmap = 'coolwarm',\n",
    "                 cbar = True,\n",
    "                 mask = mask\n",
    "                )\n",
    "\n",
    "ax.set_xticklabels(FEAT, rotation = 45)\n",
    "ax.set_yticklabels(FEAT, rotation = 0);"
   ]
  },
  {
   "cell_type": "markdown",
   "metadata": {},
   "source": [
    "- As features `U`, `TH` e `K` apresentam correlações lineares positivas médias a fortes entre si;\n",
    "\n",
    "- As features `U`, `TH` e `K` apresentam forte correlação linear positiva com a variável `CT`, o que já era esperado;\n",
    "\n",
    "- As features `U_K`, `TH_K`, `U_TH` apresentam forte correlação linear positiva com os canais rediométricos.\n",
    "\n",
    "- A feature `GT` não apresenta correlação (linear ou monotônica) significativa com nenhuma outra feature;\n",
    "\n",
    "- As features Landsat 8 apresentam fortíssimas correlações lineares entre si. Esse fato pode implicar em multicolinearidade e deve ser tratado cautelosamente caso um algoritmo linear seja utilizado.As únicas exceções são `B05` e `B09`;\n",
    "\n",
    "- As features `MDE` e `MDT` são particamente idênticas e, por essa razão, a primeira será descartada;\n",
    "\n",
    "- A feature `MDT` apresenta uma correlação linear negativa média com `U`. Esse fato é interessante e deve ser investigado!"
   ]
  },
  {
   "cell_type": "markdown",
   "metadata": {},
   "source": [
    "##### Features geofísicas x target"
   ]
  },
  {
   "cell_type": "code",
   "execution_count": null,
   "metadata": {},
   "outputs": [],
   "source": [
    "plotBoxplots(cols = GF);"
   ]
  },
  {
   "cell_type": "markdown",
   "metadata": {},
   "source": [
    "- As features radiométricas apresentam uma variabilidade significativa quando agrupadas pelas unidades litoestratigráficas. Essas variáveis possivelmente serão as **mais importantes** para treinar os modelos;\n",
    "\n",
    "- Em contrapartida, a variável magnetométrica `GT` apresenta-se praticamente estacionária quando agrupada pelas unidades."
   ]
  },
  {
   "cell_type": "markdown",
   "metadata": {},
   "source": [
    "##### Sensores remotos x target"
   ]
  },
  {
   "cell_type": "code",
   "execution_count": null,
   "metadata": {},
   "outputs": [],
   "source": [
    "plotBoxplots(cols = SR);"
   ]
  },
  {
   "cell_type": "markdown",
   "metadata": {},
   "source": [
    "- As features Landsat 8 apresentam uma variabilidade extremamente baixa quando agrupadas pelas unidades. Nesse sentido, possivelmente, essas variáveis não serão úteis para treinar os modelos;\n",
    "\n",
    "- Em contrapartida, as features geofísicas, juntamente com `MDE` / `MDT`, `R`, `G` e `B`, apresentam uma dispersão significativa quando agrupadas pelas unidades. Essas variáveis possivelmente contribuirão positivamente para as predições."
   ]
  },
  {
   "cell_type": "markdown",
   "metadata": {},
   "source": [
    "##### Estatísticas de K (%) por unidade litoestratigráfica"
   ]
  },
  {
   "cell_type": "code",
   "execution_count": null,
   "metadata": {},
   "outputs": [],
   "source": [
    "sumByLito(f = 'K')"
   ]
  },
  {
   "cell_type": "code",
   "execution_count": null,
   "metadata": {},
   "outputs": [],
   "source": [
    "histByLito(f = 'K');"
   ]
  },
  {
   "cell_type": "markdown",
   "metadata": {},
   "source": [
    "- As unidades que apresentam MAIORES concentrações de `K` são **PP4esbd** e **PP3csbg**;\n",
    "\n",
    "- As unidades que apresentam MENORES concentrações de `K` são **PP4egm** e **PP4esbf**."
   ]
  },
  {
   "cell_type": "markdown",
   "metadata": {},
   "source": [
    "##### Estatísticas de U (ppm) por unidade litoestratigráfica"
   ]
  },
  {
   "cell_type": "code",
   "execution_count": null,
   "metadata": {
    "scrolled": true
   },
   "outputs": [],
   "source": [
    "sumByLito(f = 'U')"
   ]
  },
  {
   "cell_type": "code",
   "execution_count": null,
   "metadata": {},
   "outputs": [],
   "source": [
    "histByLito(f = 'U');"
   ]
  },
  {
   "cell_type": "markdown",
   "metadata": {},
   "source": [
    "- As unidades que apresentam MAIORES concentrações de `U` são **MAcgg** e **PP3csbg**;\n",
    "\n",
    "- As unidades que apresentam MENORES concentrações de `U` são **PP4egm** e **PP4esbf**."
   ]
  },
  {
   "cell_type": "markdown",
   "metadata": {},
   "source": [
    "##### Estatísticas de Th (ppm) por unidade litoestratigráfica"
   ]
  },
  {
   "cell_type": "code",
   "execution_count": null,
   "metadata": {
    "scrolled": false
   },
   "outputs": [],
   "source": [
    "sumByLito(f = 'TH')"
   ]
  },
  {
   "cell_type": "code",
   "execution_count": null,
   "metadata": {
    "scrolled": false
   },
   "outputs": [],
   "source": [
    "histByLito(f = 'TH');"
   ]
  },
  {
   "cell_type": "markdown",
   "metadata": {},
   "source": [
    "- As unidades que apresentam MAIORES concentrações de `TH` são **MAcgg** e **PP3csbg** (mesmas do `U`);\n",
    "\n",
    "- As unidades que apresentam MENORES concentrações de `TH` são **PP4egm** e **PP4esbf** (mesmas do `U`)."
   ]
  },
  {
   "cell_type": "markdown",
   "metadata": {},
   "source": [
    "##### Estatísticas de contagem total (μR/h) por unidade litoestratigráfica"
   ]
  },
  {
   "cell_type": "code",
   "execution_count": null,
   "metadata": {},
   "outputs": [],
   "source": [
    "sumByLito(f = 'CT')"
   ]
  },
  {
   "cell_type": "code",
   "execution_count": null,
   "metadata": {},
   "outputs": [],
   "source": [
    "histByLito(f = 'CT');"
   ]
  },
  {
   "cell_type": "markdown",
   "metadata": {},
   "source": [
    "- As unidades que apresentam MAIORES concentrações de `CT` são **MAcgg** e **PP3csbg** (mesmas do `U` e `TH`);\n",
    "\n",
    "- As unidades que apresentam MENORES concentrações de `CT` são **PP4egm** e **PP4esbf** (mesmas do `U` e `TH`)."
   ]
  },
  {
   "cell_type": "markdown",
   "metadata": {},
   "source": [
    "##### Estatísticas do gradiente total (nT/m) por unidade litoestratigráfica"
   ]
  },
  {
   "cell_type": "code",
   "execution_count": null,
   "metadata": {},
   "outputs": [],
   "source": [
    "sumByLito(f = 'GT')"
   ]
  },
  {
   "cell_type": "code",
   "execution_count": null,
   "metadata": {},
   "outputs": [],
   "source": [
    "histByLito(f = 'GT');"
   ]
  },
  {
   "cell_type": "markdown",
   "metadata": {},
   "source": [
    "- As unidades que apresentam MAIORES respostas de `GT` são **PP4esbd** e **PP3csbg**;\n",
    "\n",
    "- As unidades que apresentam MENORES respostas de `GT` são **PP4esbf** e **PP4egm**."
   ]
  },
  {
   "cell_type": "markdown",
   "metadata": {},
   "source": [
    "<a id='7'></a>\n",
    "## Exportação dos dados\n",
    "\n",
    "Os dados serão exportados (`data_nb2.csv`) para serem utilizados como input no [notebook2.ipynb](https://github.com/fnaghetini/Mapa-Preditivo/blob/main/notebook2.ipynb)."
   ]
  },
  {
   "cell_type": "code",
   "execution_count": null,
   "metadata": {},
   "outputs": [],
   "source": [
    "# colunas a serem descartadas\n",
    "drop_cols = ['LINE','X','Y','MDE']\n",
    "\n",
    "# exclusão das colunas\n",
    "df.drop(drop_cols, axis = 1, inplace = True)\n",
    "\n",
    "# renomeação das coordenadas\n",
    "df.rename(columns = {'X_SIR' : 'X', 'Y_SIR' : 'Y'}, inplace = True)\n",
    "\n",
    "# exportação dados dados\n",
    "df.to_csv('data/data_nb2.csv', header = True, index = False)"
   ]
  }
 ],
 "metadata": {
  "kernelspec": {
   "display_name": "Python 3",
   "language": "python",
   "name": "python3"
  },
  "language_info": {
   "codemirror_mode": {
    "name": "ipython",
    "version": 3
   },
   "file_extension": ".py",
   "mimetype": "text/x-python",
   "name": "python",
   "nbconvert_exporter": "python",
   "pygments_lexer": "ipython3",
   "version": "3.6.10"
  }
 },
 "nbformat": 4,
 "nbformat_minor": 2
}
