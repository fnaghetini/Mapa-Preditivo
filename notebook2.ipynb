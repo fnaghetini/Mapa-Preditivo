{
 "cells": [
  {
   "cell_type": "markdown",
   "metadata": {},
   "source": [
    "# Notebook 2 - Mapa Geológico Preditivo\n",
    "\n",
    "### Pré-processamento, modelagem dos dados & validação dos modelos\n",
    "\n",
    "##### Trabalho de Conclusão de Curso - Geologia / IGC / UFMG\n",
    "\n",
    "Autores: [Franco Naghetini](https://github.com/fnaghetini) & [Guilherme Silveira](https://github.com/guiasilveira)"
   ]
  },
  {
   "cell_type": "markdown",
   "metadata": {},
   "source": [
    "<a id='1'></a>\n",
    "##  Configurações iniciais"
   ]
  },
  {
   "cell_type": "markdown",
   "metadata": {},
   "source": [
    "##### Importação de bibliotecas"
   ]
  },
  {
   "cell_type": "code",
   "execution_count": 1,
   "metadata": {},
   "outputs": [],
   "source": [
    "# bibliotecas base\n",
    "import math                                                  # operações matemáticas triviais\n",
    "import numpy as np                                           # operações numéricas de vetores\n",
    "import pandas as pd                                          # manipulação de dataframes e series\n",
    "from sklearn.base import BaseEstimator, TransformerMixin     # criação de transformadores customizados\n",
    "from imblearn.pipeline import Pipeline                       # criação de pipelines\n",
    "\n",
    "# bibliotecas de visualização\n",
    "import matplotlib.pyplot as plt                              # visualização de dados\n",
    "import seaborn as sns                                        # visualização de dados\n",
    "\n",
    "# pré-processamento\n",
    "from sklearn.preprocessing import StandardScaler             # escalonamento dos dados\n",
    "from sklearn.preprocessing import MinMaxScaler               # escalonamento dos dados\n",
    "from sklearn.preprocessing import RobustScaler               # escalonamento dos dados\n",
    "from sklearn.feature_selection import SelectKBest            # feature selection\n",
    "from sklearn.feature_selection import f_classif              # feature selection\n",
    "from sklearn.feature_selection import mutual_info_classif    # feature selection\n",
    "from imblearn.over_sampling import SMOTE                     # algoritmo de oversampling\n",
    "\n",
    "# modelagem\n",
    "from sklearn.linear_model import LogisticRegression          # Regressão Logística\n",
    "from sklearn.naive_bayes import GaussianNB                   # Gaussian Naive Bayes\n",
    "from sklearn.neighbors import KNeighborsClassifier           # KNN\n",
    "from sklearn.svm import SVC                                  # SVM\n",
    "from sklearn.ensemble import RandomForestClassifier          # Random Forest\n",
    "\n",
    "# validação\n",
    "from sklearn.model_selection import cross_val_score          # scores de validação cruzada\n",
    "from sklearn.model_selection import StratifiedKFold          # amostragem estratificada\n",
    "from sklearn.base import clone                               # clonagem de modelos\n",
    "from sklearn.model_selection import RepeatedStratifiedKFold  # k-fold estratificado com múltiplas realizações\n",
    "from sklearn.metrics import accuracy_score                   # métrica de acurácia\n",
    "from sklearn.metrics import confusion_matrix                 # métrica de matriz de confusão\n",
    "from sklearn.metrics import classification_report            # report de métricas de classificação\n",
    "\n",
    "import warnings                                              # desabilitar avisos\n",
    "warnings.filterwarnings(\"ignore\")\n",
    "\n",
    "%matplotlib inline"
   ]
  },
  {
   "cell_type": "markdown",
   "metadata": {},
   "source": [
    "##### Importação do banco de dados"
   ]
  },
  {
   "cell_type": "code",
   "execution_count": 2,
   "metadata": {},
   "outputs": [],
   "source": [
    "df_original = pd.read_csv(\"data/data_nb2.csv\",sep=\",\")"
   ]
  },
  {
   "cell_type": "code",
   "execution_count": 3,
   "metadata": {},
   "outputs": [],
   "source": [
    "# criação de uma cópia (deep) do dataframe original\n",
    "df = df_original.copy(deep = True)"
   ]
  },
  {
   "cell_type": "markdown",
   "metadata": {},
   "source": [
    "##### Visualização das primeiras linhas do banco de dados"
   ]
  },
  {
   "cell_type": "code",
   "execution_count": 4,
   "metadata": {},
   "outputs": [
    {
     "data": {
      "text/html": [
       "<div>\n",
       "<style scoped>\n",
       "    .dataframe tbody tr th:only-of-type {\n",
       "        vertical-align: middle;\n",
       "    }\n",
       "\n",
       "    .dataframe tbody tr th {\n",
       "        vertical-align: top;\n",
       "    }\n",
       "\n",
       "    .dataframe thead th {\n",
       "        text-align: right;\n",
       "    }\n",
       "</style>\n",
       "<table border=\"1\" class=\"dataframe\">\n",
       "  <thead>\n",
       "    <tr style=\"text-align: right;\">\n",
       "      <th></th>\n",
       "      <th>X</th>\n",
       "      <th>Y</th>\n",
       "      <th>GT</th>\n",
       "      <th>K</th>\n",
       "      <th>TH</th>\n",
       "      <th>U</th>\n",
       "      <th>CT</th>\n",
       "      <th>U_K</th>\n",
       "      <th>TH_K</th>\n",
       "      <th>U_TH</th>\n",
       "      <th>...</th>\n",
       "      <th>B06</th>\n",
       "      <th>B07</th>\n",
       "      <th>B08</th>\n",
       "      <th>B09</th>\n",
       "      <th>R</th>\n",
       "      <th>G</th>\n",
       "      <th>B</th>\n",
       "      <th>TARGET</th>\n",
       "      <th>UNID</th>\n",
       "      <th>COD</th>\n",
       "    </tr>\n",
       "  </thead>\n",
       "  <tbody>\n",
       "    <tr>\n",
       "      <th>0</th>\n",
       "      <td>638663.68</td>\n",
       "      <td>7981552.08</td>\n",
       "      <td>0.076001</td>\n",
       "      <td>0.38</td>\n",
       "      <td>3.98</td>\n",
       "      <td>2.21</td>\n",
       "      <td>3.56</td>\n",
       "      <td>3.11</td>\n",
       "      <td>6.51</td>\n",
       "      <td>0.49</td>\n",
       "      <td>...</td>\n",
       "      <td>15656</td>\n",
       "      <td>11371</td>\n",
       "      <td>7669</td>\n",
       "      <td>5089</td>\n",
       "      <td>208</td>\n",
       "      <td>199</td>\n",
       "      <td>185</td>\n",
       "      <td>6</td>\n",
       "      <td>Fm_GM</td>\n",
       "      <td>PP4egm</td>\n",
       "    </tr>\n",
       "    <tr>\n",
       "      <th>1</th>\n",
       "      <td>638663.68</td>\n",
       "      <td>7981489.58</td>\n",
       "      <td>0.054137</td>\n",
       "      <td>0.41</td>\n",
       "      <td>3.66</td>\n",
       "      <td>2.44</td>\n",
       "      <td>3.60</td>\n",
       "      <td>3.11</td>\n",
       "      <td>6.91</td>\n",
       "      <td>0.47</td>\n",
       "      <td>...</td>\n",
       "      <td>17906</td>\n",
       "      <td>13743</td>\n",
       "      <td>8706</td>\n",
       "      <td>5077</td>\n",
       "      <td>195</td>\n",
       "      <td>189</td>\n",
       "      <td>169</td>\n",
       "      <td>6</td>\n",
       "      <td>Fm_GM</td>\n",
       "      <td>PP4egm</td>\n",
       "    </tr>\n",
       "    <tr>\n",
       "      <th>2</th>\n",
       "      <td>638726.18</td>\n",
       "      <td>7981489.58</td>\n",
       "      <td>0.071591</td>\n",
       "      <td>0.57</td>\n",
       "      <td>5.30</td>\n",
       "      <td>2.63</td>\n",
       "      <td>4.23</td>\n",
       "      <td>2.72</td>\n",
       "      <td>6.97</td>\n",
       "      <td>0.41</td>\n",
       "      <td>...</td>\n",
       "      <td>17693</td>\n",
       "      <td>13716</td>\n",
       "      <td>8699</td>\n",
       "      <td>5083</td>\n",
       "      <td>197</td>\n",
       "      <td>160</td>\n",
       "      <td>153</td>\n",
       "      <td>6</td>\n",
       "      <td>Fm_GM</td>\n",
       "      <td>PP4egm</td>\n",
       "    </tr>\n",
       "    <tr>\n",
       "      <th>3</th>\n",
       "      <td>638788.68</td>\n",
       "      <td>7981489.58</td>\n",
       "      <td>0.055794</td>\n",
       "      <td>0.80</td>\n",
       "      <td>7.26</td>\n",
       "      <td>2.88</td>\n",
       "      <td>4.92</td>\n",
       "      <td>2.40</td>\n",
       "      <td>7.16</td>\n",
       "      <td>0.36</td>\n",
       "      <td>...</td>\n",
       "      <td>16064</td>\n",
       "      <td>11973</td>\n",
       "      <td>8334</td>\n",
       "      <td>5083</td>\n",
       "      <td>226</td>\n",
       "      <td>208</td>\n",
       "      <td>202</td>\n",
       "      <td>6</td>\n",
       "      <td>Fm_GM</td>\n",
       "      <td>PP4egm</td>\n",
       "    </tr>\n",
       "    <tr>\n",
       "      <th>4</th>\n",
       "      <td>638851.18</td>\n",
       "      <td>7981489.58</td>\n",
       "      <td>0.033372</td>\n",
       "      <td>1.05</td>\n",
       "      <td>9.20</td>\n",
       "      <td>3.17</td>\n",
       "      <td>5.54</td>\n",
       "      <td>2.21</td>\n",
       "      <td>7.50</td>\n",
       "      <td>0.33</td>\n",
       "      <td>...</td>\n",
       "      <td>15789</td>\n",
       "      <td>11648</td>\n",
       "      <td>8081</td>\n",
       "      <td>5085</td>\n",
       "      <td>161</td>\n",
       "      <td>167</td>\n",
       "      <td>130</td>\n",
       "      <td>6</td>\n",
       "      <td>Fm_GM</td>\n",
       "      <td>PP4egm</td>\n",
       "    </tr>\n",
       "    <tr>\n",
       "      <th>5</th>\n",
       "      <td>638788.68</td>\n",
       "      <td>7981427.08</td>\n",
       "      <td>0.028260</td>\n",
       "      <td>0.85</td>\n",
       "      <td>6.60</td>\n",
       "      <td>2.97</td>\n",
       "      <td>4.92</td>\n",
       "      <td>2.51</td>\n",
       "      <td>7.64</td>\n",
       "      <td>0.36</td>\n",
       "      <td>...</td>\n",
       "      <td>15269</td>\n",
       "      <td>11403</td>\n",
       "      <td>8028</td>\n",
       "      <td>5079</td>\n",
       "      <td>142</td>\n",
       "      <td>107</td>\n",
       "      <td>106</td>\n",
       "      <td>6</td>\n",
       "      <td>Fm_GM</td>\n",
       "      <td>PP4egm</td>\n",
       "    </tr>\n",
       "    <tr>\n",
       "      <th>6</th>\n",
       "      <td>638663.68</td>\n",
       "      <td>7981427.08</td>\n",
       "      <td>0.051313</td>\n",
       "      <td>0.44</td>\n",
       "      <td>3.20</td>\n",
       "      <td>2.62</td>\n",
       "      <td>3.62</td>\n",
       "      <td>3.14</td>\n",
       "      <td>7.37</td>\n",
       "      <td>0.44</td>\n",
       "      <td>...</td>\n",
       "      <td>18497</td>\n",
       "      <td>14848</td>\n",
       "      <td>9045</td>\n",
       "      <td>5091</td>\n",
       "      <td>226</td>\n",
       "      <td>175</td>\n",
       "      <td>200</td>\n",
       "      <td>6</td>\n",
       "      <td>Fm_GM</td>\n",
       "      <td>PP4egm</td>\n",
       "    </tr>\n",
       "    <tr>\n",
       "      <th>7</th>\n",
       "      <td>638726.18</td>\n",
       "      <td>7981427.08</td>\n",
       "      <td>0.047716</td>\n",
       "      <td>0.62</td>\n",
       "      <td>4.74</td>\n",
       "      <td>2.80</td>\n",
       "      <td>4.25</td>\n",
       "      <td>2.80</td>\n",
       "      <td>7.47</td>\n",
       "      <td>0.40</td>\n",
       "      <td>...</td>\n",
       "      <td>16202</td>\n",
       "      <td>12264</td>\n",
       "      <td>8508</td>\n",
       "      <td>5097</td>\n",
       "      <td>170</td>\n",
       "      <td>107</td>\n",
       "      <td>122</td>\n",
       "      <td>6</td>\n",
       "      <td>Fm_GM</td>\n",
       "      <td>PP4egm</td>\n",
       "    </tr>\n",
       "    <tr>\n",
       "      <th>8</th>\n",
       "      <td>638663.68</td>\n",
       "      <td>7981364.58</td>\n",
       "      <td>0.048052</td>\n",
       "      <td>0.49</td>\n",
       "      <td>2.99</td>\n",
       "      <td>2.77</td>\n",
       "      <td>3.63</td>\n",
       "      <td>3.18</td>\n",
       "      <td>7.87</td>\n",
       "      <td>0.42</td>\n",
       "      <td>...</td>\n",
       "      <td>17907</td>\n",
       "      <td>14332</td>\n",
       "      <td>8848</td>\n",
       "      <td>5082</td>\n",
       "      <td>224</td>\n",
       "      <td>150</td>\n",
       "      <td>198</td>\n",
       "      <td>6</td>\n",
       "      <td>Fm_GM</td>\n",
       "      <td>PP4egm</td>\n",
       "    </tr>\n",
       "    <tr>\n",
       "      <th>9</th>\n",
       "      <td>638726.18</td>\n",
       "      <td>7981364.58</td>\n",
       "      <td>0.044078</td>\n",
       "      <td>0.64</td>\n",
       "      <td>4.20</td>\n",
       "      <td>2.87</td>\n",
       "      <td>4.23</td>\n",
       "      <td>2.87</td>\n",
       "      <td>7.93</td>\n",
       "      <td>0.38</td>\n",
       "      <td>...</td>\n",
       "      <td>15765</td>\n",
       "      <td>11898</td>\n",
       "      <td>8060</td>\n",
       "      <td>5098</td>\n",
       "      <td>243</td>\n",
       "      <td>171</td>\n",
       "      <td>217</td>\n",
       "      <td>6</td>\n",
       "      <td>Fm_GM</td>\n",
       "      <td>PP4egm</td>\n",
       "    </tr>\n",
       "  </tbody>\n",
       "</table>\n",
       "<p>10 rows × 26 columns</p>\n",
       "</div>"
      ],
      "text/plain": [
       "           X           Y        GT     K    TH     U    CT   U_K  TH_K  U_TH  \\\n",
       "0  638663.68  7981552.08  0.076001  0.38  3.98  2.21  3.56  3.11  6.51  0.49   \n",
       "1  638663.68  7981489.58  0.054137  0.41  3.66  2.44  3.60  3.11  6.91  0.47   \n",
       "2  638726.18  7981489.58  0.071591  0.57  5.30  2.63  4.23  2.72  6.97  0.41   \n",
       "3  638788.68  7981489.58  0.055794  0.80  7.26  2.88  4.92  2.40  7.16  0.36   \n",
       "4  638851.18  7981489.58  0.033372  1.05  9.20  3.17  5.54  2.21  7.50  0.33   \n",
       "5  638788.68  7981427.08  0.028260  0.85  6.60  2.97  4.92  2.51  7.64  0.36   \n",
       "6  638663.68  7981427.08  0.051313  0.44  3.20  2.62  3.62  3.14  7.37  0.44   \n",
       "7  638726.18  7981427.08  0.047716  0.62  4.74  2.80  4.25  2.80  7.47  0.40   \n",
       "8  638663.68  7981364.58  0.048052  0.49  2.99  2.77  3.63  3.18  7.87  0.42   \n",
       "9  638726.18  7981364.58  0.044078  0.64  4.20  2.87  4.23  2.87  7.93  0.38   \n",
       "\n",
       "   ...    B06    B07   B08   B09    R    G    B  TARGET   UNID     COD  \n",
       "0  ...  15656  11371  7669  5089  208  199  185       6  Fm_GM  PP4egm  \n",
       "1  ...  17906  13743  8706  5077  195  189  169       6  Fm_GM  PP4egm  \n",
       "2  ...  17693  13716  8699  5083  197  160  153       6  Fm_GM  PP4egm  \n",
       "3  ...  16064  11973  8334  5083  226  208  202       6  Fm_GM  PP4egm  \n",
       "4  ...  15789  11648  8081  5085  161  167  130       6  Fm_GM  PP4egm  \n",
       "5  ...  15269  11403  8028  5079  142  107  106       6  Fm_GM  PP4egm  \n",
       "6  ...  18497  14848  9045  5091  226  175  200       6  Fm_GM  PP4egm  \n",
       "7  ...  16202  12264  8508  5097  170  107  122       6  Fm_GM  PP4egm  \n",
       "8  ...  17907  14332  8848  5082  224  150  198       6  Fm_GM  PP4egm  \n",
       "9  ...  15765  11898  8060  5098  243  171  217       6  Fm_GM  PP4egm  \n",
       "\n",
       "[10 rows x 26 columns]"
      ]
     },
     "execution_count": 4,
     "metadata": {},
     "output_type": "execute_result"
    }
   ],
   "source": [
    "df.head(10)"
   ]
  },
  {
   "cell_type": "markdown",
   "metadata": {},
   "source": [
    "<a id='2'></a>\n",
    "## Variáveis Globais & funcões auxiliares"
   ]
  },
  {
   "cell_type": "markdown",
   "metadata": {},
   "source": [
    "##### Variáveis globais"
   ]
  },
  {
   "cell_type": "code",
   "execution_count": 5,
   "metadata": {},
   "outputs": [],
   "source": [
    "# coordenadas\n",
    "COORD = ['X','Y']\n",
    "\n",
    "# features\n",
    "FEAT = df.columns[2:-3]\n",
    "\n",
    "# features geofísicas\n",
    "GF = FEAT[:8]\n",
    "\n",
    "# canais radiométricos\n",
    "RADIO = ['K','TH','U']\n",
    "\n",
    "# sensores remotos\n",
    "SR = FEAT[8:21]\n",
    "\n",
    "# meta dados\n",
    "META = ['UNID','COD']\n",
    "\n",
    "# dicionário litoestratigráfico\n",
    "dic_lith = {}\n",
    "for k, v1, v2 in zip(df['TARGET'].unique(), df['UNID'].unique(), df['COD'].unique()):\n",
    "    dic_lith[k] = [v1, v2]"
   ]
  },
  {
   "cell_type": "markdown",
   "metadata": {},
   "source": [
    "##### Parâmetros dos gráficos"
   ]
  },
  {
   "cell_type": "code",
   "execution_count": 6,
   "metadata": {},
   "outputs": [],
   "source": [
    "# fonte: Times New Roman, tamanho: 12\n",
    "plt.rcParams.update({'font.family':'Times New Roman', 'font.size' : 12})\n",
    "\n",
    "fs_title =  16        # tamanho da fonte dos títulos\n",
    "cm       = 'Dark2'    # mapa de cores\n",
    "mk       = 's'        # estilo do marcador (quadrado)\n",
    "sz       =  2         # tamanho do marcador    \n",
    "col      = 'orange'   # cor dos histogramas\n",
    "ec       = 'black'    # cor das bordas dos histogramas"
   ]
  },
  {
   "cell_type": "markdown",
   "metadata": {},
   "source": [
    "##### customTrainTestSplit(df :: dataframe, coords :: bool)\n",
    "\n",
    "Realiza a divisão dos dados entre treino e teste. Para isso, é realizada uma amostragem aleatória de 100 exemplos por unidade litoestratigráfica. Caso uma unidade apresente um número de exemplos < 100, 70% de suas instâncias são aleatoriamente amostradas.\n",
    "\n",
    "Parâmetros:\n",
    "- `df` : dataframe (n, m) com os dados brutos\n",
    "- `coords` : se `True`, retorna as coordenadas `X` e `Y` de treino e teste\n",
    "\n",
    "Retorna:\n",
    "- `X_train` : narray (t, m) com as features do conjunto de treino\n",
    "- `y_train` : narray (t,  ) com o target do conjunto de treino\n",
    "- `coord_train` : narray (t, 2) com as coordenadas do conjunto de treino (apenas se `coords = True`)\n",
    "- `X_test` : narray (n-t, m) com as features do conjunto de teste\n",
    "- `y_test` : narray (n-t,  ) com o target do conjunto de teste\n",
    "- `coord_test` : narray (n-t, 2) com as coordenadas do conjunto de teste (apenas se `coords = True`)"
   ]
  },
  {
   "cell_type": "code",
   "execution_count": 7,
   "metadata": {},
   "outputs": [],
   "source": [
    "def customTrainTestSplit(df, coords = False):\n",
    "    # definição de uma semente aleatória\n",
    "    np.random.seed(42)\n",
    "    # embaralhando dataframe de entrada\n",
    "    table = df.sample(frac = 1).reset_index(drop = True)\n",
    "    # lista de unidades (classes)\n",
    "    classes = table['TARGET'].unique()\n",
    "    # dataframe vazio de treino\n",
    "    train = pd.DataFrame()\n",
    "    \n",
    "    # Para cada unidade\n",
    "    for c in classes:\n",
    "        # dataframe filtrado para cada unidade específica\n",
    "        unid = table[table['TARGET'] == c]\n",
    "        # se o número de ocorrência <= 100\n",
    "        if len(unid) <= 100:\n",
    "            # amostragem aleatória de 70% dos exemplos da unidade\n",
    "            𝒮 = unid.sample(math.ceil(len(unid) * 0.7))\n",
    "        # se o número de ocorrência > 100\n",
    "        else:\n",
    "            # amostragem aleatória de 100 exemplos da unidade\n",
    "            𝒮 = unid.sample(100)   \n",
    "        # populando dataframe de treino\n",
    "        train = pd.concat([train, 𝒮])\n",
    "            \n",
    "    # embaralhando os dados de treino  e teste\n",
    "    test = table.drop(train.index).sample(frac = 1).reset_index(drop = True)\n",
    "    train = train.sample(frac = 1).reset_index(drop = True)\n",
    "    \n",
    "    # divisão entre features e target nos dados de treino\n",
    "    X_train, y_train, coord_train = train[FEAT].values, train['TARGET'].values, train[COORD].values\n",
    "    # divisão entre features e target nos dados de teste\n",
    "    X_test, y_test, coord_test = test[FEAT].values, test['TARGET'].values, test[COORD].values\n",
    "    \n",
    "    # retorna as features, target e coordenadas de treino e teste\n",
    "    if coords:\n",
    "        return X_train, y_train, coord_train, X_test, y_test, coord_test\n",
    "    # retorna apenas as features e target de treino e teste\n",
    "    else:\n",
    "        return X_train, y_train, X_test, y_test"
   ]
  },
  {
   "cell_type": "markdown",
   "metadata": {},
   "source": [
    "##### featureScaling(X_train :: narray, X_test :: narray, method :: class)\n",
    "\n",
    "Realiza o escalonamento das features de treino e teste. O escalonador é treinado apenas com as features de treino `X_train`, mas não com as features de teste `X_test`. Em seguida, ambos os conjuntos de features de treino e teste são escalonados.\n",
    "\n",
    "Parâmetros:\n",
    "- `X_train` : narray (t, m) das features de treino\n",
    "- `X_test` : narray (n-t, m) das features de teste\n",
    "- `method` : classe que realizará o escalonamento. As três opções são: **StandardScaler** (default), **MinMaxScaler** e **RobustScaler**\n",
    "\n",
    "Retorna:\n",
    "- `X_train_scaled` : narray (t, m) das features de treino escalonadas\n",
    "- `X_test_scaled` : narray (n-t,  m) das features de teste escalonadas"
   ]
  },
  {
   "cell_type": "code",
   "execution_count": 8,
   "metadata": {},
   "outputs": [],
   "source": [
    "def featureScaling(X_train, X_test, method = StandardScaler()):\n",
    "    # instanciando objeto StandardScaler\n",
    "    scaler = method\n",
    "    \n",
    "    # treinando o scaler\n",
    "    scaler.fit(X_train)\n",
    "    \n",
    "    # transformando features de treino\n",
    "    X_train_scaled = scaler.transform(X_train)\n",
    "    # transformando features de teste\n",
    "    X_test_scaled = scaler.transform(X_test)\n",
    "    \n",
    "    return X_train_scaled, X_test_scaled"
   ]
  },
  {
   "cell_type": "markdown",
   "metadata": {},
   "source": [
    "##### selectFeatures(X_train :: narray, y_train :: narray, X_test :: narray,  func :: function, n_features :: int)\n",
    "\n",
    "Seleciona as `n_features` mais importantes de acordo com uma função `func` passada pelo usuário.\n",
    "\n",
    "Parâmetros:\n",
    "- `X_train` : narray (t, m) das features de treino\n",
    "- `y_train` : narray (t,  ) do target de treino\n",
    "- `X_test` : narray (n-t, m) das features de teste\n",
    "- `func` : função definida para selecionar as features. As duas opções são **f_classif** e **mutual_info_classif**\n",
    "- `n_features` : número (int) de features a serem selecionadas. Default = 10\n",
    "\n",
    "Retorna:\n",
    "- `X_train_fs` : narray(t, n_features) das features de treino selecionadas\n",
    "- `X_test_fs` : narray(n-t, n_features) das features de teste selecionadas\n",
    "- `fs.scores_` : narray(n_features, ) com os scores calculados"
   ]
  },
  {
   "cell_type": "code",
   "execution_count": 9,
   "metadata": {},
   "outputs": [],
   "source": [
    "def selectFeatures(X_train, y_train, X_test, func, n_features = 10):\n",
    "    # instanciando seletor de features\n",
    "    fs = SelectKBest(score_func = func, k = n_features)\n",
    "    \n",
    "    # treinando seletor de features\n",
    "    fs.fit(X_train, y_train)\n",
    "    \n",
    "    # transformação das features de treino\n",
    "    X_train_fs = fs.transform(X_train)\n",
    "    # transformação das features de teste\n",
    "    X_test_fs = fs.transform(X_test)\n",
    "    \n",
    "    return X_train_fs, X_test_fs, fs.scores_"
   ]
  },
  {
   "cell_type": "markdown",
   "metadata": {},
   "source": [
    "##### dicScores(score :: narray, k :: int)\n",
    "\n",
    "Cria um dicionário com as `k` features mais importantes e seus respectivos scores `score`.\n",
    "\n",
    "Parâmetros:\n",
    "- `score` : narray (k,  ) com os scores das features mais importantes\n",
    "- `k` : número (int) de features mais importantes. Default = 10\n",
    "\n",
    "Retorna:\n",
    "- `dict` : dicionário com `k` features (chaves) e `k` scores (valores)"
   ]
  },
  {
   "cell_type": "code",
   "execution_count": 10,
   "metadata": {},
   "outputs": [],
   "source": [
    "def dicScores(score, k = 10):\n",
    "    # dicionário vazio\n",
    "    fs_dic = {}\n",
    "    \n",
    "    # populando o dicionário com os scores\n",
    "    for f, s in zip(FEAT, list(score)):\n",
    "        fs_dic[f] = round(s, 2)\n",
    "    \n",
    "    # ordenando dicionário de forma descendente\n",
    "    list_sorted = sorted(fs_dic.items(), key = lambda x: x[1], reverse = True)\n",
    "    # fatiando lista de acordo com o 'k' informado\n",
    "    sliced_list = list_sorted[:k][:k]\n",
    "    \n",
    "    # retorna dicionário\n",
    "    return dict(sliced_list)"
   ]
  },
  {
   "cell_type": "markdown",
   "metadata": {},
   "source": [
    "##### plotSelectionScores(score :: narray, k :: int)\n",
    "\n",
    "Plota um gráfico de barras com as `k` features mais importantes.\n",
    "\n",
    "Parâmetros:\n",
    "- `score` : narray (n_features, ) com os scores de importância das features\n",
    "- `k` : número (int) de features mais importantes. Default = 10\n",
    "\n",
    "Retorna:\n",
    "- Gráfico de barras com as `k` features mais importantes"
   ]
  },
  {
   "cell_type": "code",
   "execution_count": 11,
   "metadata": {},
   "outputs": [],
   "source": [
    "def plotSelectionScores(score, k = 10):\n",
    "    # dicionário de features e seus scores\n",
    "    dic = dicScores(score, k = k)\n",
    "    # features\n",
    "    keys = list(dic.keys())\n",
    "    # scores\n",
    "    values = list(dic.values())\n",
    "    \n",
    "    # dimensões do gráfico\n",
    "    plt.figure(figsize = (k*0.6,3))\n",
    "    # gráfico de barras f-score x features\n",
    "    plt.bar(x = keys, height = values, color = col, edgecolor = ec)\n",
    "    # título e labels\n",
    "    plt.title(f\"{k} features mais importantes\", size = fs_title)\n",
    "    plt.ylabel('Score', size = 14)\n",
    "    plt.yticks(size = 12)\n",
    "    plt.xticks(rotation = 45, size = 12)\n",
    "\n",
    "    plt.tight_layout();"
   ]
  },
  {
   "cell_type": "markdown",
   "metadata": {},
   "source": [
    "##### plotPrediction(ŷ :: narray, model :: string)\n",
    "\n",
    "Plota o mapa geológico preditivo para um dado modelo `model`, o mapa geológico e o mapa com os exemplos de treino.\n",
    "\n",
    "Parâmetros:\n",
    "- `ŷ` : narray (n-t, ) com as predições do target de um determinado modelo\n",
    "- `model` : string com o nome do modelo utilizado. Corresponde ao título do mapa geológico preditivo\n",
    "\n",
    "Retorna:\n",
    "- Mapa geológico preditivo do modelo `model`, mapa geológico de campo e o mapa com os exemplos de treino"
   ]
  },
  {
   "cell_type": "code",
   "execution_count": 12,
   "metadata": {},
   "outputs": [],
   "source": [
    "def plotPrediction(ŷ, model = None):\n",
    "    # criação de um dataframe com as predições\n",
    "    y_hat = pd.DataFrame(ŷ, columns = ['TARGET'])\n",
    "    # dataframe das coordenadas do conjunto de teste\n",
    "    coord_test = test[['X','Y']]\n",
    "    # concatenação entre as predições e as coordendas de teste\n",
    "    df_model = pd.concat([y_hat, coord_test], axis = 1)\n",
    "    # dataframe de treino com coordenadas e target\n",
    "    df_train = train[['X', 'Y', 'TARGET']]\n",
    "    # concatenação entre o dataframe de predições e o de treino\n",
    "    df_model = pd.concat([df_model, df_train])\n",
    "    \n",
    "    # layout dos mapas\n",
    "    fig, (ax1, ax2, ax3) = plt.subplots(nrows = 1, ncols = 3, figsize = (10.5, 5))\n",
    "    \n",
    "    # mapa preditivo\n",
    "    p1 = ax1.scatter(data = df_model, x = 'X', y = 'Y', c = 'TARGET', cmap = cm, s = sz, marker = mk)\n",
    "    fig.colorbar(p1, ax = ax1)\n",
    "    ax1.set_title(model, size = fs_title)\n",
    "    ax1.set_xlabel('X (m)', size = 14)\n",
    "    ax1.set_ylabel('Y (m)', size = 14)\n",
    "    \n",
    "    # mapa geológico de campo\n",
    "    p2 = ax2.scatter(data = df, x = 'X', y = 'Y', c = 'TARGET', cmap = cm, s = sz, marker = mk)\n",
    "    fig.colorbar(p2, ax = ax2)\n",
    "    ax2.set_title(\"Mapa geológico\", size = fs_title)\n",
    "    ax2.set_xlabel('X (m)', size = 14)\n",
    "    \n",
    "    # mapa dos exemplos de treino\n",
    "    p3 = ax3.scatter(data = train, x = 'X', y = 'Y', c = 'TARGET', cmap = cm, s = sz, marker = mk)\n",
    "    fig.colorbar(p3, ax = ax3)\n",
    "    ax3.set_title(\"Treino\", size = fs_title)\n",
    "    ax3.set_xlabel('X (m)', size = 14)\n",
    "    \n",
    "    plt.tight_layout();"
   ]
  },
  {
   "cell_type": "markdown",
   "metadata": {},
   "source": [
    "<a id='3'></a>\n",
    "## Pré-processamento"
   ]
  },
  {
   "cell_type": "markdown",
   "metadata": {},
   "source": [
    "### Separação entre dados de treino e teste"
   ]
  },
  {
   "cell_type": "markdown",
   "metadata": {},
   "source": [
    "##### Separação entre features (X) e target (y)"
   ]
  },
  {
   "cell_type": "code",
   "execution_count": 13,
   "metadata": {},
   "outputs": [
    {
     "name": "stdout",
     "output_type": "stream",
     "text": [
      "Treino -> features: (547, 21)   ǂ  target: (547,)\n",
      "Teste  -> features: (10871, 21) ǂ  target: (10871,)\n"
     ]
    }
   ],
   "source": [
    "# divisão entre features, target e coordenadas nos dados de treino e teste\n",
    "X_train, y_train, coord_train, X_test, y_test, coord_test = customTrainTestSplit(df, coords = True)\n",
    "\n",
    "# forma dos dados de treino\n",
    "print('Treino -> features: {0}   ǂ  target: {1}'.format(X_train.shape, y_train.shape))\n",
    "# forma dos dados de teste\n",
    "print('Teste  -> features: {0} ǂ  target: {1}'.format(X_test.shape, y_test.shape))"
   ]
  },
  {
   "cell_type": "markdown",
   "metadata": {},
   "source": [
    "##### Dataframes de treino e teste"
   ]
  },
  {
   "cell_type": "code",
   "execution_count": 14,
   "metadata": {},
   "outputs": [
    {
     "data": {
      "text/html": [
       "<div>\n",
       "<style scoped>\n",
       "    .dataframe tbody tr th:only-of-type {\n",
       "        vertical-align: middle;\n",
       "    }\n",
       "\n",
       "    .dataframe tbody tr th {\n",
       "        vertical-align: top;\n",
       "    }\n",
       "\n",
       "    .dataframe thead th {\n",
       "        text-align: right;\n",
       "    }\n",
       "</style>\n",
       "<table border=\"1\" class=\"dataframe\">\n",
       "  <thead>\n",
       "    <tr style=\"text-align: right;\">\n",
       "      <th></th>\n",
       "      <th>X</th>\n",
       "      <th>Y</th>\n",
       "      <th>GT</th>\n",
       "      <th>K</th>\n",
       "      <th>TH</th>\n",
       "      <th>U</th>\n",
       "      <th>CT</th>\n",
       "      <th>U_K</th>\n",
       "      <th>TH_K</th>\n",
       "      <th>U_TH</th>\n",
       "      <th>...</th>\n",
       "      <th>B04</th>\n",
       "      <th>B05</th>\n",
       "      <th>B06</th>\n",
       "      <th>B07</th>\n",
       "      <th>B08</th>\n",
       "      <th>B09</th>\n",
       "      <th>R</th>\n",
       "      <th>G</th>\n",
       "      <th>B</th>\n",
       "      <th>TARGET</th>\n",
       "    </tr>\n",
       "  </thead>\n",
       "  <tbody>\n",
       "    <tr>\n",
       "      <th>542</th>\n",
       "      <td>637038.68</td>\n",
       "      <td>7979677.08</td>\n",
       "      <td>0.024932</td>\n",
       "      <td>0.25</td>\n",
       "      <td>13.01</td>\n",
       "      <td>2.51</td>\n",
       "      <td>4.46</td>\n",
       "      <td>5.47</td>\n",
       "      <td>24.79</td>\n",
       "      <td>0.32</td>\n",
       "      <td>...</td>\n",
       "      <td>9114.0</td>\n",
       "      <td>12752.0</td>\n",
       "      <td>17694.0</td>\n",
       "      <td>14578.0</td>\n",
       "      <td>8837.0</td>\n",
       "      <td>5086.0</td>\n",
       "      <td>209.0</td>\n",
       "      <td>179.0</td>\n",
       "      <td>182.0</td>\n",
       "      <td>3</td>\n",
       "    </tr>\n",
       "    <tr>\n",
       "      <th>543</th>\n",
       "      <td>637226.18</td>\n",
       "      <td>7977739.57</td>\n",
       "      <td>0.027761</td>\n",
       "      <td>1.06</td>\n",
       "      <td>23.60</td>\n",
       "      <td>5.09</td>\n",
       "      <td>11.40</td>\n",
       "      <td>3.64</td>\n",
       "      <td>16.55</td>\n",
       "      <td>0.26</td>\n",
       "      <td>...</td>\n",
       "      <td>8224.0</td>\n",
       "      <td>13295.0</td>\n",
       "      <td>14278.0</td>\n",
       "      <td>10665.0</td>\n",
       "      <td>7452.0</td>\n",
       "      <td>5073.0</td>\n",
       "      <td>85.0</td>\n",
       "      <td>29.0</td>\n",
       "      <td>65.0</td>\n",
       "      <td>2</td>\n",
       "    </tr>\n",
       "    <tr>\n",
       "      <th>544</th>\n",
       "      <td>634538.68</td>\n",
       "      <td>7971989.57</td>\n",
       "      <td>0.048161</td>\n",
       "      <td>0.44</td>\n",
       "      <td>4.99</td>\n",
       "      <td>2.50</td>\n",
       "      <td>3.80</td>\n",
       "      <td>3.80</td>\n",
       "      <td>6.46</td>\n",
       "      <td>0.62</td>\n",
       "      <td>...</td>\n",
       "      <td>7692.0</td>\n",
       "      <td>13041.0</td>\n",
       "      <td>12384.0</td>\n",
       "      <td>9406.0</td>\n",
       "      <td>7570.0</td>\n",
       "      <td>5052.0</td>\n",
       "      <td>14.0</td>\n",
       "      <td>5.0</td>\n",
       "      <td>26.0</td>\n",
       "      <td>6</td>\n",
       "    </tr>\n",
       "    <tr>\n",
       "      <th>545</th>\n",
       "      <td>636476.18</td>\n",
       "      <td>7970989.56</td>\n",
       "      <td>0.021256</td>\n",
       "      <td>1.01</td>\n",
       "      <td>26.36</td>\n",
       "      <td>8.84</td>\n",
       "      <td>14.89</td>\n",
       "      <td>5.65</td>\n",
       "      <td>17.44</td>\n",
       "      <td>0.31</td>\n",
       "      <td>...</td>\n",
       "      <td>9674.0</td>\n",
       "      <td>15651.0</td>\n",
       "      <td>15847.0</td>\n",
       "      <td>11958.0</td>\n",
       "      <td>9133.0</td>\n",
       "      <td>5069.0</td>\n",
       "      <td>88.0</td>\n",
       "      <td>243.0</td>\n",
       "      <td>131.0</td>\n",
       "      <td>1</td>\n",
       "    </tr>\n",
       "    <tr>\n",
       "      <th>546</th>\n",
       "      <td>637913.68</td>\n",
       "      <td>7978864.58</td>\n",
       "      <td>0.020339</td>\n",
       "      <td>0.92</td>\n",
       "      <td>11.92</td>\n",
       "      <td>3.33</td>\n",
       "      <td>6.71</td>\n",
       "      <td>4.69</td>\n",
       "      <td>13.75</td>\n",
       "      <td>0.35</td>\n",
       "      <td>...</td>\n",
       "      <td>9124.0</td>\n",
       "      <td>13963.0</td>\n",
       "      <td>16161.0</td>\n",
       "      <td>12419.0</td>\n",
       "      <td>8985.0</td>\n",
       "      <td>5075.0</td>\n",
       "      <td>141.0</td>\n",
       "      <td>110.0</td>\n",
       "      <td>133.0</td>\n",
       "      <td>2</td>\n",
       "    </tr>\n",
       "  </tbody>\n",
       "</table>\n",
       "<p>5 rows × 24 columns</p>\n",
       "</div>"
      ],
      "text/plain": [
       "             X           Y        GT     K     TH     U     CT   U_K   TH_K  \\\n",
       "542  637038.68  7979677.08  0.024932  0.25  13.01  2.51   4.46  5.47  24.79   \n",
       "543  637226.18  7977739.57  0.027761  1.06  23.60  5.09  11.40  3.64  16.55   \n",
       "544  634538.68  7971989.57  0.048161  0.44   4.99  2.50   3.80  3.80   6.46   \n",
       "545  636476.18  7970989.56  0.021256  1.01  26.36  8.84  14.89  5.65  17.44   \n",
       "546  637913.68  7978864.58  0.020339  0.92  11.92  3.33   6.71  4.69  13.75   \n",
       "\n",
       "     U_TH  ...     B04      B05      B06      B07     B08     B09      R  \\\n",
       "542  0.32  ...  9114.0  12752.0  17694.0  14578.0  8837.0  5086.0  209.0   \n",
       "543  0.26  ...  8224.0  13295.0  14278.0  10665.0  7452.0  5073.0   85.0   \n",
       "544  0.62  ...  7692.0  13041.0  12384.0   9406.0  7570.0  5052.0   14.0   \n",
       "545  0.31  ...  9674.0  15651.0  15847.0  11958.0  9133.0  5069.0   88.0   \n",
       "546  0.35  ...  9124.0  13963.0  16161.0  12419.0  8985.0  5075.0  141.0   \n",
       "\n",
       "         G      B  TARGET  \n",
       "542  179.0  182.0       3  \n",
       "543   29.0   65.0       2  \n",
       "544    5.0   26.0       6  \n",
       "545  243.0  131.0       1  \n",
       "546  110.0  133.0       2  \n",
       "\n",
       "[5 rows x 24 columns]"
      ]
     },
     "execution_count": 14,
     "metadata": {},
     "output_type": "execute_result"
    }
   ],
   "source": [
    "# dataframe de treino\n",
    "train_loc = pd.DataFrame(coord_train, columns = COORD)\n",
    "train_feat = pd.DataFrame(X_train, columns = FEAT)\n",
    "train = pd.concat([train_loc, train_feat], axis = 1)\n",
    "train['TARGET'] = y_train\n",
    "train.tail()"
   ]
  },
  {
   "cell_type": "code",
   "execution_count": 15,
   "metadata": {},
   "outputs": [
    {
     "data": {
      "text/html": [
       "<div>\n",
       "<style scoped>\n",
       "    .dataframe tbody tr th:only-of-type {\n",
       "        vertical-align: middle;\n",
       "    }\n",
       "\n",
       "    .dataframe tbody tr th {\n",
       "        vertical-align: top;\n",
       "    }\n",
       "\n",
       "    .dataframe thead th {\n",
       "        text-align: right;\n",
       "    }\n",
       "</style>\n",
       "<table border=\"1\" class=\"dataframe\">\n",
       "  <thead>\n",
       "    <tr style=\"text-align: right;\">\n",
       "      <th></th>\n",
       "      <th>X</th>\n",
       "      <th>Y</th>\n",
       "      <th>GT</th>\n",
       "      <th>K</th>\n",
       "      <th>TH</th>\n",
       "      <th>U</th>\n",
       "      <th>CT</th>\n",
       "      <th>U_K</th>\n",
       "      <th>TH_K</th>\n",
       "      <th>U_TH</th>\n",
       "      <th>...</th>\n",
       "      <th>B04</th>\n",
       "      <th>B05</th>\n",
       "      <th>B06</th>\n",
       "      <th>B07</th>\n",
       "      <th>B08</th>\n",
       "      <th>B09</th>\n",
       "      <th>R</th>\n",
       "      <th>G</th>\n",
       "      <th>B</th>\n",
       "      <th>TARGET</th>\n",
       "    </tr>\n",
       "  </thead>\n",
       "  <tbody>\n",
       "    <tr>\n",
       "      <th>10866</th>\n",
       "      <td>634351.18</td>\n",
       "      <td>7971552.06</td>\n",
       "      <td>0.057461</td>\n",
       "      <td>1.20</td>\n",
       "      <td>5.77</td>\n",
       "      <td>2.50</td>\n",
       "      <td>5.32</td>\n",
       "      <td>2.61</td>\n",
       "      <td>6.64</td>\n",
       "      <td>0.43</td>\n",
       "      <td>...</td>\n",
       "      <td>8682.0</td>\n",
       "      <td>13175.0</td>\n",
       "      <td>13670.0</td>\n",
       "      <td>10626.0</td>\n",
       "      <td>8096.0</td>\n",
       "      <td>5055.0</td>\n",
       "      <td>168.0</td>\n",
       "      <td>107.0</td>\n",
       "      <td>119.0</td>\n",
       "      <td>5</td>\n",
       "    </tr>\n",
       "    <tr>\n",
       "      <th>10867</th>\n",
       "      <td>638663.68</td>\n",
       "      <td>7978239.57</td>\n",
       "      <td>0.021195</td>\n",
       "      <td>0.22</td>\n",
       "      <td>6.22</td>\n",
       "      <td>1.92</td>\n",
       "      <td>3.35</td>\n",
       "      <td>4.89</td>\n",
       "      <td>14.76</td>\n",
       "      <td>0.38</td>\n",
       "      <td>...</td>\n",
       "      <td>9496.0</td>\n",
       "      <td>13076.0</td>\n",
       "      <td>17556.0</td>\n",
       "      <td>13199.0</td>\n",
       "      <td>9188.0</td>\n",
       "      <td>5084.0</td>\n",
       "      <td>142.0</td>\n",
       "      <td>121.0</td>\n",
       "      <td>122.0</td>\n",
       "      <td>5</td>\n",
       "    </tr>\n",
       "    <tr>\n",
       "      <th>10868</th>\n",
       "      <td>639976.19</td>\n",
       "      <td>7981114.58</td>\n",
       "      <td>0.107530</td>\n",
       "      <td>0.40</td>\n",
       "      <td>2.80</td>\n",
       "      <td>1.71</td>\n",
       "      <td>2.90</td>\n",
       "      <td>6.35</td>\n",
       "      <td>20.84</td>\n",
       "      <td>0.36</td>\n",
       "      <td>...</td>\n",
       "      <td>10104.0</td>\n",
       "      <td>14008.0</td>\n",
       "      <td>18980.0</td>\n",
       "      <td>14528.0</td>\n",
       "      <td>9619.0</td>\n",
       "      <td>5070.0</td>\n",
       "      <td>164.0</td>\n",
       "      <td>201.0</td>\n",
       "      <td>164.0</td>\n",
       "      <td>6</td>\n",
       "    </tr>\n",
       "    <tr>\n",
       "      <th>10869</th>\n",
       "      <td>638538.68</td>\n",
       "      <td>7980739.58</td>\n",
       "      <td>0.034884</td>\n",
       "      <td>0.35</td>\n",
       "      <td>4.82</td>\n",
       "      <td>2.22</td>\n",
       "      <td>3.69</td>\n",
       "      <td>4.76</td>\n",
       "      <td>11.84</td>\n",
       "      <td>0.40</td>\n",
       "      <td>...</td>\n",
       "      <td>8459.0</td>\n",
       "      <td>12073.0</td>\n",
       "      <td>15322.0</td>\n",
       "      <td>12742.0</td>\n",
       "      <td>9762.0</td>\n",
       "      <td>5092.0</td>\n",
       "      <td>245.0</td>\n",
       "      <td>220.0</td>\n",
       "      <td>241.0</td>\n",
       "      <td>5</td>\n",
       "    </tr>\n",
       "    <tr>\n",
       "      <th>10870</th>\n",
       "      <td>635288.68</td>\n",
       "      <td>7971552.06</td>\n",
       "      <td>0.037119</td>\n",
       "      <td>3.09</td>\n",
       "      <td>12.75</td>\n",
       "      <td>4.71</td>\n",
       "      <td>11.78</td>\n",
       "      <td>1.82</td>\n",
       "      <td>4.97</td>\n",
       "      <td>0.41</td>\n",
       "      <td>...</td>\n",
       "      <td>7987.0</td>\n",
       "      <td>12647.0</td>\n",
       "      <td>13566.0</td>\n",
       "      <td>10003.0</td>\n",
       "      <td>7914.0</td>\n",
       "      <td>5067.0</td>\n",
       "      <td>62.0</td>\n",
       "      <td>65.0</td>\n",
       "      <td>47.0</td>\n",
       "      <td>2</td>\n",
       "    </tr>\n",
       "  </tbody>\n",
       "</table>\n",
       "<p>5 rows × 24 columns</p>\n",
       "</div>"
      ],
      "text/plain": [
       "               X           Y        GT     K     TH     U     CT   U_K   TH_K  \\\n",
       "10866  634351.18  7971552.06  0.057461  1.20   5.77  2.50   5.32  2.61   6.64   \n",
       "10867  638663.68  7978239.57  0.021195  0.22   6.22  1.92   3.35  4.89  14.76   \n",
       "10868  639976.19  7981114.58  0.107530  0.40   2.80  1.71   2.90  6.35  20.84   \n",
       "10869  638538.68  7980739.58  0.034884  0.35   4.82  2.22   3.69  4.76  11.84   \n",
       "10870  635288.68  7971552.06  0.037119  3.09  12.75  4.71  11.78  1.82   4.97   \n",
       "\n",
       "       U_TH  ...      B04      B05      B06      B07     B08     B09      R  \\\n",
       "10866  0.43  ...   8682.0  13175.0  13670.0  10626.0  8096.0  5055.0  168.0   \n",
       "10867  0.38  ...   9496.0  13076.0  17556.0  13199.0  9188.0  5084.0  142.0   \n",
       "10868  0.36  ...  10104.0  14008.0  18980.0  14528.0  9619.0  5070.0  164.0   \n",
       "10869  0.40  ...   8459.0  12073.0  15322.0  12742.0  9762.0  5092.0  245.0   \n",
       "10870  0.41  ...   7987.0  12647.0  13566.0  10003.0  7914.0  5067.0   62.0   \n",
       "\n",
       "           G      B  TARGET  \n",
       "10866  107.0  119.0       5  \n",
       "10867  121.0  122.0       5  \n",
       "10868  201.0  164.0       6  \n",
       "10869  220.0  241.0       5  \n",
       "10870   65.0   47.0       2  \n",
       "\n",
       "[5 rows x 24 columns]"
      ]
     },
     "execution_count": 15,
     "metadata": {},
     "output_type": "execute_result"
    }
   ],
   "source": [
    "# dataframe de teste\n",
    "test_loc = pd.DataFrame(coord_test, columns = COORD)\n",
    "test_feat = pd.DataFrame(X_test, columns = FEAT)\n",
    "test = pd.concat([test_loc, test_feat], axis = 1)\n",
    "test['TARGET'] = y_test\n",
    "test.tail()"
   ]
  },
  {
   "cell_type": "markdown",
   "metadata": {},
   "source": [
    "##### Frequência de ocorrência dos dados de treino e teste por unidade"
   ]
  },
  {
   "cell_type": "code",
   "execution_count": 16,
   "metadata": {},
   "outputs": [
    {
     "data": {
      "image/png": "[encoded data removed]",
      "text/plain": [
       "<Figure size 720x288 with 2 Axes>"
      ]
     },
     "metadata": {
      "needs_background": "light"
     },
     "output_type": "display_data"
    }
   ],
   "source": [
    "# layout dos plots\n",
    "fig, axes = plt.subplots(nrows = 1, ncols = 2, figsize = (10, 4))\n",
    "\n",
    "# gráfico de barras dos dados de treino\n",
    "sns.countplot(y = 'TARGET', data = train, color = col, edgecolor = ec, ax = axes[0])\n",
    "axes[0].set_title(\"Conjunto de treino\", size = fs_title)\n",
    "axes[0].set_xlabel(\"Frequência absoluta\", size = 14)\n",
    "axes[0].set_ylabel(\"Target\", size = 14)\n",
    "\n",
    "# gráfico de barras dos dados de teste\n",
    "sns.countplot(y = 'TARGET', data = test, color = col, edgecolor = ec, ax = axes[1])\n",
    "axes[1].set_title(\"Conjunto de teste\", size = fs_title)\n",
    "axes[1].set_xlabel(\"Frequência absoluta\", size = 14)\n",
    "axes[1].set_ylabel(\"\")\n",
    "\n",
    "plt.tight_layout();"
   ]
  },
  {
   "cell_type": "markdown",
   "metadata": {},
   "source": [
    "##### Visualização espacial dos dados de treino e teste"
   ]
  },
  {
   "cell_type": "code",
   "execution_count": 17,
   "metadata": {},
   "outputs": [
    {
     "data": {
      "image/png": "[encoded data removed]",
      "text/plain": [
       "<Figure size 504x360 with 4 Axes>"
      ]
     },
     "metadata": {
      "needs_background": "light"
     },
     "output_type": "display_data"
    }
   ],
   "source": [
    "# layout dos plots\n",
    "fig, (ax1, ax2) = plt.subplots(nrows = 1, ncols = 2, figsize = (7, 5))\n",
    "\n",
    "# Localização dos dados de treino\n",
    "p1 = ax1.scatter(data = train, x = 'X', y = 'Y', c = 'TARGET', cmap = cm, s = sz, marker = mk)\n",
    "fig.colorbar(p1, ax = ax1)\n",
    "ax1.set_title('Treino', size = fs_title)\n",
    "ax1.set_xlabel('X (m)', size = 14)\n",
    "ax1.set_ylabel('Y (m)', size = 14)\n",
    "\n",
    "# Localização dos dados de teste\n",
    "p2 = ax2.scatter(data = test, x = 'X', y = 'Y', c = 'TARGET', cmap = cm, s = sz, marker = mk)\n",
    "fig.colorbar(p2, ax = ax2)\n",
    "ax2.set_title('Teste', size = fs_title)\n",
    "ax2.set_xlabel('X (m)', size = 14)\n",
    "\n",
    "plt.tight_layout();"
   ]
  },
  {
   "cell_type": "markdown",
   "metadata": {},
   "source": [
    "### Escalonamento das features"
   ]
  },
  {
   "cell_type": "markdown",
   "metadata": {},
   "source": [
    "#### StandardScaler"
   ]
  },
  {
   "cell_type": "code",
   "execution_count": 18,
   "metadata": {},
   "outputs": [],
   "source": [
    "# normalização das features\n",
    "X_train_std, X_test_std = featureScaling(X_train, X_test, method = StandardScaler())"
   ]
  },
  {
   "cell_type": "code",
   "execution_count": 19,
   "metadata": {},
   "outputs": [
    {
     "data": {
      "text/html": [
       "<div>\n",
       "<style scoped>\n",
       "    .dataframe tbody tr th:only-of-type {\n",
       "        vertical-align: middle;\n",
       "    }\n",
       "\n",
       "    .dataframe tbody tr th {\n",
       "        vertical-align: top;\n",
       "    }\n",
       "\n",
       "    .dataframe thead th {\n",
       "        text-align: right;\n",
       "    }\n",
       "</style>\n",
       "<table border=\"1\" class=\"dataframe\">\n",
       "  <thead>\n",
       "    <tr style=\"text-align: right;\">\n",
       "      <th></th>\n",
       "      <th>GT</th>\n",
       "      <th>K</th>\n",
       "      <th>TH</th>\n",
       "      <th>U</th>\n",
       "      <th>CT</th>\n",
       "      <th>U_K</th>\n",
       "      <th>TH_K</th>\n",
       "      <th>U_TH</th>\n",
       "      <th>MDT</th>\n",
       "      <th>B01</th>\n",
       "      <th>...</th>\n",
       "      <th>B03</th>\n",
       "      <th>B04</th>\n",
       "      <th>B05</th>\n",
       "      <th>B06</th>\n",
       "      <th>B07</th>\n",
       "      <th>B08</th>\n",
       "      <th>B09</th>\n",
       "      <th>R</th>\n",
       "      <th>G</th>\n",
       "      <th>B</th>\n",
       "    </tr>\n",
       "  </thead>\n",
       "  <tbody>\n",
       "    <tr>\n",
       "      <th>0</th>\n",
       "      <td>1.925042</td>\n",
       "      <td>0.294877</td>\n",
       "      <td>-0.315957</td>\n",
       "      <td>0.403014</td>\n",
       "      <td>0.080342</td>\n",
       "      <td>-0.570957</td>\n",
       "      <td>-0.613666</td>\n",
       "      <td>0.396018</td>\n",
       "      <td>-1.647478</td>\n",
       "      <td>-0.883643</td>\n",
       "      <td>...</td>\n",
       "      <td>-0.850956</td>\n",
       "      <td>-1.029210</td>\n",
       "      <td>-0.176277</td>\n",
       "      <td>-1.145369</td>\n",
       "      <td>-1.322683</td>\n",
       "      <td>-0.841989</td>\n",
       "      <td>-1.003773</td>\n",
       "      <td>-0.236750</td>\n",
       "      <td>1.247100</td>\n",
       "      <td>0.781578</td>\n",
       "    </tr>\n",
       "    <tr>\n",
       "      <th>1</th>\n",
       "      <td>-0.697592</td>\n",
       "      <td>-0.635175</td>\n",
       "      <td>1.709698</td>\n",
       "      <td>0.444511</td>\n",
       "      <td>0.357349</td>\n",
       "      <td>0.317860</td>\n",
       "      <td>1.654651</td>\n",
       "      <td>-1.175458</td>\n",
       "      <td>1.617799</td>\n",
       "      <td>-0.824130</td>\n",
       "      <td>...</td>\n",
       "      <td>-0.769237</td>\n",
       "      <td>-0.242417</td>\n",
       "      <td>-1.150729</td>\n",
       "      <td>-0.209394</td>\n",
       "      <td>-0.339503</td>\n",
       "      <td>-0.387236</td>\n",
       "      <td>0.658618</td>\n",
       "      <td>-0.965742</td>\n",
       "      <td>-0.301601</td>\n",
       "      <td>0.001767</td>\n",
       "    </tr>\n",
       "    <tr>\n",
       "      <th>2</th>\n",
       "      <td>0.564241</td>\n",
       "      <td>-0.305536</td>\n",
       "      <td>-0.422973</td>\n",
       "      <td>-0.316259</td>\n",
       "      <td>-0.462130</td>\n",
       "      <td>-0.272755</td>\n",
       "      <td>-0.446748</td>\n",
       "      <td>0.275135</td>\n",
       "      <td>-0.916880</td>\n",
       "      <td>-0.297013</td>\n",
       "      <td>...</td>\n",
       "      <td>-0.188918</td>\n",
       "      <td>-0.149952</td>\n",
       "      <td>-0.358138</td>\n",
       "      <td>0.092082</td>\n",
       "      <td>-0.017206</td>\n",
       "      <td>-0.427049</td>\n",
       "      <td>-0.528804</td>\n",
       "      <td>-0.008940</td>\n",
       "      <td>0.417998</td>\n",
       "      <td>0.086529</td>\n",
       "    </tr>\n",
       "    <tr>\n",
       "      <th>3</th>\n",
       "      <td>-0.669770</td>\n",
       "      <td>-0.258445</td>\n",
       "      <td>-0.945312</td>\n",
       "      <td>-0.583681</td>\n",
       "      <td>-0.519840</td>\n",
       "      <td>-0.382771</td>\n",
       "      <td>-0.247575</td>\n",
       "      <td>0.275135</td>\n",
       "      <td>1.040786</td>\n",
       "      <td>0.796330</td>\n",
       "      <td>...</td>\n",
       "      <td>0.963430</td>\n",
       "      <td>0.825973</td>\n",
       "      <td>0.468382</td>\n",
       "      <td>1.079967</td>\n",
       "      <td>1.151339</td>\n",
       "      <td>1.176975</td>\n",
       "      <td>3.587592</td>\n",
       "      <td>-0.282312</td>\n",
       "      <td>-0.817835</td>\n",
       "      <td>-0.540711</td>\n",
       "    </tr>\n",
       "    <tr>\n",
       "      <th>4</th>\n",
       "      <td>0.026334</td>\n",
       "      <td>-0.529220</td>\n",
       "      <td>-0.774596</td>\n",
       "      <td>-0.431527</td>\n",
       "      <td>-0.773763</td>\n",
       "      <td>-0.269859</td>\n",
       "      <td>-0.387077</td>\n",
       "      <td>-0.027072</td>\n",
       "      <td>-2.231456</td>\n",
       "      <td>-0.589478</td>\n",
       "      <td>...</td>\n",
       "      <td>-0.489737</td>\n",
       "      <td>-0.468536</td>\n",
       "      <td>-0.174241</td>\n",
       "      <td>-0.208596</td>\n",
       "      <td>-0.240436</td>\n",
       "      <td>-0.809254</td>\n",
       "      <td>-2.349518</td>\n",
       "      <td>-0.540497</td>\n",
       "      <td>-1.662581</td>\n",
       "      <td>-0.676330</td>\n",
       "    </tr>\n",
       "  </tbody>\n",
       "</table>\n",
       "<p>5 rows × 21 columns</p>\n",
       "</div>"
      ],
      "text/plain": [
       "         GT         K        TH         U        CT       U_K      TH_K  \\\n",
       "0  1.925042  0.294877 -0.315957  0.403014  0.080342 -0.570957 -0.613666   \n",
       "1 -0.697592 -0.635175  1.709698  0.444511  0.357349  0.317860  1.654651   \n",
       "2  0.564241 -0.305536 -0.422973 -0.316259 -0.462130 -0.272755 -0.446748   \n",
       "3 -0.669770 -0.258445 -0.945312 -0.583681 -0.519840 -0.382771 -0.247575   \n",
       "4  0.026334 -0.529220 -0.774596 -0.431527 -0.773763 -0.269859 -0.387077   \n",
       "\n",
       "       U_TH       MDT       B01  ...       B03       B04       B05       B06  \\\n",
       "0  0.396018 -1.647478 -0.883643  ... -0.850956 -1.029210 -0.176277 -1.145369   \n",
       "1 -1.175458  1.617799 -0.824130  ... -0.769237 -0.242417 -1.150729 -0.209394   \n",
       "2  0.275135 -0.916880 -0.297013  ... -0.188918 -0.149952 -0.358138  0.092082   \n",
       "3  0.275135  1.040786  0.796330  ...  0.963430  0.825973  0.468382  1.079967   \n",
       "4 -0.027072 -2.231456 -0.589478  ... -0.489737 -0.468536 -0.174241 -0.208596   \n",
       "\n",
       "        B07       B08       B09         R         G         B  \n",
       "0 -1.322683 -0.841989 -1.003773 -0.236750  1.247100  0.781578  \n",
       "1 -0.339503 -0.387236  0.658618 -0.965742 -0.301601  0.001767  \n",
       "2 -0.017206 -0.427049 -0.528804 -0.008940  0.417998  0.086529  \n",
       "3  1.151339  1.176975  3.587592 -0.282312 -0.817835 -0.540711  \n",
       "4 -0.240436 -0.809254 -2.349518 -0.540497 -1.662581 -0.676330  \n",
       "\n",
       "[5 rows x 21 columns]"
      ]
     },
     "execution_count": 19,
     "metadata": {},
     "output_type": "execute_result"
    }
   ],
   "source": [
    "# visualização das 5 primeiras linhas das features de treino normalizadas\n",
    "pd.DataFrame(X_train_std, columns = df[FEAT].columns).head()"
   ]
  },
  {
   "cell_type": "markdown",
   "metadata": {},
   "source": [
    "#### MinMaxScaler"
   ]
  },
  {
   "cell_type": "code",
   "execution_count": 20,
   "metadata": {},
   "outputs": [],
   "source": [
    "# escalonamento das features\n",
    "X_train_mm, X_test_mm = featureScaling(X_train, X_test, method = MinMaxScaler())"
   ]
  },
  {
   "cell_type": "code",
   "execution_count": 21,
   "metadata": {},
   "outputs": [
    {
     "data": {
      "text/html": [
       "<div>\n",
       "<style scoped>\n",
       "    .dataframe tbody tr th:only-of-type {\n",
       "        vertical-align: middle;\n",
       "    }\n",
       "\n",
       "    .dataframe tbody tr th {\n",
       "        vertical-align: top;\n",
       "    }\n",
       "\n",
       "    .dataframe thead th {\n",
       "        text-align: right;\n",
       "    }\n",
       "</style>\n",
       "<table border=\"1\" class=\"dataframe\">\n",
       "  <thead>\n",
       "    <tr style=\"text-align: right;\">\n",
       "      <th></th>\n",
       "      <th>GT</th>\n",
       "      <th>K</th>\n",
       "      <th>TH</th>\n",
       "      <th>U</th>\n",
       "      <th>CT</th>\n",
       "      <th>U_K</th>\n",
       "      <th>TH_K</th>\n",
       "      <th>U_TH</th>\n",
       "      <th>MDT</th>\n",
       "      <th>B01</th>\n",
       "      <th>...</th>\n",
       "      <th>B03</th>\n",
       "      <th>B04</th>\n",
       "      <th>B05</th>\n",
       "      <th>B06</th>\n",
       "      <th>B07</th>\n",
       "      <th>B08</th>\n",
       "      <th>B09</th>\n",
       "      <th>R</th>\n",
       "      <th>G</th>\n",
       "      <th>B</th>\n",
       "    </tr>\n",
       "  </thead>\n",
       "  <tbody>\n",
       "    <tr>\n",
       "      <th>0</th>\n",
       "      <td>0.315739</td>\n",
       "      <td>0.231306</td>\n",
       "      <td>0.192499</td>\n",
       "      <td>0.437019</td>\n",
       "      <td>0.325930</td>\n",
       "      <td>0.113918</td>\n",
       "      <td>0.040185</td>\n",
       "      <td>0.271429</td>\n",
       "      <td>0.155171</td>\n",
       "      <td>0.088440</td>\n",
       "      <td>...</td>\n",
       "      <td>0.110688</td>\n",
       "      <td>0.129058</td>\n",
       "      <td>0.355908</td>\n",
       "      <td>0.283608</td>\n",
       "      <td>0.204346</td>\n",
       "      <td>0.098803</td>\n",
       "      <td>0.301205</td>\n",
       "      <td>0.509881</td>\n",
       "      <td>0.812749</td>\n",
       "      <td>0.698413</td>\n",
       "    </tr>\n",
       "    <tr>\n",
       "      <th>1</th>\n",
       "      <td>0.030637</td>\n",
       "      <td>0.060203</td>\n",
       "      <td>0.671793</td>\n",
       "      <td>0.447825</td>\n",
       "      <td>0.397959</td>\n",
       "      <td>0.250000</td>\n",
       "      <td>0.317246</td>\n",
       "      <td>0.085714</td>\n",
       "      <td>0.811005</td>\n",
       "      <td>0.095588</td>\n",
       "      <td>...</td>\n",
       "      <td>0.120803</td>\n",
       "      <td>0.221694</td>\n",
       "      <td>0.229932</td>\n",
       "      <td>0.448935</td>\n",
       "      <td>0.380798</td>\n",
       "      <td>0.148837</td>\n",
       "      <td>0.554217</td>\n",
       "      <td>0.320158</td>\n",
       "      <td>0.418327</td>\n",
       "      <td>0.515873</td>\n",
       "    </tr>\n",
       "    <tr>\n",
       "      <th>2</th>\n",
       "      <td>0.167809</td>\n",
       "      <td>0.120847</td>\n",
       "      <td>0.167178</td>\n",
       "      <td>0.249725</td>\n",
       "      <td>0.184874</td>\n",
       "      <td>0.159574</td>\n",
       "      <td>0.060573</td>\n",
       "      <td>0.257143</td>\n",
       "      <td>0.301912</td>\n",
       "      <td>0.158905</td>\n",
       "      <td>...</td>\n",
       "      <td>0.192640</td>\n",
       "      <td>0.232581</td>\n",
       "      <td>0.332398</td>\n",
       "      <td>0.502186</td>\n",
       "      <td>0.438641</td>\n",
       "      <td>0.144456</td>\n",
       "      <td>0.373494</td>\n",
       "      <td>0.569170</td>\n",
       "      <td>0.601594</td>\n",
       "      <td>0.535714</td>\n",
       "    </tr>\n",
       "    <tr>\n",
       "      <th>3</th>\n",
       "      <td>0.033662</td>\n",
       "      <td>0.129511</td>\n",
       "      <td>0.043587</td>\n",
       "      <td>0.180090</td>\n",
       "      <td>0.169868</td>\n",
       "      <td>0.142730</td>\n",
       "      <td>0.084901</td>\n",
       "      <td>0.257143</td>\n",
       "      <td>0.695111</td>\n",
       "      <td>0.290237</td>\n",
       "      <td>...</td>\n",
       "      <td>0.335288</td>\n",
       "      <td>0.347486</td>\n",
       "      <td>0.439249</td>\n",
       "      <td>0.676682</td>\n",
       "      <td>0.648360</td>\n",
       "      <td>0.320938</td>\n",
       "      <td>1.000000</td>\n",
       "      <td>0.498024</td>\n",
       "      <td>0.286853</td>\n",
       "      <td>0.388889</td>\n",
       "    </tr>\n",
       "    <tr>\n",
       "      <th>4</th>\n",
       "      <td>0.109334</td>\n",
       "      <td>0.079696</td>\n",
       "      <td>0.083980</td>\n",
       "      <td>0.219710</td>\n",
       "      <td>0.103842</td>\n",
       "      <td>0.160018</td>\n",
       "      <td>0.067862</td>\n",
       "      <td>0.221429</td>\n",
       "      <td>0.037878</td>\n",
       "      <td>0.123775</td>\n",
       "      <td>...</td>\n",
       "      <td>0.155402</td>\n",
       "      <td>0.195071</td>\n",
       "      <td>0.356172</td>\n",
       "      <td>0.449076</td>\n",
       "      <td>0.398578</td>\n",
       "      <td>0.102404</td>\n",
       "      <td>0.096386</td>\n",
       "      <td>0.430830</td>\n",
       "      <td>0.071713</td>\n",
       "      <td>0.357143</td>\n",
       "    </tr>\n",
       "  </tbody>\n",
       "</table>\n",
       "<p>5 rows × 21 columns</p>\n",
       "</div>"
      ],
      "text/plain": [
       "         GT         K        TH         U        CT       U_K      TH_K  \\\n",
       "0  0.315739  0.231306  0.192499  0.437019  0.325930  0.113918  0.040185   \n",
       "1  0.030637  0.060203  0.671793  0.447825  0.397959  0.250000  0.317246   \n",
       "2  0.167809  0.120847  0.167178  0.249725  0.184874  0.159574  0.060573   \n",
       "3  0.033662  0.129511  0.043587  0.180090  0.169868  0.142730  0.084901   \n",
       "4  0.109334  0.079696  0.083980  0.219710  0.103842  0.160018  0.067862   \n",
       "\n",
       "       U_TH       MDT       B01  ...       B03       B04       B05       B06  \\\n",
       "0  0.271429  0.155171  0.088440  ...  0.110688  0.129058  0.355908  0.283608   \n",
       "1  0.085714  0.811005  0.095588  ...  0.120803  0.221694  0.229932  0.448935   \n",
       "2  0.257143  0.301912  0.158905  ...  0.192640  0.232581  0.332398  0.502186   \n",
       "3  0.257143  0.695111  0.290237  ...  0.335288  0.347486  0.439249  0.676682   \n",
       "4  0.221429  0.037878  0.123775  ...  0.155402  0.195071  0.356172  0.449076   \n",
       "\n",
       "        B07       B08       B09         R         G         B  \n",
       "0  0.204346  0.098803  0.301205  0.509881  0.812749  0.698413  \n",
       "1  0.380798  0.148837  0.554217  0.320158  0.418327  0.515873  \n",
       "2  0.438641  0.144456  0.373494  0.569170  0.601594  0.535714  \n",
       "3  0.648360  0.320938  1.000000  0.498024  0.286853  0.388889  \n",
       "4  0.398578  0.102404  0.096386  0.430830  0.071713  0.357143  \n",
       "\n",
       "[5 rows x 21 columns]"
      ]
     },
     "execution_count": 21,
     "metadata": {},
     "output_type": "execute_result"
    }
   ],
   "source": [
    "# visualização das 5 primeiras linhas das features de treino normalizadas\n",
    "pd.DataFrame(X_train_mm, columns = df[FEAT].columns).head()"
   ]
  },
  {
   "cell_type": "markdown",
   "metadata": {},
   "source": [
    "#### RobustScaler"
   ]
  },
  {
   "cell_type": "code",
   "execution_count": 22,
   "metadata": {},
   "outputs": [],
   "source": [
    "# escalonamento das features\n",
    "X_train_rob, X_test_rob = featureScaling(X_train, X_test, method = RobustScaler())"
   ]
  },
  {
   "cell_type": "code",
   "execution_count": 23,
   "metadata": {},
   "outputs": [
    {
     "data": {
      "text/html": [
       "<div>\n",
       "<style scoped>\n",
       "    .dataframe tbody tr th:only-of-type {\n",
       "        vertical-align: middle;\n",
       "    }\n",
       "\n",
       "    .dataframe tbody tr th {\n",
       "        vertical-align: top;\n",
       "    }\n",
       "\n",
       "    .dataframe thead th {\n",
       "        text-align: right;\n",
       "    }\n",
       "</style>\n",
       "<table border=\"1\" class=\"dataframe\">\n",
       "  <thead>\n",
       "    <tr style=\"text-align: right;\">\n",
       "      <th></th>\n",
       "      <th>GT</th>\n",
       "      <th>K</th>\n",
       "      <th>TH</th>\n",
       "      <th>U</th>\n",
       "      <th>CT</th>\n",
       "      <th>U_K</th>\n",
       "      <th>TH_K</th>\n",
       "      <th>U_TH</th>\n",
       "      <th>MDT</th>\n",
       "      <th>B01</th>\n",
       "      <th>...</th>\n",
       "      <th>B03</th>\n",
       "      <th>B04</th>\n",
       "      <th>B05</th>\n",
       "      <th>B06</th>\n",
       "      <th>B07</th>\n",
       "      <th>B08</th>\n",
       "      <th>B09</th>\n",
       "      <th>R</th>\n",
       "      <th>G</th>\n",
       "      <th>B</th>\n",
       "    </tr>\n",
       "  </thead>\n",
       "  <tbody>\n",
       "    <tr>\n",
       "      <th>0</th>\n",
       "      <td>2.702486</td>\n",
       "      <td>0.579235</td>\n",
       "      <td>0.043056</td>\n",
       "      <td>0.525253</td>\n",
       "      <td>0.312165</td>\n",
       "      <td>-0.328488</td>\n",
       "      <td>-0.438356</td>\n",
       "      <td>0.50</td>\n",
       "      <td>-1.590454</td>\n",
       "      <td>-0.660762</td>\n",
       "      <td>...</td>\n",
       "      <td>-0.586623</td>\n",
       "      <td>-0.832424</td>\n",
       "      <td>-0.025165</td>\n",
       "      <td>-0.934735</td>\n",
       "      <td>-0.970608</td>\n",
       "      <td>-0.674137</td>\n",
       "      <td>-0.666667</td>\n",
       "      <td>-0.173913</td>\n",
       "      <td>0.846939</td>\n",
       "      <td>0.523256</td>\n",
       "    </tr>\n",
       "    <tr>\n",
       "      <th>1</th>\n",
       "      <td>-0.423234</td>\n",
       "      <td>-0.284153</td>\n",
       "      <td>1.385395</td>\n",
       "      <td>0.555556</td>\n",
       "      <td>0.495792</td>\n",
       "      <td>0.563953</td>\n",
       "      <td>2.772831</td>\n",
       "      <td>-0.80</td>\n",
       "      <td>1.224634</td>\n",
       "      <td>-0.598760</td>\n",
       "      <td>...</td>\n",
       "      <td>-0.510965</td>\n",
       "      <td>-0.102884</td>\n",
       "      <td>-0.885560</td>\n",
       "      <td>-0.199247</td>\n",
       "      <td>-0.216216</td>\n",
       "      <td>-0.213357</td>\n",
       "      <td>0.500000</td>\n",
       "      <td>-0.637681</td>\n",
       "      <td>-0.163265</td>\n",
       "      <td>-0.011628</td>\n",
       "    </tr>\n",
       "    <tr>\n",
       "      <th>2</th>\n",
       "      <td>1.080649</td>\n",
       "      <td>0.021858</td>\n",
       "      <td>-0.027860</td>\n",
       "      <td>0.000000</td>\n",
       "      <td>-0.047437</td>\n",
       "      <td>-0.029070</td>\n",
       "      <td>-0.202055</td>\n",
       "      <td>0.40</td>\n",
       "      <td>-0.960585</td>\n",
       "      <td>-0.049601</td>\n",
       "      <td>...</td>\n",
       "      <td>0.026316</td>\n",
       "      <td>-0.017147</td>\n",
       "      <td>-0.185740</td>\n",
       "      <td>0.037653</td>\n",
       "      <td>0.031081</td>\n",
       "      <td>-0.253698</td>\n",
       "      <td>-0.333333</td>\n",
       "      <td>-0.028986</td>\n",
       "      <td>0.306122</td>\n",
       "      <td>0.046512</td>\n",
       "    </tr>\n",
       "    <tr>\n",
       "      <th>3</th>\n",
       "      <td>-0.390075</td>\n",
       "      <td>0.065574</td>\n",
       "      <td>-0.373997</td>\n",
       "      <td>-0.195286</td>\n",
       "      <td>-0.085692</td>\n",
       "      <td>-0.139535</td>\n",
       "      <td>0.079909</td>\n",
       "      <td>0.40</td>\n",
       "      <td>0.727175</td>\n",
       "      <td>1.089460</td>\n",
       "      <td>...</td>\n",
       "      <td>1.093202</td>\n",
       "      <td>0.887763</td>\n",
       "      <td>0.544038</td>\n",
       "      <td>0.813932</td>\n",
       "      <td>0.927703</td>\n",
       "      <td>1.371582</td>\n",
       "      <td>2.555556</td>\n",
       "      <td>-0.202899</td>\n",
       "      <td>-0.500000</td>\n",
       "      <td>-0.383721</td>\n",
       "    </tr>\n",
       "    <tr>\n",
       "      <th>4</th>\n",
       "      <td>0.439559</td>\n",
       "      <td>-0.185792</td>\n",
       "      <td>-0.260870</td>\n",
       "      <td>-0.084175</td>\n",
       "      <td>-0.254017</td>\n",
       "      <td>-0.026163</td>\n",
       "      <td>-0.117580</td>\n",
       "      <td>0.15</td>\n",
       "      <td>-2.093918</td>\n",
       "      <td>-0.354296</td>\n",
       "      <td>...</td>\n",
       "      <td>-0.252193</td>\n",
       "      <td>-0.312549</td>\n",
       "      <td>-0.023367</td>\n",
       "      <td>-0.198619</td>\n",
       "      <td>-0.140203</td>\n",
       "      <td>-0.640968</td>\n",
       "      <td>-1.611111</td>\n",
       "      <td>-0.367150</td>\n",
       "      <td>-1.051020</td>\n",
       "      <td>-0.476744</td>\n",
       "    </tr>\n",
       "  </tbody>\n",
       "</table>\n",
       "<p>5 rows × 21 columns</p>\n",
       "</div>"
      ],
      "text/plain": [
       "         GT         K        TH         U        CT       U_K      TH_K  U_TH  \\\n",
       "0  2.702486  0.579235  0.043056  0.525253  0.312165 -0.328488 -0.438356  0.50   \n",
       "1 -0.423234 -0.284153  1.385395  0.555556  0.495792  0.563953  2.772831 -0.80   \n",
       "2  1.080649  0.021858 -0.027860  0.000000 -0.047437 -0.029070 -0.202055  0.40   \n",
       "3 -0.390075  0.065574 -0.373997 -0.195286 -0.085692 -0.139535  0.079909  0.40   \n",
       "4  0.439559 -0.185792 -0.260870 -0.084175 -0.254017 -0.026163 -0.117580  0.15   \n",
       "\n",
       "        MDT       B01  ...       B03       B04       B05       B06       B07  \\\n",
       "0 -1.590454 -0.660762  ... -0.586623 -0.832424 -0.025165 -0.934735 -0.970608   \n",
       "1  1.224634 -0.598760  ... -0.510965 -0.102884 -0.885560 -0.199247 -0.216216   \n",
       "2 -0.960585 -0.049601  ...  0.026316 -0.017147 -0.185740  0.037653  0.031081   \n",
       "3  0.727175  1.089460  ...  1.093202  0.887763  0.544038  0.813932  0.927703   \n",
       "4 -2.093918 -0.354296  ... -0.252193 -0.312549 -0.023367 -0.198619 -0.140203   \n",
       "\n",
       "        B08       B09         R         G         B  \n",
       "0 -0.674137 -0.666667 -0.173913  0.846939  0.523256  \n",
       "1 -0.213357  0.500000 -0.637681 -0.163265 -0.011628  \n",
       "2 -0.253698 -0.333333 -0.028986  0.306122  0.046512  \n",
       "3  1.371582  2.555556 -0.202899 -0.500000 -0.383721  \n",
       "4 -0.640968 -1.611111 -0.367150 -1.051020 -0.476744  \n",
       "\n",
       "[5 rows x 21 columns]"
      ]
     },
     "execution_count": 23,
     "metadata": {},
     "output_type": "execute_result"
    }
   ],
   "source": [
    "# visualização das 5 primeiras linhas das features de treino normalizadas\n",
    "pd.DataFrame(X_train_rob, columns = df[FEAT].columns).head()"
   ]
  },
  {
   "cell_type": "markdown",
   "metadata": {},
   "source": [
    "### Seleção de features"
   ]
  },
  {
   "cell_type": "markdown",
   "metadata": {},
   "source": [
    "#### Teste f - ANOVA"
   ]
  },
  {
   "cell_type": "code",
   "execution_count": 24,
   "metadata": {},
   "outputs": [],
   "source": [
    "# seleção das features (Teste f - ANOVA)\n",
    "X_train_anova, X_test_anova, scores_anova = selectFeatures(X_train_std, y_train, X_test_std, f_classif, n_features = 10)"
   ]
  },
  {
   "cell_type": "code",
   "execution_count": 25,
   "metadata": {},
   "outputs": [
    {
     "data": {
      "image/png": "[encoded data removed]",
      "text/plain": [
       "<Figure size 432x216 with 1 Axes>"
      ]
     },
     "metadata": {
      "needs_background": "light"
     },
     "output_type": "display_data"
    }
   ],
   "source": [
    "plotSelectionScores(scores_anova, k = 10)"
   ]
  },
  {
   "cell_type": "code",
   "execution_count": 26,
   "metadata": {},
   "outputs": [
    {
     "data": {
      "text/plain": [
       "{'U': 231.94,\n",
       " 'CT': 226.68,\n",
       " 'TH': 155.98,\n",
       " 'K': 53.82,\n",
       " 'MDT': 51.09,\n",
       " 'U_TH': 36.36,\n",
       " 'U_K': 15.41,\n",
       " 'B05': 14.08,\n",
       " 'R': 13.93,\n",
       " 'B07': 12.36}"
      ]
     },
     "execution_count": 26,
     "metadata": {},
     "output_type": "execute_result"
    }
   ],
   "source": [
    "# as 10 features \"mais importantes\" de acordo com o teste f (ANOVA)\n",
    "anova_dic = dicScores(scores_anova, k = 10)\n",
    "anova_dic"
   ]
  },
  {
   "cell_type": "markdown",
   "metadata": {},
   "source": [
    "#### Classificação por informação mútua"
   ]
  },
  {
   "cell_type": "code",
   "execution_count": 27,
   "metadata": {},
   "outputs": [],
   "source": [
    "# seleção das features (informação mútua)\n",
    "X_train_mut, X_test_mut, scores_mut = selectFeatures(X_train_std, y_train, X_test_std, mutual_info_classif, n_features = 10)"
   ]
  },
  {
   "cell_type": "code",
   "execution_count": 28,
   "metadata": {},
   "outputs": [
    {
     "data": {
      "image/png": "[encoded data removed]",
      "text/plain": [
       "<Figure size 432x216 with 1 Axes>"
      ]
     },
     "metadata": {
      "needs_background": "light"
     },
     "output_type": "display_data"
    }
   ],
   "source": [
    "plotSelectionScores(scores_mut, k = 10)"
   ]
  },
  {
   "cell_type": "code",
   "execution_count": 29,
   "metadata": {},
   "outputs": [
    {
     "data": {
      "text/plain": [
       "{'CT': 0.54,\n",
       " 'U': 0.53,\n",
       " 'TH': 0.4,\n",
       " 'MDT': 0.36,\n",
       " 'K': 0.33,\n",
       " 'U_TH': 0.25,\n",
       " 'U_K': 0.22,\n",
       " 'R': 0.13,\n",
       " 'TH_K': 0.1,\n",
       " 'B08': 0.1}"
      ]
     },
     "execution_count": 29,
     "metadata": {},
     "output_type": "execute_result"
    }
   ],
   "source": [
    "# as 10 features \"mais importantes\" de acordo com a classificação por informação mútua\n",
    "mutual_info_dic = dicScores(scores_mut, k = 10)\n",
    "mutual_info_dic"
   ]
  },
  {
   "cell_type": "markdown",
   "metadata": {},
   "source": [
    "### Oversampling"
   ]
  },
  {
   "cell_type": "markdown",
   "metadata": {},
   "source": [
    "#### SMOTE"
   ]
  },
  {
   "cell_type": "code",
   "execution_count": 30,
   "metadata": {},
   "outputs": [],
   "source": [
    "# oversampling dos dados de treino\n",
    "X_train_smt, y_train_smt = SMOTE().fit_resample(X_train_anova, y_train)"
   ]
  },
  {
   "cell_type": "code",
   "execution_count": 31,
   "metadata": {},
   "outputs": [
    {
     "data": {
      "image/png": "[encoded data removed]",
      "text/plain": [
       "<Figure size 432x288 with 1 Axes>"
      ]
     },
     "metadata": {
      "needs_background": "light"
     },
     "output_type": "display_data"
    }
   ],
   "source": [
    "# transformação de narray em dataframe\n",
    "train_smt = pd.DataFrame(X_train_smt, columns = anova_dic.keys())\n",
    "train_smt['TARGET'] = y_train_smt\n",
    "\n",
    "# gráfico de barras\n",
    "sns.countplot(y = 'TARGET', data = train_smt, color = col, edgecolor = ec)\n",
    "\n",
    "# título e labels do gráfico\n",
    "plt.title(\"Conjunto de treino após oversampling\", size = fs_title)\n",
    "plt.xlabel(\"Frequência absoluta\", size = 14)\n",
    "plt.ylabel(\"Target\", size = 14);"
   ]
  },
  {
   "cell_type": "markdown",
   "metadata": {},
   "source": [
    "<a id='4'></a>\n",
    "## Modelagem dos dados"
   ]
  },
  {
   "cell_type": "markdown",
   "metadata": {},
   "source": [
    "### Regressão logística multinomial"
   ]
  },
  {
   "cell_type": "code",
   "execution_count": 32,
   "metadata": {},
   "outputs": [],
   "source": [
    "# dados de treino e teste\n",
    "X_train, y_train, X_test, y_test = customTrainTestSplit(df)"
   ]
  },
  {
   "cell_type": "code",
   "execution_count": 33,
   "metadata": {},
   "outputs": [],
   "source": [
    "# definição do pipeline\n",
    "mlr_pipe = Pipeline(steps = [('scaler', StandardScaler()),\n",
    "                             ('selector', SelectKBest(k = 10)),\n",
    "                             ('smote', SMOTE(random_state = 42)),\n",
    "                             ('clf', LogisticRegression(multi_class = 'multinomial', solver = 'lbfgs', random_state = 42))])"
   ]
  },
  {
   "cell_type": "code",
   "execution_count": 34,
   "metadata": {},
   "outputs": [
    {
     "data": {
      "text/plain": [
       "array([0.60434931, 0.59289407, 0.56366848, 0.66538622])"
      ]
     },
     "execution_count": 34,
     "metadata": {},
     "output_type": "execute_result"
    }
   ],
   "source": [
    "# treinamento do classificador\n",
    "mlr_pipe.fit(X_train, y_train)\n",
    "\n",
    "# validação cruzada\n",
    "cross_val_score(mlr_pipe, X_train, y_train, cv = 4, scoring = 'f1_weighted')"
   ]
  },
  {
   "cell_type": "code",
   "execution_count": 35,
   "metadata": {},
   "outputs": [],
   "source": [
    "# predição dos dados de teste\n",
    "mlr_ŷ = mlr_pipe.predict(X_test)"
   ]
  },
  {
   "cell_type": "code",
   "execution_count": 36,
   "metadata": {},
   "outputs": [
    {
     "data": {
      "image/png": "[encoded data removed]",
      "text/plain": [
       "<Figure size 756x360 with 6 Axes>"
      ]
     },
     "metadata": {
      "needs_background": "light"
     },
     "output_type": "display_data"
    }
   ],
   "source": [
    "# visualização do mapa preditivo (Regressão Logística)\n",
    "plotPrediction(mlr_ŷ, model = 'Reg. Logística')"
   ]
  },
  {
   "cell_type": "code",
   "execution_count": 37,
   "metadata": {},
   "outputs": [
    {
     "data": {
      "text/html": [
       "<div>\n",
       "<style scoped>\n",
       "    .dataframe tbody tr th:only-of-type {\n",
       "        vertical-align: middle;\n",
       "    }\n",
       "\n",
       "    .dataframe tbody tr th {\n",
       "        vertical-align: top;\n",
       "    }\n",
       "\n",
       "    .dataframe thead th {\n",
       "        text-align: right;\n",
       "    }\n",
       "</style>\n",
       "<table border=\"1\" class=\"dataframe\">\n",
       "  <thead>\n",
       "    <tr style=\"text-align: right;\">\n",
       "      <th></th>\n",
       "      <th>MLR</th>\n",
       "    </tr>\n",
       "  </thead>\n",
       "  <tbody>\n",
       "    <tr>\n",
       "      <th>0</th>\n",
       "      <td>5</td>\n",
       "    </tr>\n",
       "    <tr>\n",
       "      <th>1</th>\n",
       "      <td>4</td>\n",
       "    </tr>\n",
       "    <tr>\n",
       "      <th>2</th>\n",
       "      <td>6</td>\n",
       "    </tr>\n",
       "    <tr>\n",
       "      <th>3</th>\n",
       "      <td>4</td>\n",
       "    </tr>\n",
       "    <tr>\n",
       "      <th>4</th>\n",
       "      <td>2</td>\n",
       "    </tr>\n",
       "  </tbody>\n",
       "</table>\n",
       "</div>"
      ],
      "text/plain": [
       "   MLR\n",
       "0    5\n",
       "1    4\n",
       "2    6\n",
       "3    4\n",
       "4    2"
      ]
     },
     "execution_count": 37,
     "metadata": {},
     "output_type": "execute_result"
    }
   ],
   "source": [
    "# criação de um dataframe de predições por algoritmo\n",
    "df_pred = pd.DataFrame()\n",
    "# adicionando predições da Regressão Logística\n",
    "df_pred['MLR'] = mlr_ŷ\n",
    "# visualização das 5 primeiras linhas do dataframe de predições\n",
    "df_pred.head()"
   ]
  },
  {
   "cell_type": "markdown",
   "metadata": {},
   "source": [
    "### Gaussian Naive Bayes"
   ]
  },
  {
   "cell_type": "code",
   "execution_count": 38,
   "metadata": {},
   "outputs": [],
   "source": [
    "# dados de treino e teste\n",
    "X_train, y_train, X_test, y_test = customTrainTestSplit(df)"
   ]
  },
  {
   "cell_type": "code",
   "execution_count": 39,
   "metadata": {},
   "outputs": [],
   "source": [
    "# definição do pipeline\n",
    "gnb_pipe = Pipeline(steps = [('scaler', StandardScaler()),\n",
    "                             ('selector', SelectKBest(k = 10)),\n",
    "                             ('smote', SMOTE(random_state = 42)),\n",
    "                             ('clf',GaussianNB())])"
   ]
  },
  {
   "cell_type": "code",
   "execution_count": 40,
   "metadata": {},
   "outputs": [
    {
     "data": {
      "text/plain": [
       "array([0.51939709, 0.5037361 , 0.56971818, 0.5286932 ])"
      ]
     },
     "execution_count": 40,
     "metadata": {},
     "output_type": "execute_result"
    }
   ],
   "source": [
    "# treinamento do classificador\n",
    "gnb_pipe.fit(X_train, y_train)\n",
    "\n",
    "# validação cruzada\n",
    "cross_val_score(gnb_pipe, X_train, y_train, cv = 4, scoring = 'f1_weighted')"
   ]
  },
  {
   "cell_type": "code",
   "execution_count": 41,
   "metadata": {},
   "outputs": [],
   "source": [
    "# predição dos dados de teste\n",
    "gnb_ŷ = gnb_pipe.predict(X_test)"
   ]
  },
  {
   "cell_type": "code",
   "execution_count": 42,
   "metadata": {},
   "outputs": [
    {
     "data": {
      "image/png": "[encoded data removed]",
      "text/plain": [
       "<Figure size 756x360 with 6 Axes>"
      ]
     },
     "metadata": {
      "needs_background": "light"
     },
     "output_type": "display_data"
    }
   ],
   "source": [
    "# visualização do mapa preditivo (Regressão Logística)\n",
    "plotPrediction(gnb_ŷ, model = 'Naive Bayes')"
   ]
  },
  {
   "cell_type": "code",
   "execution_count": 43,
   "metadata": {},
   "outputs": [
    {
     "data": {
      "text/html": [
       "<div>\n",
       "<style scoped>\n",
       "    .dataframe tbody tr th:only-of-type {\n",
       "        vertical-align: middle;\n",
       "    }\n",
       "\n",
       "    .dataframe tbody tr th {\n",
       "        vertical-align: top;\n",
       "    }\n",
       "\n",
       "    .dataframe thead th {\n",
       "        text-align: right;\n",
       "    }\n",
       "</style>\n",
       "<table border=\"1\" class=\"dataframe\">\n",
       "  <thead>\n",
       "    <tr style=\"text-align: right;\">\n",
       "      <th></th>\n",
       "      <th>MLR</th>\n",
       "      <th>GNB</th>\n",
       "    </tr>\n",
       "  </thead>\n",
       "  <tbody>\n",
       "    <tr>\n",
       "      <th>0</th>\n",
       "      <td>5</td>\n",
       "      <td>6</td>\n",
       "    </tr>\n",
       "    <tr>\n",
       "      <th>1</th>\n",
       "      <td>4</td>\n",
       "      <td>6</td>\n",
       "    </tr>\n",
       "    <tr>\n",
       "      <th>2</th>\n",
       "      <td>6</td>\n",
       "      <td>6</td>\n",
       "    </tr>\n",
       "    <tr>\n",
       "      <th>3</th>\n",
       "      <td>4</td>\n",
       "      <td>6</td>\n",
       "    </tr>\n",
       "    <tr>\n",
       "      <th>4</th>\n",
       "      <td>2</td>\n",
       "      <td>2</td>\n",
       "    </tr>\n",
       "  </tbody>\n",
       "</table>\n",
       "</div>"
      ],
      "text/plain": [
       "   MLR  GNB\n",
       "0    5    6\n",
       "1    4    6\n",
       "2    6    6\n",
       "3    4    6\n",
       "4    2    2"
      ]
     },
     "execution_count": 43,
     "metadata": {},
     "output_type": "execute_result"
    }
   ],
   "source": [
    "# adicionando predições da Regressão Logística\n",
    "df_pred['GNB'] = gnb_ŷ\n",
    "# visualização das 5 primeiras linhas do dataframe de predições\n",
    "df_pred.head()"
   ]
  },
  {
   "cell_type": "markdown",
   "metadata": {},
   "source": [
    "### K-Nearest Neighbors (KNN)"
   ]
  },
  {
   "cell_type": "code",
   "execution_count": 44,
   "metadata": {},
   "outputs": [],
   "source": [
    "# dados de treino e teste\n",
    "X_train, y_train, X_test, y_test = customTrainTestSplit(df)"
   ]
  },
  {
   "cell_type": "code",
   "execution_count": 45,
   "metadata": {},
   "outputs": [],
   "source": [
    "# definição do pipeline\n",
    "knn_pipe = Pipeline(steps = [('scaler', StandardScaler()),\n",
    "                             ('selector', SelectKBest(k = 10)),\n",
    "                             ('smote', SMOTE(random_state = 42)),\n",
    "                             ('clf',KNeighborsClassifier())])"
   ]
  },
  {
   "cell_type": "code",
   "execution_count": 46,
   "metadata": {},
   "outputs": [
    {
     "data": {
      "text/plain": [
       "array([0.58712331, 0.60925939, 0.51940324, 0.55725825])"
      ]
     },
     "execution_count": 46,
     "metadata": {},
     "output_type": "execute_result"
    }
   ],
   "source": [
    "# treinamento do classificador\n",
    "knn_pipe.fit(X_train, y_train)\n",
    "\n",
    "# validação cruzada\n",
    "cross_val_score(knn_pipe, X_train, y_train, cv = 4, scoring = 'f1_weighted')"
   ]
  },
  {
   "cell_type": "code",
   "execution_count": 47,
   "metadata": {},
   "outputs": [],
   "source": [
    "# predição dos dados de teste\n",
    "knn_ŷ = knn_pipe.predict(X_test)"
   ]
  },
  {
   "cell_type": "code",
   "execution_count": 48,
   "metadata": {},
   "outputs": [
    {
     "data": {
      "image/png": "[encoded data removed]",
      "text/plain": [
       "<Figure size 756x360 with 6 Axes>"
      ]
     },
     "metadata": {
      "needs_background": "light"
     },
     "output_type": "display_data"
    }
   ],
   "source": [
    "# visualização do mapa preditivo (KNN)\n",
    "plotPrediction(knn_ŷ, model = 'KNN')"
   ]
  },
  {
   "cell_type": "code",
   "execution_count": 49,
   "metadata": {},
   "outputs": [
    {
     "data": {
      "text/html": [
       "<div>\n",
       "<style scoped>\n",
       "    .dataframe tbody tr th:only-of-type {\n",
       "        vertical-align: middle;\n",
       "    }\n",
       "\n",
       "    .dataframe tbody tr th {\n",
       "        vertical-align: top;\n",
       "    }\n",
       "\n",
       "    .dataframe thead th {\n",
       "        text-align: right;\n",
       "    }\n",
       "</style>\n",
       "<table border=\"1\" class=\"dataframe\">\n",
       "  <thead>\n",
       "    <tr style=\"text-align: right;\">\n",
       "      <th></th>\n",
       "      <th>MLR</th>\n",
       "      <th>GNB</th>\n",
       "      <th>KNN</th>\n",
       "    </tr>\n",
       "  </thead>\n",
       "  <tbody>\n",
       "    <tr>\n",
       "      <th>0</th>\n",
       "      <td>5</td>\n",
       "      <td>6</td>\n",
       "      <td>3</td>\n",
       "    </tr>\n",
       "    <tr>\n",
       "      <th>1</th>\n",
       "      <td>4</td>\n",
       "      <td>6</td>\n",
       "      <td>3</td>\n",
       "    </tr>\n",
       "    <tr>\n",
       "      <th>2</th>\n",
       "      <td>6</td>\n",
       "      <td>6</td>\n",
       "      <td>5</td>\n",
       "    </tr>\n",
       "    <tr>\n",
       "      <th>3</th>\n",
       "      <td>4</td>\n",
       "      <td>6</td>\n",
       "      <td>3</td>\n",
       "    </tr>\n",
       "    <tr>\n",
       "      <th>4</th>\n",
       "      <td>2</td>\n",
       "      <td>2</td>\n",
       "      <td>2</td>\n",
       "    </tr>\n",
       "  </tbody>\n",
       "</table>\n",
       "</div>"
      ],
      "text/plain": [
       "   MLR  GNB  KNN\n",
       "0    5    6    3\n",
       "1    4    6    3\n",
       "2    6    6    5\n",
       "3    4    6    3\n",
       "4    2    2    2"
      ]
     },
     "execution_count": 49,
     "metadata": {},
     "output_type": "execute_result"
    }
   ],
   "source": [
    "# adicionando predições do KNN\n",
    "df_pred['KNN'] = knn_ŷ\n",
    "# visualização das 5 primeiras linhas do dataframe de predições\n",
    "df_pred.head()"
   ]
  },
  {
   "cell_type": "markdown",
   "metadata": {},
   "source": [
    "### Support Vector Machines (SVM)"
   ]
  },
  {
   "cell_type": "code",
   "execution_count": 50,
   "metadata": {},
   "outputs": [],
   "source": [
    "# dados de treino e teste\n",
    "X_train, y_train, X_test, y_test = customTrainTestSplit(df)"
   ]
  },
  {
   "cell_type": "code",
   "execution_count": 51,
   "metadata": {},
   "outputs": [],
   "source": [
    "# definição do pipeline\n",
    "svm_pipe = Pipeline(steps = [('scaler', StandardScaler()),\n",
    "                             ('selector', SelectKBest(k = 10)),\n",
    "                             ('smote', SMOTE(random_state = 42)),\n",
    "                             ('clf', SVC(random_state = 42))])"
   ]
  },
  {
   "cell_type": "code",
   "execution_count": 52,
   "metadata": {},
   "outputs": [
    {
     "data": {
      "text/plain": [
       "array([0.58702132, 0.5967194 , 0.62362441, 0.62575564])"
      ]
     },
     "execution_count": 52,
     "metadata": {},
     "output_type": "execute_result"
    }
   ],
   "source": [
    "# treinamento do classificador\n",
    "svm_pipe.fit(X_train, y_train)\n",
    "\n",
    "# validação cruzada\n",
    "cross_val_score(svm_pipe, X_train, y_train, cv = 4, scoring = 'f1_weighted')"
   ]
  },
  {
   "cell_type": "code",
   "execution_count": 53,
   "metadata": {},
   "outputs": [],
   "source": [
    "# predição dos dados de teste\n",
    "svm_ŷ = svm_pipe.predict(X_test)"
   ]
  },
  {
   "cell_type": "code",
   "execution_count": 54,
   "metadata": {},
   "outputs": [
    {
     "data": {
      "image/png": "[encoded data removed]",
      "text/plain": [
       "<Figure size 756x360 with 6 Axes>"
      ]
     },
     "metadata": {
      "needs_background": "light"
     },
     "output_type": "display_data"
    }
   ],
   "source": [
    "# visualização do mapa preditivo (SVM)\n",
    "plotPrediction(svm_ŷ, model = 'SVM')"
   ]
  },
  {
   "cell_type": "code",
   "execution_count": 55,
   "metadata": {},
   "outputs": [
    {
     "data": {
      "text/html": [
       "<div>\n",
       "<style scoped>\n",
       "    .dataframe tbody tr th:only-of-type {\n",
       "        vertical-align: middle;\n",
       "    }\n",
       "\n",
       "    .dataframe tbody tr th {\n",
       "        vertical-align: top;\n",
       "    }\n",
       "\n",
       "    .dataframe thead th {\n",
       "        text-align: right;\n",
       "    }\n",
       "</style>\n",
       "<table border=\"1\" class=\"dataframe\">\n",
       "  <thead>\n",
       "    <tr style=\"text-align: right;\">\n",
       "      <th></th>\n",
       "      <th>MLR</th>\n",
       "      <th>GNB</th>\n",
       "      <th>KNN</th>\n",
       "      <th>SVM</th>\n",
       "    </tr>\n",
       "  </thead>\n",
       "  <tbody>\n",
       "    <tr>\n",
       "      <th>0</th>\n",
       "      <td>5</td>\n",
       "      <td>6</td>\n",
       "      <td>3</td>\n",
       "      <td>3</td>\n",
       "    </tr>\n",
       "    <tr>\n",
       "      <th>1</th>\n",
       "      <td>4</td>\n",
       "      <td>6</td>\n",
       "      <td>3</td>\n",
       "      <td>4</td>\n",
       "    </tr>\n",
       "    <tr>\n",
       "      <th>2</th>\n",
       "      <td>6</td>\n",
       "      <td>6</td>\n",
       "      <td>5</td>\n",
       "      <td>6</td>\n",
       "    </tr>\n",
       "    <tr>\n",
       "      <th>3</th>\n",
       "      <td>4</td>\n",
       "      <td>6</td>\n",
       "      <td>3</td>\n",
       "      <td>4</td>\n",
       "    </tr>\n",
       "    <tr>\n",
       "      <th>4</th>\n",
       "      <td>2</td>\n",
       "      <td>2</td>\n",
       "      <td>2</td>\n",
       "      <td>2</td>\n",
       "    </tr>\n",
       "  </tbody>\n",
       "</table>\n",
       "</div>"
      ],
      "text/plain": [
       "   MLR  GNB  KNN  SVM\n",
       "0    5    6    3    3\n",
       "1    4    6    3    4\n",
       "2    6    6    5    6\n",
       "3    4    6    3    4\n",
       "4    2    2    2    2"
      ]
     },
     "execution_count": 55,
     "metadata": {},
     "output_type": "execute_result"
    }
   ],
   "source": [
    "# adicionando coluna do SVM ao dataframe de predições\n",
    "df_pred['SVM'] = svm_ŷ\n",
    "# visualização do dataframe de predições\n",
    "df_pred.head()"
   ]
  },
  {
   "cell_type": "markdown",
   "metadata": {},
   "source": [
    "### Random Forest"
   ]
  },
  {
   "cell_type": "code",
   "execution_count": 56,
   "metadata": {},
   "outputs": [],
   "source": [
    "# dados de treino e teste\n",
    "X_train, y_train, X_test, y_test = customTrainTestSplit(df)"
   ]
  },
  {
   "cell_type": "code",
   "execution_count": 57,
   "metadata": {},
   "outputs": [],
   "source": [
    "# definição do pipeline\n",
    "rf_pipe = Pipeline(steps = [('scaler', StandardScaler()),\n",
    "                             ('selector', SelectKBest(k = 10)),\n",
    "                             ('smote', SMOTE(random_state = 42)),\n",
    "                             ('clf', RandomForestClassifier(random_state = 42))])"
   ]
  },
  {
   "cell_type": "code",
   "execution_count": 58,
   "metadata": {},
   "outputs": [
    {
     "data": {
      "text/plain": [
       "array([0.73164024, 0.63861237, 0.70961789, 0.77803436])"
      ]
     },
     "execution_count": 58,
     "metadata": {},
     "output_type": "execute_result"
    }
   ],
   "source": [
    "# treinamento do classificador\n",
    "rf_pipe.fit(X_train, y_train)\n",
    "\n",
    "# validação cruzada\n",
    "cross_val_score(rf_pipe, X_train, y_train, cv = 4, scoring = 'f1_weighted')"
   ]
  },
  {
   "cell_type": "code",
   "execution_count": 59,
   "metadata": {},
   "outputs": [],
   "source": [
    "# predição dos dados de teste\n",
    "rf_ŷ = rf_pipe.predict(X_test)"
   ]
  },
  {
   "cell_type": "code",
   "execution_count": 60,
   "metadata": {},
   "outputs": [
    {
     "data": {
      "image/png": "[encoded data removed]",
      "text/plain": [
       "<Figure size 756x360 with 6 Axes>"
      ]
     },
     "metadata": {
      "needs_background": "light"
     },
     "output_type": "display_data"
    }
   ],
   "source": [
    "# visualização do mapa preditivo (Random Forest)\n",
    "plotPrediction(rf_ŷ, model = 'Random Forest')"
   ]
  },
  {
   "cell_type": "code",
   "execution_count": 61,
   "metadata": {},
   "outputs": [
    {
     "data": {
      "text/html": [
       "<div>\n",
       "<style scoped>\n",
       "    .dataframe tbody tr th:only-of-type {\n",
       "        vertical-align: middle;\n",
       "    }\n",
       "\n",
       "    .dataframe tbody tr th {\n",
       "        vertical-align: top;\n",
       "    }\n",
       "\n",
       "    .dataframe thead th {\n",
       "        text-align: right;\n",
       "    }\n",
       "</style>\n",
       "<table border=\"1\" class=\"dataframe\">\n",
       "  <thead>\n",
       "    <tr style=\"text-align: right;\">\n",
       "      <th></th>\n",
       "      <th>MLR</th>\n",
       "      <th>GNB</th>\n",
       "      <th>KNN</th>\n",
       "      <th>SVM</th>\n",
       "      <th>RF</th>\n",
       "    </tr>\n",
       "  </thead>\n",
       "  <tbody>\n",
       "    <tr>\n",
       "      <th>0</th>\n",
       "      <td>5</td>\n",
       "      <td>6</td>\n",
       "      <td>3</td>\n",
       "      <td>3</td>\n",
       "      <td>3</td>\n",
       "    </tr>\n",
       "    <tr>\n",
       "      <th>1</th>\n",
       "      <td>4</td>\n",
       "      <td>6</td>\n",
       "      <td>3</td>\n",
       "      <td>4</td>\n",
       "      <td>3</td>\n",
       "    </tr>\n",
       "    <tr>\n",
       "      <th>2</th>\n",
       "      <td>6</td>\n",
       "      <td>6</td>\n",
       "      <td>5</td>\n",
       "      <td>6</td>\n",
       "      <td>6</td>\n",
       "    </tr>\n",
       "    <tr>\n",
       "      <th>3</th>\n",
       "      <td>4</td>\n",
       "      <td>6</td>\n",
       "      <td>3</td>\n",
       "      <td>4</td>\n",
       "      <td>5</td>\n",
       "    </tr>\n",
       "    <tr>\n",
       "      <th>4</th>\n",
       "      <td>2</td>\n",
       "      <td>2</td>\n",
       "      <td>2</td>\n",
       "      <td>2</td>\n",
       "      <td>2</td>\n",
       "    </tr>\n",
       "  </tbody>\n",
       "</table>\n",
       "</div>"
      ],
      "text/plain": [
       "   MLR  GNB  KNN  SVM  RF\n",
       "0    5    6    3    3   3\n",
       "1    4    6    3    4   3\n",
       "2    6    6    5    6   6\n",
       "3    4    6    3    4   5\n",
       "4    2    2    2    2   2"
      ]
     },
     "execution_count": 61,
     "metadata": {},
     "output_type": "execute_result"
    }
   ],
   "source": [
    "# adicionando coluna do Random Forest ao dataframe de predições\n",
    "df_pred['RF'] = rf_ŷ\n",
    "# visualização do dataframe de predições\n",
    "df_pred.head()"
   ]
  }
 ],
 "metadata": {
  "kernelspec": {
   "display_name": "Python 3",
   "language": "python",
   "name": "python3"
  },
  "language_info": {
   "codemirror_mode": {
    "name": "ipython",
    "version": 3
   },
   "file_extension": ".py",
   "mimetype": "text/x-python",
   "name": "python",
   "nbconvert_exporter": "python",
   "pygments_lexer": "ipython3",
   "version": "3.6.10"
  }
 },
 "nbformat": 4,
 "nbformat_minor": 4
}
