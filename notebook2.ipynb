{
 "cells": [
  {
   "cell_type": "markdown",
   "metadata": {},
   "source": [
    "# Notebook 2 - Pré-processamento e modelagem dos dados\n",
    "\n",
    "##### Trabalho de Conclusão de Curso - Geologia / IGC / UFMG\n",
    "\n",
    "Autores: [Franco Naghetini](https://github.com/fnaghetini) e [Guilherme Silveira](https://github.com/guiasilveira)"
   ]
  },
  {
   "cell_type": "markdown",
   "metadata": {},
   "source": [
    "## Sumário\n",
    "\n",
    "<big><big>[Configurações iniciais](#1)</big></big>\n",
    "\n",
    "<big><big>[Variáveis e parâmetros globais](#2)</big></big>\n",
    "\n",
    "<big><big>[Separação entre dados de treino e teste](#3)</big></big>\n",
    "\n",
    "<big><big>[Pré-processamento](#4)</big></big>\n",
    "\n",
    "<big><big>[Transformadores e variáveis](#5)</big></big>\n",
    "\n",
    "<big><big>[Divisão entre treino e teste](#6)</big></big>\n",
    "\n",
    "<big><big>[Criação dos pipelines](#7)</big></big>\n",
    "\n",
    "<big><big>[Tuning dos hiperparâmetros](#8)</big></big>\n",
    "\n",
    "<big><big>[Validação cruzada](#9)</big></big>\n",
    "\n",
    "<big><big>[Treinamento dos classificadores e predições](#10)</big></big>\n",
    "\n",
    "<big><big>[Avaliação da performance dos modelos](#11)</big></big>\n",
    "\n",
    "<big><big>[Avaliação do estimador do erro de generalização](#12)</big></big>\n",
    "\n",
    "<big><big>[Mapas de probabilidade por classes](#13)</big></big>\n",
    "\n",
    "<big><big>[Mapas de entropia cruzada](#14)</big></big>\n",
    "\n",
    "<big><big>[Análise de performance: número de amostras por unidade](#15)</big></big>\n",
    "\n",
    "<big><big>[Exportação dos resultados](#16)</big></big>"
   ]
  },
  {
   "cell_type": "markdown",
   "metadata": {},
   "source": [
    "<a id='1'></a>\n",
    "##  Configurações iniciais"
   ]
  },
  {
   "cell_type": "markdown",
   "metadata": {},
   "source": [
    "### Importação de bibliotecas\n",
    "\n",
    "Bibliotecas e funções utilizadas neste notebook. Leia a seção [Versões do Software](https://github.com/fnaghetini/Mapa-Preditivo) para conferir as versões das bibliotecas."
   ]
  },
  {
   "cell_type": "code",
   "execution_count": 1,
   "metadata": {},
   "outputs": [],
   "source": [
    "# manipulação e visualização dos dados\n",
    "from math import ceil                                        # arredondamento 'para cima'\n",
    "import numpy as np                                           # operações numéricas de vetores\n",
    "import pandas as pd                                          # manipulação de dataframes e series\n",
    "import matplotlib.pyplot as plt                              # visualização de dados\n",
    "import seaborn as sns                                        # visualização de dados\n",
    "\n",
    "# pré-processamento dos dados\n",
    "from sklearn.preprocessing import StandardScaler             # escalonamento dos dados\n",
    "from sklearn.decomposition import PCA                        # análise de componentes principais\n",
    "from sklearn.feature_selection import SelectKBest            # seleção univariada de features\n",
    "from sklearn.feature_selection import f_classif              # seleção univariada de features (teste F ANOVA)\n",
    "from imblearn.over_sampling import SMOTE                     # superamostragem\n",
    "from imblearn.pipeline import Pipeline                       # criação de pipelines\n",
    "\n",
    "# modelagem dos dados\n",
    "from sklearn.dummy import DummyClassifier                    # baseline\n",
    "from sklearn.linear_model import LogisticRegression          # logistic regression\n",
    "from sklearn.tree import DecisionTreeClassifier              # decision tree\n",
    "from sklearn.naive_bayes import GaussianNB                   # gaussian naive bayes\n",
    "from sklearn.neighbors import KNeighborsClassifier           # k-nearest neighbor\n",
    "from sklearn.svm import SVC                                  # support vector machines\n",
    "from sklearn.ensemble import RandomForestClassifier          # random forest\n",
    "from xgboost import XGBClassifier                            # xgboost\n",
    "from sklearn.neural_network import MLPClassifier             # multilayer perceptron\n",
    "\n",
    "# validação dos modelos\n",
    "from sklearn.model_selection import StratifiedKFold          # amostragem estratificada\n",
    "from sklearn.metrics import confusion_matrix                 # matriz de confusão\n",
    "from sklearn.metrics import classification_report            # report de métricas de classificação\n",
    "from sklearn.metrics import f1_score                         # f1-score\n",
    "from sklearn.metrics import recall_score                     # recall\n",
    "from sklearn.metrics import precision_score                  # precisão\n",
    "\n",
    "# tuning dos modelos\n",
    "from sklearn.model_selection import RandomizedSearchCV       # random search\n",
    "from sklearn.model_selection import GridSearchCV             # grid search\n",
    "\n",
    "import warnings                                              # desabilitar avisos\n",
    "warnings.filterwarnings(\"ignore\")\n",
    "\n",
    "%matplotlib inline"
   ]
  },
  {
   "cell_type": "markdown",
   "metadata": {},
   "source": [
    "### Importação de funções auxiliares\n",
    "\n",
    "As **funções auxiliares** se diferenciam das demais funções (nativas e de bibliotecas externas) por adotarem o padrão **lowerCamelCase**. A única exceção é a classe auxiliar `MaskedPCA` que, por sua vez, encontra-se no padrão **UpperCamelCase**. Toda vez que uma função auxiliar é utilizada no notebook, haverá um hiperlink que aponta para o arquivo .py fonte dessa função. Clique [aqui](https://github.com/fnaghetini/Mapa-Preditivo/blob/main/functions/functions.pdf) para visualizar o mapa mental das funções auxiliares."
   ]
  },
  {
   "cell_type": "code",
   "execution_count": 2,
   "metadata": {},
   "outputs": [],
   "source": [
    "from functions.Custom_Train_Test_Split import customTrainTestSplit  # divisão entre treino e teste\n",
    "from functions.Custom_Preprocessing import MaskedPCA                # PCA customizada\n",
    "from functions.Custom_Preprocessing import univariateSelector       # seleção de features univariada\n",
    "from functions.Custom_Preprocessing import plotSelectionScores      # plotagem dos scores de importância das features\n",
    "from functions.Custom_Prediction import createPredTable             # dataframe com as predições dos modelos\n",
    "from functions.Custom_Prediction import createMissClassifTable      # dataframe com as inconsistências dos modelos\n",
    "from functions.Custom_Validation import validationReport            # report de performance do conjunto de validação\n",
    "from functions.Custom_Validation import testReport                  # report de performance do conjunto de teste\n",
    "from functions.Custom_Validation import plotModelScores             # plotagem dos scores de performance por modelo\n",
    "from functions.Custom_Prediction import createPredProbaTable        # dataframe com as probabilidades por classe\n",
    "from functions.Custom_Prediction import categoricalCrossEntropy     # dataframe com a entropia cruzada do modelo"
   ]
  },
  {
   "cell_type": "markdown",
   "metadata": {},
   "source": [
    "### Importação do banco de dados"
   ]
  },
  {
   "cell_type": "code",
   "execution_count": 3,
   "metadata": {},
   "outputs": [
    {
     "data": {
      "text/html": [
       "<div>\n",
       "<style scoped>\n",
       "    .dataframe tbody tr th:only-of-type {\n",
       "        vertical-align: middle;\n",
       "    }\n",
       "\n",
       "    .dataframe tbody tr th {\n",
       "        vertical-align: top;\n",
       "    }\n",
       "\n",
       "    .dataframe thead th {\n",
       "        text-align: right;\n",
       "    }\n",
       "</style>\n",
       "<table border=\"1\" class=\"dataframe\">\n",
       "  <thead>\n",
       "    <tr style=\"text-align: right;\">\n",
       "      <th></th>\n",
       "      <th>X</th>\n",
       "      <th>Y</th>\n",
       "      <th>GT</th>\n",
       "      <th>K</th>\n",
       "      <th>TH</th>\n",
       "      <th>U</th>\n",
       "      <th>CT</th>\n",
       "      <th>U_K</th>\n",
       "      <th>TH_K</th>\n",
       "      <th>U_TH</th>\n",
       "      <th>...</th>\n",
       "      <th>B04</th>\n",
       "      <th>B05</th>\n",
       "      <th>B06</th>\n",
       "      <th>B07</th>\n",
       "      <th>R</th>\n",
       "      <th>G</th>\n",
       "      <th>B</th>\n",
       "      <th>TARGET</th>\n",
       "      <th>UNID</th>\n",
       "      <th>COD</th>\n",
       "    </tr>\n",
       "  </thead>\n",
       "  <tbody>\n",
       "    <tr>\n",
       "      <th>0</th>\n",
       "      <td>638663.68</td>\n",
       "      <td>7981552.08</td>\n",
       "      <td>0.076001</td>\n",
       "      <td>0.38</td>\n",
       "      <td>3.98</td>\n",
       "      <td>2.21</td>\n",
       "      <td>3.56</td>\n",
       "      <td>3.11</td>\n",
       "      <td>6.51</td>\n",
       "      <td>0.49</td>\n",
       "      <td>...</td>\n",
       "      <td>8288</td>\n",
       "      <td>13873</td>\n",
       "      <td>15656</td>\n",
       "      <td>11371</td>\n",
       "      <td>208</td>\n",
       "      <td>199</td>\n",
       "      <td>185</td>\n",
       "      <td>6</td>\n",
       "      <td>Fm_GM</td>\n",
       "      <td>PP4egm</td>\n",
       "    </tr>\n",
       "    <tr>\n",
       "      <th>1</th>\n",
       "      <td>638663.68</td>\n",
       "      <td>7981489.58</td>\n",
       "      <td>0.054137</td>\n",
       "      <td>0.41</td>\n",
       "      <td>3.66</td>\n",
       "      <td>2.44</td>\n",
       "      <td>3.60</td>\n",
       "      <td>3.11</td>\n",
       "      <td>6.91</td>\n",
       "      <td>0.47</td>\n",
       "      <td>...</td>\n",
       "      <td>8944</td>\n",
       "      <td>12704</td>\n",
       "      <td>17906</td>\n",
       "      <td>13743</td>\n",
       "      <td>195</td>\n",
       "      <td>189</td>\n",
       "      <td>169</td>\n",
       "      <td>6</td>\n",
       "      <td>Fm_GM</td>\n",
       "      <td>PP4egm</td>\n",
       "    </tr>\n",
       "    <tr>\n",
       "      <th>2</th>\n",
       "      <td>638726.18</td>\n",
       "      <td>7981489.58</td>\n",
       "      <td>0.071591</td>\n",
       "      <td>0.57</td>\n",
       "      <td>5.30</td>\n",
       "      <td>2.63</td>\n",
       "      <td>4.23</td>\n",
       "      <td>2.72</td>\n",
       "      <td>6.97</td>\n",
       "      <td>0.41</td>\n",
       "      <td>...</td>\n",
       "      <td>9117</td>\n",
       "      <td>12867</td>\n",
       "      <td>17693</td>\n",
       "      <td>13716</td>\n",
       "      <td>197</td>\n",
       "      <td>160</td>\n",
       "      <td>153</td>\n",
       "      <td>6</td>\n",
       "      <td>Fm_GM</td>\n",
       "      <td>PP4egm</td>\n",
       "    </tr>\n",
       "    <tr>\n",
       "      <th>3</th>\n",
       "      <td>638788.68</td>\n",
       "      <td>7981489.58</td>\n",
       "      <td>0.055794</td>\n",
       "      <td>0.80</td>\n",
       "      <td>7.26</td>\n",
       "      <td>2.88</td>\n",
       "      <td>4.92</td>\n",
       "      <td>2.40</td>\n",
       "      <td>7.16</td>\n",
       "      <td>0.36</td>\n",
       "      <td>...</td>\n",
       "      <td>8891</td>\n",
       "      <td>13373</td>\n",
       "      <td>16064</td>\n",
       "      <td>11973</td>\n",
       "      <td>226</td>\n",
       "      <td>208</td>\n",
       "      <td>202</td>\n",
       "      <td>6</td>\n",
       "      <td>Fm_GM</td>\n",
       "      <td>PP4egm</td>\n",
       "    </tr>\n",
       "    <tr>\n",
       "      <th>4</th>\n",
       "      <td>638851.18</td>\n",
       "      <td>7981489.58</td>\n",
       "      <td>0.033372</td>\n",
       "      <td>1.05</td>\n",
       "      <td>9.20</td>\n",
       "      <td>3.17</td>\n",
       "      <td>5.54</td>\n",
       "      <td>2.21</td>\n",
       "      <td>7.50</td>\n",
       "      <td>0.33</td>\n",
       "      <td>...</td>\n",
       "      <td>8667</td>\n",
       "      <td>13115</td>\n",
       "      <td>15789</td>\n",
       "      <td>11648</td>\n",
       "      <td>161</td>\n",
       "      <td>167</td>\n",
       "      <td>130</td>\n",
       "      <td>6</td>\n",
       "      <td>Fm_GM</td>\n",
       "      <td>PP4egm</td>\n",
       "    </tr>\n",
       "    <tr>\n",
       "      <th>5</th>\n",
       "      <td>638788.68</td>\n",
       "      <td>7981427.08</td>\n",
       "      <td>0.028260</td>\n",
       "      <td>0.85</td>\n",
       "      <td>6.60</td>\n",
       "      <td>2.97</td>\n",
       "      <td>4.92</td>\n",
       "      <td>2.51</td>\n",
       "      <td>7.64</td>\n",
       "      <td>0.36</td>\n",
       "      <td>...</td>\n",
       "      <td>8287</td>\n",
       "      <td>12890</td>\n",
       "      <td>15269</td>\n",
       "      <td>11403</td>\n",
       "      <td>142</td>\n",
       "      <td>107</td>\n",
       "      <td>106</td>\n",
       "      <td>6</td>\n",
       "      <td>Fm_GM</td>\n",
       "      <td>PP4egm</td>\n",
       "    </tr>\n",
       "    <tr>\n",
       "      <th>6</th>\n",
       "      <td>638663.68</td>\n",
       "      <td>7981427.08</td>\n",
       "      <td>0.051313</td>\n",
       "      <td>0.44</td>\n",
       "      <td>3.20</td>\n",
       "      <td>2.62</td>\n",
       "      <td>3.62</td>\n",
       "      <td>3.14</td>\n",
       "      <td>7.37</td>\n",
       "      <td>0.44</td>\n",
       "      <td>...</td>\n",
       "      <td>9163</td>\n",
       "      <td>12529</td>\n",
       "      <td>18497</td>\n",
       "      <td>14848</td>\n",
       "      <td>226</td>\n",
       "      <td>175</td>\n",
       "      <td>200</td>\n",
       "      <td>6</td>\n",
       "      <td>Fm_GM</td>\n",
       "      <td>PP4egm</td>\n",
       "    </tr>\n",
       "    <tr>\n",
       "      <th>7</th>\n",
       "      <td>638726.18</td>\n",
       "      <td>7981427.08</td>\n",
       "      <td>0.047716</td>\n",
       "      <td>0.62</td>\n",
       "      <td>4.74</td>\n",
       "      <td>2.80</td>\n",
       "      <td>4.25</td>\n",
       "      <td>2.80</td>\n",
       "      <td>7.47</td>\n",
       "      <td>0.40</td>\n",
       "      <td>...</td>\n",
       "      <td>8604</td>\n",
       "      <td>12828</td>\n",
       "      <td>16202</td>\n",
       "      <td>12264</td>\n",
       "      <td>170</td>\n",
       "      <td>107</td>\n",
       "      <td>122</td>\n",
       "      <td>6</td>\n",
       "      <td>Fm_GM</td>\n",
       "      <td>PP4egm</td>\n",
       "    </tr>\n",
       "    <tr>\n",
       "      <th>8</th>\n",
       "      <td>638663.68</td>\n",
       "      <td>7981364.58</td>\n",
       "      <td>0.048052</td>\n",
       "      <td>0.49</td>\n",
       "      <td>2.99</td>\n",
       "      <td>2.77</td>\n",
       "      <td>3.63</td>\n",
       "      <td>3.18</td>\n",
       "      <td>7.87</td>\n",
       "      <td>0.42</td>\n",
       "      <td>...</td>\n",
       "      <td>8972</td>\n",
       "      <td>12917</td>\n",
       "      <td>17907</td>\n",
       "      <td>14332</td>\n",
       "      <td>224</td>\n",
       "      <td>150</td>\n",
       "      <td>198</td>\n",
       "      <td>6</td>\n",
       "      <td>Fm_GM</td>\n",
       "      <td>PP4egm</td>\n",
       "    </tr>\n",
       "    <tr>\n",
       "      <th>9</th>\n",
       "      <td>638726.18</td>\n",
       "      <td>7981364.58</td>\n",
       "      <td>0.044078</td>\n",
       "      <td>0.64</td>\n",
       "      <td>4.20</td>\n",
       "      <td>2.87</td>\n",
       "      <td>4.23</td>\n",
       "      <td>2.87</td>\n",
       "      <td>7.93</td>\n",
       "      <td>0.38</td>\n",
       "      <td>...</td>\n",
       "      <td>8311</td>\n",
       "      <td>12884</td>\n",
       "      <td>15765</td>\n",
       "      <td>11898</td>\n",
       "      <td>243</td>\n",
       "      <td>171</td>\n",
       "      <td>217</td>\n",
       "      <td>6</td>\n",
       "      <td>Fm_GM</td>\n",
       "      <td>PP4egm</td>\n",
       "    </tr>\n",
       "  </tbody>\n",
       "</table>\n",
       "<p>10 rows × 24 columns</p>\n",
       "</div>"
      ],
      "text/plain": [
       "           X           Y        GT     K    TH     U    CT   U_K  TH_K  U_TH  \\\n",
       "0  638663.68  7981552.08  0.076001  0.38  3.98  2.21  3.56  3.11  6.51  0.49   \n",
       "1  638663.68  7981489.58  0.054137  0.41  3.66  2.44  3.60  3.11  6.91  0.47   \n",
       "2  638726.18  7981489.58  0.071591  0.57  5.30  2.63  4.23  2.72  6.97  0.41   \n",
       "3  638788.68  7981489.58  0.055794  0.80  7.26  2.88  4.92  2.40  7.16  0.36   \n",
       "4  638851.18  7981489.58  0.033372  1.05  9.20  3.17  5.54  2.21  7.50  0.33   \n",
       "5  638788.68  7981427.08  0.028260  0.85  6.60  2.97  4.92  2.51  7.64  0.36   \n",
       "6  638663.68  7981427.08  0.051313  0.44  3.20  2.62  3.62  3.14  7.37  0.44   \n",
       "7  638726.18  7981427.08  0.047716  0.62  4.74  2.80  4.25  2.80  7.47  0.40   \n",
       "8  638663.68  7981364.58  0.048052  0.49  2.99  2.77  3.63  3.18  7.87  0.42   \n",
       "9  638726.18  7981364.58  0.044078  0.64  4.20  2.87  4.23  2.87  7.93  0.38   \n",
       "\n",
       "   ...   B04    B05    B06    B07    R    G    B  TARGET   UNID     COD  \n",
       "0  ...  8288  13873  15656  11371  208  199  185       6  Fm_GM  PP4egm  \n",
       "1  ...  8944  12704  17906  13743  195  189  169       6  Fm_GM  PP4egm  \n",
       "2  ...  9117  12867  17693  13716  197  160  153       6  Fm_GM  PP4egm  \n",
       "3  ...  8891  13373  16064  11973  226  208  202       6  Fm_GM  PP4egm  \n",
       "4  ...  8667  13115  15789  11648  161  167  130       6  Fm_GM  PP4egm  \n",
       "5  ...  8287  12890  15269  11403  142  107  106       6  Fm_GM  PP4egm  \n",
       "6  ...  9163  12529  18497  14848  226  175  200       6  Fm_GM  PP4egm  \n",
       "7  ...  8604  12828  16202  12264  170  107  122       6  Fm_GM  PP4egm  \n",
       "8  ...  8972  12917  17907  14332  224  150  198       6  Fm_GM  PP4egm  \n",
       "9  ...  8311  12884  15765  11898  243  171  217       6  Fm_GM  PP4egm  \n",
       "\n",
       "[10 rows x 24 columns]"
      ]
     },
     "execution_count": 3,
     "metadata": {},
     "output_type": "execute_result"
    }
   ],
   "source": [
    "df_original = pd.read_csv(\"data/data_nb2.csv\",sep=\",\")\n",
    "df = df_original.copy(deep = True)\n",
    "df.head(10)"
   ]
  },
  {
   "cell_type": "markdown",
   "metadata": {},
   "source": [
    "<a id='2'></a>\n",
    "## Variáveis e parâmetros globais"
   ]
  },
  {
   "cell_type": "markdown",
   "metadata": {},
   "source": [
    "### Variáveis globais\n",
    "\n",
    "As **variáveis globais** consistem em variáveis que serão utilizadas ao longo de todo o notebook. A variável `save_results` define se os relatórios serão salvos na pasta [output](https://github.com/fnaghetini/Mapa-Preditivo/tree/main/output) ou não. Já a variável `save_plots` indica se os gráficos e mapas serão salvos na pasta [figures](https://github.com/fnaghetini/Mapa-Preditivo/tree/main/figures) ou não."
   ]
  },
  {
   "cell_type": "code",
   "execution_count": 4,
   "metadata": {},
   "outputs": [],
   "source": [
    "# coordenadas (SIRGAS2000 UTM 23S)\n",
    "COORD = ['X','Y']\n",
    "\n",
    "# features\n",
    "FEAT = df.columns[2:-3]\n",
    "\n",
    "# unidades litoestratigráficas\n",
    "labels = ['MAcgg','PP3csbg','PP34b','PP4esjc','PP4esb','PP4egm']\n",
    "\n",
    "# salva resultados no disco em formato .csv\n",
    "save_results = False\n",
    "\n",
    "# salva figuras no disco em formato .png\n",
    "save_plots = False\n",
    "\n",
    "# dicionário litoestratigráfico\n",
    "dic_lith = {}\n",
    "for k, v in zip(df['TARGET'].unique(), df['COD'].unique()):\n",
    "    dic_lith[k] = v"
   ]
  },
  {
   "cell_type": "markdown",
   "metadata": {},
   "source": [
    "### Parâmetros dos gráficos\n",
    "\n",
    "Os **parâmetros gráficos** definem os elementos (e.g. fonte, estilo, cor) que serão utilizados nos gráficos do notebook."
   ]
  },
  {
   "cell_type": "code",
   "execution_count": 5,
   "metadata": {},
   "outputs": [],
   "source": [
    "# fonte: Times New Roman, tamanho: 12\n",
    "plt.rcParams.update({'font.family':'Times New Roman', 'font.size' : 12})\n",
    "# estilo dos gráficos\n",
    "plt.style.use('seaborn-white')\n",
    "\n",
    "fs_title = 16                              # tamanho da fonte dos títulos\n",
    "cm       = plt.cm.get_cmap('Dark2', 6)     # mapa de cores\n",
    "mk       = 's'                             # estilo do marcador (quadrado)\n",
    "sz       = 1.5                             # tamanho do marcador    \n",
    "col      = 'lightgray'                     # cor dos histogramas\n",
    "ec       = 'black'                         # cor das bordas dos histogramas\n",
    "pad      = 15.0                            # offset dos títulos e labels"
   ]
  },
  {
   "cell_type": "markdown",
   "metadata": {},
   "source": [
    "<a id='3'></a>\n",
    "## Separação entre dados de treino e teste\n",
    "\n",
    "A etapa de **separação entre dados de treino e teste** é crucial para o fluxo de trabalho de Aprendizado de Máquina. Quando a tarefa de aprendizado é do tipo supervisionada multinomial, a divisão entre os conjuntos de treino e teste é ainda mais crítica.\n",
    "\n",
    "A heurística utilizada neste projeto consiste na amostragem aleatória de `n` exemplos por unidade litoestratigráfica. Caso uma unidade apresente uma quantidade de exemplos inferior a `n`, `t`% dos exemplos dessa unidade serão amostrados.\n",
    "\n",
    "A função auxiliar [customTrainTestSplit](https://github.com/fnaghetini/Mapa-Preditivo/blob/main/functions/Custom_Train_Test_Split.py) foi desenvolvida justamente para executar tal divisão entre os conjuntos de treino e teste. O parâmetro `samp_per_class` se refere ao número `n` de exemplos amostrados por unidade, enquanto o parâmetro `threshold` indica a porcentagem `t` de exemplos que serão amostrados caso uma determinada unidade apresente um número de exemplos inferior a `n`."
   ]
  },
  {
   "cell_type": "code",
   "execution_count": 6,
   "metadata": {},
   "outputs": [
    {
     "name": "stdout",
     "output_type": "stream",
     "text": [
      "Treino -> features: (547, 19)   |  target: (547,)\n",
      "Teste  -> features: (10871, 19) |  target: (10871,)\n"
     ]
    }
   ],
   "source": [
    "X_train, y_train, coord_train, X_test, y_test, coord_test = customTrainTestSplit(df, FEAT, COORD,\n",
    "                                                                                 samp_per_class = 100,\n",
    "                                                                                 threshold = 0.7,\n",
    "                                                                                 coords = True)\n",
    "\n",
    "print('Treino -> features: {0}   |  target: {1}'.format(X_train.shape, y_train.shape))\n",
    "print('Teste  -> features: {0} |  target: {1}'.format(X_test.shape, y_test.shape))"
   ]
  },
  {
   "cell_type": "code",
   "execution_count": 7,
   "metadata": {},
   "outputs": [
    {
     "data": {
      "text/html": [
       "<div>\n",
       "<style scoped>\n",
       "    .dataframe tbody tr th:only-of-type {\n",
       "        vertical-align: middle;\n",
       "    }\n",
       "\n",
       "    .dataframe tbody tr th {\n",
       "        vertical-align: top;\n",
       "    }\n",
       "\n",
       "    .dataframe thead th {\n",
       "        text-align: right;\n",
       "    }\n",
       "</style>\n",
       "<table border=\"1\" class=\"dataframe\">\n",
       "  <thead>\n",
       "    <tr style=\"text-align: right;\">\n",
       "      <th></th>\n",
       "      <th>X</th>\n",
       "      <th>Y</th>\n",
       "      <th>GT</th>\n",
       "      <th>K</th>\n",
       "      <th>TH</th>\n",
       "      <th>U</th>\n",
       "      <th>CT</th>\n",
       "      <th>U_K</th>\n",
       "      <th>TH_K</th>\n",
       "      <th>U_TH</th>\n",
       "      <th>...</th>\n",
       "      <th>B02</th>\n",
       "      <th>B03</th>\n",
       "      <th>B04</th>\n",
       "      <th>B05</th>\n",
       "      <th>B06</th>\n",
       "      <th>B07</th>\n",
       "      <th>R</th>\n",
       "      <th>G</th>\n",
       "      <th>B</th>\n",
       "      <th>TARGET</th>\n",
       "    </tr>\n",
       "  </thead>\n",
       "  <tbody>\n",
       "    <tr>\n",
       "      <th>542</th>\n",
       "      <td>637038.68</td>\n",
       "      <td>7979677.08</td>\n",
       "      <td>0.024932</td>\n",
       "      <td>0.25</td>\n",
       "      <td>13.01</td>\n",
       "      <td>2.51</td>\n",
       "      <td>4.46</td>\n",
       "      <td>5.47</td>\n",
       "      <td>24.79</td>\n",
       "      <td>0.32</td>\n",
       "      <td>...</td>\n",
       "      <td>9204.0</td>\n",
       "      <td>8762.0</td>\n",
       "      <td>9114.0</td>\n",
       "      <td>12752.0</td>\n",
       "      <td>17694.0</td>\n",
       "      <td>14578.0</td>\n",
       "      <td>209.0</td>\n",
       "      <td>179.0</td>\n",
       "      <td>182.0</td>\n",
       "      <td>3</td>\n",
       "    </tr>\n",
       "    <tr>\n",
       "      <th>543</th>\n",
       "      <td>637226.18</td>\n",
       "      <td>7977739.57</td>\n",
       "      <td>0.027761</td>\n",
       "      <td>1.06</td>\n",
       "      <td>23.60</td>\n",
       "      <td>5.09</td>\n",
       "      <td>11.40</td>\n",
       "      <td>3.64</td>\n",
       "      <td>16.55</td>\n",
       "      <td>0.26</td>\n",
       "      <td>...</td>\n",
       "      <td>8747.0</td>\n",
       "      <td>8236.0</td>\n",
       "      <td>8224.0</td>\n",
       "      <td>13295.0</td>\n",
       "      <td>14278.0</td>\n",
       "      <td>10665.0</td>\n",
       "      <td>85.0</td>\n",
       "      <td>29.0</td>\n",
       "      <td>65.0</td>\n",
       "      <td>2</td>\n",
       "    </tr>\n",
       "    <tr>\n",
       "      <th>544</th>\n",
       "      <td>634538.68</td>\n",
       "      <td>7971989.57</td>\n",
       "      <td>0.048161</td>\n",
       "      <td>0.44</td>\n",
       "      <td>4.99</td>\n",
       "      <td>2.50</td>\n",
       "      <td>3.80</td>\n",
       "      <td>3.80</td>\n",
       "      <td>6.46</td>\n",
       "      <td>0.62</td>\n",
       "      <td>...</td>\n",
       "      <td>8493.0</td>\n",
       "      <td>8021.0</td>\n",
       "      <td>7692.0</td>\n",
       "      <td>13041.0</td>\n",
       "      <td>12384.0</td>\n",
       "      <td>9406.0</td>\n",
       "      <td>14.0</td>\n",
       "      <td>5.0</td>\n",
       "      <td>26.0</td>\n",
       "      <td>6</td>\n",
       "    </tr>\n",
       "    <tr>\n",
       "      <th>545</th>\n",
       "      <td>636476.18</td>\n",
       "      <td>7970989.56</td>\n",
       "      <td>0.021256</td>\n",
       "      <td>1.01</td>\n",
       "      <td>26.36</td>\n",
       "      <td>8.84</td>\n",
       "      <td>14.89</td>\n",
       "      <td>5.65</td>\n",
       "      <td>17.44</td>\n",
       "      <td>0.31</td>\n",
       "      <td>...</td>\n",
       "      <td>9036.0</td>\n",
       "      <td>9007.0</td>\n",
       "      <td>9674.0</td>\n",
       "      <td>15651.0</td>\n",
       "      <td>15847.0</td>\n",
       "      <td>11958.0</td>\n",
       "      <td>88.0</td>\n",
       "      <td>243.0</td>\n",
       "      <td>131.0</td>\n",
       "      <td>1</td>\n",
       "    </tr>\n",
       "    <tr>\n",
       "      <th>546</th>\n",
       "      <td>637913.68</td>\n",
       "      <td>7978864.58</td>\n",
       "      <td>0.020339</td>\n",
       "      <td>0.92</td>\n",
       "      <td>11.92</td>\n",
       "      <td>3.33</td>\n",
       "      <td>6.71</td>\n",
       "      <td>4.69</td>\n",
       "      <td>13.75</td>\n",
       "      <td>0.35</td>\n",
       "      <td>...</td>\n",
       "      <td>9377.0</td>\n",
       "      <td>8983.0</td>\n",
       "      <td>9124.0</td>\n",
       "      <td>13963.0</td>\n",
       "      <td>16161.0</td>\n",
       "      <td>12419.0</td>\n",
       "      <td>141.0</td>\n",
       "      <td>110.0</td>\n",
       "      <td>133.0</td>\n",
       "      <td>2</td>\n",
       "    </tr>\n",
       "  </tbody>\n",
       "</table>\n",
       "<p>5 rows × 22 columns</p>\n",
       "</div>"
      ],
      "text/plain": [
       "             X           Y        GT     K     TH     U     CT   U_K   TH_K  \\\n",
       "542  637038.68  7979677.08  0.024932  0.25  13.01  2.51   4.46  5.47  24.79   \n",
       "543  637226.18  7977739.57  0.027761  1.06  23.60  5.09  11.40  3.64  16.55   \n",
       "544  634538.68  7971989.57  0.048161  0.44   4.99  2.50   3.80  3.80   6.46   \n",
       "545  636476.18  7970989.56  0.021256  1.01  26.36  8.84  14.89  5.65  17.44   \n",
       "546  637913.68  7978864.58  0.020339  0.92  11.92  3.33   6.71  4.69  13.75   \n",
       "\n",
       "     U_TH  ...     B02     B03     B04      B05      B06      B07      R  \\\n",
       "542  0.32  ...  9204.0  8762.0  9114.0  12752.0  17694.0  14578.0  209.0   \n",
       "543  0.26  ...  8747.0  8236.0  8224.0  13295.0  14278.0  10665.0   85.0   \n",
       "544  0.62  ...  8493.0  8021.0  7692.0  13041.0  12384.0   9406.0   14.0   \n",
       "545  0.31  ...  9036.0  9007.0  9674.0  15651.0  15847.0  11958.0   88.0   \n",
       "546  0.35  ...  9377.0  8983.0  9124.0  13963.0  16161.0  12419.0  141.0   \n",
       "\n",
       "         G      B  TARGET  \n",
       "542  179.0  182.0       3  \n",
       "543   29.0   65.0       2  \n",
       "544    5.0   26.0       6  \n",
       "545  243.0  131.0       1  \n",
       "546  110.0  133.0       2  \n",
       "\n",
       "[5 rows x 22 columns]"
      ]
     },
     "execution_count": 7,
     "metadata": {},
     "output_type": "execute_result"
    }
   ],
   "source": [
    "# dataframe de treino\n",
    "train_loc = pd.DataFrame(coord_train, columns = COORD)\n",
    "train_feat = pd.DataFrame(X_train, columns = FEAT)\n",
    "train = pd.concat([train_loc, train_feat], axis = 1)\n",
    "train['TARGET'] = y_train\n",
    "train.tail()"
   ]
  },
  {
   "cell_type": "code",
   "execution_count": 8,
   "metadata": {},
   "outputs": [
    {
     "data": {
      "text/html": [
       "<div>\n",
       "<style scoped>\n",
       "    .dataframe tbody tr th:only-of-type {\n",
       "        vertical-align: middle;\n",
       "    }\n",
       "\n",
       "    .dataframe tbody tr th {\n",
       "        vertical-align: top;\n",
       "    }\n",
       "\n",
       "    .dataframe thead th {\n",
       "        text-align: right;\n",
       "    }\n",
       "</style>\n",
       "<table border=\"1\" class=\"dataframe\">\n",
       "  <thead>\n",
       "    <tr style=\"text-align: right;\">\n",
       "      <th></th>\n",
       "      <th>X</th>\n",
       "      <th>Y</th>\n",
       "      <th>GT</th>\n",
       "      <th>K</th>\n",
       "      <th>TH</th>\n",
       "      <th>U</th>\n",
       "      <th>CT</th>\n",
       "      <th>U_K</th>\n",
       "      <th>TH_K</th>\n",
       "      <th>U_TH</th>\n",
       "      <th>...</th>\n",
       "      <th>B02</th>\n",
       "      <th>B03</th>\n",
       "      <th>B04</th>\n",
       "      <th>B05</th>\n",
       "      <th>B06</th>\n",
       "      <th>B07</th>\n",
       "      <th>R</th>\n",
       "      <th>G</th>\n",
       "      <th>B</th>\n",
       "      <th>TARGET</th>\n",
       "    </tr>\n",
       "  </thead>\n",
       "  <tbody>\n",
       "    <tr>\n",
       "      <th>10866</th>\n",
       "      <td>634351.18</td>\n",
       "      <td>7971552.06</td>\n",
       "      <td>0.057461</td>\n",
       "      <td>1.20</td>\n",
       "      <td>5.77</td>\n",
       "      <td>2.50</td>\n",
       "      <td>5.32</td>\n",
       "      <td>2.61</td>\n",
       "      <td>6.64</td>\n",
       "      <td>0.43</td>\n",
       "      <td>...</td>\n",
       "      <td>8820.0</td>\n",
       "      <td>8464.0</td>\n",
       "      <td>8682.0</td>\n",
       "      <td>13175.0</td>\n",
       "      <td>13670.0</td>\n",
       "      <td>10626.0</td>\n",
       "      <td>168.0</td>\n",
       "      <td>107.0</td>\n",
       "      <td>119.0</td>\n",
       "      <td>5</td>\n",
       "    </tr>\n",
       "    <tr>\n",
       "      <th>10867</th>\n",
       "      <td>638663.68</td>\n",
       "      <td>7978239.57</td>\n",
       "      <td>0.021195</td>\n",
       "      <td>0.22</td>\n",
       "      <td>6.22</td>\n",
       "      <td>1.92</td>\n",
       "      <td>3.35</td>\n",
       "      <td>4.89</td>\n",
       "      <td>14.76</td>\n",
       "      <td>0.38</td>\n",
       "      <td>...</td>\n",
       "      <td>9230.0</td>\n",
       "      <td>8998.0</td>\n",
       "      <td>9496.0</td>\n",
       "      <td>13076.0</td>\n",
       "      <td>17556.0</td>\n",
       "      <td>13199.0</td>\n",
       "      <td>142.0</td>\n",
       "      <td>121.0</td>\n",
       "      <td>122.0</td>\n",
       "      <td>5</td>\n",
       "    </tr>\n",
       "    <tr>\n",
       "      <th>10868</th>\n",
       "      <td>639976.19</td>\n",
       "      <td>7981114.58</td>\n",
       "      <td>0.107530</td>\n",
       "      <td>0.40</td>\n",
       "      <td>2.80</td>\n",
       "      <td>1.71</td>\n",
       "      <td>2.90</td>\n",
       "      <td>6.35</td>\n",
       "      <td>20.84</td>\n",
       "      <td>0.36</td>\n",
       "      <td>...</td>\n",
       "      <td>9189.0</td>\n",
       "      <td>9324.0</td>\n",
       "      <td>10104.0</td>\n",
       "      <td>14008.0</td>\n",
       "      <td>18980.0</td>\n",
       "      <td>14528.0</td>\n",
       "      <td>164.0</td>\n",
       "      <td>201.0</td>\n",
       "      <td>164.0</td>\n",
       "      <td>6</td>\n",
       "    </tr>\n",
       "    <tr>\n",
       "      <th>10869</th>\n",
       "      <td>638538.68</td>\n",
       "      <td>7980739.58</td>\n",
       "      <td>0.034884</td>\n",
       "      <td>0.35</td>\n",
       "      <td>4.82</td>\n",
       "      <td>2.22</td>\n",
       "      <td>3.69</td>\n",
       "      <td>4.76</td>\n",
       "      <td>11.84</td>\n",
       "      <td>0.40</td>\n",
       "      <td>...</td>\n",
       "      <td>9003.0</td>\n",
       "      <td>8456.0</td>\n",
       "      <td>8459.0</td>\n",
       "      <td>12073.0</td>\n",
       "      <td>15322.0</td>\n",
       "      <td>12742.0</td>\n",
       "      <td>245.0</td>\n",
       "      <td>220.0</td>\n",
       "      <td>241.0</td>\n",
       "      <td>5</td>\n",
       "    </tr>\n",
       "    <tr>\n",
       "      <th>10870</th>\n",
       "      <td>635288.68</td>\n",
       "      <td>7971552.06</td>\n",
       "      <td>0.037119</td>\n",
       "      <td>3.09</td>\n",
       "      <td>12.75</td>\n",
       "      <td>4.71</td>\n",
       "      <td>11.78</td>\n",
       "      <td>1.82</td>\n",
       "      <td>4.97</td>\n",
       "      <td>0.41</td>\n",
       "      <td>...</td>\n",
       "      <td>8632.0</td>\n",
       "      <td>8191.0</td>\n",
       "      <td>7987.0</td>\n",
       "      <td>12647.0</td>\n",
       "      <td>13566.0</td>\n",
       "      <td>10003.0</td>\n",
       "      <td>62.0</td>\n",
       "      <td>65.0</td>\n",
       "      <td>47.0</td>\n",
       "      <td>2</td>\n",
       "    </tr>\n",
       "  </tbody>\n",
       "</table>\n",
       "<p>5 rows × 22 columns</p>\n",
       "</div>"
      ],
      "text/plain": [
       "               X           Y        GT     K     TH     U     CT   U_K   TH_K  \\\n",
       "10866  634351.18  7971552.06  0.057461  1.20   5.77  2.50   5.32  2.61   6.64   \n",
       "10867  638663.68  7978239.57  0.021195  0.22   6.22  1.92   3.35  4.89  14.76   \n",
       "10868  639976.19  7981114.58  0.107530  0.40   2.80  1.71   2.90  6.35  20.84   \n",
       "10869  638538.68  7980739.58  0.034884  0.35   4.82  2.22   3.69  4.76  11.84   \n",
       "10870  635288.68  7971552.06  0.037119  3.09  12.75  4.71  11.78  1.82   4.97   \n",
       "\n",
       "       U_TH  ...     B02     B03      B04      B05      B06      B07      R  \\\n",
       "10866  0.43  ...  8820.0  8464.0   8682.0  13175.0  13670.0  10626.0  168.0   \n",
       "10867  0.38  ...  9230.0  8998.0   9496.0  13076.0  17556.0  13199.0  142.0   \n",
       "10868  0.36  ...  9189.0  9324.0  10104.0  14008.0  18980.0  14528.0  164.0   \n",
       "10869  0.40  ...  9003.0  8456.0   8459.0  12073.0  15322.0  12742.0  245.0   \n",
       "10870  0.41  ...  8632.0  8191.0   7987.0  12647.0  13566.0  10003.0   62.0   \n",
       "\n",
       "           G      B  TARGET  \n",
       "10866  107.0  119.0       5  \n",
       "10867  121.0  122.0       5  \n",
       "10868  201.0  164.0       6  \n",
       "10869  220.0  241.0       5  \n",
       "10870   65.0   47.0       2  \n",
       "\n",
       "[5 rows x 22 columns]"
      ]
     },
     "execution_count": 8,
     "metadata": {},
     "output_type": "execute_result"
    }
   ],
   "source": [
    "# dataframe de teste\n",
    "test_loc = pd.DataFrame(coord_test, columns = COORD)\n",
    "test_feat = pd.DataFrame(X_test, columns = FEAT)\n",
    "test = pd.concat([test_loc, test_feat], axis = 1)\n",
    "test['TARGET'] = y_test\n",
    "test.tail()"
   ]
  },
  {
   "cell_type": "markdown",
   "metadata": {},
   "source": [
    "### Frequência de ocorrência dos conjuntos de treino e teste por unidade\n",
    "\n",
    "A *Figura 01* ilustra a frequência de ocorrência dos exemplos por unidade, após a divisão dos dados entre os conjuntos de treino (esquerda) e teste (direita)."
   ]
  },
  {
   "cell_type": "code",
   "execution_count": 9,
   "metadata": {},
   "outputs": [
    {
     "data": {
      "image/png": "[encoded data removed]",
      "text/plain": [
       "<Figure size 720x288 with 2 Axes>"
      ]
     },
     "metadata": {},
     "output_type": "display_data"
    }
   ],
   "source": [
    "fig, axes = plt.subplots(nrows = 1, ncols = 2, figsize = (10, 4))\n",
    "\n",
    "# gráfico dos dados de treino\n",
    "sns.countplot(y = 'TARGET', data = train, color = col, edgecolor = ec, ax = axes[0])\n",
    "axes[0].set_title(\"Conjunto de treino\", size = fs_title)\n",
    "axes[0].set_xlabel(\"Frequência absoluta\", size = 14)\n",
    "axes[0].set_ylabel(\"Target\", size = 14)\n",
    "\n",
    "# gráfico dos dados de teste\n",
    "sns.countplot(y = 'TARGET', data = test, color = col, edgecolor = ec, ax = axes[1])\n",
    "axes[1].set_title(\"Conjunto de teste\", size = fs_title)\n",
    "axes[1].set_xlabel(\"Frequência absoluta\", size = 14)\n",
    "axes[1].set_ylabel(\"\")\n",
    "\n",
    "plt.tight_layout()\n",
    "\n",
    "# salva gráfico\n",
    "if save_plots:\n",
    "    plt.savefig(\"figures/notebook2/Figura_01.png\", dpi = 300);"
   ]
  },
  {
   "cell_type": "markdown",
   "metadata": {},
   "source": [
    "<p>\n",
    "    <b>Figura 01:</b> Frequência de ocorrências por unidade litoestratigráfica. Conjuntos de treino (esquerda) e teste (direita).\n",
    "</p>"
   ]
  },
  {
   "cell_type": "markdown",
   "metadata": {},
   "source": [
    "> Apenas a unidade 1 (Complexo Granito-Gnáissico) apresenta um número de exemplos inferior a `samp_per_class`, quando `samp_per_class = 100`. Nesse sentido, como `threshold = 0.7`, 70% de seus exemplos foram aleatoriamente amostrados para compor o conjunto de treino.\n",
    "\n",
    "> A heurística adotada para a separação entre os conjuntos de treino e teste mitiga o desbalanceamento de classes identificado no [notebook1](https://github.com/fnaghetini/Mapa-Preditivo/blob/main/notebook1.ipynb).\n",
    "\n",
    "> A distribuição das classes nos conjuntos de treino e teste são distintas."
   ]
  },
  {
   "cell_type": "markdown",
   "metadata": {},
   "source": [
    "### Visualização espacial dos dados de treino e teste\n",
    "\n",
    "A *Figura 02* apresenta a distribuição espacial dos dados após a divisão entre os conjuntos de treino (esquerda) e teste (direita)."
   ]
  },
  {
   "cell_type": "code",
   "execution_count": 10,
   "metadata": {},
   "outputs": [
    {
     "data": {
      "image/png": "[encoded data removed]",
      "text/plain": [
       "<Figure size 504x396 with 3 Axes>"
      ]
     },
     "metadata": {},
     "output_type": "display_data"
    }
   ],
   "source": [
    "fig, (ax1, ax2) = plt.subplots(nrows = 1, ncols = 2, figsize = (7, 5.5))\n",
    "\n",
    "# Mapa de localização dos exemplos de treino\n",
    "p1 = ax1.scatter(data = train, x = 'X', y = 'Y', c = 'TARGET', cmap = cm, s = sz, marker = mk)\n",
    "ax1.set_title('Treino', size = fs_title)\n",
    "ax1.set_xlabel('X (m)', size = 14)\n",
    "ax1.set_ylabel('Y (m)', size = 14)\n",
    "\n",
    "# Mapa de localização dos exemplos de teste\n",
    "p2 = ax2.scatter(data = test, x = 'X', y = 'Y', c = 'TARGET', cmap = cm, s = sz, marker = mk)\n",
    "cbar = fig.colorbar(p2, ax = ax2, use_gridspec = False, anchor = (7, 0))\n",
    "cbar.ax.set_yticklabels(['MAcgg','PP3csbg','PP34b','PP4esjc','PP4esb','PP4egm'])\n",
    "ax2.set_title('Teste', size = fs_title)\n",
    "ax2.set_xlabel('X (m)', size = 14)\n",
    "\n",
    "plt.tight_layout()\n",
    "\n",
    "# salva mapas\n",
    "if save_plots:\n",
    "    plt.savefig(\"figures/notebook2/Figura_02.png\", dpi = 300);"
   ]
  },
  {
   "cell_type": "markdown",
   "metadata": {},
   "source": [
    "<p>\n",
    "    <b>Figura 02:</b> Mapas de localização dos exemplos de treino (esquerda) e teste (direita).\n",
    "</p>"
   ]
  },
  {
   "cell_type": "markdown",
   "metadata": {},
   "source": [
    "> Embora não haja nenhuma restrição espacial implementada na divisão entre os conjuntos de treino e teste, nota-se que o conjunto de treino apresenta exemplos por toda a extensão da área. Isso se deve ao fato de a separação dos dados ser condicionada às unidades litoestratigráficas que, por sua vez, apresentam interdependência espacial."
   ]
  },
  {
   "cell_type": "markdown",
   "metadata": {},
   "source": [
    "<a id='4'></a>\n",
    "## Pré-processamento\n",
    "\n",
    "Nesta seção, são apresentadas todas as etapas de **pré-processamento** dos dados que antecedem o treinamento do classificador. O pré-processamento consiste em uma das etapas mais complexas do fluxo de trabalho de Aprendizado de Máquina. As etapas utilizadas neste projeto são:\n",
    "\n",
    "1. Escalonamento das features\n",
    "\n",
    "2. Redução da dimensionalidade\n",
    "\n",
    "3. Seleção das features\n",
    "\n",
    "4. Superamostragem\n",
    "\n",
    "Definidas as etapas de pré-processamento, elas serão encadeadas em uma estrutura denominada **pipeline** para tornar o fluxo de trabalho mais simples e automatizado."
   ]
  },
  {
   "cell_type": "markdown",
   "metadata": {},
   "source": [
    "### Escalonamento das features\n",
    "\n",
    "O **escalonamento de features** pode ser uma importante etapa para diversos algoritmos de Aprendizado de Máquina. Além disso, alguns classificadores, como *Support Vector Machines* e *K-Nearest Neighbors*, exigem que as features estejam estandardizadas antes do treinamento.\n",
    "\n",
    "Nesse sentido, como as features disponíveis apresentam escalas distintas e alguns algoritmos requerem a estandardização pré-treinamento, a primeira etapa de pré-processamento é a **estandardização (normalização Z-score)**.\n",
    "\n",
    "Considere $x^{(i)}$ um valor assumido por uma feature $x_{(i)}$, $\\mu_{(i)}$ a média da feature $x_{(i)}$ e $\\sigma_{(i)}$ o desvio padrão da feature $x_{(i)}$. A estandardização transforma os valores originais $x^{(i)}$ das features em scores padrão $z^{(i)}$. A variável estandardizada $z_{(i)}$ segue a Distribuição Normal Padrão ($z_{(i)}\\sim N(0,1)$):\n",
    "\n",
    "<p style=\"text-align:center; font-size:20px\">\n",
    "    $z^{(i)} =\\frac{x^{(i)}-\\mu_{(i)}}{\\sigma_{(i)}}$\n",
    "</p>"
   ]
  },
  {
   "cell_type": "code",
   "execution_count": 11,
   "metadata": {},
   "outputs": [],
   "source": [
    "std_scaler = StandardScaler()\n",
    "X_train_std = std_scaler.fit_transform(X_train)"
   ]
  },
  {
   "cell_type": "code",
   "execution_count": 12,
   "metadata": {},
   "outputs": [
    {
     "data": {
      "text/html": [
       "<div>\n",
       "<style scoped>\n",
       "    .dataframe tbody tr th:only-of-type {\n",
       "        vertical-align: middle;\n",
       "    }\n",
       "\n",
       "    .dataframe tbody tr th {\n",
       "        vertical-align: top;\n",
       "    }\n",
       "\n",
       "    .dataframe thead th {\n",
       "        text-align: right;\n",
       "    }\n",
       "</style>\n",
       "<table border=\"1\" class=\"dataframe\">\n",
       "  <thead>\n",
       "    <tr style=\"text-align: right;\">\n",
       "      <th></th>\n",
       "      <th>GT</th>\n",
       "      <th>K</th>\n",
       "      <th>TH</th>\n",
       "      <th>U</th>\n",
       "      <th>CT</th>\n",
       "      <th>U_K</th>\n",
       "      <th>TH_K</th>\n",
       "      <th>U_TH</th>\n",
       "      <th>MDT</th>\n",
       "      <th>B01</th>\n",
       "      <th>B02</th>\n",
       "      <th>B03</th>\n",
       "      <th>B04</th>\n",
       "      <th>B05</th>\n",
       "      <th>B06</th>\n",
       "      <th>B07</th>\n",
       "      <th>R</th>\n",
       "      <th>G</th>\n",
       "      <th>B</th>\n",
       "    </tr>\n",
       "  </thead>\n",
       "  <tbody>\n",
       "    <tr>\n",
       "      <th>0</th>\n",
       "      <td>1.925042</td>\n",
       "      <td>0.294877</td>\n",
       "      <td>-0.315957</td>\n",
       "      <td>0.403014</td>\n",
       "      <td>0.080342</td>\n",
       "      <td>-0.570957</td>\n",
       "      <td>-0.613666</td>\n",
       "      <td>0.396018</td>\n",
       "      <td>-1.647478</td>\n",
       "      <td>-0.883643</td>\n",
       "      <td>-0.926362</td>\n",
       "      <td>-0.850956</td>\n",
       "      <td>-1.029210</td>\n",
       "      <td>-0.176277</td>\n",
       "      <td>-1.145369</td>\n",
       "      <td>-1.322683</td>\n",
       "      <td>-0.236750</td>\n",
       "      <td>1.247100</td>\n",
       "      <td>0.781578</td>\n",
       "    </tr>\n",
       "    <tr>\n",
       "      <th>1</th>\n",
       "      <td>-0.697592</td>\n",
       "      <td>-0.635175</td>\n",
       "      <td>1.709698</td>\n",
       "      <td>0.444511</td>\n",
       "      <td>0.357349</td>\n",
       "      <td>0.317860</td>\n",
       "      <td>1.654651</td>\n",
       "      <td>-1.175458</td>\n",
       "      <td>1.617799</td>\n",
       "      <td>-0.824130</td>\n",
       "      <td>-0.824999</td>\n",
       "      <td>-0.769237</td>\n",
       "      <td>-0.242417</td>\n",
       "      <td>-1.150729</td>\n",
       "      <td>-0.209394</td>\n",
       "      <td>-0.339503</td>\n",
       "      <td>-0.965742</td>\n",
       "      <td>-0.301601</td>\n",
       "      <td>0.001767</td>\n",
       "    </tr>\n",
       "    <tr>\n",
       "      <th>2</th>\n",
       "      <td>0.564241</td>\n",
       "      <td>-0.305536</td>\n",
       "      <td>-0.422973</td>\n",
       "      <td>-0.316259</td>\n",
       "      <td>-0.462130</td>\n",
       "      <td>-0.272755</td>\n",
       "      <td>-0.446748</td>\n",
       "      <td>0.275135</td>\n",
       "      <td>-0.916880</td>\n",
       "      <td>-0.297013</td>\n",
       "      <td>-0.296466</td>\n",
       "      <td>-0.188918</td>\n",
       "      <td>-0.149952</td>\n",
       "      <td>-0.358138</td>\n",
       "      <td>0.092082</td>\n",
       "      <td>-0.017206</td>\n",
       "      <td>-0.008940</td>\n",
       "      <td>0.417998</td>\n",
       "      <td>0.086529</td>\n",
       "    </tr>\n",
       "    <tr>\n",
       "      <th>3</th>\n",
       "      <td>-0.669770</td>\n",
       "      <td>-0.258445</td>\n",
       "      <td>-0.945312</td>\n",
       "      <td>-0.583681</td>\n",
       "      <td>-0.519840</td>\n",
       "      <td>-0.382771</td>\n",
       "      <td>-0.247575</td>\n",
       "      <td>0.275135</td>\n",
       "      <td>1.040786</td>\n",
       "      <td>0.796330</td>\n",
       "      <td>0.791009</td>\n",
       "      <td>0.963430</td>\n",
       "      <td>0.825973</td>\n",
       "      <td>0.468382</td>\n",
       "      <td>1.079967</td>\n",
       "      <td>1.151339</td>\n",
       "      <td>-0.282312</td>\n",
       "      <td>-0.817835</td>\n",
       "      <td>-0.540711</td>\n",
       "    </tr>\n",
       "    <tr>\n",
       "      <th>4</th>\n",
       "      <td>0.026334</td>\n",
       "      <td>-0.529220</td>\n",
       "      <td>-0.774596</td>\n",
       "      <td>-0.431527</td>\n",
       "      <td>-0.773763</td>\n",
       "      <td>-0.269859</td>\n",
       "      <td>-0.387077</td>\n",
       "      <td>-0.027072</td>\n",
       "      <td>-2.231456</td>\n",
       "      <td>-0.589478</td>\n",
       "      <td>-0.577385</td>\n",
       "      <td>-0.489737</td>\n",
       "      <td>-0.468536</td>\n",
       "      <td>-0.174241</td>\n",
       "      <td>-0.208596</td>\n",
       "      <td>-0.240436</td>\n",
       "      <td>-0.540497</td>\n",
       "      <td>-1.662581</td>\n",
       "      <td>-0.676330</td>\n",
       "    </tr>\n",
       "  </tbody>\n",
       "</table>\n",
       "</div>"
      ],
      "text/plain": [
       "         GT         K        TH         U        CT       U_K      TH_K  \\\n",
       "0  1.925042  0.294877 -0.315957  0.403014  0.080342 -0.570957 -0.613666   \n",
       "1 -0.697592 -0.635175  1.709698  0.444511  0.357349  0.317860  1.654651   \n",
       "2  0.564241 -0.305536 -0.422973 -0.316259 -0.462130 -0.272755 -0.446748   \n",
       "3 -0.669770 -0.258445 -0.945312 -0.583681 -0.519840 -0.382771 -0.247575   \n",
       "4  0.026334 -0.529220 -0.774596 -0.431527 -0.773763 -0.269859 -0.387077   \n",
       "\n",
       "       U_TH       MDT       B01       B02       B03       B04       B05  \\\n",
       "0  0.396018 -1.647478 -0.883643 -0.926362 -0.850956 -1.029210 -0.176277   \n",
       "1 -1.175458  1.617799 -0.824130 -0.824999 -0.769237 -0.242417 -1.150729   \n",
       "2  0.275135 -0.916880 -0.297013 -0.296466 -0.188918 -0.149952 -0.358138   \n",
       "3  0.275135  1.040786  0.796330  0.791009  0.963430  0.825973  0.468382   \n",
       "4 -0.027072 -2.231456 -0.589478 -0.577385 -0.489737 -0.468536 -0.174241   \n",
       "\n",
       "        B06       B07         R         G         B  \n",
       "0 -1.145369 -1.322683 -0.236750  1.247100  0.781578  \n",
       "1 -0.209394 -0.339503 -0.965742 -0.301601  0.001767  \n",
       "2  0.092082 -0.017206 -0.008940  0.417998  0.086529  \n",
       "3  1.079967  1.151339 -0.282312 -0.817835 -0.540711  \n",
       "4 -0.208596 -0.240436 -0.540497 -1.662581 -0.676330  "
      ]
     },
     "execution_count": 12,
     "metadata": {},
     "output_type": "execute_result"
    }
   ],
   "source": [
    "# Visualização das features escalonadas do conjunto de treino\n",
    "pd.DataFrame(X_train_std, columns = df[FEAT].columns).head()"
   ]
  },
  {
   "cell_type": "markdown",
   "metadata": {},
   "source": [
    "### Redução da dimensionalidade\n",
    "\n",
    "A **maldição da dimensionalidade** consiste em diversos fenômenos que ocorrem quando se lida com dados de elevada dimensionalidade (i.e. múltiplas features). Um dos principais problemas diz respeito ao fato de que quando as dimensões do espaço de features aumentam, os dados tendem a se tornar esparsos rapidamente.\n",
    "\n",
    "Uma das abordagens mais comuns no que se refere à redução de dimensionalidade é a **Análise de Componentes Principais (PCA)**. A PCA consiste em uma técnica estatística multivariada que visa a transformação de um conjunto de features originais em um outro conjunto de features denominadas **componentes principais**. As componentes principais são, por definição, ortogonais entre si no espaço de features.\n",
    "\n",
    "Como as features Landsat apresentam fortes correlações lineares entre si, a segunda etapa de pré-processamento consistirá na aplicação dessa técnica sobre tais sensores, objetivando a redução do número de informações redundantes."
   ]
  },
  {
   "cell_type": "code",
   "execution_count": 13,
   "metadata": {},
   "outputs": [],
   "source": [
    "# Obtenção das componentes principais\n",
    "pca = PCA(n_components = 10)\n",
    "pcs = pca.fit_transform(X_train_std[:, np.arange(9,19)])"
   ]
  },
  {
   "cell_type": "markdown",
   "metadata": {},
   "source": [
    "A *Figura 03* apresenta um gráfico de variância explicada relativa por cada uma das dez componentes principais."
   ]
  },
  {
   "cell_type": "code",
   "execution_count": 14,
   "metadata": {},
   "outputs": [
    {
     "data": {
      "image/png": "[encoded data removed]",
      "text/plain": [
       "<Figure size 792x288 with 1 Axes>"
      ]
     },
     "metadata": {},
     "output_type": "display_data"
    }
   ],
   "source": [
    "# variância explicada relativa de cada componente principal\n",
    "explained_var = (pca.explained_variance_ratio_ * 100).round(3)\n",
    "# variância explicada relativa acumulada\n",
    "cum_explained_var = np.cumsum(explained_var).round(2)\n",
    "# labels das componentes principais\n",
    "pc_names = ['PC' + str(i) for i in range(1,11)]\n",
    "\n",
    "# gráfico de barras de componentes principais\n",
    "fig = plt.figure(figsize = (11,4))\n",
    "ax1 = fig.add_subplot(111)\n",
    "plt.bar(x = pc_names, height = explained_var, color = 'lightgray', edgecolor = ec)\n",
    "plt.ylabel(\"Variância explicada relativa (%)\", size = 14)\n",
    "\n",
    "# gráfico de linha de variâncias acumuladas\n",
    "ax2 = fig.add_subplot(111)\n",
    "plt.plot(pc_names, cum_explained_var, color = 'red', marker = 'o', label = 'Variância explicada acumulada')\n",
    "plt.yticks(np.arange(0,160,20))\n",
    "plt.legend(loc = 'top right')\n",
    "\n",
    "for i, v in enumerate(cum_explained_var):\n",
    "    ax2.text(i, v + 5, str(v) + '%', ha = 'center', size = 12)\n",
    "    \n",
    "# salva gráfico\n",
    "if save_plots:\n",
    "    plt.savefig(\"figures/notebook2/Figura_03.png\", dpi = 300);"
   ]
  },
  {
   "cell_type": "markdown",
   "metadata": {},
   "source": [
    "<p>\n",
    "    <b>Figura 03:</b> Variância explicada relativa para cada uma das dez componentes principais.\n",
    "</p>"
   ]
  },
  {
   "cell_type": "markdown",
   "metadata": {},
   "source": [
    "> Nota-se que apenas as três primeiras componentes principais explicam ~92% da variância presente nas dez bandas Landsat.\n",
    "\n",
    "> Portanto, o número inicial de bandas Landsat será reduzido de dez para apenas três componentes principais."
   ]
  },
  {
   "cell_type": "markdown",
   "metadata": {},
   "source": [
    "Após a aplicação da PCA sobre as bandas Landsat e a obtenção de um resultado satisfatório no que diz respeito à variância explicada pelas três primeiras componentes principais, a PCA personalizada pode ser realizada. A classe [MaskedPCA](https://github.com/fnaghetini/Mapa-Preditivo/blob/main/functions/Custom_Preprocessing.py) permite que a técnica seja realizada apenas sobre as features Landsat, retornando as três primeiras componentes principais, além das demais features não envolvidas na redução da dimensionalidade."
   ]
  },
  {
   "cell_type": "code",
   "execution_count": 15,
   "metadata": {},
   "outputs": [
    {
     "name": "stdout",
     "output_type": "stream",
     "text": [
      "Dimensões das features de treino (pré-PCA) = (547, 19)\n",
      "Dimensões das features de treino (pós-PCA) = (547, 12)\n",
      "\n"
     ]
    }
   ],
   "source": [
    "# instanciação do objeto MaskedPCA\n",
    "mask = np.arange(9,19)\n",
    "masked_pca = MaskedPCA(n_components = 3, mask = mask)\n",
    "\n",
    "# treinamento e transformação dos dados de treino\n",
    "X_train_pca = masked_pca.fit_transform(X_train_std)\n",
    "print(f'Dimensões das features de treino (pré-PCA) = {X_train_std.shape}')\n",
    "print(f'Dimensões das features de treino (pós-PCA) = {X_train_pca.shape}\\n')"
   ]
  },
  {
   "cell_type": "markdown",
   "metadata": {},
   "source": [
    "> Como as dez bandas Landsat foram redimensionadas para as três primeiras componentes principais, após a PCA, o número de features total reduzirá de 19 para 12."
   ]
  },
  {
   "cell_type": "markdown",
   "metadata": {},
   "source": [
    "Após a aplicação da PCA, uma matriz é calculada, objetivando a análise das correlações lineares entre as novas features (*Figura 04*)."
   ]
  },
  {
   "cell_type": "code",
   "execution_count": 16,
   "metadata": {},
   "outputs": [
    {
     "data": {
      "image/png": "[encoded data removed]",
      "text/plain": [
       "<Figure size 720x648 with 2 Axes>"
      ]
     },
     "metadata": {},
     "output_type": "display_data"
    }
   ],
   "source": [
    "PCA_FEAT = list(FEAT[:9]) + pc_names[:3]\n",
    "df_X_train_pca = pd.DataFrame(X_train_pca, columns = PCA_FEAT)\n",
    "\n",
    "# Matriz de correlação linear\n",
    "pca_corr = df_X_train_pca.corr(method = 'pearson').round(1)\n",
    "\n",
    "# heatmap de correlação linear\n",
    "plt.figure(figsize = (10, 9))\n",
    "mask = np.triu(np.ones_like(pca_corr, dtype = np.bool))\n",
    "ax = sns.heatmap(\n",
    "                 pca_corr, annot = True,\n",
    "                 cmap = 'coolwarm', cbar = True,\n",
    "                 mask = mask, vmin = -1.0, vmax = 1.0\n",
    "                )\n",
    "ax.set_xticklabels(PCA_FEAT, rotation = 45)\n",
    "ax.set_yticklabels(PCA_FEAT, rotation = 0)\n",
    "\n",
    "# salva gráfico\n",
    "if save_plots:\n",
    "    plt.savefig(\"figures/notebook2/Figura_04.png\", dpi = 300);"
   ]
  },
  {
   "cell_type": "markdown",
   "metadata": {},
   "source": [
    "<p>\n",
    "    <b>Figura 04:</b> Matriz de correlação linear entre as novas features (pós-PCA).\n",
    "</p>"
   ]
  },
  {
   "cell_type": "markdown",
   "metadata": {},
   "source": [
    "> Nota-se que, após a redução da dimensionalidade dos sensores Landsat, houve uma redução do número de features que apresentavam forte correlação linear entre si.\n",
    "\n",
    "> A feature `CT` apresenta forte correlação linear positiva com os canais radiométricos (i.e. `U`, `TH` e `K`).\n",
    "\n",
    "> As features `U_K` e `TH_K` apresentam forte correlação linear positiva entre si.\n",
    "\n",
    "> As features `U` e `TH` apresentam forte correlação linear positiva entre si, o que já era esperado, uma vez que ambos pertencem à mesma cadeia de decaimento radioativo.\n",
    "\n",
    "> Nota-se uma ausência de correlação linear entre as três primeiras componentes principais, conforme esperado."
   ]
  },
  {
   "cell_type": "markdown",
   "metadata": {},
   "source": [
    "### Seleção de features\n",
    "\n",
    "A **seleção de features** consiste na identificação e seleção de um subconjunto de features que são julgadas como mais relevantes para a predição das classes.\n",
    "\n",
    "Essa etapa normalmente é simples quando tanto as features quanto o target são variáveis numéricas. Entretanto, quando as features são numéricas mas o target é categórico, esse procedimento tende a ser mais complexo.\n",
    "\n",
    "A heurística Teste F ANOVA é utilizada neste trabalho para realizar a seleção de features, uma vez que essa técnica é comumente adotada em um contexto de features numéricas e target categórico."
   ]
  },
  {
   "cell_type": "markdown",
   "metadata": {},
   "source": [
    "#### Teste F ANOVA\n",
    "\n",
    "A **Análise de Variância (ANOVA)** consiste em um teste de hipótese paramétrico que determina se as médias de dois ou mais conjuntos de dados seguem a mesma distribuição ou não.\n",
    "\n",
    "A estatística de teste, **estatística F**, consiste na razão entre as variâncias dos conjuntos de dados:\n",
    "\n",
    "<p style=\"text-align:center; font-size:20px\">\n",
    "    $F = \\frac{\\sigma_{(i)}}{\\sigma_{(j)}}$\n",
    "</p>\n",
    "\n",
    "A função auxiliar [univariateSelector](https://github.com/fnaghetini/Mapa-Preditivo/blob/main/functions/Custom_Preprocessing.py) foi implementada para calcular os scores de importância do método Teste F ANOVA. Já a função [plotSelectionScores](https://github.com/fnaghetini/Mapa-Preditivo/blob/main/functions/Custom_Preprocessing.py) é utilizada para plotar os scores de importância de cada uma das features em ordem decrescente.\n",
    "\n",
    "A *Figura 05* ilustra os scores de importância das features pela técnica de seleção Teste F ANOVA."
   ]
  },
  {
   "cell_type": "code",
   "execution_count": 17,
   "metadata": {},
   "outputs": [
    {
     "data": {
      "image/png": "[encoded data removed]",
      "text/plain": [
       "<Figure size 648x216 with 1 Axes>"
      ]
     },
     "metadata": {},
     "output_type": "display_data"
    }
   ],
   "source": [
    "X_train_anova, anova_scores = univariateSelector(X_train_pca, y_train, f_classif)\n",
    "plotSelectionScores(anova_scores, PCA_FEAT, col = col, ec = ec)\n",
    "\n",
    "# salva gráfico\n",
    "if save_plots:\n",
    "    plt.savefig(\"figures/notebook2/Figura_05.png\", dpi = 300);"
   ]
  },
  {
   "cell_type": "markdown",
   "metadata": {},
   "source": [
    "<p>\n",
    "    <b>Figura 05:</b> Scores de importância das features pela técnica de seleção Teste F ANOVA.\n",
    "</p>"
   ]
  },
  {
   "cell_type": "markdown",
   "metadata": {},
   "source": [
    "> De acordo com os scores, as features mais importantes são os canais radiométricos. Essa hipótese já havia sido formulada durante a análise dos boxplots no [notebook1](https://github.com/fnaghetini/Mapa-Preditivo/blob/main/notebook1.ipynb).\n",
    "\n",
    "> Apenas as 10 features mais importantes serão selecionadas para o treinamento do classificador. Isso soluciona o problema da elevada correlação entre as features `TH_K` e `U_K`, já que a primeira será descartada em função de seu baixo score."
   ]
  },
  {
   "cell_type": "markdown",
   "metadata": {},
   "source": [
    "De acordo com a matriz de correlação linear apresentada anteriormente (*Figura 04*), a feature `CT` apresenta uma forte correlação linear positiva com os três canais radiométricos e, portanto, será removida para reduzir o número de informações redundantes.\n",
    "\n",
    "As features `U` e `TH`, embora apresentem forte correlação linear positiva, não serão removidas, uma vez que fornecem informações químicas importantes para a identificação das unidades litoestratigráficas."
   ]
  },
  {
   "cell_type": "code",
   "execution_count": 18,
   "metadata": {},
   "outputs": [],
   "source": [
    "# Exclusão da feature CT\n",
    "df.drop(['CT'], axis = 1, inplace = True)\n",
    "\n",
    "# Atualização da lista de features após exclusão\n",
    "FEAT = ['GT','K','TH','U','U_K','TH_K','U_TH','MDT','B01','B02',\n",
    "        'B03', 'B04', 'B05', 'B06', 'B07', 'R', 'G', 'B']"
   ]
  },
  {
   "cell_type": "markdown",
   "metadata": {},
   "source": [
    "### Superamostragem\n",
    "\n",
    "Um conjunto de dados é considerado desbalanceado, quando a frequência de ocorrência de suas classes é nitidamente desigual. Esse é o caso dos dados deste projeto, conforme evidenciado no [notebook1](https://github.com/fnaghetini/Mapa-Preditivo/blob/main/notebook1.ipynb). Esse tipo de situação normalmente provoca um enviesamento do classificador que, por sua vez, tende a prever mais exemplos da classe majoritária.\n",
    "\n",
    "Ainda que a heurística adotada para a divisão entre treino e teste mitigue o desbalanceamento de classes no conjunto de treino, nota-se que a unidade 1 (i.e. Complexo Granito-Gnáissico) ainda é minoritária quando comparada com as demais classes no conjunto de treino (*Figura 01*).\n",
    "\n",
    "Nesse sentido, a última etapa de pré-processamento adotada consiste na superamostragem da classe minoritária pela **Synthetic Minority Oversampling Technique (SMOTE)**.\n",
    "\n",
    "A SMOTE, primeiramente, seleciona os $k$ exemplos mais próximos de um exemplo minoritário, de modo que o conceito de distância, nesse caso, se refere ao espaço de features. Em seguida, uma linha imaginária é desenhada ligando os $k$ exemplos mais próximos selecionados. Por fim, um exemplo sintético é gerado a partir da seleção de um ponto aleatório que pertença à linha imaginária construída anteriormente.\n",
    "\n",
    "A *Figura 06* ilustra a frequência de ocorrência das unidades litoestratigráficas após a aplicação da SMOTE."
   ]
  },
  {
   "cell_type": "code",
   "execution_count": 19,
   "metadata": {},
   "outputs": [],
   "source": [
    "# Aplicação da SMOTE\n",
    "X_train_smt, y_train_smt = SMOTE().fit_resample(X_train_anova, y_train)"
   ]
  },
  {
   "cell_type": "code",
   "execution_count": 20,
   "metadata": {},
   "outputs": [
    {
     "data": {
      "image/png": "[encoded data removed]",
      "text/plain": [
       "<Figure size 720x288 with 1 Axes>"
      ]
     },
     "metadata": {},
     "output_type": "display_data"
    }
   ],
   "source": [
    "# transformação de narray em dataframe\n",
    "train_smt = pd.DataFrame(X_train_smt, columns = PCA_FEAT)\n",
    "train_smt['TARGET'] = y_train_smt\n",
    "\n",
    "# gráfico de barras\n",
    "plt.figure(figsize = (10,4))\n",
    "\n",
    "sns.countplot(y = 'TARGET', data = train_smt, color = col, edgecolor = ec)\n",
    "\n",
    "plt.xlabel(\"Frequência absoluta\", size = 14)\n",
    "plt.ylabel(\"Target\", size = 14)\n",
    "\n",
    "# salva gráfico\n",
    "if save_plots:\n",
    "    plt.savefig(\"figures/notebook2/Figura_06.png\", dpi = 300);"
   ]
  },
  {
   "cell_type": "markdown",
   "metadata": {},
   "source": [
    "<p>\n",
    "    <b>Figura 06:</b> Frequência de ocorrência dos exemplos do conjunto de treino por unidade, após a aplicação da técnica SMOTE.\n",
    "</p>"
   ]
  },
  {
   "cell_type": "markdown",
   "metadata": {},
   "source": [
    "> A aplicação da SMOTE torna o conjunto de treino balanceado.\n",
    "\n",
    "> Como havia apenas 47 instâncias do Complexo Granito-Gnáissico (unidade 1) no conjunto de treino, a SMOTE estimou 53 amostras sintéticas, totalizando 100 amostras."
   ]
  },
  {
   "cell_type": "markdown",
   "metadata": {},
   "source": [
    "<a id='5'></a>\n",
    "## Transformadores e variáveis\n",
    "\n",
    "Neste tópico são definidos os principais transformadores e variáveis do fluxo de trabalho apresentado a seguir. Os **transformadores** são os objetos utilizados nas etapas de pré-processamento. Já as **variáveis** são parâmetros cruciais para o desenvolvimento do fluxo de trabalho."
   ]
  },
  {
   "cell_type": "code",
   "execution_count": 21,
   "metadata": {},
   "outputs": [],
   "source": [
    "# número de exemplos de treino por unidade\n",
    "nb_eg = 100\n",
    "\n",
    "# método de escalonamento de features\n",
    "scaler = StandardScaler()\n",
    "\n",
    "# PCA personalizada\n",
    "mask = np.arange(8,18)\n",
    "dim_reduction = MaskedPCA(n_components = 3, mask = mask)\n",
    "\n",
    "# número de features a serem selecionadas\n",
    "nb_features = 10\n",
    "\n",
    "# método de seleção de features\n",
    "selector = SelectKBest(score_func = f_classif, k = nb_features)\n",
    "\n",
    "# método de oversampling\n",
    "oversamp = SMOTE(random_state = 42)\n",
    "\n",
    "# número de folds da validação cruzada\n",
    "n_folds = 5\n",
    "\n",
    "# validação cruzada\n",
    "cv = StratifiedKFold(n_splits = n_folds, shuffle = True, random_state = 42)\n",
    "\n",
    "# métrica de performance\n",
    "metric = 'f1_weighted'"
   ]
  },
  {
   "cell_type": "markdown",
   "metadata": {},
   "source": [
    "<a id='6'></a>\n",
    "## Divisão entre treino e teste\n",
    "\n",
    "Com as etapas de pré-processamento devidamente definidas, os dados são novamente separados entre dois conjuntos: treino e teste.\n",
    "\n",
    "O conjunto de **treino** é obtido a partir da amostragem aleatória de `nb_eg = 100` exemplos por unidade litoestratigráfica, assim como discutido anteriormente. Esses dados serão utilizados para treinar os classificadores selecionados.\n",
    "\n",
    "O conjunto de **teste** é constituído pelos exemplos que não pertencem aos dados de treino. Essas instâncias não são acessadas pelo classificador e, por isso, serão utilizadas para avaliar sua performance."
   ]
  },
  {
   "cell_type": "code",
   "execution_count": 22,
   "metadata": {},
   "outputs": [
    {
     "name": "stdout",
     "output_type": "stream",
     "text": [
      "Treino: X (547, 18), y (547,)\n",
      "Teste: X (10871, 18), y (10871,)\n"
     ]
    }
   ],
   "source": [
    "X_train, y_train, X_test, y_test = customTrainTestSplit(df, FEAT, COORD,\n",
    "                                                        samp_per_class = nb_eg,\n",
    "                                                        threshold = 0.7)\n",
    "\n",
    "print(f\"Treino: X {X_train.shape}, y {y_train.shape}\")\n",
    "print(f\"Teste: X {X_test.shape}, y {y_test.shape}\")"
   ]
  },
  {
   "cell_type": "markdown",
   "metadata": {},
   "source": [
    "<a id='7'></a>\n",
    "## Criação dos pipelines\n",
    "\n",
    "Após a definição das etapas de pré-processamento, elas podem ser encadeadas nos chamados **pipelines**. Os pipelines são objetos que automatizam fluxos de trabalho bem definidos. No caso, eles englobarão desde a etapa de escalonamento das features até a instanciação do classificador:\n",
    "\n",
    "1. Estandardização das features\n",
    "2. Redução da dimensionalidade dos sensores Landsat\n",
    "3. Seleção das 10 features mais importantes\n",
    "4. Superamostragem\n",
    "5. Instanciação do classificador\n",
    "\n",
    "Como um dos objetivos so trabalho é comparar a performance entre diferentes classificadores, será criado um pipeline por algoritmo. Desse modo, os **classificadores** avaliados neste projeto são:\n",
    "- *Multinomial Logistic Regression (MLR)*\n",
    "- *Decision Tree (DT)*\n",
    "- *Gaussian Naive Bayes (GNB)*\n",
    "- *K-Nearest Neighbor (KNN)*\n",
    "- *Support Vector Machines (SVM)*\n",
    "- *Random Forest (RF)*\n",
    "- *XGBoost (XGB)*\n",
    "- *Multilayer Perceptron (MLP)*"
   ]
  },
  {
   "cell_type": "code",
   "execution_count": 23,
   "metadata": {},
   "outputs": [],
   "source": [
    "# MLR\n",
    "mlr_pipe = Pipeline(steps = [('scaler', scaler),\n",
    "                             ('dim_reduction', dim_reduction),\n",
    "                             ('selector', selector),\n",
    "                             ('smote', oversamp),\n",
    "                             ('clf', LogisticRegression(multi_class = 'multinomial', penalty = 'l2'))])\n",
    "\n",
    "# DT\n",
    "dt_pipe = Pipeline(steps = [('scaler', scaler),\n",
    "                            ('dim_reduction', dim_reduction),\n",
    "                            ('selector', selector),\n",
    "                            ('smote', oversamp),\n",
    "                            ('clf', DecisionTreeClassifier(random_state = 42))])\n",
    "\n",
    "# GNB\n",
    "gnb_pipe = Pipeline(steps = [('scaler', scaler),\n",
    "                             ('dim_reduction', dim_reduction),\n",
    "                             ('selector', selector),\n",
    "                             ('smote', oversamp),\n",
    "                             ('clf',GaussianNB(priors = [0.006,0.188,0.093,0.423,0.252,0.038]))])\n",
    "\n",
    "# KNN\n",
    "knn_pipe = Pipeline(steps = [('scaler', scaler),\n",
    "                             ('dim_reduction', dim_reduction),\n",
    "                             ('selector', selector),\n",
    "                             ('smote', oversamp),\n",
    "                             ('clf',KNeighborsClassifier())])\n",
    "\n",
    "# SVM\n",
    "svm_pipe = Pipeline(steps = [('scaler', scaler),\n",
    "                             ('dim_reduction', dim_reduction),\n",
    "                             ('selector', selector),\n",
    "                             ('smote', oversamp),\n",
    "                             ('clf', SVC(random_state = 42))])\n",
    "\n",
    "# RF\n",
    "rf_pipe = Pipeline(steps = [('scaler', scaler),\n",
    "                            ('dim_reduction', dim_reduction),\n",
    "                            ('selector', selector),\n",
    "                            ('smote', oversamp),\n",
    "                            ('clf', RandomForestClassifier(random_state = 42))])\n",
    "\n",
    "# XGB\n",
    "xgb_pipe = Pipeline(steps = [('scaler', scaler),\n",
    "                             ('dim_reduction', dim_reduction),\n",
    "                             ('selector', selector),\n",
    "                             ('smote', oversamp),\n",
    "                             ('clf', XGBClassifier(eval_metric = 'mlogloss', verbosity = 0, random_state = 42))])\n",
    "\n",
    "# MLP\n",
    "mlp_pipe = Pipeline(steps = [('scaler', scaler),\n",
    "                             ('dim_reduction', dim_reduction),\n",
    "                             ('selector', selector),\n",
    "                             ('smote', oversamp),\n",
    "                             ('clf', MLPClassifier(random_state = 42))])\n",
    "\n",
    "pipe = {\"MLR\" : mlr_pipe,\n",
    "        \"DT\"  : dt_pipe,\n",
    "        \"GNB\" : gnb_pipe,\n",
    "        \"KNN\" : knn_pipe,\n",
    "        \"SVM\" : svm_pipe,\n",
    "        \"RF\"  : rf_pipe,\n",
    "        \"XGB\" : xgb_pipe,\n",
    "        \"MLP\" : mlp_pipe}"
   ]
  },
  {
   "cell_type": "markdown",
   "metadata": {},
   "source": [
    "<a id='8'></a>\n",
    "## Tuning dos hiperparâmetros\n",
    "\n",
    "Em geral, os algoritmos de aprendizado apresentam parâmetros e hiperparâmetros.\n",
    "\n",
    "Os **parâmetros** são os coeficientes encontrados para o modelo durante a etapa de aprendizado do algoritmo. Nesse sentido, o objetivo do aprendizado é justamente encontrar os valores ótimos para os parâmetros em relação à performance do modelo. Consequentemente, os parâmetros são definidos em função dos dados de treino.\n",
    "\n",
    "Por outro lado, os **hiperparâmetros** são propriedades intrínsecas dos algoritmos de aprendizado e que não podem ser otimizados durante a etapa de treinamento. A definição dos valores dos hiperparâmetros impacta diretamente a maneira de funcionamento dos algoritmos e, portanto, é essencial no que diz respeito à performance do modelo.\n",
    "\n",
    "Como os hiperparâmetros não são otimizados durante a etapa de treinamento, é necessário encontrar empiricamente a melhor combinação de valores para os hiperparâmetros. Esse procedimento é chamado de **tuning dos hiperparâmetros**. Neste projeto serão utilizadas duas abordagens distintas: Grid Search e Random Search.\n",
    "\n",
    "O **Grid Search** consiste no treinamento de $n$ modelos, sendo $n$ igual ao número de possíveis combinações entre os hiperparâmetros definidos. Esse método é mais utilizado quando o número de hiperparâmetros e o tempo de treinamento do algoritmo em questão são pequenos.\n",
    "\n",
    "Por outro lado, na técnica **Random Search**, além de se informar um número discreto de valores para cada hiperparâmetro, pode-se, alternativamente, definir uma distribuição estatística da qual os potenciais candidatos a cada um dos hiperparâmetros são aleatoriamente amostrados. Nesse caso, ao invés de se testar todas as combinações entre os valores de hiperparâmetros, um número fixo de iterações $i$ deve ser definido. Esse método tende a ser mais utilizado quando o algoritmo em questão apresenta um grande número de hiperparâmetros e um maior tempo de treinamento.\n",
    "\n",
    "Abaixo, é definido um dicionário de valores candidatos a hiperparâmetros para cada um dos oito algoritmos escolhidos."
   ]
  },
  {
   "cell_type": "code",
   "execution_count": 24,
   "metadata": {},
   "outputs": [],
   "source": [
    "# MLR\n",
    "mlr_param = [{'clf__solver'  : ['newton-cg','saga','sag','lbfgs'],\n",
    "              'clf__C'       : np.logspace(-3,3,10)}]\n",
    "\n",
    "# DT\n",
    "dt_param = [{'clf__criterion'         : ['gini','entropy'],\n",
    "             'clf__max_depth'         : [15,25,30,None],\n",
    "             'clf__min_samples_split' : [1,2,5,10],\n",
    "             'clf__min_samples_leaf'  : [1,2,5,10]}]\n",
    "\n",
    "# GNB\n",
    "gnb_param = [{'clf__var_smoothing' : np.logspace(-10,0,11)}]\n",
    "\n",
    "# KNN\n",
    "knn_param = [{'clf__n_neighbors'  : [i for i in range(3,30) if i % 2 != 0],\n",
    "              'clf__weights'      : ['uniform', 'distance'],\n",
    "              'clf__p'            : [1,2]}]\n",
    "\n",
    "# SVM\n",
    "svm_param = [{'clf__C'      : np.logspace(-3,3,10),\n",
    "              'clf__gamma'  : [0.001, 0.01, 0.1, 1, 10, 100, 'auto'],\n",
    "              'clf__kernel' : ['poly', 'rbf']}]\n",
    "\n",
    "# RF\n",
    "rf_param = [{'clf__n_estimators'      : [25,50,100,500],\n",
    "             'clf__max_depth'         : [15,25,30,None],\n",
    "             'clf__criterion'         : ['gini', 'entropy'],\n",
    "             'clf__min_samples_split' : [1,2,5,10],\n",
    "             'clf__min_samples_leaf'  : [1,2,5,10]}]\n",
    "\n",
    "# XGB\n",
    "xgb_param = [{'clf__eta'               : [0.01,0.015,0.025,0.05,0.1],\n",
    "              'clf__learning_rate'     : [0.1,0.15,0.2,0.25,0.3,0.35,0.4],\n",
    "              'clf__gamma'             : [0.05,0.1,0.3,0.4,0.5,0.7,0.9,1.0],\n",
    "              'clf__max_depth'         : [3,5,7,9,12,15,17,25],\n",
    "              'clf__min_child_weight'  : [1,3,5,7],\n",
    "              'clf__subsample'         : [0.6,0.7,0.8,0.9,1.0],\n",
    "              'clf__colsample_bytree'  : [0.6,0.7,0.8,0.9,1.0],\n",
    "              'clf__reg_lambda'        : [10 ** i for i in range(-3,4)],\n",
    "              'clf__alpha'             : [10 ** i for i in range(-3,4)]}]\n",
    "\n",
    "# MLP\n",
    "mlp_param = [{'clf__hidden_layer_sizes' : [(10,),(20,),(30,),(50,),(10,10),(20,20),(10,10,10),(10,30,10),(20,20,20)],\n",
    "              'clf__activation'         : ['logistic','tanh','relu'],\n",
    "              'clf__solver'             : ['lbfgs','sgd','adam'],\n",
    "              'clf__alpha'              : [10 ** i for i in range(-3,4)],\n",
    "              'clf__learning_rate'      : ['constant','adaptive'],\n",
    "              'clf__learning_rate_init' : [0.0001,0.001,0.01,0.1,0.15,0.2,0.25,0.3],\n",
    "              'clf__max_iter'           : [1,5,10,20,50,80,100,150,200,250]}]\n",
    "\n",
    "param = [mlr_param, dt_param, gnb_param, knn_param, svm_param, rf_param, xgb_param, mlp_param]\n",
    "\n",
    "dic_param = {}\n",
    "for k, p in zip(pipe.keys(), param):\n",
    "    dic_param[k] = p"
   ]
  },
  {
   "cell_type": "markdown",
   "metadata": {},
   "source": [
    "Definidos os possíveis valores de hiperparâmetros para cada um dos modelos, inicia-se o procedimento de tuning dos hiperparâmetros.\n",
    "\n",
    "O método **Grid Search** será utilizado no caso dos modelos mais simples (i.e. pequeno número de hiperparâmetros) e com menor tempo de treinamento:\n",
    "\n",
    "- *Multinomial Logistic Regression (MLR)*\n",
    "- *Decision Tree (DT)*\n",
    "- *Gaussian Naive Bayes (GNB)*\n",
    "- *K-Nearest Neighbor (KNN)*\n",
    "- *Support Vector Machines (SVM)*\n",
    "\n",
    "Já a técnica **Random Search** é aplicada no caso de algoritmos mais complexos (i.e. grande número de hiperparâmetros) e com maior tempo de treinamento:\n",
    "\n",
    "- *Random Forest (RF)*\n",
    "- *XGBoost (XGB)*\n",
    "- *Multilayer Perceptron (MLP)*\n",
    "\n",
    "Na célula abaixo, o procedimento de tuning dos hiperparâmetros é realizado para cada um dos modelos de acordo com os critérios anteriormente definidos e baseado na métrica **F1-Score**. As melhores configurações de hiperparâmetros serão utilizadas nas posteriores etapas de validação cruzada e treinamento."
   ]
  },
  {
   "cell_type": "code",
   "execution_count": null,
   "metadata": {},
   "outputs": [
    {
     "name": "stdout",
     "output_type": "stream",
     "text": [
      "----\n",
      "MLR\n",
      "Melhores parâmetros: {'clf__C': 46.41588833612773, 'clf__solver': 'lbfgs'}\n",
      "f1_weighted = 0.59\n",
      "----\n",
      "DT\n",
      "Melhores parâmetros: {'clf__criterion': 'entropy', 'clf__max_depth': 15, 'clf__min_samples_leaf': 1, 'clf__min_samples_split': 2}\n",
      "f1_weighted = 0.626\n",
      "----\n",
      "GNB\n",
      "Melhores parâmetros: {'clf__var_smoothing': 1e-10}\n",
      "f1_weighted = 0.533\n",
      "----\n",
      "KNN\n",
      "Melhores parâmetros: {'clf__n_neighbors': 5, 'clf__p': 1, 'clf__weights': 'distance'}\n",
      "f1_weighted = 0.627\n",
      "----\n",
      "SVM\n",
      "Melhores parâmetros: {'clf__C': 1000.0, 'clf__gamma': 0.01, 'clf__kernel': 'rbf'}\n",
      "f1_weighted = 0.636\n"
     ]
    }
   ],
   "source": [
    "best_params = []\n",
    "\n",
    "# grid search\n",
    "for m in ['MLR', 'DT', 'GNB', 'KNN', 'SVM']:\n",
    "    grid = GridSearchCV(pipe[m], param_grid = dic_param[m], cv = cv, scoring = metric)\n",
    "    grid.fit(X_train, y_train)\n",
    "    best_params.append(grid.best_params_)\n",
    "    print(\"----\")\n",
    "    print(m)\n",
    "    print(\"Melhores parâmetros:\", grid.best_params_)\n",
    "    print('{0} = {1}'.format(metric, round(grid.best_score_, 3)))\n",
    "    \n",
    "# random search\n",
    "for m in ['RF', 'XGB', 'MLP']:\n",
    "    # random search\n",
    "    random = RandomizedSearchCV(pipe[m], param_distributions = dic_param[m], cv = cv,\n",
    "                                scoring = metric, n_iter = 50, random_state = 42)\n",
    "    random.fit(X_train, y_train)\n",
    "    best_params.append(random.best_params_)\n",
    "    print(\"----\")\n",
    "    print(m)\n",
    "    print(\"Melhores parâmetros:\", random.best_params_)\n",
    "    print('{0} = {1}'.format(metric, round(random.best_score_, 3)))"
   ]
  },
  {
   "cell_type": "markdown",
   "metadata": {},
   "source": [
    "<a id='9'></a>\n",
    "## Validação cruzada\n",
    "\n",
    "Em situações cujo conjunto de treino contém poucas amostras, como é o caso, é comum não ser possível separar os dados em três conjuntos (i.e. treino, validação e teste), mas sim em apenas dois (i.e. treino e teste). Quando isso ocorre, é necessária a aplicação de uma técnica para se obter a estimativa do erro de generalização do modelo, como, por exemplo, a Validação Cruzada K-Fold.\n",
    "\n",
    "A **Validação Cruzada K-Fold** consiste na separação aleatória do conjunto de treino em $k$ subconjuntos mutualmente excludentes e de mesmo tamanho chamados **folds**. A cada iteração $i$, um dos subconjuntos é designado para **validação** e os $k-1$ demais subconjuntos são utilizados para treinar o algoritmo de aprendizado, e, em seguida, a métrica de interesse é computada. Ao final das $k$ iterações, a métrica final é obtida a partir da média entre os $k$ scores computados.\n",
    "\n",
    "A Validação Cruzada K-Fold, por ser um estimador do erro de generalização, é comumente utilizada para selecionar o modelo de melhor performance. Esse estimador assume algumas premissas, como: \n",
    "\n",
    "1. Os exemplos são oriundos de variáveis aleatórias independentes e identicamente distribuídas (i.i.d.).\n",
    "\n",
    "2. A função de predição dos labels do conjunto de treino é igual à do conjunto de teste. Portanto, não pode haver um *shift* na distribuição bivariada das features entre os conjuntos de treino e teste.\n",
    "\n",
    "Como todas as features utilizadas representam fenômenos geoespaciais e consequentemente mostram interdependência espacial, a primeira premissa é quebrada. Desse modo, um dos objetivos desse projeto é verificar se a Validação Cruzada K-Fold ainda sim fornece uma estimativa razoável para o erro de generalização e se ela é capaz de selecionar corretamente o modelo de melhor performance.\n",
    "\n",
    "Um classificador dummy é instanciado com a função de **baseline** para o projeto. Esse classificador prediz sempre a Formação São João da Chapada (unidade 4), ou seja, a unidade que mais aflora na área.\n",
    "\n",
    "Inicialmente, cada um dos classificadores é treinado com os hiperparâmetros selecionados durante a etapa de tuning."
   ]
  },
  {
   "cell_type": "code",
   "execution_count": null,
   "metadata": {},
   "outputs": [],
   "source": [
    "# baseline\n",
    "dummy = Pipeline(steps = [('clf', DummyClassifier(strategy = \"constant\", constant = 4))])\n",
    "\n",
    "# MLR\n",
    "mlr = Pipeline(steps = [('scaler', scaler),\n",
    "                        ('dim_reduction', dim_reduction),\n",
    "                        ('selector', selector),\n",
    "                        ('smote', oversamp),\n",
    "                        ('clf', LogisticRegression(C = best_params[0]['clf__C'],\n",
    "                                                   solver = best_params[0]['clf__solver'],\n",
    "                                                   multi_class = 'multinomial',\n",
    "                                                   penalty = 'l2'))])\n",
    "\n",
    "# DT\n",
    "dt = Pipeline(steps = [('scaler', scaler),\n",
    "                       ('dim_reduction', dim_reduction),\n",
    "                       ('selector', selector),\n",
    "                       ('smote', oversamp),\n",
    "                       ('clf', DecisionTreeClassifier(criterion = best_params[1]['clf__criterion'],\n",
    "                                                      max_depth = best_params[1]['clf__max_depth'],\n",
    "                                                      min_samples_split = best_params[1]['clf__min_samples_split'],\n",
    "                                                      min_samples_leaf = best_params[1]['clf__min_samples_leaf'],\n",
    "                                                      random_state = 42))])\n",
    "\n",
    "# GNB\n",
    "gnb = Pipeline(steps = [('scaler', scaler),\n",
    "                        ('dim_reduction', dim_reduction),\n",
    "                        ('selector', selector),\n",
    "                        ('smote', oversamp),\n",
    "                        ('clf', GaussianNB(var_smoothing = best_params[2]['clf__var_smoothing'],\n",
    "                                           priors = [0.006,0.188,0.093,0.423,0.252,0.038]))])\n",
    "\n",
    "# KNN\n",
    "knn = Pipeline(steps = [('scaler', scaler),\n",
    "                        ('dim_reduction', dim_reduction),\n",
    "                        ('selector', selector),\n",
    "                        ('smote', oversamp),\n",
    "                        ('clf', KNeighborsClassifier(n_neighbors = best_params[3]['clf__n_neighbors'],\n",
    "                                                     p = best_params[3]['clf__p'],\n",
    "                                                     weights = best_params[3]['clf__weights']))])\n",
    "\n",
    "# SVM\n",
    "svm = Pipeline(steps = [('scaler', scaler),\n",
    "                        ('dim_reduction', dim_reduction),\n",
    "                        ('selector', selector),\n",
    "                        ('smote', oversamp),\n",
    "                        ('clf', SVC(C = best_params[4]['clf__C'],\n",
    "                                    gamma = best_params[4]['clf__gamma'],\n",
    "                                    kernel = best_params[4]['clf__kernel'],\n",
    "                                    random_state = 42))])\n",
    "\n",
    "# RF\n",
    "rf = Pipeline(steps = [('scaler', scaler),\n",
    "                       ('dim_reduction', dim_reduction),\n",
    "                       ('selector', selector),\n",
    "                       ('smote', oversamp),\n",
    "                       ('clf', RandomForestClassifier(n_estimators = best_params[5]['clf__n_estimators'],\n",
    "                                                      min_samples_split = best_params[5]['clf__min_samples_split'],\n",
    "                                                      min_samples_leaf = best_params[5]['clf__min_samples_leaf'],\n",
    "                                                      max_depth = best_params[5]['clf__max_depth'],\n",
    "                                                      criterion = best_params[5]['clf__criterion'],\n",
    "                                                      random_state = 42))])\n",
    "\n",
    "# XGB\n",
    "xgb = Pipeline(steps = [('scaler', scaler),\n",
    "                        ('dim_reduction', dim_reduction),\n",
    "                        ('selector', selector),\n",
    "                        ('smote', oversamp),\n",
    "                        ('clf', XGBClassifier(subsample = best_params[6]['clf__subsample'],\n",
    "                                              reg_lambda = best_params[6]['clf__reg_lambda'],\n",
    "                                              min_child_weight = best_params[6]['clf__min_child_weight'],\n",
    "                                              max_depth = best_params[6]['clf__max_depth'],\n",
    "                                              learning_rate = best_params[6]['clf__learning_rate'],\n",
    "                                              gamma = best_params[6]['clf__gamma'], \n",
    "                                              eta = best_params[6]['clf__eta'],\n",
    "                                              colsample_bytree = best_params[6]['clf__colsample_bytree'],\n",
    "                                              alpha = best_params[6]['clf__alpha'],\n",
    "                                              random_state = 42))])\n",
    "\n",
    "# MLP\n",
    "mlp = Pipeline(steps = [('scaler', scaler),\n",
    "                        ('dim_reduction', dim_reduction),\n",
    "                        ('selector', selector),\n",
    "                        ('smote', oversamp),\n",
    "                        ('clf', MLPClassifier(hidden_layer_sizes = best_params[7]['clf__hidden_layer_sizes'],\n",
    "                                              activation = best_params[7]['clf__activation'],\n",
    "                                              solver = best_params[7]['clf__solver'],\n",
    "                                              alpha = best_params[7]['clf__alpha'],\n",
    "                                              learning_rate = best_params[7]['clf__learning_rate'],\n",
    "                                              learning_rate_init = best_params[7]['clf__learning_rate_init'], \n",
    "                                              max_iter = best_params[7]['clf__max_iter'],\n",
    "                                              random_state = 42))])\n",
    "\n",
    "tuned_models = {\"DUMMY\" : dummy,\n",
    "                \"MLR\"   : mlr,\n",
    "                \"DT\"    : dt,\n",
    "                \"GNB\"   : gnb,\n",
    "                \"KNN\"   : knn,\n",
    "                \"SVM\"   : svm,\n",
    "                \"RF\"    : rf,\n",
    "                \"XGB\"   : xgb,\n",
    "                \"MLP\"   : mlp}"
   ]
  },
  {
   "cell_type": "markdown",
   "metadata": {},
   "source": [
    "Definidos os pipelines com os melhores hiperparâmetros, pode-se realizar a Validação Cruzada K-Fold. As métricas avaliadas para cada um dos modelos são:\n",
    "\n",
    "1. Acurácia\n",
    "2. Precisão\n",
    "3. Recall\n",
    "4. F1-Score\n",
    "\n",
    "Se tratando de uma tarefa de classificação multinomial, as métricas acima (exceto acurácia) são computadas para cada uma das unidades litoestratigráficas. Nesse sentido, o report abaixo contém a média desses scores ponderada pelo número de exemplos de cada uma das unidades.\n",
    "\n",
    "A função auxiliar [validationReport](https://github.com/fnaghetini/Mapa-Preditivo/blob/main/functions/Custom_Validation.py) calcula e retorna o report de validação cruzada."
   ]
  },
  {
   "cell_type": "code",
   "execution_count": null,
   "metadata": {},
   "outputs": [],
   "source": [
    "val_report = validationReport(tuned_models, X_train, y_train, cv)\n",
    "val_report"
   ]
  },
  {
   "cell_type": "markdown",
   "metadata": {},
   "source": [
    "A  função auxiliar [plotModelScores](https://github.com/fnaghetini/Mapa-Preditivo/blob/main/functions/Custom_Validation.py) organiza os modelos em ordem decrescente de acordo com suas respectivas performances na validação cruzada (*Figura 07*). O eixo vertical representa a média das métricas computadas por cada um dos modelos."
   ]
  },
  {
   "cell_type": "code",
   "execution_count": null,
   "metadata": {},
   "outputs": [],
   "source": [
    "plotModelScores(val_report, list(tuned_models.keys()), col = col, ec = ec)\n",
    "\n",
    "# salva gráfico\n",
    "if save_plots:\n",
    "    plt.savefig(\"figures/notebook2/Figura_07_.png\", dpi = 300);"
   ]
  },
  {
   "cell_type": "markdown",
   "metadata": {},
   "source": [
    "<p>\n",
    "    <b>Figura 07:</b> Modelos organizados em ordem decrescente de acordo com a performance na validação cruzada.\n",
    "</p>"
   ]
  },
  {
   "cell_type": "markdown",
   "metadata": {},
   "source": [
    "> Os algoritmos de ensemble foram aqueles que apresentaram melhores performances, sendo o *XGBoost* ligeiramente superior ao *Random Forest*.\n",
    "\n",
    "> Algoritmos simples, como *Multinomial Logistic Regression* e *Gaussian Naive Bayes* apresentaram performances inferiores.\n",
    "\n",
    "> O algoritmo mais complexo, *Multilayer Perceptron*, obteve performances intermediárias, sendo inferior aos algoritmos de ensemble e superior aos demais classificadores mais simples.\n",
    "\n",
    "> O classificador *Dummy* apresentou a pior performance, conforme esperado. Ressalta-se que como a Formação São João da Chapada apresenta uma menor frequência relativa nos dados de treino do que no banco de dados, a validação cruzada será pessimista sobre o desempenho desse classificador."
   ]
  },
  {
   "cell_type": "markdown",
   "metadata": {},
   "source": [
    "<a id='10'></a>\n",
    "## Treinamento dos classificadores e predições\n",
    "\n",
    "Embora o classificador de melhor performance, *XGBoost*, já tenha sido selecionado pela validação cruzada, todos os classificadores serão treinados e suas predições computadas, já que um dos objetivos do trabalho é avaliar o desempenho da Validação Cruzada K-Fold neste tipo de problema geoespacial.\n",
    "\n",
    "Desse modo, os classificadores serão inicialmente treinados e, em seguida, as predições serão realizadas para os exemplos de teste."
   ]
  },
  {
   "cell_type": "code",
   "execution_count": null,
   "metadata": {},
   "outputs": [],
   "source": [
    "# treinamento\n",
    "for k in tuned_models.keys():\n",
    "    tuned_models[k].fit(X_train, y_train)"
   ]
  },
  {
   "cell_type": "code",
   "execution_count": null,
   "metadata": {},
   "outputs": [],
   "source": [
    "# predições (conjunto de treino)\n",
    "ŷ_dummy_train = tuned_models['DUMMY'].predict(X_train)\n",
    "ŷ_mlr_train   = tuned_models['MLR'].predict(X_train)\n",
    "ŷ_dt_train    = tuned_models['DT'].predict(X_train)\n",
    "ŷ_gnb_train   = tuned_models['GNB'].predict(X_train)\n",
    "ŷ_knn_train   = tuned_models['KNN'].predict(X_train)\n",
    "ŷ_svm_train   = tuned_models['SVM'].predict(X_train)\n",
    "ŷ_rf_train    = tuned_models['RF'].predict(X_train)\n",
    "ŷ_xgb_train   = tuned_models['XGB'].predict(X_train)\n",
    "ŷ_mlp_train   = tuned_models['MLP'].predict(X_train)\n",
    "\n",
    "dic_ŷ_train = {'DUMMY' : ŷ_dummy_train,\n",
    "               'MLR'   : ŷ_mlr_train,\n",
    "               'DT'    : ŷ_dt_train,\n",
    "               'GNB'   : ŷ_gnb_train,\n",
    "               'KNN'   : ŷ_knn_train,\n",
    "               'SVM'   : ŷ_svm_train,\n",
    "               'RF'    : ŷ_rf_train,\n",
    "               'XGB'   : ŷ_xgb_train,\n",
    "               'MLP'   : ŷ_mlp_train}"
   ]
  },
  {
   "cell_type": "code",
   "execution_count": null,
   "metadata": {},
   "outputs": [],
   "source": [
    "# predições (conjunto de teste)\n",
    "ŷ_dummy_test = tuned_models['DUMMY'].predict(X_test)\n",
    "ŷ_mlr_test   = tuned_models['MLR'].predict(X_test)\n",
    "ŷ_dt_test    = tuned_models['DT'].predict(X_test)\n",
    "ŷ_gnb_test   = tuned_models['GNB'].predict(X_test)\n",
    "ŷ_knn_test   = tuned_models['KNN'].predict(X_test)\n",
    "ŷ_svm_test   = tuned_models['SVM'].predict(X_test)\n",
    "ŷ_rf_test    = tuned_models['RF'].predict(X_test)\n",
    "ŷ_xgb_test   = tuned_models['XGB'].predict(X_test)\n",
    "ŷ_mlp_test   = tuned_models['MLP'].predict(X_test)\n",
    "\n",
    "dic_ŷ_test = {'DUMMY' : ŷ_dummy_test,\n",
    "              'MLR'   : ŷ_mlr_test,\n",
    "              'DT'    : ŷ_dt_test,\n",
    "              'GNB'   : ŷ_gnb_test,\n",
    "              'KNN'   : ŷ_knn_test,\n",
    "              'SVM'   : ŷ_svm_test,\n",
    "              'RF'    : ŷ_rf_test,\n",
    "              'XGB'   : ŷ_xgb_test,\n",
    "              'MLP'   : ŷ_mlp_test}"
   ]
  },
  {
   "cell_type": "markdown",
   "metadata": {},
   "source": [
    "Abaixo, são apresentados os mapas geológicos preditivos para cada um dos oito classificadores. Além disso, o mapa geológico de campo e a localização das inconsistências também são mostrados para facilitar a validação visual dos mapas preditivos gerados.\n",
    "\n",
    "As funções auxiliares [createPredTable](https://github.com/fnaghetini/Mapa-Preditivo/blob/main/functions/Custom_Prediction.py) e [createMissClassifTable](https://github.com/fnaghetini/Mapa-Preditivo/blob/main/functions/Custom_Prediction.py) retornam os dataframes de predições e de inconsistências, respectivamente."
   ]
  },
  {
   "cell_type": "code",
   "execution_count": null,
   "metadata": {
    "scrolled": false
   },
   "outputs": [],
   "source": [
    "# mapa preditivo\n",
    "pred_map = createPredTable(dic_ŷ_train, dic_ŷ_test, train, test)\n",
    "# mapa geológico\n",
    "geo_map = pd.concat([train,test])\n",
    "# mapa de inconsistências\n",
    "miss_map = createMissClassifTable(pred_map, y_train, y_test)\n",
    "# lista de modelos\n",
    "models = ['MLR','DT','GNB','KNN','SVM','RF','XGB','MLP']\n",
    "\n",
    "for model in models:\n",
    "    fig, (ax1, ax2, ax3) = plt.subplots(nrows = 1, ncols = 3, figsize = (10, 5))\n",
    "    \n",
    "    # plotagem do mapa preditivo\n",
    "    cm_map = ax1.scatter(data = pred_map, x = 'X', y = 'Y', c = model, cmap = cm, s = sz, marker = mk)\n",
    "    ax1.set_title(model, size = fs_title)\n",
    "    ax1.set_xlabel('X (m)', size = 14)\n",
    "    ax1.set_ylabel('Y (m)', size = 14)\n",
    "    \n",
    "    # plotagem do mapa geológico\n",
    "    ax2.scatter(data = geo_map, x = 'X', y = 'Y', c = 'TARGET', cmap = cm, s = sz, marker = mk)\n",
    "    ax2.set_title(\"Mapa geológico\", size = fs_title)\n",
    "    ax2.set_xlabel('X (m)', size = 14)\n",
    "    \n",
    "    # plotagem do mapa de inconsistências\n",
    "    filtered_miss_map = miss_map[miss_map['MISS_' + model] == 1]\n",
    "    ax3.scatter(data = filtered_miss_map, x = 'X', y = 'Y', c = 'red', s = 0.1, marker = 'o')\n",
    "    ax3.set_title(\"Inconsistências\", size = fs_title)\n",
    "    ax3.set_xlabel('X (m)', size = 14)\n",
    "    \n",
    "    # legenda de unidades\n",
    "    cbar = fig.colorbar(cm_map, ax = ax1, use_gridspec = False, anchor = (-27, 0))\n",
    "    cbar.ax.set_yticklabels(['MAcgg','PP3csbg','PP34b','PP4esjc','PP4esb','PP4egm'])\n",
    "    \n",
    "    plt.tight_layout()\n",
    "    \n",
    "    # salva mapas\n",
    "    if save_plots:\n",
    "        plt.savefig(\"figures/notebook2/Figura_08_\"+model+\".png\", dpi = 300);"
   ]
  },
  {
   "cell_type": "markdown",
   "metadata": {},
   "source": [
    "<p>\n",
    "    <b>Figura 08:</b> Comparação entre os mapas geológicos preditivos por modelo e inconsistências entre os mapas geológicos preditivos e o mapa geológico de campo. <i>MLR = Multinomial Logistic Regression, DT = Decision Tree, GNB = Gaussian Naive Bayes, KNN = K-Nearest Neighbors, SVM = Support Vector Machines, RF = Random Forest, XGB = XGBoost, MLP = Multilayer Perceptron.</i>\n",
    "</p>"
   ]
  },
  {
   "cell_type": "markdown",
   "metadata": {},
   "source": [
    "> A partir de uma análise visual qualitativa, os mapas preditivos gerados pelos classificadores ensemble apresentaram melhor resultado.\n",
    "\n",
    "> Embora o modelo *K-Nearest Neighbors (KNN)* apresente a terceira melhor performance de acordo com o report de validação cruzada, seu mapa preditivo evidencia um aspecto altamente *scattered* (ruidoso).\n",
    "\n",
    "> Todos os mapas preditivos evidenciam um \"offset\" da Formação Barão de Guaicuí na porção central da área."
   ]
  },
  {
   "cell_type": "markdown",
   "metadata": {},
   "source": [
    "<a id='11'></a>\n",
    "## Avaliação da performance dos modelos\n",
    "\n",
    "Após a realização das predições para cada um dos modelos, pode-se avaliar a performance de cada um deles no conjunto de teste. Enfatiza-se que não houve qualquer contato entre o conjunto de teste e os classificadores até então."
   ]
  },
  {
   "cell_type": "markdown",
   "metadata": {},
   "source": [
    "### Matriz de confusão\n",
    "\n",
    "A **matriz de confusão** consiste em uma tabela que sumariza o quão bem sucedido foi o classificador na predição de cada uma das classes. Um dos eixos representa as classes reais, ao passo que o outro se refere às classes preditas. Como o problema em questão é do tipo multinomial com 6 classes, as matrizes, para cada um dos modelos, serão 6x6.\n",
    "\n",
    "A matriz de confusão auxilia na identificação de padrões nos erros de classificação. De forma geral, quanto maiores são os valores de sua diagonal principal, melhor é a performance do modelo avaliado.\n",
    "\n",
    "A *Figura 09* apresenta as matrizes de confusão para cada um dos modelos avaliados. Ressalta-se que os valores apresentados são relativos e não absolutos."
   ]
  },
  {
   "cell_type": "code",
   "execution_count": null,
   "metadata": {
    "scrolled": false
   },
   "outputs": [],
   "source": [
    "fig, axs = plt.subplots(nrows = 4, ncols = 2, figsize = (10, 16))\n",
    "\n",
    "for ax, m in zip(axs.flat, models):\n",
    "    cm = confusion_matrix(y_test, dic_ŷ_test[m], normalize = 'true')\n",
    "    p = ax.matshow(cm, cmap = 'coolwarm')\n",
    "    fig.colorbar(p, ax = ax, boundaries = np.linspace(0.0,1.0,6))\n",
    "    ax.set_title(str(m), size = fs_title, pad = 40)\n",
    "    ax.set_xlabel('Predito', size = 14, labelpad = pad)\n",
    "    ax.set_xticklabels([''] + labels, rotation = 45)\n",
    "    ax.set_ylabel('Real', size = 14, labelpad = pad)\n",
    "    ax.set_yticklabels([''] + labels)\n",
    "\n",
    "    for (i, j), z in np.ndenumerate(cm):\n",
    "        ax.text(j, i, '{:0.2f}'.format(z), ha = 'center', va = 'center')\n",
    "\n",
    "plt.tight_layout()\n",
    "\n",
    "# salva gráficos\n",
    "if save_plots:\n",
    "    plt.savefig(\"figures/notebook2/Figura_09.png\", dpi = 300);"
   ]
  },
  {
   "cell_type": "markdown",
   "metadata": {},
   "source": [
    "<p>\n",
    "    <b>Figura 09:</b> Matrizes de confusão por modelo.\n",
    "</p>"
   ]
  },
  {
   "cell_type": "markdown",
   "metadata": {},
   "source": [
    "> A Formação Sopa Brumadinho (PP4esb) e a Formação São João da Chapada (PP4esjc) são as unidades mais problemáticas e, ao mesmo tempo, as classes mais frequentes na área de estudo. Tal situação era esperada, já que, duarante a separação entre os conjuntos de treino e teste, essas unidades foram intensamente subamostradas.\n",
    "\n",
    "> A Formação Sopa Brumadinho (PP4esb) normalmente é confundida com as classes Formação São João da Chapada (PP4esjc) e Formação Galho do Miguel (PP4egm).\n",
    "\n",
    "> A Formação São João da Chapada (PP4esjc) normalmente é confundida com as classes Formação Bandeirinha (PP34b) e Formação Barão de Guaicuí (PP3csbg).\n",
    "\n",
    "> O modelo *XGBoost* mostra a melhor performance dentre os modelos avaliados, apresentando valores > 60% nas predições de todas as unidades.\n",
    "\n",
    "> O modelo *Random Forest* apresenta performance similar ao *XGBoost*.\n",
    "\n",
    "> Os modelos mais simples, como *Gaussian Naive Bayes* e *Multinomial Logistic Regression* apresentam as piores performances. Entretanto, o modelo mais complexo, *Multilayer Perceptron*, não se mostra o mais performático. Nesse sentido, parece não haver uma relação direta entre a complexidade do modelo e sua performance.  "
   ]
  },
  {
   "cell_type": "markdown",
   "metadata": {},
   "source": [
    "### Métricas por unidade litoestratigráfica\n",
    "\n",
    "Nesta seção, é gerado um report das métricas avaliadas (i.e. F1-score, recall, precisão e acurácia) por unidade litoestratigráfica."
   ]
  },
  {
   "cell_type": "code",
   "execution_count": null,
   "metadata": {
    "scrolled": false
   },
   "outputs": [],
   "source": [
    "for k in dic_ŷ_test.keys():\n",
    "    print('---- \\n')\n",
    "    print(f'{k}:')\n",
    "    print(classification_report(y_test, dic_ŷ_test[k]))"
   ]
  },
  {
   "cell_type": "markdown",
   "metadata": {},
   "source": [
    "> Todos os modelos apresentam precisão baixa nas predições do Complexo Granito-Gnáissico (unidade 1), com valores sempre inferiores à 10%.\n",
    "\n",
    "> De forma geral, os modelos mostram baixa precisão ao predizer classes pouco frequentes na área, como Complexo Granito-Gnáissico (unidade 1) e Formação Galho do Miguel (unidade 6). Em contrapartida, essas mesmas unidades são as que apresentam os maiores valores de recall.\n",
    "\n",
    "> Por outro lado,  tanto a Formação São João da Chapada (unidade 4) quanto a Formação Sopa Brumadinho (unidade 5), as unidades mais frequentes na área, tendem a mostrar os maiores valores de precisão e os menores valores de recall."
   ]
  },
  {
   "cell_type": "markdown",
   "metadata": {},
   "source": [
    "### Report de performance dos modelos\n",
    "\n",
    "Nesta seção, é apresentado um report geral da performance de cada um dos modelos, levando em consideração as mesmas métricas avaliadas anteriormente (i.e. F1-score, recall, precisão e acurácia).\n",
    "\n",
    "A função auxiliar [testReport](https://github.com/fnaghetini/Mapa-Preditivo/blob/main/functions/Custom_Validation.py) calcula e retorna o report de performance dos modelos."
   ]
  },
  {
   "cell_type": "code",
   "execution_count": null,
   "metadata": {},
   "outputs": [],
   "source": [
    "test_report = testReport(dic_ŷ_test, y_test)\n",
    "test_report"
   ]
  },
  {
   "cell_type": "markdown",
   "metadata": {},
   "source": [
    "A função auxiliar [plotModelScores](https://github.com/fnaghetini/Mapa-Preditivo/blob/main/functions/Custom_Validation.py) organiza os modelos em ordem decrescente de acordo com suas respectivas performances no conjunto de teste (*Figura 10*)."
   ]
  },
  {
   "cell_type": "code",
   "execution_count": null,
   "metadata": {},
   "outputs": [],
   "source": [
    "plotModelScores(test_report, list(tuned_models.keys()), col = col, ec = ec)\n",
    "\n",
    "# salva gráfico\n",
    "if save_plots:\n",
    "    plt.savefig(\"figures/notebook2/Figura_10.png\", dpi = 300);"
   ]
  },
  {
   "cell_type": "markdown",
   "metadata": {},
   "source": [
    "<p>\n",
    "    <b>Figura 10:</b> Modelos organizados em ordem decrescente de acordo com a performance no conjunto de teste.\n",
    "</p>"
   ]
  },
  {
   "cell_type": "markdown",
   "metadata": {},
   "source": [
    "> Os modelos ensemble mostraram melhores performances. As performances de *XGBoost* e *Random Forest* são praticamente idênticas.\n",
    "\n",
    "> Modelos simples, como *Decision Tree* e *Gausian Naive Bayes* apresentaram performances inferiores.\n",
    "\n",
    "> O modelo mais complexo, *Multilayer Perceptron*, obteve a terceira melhor performance, sendo inferior aos modelos ensemble e superior aos demais classificadores mais simples.\n",
    "\n",
    "> O classificador *Dummy* mostra a pior performance, conforme esperado."
   ]
  },
  {
   "cell_type": "markdown",
   "metadata": {},
   "source": [
    "<a id='12'></a>\n",
    "## Avaliação do estimador do erro de generalização\n",
    "\n",
    "Após a avaliação da performance de cada um dos modelos no conjunto de teste, é possível avaliar o desempenho do estimador do erro de generalização utilizado, a **Validação Cruzada K-Fold**.\n",
    "\n",
    "A *Figura 11* ilustra três matrizes. A primeira delas diz respeito aos scores computados para cada um dos modelos durante a validação cruzada. A segunda matriz apresenta os scores computados durante a avaliação da performance dos modelos no conjunto de teste. Por fim, a última matriz representa a diferença entre as duas matrizes anteriores. Nesse caso, valores positivos indicam relativo otimismo por parte das estimativas, enquanto valores negativos evidenciam estimativas pessimistas para os scores."
   ]
  },
  {
   "cell_type": "code",
   "execution_count": null,
   "metadata": {},
   "outputs": [],
   "source": [
    "fig, ax = plt.subplots(3,1,figsize = (8, 10))\n",
    "\n",
    "# heatmap de validação\n",
    "sns.heatmap(val_report, cmap = 'coolwarm', annot = True, vmin = 0.5, vmax = 0.75, ax = ax[0])\n",
    "ax[0].set_title('Estimativa do erro de generalização', size = fs_title)\n",
    "\n",
    "# heatmap de teste\n",
    "sns.heatmap(test_report, cmap = 'coolwarm', annot = True, vmin = 0.4, vmax = 0.75, ax = ax[1])\n",
    "ax[1].set_title('Erro do conjunto de teste', size = fs_title)\n",
    "\n",
    "# heatmap da diferença entre validação e teste\n",
    "report_diff = val_report - test_report\n",
    "sns.heatmap(report_diff.drop('DUMMY', axis = 1), cmap = 'coolwarm', annot = True, vmin = -0.1, vmax = 0.1, ax = ax[2])\n",
    "ax[2].set_title('Diferenças', size = fs_title)\n",
    "\n",
    "plt.tight_layout()\n",
    "\n",
    "# salva gráficos\n",
    "if save_plots:\n",
    "    plt.savefig(\"figures/notebook2/Figura_11.png\", dpi = 300);"
   ]
  },
  {
   "cell_type": "markdown",
   "metadata": {},
   "source": [
    "<p>\n",
    "    <b>Figura 11:</b> Matrizes de scores por modelo. A primeira matriz apresenta os scores computados durante a validação cruzada. A segunda matriz mostra os scores resultantes da avaliação de performance dos modelos no conjunto de teste. Por fim, a terceira matriz consiste nas diferenças apresentadas entre ambas as matrizes anteriores. Valores negativos indicam estimativas pessimistas, enquanto valores positivos representam estimativas relativamente otimistas.\n",
    "</p>"
   ]
  },
  {
   "cell_type": "markdown",
   "metadata": {},
   "source": [
    "> A Validação Cruzada K-Fold foi ligeiramente pessimista ao estimar os scores de precisão para todos os modelos. Por outro lado, essa técnica apresentou estimativas relativamente otimistas para o demais scores.\n",
    "\n",
    "> A partir da análise da terceira matriz, nota-se que não houve diferenças (positivas ou negativas) superiores à 10%.\n",
    "\n",
    "> Nos modelos de melhor performance, ou seja, nos modelos ensemble, as diferenças (positivas e negativas) são sempre inferiores à 4.5%\n",
    "\n",
    "> A partir das análises realizadas ainda é difícil concluir qual classificador apresenta melhor performance: *XGBoost* ou *Random Forest*.\n",
    "\n",
    "> A partir da comparação entre a *Figura 07* e a *Figura 10*, percebe-se que a validação cruzada apresenta um bom desempenho ao selecionar o modelo de melhor performance, considerando que a diferença entre os modelos *XGBoost* e *Random Forest* é ínfima. Entretanto, esse estimador não elencou corretamente os demais modelos em ordem decrescente de performance.\n",
    "\n",
    "> Portanto, pode-se concluir que a Validação Cruzada K-Fold apresentou um bom desempenho como estimador do erro de generalização e como técnica de seleção do modelo de melhor performance. Enfatiza-se, entretanto, que essas conclusões não podem ser generalizadas a qualquer tipo de problema regionalizado."
   ]
  },
  {
   "cell_type": "markdown",
   "metadata": {},
   "source": [
    "<a id='13'></a>\n",
    "## Mapas de probabilidade por classes\n",
    "\n",
    "Como as performances apresentadas pelos modelos *Random Forest* e *XGBoost* foram praticamente idênticas, ambos serão comparados nas análises seguintes.\n",
    "\n",
    "Além das predições das classes, alguns algoritmos podem realizar **predições probabilísticas** para cada uma das classes. Esse tipo de abordagem é interessante quando há um certo grau de incerteza nos dados utilizados, como é o caso deste projeto."
   ]
  },
  {
   "cell_type": "markdown",
   "metadata": {},
   "source": [
    "### Random Forest\n",
    "\n",
    "A *Figura 12* ilustra o mapa de probabilidades para cada uma das unidades preditas pelo modelo *Random Forest*. A função auxiliar [createPredProbaTable](https://github.com/fnaghetini/Mapa-Preditivo/blob/main/functions/Custom_Prediction.py) retorna um dataframe com as probabilidades preditas para cada uma das 6 unidades."
   ]
  },
  {
   "cell_type": "code",
   "execution_count": null,
   "metadata": {},
   "outputs": [],
   "source": [
    "# predições probabilísticas dos conjuntos e treino e teste (RF)\n",
    "pr_rf_train = tuned_models['RF'].predict_proba(X_train)\n",
    "pr_rf_test  = tuned_models['RF'].predict_proba(X_test)\n",
    "\n",
    "df_pr_rf = createPredProbaTable(pr_rf_train, pr_rf_test, train, test)"
   ]
  },
  {
   "cell_type": "code",
   "execution_count": null,
   "metadata": {},
   "outputs": [],
   "source": [
    "# mapas de probabilidade por unidade (RF)\n",
    "fig, axs = plt.subplots(nrows = 2, ncols = 3, figsize = (12, 10))\n",
    "\n",
    "for ax, label in zip(axs.flat, labels):\n",
    "    rf_pr_map = ax.scatter(data = df_pr_rf, x = 'X', y = 'Y', c = label, cmap = 'Reds', s = sz, marker = mk)\n",
    "    fig.colorbar(rf_pr_map, ax = ax, boundaries = np.linspace(0.0,1.0,6))\n",
    "    ax.set_title(label, size = fs_title)\n",
    "        \n",
    "plt.tight_layout()\n",
    "\n",
    "# salva mapas\n",
    "if save_plots:\n",
    "    plt.savefig(\"figures/notebook2/Figura_12.png\", dpi = 300);"
   ]
  },
  {
   "cell_type": "markdown",
   "metadata": {},
   "source": [
    "<p>\n",
    "    <b>Figura 12:</b> Mapas de probabilidade do modelo Random Forest para cada uma das unidades litoestratigráficas.\n",
    "</p>"
   ]
  },
  {
   "cell_type": "markdown",
   "metadata": {},
   "source": [
    "> O Complexo Granito-Gnáissico (MAcgg) apresenta maior probabilidade de ocorrência na porção sul da área.\n",
    "\n",
    "> A Formação Barão de Guaicuí (PP3csbg) apresenta maior probabilidade de ocorrência nas porções central e sul da área.\n",
    "\n",
    "> A Formação Bandeirinha (PP34b) apresenta maior probabilidade de ocorrência na porção noroeste da área.\n",
    "\n",
    "> A Formação São João da Chapada (PP4esjc) apresenta maior probabilidade de ocorrência nas porções oeste e sudeste da área.\n",
    "\n",
    "> A Formação Sopa Brumadinho (PP4esb) apresenta maior probabilidade de ocorrência na porção norte da área.\n",
    "\n",
    "> A Formação Galho do Miguel (PP4egm) apresenta maior probabilidade de ocorrência nas porções sudoeste e nordeste da área."
   ]
  },
  {
   "cell_type": "markdown",
   "metadata": {},
   "source": [
    "### XGBoost\n",
    "\n",
    "A *Figura 13* ilustra o mapa de probabilidades para cada uma das unidades preditas pelo modelo *XGBoost*. A função auxiliar [createPredProbaTable](https://github.com/fnaghetini/Mapa-Preditivo/blob/main/functions/Custom_Prediction.py) retorna um dataframe com as probabilidades preditas para cada uma das 6 unidades."
   ]
  },
  {
   "cell_type": "code",
   "execution_count": null,
   "metadata": {},
   "outputs": [],
   "source": [
    "# predições probabilísticas dos conjuntos de treino e teste (XGB)\n",
    "pr_xgb_train = tuned_models['XGB'].predict_proba(X_train)\n",
    "pr_xgb_test = tuned_models['XGB'].predict_proba(X_test)\n",
    "\n",
    "df_pr_xgb = createPredProbaTable(pr_xgb_train, pr_xgb_test, train, test)"
   ]
  },
  {
   "cell_type": "code",
   "execution_count": null,
   "metadata": {},
   "outputs": [],
   "source": [
    "# mapas de probabilidade por unidade (XGB)\n",
    "fig, axs = plt.subplots(nrows = 2, ncols = 3, figsize = (12, 10))\n",
    "\n",
    "for ax, label in zip(axs.flat, labels):\n",
    "    xgb_pr_map = ax.scatter(data = df_pr_xgb, x = 'X', y = 'Y', c = label, cmap = 'Reds', s = sz, marker = mk)\n",
    "    fig.colorbar(xgb_pr_map, ax = ax, boundaries = np.linspace(0.0,1.0,6))\n",
    "    ax.set_title(label, size = fs_title)\n",
    "        \n",
    "plt.tight_layout()\n",
    "\n",
    "# salva mapas\n",
    "if save_plots:\n",
    "    plt.savefig(\"figures/notebook2/Figura_13.png\", dpi = 300);"
   ]
  },
  {
   "cell_type": "markdown",
   "metadata": {},
   "source": [
    "<p>\n",
    "    <b>Figura 13:</b> Mapas de probabilidade do modelo XGBoost para cada uma das unidades litoestratigráficas.\n",
    "</p>"
   ]
  },
  {
   "cell_type": "markdown",
   "metadata": {},
   "source": [
    "> As probabilidades de ocorrência para cada uma das unidades situam-se em posições semelhantes àquelas evidenciadas pelo modelo *Random Forest*.\n",
    "\n",
    "> Entretanto, o modelo *XGBoost* aparenta ser \"mais confiante\" com relação às suas predições do que o modelo *Random Forest*. Isso pode ser evidenciado pelas cores \"mais quentes\" nos mapas de probabilidade."
   ]
  },
  {
   "cell_type": "markdown",
   "metadata": {},
   "source": [
    "<a id='14'></a>\n",
    "## Mapas de entropia cruzada\n",
    "\n",
    "De maneira geral, a **entropia cruzada** é uma função de perda (*loss function*) comumente utilizada em tarefas de classificação binárias ou multinomiais.\n",
    "\n",
    "Imagine uma comparação entre dois classificadores binários. O classificador A tem 90% de certeza que o exemplo $x^{(i)}$ é quartzito e 10% de certeza que esse mesmo exemplo não é quartzito. Por outro lado, o classificador B tem 60% de certeza que o exemplo $x^{(i)}$ é quartzito e 40% de certeza que esse mesmo exemplo não é quartzito. Aos olhos da entropia cruzada, o classificador A é superior ao classificador B.\n",
    "\n",
    "Como o problema em questão assume que apenas uma das classes pode ser predita para cada exemplo, um caso especial e mais simples de entropia cruzada pode ser utilizado, a **entropia cruzada categórica (H)**. Essa função é expressa pela equação abaixo, em que $x$ é a classe predita para o exemplo:\n",
    "\n",
    "<p style=\"text-align:center; font-size:20px\">\n",
    "     $H = -log_2(q(x))$\n",
    "</p>\n",
    "\n",
    "Quanto maior é o valor da entropia cruzada, maior é a incerteza associada à predição realizada por um classificador.\n",
    "\n",
    "A *Figura 14* ilustra os mapas de entropia cruzada categórica para os modelos *Random Forest* (esquerda) e *XGBoost* (direita). A função auxiliar [categoricalCrossEntropy](https://github.com/fnaghetini/Mapa-Preditivo/blob/main/functions/Custom_Prediction.py) retorna um dataframe com os valores de entropia cruzada para cada uma das predições."
   ]
  },
  {
   "cell_type": "code",
   "execution_count": null,
   "metadata": {},
   "outputs": [],
   "source": [
    "# cálculo da entropia para os modelos RF e XGB\n",
    "H_rf = categoricalCrossEntropy(pr_rf_train, pr_rf_test, dic_ŷ_train['RF'], dic_ŷ_test['RF'], train, test)\n",
    "H_xgb = categoricalCrossEntropy(pr_xgb_train, pr_xgb_test, dic_ŷ_train['XGB'], dic_ŷ_test['XGB'], train, test)"
   ]
  },
  {
   "cell_type": "code",
   "execution_count": null,
   "metadata": {},
   "outputs": [],
   "source": [
    "fig, (ax1, ax2) = plt.subplots(nrows = 1, ncols = 2, figsize = (9.5, 7))\n",
    "\n",
    "# mapa de entropia cruzada (RF)\n",
    "rf_H_map = ax1.scatter(data = H_rf, x = 'X', y = 'Y', c = 'ENTROPY', cmap = 'Reds', s = sz, marker = mk)\n",
    "ax1.set_title('Entropia Cruzada - RF', size = fs_title)\n",
    "ax1.set_xlabel('X (m)', size = 14)\n",
    "ax1.set_ylabel('Y (m)', size = 14)\n",
    "fig.colorbar(rf_H_map, ax = ax1, boundaries = np.linspace(0.0,2.5,6))\n",
    "\n",
    "# mapa de entropia cruzada (XGB)\n",
    "xgb_H_map = ax2.scatter(data = H_xgb, x = 'X', y = 'Y', c = 'ENTROPY', cmap = 'Reds', s = sz, marker = mk)\n",
    "ax2.set_title('Entropia Cruzada - XGB', size = fs_title)\n",
    "ax2.set_xlabel('X (m)', size = 14)\n",
    "fig.colorbar(xgb_H_map, ax = ax2, boundaries = np.linspace(0.0,2.5,6))\n",
    "\n",
    "plt.tight_layout()\n",
    "\n",
    "# salva mapas\n",
    "if save_plots:\n",
    "    plt.savefig(\"figures/notebook2/Figura_14.png\", dpi = 300);"
   ]
  },
  {
   "cell_type": "markdown",
   "metadata": {},
   "source": [
    "<p>\n",
    "    <b>Figura 14:</b> Mapas de entropia cruzada para os modelos Random Forest (esquerda) e XGBoost (direita).\n",
    "</p>"
   ]
  },
  {
   "cell_type": "markdown",
   "metadata": {},
   "source": [
    "> As porções que mostram maiores valores de entropia são justamente as regiões próximas aos contatos entre as unidades litoestratigráficas.\n",
    "\n",
    "> O mapa do modelo *Random Forest* tende a apresentar maiores valores de entropia cruzada do que o mapa do modelo *XGBoost*. Logo, *XGBoost* aparenta ser \"mais confiante\" em suas predições, o que já foi evidenciado na comparação entre os mapas de probabilidade.\n",
    "\n",
    "> Portanto, tendo como referência a entropia cruzada, o modelo *XGBoost* é superior ao modelo *Random Forest*."
   ]
  },
  {
   "cell_type": "markdown",
   "metadata": {},
   "source": [
    "<a id='15'></a>\n",
    "## Análise de performance: número de amostras por unidade\n",
    "\n",
    "Por fim, o último estudo realizado consiste na análise da influência do número de instâncias amostradas por unidade na performance do modelo. Apenas o modelo *XGBoost* foi utilizado para essa análise, já que se mostrou ser o classificador mais confiante acerca de suas predições.\n",
    "\n",
    "Para essa análise, serão comparados onze cenários, de modo que, para cada um deles, um número de instâncias por classe diferente é definido para a definição do conjunto de treino. O intuito é observar se existe algum padrão quando se aumenta o número de exemplos por classe e quais são suas implicações na performance do modelo."
   ]
  },
  {
   "cell_type": "code",
   "execution_count": null,
   "metadata": {},
   "outputs": [],
   "source": [
    "# listas de métricas\n",
    "f1s, recs, precs = [], [], []\n",
    "# lista do número de amostras por unidade\n",
    "samples_per_class = [50,100,150,200,250,300,350,400,500,750,1000]\n",
    "\n",
    "for n_samp in samples_per_class:\n",
    "    \n",
    "    # divisão entre treino e teste\n",
    "    X_train, y_train, X_test, y_test = customTrainTestSplit(df, FEAT, COORD,\n",
    "                                                            samp_per_class = n_samp,\n",
    "                                                            threshold = 0.7)\n",
    "\n",
    "    # treinando o classificador\n",
    "    xgb.fit(X_train, y_train)\n",
    "    # predição das unidades\n",
    "    ŷ = xgb.predict(X_test)\n",
    "    \n",
    "    # f1-score\n",
    "    f1 = f1_score(y_test, ŷ, average = 'weighted')\n",
    "    f1s.append(f1)\n",
    "    # recall\n",
    "    rec = recall_score(y_test, ŷ, average = 'weighted')\n",
    "    recs.append(rec)\n",
    "    # precisão\n",
    "    pre = precision_score(y_test, ŷ, average = 'weighted')\n",
    "    precs.append(pre)"
   ]
  },
  {
   "cell_type": "markdown",
   "metadata": {},
   "source": [
    "A *Figura 15* ilustra o gráfico resultante dessa análise. Três métricas são avaliadas:\n",
    "\n",
    "1. F1-Score (linha vermelha)\n",
    "2. Recall (linha azul)\n",
    "3. Precisão (linha verde)"
   ]
  },
  {
   "cell_type": "code",
   "execution_count": null,
   "metadata": {},
   "outputs": [],
   "source": [
    "plt.figure(figsize = (10,4))\n",
    "\n",
    "# f1-score\n",
    "plt.plot(samples_per_class, f1s, color = 'red', marker = 'o', label = 'F1-Score')\n",
    "# recall\n",
    "plt.plot(samples_per_class, recs, color = 'blue', marker = 'o', label = 'Recall')\n",
    "# precisão\n",
    "plt.plot(samples_per_class, precs, color = 'green', marker = 'o', label = 'Precisão')\n",
    "\n",
    "# parâmetros do gráfico\n",
    "plt.xlabel('N° exemplos por unidade', size=14)\n",
    "plt.xticks(np.arange(0,1050,100))\n",
    "plt.ylabel('Score', size = 14)\n",
    "plt.yticks(np.arange(0.5,1.05,0.05))\n",
    "plt.legend(loc = 'lower right')\n",
    "\n",
    "# salva gráfico\n",
    "if save_plots:\n",
    "    plt.savefig(\"figures/notebook2/Figura_15.png\", dpi = 300);"
   ]
  },
  {
   "cell_type": "markdown",
   "metadata": {},
   "source": [
    "<p>\n",
    "    <b>Figura 15:</b> Avaliação do comportamento das métricas com a variação do número de amostras por unidade do conjunto de treino. F1-score é representado pela linha vermelha, recall pela linha azul e a precisão pela linha verde.\n",
    "</p>"
   ]
  },
  {
   "cell_type": "markdown",
   "metadata": {},
   "source": [
    "> O padrão encontrado nessa análise é, de fato, o esperado. Em outras palavras, quando se aumenta o número de instâncias amostradas por unidade, há uma melhoria na performance do modelo avaliado.\n",
    "\n",
    "> A maior taxa de melhoria na performance do modelo ocorre entre 50 e 100 exemplos por unidade.\n",
    "\n",
    "> Para um número de exemplos superior a 400, o ganho em performance não é muito elevado."
   ]
  },
  {
   "cell_type": "markdown",
   "metadata": {},
   "source": [
    "<a id='16'></a>\n",
    "## Exportação dos resultados\n",
    "\n",
    "Nesta seção, os resultados obtidos ao longo do trabalho são exportados para a pasta [output](https://github.com/fnaghetini/Mapa-Preditivo/tree/main/output), caso `save_results = True`. Esses dados serão utilizados em um software GIS para a confecção dos mapas finais do projeto."
   ]
  },
  {
   "cell_type": "code",
   "execution_count": null,
   "metadata": {},
   "outputs": [],
   "source": [
    "if save_results:\n",
    "    # predições realizadas por cada modelo\n",
    "    pred_map.to_csv('output/out_pred.csv', header = True, index = False, float_format='%.3f')\n",
    "\n",
    "    # predições probabilísticas (RF)\n",
    "    df_pr_rf.to_csv('output/out_pred_proba_rf.csv', header = True, index = False, float_format='%.3f')\n",
    "    \n",
    "    # predições probabilísticas (XGB)\n",
    "    df_pr_xgb.to_csv('output/out_pred_proba_xgb.csv', header = True, index = False, float_format='%.3f')\n",
    "    \n",
    "    # inconsistências apresentadas por cada modelo\n",
    "    miss_map.to_csv('output/out_missclassif.csv', header = True, index = False, float_format='%.3f')\n",
    "    \n",
    "    # entropia cruzada (RF)\n",
    "    H_rf.to_csv('output/out_entropy_rf.csv', header = True, index = False, float_format='%.3f')\n",
    "    \n",
    "    # entropia cruzada (XGB)\n",
    "    H_xgb.to_csv('output/out_entropy_xgb.csv', header = True, index = False, float_format='%.3f')"
   ]
  },
  {
   "cell_type": "markdown",
   "metadata": {},
   "source": [
    "Os dados atualizados (sem a feature `CT`) serão exportados (`data_nb3.csv`) para serem utilizados na explicação do modelo no [notebook3.ipynb]()."
   ]
  },
  {
   "cell_type": "code",
   "execution_count": null,
   "metadata": {},
   "outputs": [],
   "source": [
    "df.to_csv('data/data_nb3.csv', header = True, index = False)"
   ]
  }
 ],
 "metadata": {
  "kernelspec": {
   "display_name": "Python 3",
   "language": "python",
   "name": "python3"
  },
  "language_info": {
   "codemirror_mode": {
    "name": "ipython",
    "version": 3
   },
   "file_extension": ".py",
   "mimetype": "text/x-python",
   "name": "python",
   "nbconvert_exporter": "python",
   "pygments_lexer": "ipython3",
   "version": "3.6.10"
  }
 },
 "nbformat": 4,
 "nbformat_minor": 4
}
