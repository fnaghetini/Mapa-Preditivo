{
 "cells": [
  {
   "cell_type": "markdown",
   "metadata": {},
   "source": [
    "# Notebook 2 - Mapa Geológico Preditivo\n",
    "\n",
    "### Pré-processamento, modelagem dos dados & validação dos modelos\n",
    "\n",
    "##### Trabalho de Conclusão de Curso - Geologia / IGC / UFMG\n",
    "\n",
    "Autores: [Franco Naghetini](https://github.com/fnaghetini) & [Guilherme Silveira](https://github.com/guiasilveira)"
   ]
  },
  {
   "cell_type": "markdown",
   "metadata": {},
   "source": [
    "<a id='1'></a>\n",
    "##  Configurações iniciais"
   ]
  },
  {
   "cell_type": "markdown",
   "metadata": {},
   "source": [
    "##### Importação de bibliotecas"
   ]
  },
  {
   "cell_type": "code",
   "execution_count": 1,
   "metadata": {},
   "outputs": [],
   "source": [
    "from math import ceil                                        # arredondamento 'para cima'\n",
    "import numpy as np                                           # operações numéricas de vetores\n",
    "import pandas as pd                                          # manipulação de dataframes e series\n",
    "import matplotlib.pyplot as plt                              # visualização de dados\n",
    "import seaborn as sns                                        # visualização de dados\n",
    "\n",
    "# pré-processamento dos dados\n",
    "from sklearn.preprocessing import StandardScaler             # escalonamento dos dados\n",
    "from sklearn.decomposition import PCA                        # análise de componentes principais\n",
    "from sklearn.feature_selection import SelectKBest            # seleção univariada de features\n",
    "from sklearn.feature_selection import f_classif              # seleção univariada de features (teste F ANOVA)\n",
    "from sklearn.feature_selection import mutual_info_classif    # seleção univariada de features (informação mútua)\n",
    "from sklearn.feature_selection import SelectFromModel        # seleção de features a partir de um modelo\n",
    "from imblearn.over_sampling import SMOTE                     # superamostragem\n",
    "\n",
    "# criação de classes scikit-learn e pipelines\n",
    "from sklearn.base import BaseEstimator, TransformerMixin     # criação de classes personalizadas\n",
    "from imblearn.pipeline import Pipeline                       # criação de pipelines\n",
    "\n",
    "# modelagem dos dados\n",
    "from sklearn.linear_model import LogisticRegression          # logistic regression\n",
    "from sklearn.linear_model import RidgeClassifier             # ridge classifier\n",
    "from sklearn.naive_bayes import GaussianNB                   # gaussian naive bayes\n",
    "from sklearn.neighbors import KNeighborsClassifier           # k-nearest neighbor\n",
    "from sklearn.svm import SVC                                  # support vector machines\n",
    "from sklearn.ensemble import RandomForestClassifier          # random forest\n",
    "from xgboost import XGBClassifier                            # xgboost\n",
    "\n",
    "# validação dos modelos\n",
    "from sklearn.model_selection import StratifiedKFold          # amostragem estratificada\n",
    "from sklearn.model_selection import cross_val_score          # scores de validação cruzada\n",
    "from sklearn.metrics import accuracy_score                   # acurácia\n",
    "from sklearn.metrics import f1_score                         # f1-score\n",
    "from sklearn.metrics import precision_score                  # precisão\n",
    "from sklearn.metrics import recall_score                     # revocação\n",
    "from sklearn.metrics import confusion_matrix                 # matriz de confusão\n",
    "from sklearn.metrics import classification_report            # report de métricas de classificação\n",
    "\n",
    "# tuning dos modelos\n",
    "from sklearn.model_selection import RandomizedSearchCV       # random search\n",
    "from sklearn.model_selection import GridSearchCV             # grid search\n",
    "\n",
    "import warnings                                              # desabilitar avisos\n",
    "warnings.filterwarnings(\"ignore\")\n",
    "\n",
    "%matplotlib inline"
   ]
  },
  {
   "cell_type": "markdown",
   "metadata": {},
   "source": [
    "##### Importação do banco de dados"
   ]
  },
  {
   "cell_type": "code",
   "execution_count": 2,
   "metadata": {},
   "outputs": [],
   "source": [
    "df_original = pd.read_csv(\"data/data_nb2.csv\",sep=\",\")"
   ]
  },
  {
   "cell_type": "code",
   "execution_count": 3,
   "metadata": {},
   "outputs": [],
   "source": [
    "# criação de uma cópia (deep) do dataframe original\n",
    "df = df_original.copy(deep = True)"
   ]
  },
  {
   "cell_type": "markdown",
   "metadata": {},
   "source": [
    "##### Visualização das primeiras linhas do banco de dados"
   ]
  },
  {
   "cell_type": "code",
   "execution_count": 4,
   "metadata": {},
   "outputs": [
    {
     "data": {
      "text/html": [
       "<div>\n",
       "<style scoped>\n",
       "    .dataframe tbody tr th:only-of-type {\n",
       "        vertical-align: middle;\n",
       "    }\n",
       "\n",
       "    .dataframe tbody tr th {\n",
       "        vertical-align: top;\n",
       "    }\n",
       "\n",
       "    .dataframe thead th {\n",
       "        text-align: right;\n",
       "    }\n",
       "</style>\n",
       "<table border=\"1\" class=\"dataframe\">\n",
       "  <thead>\n",
       "    <tr style=\"text-align: right;\">\n",
       "      <th></th>\n",
       "      <th>X</th>\n",
       "      <th>Y</th>\n",
       "      <th>GT</th>\n",
       "      <th>K</th>\n",
       "      <th>TH</th>\n",
       "      <th>U</th>\n",
       "      <th>CT</th>\n",
       "      <th>U_K</th>\n",
       "      <th>TH_K</th>\n",
       "      <th>U_TH</th>\n",
       "      <th>...</th>\n",
       "      <th>B06</th>\n",
       "      <th>B07</th>\n",
       "      <th>B08</th>\n",
       "      <th>B09</th>\n",
       "      <th>R</th>\n",
       "      <th>G</th>\n",
       "      <th>B</th>\n",
       "      <th>TARGET</th>\n",
       "      <th>UNID</th>\n",
       "      <th>COD</th>\n",
       "    </tr>\n",
       "  </thead>\n",
       "  <tbody>\n",
       "    <tr>\n",
       "      <th>0</th>\n",
       "      <td>638663.68</td>\n",
       "      <td>7981552.08</td>\n",
       "      <td>0.076001</td>\n",
       "      <td>0.38</td>\n",
       "      <td>3.98</td>\n",
       "      <td>2.21</td>\n",
       "      <td>3.56</td>\n",
       "      <td>3.11</td>\n",
       "      <td>6.51</td>\n",
       "      <td>0.49</td>\n",
       "      <td>...</td>\n",
       "      <td>15656</td>\n",
       "      <td>11371</td>\n",
       "      <td>7669</td>\n",
       "      <td>5089</td>\n",
       "      <td>208</td>\n",
       "      <td>199</td>\n",
       "      <td>185</td>\n",
       "      <td>6</td>\n",
       "      <td>Fm_GM</td>\n",
       "      <td>PP4egm</td>\n",
       "    </tr>\n",
       "    <tr>\n",
       "      <th>1</th>\n",
       "      <td>638663.68</td>\n",
       "      <td>7981489.58</td>\n",
       "      <td>0.054137</td>\n",
       "      <td>0.41</td>\n",
       "      <td>3.66</td>\n",
       "      <td>2.44</td>\n",
       "      <td>3.60</td>\n",
       "      <td>3.11</td>\n",
       "      <td>6.91</td>\n",
       "      <td>0.47</td>\n",
       "      <td>...</td>\n",
       "      <td>17906</td>\n",
       "      <td>13743</td>\n",
       "      <td>8706</td>\n",
       "      <td>5077</td>\n",
       "      <td>195</td>\n",
       "      <td>189</td>\n",
       "      <td>169</td>\n",
       "      <td>6</td>\n",
       "      <td>Fm_GM</td>\n",
       "      <td>PP4egm</td>\n",
       "    </tr>\n",
       "    <tr>\n",
       "      <th>2</th>\n",
       "      <td>638726.18</td>\n",
       "      <td>7981489.58</td>\n",
       "      <td>0.071591</td>\n",
       "      <td>0.57</td>\n",
       "      <td>5.30</td>\n",
       "      <td>2.63</td>\n",
       "      <td>4.23</td>\n",
       "      <td>2.72</td>\n",
       "      <td>6.97</td>\n",
       "      <td>0.41</td>\n",
       "      <td>...</td>\n",
       "      <td>17693</td>\n",
       "      <td>13716</td>\n",
       "      <td>8699</td>\n",
       "      <td>5083</td>\n",
       "      <td>197</td>\n",
       "      <td>160</td>\n",
       "      <td>153</td>\n",
       "      <td>6</td>\n",
       "      <td>Fm_GM</td>\n",
       "      <td>PP4egm</td>\n",
       "    </tr>\n",
       "    <tr>\n",
       "      <th>3</th>\n",
       "      <td>638788.68</td>\n",
       "      <td>7981489.58</td>\n",
       "      <td>0.055794</td>\n",
       "      <td>0.80</td>\n",
       "      <td>7.26</td>\n",
       "      <td>2.88</td>\n",
       "      <td>4.92</td>\n",
       "      <td>2.40</td>\n",
       "      <td>7.16</td>\n",
       "      <td>0.36</td>\n",
       "      <td>...</td>\n",
       "      <td>16064</td>\n",
       "      <td>11973</td>\n",
       "      <td>8334</td>\n",
       "      <td>5083</td>\n",
       "      <td>226</td>\n",
       "      <td>208</td>\n",
       "      <td>202</td>\n",
       "      <td>6</td>\n",
       "      <td>Fm_GM</td>\n",
       "      <td>PP4egm</td>\n",
       "    </tr>\n",
       "    <tr>\n",
       "      <th>4</th>\n",
       "      <td>638851.18</td>\n",
       "      <td>7981489.58</td>\n",
       "      <td>0.033372</td>\n",
       "      <td>1.05</td>\n",
       "      <td>9.20</td>\n",
       "      <td>3.17</td>\n",
       "      <td>5.54</td>\n",
       "      <td>2.21</td>\n",
       "      <td>7.50</td>\n",
       "      <td>0.33</td>\n",
       "      <td>...</td>\n",
       "      <td>15789</td>\n",
       "      <td>11648</td>\n",
       "      <td>8081</td>\n",
       "      <td>5085</td>\n",
       "      <td>161</td>\n",
       "      <td>167</td>\n",
       "      <td>130</td>\n",
       "      <td>6</td>\n",
       "      <td>Fm_GM</td>\n",
       "      <td>PP4egm</td>\n",
       "    </tr>\n",
       "    <tr>\n",
       "      <th>5</th>\n",
       "      <td>638788.68</td>\n",
       "      <td>7981427.08</td>\n",
       "      <td>0.028260</td>\n",
       "      <td>0.85</td>\n",
       "      <td>6.60</td>\n",
       "      <td>2.97</td>\n",
       "      <td>4.92</td>\n",
       "      <td>2.51</td>\n",
       "      <td>7.64</td>\n",
       "      <td>0.36</td>\n",
       "      <td>...</td>\n",
       "      <td>15269</td>\n",
       "      <td>11403</td>\n",
       "      <td>8028</td>\n",
       "      <td>5079</td>\n",
       "      <td>142</td>\n",
       "      <td>107</td>\n",
       "      <td>106</td>\n",
       "      <td>6</td>\n",
       "      <td>Fm_GM</td>\n",
       "      <td>PP4egm</td>\n",
       "    </tr>\n",
       "    <tr>\n",
       "      <th>6</th>\n",
       "      <td>638663.68</td>\n",
       "      <td>7981427.08</td>\n",
       "      <td>0.051313</td>\n",
       "      <td>0.44</td>\n",
       "      <td>3.20</td>\n",
       "      <td>2.62</td>\n",
       "      <td>3.62</td>\n",
       "      <td>3.14</td>\n",
       "      <td>7.37</td>\n",
       "      <td>0.44</td>\n",
       "      <td>...</td>\n",
       "      <td>18497</td>\n",
       "      <td>14848</td>\n",
       "      <td>9045</td>\n",
       "      <td>5091</td>\n",
       "      <td>226</td>\n",
       "      <td>175</td>\n",
       "      <td>200</td>\n",
       "      <td>6</td>\n",
       "      <td>Fm_GM</td>\n",
       "      <td>PP4egm</td>\n",
       "    </tr>\n",
       "    <tr>\n",
       "      <th>7</th>\n",
       "      <td>638726.18</td>\n",
       "      <td>7981427.08</td>\n",
       "      <td>0.047716</td>\n",
       "      <td>0.62</td>\n",
       "      <td>4.74</td>\n",
       "      <td>2.80</td>\n",
       "      <td>4.25</td>\n",
       "      <td>2.80</td>\n",
       "      <td>7.47</td>\n",
       "      <td>0.40</td>\n",
       "      <td>...</td>\n",
       "      <td>16202</td>\n",
       "      <td>12264</td>\n",
       "      <td>8508</td>\n",
       "      <td>5097</td>\n",
       "      <td>170</td>\n",
       "      <td>107</td>\n",
       "      <td>122</td>\n",
       "      <td>6</td>\n",
       "      <td>Fm_GM</td>\n",
       "      <td>PP4egm</td>\n",
       "    </tr>\n",
       "    <tr>\n",
       "      <th>8</th>\n",
       "      <td>638663.68</td>\n",
       "      <td>7981364.58</td>\n",
       "      <td>0.048052</td>\n",
       "      <td>0.49</td>\n",
       "      <td>2.99</td>\n",
       "      <td>2.77</td>\n",
       "      <td>3.63</td>\n",
       "      <td>3.18</td>\n",
       "      <td>7.87</td>\n",
       "      <td>0.42</td>\n",
       "      <td>...</td>\n",
       "      <td>17907</td>\n",
       "      <td>14332</td>\n",
       "      <td>8848</td>\n",
       "      <td>5082</td>\n",
       "      <td>224</td>\n",
       "      <td>150</td>\n",
       "      <td>198</td>\n",
       "      <td>6</td>\n",
       "      <td>Fm_GM</td>\n",
       "      <td>PP4egm</td>\n",
       "    </tr>\n",
       "    <tr>\n",
       "      <th>9</th>\n",
       "      <td>638726.18</td>\n",
       "      <td>7981364.58</td>\n",
       "      <td>0.044078</td>\n",
       "      <td>0.64</td>\n",
       "      <td>4.20</td>\n",
       "      <td>2.87</td>\n",
       "      <td>4.23</td>\n",
       "      <td>2.87</td>\n",
       "      <td>7.93</td>\n",
       "      <td>0.38</td>\n",
       "      <td>...</td>\n",
       "      <td>15765</td>\n",
       "      <td>11898</td>\n",
       "      <td>8060</td>\n",
       "      <td>5098</td>\n",
       "      <td>243</td>\n",
       "      <td>171</td>\n",
       "      <td>217</td>\n",
       "      <td>6</td>\n",
       "      <td>Fm_GM</td>\n",
       "      <td>PP4egm</td>\n",
       "    </tr>\n",
       "  </tbody>\n",
       "</table>\n",
       "<p>10 rows × 26 columns</p>\n",
       "</div>"
      ],
      "text/plain": [
       "           X           Y        GT     K    TH     U    CT   U_K  TH_K  U_TH  \\\n",
       "0  638663.68  7981552.08  0.076001  0.38  3.98  2.21  3.56  3.11  6.51  0.49   \n",
       "1  638663.68  7981489.58  0.054137  0.41  3.66  2.44  3.60  3.11  6.91  0.47   \n",
       "2  638726.18  7981489.58  0.071591  0.57  5.30  2.63  4.23  2.72  6.97  0.41   \n",
       "3  638788.68  7981489.58  0.055794  0.80  7.26  2.88  4.92  2.40  7.16  0.36   \n",
       "4  638851.18  7981489.58  0.033372  1.05  9.20  3.17  5.54  2.21  7.50  0.33   \n",
       "5  638788.68  7981427.08  0.028260  0.85  6.60  2.97  4.92  2.51  7.64  0.36   \n",
       "6  638663.68  7981427.08  0.051313  0.44  3.20  2.62  3.62  3.14  7.37  0.44   \n",
       "7  638726.18  7981427.08  0.047716  0.62  4.74  2.80  4.25  2.80  7.47  0.40   \n",
       "8  638663.68  7981364.58  0.048052  0.49  2.99  2.77  3.63  3.18  7.87  0.42   \n",
       "9  638726.18  7981364.58  0.044078  0.64  4.20  2.87  4.23  2.87  7.93  0.38   \n",
       "\n",
       "   ...    B06    B07   B08   B09    R    G    B  TARGET   UNID     COD  \n",
       "0  ...  15656  11371  7669  5089  208  199  185       6  Fm_GM  PP4egm  \n",
       "1  ...  17906  13743  8706  5077  195  189  169       6  Fm_GM  PP4egm  \n",
       "2  ...  17693  13716  8699  5083  197  160  153       6  Fm_GM  PP4egm  \n",
       "3  ...  16064  11973  8334  5083  226  208  202       6  Fm_GM  PP4egm  \n",
       "4  ...  15789  11648  8081  5085  161  167  130       6  Fm_GM  PP4egm  \n",
       "5  ...  15269  11403  8028  5079  142  107  106       6  Fm_GM  PP4egm  \n",
       "6  ...  18497  14848  9045  5091  226  175  200       6  Fm_GM  PP4egm  \n",
       "7  ...  16202  12264  8508  5097  170  107  122       6  Fm_GM  PP4egm  \n",
       "8  ...  17907  14332  8848  5082  224  150  198       6  Fm_GM  PP4egm  \n",
       "9  ...  15765  11898  8060  5098  243  171  217       6  Fm_GM  PP4egm  \n",
       "\n",
       "[10 rows x 26 columns]"
      ]
     },
     "execution_count": 4,
     "metadata": {},
     "output_type": "execute_result"
    }
   ],
   "source": [
    "df.head(10)"
   ]
  },
  {
   "cell_type": "markdown",
   "metadata": {},
   "source": [
    "<a id='2'></a>\n",
    "## Variáveis Globais & funcões auxiliares"
   ]
  },
  {
   "cell_type": "markdown",
   "metadata": {},
   "source": [
    "##### Variáveis globais"
   ]
  },
  {
   "cell_type": "code",
   "execution_count": 5,
   "metadata": {},
   "outputs": [],
   "source": [
    "# coordenadas\n",
    "COORD = ['X','Y']\n",
    "\n",
    "# features\n",
    "FEAT = df.columns[2:-3]\n",
    "\n",
    "# features geofísicas\n",
    "GF = FEAT[:8]\n",
    "\n",
    "# canais radiométricos\n",
    "RADIO = ['K','TH','U']\n",
    "\n",
    "# sensores remotos\n",
    "SR = FEAT[8:21]\n",
    "\n",
    "# meta dados\n",
    "META = ['UNID','COD']\n",
    "\n",
    "# dicionário litoestratigráfico\n",
    "dic_lith = {}\n",
    "for k, v1, v2 in zip(df['TARGET'].unique(), df['UNID'].unique(), df['COD'].unique()):\n",
    "    dic_lith[k] = [v1, v2]"
   ]
  },
  {
   "cell_type": "markdown",
   "metadata": {},
   "source": [
    "##### Parâmetros dos gráficos"
   ]
  },
  {
   "cell_type": "code",
   "execution_count": 6,
   "metadata": {},
   "outputs": [],
   "source": [
    "# fonte: Times New Roman, tamanho: 12\n",
    "plt.rcParams.update({'font.family':'Times New Roman', 'font.size' : 12})\n",
    "\n",
    "fs_title =  16         # tamanho da fonte dos títulos\n",
    "cm       = 'Dark2'     # mapa de cores\n",
    "mk       = 's'         # estilo do marcador (quadrado)\n",
    "sz       =  2          # tamanho do marcador    \n",
    "col      = 'lightgray' # cor dos histogramas\n",
    "ec       = 'black'     # cor das bordas dos histogramas\n",
    "pad      = 15.0        # offset dos títulos e labels"
   ]
  },
  {
   "cell_type": "markdown",
   "metadata": {},
   "source": [
    "##### customTrainTestSplit(df :: dataframe, threshold :: int, coords :: bool)\n",
    "\n",
    "Realiza a divisão dos dados entre treino e teste. O conjunto de treino é obtido a partir de uma amostragem aleatória de 100 exemplos por unidade litoestratigráfica. Caso uma unidade apresente um número de exemplos < `threshold`, 70% de suas instâncias são aleatoriamente amostradas.\n",
    "\n",
    "Parâmetros:\n",
    "- `df` : dataframe (n, m) com os dados brutos\n",
    "- `threshold` : número de exemplos a serem amostrados por classe. Esses exemplos irão compor o conjunto de treino. Default = 100.\n",
    "- `coords` : se `True`, retorna as coordenadas `X` e `Y` de treino e teste\n",
    "\n",
    "Retorna:\n",
    "- `X_train` : narray (t, m) com as features do conjunto de treino\n",
    "- `y_train` : narray (t,  ) com o target do conjunto de treino\n",
    "- `coord_train` : narray (t, 2) com as coordenadas do conjunto de treino (apenas se `coords = True`)\n",
    "- `X_test` : narray (n-t, m) com as features do conjunto de teste\n",
    "- `y_test` : narray (n-t,  ) com o target do conjunto de teste\n",
    "- `coord_test` : narray (n-t, 2) com as coordenadas do conjunto de teste (apenas se `coords = True`)"
   ]
  },
  {
   "cell_type": "code",
   "execution_count": 7,
   "metadata": {},
   "outputs": [],
   "source": [
    "def customTrainTestSplit(df, threshold = 100, coords = False):\n",
    "    # semente aleatória\n",
    "    np.random.seed(42)\n",
    "    # embaralhando dataframe de entrada\n",
    "    table = df.sample(frac = 1).reset_index(drop = True)\n",
    "    # lista de unidades (classes)\n",
    "    classes = table['TARGET'].unique()\n",
    "    # dataframe vazio de treino\n",
    "    train = pd.DataFrame()\n",
    "    \n",
    "    # Para cada unidade\n",
    "    for c in classes:\n",
    "        # dataframe filtrado para cada unidade específica\n",
    "        unid = table[table['TARGET'] == c]\n",
    "        # número de exemplos de uma unidade\n",
    "        len_unid = len(unid)\n",
    "        # se o número de ocorrência <= threshold\n",
    "        if len_unid <= threshold:\n",
    "            # amostragem aleatória de 70% dos exemplos da unidade\n",
    "            𝒮 = unid.sample(ceil(len_unid * 0.7))\n",
    "        # se o número de ocorrência > threshold\n",
    "        else:\n",
    "            # amostragem aleatória de 100 exemplos da unidade\n",
    "            𝒮 = unid.sample(threshold)   \n",
    "        # populando dataframe de treino\n",
    "        train = pd.concat([train, 𝒮])\n",
    "            \n",
    "    # embaralhando os dados de treino  e teste\n",
    "    test = table.drop(train.index).sample(frac = 1).reset_index(drop = True)\n",
    "    train = train.sample(frac = 1).reset_index(drop = True)\n",
    "    \n",
    "    # divisão entre features e target nos dados de treino\n",
    "    X_train, y_train, coord_train = train[FEAT].values, train['TARGET'].values, train[COORD].values\n",
    "    # divisão entre features e target nos dados de teste\n",
    "    X_test, y_test, coord_test = test[FEAT].values, test['TARGET'].values, test[COORD].values\n",
    "    \n",
    "    # retorna as features, target e coordenadas de treino e teste\n",
    "    if coords:\n",
    "        return X_train, y_train, coord_train, X_test, y_test, coord_test\n",
    "    # retorna apenas as features e target de treino e teste\n",
    "    else:\n",
    "        return X_train, y_train, X_test, y_test"
   ]
  },
  {
   "cell_type": "markdown",
   "metadata": {},
   "source": [
    "##### MaskedPCA(n_components :: int, mask :: narray)\n",
    "\n",
    "Classe que realiza uma Análise de Componentes Principais (PCA) apenas das features definidas pelo parâmetro `mask`. O número de componentes principais pode ser informado por meio do parâmetro `n_components`.\n",
    "\n",
    "Parâmetros:\n",
    "- `n_components` : número (int) de componentes principais\n",
    "- `mask` : narray (n, ), sendo `n` o número de features utilizadas na PCA. Este parâmetro indica os índices das colunas das features.\n",
    "\n",
    "Retorna:\n",
    "- instância da classe MaskedPCA."
   ]
  },
  {
   "cell_type": "code",
   "execution_count": 8,
   "metadata": {},
   "outputs": [],
   "source": [
    "class MaskedPCA(BaseEstimator, TransformerMixin):\n",
    "\n",
    "    def __init__(self, n_components = 2, mask = None):\n",
    "        self.n_components = n_components\n",
    "        self.mask = mask\n",
    "\n",
    "    def fit(self, X, y = None):\n",
    "        self.pca = PCA(n_components = self.n_components)\n",
    "        mask = self.mask\n",
    "        mask = self.mask if self.mask is not None else slice(None)\n",
    "        self.pca.fit(X[:, mask])\n",
    "        return self\n",
    "\n",
    "    def transform(self, X, y = None):\n",
    "        mask = self.mask if self.mask is not None else slice(None)\n",
    "        pca_transformed = self.pca.transform(X[:, mask])\n",
    "        if self.mask is not None:\n",
    "            remaining_cols = np.delete(X, mask, axis = 1)\n",
    "            return np.hstack([remaining_cols, pca_transformed])\n",
    "        else:\n",
    "            return pca_transformed"
   ]
  },
  {
   "cell_type": "markdown",
   "metadata": {},
   "source": [
    "##### univariateSelector(X_train :: narray, y_train :: narray, X_test :: narray,  func :: function, n_features :: int)\n",
    "\n",
    "Seleciona as `n_features` mais importantes de acordo com uma função `func` passada pelo usuário.\n",
    "\n",
    "Parâmetros:\n",
    "- `X_train` : narray (t, m) das features de treino\n",
    "- `y_train` : narray (t,  ) do target de treino\n",
    "- `X_test` : narray (n-t, m) das features de teste\n",
    "- `func` : função definida para selecionar as features. As duas opções são *f_classif* e *mutual_info_classif*\n",
    "- `n_features` : número (int) de features a serem selecionadas. Default = 10\n",
    "\n",
    "Retorna:\n",
    "- `X_train_fs` : narray(t, n_features) das features de treino selecionadas\n",
    "- `X_test_fs` : narray(n-t, n_features) das features de teste selecionadas\n",
    "- `selector.scores_` : narray(n_features, ) com os scores calculados"
   ]
  },
  {
   "cell_type": "code",
   "execution_count": 9,
   "metadata": {},
   "outputs": [],
   "source": [
    "def univariateSelector(X_train, y_train, X_test, func, n_features = 10):\n",
    "    # instanciando seletor de features\n",
    "    selector = SelectKBest(score_func = func, k = n_features)\n",
    "    \n",
    "    # treinando seletor de features\n",
    "    selector.fit(X_train, y_train)\n",
    "    \n",
    "    # transformação das features de treino\n",
    "    X_train_fs = selector.transform(X_train)\n",
    "    # transformação das features de teste\n",
    "    X_test_fs = selector.transform(X_test)\n",
    "    \n",
    "    return X_train_fs, X_test_fs, selector.scores_"
   ]
  },
  {
   "cell_type": "markdown",
   "metadata": {},
   "source": [
    "##### dicScores(score :: narray, k :: int, feature_labels :: list)\n",
    "\n",
    "Cria um dicionário com as `k` features mais importantes e seus respectivos scores `score`.\n",
    "\n",
    "Parâmetros:\n",
    "- `score` : narray (k,  ) com os scores das features mais importantes\n",
    "- `k` : número (int) de features mais importantes. Default = 10\n",
    "- `feature_labels` : lista com os nomes das features\n",
    "\n",
    "Retorna:\n",
    "- `dict` : dicionário com `k` features (chaves) e `k` scores (valores)"
   ]
  },
  {
   "cell_type": "code",
   "execution_count": 10,
   "metadata": {},
   "outputs": [],
   "source": [
    "def dicScores(score, k = 10, feature_labels = None):\n",
    "    # dicionário vazio\n",
    "    fs_dic = {}\n",
    "    \n",
    "    # populando o dicionário com os scores\n",
    "    for f, s in zip(feature_labels, list(score)):\n",
    "        fs_dic[f] = round(s, 2)\n",
    "    \n",
    "    # ordenando dicionário de forma descendente\n",
    "    list_sorted = sorted(fs_dic.items(), key = lambda x: x[1], reverse = True)\n",
    "    # fatiando lista de acordo com o 'k' informado\n",
    "    sliced_list = list_sorted[:k][:k]\n",
    "    \n",
    "    # retorna dicionário\n",
    "    return dict(sliced_list)"
   ]
  },
  {
   "cell_type": "markdown",
   "metadata": {},
   "source": [
    "##### plotSelectionScores(score :: narray, k :: int, feature_labels :: list)\n",
    "\n",
    "Plota um gráfico de barras com as `k` features mais importantes.\n",
    "\n",
    "Parâmetros:\n",
    "- `score` : narray (n_features, ) com os scores de importância das features\n",
    "- `labels` : lista com os nomes das features\n",
    "- `k` : número (int) de features mais importantes. Default = 10\n",
    "\n",
    "Retorna:\n",
    "- Gráfico de barras com as `k` features mais importantes"
   ]
  },
  {
   "cell_type": "code",
   "execution_count": 11,
   "metadata": {},
   "outputs": [],
   "source": [
    "def plotSelectionScores(score, labels, k = 10):\n",
    "    # dicionário de features e seus scores\n",
    "    dic = dicScores(score, k = k, feature_labels = labels)\n",
    "    # features\n",
    "    features = list(dic.keys())\n",
    "    # scores\n",
    "    values = list(dic.values())\n",
    "    \n",
    "    # dimensões do gráfico\n",
    "    plt.figure(figsize = (k*0.6,3))\n",
    "    # gráfico de barras f-score x features\n",
    "    plt.bar(x = features, height = values, color = col, edgecolor = ec)\n",
    "    # título e labels\n",
    "    plt.title(f\"{k} features mais importantes\", size = fs_title)\n",
    "    plt.ylabel('Score', size = 14)\n",
    "    plt.yticks(size = 12)\n",
    "    plt.xticks(rotation = 45, size = 12)\n",
    "\n",
    "    plt.tight_layout();"
   ]
  },
  {
   "cell_type": "markdown",
   "metadata": {},
   "source": [
    "##### modelSelector(X_train :: narray, y_train :: narray, X_test :: narray,  model :: object, n_features :: int)\n",
    "\n",
    "Seleciona as `n_features` mais importantes de acordo com um modelo.\n",
    "\n",
    "Parâmetros:\n",
    "- `X_train` : narray (t, m) das features de treino\n",
    "- `y_train` : narray (t,  ) do target de treino\n",
    "- `X_test` : narray (n-t, m) das features de teste\n",
    "- `model` : modelo utilizado para a seleção de features. São opções: *LogisticRegression* e *RandomForestClassifier*, por exemplo\n",
    "- `n_features` : número (int) de features a serem selecionadas. Default = 10\n",
    "\n",
    "Retorna:\n",
    "- `X_train_fs` : narray(t, n_features) das features de treino selecionadas\n",
    "- `X_test_fs` : narray(n-t, n_features) das features de teste selecionadas\n",
    "- `selector` : objeto que representa o seletor de features já treinado"
   ]
  },
  {
   "cell_type": "code",
   "execution_count": 12,
   "metadata": {},
   "outputs": [],
   "source": [
    "def modelSelector(X_train, y_train, X_test, model, n_features = 10):\n",
    "    # instanciando seletor de features\n",
    "    selector = SelectFromModel(estimator = model, threshold = -np.inf, max_features = n_features)\n",
    "    \n",
    "    # treinando seletor\n",
    "    selector.fit(X_train, y_train)\n",
    "    \n",
    "    # transformação das features de treino\n",
    "    X_train_fs = selector.transform(X_train)\n",
    "    # transformação das features de teste\n",
    "    X_test_fs = selector.transform(X_test)\n",
    "    \n",
    "    return X_train_fs, X_test_fs, selector"
   ]
  },
  {
   "cell_type": "markdown",
   "metadata": {},
   "source": [
    "##### validationReport(pipeline :: pipeline, X_train :: narray, y_train :: narray, cv :: object)\n",
    "\n",
    "Retorna um report com as métricas resultantes da validação cruzada por modelo. As métricas incluem F1-score, precisão, revocação (weighted e macro) e acurácia.\n",
    "\n",
    "Parâmetros:\n",
    "- `pipeline` : pipeline completa com as etapas de processamento até a instanciação do classificador\n",
    "- `X_train` : narray (t, m) das features de treino\n",
    "- `y_train` : narray (t, ) do target de treino\n",
    "- `cv` : objeto de validação cruzada\n",
    "\n",
    "Retorna:\n",
    "- `df_metrics` : dataframe com as métricas resultantes da validação cruzada por modelo"
   ]
  },
  {
   "cell_type": "code",
   "execution_count": 13,
   "metadata": {},
   "outputs": [],
   "source": [
    "def validationReport(pipeline, X_train, y_train, cv):\n",
    "    # colunas do dataframe\n",
    "    cols = pipeline.keys()\n",
    "    # índices do dataframe\n",
    "    index = [f'{m}_{avg}' for avg in ['weighted','macro'] for m in ['f1','precision','recall']]\n",
    "    index.append('accuracy')\n",
    "    # criação do dataframe\n",
    "    df_metrics = pd.DataFrame(columns = cols, index = index)\n",
    "\n",
    "    # para cada modelo\n",
    "    for pipe in pipeline.keys():\n",
    "        # lista de métricas vazia\n",
    "        metrics = []\n",
    "        # para cada tipo de média das métricas\n",
    "        for i in index:\n",
    "            # validação cruzada\n",
    "            m = cross_val_score(pipeline[pipe], X_train, y_train, scoring = i, cv = cv)\n",
    "            # média dos scores dos folds\n",
    "            μₘ = round(m.mean(), 3)\n",
    "            # populando lista com o score obtido\n",
    "            metrics.append(μₘ)\n",
    "    \n",
    "        # criação de uma coluna com as métricas de um modelo\n",
    "        df_metrics[pipe] = metrics\n",
    "    \n",
    "    return df_metrics"
   ]
  },
  {
   "cell_type": "markdown",
   "metadata": {},
   "source": [
    "##### testReport(dic_ŷ :: dict, y_test :: narray)\n",
    "\n",
    "Retorna um report com as métricas resultantes do conjunto de teste por modelo. As métricas incluem F1-score, precisão, revocação (weighted e macro) e acurácia.\n",
    "\n",
    "Parâmetros:\n",
    "- `dic_ŷ` : dicionário com as predições de cada modelo\n",
    "- `y_test` : narray (n-t, ) com o target do conjunto de teste\n",
    "\n",
    "Retorna:\n",
    "- `df_metrics` : dataframe com as métricas resultantes do conjunto de teste por modelo"
   ]
  },
  {
   "cell_type": "code",
   "execution_count": 14,
   "metadata": {},
   "outputs": [],
   "source": [
    "def testReport(dic_ŷ, y_test):\n",
    "    # colunas do dataframe\n",
    "    cols = dic_ŷ.keys()\n",
    "    # índices do dataframe\n",
    "    index = [f'{m}_{avg}'for avg in ['weighted','macro'] for m in ['f1','precision','recall']]\n",
    "    index.append('accuracy')\n",
    "    # criação do dataframe\n",
    "    df_metrics = pd.DataFrame(columns = cols, index = index)\n",
    "\n",
    "    # para cada predição de modelo\n",
    "    for ŷ in dic_ŷ:\n",
    "        # lista de métricas vazia\n",
    "        metrics = []\n",
    "        # para cada tipo de média das métricas\n",
    "        for avg in ['weighted', 'macro']:\n",
    "            # f1-score\n",
    "            f1 = round(f1_score(y_test, dic_ŷ[ŷ], average = avg), 3)\n",
    "            metrics.append(f1)\n",
    "            # precisão\n",
    "            p = round(precision_score(y_test, dic_ŷ[ŷ], average = avg), 3)\n",
    "            metrics.append(p)\n",
    "            # revocação\n",
    "            r = round(recall_score(y_test, dic_ŷ[ŷ], average = avg), 3)\n",
    "            metrics.append(r)\n",
    "        # acurácia\n",
    "        acc = round(accuracy_score(y_test, dic_ŷ[ŷ]), 3)\n",
    "        metrics.append(acc)\n",
    "\n",
    "        # criação de uma coluna com as métricas de um modelo\n",
    "        df_metrics[ŷ] = metrics\n",
    "\n",
    "    return df_metrics"
   ]
  },
  {
   "cell_type": "markdown",
   "metadata": {},
   "source": [
    "##### plotPrediction(ŷ :: narray, model :: string)\n",
    "\n",
    "Plota o mapa geológico preditivo para um dado modelo `model`, o mapa geológico e o mapa com os exemplos de treino.\n",
    "\n",
    "Parâmetros:\n",
    "- `ŷ` : narray (n-t, ) com as predições do target de um determinado modelo\n",
    "- `model` : string com o nome do modelo utilizado. Corresponde ao título do mapa geológico preditivo\n",
    "\n",
    "Retorna:\n",
    "- Mapa geológico preditivo do modelo `model`, mapa geológico de campo e o mapa com os exemplos de treino"
   ]
  },
  {
   "cell_type": "code",
   "execution_count": 15,
   "metadata": {},
   "outputs": [],
   "source": [
    "def plotPrediction(ŷ, model = None):\n",
    "    # criação de um dataframe com as predições\n",
    "    y_hat = pd.DataFrame(ŷ, columns = ['TARGET'])\n",
    "    # dataframe das coordenadas do conjunto de teste\n",
    "    coord_test = test[['X','Y']]\n",
    "    # concatenação entre as predições e as coordendas de teste\n",
    "    df_model = pd.concat([y_hat, coord_test], axis = 1)\n",
    "    # dataframe de treino com coordenadas e target\n",
    "    df_train = train[['X', 'Y', 'TARGET']]\n",
    "    # concatenação entre o dataframe de predições e o de treino\n",
    "    df_model = pd.concat([df_model, df_train])\n",
    "    \n",
    "    # layout dos mapas\n",
    "    fig, (ax1, ax2, ax3) = plt.subplots(nrows = 1, ncols = 3, figsize = (10.5, 5))\n",
    "    \n",
    "    # mapa preditivo\n",
    "    p1 = ax1.scatter(data = df_model, x = 'X', y = 'Y', c = 'TARGET', cmap = cm, s = sz, marker = mk)\n",
    "    fig.colorbar(p1, ax = ax1)\n",
    "    ax1.set_title(model, size = fs_title)\n",
    "    ax1.set_xlabel('X (m)', size = 14)\n",
    "    ax1.set_ylabel('Y (m)', size = 14)\n",
    "    \n",
    "    # mapa geológico de campo\n",
    "    p2 = ax2.scatter(data = df, x = 'X', y = 'Y', c = 'TARGET', cmap = cm, s = sz, marker = mk)\n",
    "    fig.colorbar(p2, ax = ax2)\n",
    "    ax2.set_title(\"Mapa geológico\", size = fs_title)\n",
    "    ax2.set_xlabel('X (m)', size = 14)\n",
    "    \n",
    "    # mapa dos exemplos de treino\n",
    "    p3 = ax3.scatter(data = train, x = 'X', y = 'Y', c = 'TARGET', cmap = cm, s = sz, marker = mk)\n",
    "    fig.colorbar(p3, ax = ax3)\n",
    "    ax3.set_title(\"Treino\", size = fs_title)\n",
    "    ax3.set_xlabel('X (m)', size = 14)\n",
    "    \n",
    "    plt.tight_layout();"
   ]
  },
  {
   "cell_type": "markdown",
   "metadata": {},
   "source": [
    "##### featureImportance(pipeline :: pipeline)\n",
    "\n",
    "Retorna uma dicionário ordenado de maneira crescente de acordo com os scores de importância das features. As chaves são os nomes das features, enquanto os valores são os scores de importância. Os scores de importância seguem o critério da Impureza de Gini ou de Entropia.\n",
    "\n",
    "Parâmetros:\n",
    "- `pipeline` : pipeline completa com as etapas de processamento até a instanciação do classificador\n",
    "\n",
    "Retorna:\n",
    "- `dict` : retorna um dicionário"
   ]
  },
  {
   "cell_type": "code",
   "execution_count": 16,
   "metadata": {},
   "outputs": [],
   "source": [
    "def featureImportance(pipeline):\n",
    "    # índice booleano de quais features foram selecionadas\n",
    "    index = pipeline['RF']['selector'].get_support()\n",
    "    # features selecionadas\n",
    "    features = df_X_train_pca.columns[index]\n",
    "    # valores de importância das features\n",
    "    importances = pipeline['RF']['clf'].feature_importances_\n",
    "    \n",
    "    # criação de um dicionário\n",
    "    dic_importances = {}\n",
    "    for f, v in zip(features, importances):\n",
    "        dic_importances[f] = v\n",
    "    # ordenando o dicionário de forma crescente de acordo com as importâncias\n",
    "    importances_list = sorted(dic_importances.items(), key = lambda x: x[1], reverse = True)\n",
    "    \n",
    "    return dict(importances_list)"
   ]
  },
  {
   "cell_type": "markdown",
   "metadata": {},
   "source": [
    "<a id='3'></a>\n",
    "## Pré-processamento"
   ]
  },
  {
   "cell_type": "markdown",
   "metadata": {},
   "source": [
    "### Separação entre dados de treino e teste"
   ]
  },
  {
   "cell_type": "markdown",
   "metadata": {},
   "source": [
    "##### Separação entre features (X) e target (y)"
   ]
  },
  {
   "cell_type": "code",
   "execution_count": 17,
   "metadata": {},
   "outputs": [
    {
     "name": "stdout",
     "output_type": "stream",
     "text": [
      "Treino -> features: (547, 21)   |  target: (547,)\n",
      "Teste  -> features: (10871, 21) |  target: (10871,)\n"
     ]
    }
   ],
   "source": [
    "# divisão entre features, target e coordenadas nos dados de treino e teste\n",
    "X_train, y_train, coord_train, X_test, y_test, coord_test = customTrainTestSplit(df, threshold = 100, coords = True)\n",
    "\n",
    "# forma dos dados de treino\n",
    "print('Treino -> features: {0}   |  target: {1}'.format(X_train.shape, y_train.shape))\n",
    "# forma dos dados de teste\n",
    "print('Teste  -> features: {0} |  target: {1}'.format(X_test.shape, y_test.shape))"
   ]
  },
  {
   "cell_type": "markdown",
   "metadata": {},
   "source": [
    "##### Dataframes de treino e teste"
   ]
  },
  {
   "cell_type": "code",
   "execution_count": 18,
   "metadata": {},
   "outputs": [
    {
     "data": {
      "text/html": [
       "<div>\n",
       "<style scoped>\n",
       "    .dataframe tbody tr th:only-of-type {\n",
       "        vertical-align: middle;\n",
       "    }\n",
       "\n",
       "    .dataframe tbody tr th {\n",
       "        vertical-align: top;\n",
       "    }\n",
       "\n",
       "    .dataframe thead th {\n",
       "        text-align: right;\n",
       "    }\n",
       "</style>\n",
       "<table border=\"1\" class=\"dataframe\">\n",
       "  <thead>\n",
       "    <tr style=\"text-align: right;\">\n",
       "      <th></th>\n",
       "      <th>X</th>\n",
       "      <th>Y</th>\n",
       "      <th>GT</th>\n",
       "      <th>K</th>\n",
       "      <th>TH</th>\n",
       "      <th>U</th>\n",
       "      <th>CT</th>\n",
       "      <th>U_K</th>\n",
       "      <th>TH_K</th>\n",
       "      <th>U_TH</th>\n",
       "      <th>...</th>\n",
       "      <th>B04</th>\n",
       "      <th>B05</th>\n",
       "      <th>B06</th>\n",
       "      <th>B07</th>\n",
       "      <th>B08</th>\n",
       "      <th>B09</th>\n",
       "      <th>R</th>\n",
       "      <th>G</th>\n",
       "      <th>B</th>\n",
       "      <th>TARGET</th>\n",
       "    </tr>\n",
       "  </thead>\n",
       "  <tbody>\n",
       "    <tr>\n",
       "      <th>542</th>\n",
       "      <td>637038.68</td>\n",
       "      <td>7979677.08</td>\n",
       "      <td>0.024932</td>\n",
       "      <td>0.25</td>\n",
       "      <td>13.01</td>\n",
       "      <td>2.51</td>\n",
       "      <td>4.46</td>\n",
       "      <td>5.47</td>\n",
       "      <td>24.79</td>\n",
       "      <td>0.32</td>\n",
       "      <td>...</td>\n",
       "      <td>9114.0</td>\n",
       "      <td>12752.0</td>\n",
       "      <td>17694.0</td>\n",
       "      <td>14578.0</td>\n",
       "      <td>8837.0</td>\n",
       "      <td>5086.0</td>\n",
       "      <td>209.0</td>\n",
       "      <td>179.0</td>\n",
       "      <td>182.0</td>\n",
       "      <td>3</td>\n",
       "    </tr>\n",
       "    <tr>\n",
       "      <th>543</th>\n",
       "      <td>637226.18</td>\n",
       "      <td>7977739.57</td>\n",
       "      <td>0.027761</td>\n",
       "      <td>1.06</td>\n",
       "      <td>23.60</td>\n",
       "      <td>5.09</td>\n",
       "      <td>11.40</td>\n",
       "      <td>3.64</td>\n",
       "      <td>16.55</td>\n",
       "      <td>0.26</td>\n",
       "      <td>...</td>\n",
       "      <td>8224.0</td>\n",
       "      <td>13295.0</td>\n",
       "      <td>14278.0</td>\n",
       "      <td>10665.0</td>\n",
       "      <td>7452.0</td>\n",
       "      <td>5073.0</td>\n",
       "      <td>85.0</td>\n",
       "      <td>29.0</td>\n",
       "      <td>65.0</td>\n",
       "      <td>2</td>\n",
       "    </tr>\n",
       "    <tr>\n",
       "      <th>544</th>\n",
       "      <td>634538.68</td>\n",
       "      <td>7971989.57</td>\n",
       "      <td>0.048161</td>\n",
       "      <td>0.44</td>\n",
       "      <td>4.99</td>\n",
       "      <td>2.50</td>\n",
       "      <td>3.80</td>\n",
       "      <td>3.80</td>\n",
       "      <td>6.46</td>\n",
       "      <td>0.62</td>\n",
       "      <td>...</td>\n",
       "      <td>7692.0</td>\n",
       "      <td>13041.0</td>\n",
       "      <td>12384.0</td>\n",
       "      <td>9406.0</td>\n",
       "      <td>7570.0</td>\n",
       "      <td>5052.0</td>\n",
       "      <td>14.0</td>\n",
       "      <td>5.0</td>\n",
       "      <td>26.0</td>\n",
       "      <td>6</td>\n",
       "    </tr>\n",
       "    <tr>\n",
       "      <th>545</th>\n",
       "      <td>636476.18</td>\n",
       "      <td>7970989.56</td>\n",
       "      <td>0.021256</td>\n",
       "      <td>1.01</td>\n",
       "      <td>26.36</td>\n",
       "      <td>8.84</td>\n",
       "      <td>14.89</td>\n",
       "      <td>5.65</td>\n",
       "      <td>17.44</td>\n",
       "      <td>0.31</td>\n",
       "      <td>...</td>\n",
       "      <td>9674.0</td>\n",
       "      <td>15651.0</td>\n",
       "      <td>15847.0</td>\n",
       "      <td>11958.0</td>\n",
       "      <td>9133.0</td>\n",
       "      <td>5069.0</td>\n",
       "      <td>88.0</td>\n",
       "      <td>243.0</td>\n",
       "      <td>131.0</td>\n",
       "      <td>1</td>\n",
       "    </tr>\n",
       "    <tr>\n",
       "      <th>546</th>\n",
       "      <td>637913.68</td>\n",
       "      <td>7978864.58</td>\n",
       "      <td>0.020339</td>\n",
       "      <td>0.92</td>\n",
       "      <td>11.92</td>\n",
       "      <td>3.33</td>\n",
       "      <td>6.71</td>\n",
       "      <td>4.69</td>\n",
       "      <td>13.75</td>\n",
       "      <td>0.35</td>\n",
       "      <td>...</td>\n",
       "      <td>9124.0</td>\n",
       "      <td>13963.0</td>\n",
       "      <td>16161.0</td>\n",
       "      <td>12419.0</td>\n",
       "      <td>8985.0</td>\n",
       "      <td>5075.0</td>\n",
       "      <td>141.0</td>\n",
       "      <td>110.0</td>\n",
       "      <td>133.0</td>\n",
       "      <td>2</td>\n",
       "    </tr>\n",
       "  </tbody>\n",
       "</table>\n",
       "<p>5 rows × 24 columns</p>\n",
       "</div>"
      ],
      "text/plain": [
       "             X           Y        GT     K     TH     U     CT   U_K   TH_K  \\\n",
       "542  637038.68  7979677.08  0.024932  0.25  13.01  2.51   4.46  5.47  24.79   \n",
       "543  637226.18  7977739.57  0.027761  1.06  23.60  5.09  11.40  3.64  16.55   \n",
       "544  634538.68  7971989.57  0.048161  0.44   4.99  2.50   3.80  3.80   6.46   \n",
       "545  636476.18  7970989.56  0.021256  1.01  26.36  8.84  14.89  5.65  17.44   \n",
       "546  637913.68  7978864.58  0.020339  0.92  11.92  3.33   6.71  4.69  13.75   \n",
       "\n",
       "     U_TH  ...     B04      B05      B06      B07     B08     B09      R  \\\n",
       "542  0.32  ...  9114.0  12752.0  17694.0  14578.0  8837.0  5086.0  209.0   \n",
       "543  0.26  ...  8224.0  13295.0  14278.0  10665.0  7452.0  5073.0   85.0   \n",
       "544  0.62  ...  7692.0  13041.0  12384.0   9406.0  7570.0  5052.0   14.0   \n",
       "545  0.31  ...  9674.0  15651.0  15847.0  11958.0  9133.0  5069.0   88.0   \n",
       "546  0.35  ...  9124.0  13963.0  16161.0  12419.0  8985.0  5075.0  141.0   \n",
       "\n",
       "         G      B  TARGET  \n",
       "542  179.0  182.0       3  \n",
       "543   29.0   65.0       2  \n",
       "544    5.0   26.0       6  \n",
       "545  243.0  131.0       1  \n",
       "546  110.0  133.0       2  \n",
       "\n",
       "[5 rows x 24 columns]"
      ]
     },
     "execution_count": 18,
     "metadata": {},
     "output_type": "execute_result"
    }
   ],
   "source": [
    "# dataframe de treino\n",
    "train_loc = pd.DataFrame(coord_train, columns = COORD)\n",
    "train_feat = pd.DataFrame(X_train, columns = FEAT)\n",
    "train = pd.concat([train_loc, train_feat], axis = 1)\n",
    "train['TARGET'] = y_train\n",
    "train.tail()"
   ]
  },
  {
   "cell_type": "code",
   "execution_count": 19,
   "metadata": {},
   "outputs": [
    {
     "data": {
      "text/html": [
       "<div>\n",
       "<style scoped>\n",
       "    .dataframe tbody tr th:only-of-type {\n",
       "        vertical-align: middle;\n",
       "    }\n",
       "\n",
       "    .dataframe tbody tr th {\n",
       "        vertical-align: top;\n",
       "    }\n",
       "\n",
       "    .dataframe thead th {\n",
       "        text-align: right;\n",
       "    }\n",
       "</style>\n",
       "<table border=\"1\" class=\"dataframe\">\n",
       "  <thead>\n",
       "    <tr style=\"text-align: right;\">\n",
       "      <th></th>\n",
       "      <th>X</th>\n",
       "      <th>Y</th>\n",
       "      <th>GT</th>\n",
       "      <th>K</th>\n",
       "      <th>TH</th>\n",
       "      <th>U</th>\n",
       "      <th>CT</th>\n",
       "      <th>U_K</th>\n",
       "      <th>TH_K</th>\n",
       "      <th>U_TH</th>\n",
       "      <th>...</th>\n",
       "      <th>B04</th>\n",
       "      <th>B05</th>\n",
       "      <th>B06</th>\n",
       "      <th>B07</th>\n",
       "      <th>B08</th>\n",
       "      <th>B09</th>\n",
       "      <th>R</th>\n",
       "      <th>G</th>\n",
       "      <th>B</th>\n",
       "      <th>TARGET</th>\n",
       "    </tr>\n",
       "  </thead>\n",
       "  <tbody>\n",
       "    <tr>\n",
       "      <th>10866</th>\n",
       "      <td>634351.18</td>\n",
       "      <td>7971552.06</td>\n",
       "      <td>0.057461</td>\n",
       "      <td>1.20</td>\n",
       "      <td>5.77</td>\n",
       "      <td>2.50</td>\n",
       "      <td>5.32</td>\n",
       "      <td>2.61</td>\n",
       "      <td>6.64</td>\n",
       "      <td>0.43</td>\n",
       "      <td>...</td>\n",
       "      <td>8682.0</td>\n",
       "      <td>13175.0</td>\n",
       "      <td>13670.0</td>\n",
       "      <td>10626.0</td>\n",
       "      <td>8096.0</td>\n",
       "      <td>5055.0</td>\n",
       "      <td>168.0</td>\n",
       "      <td>107.0</td>\n",
       "      <td>119.0</td>\n",
       "      <td>5</td>\n",
       "    </tr>\n",
       "    <tr>\n",
       "      <th>10867</th>\n",
       "      <td>638663.68</td>\n",
       "      <td>7978239.57</td>\n",
       "      <td>0.021195</td>\n",
       "      <td>0.22</td>\n",
       "      <td>6.22</td>\n",
       "      <td>1.92</td>\n",
       "      <td>3.35</td>\n",
       "      <td>4.89</td>\n",
       "      <td>14.76</td>\n",
       "      <td>0.38</td>\n",
       "      <td>...</td>\n",
       "      <td>9496.0</td>\n",
       "      <td>13076.0</td>\n",
       "      <td>17556.0</td>\n",
       "      <td>13199.0</td>\n",
       "      <td>9188.0</td>\n",
       "      <td>5084.0</td>\n",
       "      <td>142.0</td>\n",
       "      <td>121.0</td>\n",
       "      <td>122.0</td>\n",
       "      <td>5</td>\n",
       "    </tr>\n",
       "    <tr>\n",
       "      <th>10868</th>\n",
       "      <td>639976.19</td>\n",
       "      <td>7981114.58</td>\n",
       "      <td>0.107530</td>\n",
       "      <td>0.40</td>\n",
       "      <td>2.80</td>\n",
       "      <td>1.71</td>\n",
       "      <td>2.90</td>\n",
       "      <td>6.35</td>\n",
       "      <td>20.84</td>\n",
       "      <td>0.36</td>\n",
       "      <td>...</td>\n",
       "      <td>10104.0</td>\n",
       "      <td>14008.0</td>\n",
       "      <td>18980.0</td>\n",
       "      <td>14528.0</td>\n",
       "      <td>9619.0</td>\n",
       "      <td>5070.0</td>\n",
       "      <td>164.0</td>\n",
       "      <td>201.0</td>\n",
       "      <td>164.0</td>\n",
       "      <td>6</td>\n",
       "    </tr>\n",
       "    <tr>\n",
       "      <th>10869</th>\n",
       "      <td>638538.68</td>\n",
       "      <td>7980739.58</td>\n",
       "      <td>0.034884</td>\n",
       "      <td>0.35</td>\n",
       "      <td>4.82</td>\n",
       "      <td>2.22</td>\n",
       "      <td>3.69</td>\n",
       "      <td>4.76</td>\n",
       "      <td>11.84</td>\n",
       "      <td>0.40</td>\n",
       "      <td>...</td>\n",
       "      <td>8459.0</td>\n",
       "      <td>12073.0</td>\n",
       "      <td>15322.0</td>\n",
       "      <td>12742.0</td>\n",
       "      <td>9762.0</td>\n",
       "      <td>5092.0</td>\n",
       "      <td>245.0</td>\n",
       "      <td>220.0</td>\n",
       "      <td>241.0</td>\n",
       "      <td>5</td>\n",
       "    </tr>\n",
       "    <tr>\n",
       "      <th>10870</th>\n",
       "      <td>635288.68</td>\n",
       "      <td>7971552.06</td>\n",
       "      <td>0.037119</td>\n",
       "      <td>3.09</td>\n",
       "      <td>12.75</td>\n",
       "      <td>4.71</td>\n",
       "      <td>11.78</td>\n",
       "      <td>1.82</td>\n",
       "      <td>4.97</td>\n",
       "      <td>0.41</td>\n",
       "      <td>...</td>\n",
       "      <td>7987.0</td>\n",
       "      <td>12647.0</td>\n",
       "      <td>13566.0</td>\n",
       "      <td>10003.0</td>\n",
       "      <td>7914.0</td>\n",
       "      <td>5067.0</td>\n",
       "      <td>62.0</td>\n",
       "      <td>65.0</td>\n",
       "      <td>47.0</td>\n",
       "      <td>2</td>\n",
       "    </tr>\n",
       "  </tbody>\n",
       "</table>\n",
       "<p>5 rows × 24 columns</p>\n",
       "</div>"
      ],
      "text/plain": [
       "               X           Y        GT     K     TH     U     CT   U_K   TH_K  \\\n",
       "10866  634351.18  7971552.06  0.057461  1.20   5.77  2.50   5.32  2.61   6.64   \n",
       "10867  638663.68  7978239.57  0.021195  0.22   6.22  1.92   3.35  4.89  14.76   \n",
       "10868  639976.19  7981114.58  0.107530  0.40   2.80  1.71   2.90  6.35  20.84   \n",
       "10869  638538.68  7980739.58  0.034884  0.35   4.82  2.22   3.69  4.76  11.84   \n",
       "10870  635288.68  7971552.06  0.037119  3.09  12.75  4.71  11.78  1.82   4.97   \n",
       "\n",
       "       U_TH  ...      B04      B05      B06      B07     B08     B09      R  \\\n",
       "10866  0.43  ...   8682.0  13175.0  13670.0  10626.0  8096.0  5055.0  168.0   \n",
       "10867  0.38  ...   9496.0  13076.0  17556.0  13199.0  9188.0  5084.0  142.0   \n",
       "10868  0.36  ...  10104.0  14008.0  18980.0  14528.0  9619.0  5070.0  164.0   \n",
       "10869  0.40  ...   8459.0  12073.0  15322.0  12742.0  9762.0  5092.0  245.0   \n",
       "10870  0.41  ...   7987.0  12647.0  13566.0  10003.0  7914.0  5067.0   62.0   \n",
       "\n",
       "           G      B  TARGET  \n",
       "10866  107.0  119.0       5  \n",
       "10867  121.0  122.0       5  \n",
       "10868  201.0  164.0       6  \n",
       "10869  220.0  241.0       5  \n",
       "10870   65.0   47.0       2  \n",
       "\n",
       "[5 rows x 24 columns]"
      ]
     },
     "execution_count": 19,
     "metadata": {},
     "output_type": "execute_result"
    }
   ],
   "source": [
    "# dataframe de teste\n",
    "test_loc = pd.DataFrame(coord_test, columns = COORD)\n",
    "test_feat = pd.DataFrame(X_test, columns = FEAT)\n",
    "test = pd.concat([test_loc, test_feat], axis = 1)\n",
    "test['TARGET'] = y_test\n",
    "test.tail()"
   ]
  },
  {
   "cell_type": "markdown",
   "metadata": {},
   "source": [
    "##### Frequência de ocorrência dos dados de treino e teste por unidade"
   ]
  },
  {
   "cell_type": "code",
   "execution_count": 20,
   "metadata": {},
   "outputs": [
    {
     "data": {
      "image/png": "[encoded data removed]",
      "text/plain": [
       "<Figure size 720x288 with 2 Axes>"
      ]
     },
     "metadata": {
      "needs_background": "light"
     },
     "output_type": "display_data"
    }
   ],
   "source": [
    "# layout dos plots\n",
    "fig, axes = plt.subplots(nrows = 1, ncols = 2, figsize = (10, 4))\n",
    "\n",
    "# gráfico de barras dos dados de treino\n",
    "sns.countplot(y = 'TARGET', data = train, color = col, edgecolor = ec, ax = axes[0])\n",
    "axes[0].set_title(\"Conjunto de treino\", size = fs_title)\n",
    "axes[0].set_xlabel(\"Frequência absoluta\", size = 14)\n",
    "axes[0].set_ylabel(\"Target\", size = 14)\n",
    "\n",
    "# gráfico de barras dos dados de teste\n",
    "sns.countplot(y = 'TARGET', data = test, color = col, edgecolor = ec, ax = axes[1])\n",
    "axes[1].set_title(\"Conjunto de teste\", size = fs_title)\n",
    "axes[1].set_xlabel(\"Frequência absoluta\", size = 14)\n",
    "axes[1].set_ylabel(\"\")\n",
    "\n",
    "plt.tight_layout();"
   ]
  },
  {
   "cell_type": "markdown",
   "metadata": {},
   "source": [
    "##### Visualização espacial dos dados de treino e teste"
   ]
  },
  {
   "cell_type": "code",
   "execution_count": 21,
   "metadata": {},
   "outputs": [
    {
     "data": {
      "image/png": "[encoded data removed]",
      "text/plain": [
       "<Figure size 504x360 with 4 Axes>"
      ]
     },
     "metadata": {
      "needs_background": "light"
     },
     "output_type": "display_data"
    }
   ],
   "source": [
    "# layout dos plots\n",
    "fig, (ax1, ax2) = plt.subplots(nrows = 1, ncols = 2, figsize = (7, 5))\n",
    "\n",
    "# Localização dos dados de treino\n",
    "p1 = ax1.scatter(data = train, x = 'X', y = 'Y', c = 'TARGET', cmap = cm, s = sz, marker = mk)\n",
    "fig.colorbar(p1, ax = ax1)\n",
    "ax1.set_title('Treino', size = fs_title)\n",
    "ax1.set_xlabel('X (m)', size = 14)\n",
    "ax1.set_ylabel('Y (m)', size = 14)\n",
    "\n",
    "# Localização dos dados de teste\n",
    "p2 = ax2.scatter(data = test, x = 'X', y = 'Y', c = 'TARGET', cmap = cm, s = sz, marker = mk)\n",
    "fig.colorbar(p2, ax = ax2)\n",
    "ax2.set_title('Teste', size = fs_title)\n",
    "ax2.set_xlabel('X (m)', size = 14)\n",
    "\n",
    "plt.tight_layout();"
   ]
  },
  {
   "cell_type": "markdown",
   "metadata": {},
   "source": [
    "### Escalonamento das features"
   ]
  },
  {
   "cell_type": "code",
   "execution_count": 22,
   "metadata": {},
   "outputs": [],
   "source": [
    "# instanciando o escalonador\n",
    "std_scaler = StandardScaler()\n",
    "    \n",
    "# treinando o escalonador\n",
    "std_scaler.fit(X_train)\n",
    "    \n",
    "# transformando features de treino\n",
    "X_train_std = std_scaler.transform(X_train)\n",
    "# transformando features de teste\n",
    "X_test_std = std_scaler.transform(X_test)"
   ]
  },
  {
   "cell_type": "code",
   "execution_count": 23,
   "metadata": {},
   "outputs": [
    {
     "data": {
      "text/html": [
       "<div>\n",
       "<style scoped>\n",
       "    .dataframe tbody tr th:only-of-type {\n",
       "        vertical-align: middle;\n",
       "    }\n",
       "\n",
       "    .dataframe tbody tr th {\n",
       "        vertical-align: top;\n",
       "    }\n",
       "\n",
       "    .dataframe thead th {\n",
       "        text-align: right;\n",
       "    }\n",
       "</style>\n",
       "<table border=\"1\" class=\"dataframe\">\n",
       "  <thead>\n",
       "    <tr style=\"text-align: right;\">\n",
       "      <th></th>\n",
       "      <th>GT</th>\n",
       "      <th>K</th>\n",
       "      <th>TH</th>\n",
       "      <th>U</th>\n",
       "      <th>CT</th>\n",
       "      <th>U_K</th>\n",
       "      <th>TH_K</th>\n",
       "      <th>U_TH</th>\n",
       "      <th>MDT</th>\n",
       "      <th>B01</th>\n",
       "      <th>...</th>\n",
       "      <th>B03</th>\n",
       "      <th>B04</th>\n",
       "      <th>B05</th>\n",
       "      <th>B06</th>\n",
       "      <th>B07</th>\n",
       "      <th>B08</th>\n",
       "      <th>B09</th>\n",
       "      <th>R</th>\n",
       "      <th>G</th>\n",
       "      <th>B</th>\n",
       "    </tr>\n",
       "  </thead>\n",
       "  <tbody>\n",
       "    <tr>\n",
       "      <th>0</th>\n",
       "      <td>1.925042</td>\n",
       "      <td>0.294877</td>\n",
       "      <td>-0.315957</td>\n",
       "      <td>0.403014</td>\n",
       "      <td>0.080342</td>\n",
       "      <td>-0.570957</td>\n",
       "      <td>-0.613666</td>\n",
       "      <td>0.396018</td>\n",
       "      <td>-1.647478</td>\n",
       "      <td>-0.883643</td>\n",
       "      <td>...</td>\n",
       "      <td>-0.850956</td>\n",
       "      <td>-1.029210</td>\n",
       "      <td>-0.176277</td>\n",
       "      <td>-1.145369</td>\n",
       "      <td>-1.322683</td>\n",
       "      <td>-0.841989</td>\n",
       "      <td>-1.003773</td>\n",
       "      <td>-0.236750</td>\n",
       "      <td>1.247100</td>\n",
       "      <td>0.781578</td>\n",
       "    </tr>\n",
       "    <tr>\n",
       "      <th>1</th>\n",
       "      <td>-0.697592</td>\n",
       "      <td>-0.635175</td>\n",
       "      <td>1.709698</td>\n",
       "      <td>0.444511</td>\n",
       "      <td>0.357349</td>\n",
       "      <td>0.317860</td>\n",
       "      <td>1.654651</td>\n",
       "      <td>-1.175458</td>\n",
       "      <td>1.617799</td>\n",
       "      <td>-0.824130</td>\n",
       "      <td>...</td>\n",
       "      <td>-0.769237</td>\n",
       "      <td>-0.242417</td>\n",
       "      <td>-1.150729</td>\n",
       "      <td>-0.209394</td>\n",
       "      <td>-0.339503</td>\n",
       "      <td>-0.387236</td>\n",
       "      <td>0.658618</td>\n",
       "      <td>-0.965742</td>\n",
       "      <td>-0.301601</td>\n",
       "      <td>0.001767</td>\n",
       "    </tr>\n",
       "    <tr>\n",
       "      <th>2</th>\n",
       "      <td>0.564241</td>\n",
       "      <td>-0.305536</td>\n",
       "      <td>-0.422973</td>\n",
       "      <td>-0.316259</td>\n",
       "      <td>-0.462130</td>\n",
       "      <td>-0.272755</td>\n",
       "      <td>-0.446748</td>\n",
       "      <td>0.275135</td>\n",
       "      <td>-0.916880</td>\n",
       "      <td>-0.297013</td>\n",
       "      <td>...</td>\n",
       "      <td>-0.188918</td>\n",
       "      <td>-0.149952</td>\n",
       "      <td>-0.358138</td>\n",
       "      <td>0.092082</td>\n",
       "      <td>-0.017206</td>\n",
       "      <td>-0.427049</td>\n",
       "      <td>-0.528804</td>\n",
       "      <td>-0.008940</td>\n",
       "      <td>0.417998</td>\n",
       "      <td>0.086529</td>\n",
       "    </tr>\n",
       "    <tr>\n",
       "      <th>3</th>\n",
       "      <td>-0.669770</td>\n",
       "      <td>-0.258445</td>\n",
       "      <td>-0.945312</td>\n",
       "      <td>-0.583681</td>\n",
       "      <td>-0.519840</td>\n",
       "      <td>-0.382771</td>\n",
       "      <td>-0.247575</td>\n",
       "      <td>0.275135</td>\n",
       "      <td>1.040786</td>\n",
       "      <td>0.796330</td>\n",
       "      <td>...</td>\n",
       "      <td>0.963430</td>\n",
       "      <td>0.825973</td>\n",
       "      <td>0.468382</td>\n",
       "      <td>1.079967</td>\n",
       "      <td>1.151339</td>\n",
       "      <td>1.176975</td>\n",
       "      <td>3.587592</td>\n",
       "      <td>-0.282312</td>\n",
       "      <td>-0.817835</td>\n",
       "      <td>-0.540711</td>\n",
       "    </tr>\n",
       "    <tr>\n",
       "      <th>4</th>\n",
       "      <td>0.026334</td>\n",
       "      <td>-0.529220</td>\n",
       "      <td>-0.774596</td>\n",
       "      <td>-0.431527</td>\n",
       "      <td>-0.773763</td>\n",
       "      <td>-0.269859</td>\n",
       "      <td>-0.387077</td>\n",
       "      <td>-0.027072</td>\n",
       "      <td>-2.231456</td>\n",
       "      <td>-0.589478</td>\n",
       "      <td>...</td>\n",
       "      <td>-0.489737</td>\n",
       "      <td>-0.468536</td>\n",
       "      <td>-0.174241</td>\n",
       "      <td>-0.208596</td>\n",
       "      <td>-0.240436</td>\n",
       "      <td>-0.809254</td>\n",
       "      <td>-2.349518</td>\n",
       "      <td>-0.540497</td>\n",
       "      <td>-1.662581</td>\n",
       "      <td>-0.676330</td>\n",
       "    </tr>\n",
       "  </tbody>\n",
       "</table>\n",
       "<p>5 rows × 21 columns</p>\n",
       "</div>"
      ],
      "text/plain": [
       "         GT         K        TH         U        CT       U_K      TH_K  \\\n",
       "0  1.925042  0.294877 -0.315957  0.403014  0.080342 -0.570957 -0.613666   \n",
       "1 -0.697592 -0.635175  1.709698  0.444511  0.357349  0.317860  1.654651   \n",
       "2  0.564241 -0.305536 -0.422973 -0.316259 -0.462130 -0.272755 -0.446748   \n",
       "3 -0.669770 -0.258445 -0.945312 -0.583681 -0.519840 -0.382771 -0.247575   \n",
       "4  0.026334 -0.529220 -0.774596 -0.431527 -0.773763 -0.269859 -0.387077   \n",
       "\n",
       "       U_TH       MDT       B01  ...       B03       B04       B05       B06  \\\n",
       "0  0.396018 -1.647478 -0.883643  ... -0.850956 -1.029210 -0.176277 -1.145369   \n",
       "1 -1.175458  1.617799 -0.824130  ... -0.769237 -0.242417 -1.150729 -0.209394   \n",
       "2  0.275135 -0.916880 -0.297013  ... -0.188918 -0.149952 -0.358138  0.092082   \n",
       "3  0.275135  1.040786  0.796330  ...  0.963430  0.825973  0.468382  1.079967   \n",
       "4 -0.027072 -2.231456 -0.589478  ... -0.489737 -0.468536 -0.174241 -0.208596   \n",
       "\n",
       "        B07       B08       B09         R         G         B  \n",
       "0 -1.322683 -0.841989 -1.003773 -0.236750  1.247100  0.781578  \n",
       "1 -0.339503 -0.387236  0.658618 -0.965742 -0.301601  0.001767  \n",
       "2 -0.017206 -0.427049 -0.528804 -0.008940  0.417998  0.086529  \n",
       "3  1.151339  1.176975  3.587592 -0.282312 -0.817835 -0.540711  \n",
       "4 -0.240436 -0.809254 -2.349518 -0.540497 -1.662581 -0.676330  \n",
       "\n",
       "[5 rows x 21 columns]"
      ]
     },
     "execution_count": 23,
     "metadata": {},
     "output_type": "execute_result"
    }
   ],
   "source": [
    "# visualização das 5 primeiras linhas das features de treino normalizadas\n",
    "pd.DataFrame(X_train_std, columns = df[FEAT].columns).head()"
   ]
  },
  {
   "cell_type": "markdown",
   "metadata": {},
   "source": [
    "### Análise de Componentes Principais\n",
    "\n",
    "A **Análise de Componentes Principais (PCA)** será realizada apenas nos sensores Landsat 8, com o intuito de redução da dimensionalidade."
   ]
  },
  {
   "cell_type": "code",
   "execution_count": 24,
   "metadata": {},
   "outputs": [],
   "source": [
    "# instanciação do objeto PCA\n",
    "pca = PCA(n_components = 9)\n",
    "\n",
    "# treinamento e transformação das features de treino escalonadas\n",
    "pcs = pca.fit_transform(X_train_std[:, np.arange(9,18)])"
   ]
  },
  {
   "cell_type": "markdown",
   "metadata": {},
   "source": [
    "##### Variâncias relativas das componentes principais"
   ]
  },
  {
   "cell_type": "code",
   "execution_count": 25,
   "metadata": {},
   "outputs": [
    {
     "data": {
      "image/png": "[encoded data removed]",
      "text/plain": [
       "<Figure size 720x288 with 1 Axes>"
      ]
     },
     "metadata": {
      "needs_background": "light"
     },
     "output_type": "display_data"
    }
   ],
   "source": [
    "# variância explicada relativa de cada componente principal\n",
    "explained_var = (pca.explained_variance_ratio_ * 100).round(2)\n",
    "# variância explicada relativa acumulada\n",
    "cum_explained_var = np.cumsum(explained_var).round(2)\n",
    "# labels das componentes principais\n",
    "labels = ['PC' + str(i) for i in range(1,10)]\n",
    "\n",
    "# gráfico de barras de componentes principais\n",
    "fig = plt.figure(figsize = (10,4))\n",
    "ax1 = fig.add_subplot(111)\n",
    "plt.bar(x = labels, height = explained_var, color = 'lightgray', edgecolor = ec)\n",
    "plt.title(\"Componentes principais das bandas Landsat 8\", size = fs_title)\n",
    "plt.ylabel(\"Variância explicada relativa (%)\", size = 14)\n",
    "\n",
    "# gráfico de linha de variâncias acumuladas\n",
    "ax2 = fig.add_subplot(111)\n",
    "plt.plot(labels, cum_explained_var, color = 'red', marker = 'o', label = 'Variância explicada acumulada')\n",
    "plt.yticks(np.arange(0,160,20))\n",
    "plt.legend(loc = 'top right')\n",
    "\n",
    "# labels de variância explicada acumulada\n",
    "for i, v in enumerate(cum_explained_var):\n",
    "    ax2.text(i, v + 5, str(v) + '%', ha = 'center', size = 12);"
   ]
  },
  {
   "cell_type": "markdown",
   "metadata": {},
   "source": [
    "- Como as três primeiras componentes principais explicam ~92% da variância presente nas nove bandas Landsat 8, podemos reduzir as iniciais 9 features para apenas 3 componentes."
   ]
  },
  {
   "cell_type": "markdown",
   "metadata": {},
   "source": [
    "##### PCA personalizada\n",
    "\n",
    "Agora que a PCA foi realizada nas bandas Landsat 8 e obteve-se um resultado satisfatório no que diz respeito à variância explicada pelas três primeiras componentes principais, a PCA personalizada (classe `MaskedPCA`) pode ser realizada. Essa classe permite que a PCA seja realizada apenas nas features Landsat 8, retornando as três componentes principais, além das demais features não envolvidas na redução de dimensionalidade.\n",
    "\n",
    "Como as nove bandas Landsat 8 foram redimensionadas para três componentes principais, após a PCA, o número de features total reduzirá de 21 para 15."
   ]
  },
  {
   "cell_type": "code",
   "execution_count": 26,
   "metadata": {},
   "outputs": [
    {
     "name": "stdout",
     "output_type": "stream",
     "text": [
      "Dimensões das features de treino (pré-PCA) = (547, 21)\n",
      "Dimensões das features de treino (pós-PCA) = (547, 15)\n",
      "\n",
      "Dimensões das features de teste (pré-PCA) = (10871, 21)\n",
      "Dimensões das features de teste (pós-PCA) = (10871, 15)\n"
     ]
    }
   ],
   "source": [
    "# criação de máscara com as features landsat 8\n",
    "mask = np.arange(9,18)\n",
    "\n",
    "# instanciação do objeto MaskedPCA\n",
    "masked_pca = MaskedPCA(n_components = 3, mask = mask)\n",
    "\n",
    "# treinamento e transformação das features de treino\n",
    "X_train_pca = masked_pca.fit(X_train_std).transform(X_train_std)\n",
    "print(f'Dimensões das features de treino (pré-PCA) = {X_train_std.shape}')\n",
    "print(f'Dimensões das features de treino (pós-PCA) = {X_train_pca.shape}\\n')\n",
    "\n",
    "# treinamento e transformação das features de teste\n",
    "X_test_pca = masked_pca.fit(X_test_std).transform(X_test_std)\n",
    "print(f'Dimensões das features de teste (pré-PCA) = {X_test_std.shape}')\n",
    "print(f'Dimensões das features de teste (pós-PCA) = {X_test_pca.shape}')"
   ]
  },
  {
   "cell_type": "markdown",
   "metadata": {},
   "source": [
    "##### Correlação entre features de treino após a PCA"
   ]
  },
  {
   "cell_type": "code",
   "execution_count": 27,
   "metadata": {},
   "outputs": [
    {
     "data": {
      "image/png": "[encoded data removed]",
      "text/plain": [
       "<Figure size 648x576 with 2 Axes>"
      ]
     },
     "metadata": {
      "needs_background": "light"
     },
     "output_type": "display_data"
    }
   ],
   "source": [
    "# lista de features após a redução da dimensionalidade\n",
    "PCA_FEAT = ['GT','K','TH','U','CT','U_K','TH_K','U_TH','MDT','PC1','PC2','PC3','R','G','B']\n",
    "# criação de um dataframe com as novas features\n",
    "df_X_train_pca = pd.DataFrame(X_train_pca, columns = PCA_FEAT)\n",
    "\n",
    "# Matriz de correlação linear entre as novas features\n",
    "pca_corr = df_X_train_pca.corr(method = 'pearson').round(2)\n",
    "\n",
    "# heatmap de correlação linear\n",
    "plt.figure(figsize = (9, 8))\n",
    "plt.title ('Heatmap de correlação linear entre as novas features', size = fs_title)\n",
    "mask = np.triu(np.ones_like(pca_corr, dtype = np.bool))\n",
    "ax = sns.heatmap(\n",
    "                 pca_corr,\n",
    "                 annot = True,\n",
    "                 cmap = 'coolwarm',\n",
    "                 cbar = True,\n",
    "                 mask = mask\n",
    "                );"
   ]
  },
  {
   "cell_type": "markdown",
   "metadata": {},
   "source": [
    "### Seleção de features"
   ]
  },
  {
   "cell_type": "markdown",
   "metadata": {},
   "source": [
    "#### Seleção univariada - Teste F ANOVA"
   ]
  },
  {
   "cell_type": "code",
   "execution_count": 28,
   "metadata": {},
   "outputs": [],
   "source": [
    "# seleção das features (Teste f - ANOVA)\n",
    "X_train_anova, X_test_anova, scores_anova = univariateSelector(X_train_pca, y_train, X_test_pca, f_classif, n_features = 10)"
   ]
  },
  {
   "cell_type": "code",
   "execution_count": 29,
   "metadata": {},
   "outputs": [
    {
     "data": {
      "image/png": "[encoded data removed]",
      "text/plain": [
       "<Figure size 432x216 with 1 Axes>"
      ]
     },
     "metadata": {
      "needs_background": "light"
     },
     "output_type": "display_data"
    }
   ],
   "source": [
    "plotSelectionScores(scores_anova, PCA_FEAT, k = 10)"
   ]
  },
  {
   "cell_type": "code",
   "execution_count": 30,
   "metadata": {},
   "outputs": [
    {
     "data": {
      "text/plain": [
       "{'U': 231.94,\n",
       " 'CT': 226.68,\n",
       " 'TH': 155.98,\n",
       " 'K': 53.82,\n",
       " 'MDT': 51.09,\n",
       " 'U_TH': 36.36,\n",
       " 'B': 21.01,\n",
       " 'G': 15.54,\n",
       " 'U_K': 15.41,\n",
       " 'PC1': 13.93}"
      ]
     },
     "execution_count": 30,
     "metadata": {},
     "output_type": "execute_result"
    }
   ],
   "source": [
    "# as 10 features \"mais importantes\" de acordo com o teste F ANOVA\n",
    "anova_dic = dicScores(scores_anova, k = 10, feature_labels = PCA_FEAT)\n",
    "anova_dic"
   ]
  },
  {
   "cell_type": "markdown",
   "metadata": {},
   "source": [
    "#### Seleção univariada - Informação Mútua"
   ]
  },
  {
   "cell_type": "code",
   "execution_count": 31,
   "metadata": {},
   "outputs": [],
   "source": [
    "# seleção das features (informação mútua)\n",
    "X_train_mut, X_test_mut, scores_mut = univariateSelector(X_train_pca, y_train, X_test_pca, mutual_info_classif, n_features = 10)"
   ]
  },
  {
   "cell_type": "code",
   "execution_count": 32,
   "metadata": {},
   "outputs": [
    {
     "data": {
      "image/png": "[encoded data removed]",
      "text/plain": [
       "<Figure size 432x216 with 1 Axes>"
      ]
     },
     "metadata": {
      "needs_background": "light"
     },
     "output_type": "display_data"
    }
   ],
   "source": [
    "plotSelectionScores(scores_mut, PCA_FEAT, k = 10)"
   ]
  },
  {
   "cell_type": "code",
   "execution_count": 33,
   "metadata": {},
   "outputs": [
    {
     "data": {
      "text/plain": [
       "{'CT': 0.54,\n",
       " 'U': 0.52,\n",
       " 'TH': 0.39,\n",
       " 'MDT': 0.36,\n",
       " 'K': 0.33,\n",
       " 'U_TH': 0.23,\n",
       " 'U_K': 0.22,\n",
       " 'PC1': 0.13,\n",
       " 'TH_K': 0.1,\n",
       " 'B': 0.09}"
      ]
     },
     "execution_count": 33,
     "metadata": {},
     "output_type": "execute_result"
    }
   ],
   "source": [
    "# as 10 features \"mais importantes\" de acordo com o teste F ANOVA\n",
    "mutual_info_dic = dicScores(scores_mut, k = 10, feature_labels = PCA_FEAT)\n",
    "mutual_info_dic"
   ]
  },
  {
   "cell_type": "markdown",
   "metadata": {},
   "source": [
    "#### Seleção a partir do modelo - Random Forest"
   ]
  },
  {
   "cell_type": "code",
   "execution_count": 34,
   "metadata": {},
   "outputs": [],
   "source": [
    "# instanciando random forest\n",
    "model_rf = RandomForestClassifier(random_state = 42)\n",
    "\n",
    "# seleção das features\n",
    "X_train_rf, X_test_rf, rf_selector = modelSelector(X_train_pca, y_train, X_test_pca, model_rf, n_features = 10)"
   ]
  },
  {
   "cell_type": "code",
   "execution_count": 35,
   "metadata": {},
   "outputs": [
    {
     "name": "stdout",
     "output_type": "stream",
     "text": [
      "Features selecionadas (Random Forest): ['GT', 'K', 'TH', 'U', 'CT', 'U_K', 'TH_K', 'U_TH', 'MDT', 'B']\n"
     ]
    }
   ],
   "source": [
    "# índices booleanos das features\n",
    "rf_index = rf_selector.get_support()\n",
    "# features selecionadas\n",
    "rf_features = list(df_X_train_pca.columns[rf_index])\n",
    "print(f'Features selecionadas (Random Forest): {rf_features}')"
   ]
  },
  {
   "cell_type": "markdown",
   "metadata": {},
   "source": [
    "#### Seleção a partir do modelo - Logistic Regression"
   ]
  },
  {
   "cell_type": "code",
   "execution_count": 36,
   "metadata": {},
   "outputs": [],
   "source": [
    "# instanciando random forest\n",
    "model_lr = LogisticRegression(multi_class = 'multinomial')\n",
    "\n",
    "# seleção das features\n",
    "X_train_lr, X_test_lr, lr_selector = modelSelector(X_train_pca, y_train, X_test_pca, model_lr, n_features = 10)"
   ]
  },
  {
   "cell_type": "code",
   "execution_count": 37,
   "metadata": {},
   "outputs": [
    {
     "name": "stdout",
     "output_type": "stream",
     "text": [
      "Features selecionadas (Logistic Regression): ['K', 'TH', 'U', 'CT', 'U_K', 'TH_K', 'U_TH', 'MDT', 'PC1', 'PC3']\n"
     ]
    }
   ],
   "source": [
    "# índices booleanos das features\n",
    "lr_index = lr_selector.get_support()\n",
    "# features selecionadas\n",
    "lr_features = list(df_X_train_pca.columns[lr_index])\n",
    "print(f'Features selecionadas (Logistic Regression): {lr_features}')"
   ]
  },
  {
   "cell_type": "markdown",
   "metadata": {},
   "source": [
    "#### Resumo"
   ]
  },
  {
   "cell_type": "code",
   "execution_count": 38,
   "metadata": {},
   "outputs": [
    {
     "name": "stdout",
     "output_type": "stream",
     "text": [
      "Seleção univariada: \n",
      "\n",
      "- Features selecionadas (Teste F ANOVA): ['U', 'CT', 'TH', 'K', 'MDT', 'U_TH', 'B', 'G', 'U_K', 'PC1']\n",
      "- Features selecionadas (Info. Mútua): ['CT', 'U', 'TH', 'MDT', 'K', 'U_TH', 'U_K', 'PC1', 'TH_K', 'B'] \n",
      "\n",
      "----\n",
      "\n",
      "Seleção a partir de um modelo: \n",
      "\n",
      "- Features selecionadas (Random Forest): ['GT', 'K', 'TH', 'U', 'CT', 'U_K', 'TH_K', 'U_TH', 'MDT', 'B']\n",
      "- Features selecionadas (Logistic Regression): ['K', 'TH', 'U', 'CT', 'U_K', 'TH_K', 'U_TH', 'MDT', 'PC1', 'PC3']\n"
     ]
    }
   ],
   "source": [
    "# seleção univariada\n",
    "print('Seleção univariada: \\n')\n",
    "# features selecionadas (Teste F ANOVA)\n",
    "print(f'- Features selecionadas (Teste F ANOVA): {list(anova_dic.keys())}')\n",
    "# features selecionadas (Informação Mútua)\n",
    "print(f'- Features selecionadas (Info. Mútua): {list(mutual_info_dic.keys())} \\n')\n",
    "print('----')\n",
    "# seleção a partir de um modelo\n",
    "print('\\nSeleção a partir de um modelo: \\n')\n",
    "# features selecionadas (Random Forest)\n",
    "print(f'- Features selecionadas (Random Forest): {rf_features}')\n",
    "# features selecionadas (Logistic Regression)\n",
    "print(f'- Features selecionadas (Logistic Regression): {lr_features}')"
   ]
  },
  {
   "cell_type": "markdown",
   "metadata": {},
   "source": [
    "### Superamostragem"
   ]
  },
  {
   "cell_type": "markdown",
   "metadata": {},
   "source": [
    "#### SMOTE"
   ]
  },
  {
   "cell_type": "code",
   "execution_count": 39,
   "metadata": {},
   "outputs": [],
   "source": [
    "# oversampling dos dados de treino\n",
    "X_train_smt, y_train_smt = SMOTE().fit_resample(X_train_anova, y_train)"
   ]
  },
  {
   "cell_type": "code",
   "execution_count": 40,
   "metadata": {},
   "outputs": [
    {
     "data": {
      "image/png": "[encoded data removed]",
      "text/plain": [
       "<Figure size 432x288 with 1 Axes>"
      ]
     },
     "metadata": {
      "needs_background": "light"
     },
     "output_type": "display_data"
    }
   ],
   "source": [
    "# transformação de narray em dataframe\n",
    "train_smt = pd.DataFrame(X_train_smt, columns = anova_dic.keys())\n",
    "train_smt['TARGET'] = y_train_smt\n",
    "\n",
    "# gráfico de barras\n",
    "sns.countplot(y = 'TARGET', data = train_smt, color = col, edgecolor = ec)\n",
    "\n",
    "# título e labels do gráfico\n",
    "plt.title(\"Conjunto de treino após oversampling\", size = fs_title)\n",
    "plt.xlabel(\"Frequência absoluta\", size = 14)\n",
    "plt.ylabel(\"Target\", size = 14);"
   ]
  },
  {
   "cell_type": "markdown",
   "metadata": {},
   "source": [
    "<a id='4'></a>\n",
    "## Modelagem dos dados"
   ]
  },
  {
   "cell_type": "markdown",
   "metadata": {},
   "source": [
    "### Divisão entre treino e teste"
   ]
  },
  {
   "cell_type": "code",
   "execution_count": 41,
   "metadata": {},
   "outputs": [
    {
     "name": "stdout",
     "output_type": "stream",
     "text": [
      "Treino: X (547, 21), y (547,)\n",
      "Teste: X (10871, 21), y (10871,)\n"
     ]
    }
   ],
   "source": [
    "# dados de treino e teste\n",
    "X_train, y_train, X_test, y_test = customTrainTestSplit(df, threshold = 100)\n",
    "\n",
    "print(f\"Treino: X {X_train.shape}, y {y_train.shape}\")\n",
    "print(f\"Teste: X {X_test.shape}, y {y_test.shape}\")"
   ]
  },
  {
   "cell_type": "markdown",
   "metadata": {},
   "source": [
    "### Transformadores e outros objetos"
   ]
  },
  {
   "cell_type": "code",
   "execution_count": 42,
   "metadata": {},
   "outputs": [],
   "source": [
    "# método de escalonamento de features\n",
    "scaler = StandardScaler()\n",
    "\n",
    "# PCA personalizada\n",
    "mask = np.arange(9,18)\n",
    "dim_reduction = MaskedPCA(n_components = 3, mask = mask)\n",
    "\n",
    "# método de seleção de features\n",
    "selector = SelectKBest(score_func = f_classif, k = 10)\n",
    "\n",
    "# método de oversampling\n",
    "oversamp = SMOTE(random_state = 42)\n",
    "\n",
    "# número de folds da validação cruzada\n",
    "n_folds = 5\n",
    "\n",
    "# validação cruzada\n",
    "cv = StratifiedKFold(n_splits = n_folds, shuffle = True, random_state = 42)\n",
    "\n",
    "# métrica de performance\n",
    "metric = 'f1_weighted'"
   ]
  },
  {
   "cell_type": "markdown",
   "metadata": {},
   "source": [
    "### Criação de pipelines\n",
    "\n",
    "Os pipelines abaixo são constituídos pelas seguintes etapas:\n",
    "\n",
    "1. Escalonamento das features\n",
    "\n",
    "2. Redução da dimensionalidade dos sensores Landsat 8\n",
    "\n",
    "3. Seleção das features mais importantes\n",
    "\n",
    "4. Superamostragem\n",
    "\n",
    "5. Instanciação do classificador"
   ]
  },
  {
   "cell_type": "code",
   "execution_count": 43,
   "metadata": {},
   "outputs": [],
   "source": [
    "# regressão logística multinomial (mlr)\n",
    "mlr_pipe = Pipeline(steps = [('scaler', scaler),\n",
    "                             ('dim_reduction', dim_reduction),\n",
    "                             ('selector', selector),\n",
    "                             ('smote', oversamp),\n",
    "                             ('clf', LogisticRegression(multi_class = 'multinomial', solver = 'lbfgs'))])\n",
    "\n",
    "# ridge classifier (rc)\n",
    "rc_pipe = Pipeline(steps = [('scaler', scaler),\n",
    "                            ('dim_reduction', dim_reduction),\n",
    "                            ('selector', selector),\n",
    "                            ('smote', oversamp),\n",
    "                            ('clf', RidgeClassifier())])\n",
    "\n",
    "# gaussian naive bayes (gnb)\n",
    "gnb_pipe = Pipeline(steps = [('scaler', scaler),\n",
    "                             ('dim_reduction', dim_reduction),\n",
    "                             ('selector', selector),\n",
    "                             ('smote', oversamp),\n",
    "                             ('clf',GaussianNB())])\n",
    "\n",
    "# K-nearest neighbor (knn)\n",
    "knn_pipe = Pipeline(steps = [('scaler', scaler),\n",
    "                             ('dim_reduction', dim_reduction),\n",
    "                             ('selector', selector),\n",
    "                             ('smote', oversamp),\n",
    "                             ('clf',KNeighborsClassifier())])\n",
    "\n",
    "# support vector classifier (svc)\n",
    "svc_pipe = Pipeline(steps = [('scaler', scaler),\n",
    "                             ('dim_reduction', dim_reduction),\n",
    "                             ('selector', selector),\n",
    "                             ('smote', oversamp),\n",
    "                             ('clf', SVC(random_state = 42))])\n",
    "\n",
    "# random forest (rf)\n",
    "rf_pipe = Pipeline(steps = [('scaler', scaler),\n",
    "                            ('dim_reduction', dim_reduction),\n",
    "                            ('selector', selector),\n",
    "                            ('smote', oversamp),\n",
    "                            ('clf', RandomForestClassifier(random_state = 42))])\n",
    "\n",
    "# xgboost classifier (xgb)\n",
    "xgb_pipe = Pipeline(steps = [('scaler', scaler),\n",
    "                             ('dim_reduction', dim_reduction),\n",
    "                             ('selector', selector),\n",
    "                             ('smote', oversamp),\n",
    "                             ('clf', XGBClassifier(eval_metric = 'mlogloss', verbosity = 0, random_state = 42))])"
   ]
  },
  {
   "cell_type": "code",
   "execution_count": 44,
   "metadata": {},
   "outputs": [],
   "source": [
    "# dicionário dos pipelines\n",
    "pipe = {\"MLR\" : mlr_pipe,\n",
    "        \"RC\"  : rc_pipe,\n",
    "        \"GNB\" : gnb_pipe,\n",
    "        \"KNN\" : knn_pipe,\n",
    "        \"SVC\" : svc_pipe,\n",
    "        \"RF\"  : rf_pipe,\n",
    "        \"XGB\" : xgb_pipe}"
   ]
  },
  {
   "cell_type": "markdown",
   "metadata": {},
   "source": [
    "### Treinamento dos classificadores"
   ]
  },
  {
   "cell_type": "code",
   "execution_count": 45,
   "metadata": {},
   "outputs": [],
   "source": [
    "# treinamento dos classificadores\n",
    "for p in pipe.keys():\n",
    "    pipe[p].fit(X_train, y_train)"
   ]
  },
  {
   "cell_type": "markdown",
   "metadata": {},
   "source": [
    "<a id='4'></a>\n",
    "## Validação cruzada (pré-tuning)"
   ]
  },
  {
   "cell_type": "code",
   "execution_count": 46,
   "metadata": {},
   "outputs": [
    {
     "data": {
      "text/html": [
       "<div>\n",
       "<style scoped>\n",
       "    .dataframe tbody tr th:only-of-type {\n",
       "        vertical-align: middle;\n",
       "    }\n",
       "\n",
       "    .dataframe tbody tr th {\n",
       "        vertical-align: top;\n",
       "    }\n",
       "\n",
       "    .dataframe thead th {\n",
       "        text-align: right;\n",
       "    }\n",
       "</style>\n",
       "<table border=\"1\" class=\"dataframe\">\n",
       "  <thead>\n",
       "    <tr style=\"text-align: right;\">\n",
       "      <th></th>\n",
       "      <th>MLR</th>\n",
       "      <th>RC</th>\n",
       "      <th>GNB</th>\n",
       "      <th>KNN</th>\n",
       "      <th>SVC</th>\n",
       "      <th>RF</th>\n",
       "      <th>XGB</th>\n",
       "    </tr>\n",
       "  </thead>\n",
       "  <tbody>\n",
       "    <tr>\n",
       "      <th>f1_weighted</th>\n",
       "      <td>0.592</td>\n",
       "      <td>0.497</td>\n",
       "      <td>0.518</td>\n",
       "      <td>0.586</td>\n",
       "      <td>0.616</td>\n",
       "      <td>0.689</td>\n",
       "      <td>0.676</td>\n",
       "    </tr>\n",
       "    <tr>\n",
       "      <th>precision_weighted</th>\n",
       "      <td>0.598</td>\n",
       "      <td>0.517</td>\n",
       "      <td>0.596</td>\n",
       "      <td>0.609</td>\n",
       "      <td>0.622</td>\n",
       "      <td>0.690</td>\n",
       "      <td>0.676</td>\n",
       "    </tr>\n",
       "    <tr>\n",
       "      <th>recall_weighted</th>\n",
       "      <td>0.600</td>\n",
       "      <td>0.523</td>\n",
       "      <td>0.543</td>\n",
       "      <td>0.596</td>\n",
       "      <td>0.623</td>\n",
       "      <td>0.693</td>\n",
       "      <td>0.678</td>\n",
       "    </tr>\n",
       "    <tr>\n",
       "      <th>f1_macro</th>\n",
       "      <td>0.615</td>\n",
       "      <td>0.509</td>\n",
       "      <td>0.544</td>\n",
       "      <td>0.600</td>\n",
       "      <td>0.634</td>\n",
       "      <td>0.705</td>\n",
       "      <td>0.691</td>\n",
       "    </tr>\n",
       "    <tr>\n",
       "      <th>precision_macro</th>\n",
       "      <td>0.616</td>\n",
       "      <td>0.516</td>\n",
       "      <td>0.614</td>\n",
       "      <td>0.608</td>\n",
       "      <td>0.632</td>\n",
       "      <td>0.700</td>\n",
       "      <td>0.688</td>\n",
       "    </tr>\n",
       "    <tr>\n",
       "      <th>recall_macro</th>\n",
       "      <td>0.628</td>\n",
       "      <td>0.556</td>\n",
       "      <td>0.568</td>\n",
       "      <td>0.632</td>\n",
       "      <td>0.651</td>\n",
       "      <td>0.716</td>\n",
       "      <td>0.698</td>\n",
       "    </tr>\n",
       "    <tr>\n",
       "      <th>accuracy</th>\n",
       "      <td>0.600</td>\n",
       "      <td>0.523</td>\n",
       "      <td>0.543</td>\n",
       "      <td>0.596</td>\n",
       "      <td>0.623</td>\n",
       "      <td>0.693</td>\n",
       "      <td>0.678</td>\n",
       "    </tr>\n",
       "  </tbody>\n",
       "</table>\n",
       "</div>"
      ],
      "text/plain": [
       "                      MLR     RC    GNB    KNN    SVC     RF    XGB\n",
       "f1_weighted         0.592  0.497  0.518  0.586  0.616  0.689  0.676\n",
       "precision_weighted  0.598  0.517  0.596  0.609  0.622  0.690  0.676\n",
       "recall_weighted     0.600  0.523  0.543  0.596  0.623  0.693  0.678\n",
       "f1_macro            0.615  0.509  0.544  0.600  0.634  0.705  0.691\n",
       "precision_macro     0.616  0.516  0.614  0.608  0.632  0.700  0.688\n",
       "recall_macro        0.628  0.556  0.568  0.632  0.651  0.716  0.698\n",
       "accuracy            0.600  0.523  0.543  0.596  0.623  0.693  0.678"
      ]
     },
     "execution_count": 46,
     "metadata": {},
     "output_type": "execute_result"
    }
   ],
   "source": [
    "validationReport(pipe, X_train, y_train, cv)"
   ]
  },
  {
   "cell_type": "markdown",
   "metadata": {},
   "source": [
    "<a id='5'></a>\n",
    "## Tuning dos modelos"
   ]
  },
  {
   "cell_type": "markdown",
   "metadata": {},
   "source": [
    "##### Dicionário dos parâmetros do grid"
   ]
  },
  {
   "cell_type": "code",
   "execution_count": 47,
   "metadata": {},
   "outputs": [],
   "source": [
    "# parâmetros de tuning (multinomial logistic regression)\n",
    "mlr_param = [{'clf__penalty' : ['l2'],\n",
    "              'clf__solver'  : ['newton-cg','saga','sag','liblinear'],\n",
    "              'clf__C'       : [0.001,0.01,0.1,1.0,10.0,100.0]}]\n",
    "\n",
    "# parâmetros de tuning (ridge classifier)\n",
    "rc_param = [{'clf__alpha'         : [0.01,0.1,1.0,10.0,100.0],\n",
    "             'clf__solver'        : ['svd','sparse_cg','sag'],\n",
    "             'clf__fit_intercept' : [True, False],\n",
    "             'clf__normalize'     : [True, False]}]\n",
    "\n",
    "# parâmetros de tuning (gaussian naive bayes)\n",
    "gnb_param = [{'clf__var_smoothing' : [1,0.1,0.01,0.001,0.0001]}]\n",
    "\n",
    "# parâmetros de tuning (k-nearest neighbor)\n",
    "knn_param = [{'clf__n_neighbors'  : [3,7,11,15,19,21,23,25,27,30],\n",
    "              'clf__weights'      : ['uniform', 'distance'],\n",
    "              'clf__metric'       : ['minkowski', 'chebyshev'],\n",
    "              'clf__p'            : [2,3]}]\n",
    "\n",
    "# parâmetros de tuning (support vector machines)\n",
    "svm_param = [{'clf__C'      : [0.001,0.01,0.1,1.0,10.0,100.0,1000.0],\n",
    "              'clf__gamma'  : [0.001, 0.01, 0.1, 1, 10, 100, 'auto'],\n",
    "              'clf__kernel' : ['poly', 'rbf']}]\n",
    "\n",
    "# parâmetros de tuning (random forest)\n",
    "rf_param = [{'clf__n_estimators'      : [25,50,100,500],\n",
    "             'clf__max_depth'         : [15,25,30,None],\n",
    "             'clf__criterion'         : ['gini', 'entropy'],\n",
    "             'clf__min_samples_split' : [1,2,5,10],\n",
    "             'clf__min_samples_leaf'  : [1,2,5,10]}]\n",
    "\n",
    "# parâmetros de tuning (xgboost)\n",
    "xgb_param = [{'clf__eta'               : [0.01,0.015,0.025,0.05,0.1],\n",
    "              'clf__learning_rate'     : [0.1,0.15,0.2,0.25,0.3,0.35,0.4],\n",
    "              'clf__gamma'             : [0.05,0.1,0.3,0.3,0.5,0.7,0.9,1.0],\n",
    "              'clf__max_depth'         : [3,5,7,9,12,15,17,25],\n",
    "              'clf__min_child_weight'  : [1,3,5,7],\n",
    "              'clf__subsample'         : [0.6,0.7,0.8,0.9,1.0],\n",
    "              'clf__colsample_bytree'  : [0.6,0.7,0.8,0.9,1.0],\n",
    "              'clf__reg_lambda'        : [10 ** i for i in range(-3,4)],\n",
    "              'clf__alpha'             : [10 ** i for i in range(-3,4)]}]\n",
    "\n",
    "# listagem dos parâmetros de tuning\n",
    "param = [mlr_param, rc_param, gnb_param, knn_param, svm_param, rf_param, xgb_param]\n",
    "\n",
    "# dicionário dos parâmetros do grid\n",
    "dic_param = {}\n",
    "for k, p in zip(pipe.keys(), param):\n",
    "    dic_param[k] = p"
   ]
  },
  {
   "cell_type": "markdown",
   "metadata": {},
   "source": [
    "##### Tuning dos modelos"
   ]
  },
  {
   "cell_type": "code",
   "execution_count": null,
   "metadata": {},
   "outputs": [
    {
     "name": "stdout",
     "output_type": "stream",
     "text": [
      "----\n",
      "MLR\n",
      "Melhores parâmetros: {'clf__C': 1.0, 'clf__penalty': 'l2', 'clf__solver': 'newton-cg'}\n",
      "f1_weighted = 0.592\n",
      "----\n",
      "RC\n",
      "Melhores parâmetros: {'clf__alpha': 0.01, 'clf__fit_intercept': True, 'clf__normalize': False, 'clf__solver': 'svd'}\n",
      "f1_weighted = 0.498\n",
      "----\n",
      "GNB\n",
      "Melhores parâmetros: {'clf__var_smoothing': 0.001}\n",
      "f1_weighted = 0.518\n",
      "----\n",
      "KNN\n",
      "Melhores parâmetros: {'clf__metric': 'minkowski', 'clf__n_neighbors': 7, 'clf__p': 2, 'clf__weights': 'distance'}\n",
      "f1_weighted = 0.614\n",
      "----\n",
      "SVC\n",
      "Melhores parâmetros: {'clf__C': 100.0, 'clf__gamma': 0.01, 'clf__kernel': 'rbf'}\n",
      "f1_weighted = 0.652\n",
      "----\n",
      "RF\n",
      "Melhores parâmetros: {'clf__n_estimators': 50, 'clf__min_samples_split': 2, 'clf__min_samples_leaf': 1, 'clf__max_depth': 25, 'clf__criterion': 'entropy'}\n",
      "f1_weighted = 0.692\n"
     ]
    }
   ],
   "source": [
    "# para cada modelo, exceto random forest e xgboost\n",
    "for m in ['MLR', 'RC', 'GNB', 'KNN', 'SVC']:\n",
    "    # grid search\n",
    "    grid = GridSearchCV(pipe[m], param_grid = dic_param[m], cv = cv, scoring = metric)\n",
    "    grid.fit(X_train, y_train)\n",
    "    print(\"----\")\n",
    "    print(m)\n",
    "    print(\"Melhores parâmetros:\", grid.best_params_)\n",
    "    print('{0} = {1}'.format(metric, round(grid.best_score_, 3)))\n",
    "    \n",
    "# para apenas os modelos random forest e xgboost\n",
    "for m in ['RF', 'XGB']:\n",
    "    # random search\n",
    "    random = RandomizedSearchCV(pipe[m], param_distributions = dic_param[m], cv = cv,\n",
    "                                    scoring = metric, n_iter = 50, random_state = 42)\n",
    "    random.fit(X_train, y_train)\n",
    "    print(\"----\")\n",
    "    print(m)\n",
    "    print(\"Melhores parâmetros:\", random.best_params_)\n",
    "    print('{0} = {1}'.format(metric, round(random.best_score_, 3)))"
   ]
  },
  {
   "cell_type": "markdown",
   "metadata": {},
   "source": [
    "<a id='6'></a>\n",
    "## Validação cruzada (pós-tuning)"
   ]
  },
  {
   "cell_type": "markdown",
   "metadata": {},
   "source": [
    "##### Criação dos pipelines dos modelos otimizados"
   ]
  },
  {
   "cell_type": "code",
   "execution_count": null,
   "metadata": {},
   "outputs": [],
   "source": [
    "# multinomial logistic regression (mlr)\n",
    "mlr = Pipeline(steps = [('scaler', scaler),\n",
    "                        ('dim_reduction', dim_reduction),\n",
    "                        ('selector', selector),\n",
    "                        ('smote', oversamp),\n",
    "                        ('clf', LogisticRegression(C = 1.0, penalty = 'l2', multi_class = 'multinomial',\n",
    "                                                   solver = 'newton-cg'))])\n",
    "\n",
    "# ridge classifier (rc)\n",
    "rc = Pipeline(steps = [('scaler', scaler),\n",
    "                       ('dim_reduction', dim_reduction),\n",
    "                       ('selector', selector),\n",
    "                       ('smote', oversamp),\n",
    "                       ('clf', RidgeClassifier(alpha = 0.01, fit_intercept = True, normalize = False,\n",
    "                                               solver = 'svd'))])\n",
    "\n",
    "# gaussian naive bayes (gnb)\n",
    "gnb = Pipeline(steps = [('scaler', scaler),\n",
    "                        ('dim_reduction', dim_reduction),\n",
    "                        ('selector', selector),\n",
    "                        ('smote', oversamp),\n",
    "                        ('clf', GaussianNB(var_smoothing = 0.001))])\n",
    "\n",
    "# k-nearest neighbor (knn)\n",
    "knn = Pipeline(steps = [('scaler', scaler),\n",
    "                        ('dim_reduction', dim_reduction),\n",
    "                        ('selector', selector),\n",
    "                        ('smote', oversamp),\n",
    "                        ('clf', KNeighborsClassifier(metric = 'minkowski', n_neighbors = 7,\n",
    "                                                     p = 2, weights = 'distance'))])\n",
    "\n",
    "# support vector classifier (svc)\n",
    "svc = Pipeline(steps = [('scaler', scaler),\n",
    "                        ('dim_reduction', dim_reduction),\n",
    "                        ('selector', selector),\n",
    "                        ('smote', oversamp),\n",
    "                        ('clf', SVC(C = 100.0, gamma = 0.01, kernel = 'rbf', random_state = 42))])\n",
    "\n",
    "# random forest (rf)\n",
    "rf = Pipeline(steps = [('scaler', scaler),\n",
    "                       ('dim_reduction', dim_reduction),\n",
    "                       ('selector', selector),\n",
    "                       ('smote', oversamp),\n",
    "                       ('clf', RandomForestClassifier(n_estimators = 50, min_samples_split = 2,\n",
    "                                                      min_samples_leaf = 1, max_depth = 25,\n",
    "                                                      criterion = 'entropy', random_state = 42))])\n",
    "\n",
    "# xgboost classifier (xgb)\n",
    "xgb = Pipeline(steps = [('scaler', scaler),\n",
    "                        ('dim_reduction', dim_reduction),\n",
    "                        ('selector', selector),\n",
    "                        ('smote', oversamp),\n",
    "                        ('clf', XGBClassifier(subsample = 0.9, reg_lambda = 0.001, min_child_weight = 1,\n",
    "                                              max_depth = 12, learning_rate = 0.15, gamma = 0.9, \n",
    "                                              eta = 0.05, colsample_bytree = 0.9, alpha = 0.01,\n",
    "                                              eval_metric = 'mlogloss', random_state = 42))])\n",
    "\n",
    "# dicionário de modelos\n",
    "models = {\"MLR\" : mlr,\n",
    "          \"RC\"  : rc,\n",
    "          \"GNB\" : gnb,\n",
    "          \"KNN\" : knn,\n",
    "          \"SVC\" : svc,\n",
    "          \"RF\"  : rf,\n",
    "          \"XGB\" : xgb}"
   ]
  },
  {
   "cell_type": "markdown",
   "metadata": {},
   "source": [
    "##### Validação cruzada"
   ]
  },
  {
   "cell_type": "code",
   "execution_count": null,
   "metadata": {},
   "outputs": [],
   "source": [
    "# validação cruzada (pós-tuning)\n",
    "val_report = validationReport(models, X_train, y_train, cv)\n",
    "val_report"
   ]
  },
  {
   "cell_type": "markdown",
   "metadata": {},
   "source": [
    "<a id='7'></a>\n",
    "## Predições das unidades"
   ]
  },
  {
   "cell_type": "markdown",
   "metadata": {},
   "source": [
    "##### Treinamento dos modelos otimizados"
   ]
  },
  {
   "cell_type": "code",
   "execution_count": null,
   "metadata": {},
   "outputs": [],
   "source": [
    "# treinando os dois modelos selecionados\n",
    "for k in models.keys():\n",
    "    models[k].fit(X_train, y_train)"
   ]
  },
  {
   "cell_type": "markdown",
   "metadata": {},
   "source": [
    "##### Predições"
   ]
  },
  {
   "cell_type": "code",
   "execution_count": null,
   "metadata": {},
   "outputs": [],
   "source": [
    "# predições multinomial logistic regression\n",
    "ŷ_mlr = models['MLR'].predict(X_test)\n",
    "# predições ridge classifier\n",
    "ŷ_rc = models['RC'].predict(X_test)\n",
    "# predições gaussian naive bayes\n",
    "ŷ_gnb = models['GNB'].predict(X_test)\n",
    "# predições k-nearest neighbor\n",
    "ŷ_knn = models['KNN'].predict(X_test)\n",
    "# predições k-nearest neighbor\n",
    "ŷ_svc = models['SVC'].predict(X_test)\n",
    "# predições random forest\n",
    "ŷ_rf = models['RF'].predict(X_test)\n",
    "# predições xgboost classifier\n",
    "ŷ_xgb = models['XGB'].predict(X_test)\n",
    "\n",
    "# dicionário de predições\n",
    "dic_ŷ = {'MLR': ŷ_mlr, 'RC' : ŷ_rc, 'GNB' : ŷ_gnb, 'KNN' : ŷ_knn, 'SVC' : ŷ_svc, 'RF' : ŷ_rf, 'XGB' : ŷ_xgb}"
   ]
  },
  {
   "cell_type": "markdown",
   "metadata": {},
   "source": [
    "##### Visualização das predições"
   ]
  },
  {
   "cell_type": "code",
   "execution_count": null,
   "metadata": {
    "scrolled": false
   },
   "outputs": [],
   "source": [
    "# plotagem das predições\n",
    "for k in dic_ŷ.keys():\n",
    "    plotPrediction(dic_ŷ[k], model = k);"
   ]
  },
  {
   "cell_type": "markdown",
   "metadata": {},
   "source": [
    "<a id='7'></a>\n",
    "## Validação dos modelos"
   ]
  },
  {
   "cell_type": "markdown",
   "metadata": {},
   "source": [
    "##### Matriz de confusão"
   ]
  },
  {
   "cell_type": "code",
   "execution_count": null,
   "metadata": {},
   "outputs": [],
   "source": [
    "# layout dos plots\n",
    "fig, axs = plt.subplots(nrows = 4, ncols = 2, figsize = (9, 16))\n",
    "\n",
    "# labels\n",
    "labels = [i for i in range(1, 7)]\n",
    "\n",
    "for ax, k in zip(axs.flat, dic_ŷ.keys()):\n",
    "    cm = confusion_matrix(y_test, dic_ŷ[k], normalize = 'true')\n",
    "    p = ax.matshow(cm, cmap = 'coolwarm')\n",
    "    fig.colorbar(p, ax = ax)\n",
    "    ax.set_title(str(k), size = fs_title, pad = pad)\n",
    "    ax.set_xlabel('Predito', size = 14, labelpad = pad)\n",
    "    ax.set_xticklabels([''] + labels)\n",
    "    ax.set_ylabel('Real', size = 14, labelpad = pad)\n",
    "    ax.set_yticklabels([''] + labels)\n",
    "    \n",
    "    for (i, j), z in np.ndenumerate(cm):\n",
    "        ax.text(j, i, '{:0.2f}'.format(z), ha = 'center', va = 'center')\n",
    "    \n",
    "# layout ajustado\n",
    "plt.tight_layout();"
   ]
  },
  {
   "cell_type": "markdown",
   "metadata": {},
   "source": [
    "##### Report de métricas de classificação"
   ]
  },
  {
   "cell_type": "code",
   "execution_count": null,
   "metadata": {
    "scrolled": false
   },
   "outputs": [],
   "source": [
    "for k in dic_ŷ.keys():\n",
    "    print('---- \\n')\n",
    "    print(f'{k}: \\n')\n",
    "    print(classification_report(y_test, dic_ŷ[k]))"
   ]
  },
  {
   "cell_type": "markdown",
   "metadata": {},
   "source": [
    "##### Métricas de validação do conjunto de teste"
   ]
  },
  {
   "cell_type": "code",
   "execution_count": null,
   "metadata": {},
   "outputs": [],
   "source": [
    "test_report = testReport(dic_ŷ, y_test)\n",
    "test_report"
   ]
  },
  {
   "cell_type": "markdown",
   "metadata": {},
   "source": [
    "##### Comparação entre os resultados de validação e teste"
   ]
  },
  {
   "cell_type": "code",
   "execution_count": null,
   "metadata": {},
   "outputs": [],
   "source": [
    "print(\"Validação:\")\n",
    "print(val_report)\n",
    "print('\\n----\\n')\n",
    "print(\"Teste:\")\n",
    "print(test_report)"
   ]
  },
  {
   "cell_type": "code",
   "execution_count": null,
   "metadata": {},
   "outputs": [],
   "source": [
    "# layout dos heatmaps\n",
    "fig, ax = plt.subplots(1,2,figsize = (12, 4))\n",
    "\n",
    "# heatmap para o conjunto de validação\n",
    "sns.heatmap(val_report, cmap = 'coolwarm', annot = True, ax = ax[0])\n",
    "ax[0].set_title('Validação', size = fs_title)\n",
    "\n",
    "# heatmap para o conjunto de teste\n",
    "sns.heatmap(test_report, cmap = 'coolwarm', annot = True, ax = ax[1])\n",
    "ax[1].set_title('Teste', size = fs_title)\n",
    "\n",
    "plt.tight_layout();"
   ]
  },
  {
   "cell_type": "markdown",
   "metadata": {},
   "source": [
    "<a id='8'></a>\n",
    "## Importância das features"
   ]
  },
  {
   "cell_type": "markdown",
   "metadata": {},
   "source": [
    "### Entropia"
   ]
  },
  {
   "cell_type": "code",
   "execution_count": null,
   "metadata": {},
   "outputs": [],
   "source": [
    "# dicionário de features e seus respectivos scores de importância\n",
    "dic_importance = featureImportance(models)"
   ]
  },
  {
   "cell_type": "code",
   "execution_count": null,
   "metadata": {},
   "outputs": [],
   "source": [
    "# gráfico de importância de features\n",
    "plt.figure(figsize = (10,5))\n",
    "plt.barh(list(dic_importance.keys()), dic_importance.values(), color =col, edgecolor = ec)\n",
    "plt.title('Importância das features (Entropia)', size = fs_title)\n",
    "plt.xlabel('Entropia', size = 14);"
   ]
  }
 ],
 "metadata": {
  "kernelspec": {
   "display_name": "Python 3",
   "language": "python",
   "name": "python3"
  },
  "language_info": {
   "codemirror_mode": {
    "name": "ipython",
    "version": 3
   },
   "file_extension": ".py",
   "mimetype": "text/x-python",
   "name": "python",
   "nbconvert_exporter": "python",
   "pygments_lexer": "ipython3",
   "version": "3.6.10"
  }
 },
 "nbformat": 4,
 "nbformat_minor": 4
}
