{
 "cells": [
  {
   "cell_type": "markdown",
   "metadata": {},
   "source": [
    "# Notebook 2 - Mapa Geológico Preditivo\n",
    "\n",
    "### Pré-processamento, modelagem dos dados & validação dos modelos\n",
    "\n",
    "##### Trabalho de Conclusão de Curso - Geologia / IGC / UFMG\n",
    "\n",
    "Autores: [Franco Naghetini](https://github.com/fnaghetini) & [Guilherme Silveira](https://github.com/guiasilveira)"
   ]
  },
  {
   "cell_type": "markdown",
   "metadata": {},
   "source": [
    "<a id='1'></a>\n",
    "##  Configurações iniciais"
   ]
  },
  {
   "cell_type": "markdown",
   "metadata": {},
   "source": [
    "##### Importação de bibliotecas"
   ]
  },
  {
   "cell_type": "code",
   "execution_count": 1,
   "metadata": {},
   "outputs": [],
   "source": [
    "# manipulação e visualização dos dados\n",
    "from math import ceil                                        # arredondamento 'para cima'\n",
    "import numpy as np                                           # operações numéricas de vetores\n",
    "import pandas as pd                                          # manipulação de dataframes e series\n",
    "import matplotlib.pyplot as plt                              # visualização de dados\n",
    "import seaborn as sns                                        # visualização de dados\n",
    "\n",
    "# pré-processamento dos dados\n",
    "from sklearn.preprocessing import StandardScaler             # escalonamento dos dados\n",
    "from sklearn.decomposition import PCA                        # análise de componentes principais\n",
    "from sklearn.feature_selection import SelectKBest            # seleção univariada de features\n",
    "from sklearn.feature_selection import f_classif              # seleção univariada de features (teste F ANOVA)\n",
    "from sklearn.feature_selection import mutual_info_classif    # seleção univariada de features (informação mútua)\n",
    "from sklearn.feature_selection import SelectFromModel        # seleção de features a partir de um modelo\n",
    "from imblearn.over_sampling import SMOTE                     # superamostragem\n",
    "from imblearn.pipeline import Pipeline                       # criação de pipelines\n",
    "\n",
    "# modelagem dos dados\n",
    "from sklearn.dummy import DummyClassifier                    # baseline\n",
    "from sklearn.linear_model import LogisticRegression          # logistic regression\n",
    "from sklearn.tree import DecisionTreeClassifier              # decision tree\n",
    "from sklearn.naive_bayes import GaussianNB                   # gaussian naive bayes\n",
    "from sklearn.neighbors import KNeighborsClassifier           # k-nearest neighbor\n",
    "from sklearn.svm import SVC                                  # support vector machines\n",
    "from sklearn.ensemble import RandomForestClassifier          # random forest\n",
    "from xgboost import XGBClassifier                            # xgboost\n",
    "from sklearn.neural_network import MLPClassifier             # multilayer perceptron\n",
    "\n",
    "# validação dos modelos\n",
    "from sklearn.model_selection import StratifiedKFold          # amostragem estratificada\n",
    "from sklearn.metrics import confusion_matrix                 # matriz de confusão\n",
    "from sklearn.metrics import classification_report            # report de métricas de classificação\n",
    "\n",
    "# tuning dos modelos\n",
    "from sklearn.model_selection import RandomizedSearchCV       # random search\n",
    "from sklearn.model_selection import GridSearchCV             # grid search\n",
    "\n",
    "import warnings                                              # desabilitar avisos\n",
    "warnings.filterwarnings(\"ignore\")\n",
    "\n",
    "%matplotlib inline"
   ]
  },
  {
   "cell_type": "markdown",
   "metadata": {},
   "source": [
    "##### Importação de funções auxiliares"
   ]
  },
  {
   "cell_type": "code",
   "execution_count": 2,
   "metadata": {},
   "outputs": [],
   "source": [
    "from functions.Custom_Train_Test_Split import customTrainTestSplit  # divisão entre treino e teste\n",
    "from functions.Custom_Validation import validationReport            # report de performance do conjunto de validação\n",
    "from functions.Custom_Validation import testReport                  # reports de performance do conjunto de teste\n",
    "from functions.Custom_Preprocessing import MaskedPCA                # PCA customizada\n",
    "from functions.Custom_Preprocessing import univariateSelector       # seleção de features univariada\n",
    "from functions.Custom_Preprocessing import randomForestSelector     # seleção de features via random forest\n",
    "from functions.Custom_Preprocessing import plotSelectionScores      # plotagem dos scores de importância das features\n",
    "from functions.Custom_Prediction import createPredTable             # dataframe com as predições dos modelos\n",
    "from functions.Custom_Prediction import createMissClassifTable      # dataframe com as inconsistências dos modelos\n",
    "from functions.Custom_Prediction import createPredProbaTable        # dataframe com as probabilidades por classe\n",
    "from functions.Custom_Prediction import categoricalCrossEntropy     # dataframe com a entropia cruzada do modelo"
   ]
  },
  {
   "cell_type": "markdown",
   "metadata": {},
   "source": [
    "##### Importação do banco de dados"
   ]
  },
  {
   "cell_type": "code",
   "execution_count": 3,
   "metadata": {},
   "outputs": [
    {
     "data": {
      "text/html": [
       "<div>\n",
       "<style scoped>\n",
       "    .dataframe tbody tr th:only-of-type {\n",
       "        vertical-align: middle;\n",
       "    }\n",
       "\n",
       "    .dataframe tbody tr th {\n",
       "        vertical-align: top;\n",
       "    }\n",
       "\n",
       "    .dataframe thead th {\n",
       "        text-align: right;\n",
       "    }\n",
       "</style>\n",
       "<table border=\"1\" class=\"dataframe\">\n",
       "  <thead>\n",
       "    <tr style=\"text-align: right;\">\n",
       "      <th></th>\n",
       "      <th>X</th>\n",
       "      <th>Y</th>\n",
       "      <th>GT</th>\n",
       "      <th>K</th>\n",
       "      <th>TH</th>\n",
       "      <th>U</th>\n",
       "      <th>CT</th>\n",
       "      <th>U_K</th>\n",
       "      <th>TH_K</th>\n",
       "      <th>U_TH</th>\n",
       "      <th>...</th>\n",
       "      <th>B06</th>\n",
       "      <th>B07</th>\n",
       "      <th>B08</th>\n",
       "      <th>B09</th>\n",
       "      <th>R</th>\n",
       "      <th>G</th>\n",
       "      <th>B</th>\n",
       "      <th>TARGET</th>\n",
       "      <th>UNID</th>\n",
       "      <th>COD</th>\n",
       "    </tr>\n",
       "  </thead>\n",
       "  <tbody>\n",
       "    <tr>\n",
       "      <th>0</th>\n",
       "      <td>638663.68</td>\n",
       "      <td>7981552.08</td>\n",
       "      <td>0.076001</td>\n",
       "      <td>0.38</td>\n",
       "      <td>3.98</td>\n",
       "      <td>2.21</td>\n",
       "      <td>3.56</td>\n",
       "      <td>3.11</td>\n",
       "      <td>6.51</td>\n",
       "      <td>0.49</td>\n",
       "      <td>...</td>\n",
       "      <td>15656</td>\n",
       "      <td>11371</td>\n",
       "      <td>7669</td>\n",
       "      <td>5089</td>\n",
       "      <td>208</td>\n",
       "      <td>199</td>\n",
       "      <td>185</td>\n",
       "      <td>6</td>\n",
       "      <td>Fm_GM</td>\n",
       "      <td>PP4egm</td>\n",
       "    </tr>\n",
       "    <tr>\n",
       "      <th>1</th>\n",
       "      <td>638663.68</td>\n",
       "      <td>7981489.58</td>\n",
       "      <td>0.054137</td>\n",
       "      <td>0.41</td>\n",
       "      <td>3.66</td>\n",
       "      <td>2.44</td>\n",
       "      <td>3.60</td>\n",
       "      <td>3.11</td>\n",
       "      <td>6.91</td>\n",
       "      <td>0.47</td>\n",
       "      <td>...</td>\n",
       "      <td>17906</td>\n",
       "      <td>13743</td>\n",
       "      <td>8706</td>\n",
       "      <td>5077</td>\n",
       "      <td>195</td>\n",
       "      <td>189</td>\n",
       "      <td>169</td>\n",
       "      <td>6</td>\n",
       "      <td>Fm_GM</td>\n",
       "      <td>PP4egm</td>\n",
       "    </tr>\n",
       "    <tr>\n",
       "      <th>2</th>\n",
       "      <td>638726.18</td>\n",
       "      <td>7981489.58</td>\n",
       "      <td>0.071591</td>\n",
       "      <td>0.57</td>\n",
       "      <td>5.30</td>\n",
       "      <td>2.63</td>\n",
       "      <td>4.23</td>\n",
       "      <td>2.72</td>\n",
       "      <td>6.97</td>\n",
       "      <td>0.41</td>\n",
       "      <td>...</td>\n",
       "      <td>17693</td>\n",
       "      <td>13716</td>\n",
       "      <td>8699</td>\n",
       "      <td>5083</td>\n",
       "      <td>197</td>\n",
       "      <td>160</td>\n",
       "      <td>153</td>\n",
       "      <td>6</td>\n",
       "      <td>Fm_GM</td>\n",
       "      <td>PP4egm</td>\n",
       "    </tr>\n",
       "    <tr>\n",
       "      <th>3</th>\n",
       "      <td>638788.68</td>\n",
       "      <td>7981489.58</td>\n",
       "      <td>0.055794</td>\n",
       "      <td>0.80</td>\n",
       "      <td>7.26</td>\n",
       "      <td>2.88</td>\n",
       "      <td>4.92</td>\n",
       "      <td>2.40</td>\n",
       "      <td>7.16</td>\n",
       "      <td>0.36</td>\n",
       "      <td>...</td>\n",
       "      <td>16064</td>\n",
       "      <td>11973</td>\n",
       "      <td>8334</td>\n",
       "      <td>5083</td>\n",
       "      <td>226</td>\n",
       "      <td>208</td>\n",
       "      <td>202</td>\n",
       "      <td>6</td>\n",
       "      <td>Fm_GM</td>\n",
       "      <td>PP4egm</td>\n",
       "    </tr>\n",
       "    <tr>\n",
       "      <th>4</th>\n",
       "      <td>638851.18</td>\n",
       "      <td>7981489.58</td>\n",
       "      <td>0.033372</td>\n",
       "      <td>1.05</td>\n",
       "      <td>9.20</td>\n",
       "      <td>3.17</td>\n",
       "      <td>5.54</td>\n",
       "      <td>2.21</td>\n",
       "      <td>7.50</td>\n",
       "      <td>0.33</td>\n",
       "      <td>...</td>\n",
       "      <td>15789</td>\n",
       "      <td>11648</td>\n",
       "      <td>8081</td>\n",
       "      <td>5085</td>\n",
       "      <td>161</td>\n",
       "      <td>167</td>\n",
       "      <td>130</td>\n",
       "      <td>6</td>\n",
       "      <td>Fm_GM</td>\n",
       "      <td>PP4egm</td>\n",
       "    </tr>\n",
       "    <tr>\n",
       "      <th>5</th>\n",
       "      <td>638788.68</td>\n",
       "      <td>7981427.08</td>\n",
       "      <td>0.028260</td>\n",
       "      <td>0.85</td>\n",
       "      <td>6.60</td>\n",
       "      <td>2.97</td>\n",
       "      <td>4.92</td>\n",
       "      <td>2.51</td>\n",
       "      <td>7.64</td>\n",
       "      <td>0.36</td>\n",
       "      <td>...</td>\n",
       "      <td>15269</td>\n",
       "      <td>11403</td>\n",
       "      <td>8028</td>\n",
       "      <td>5079</td>\n",
       "      <td>142</td>\n",
       "      <td>107</td>\n",
       "      <td>106</td>\n",
       "      <td>6</td>\n",
       "      <td>Fm_GM</td>\n",
       "      <td>PP4egm</td>\n",
       "    </tr>\n",
       "    <tr>\n",
       "      <th>6</th>\n",
       "      <td>638663.68</td>\n",
       "      <td>7981427.08</td>\n",
       "      <td>0.051313</td>\n",
       "      <td>0.44</td>\n",
       "      <td>3.20</td>\n",
       "      <td>2.62</td>\n",
       "      <td>3.62</td>\n",
       "      <td>3.14</td>\n",
       "      <td>7.37</td>\n",
       "      <td>0.44</td>\n",
       "      <td>...</td>\n",
       "      <td>18497</td>\n",
       "      <td>14848</td>\n",
       "      <td>9045</td>\n",
       "      <td>5091</td>\n",
       "      <td>226</td>\n",
       "      <td>175</td>\n",
       "      <td>200</td>\n",
       "      <td>6</td>\n",
       "      <td>Fm_GM</td>\n",
       "      <td>PP4egm</td>\n",
       "    </tr>\n",
       "    <tr>\n",
       "      <th>7</th>\n",
       "      <td>638726.18</td>\n",
       "      <td>7981427.08</td>\n",
       "      <td>0.047716</td>\n",
       "      <td>0.62</td>\n",
       "      <td>4.74</td>\n",
       "      <td>2.80</td>\n",
       "      <td>4.25</td>\n",
       "      <td>2.80</td>\n",
       "      <td>7.47</td>\n",
       "      <td>0.40</td>\n",
       "      <td>...</td>\n",
       "      <td>16202</td>\n",
       "      <td>12264</td>\n",
       "      <td>8508</td>\n",
       "      <td>5097</td>\n",
       "      <td>170</td>\n",
       "      <td>107</td>\n",
       "      <td>122</td>\n",
       "      <td>6</td>\n",
       "      <td>Fm_GM</td>\n",
       "      <td>PP4egm</td>\n",
       "    </tr>\n",
       "    <tr>\n",
       "      <th>8</th>\n",
       "      <td>638663.68</td>\n",
       "      <td>7981364.58</td>\n",
       "      <td>0.048052</td>\n",
       "      <td>0.49</td>\n",
       "      <td>2.99</td>\n",
       "      <td>2.77</td>\n",
       "      <td>3.63</td>\n",
       "      <td>3.18</td>\n",
       "      <td>7.87</td>\n",
       "      <td>0.42</td>\n",
       "      <td>...</td>\n",
       "      <td>17907</td>\n",
       "      <td>14332</td>\n",
       "      <td>8848</td>\n",
       "      <td>5082</td>\n",
       "      <td>224</td>\n",
       "      <td>150</td>\n",
       "      <td>198</td>\n",
       "      <td>6</td>\n",
       "      <td>Fm_GM</td>\n",
       "      <td>PP4egm</td>\n",
       "    </tr>\n",
       "    <tr>\n",
       "      <th>9</th>\n",
       "      <td>638726.18</td>\n",
       "      <td>7981364.58</td>\n",
       "      <td>0.044078</td>\n",
       "      <td>0.64</td>\n",
       "      <td>4.20</td>\n",
       "      <td>2.87</td>\n",
       "      <td>4.23</td>\n",
       "      <td>2.87</td>\n",
       "      <td>7.93</td>\n",
       "      <td>0.38</td>\n",
       "      <td>...</td>\n",
       "      <td>15765</td>\n",
       "      <td>11898</td>\n",
       "      <td>8060</td>\n",
       "      <td>5098</td>\n",
       "      <td>243</td>\n",
       "      <td>171</td>\n",
       "      <td>217</td>\n",
       "      <td>6</td>\n",
       "      <td>Fm_GM</td>\n",
       "      <td>PP4egm</td>\n",
       "    </tr>\n",
       "  </tbody>\n",
       "</table>\n",
       "<p>10 rows × 26 columns</p>\n",
       "</div>"
      ],
      "text/plain": [
       "           X           Y        GT     K    TH     U    CT   U_K  TH_K  U_TH  \\\n",
       "0  638663.68  7981552.08  0.076001  0.38  3.98  2.21  3.56  3.11  6.51  0.49   \n",
       "1  638663.68  7981489.58  0.054137  0.41  3.66  2.44  3.60  3.11  6.91  0.47   \n",
       "2  638726.18  7981489.58  0.071591  0.57  5.30  2.63  4.23  2.72  6.97  0.41   \n",
       "3  638788.68  7981489.58  0.055794  0.80  7.26  2.88  4.92  2.40  7.16  0.36   \n",
       "4  638851.18  7981489.58  0.033372  1.05  9.20  3.17  5.54  2.21  7.50  0.33   \n",
       "5  638788.68  7981427.08  0.028260  0.85  6.60  2.97  4.92  2.51  7.64  0.36   \n",
       "6  638663.68  7981427.08  0.051313  0.44  3.20  2.62  3.62  3.14  7.37  0.44   \n",
       "7  638726.18  7981427.08  0.047716  0.62  4.74  2.80  4.25  2.80  7.47  0.40   \n",
       "8  638663.68  7981364.58  0.048052  0.49  2.99  2.77  3.63  3.18  7.87  0.42   \n",
       "9  638726.18  7981364.58  0.044078  0.64  4.20  2.87  4.23  2.87  7.93  0.38   \n",
       "\n",
       "   ...    B06    B07   B08   B09    R    G    B  TARGET   UNID     COD  \n",
       "0  ...  15656  11371  7669  5089  208  199  185       6  Fm_GM  PP4egm  \n",
       "1  ...  17906  13743  8706  5077  195  189  169       6  Fm_GM  PP4egm  \n",
       "2  ...  17693  13716  8699  5083  197  160  153       6  Fm_GM  PP4egm  \n",
       "3  ...  16064  11973  8334  5083  226  208  202       6  Fm_GM  PP4egm  \n",
       "4  ...  15789  11648  8081  5085  161  167  130       6  Fm_GM  PP4egm  \n",
       "5  ...  15269  11403  8028  5079  142  107  106       6  Fm_GM  PP4egm  \n",
       "6  ...  18497  14848  9045  5091  226  175  200       6  Fm_GM  PP4egm  \n",
       "7  ...  16202  12264  8508  5097  170  107  122       6  Fm_GM  PP4egm  \n",
       "8  ...  17907  14332  8848  5082  224  150  198       6  Fm_GM  PP4egm  \n",
       "9  ...  15765  11898  8060  5098  243  171  217       6  Fm_GM  PP4egm  \n",
       "\n",
       "[10 rows x 26 columns]"
      ]
     },
     "execution_count": 3,
     "metadata": {},
     "output_type": "execute_result"
    }
   ],
   "source": [
    "df_original = pd.read_csv(\"data/data_nb2.csv\",sep=\",\")\n",
    "df = df_original.copy(deep = True)\n",
    "df.head(10)"
   ]
  },
  {
   "cell_type": "markdown",
   "metadata": {},
   "source": [
    "<a id='2'></a>\n",
    "## Variáveis globais & parâmetros dos gráficos"
   ]
  },
  {
   "cell_type": "markdown",
   "metadata": {},
   "source": [
    "##### Variáveis globais"
   ]
  },
  {
   "cell_type": "code",
   "execution_count": 4,
   "metadata": {},
   "outputs": [],
   "source": [
    "# coordenadas\n",
    "COORD = ['X','Y']\n",
    "\n",
    "# features\n",
    "FEAT = df.columns[2:-3]\n",
    "\n",
    "# unidades litoestratigráficas\n",
    "labels = ['MAcgg','PP3csbg','PP34b','PP4esjc','PP4esb','PP4egm']\n",
    "\n",
    "# salva resultados no disco\n",
    "save_results = False\n",
    "\n",
    "# dicionário litoestratigráfico\n",
    "dic_lith = {}\n",
    "for k, v in zip(df['TARGET'].unique(), df['COD'].unique()):\n",
    "    dic_lith[k] = v"
   ]
  },
  {
   "cell_type": "markdown",
   "metadata": {},
   "source": [
    "##### Parâmetros dos gráficos"
   ]
  },
  {
   "cell_type": "code",
   "execution_count": 5,
   "metadata": {},
   "outputs": [],
   "source": [
    "# fonte: Times New Roman, tamanho: 12\n",
    "plt.rcParams.update({'font.family':'Times New Roman', 'font.size' : 12})\n",
    "# estilo dos gráficos\n",
    "plt.style.use('seaborn-white')\n",
    "\n",
    "fs_title = 16                              # tamanho da fonte dos títulos\n",
    "cm       = plt.cm.get_cmap('Dark2', 6)     # mapa de cores\n",
    "mk       = 's'                             # estilo do marcador (quadrado)\n",
    "sz       = 1.5                             # tamanho do marcador    \n",
    "col      = 'lightgray'                     # cor dos histogramas\n",
    "ec       = 'black'                         # cor das bordas dos histogramas\n",
    "pad      = 15.0                            # offset dos títulos e labels"
   ]
  },
  {
   "cell_type": "markdown",
   "metadata": {},
   "source": [
    "<a id='3'></a>\n",
    "## Pré-processamento"
   ]
  },
  {
   "cell_type": "markdown",
   "metadata": {},
   "source": [
    "### Separação entre dados de treino e teste"
   ]
  },
  {
   "cell_type": "code",
   "execution_count": 6,
   "metadata": {},
   "outputs": [
    {
     "name": "stdout",
     "output_type": "stream",
     "text": [
      "Treino -> features: (547, 21)   |  target: (547,)\n",
      "Teste  -> features: (10871, 21) |  target: (10871,)\n"
     ]
    }
   ],
   "source": [
    "X_train, y_train, coord_train, X_test, y_test, coord_test = customTrainTestSplit(df, FEAT, COORD,\n",
    "                                                                                 samp_per_class = 100,\n",
    "                                                                                 threshold = 0.7,\n",
    "                                                                                 coords = True)\n",
    "\n",
    "print('Treino -> features: {0}   |  target: {1}'.format(X_train.shape, y_train.shape))\n",
    "print('Teste  -> features: {0} |  target: {1}'.format(X_test.shape, y_test.shape))"
   ]
  },
  {
   "cell_type": "markdown",
   "metadata": {},
   "source": [
    "##### Dataframes de treino e teste"
   ]
  },
  {
   "cell_type": "code",
   "execution_count": 7,
   "metadata": {},
   "outputs": [
    {
     "data": {
      "text/html": [
       "<div>\n",
       "<style scoped>\n",
       "    .dataframe tbody tr th:only-of-type {\n",
       "        vertical-align: middle;\n",
       "    }\n",
       "\n",
       "    .dataframe tbody tr th {\n",
       "        vertical-align: top;\n",
       "    }\n",
       "\n",
       "    .dataframe thead th {\n",
       "        text-align: right;\n",
       "    }\n",
       "</style>\n",
       "<table border=\"1\" class=\"dataframe\">\n",
       "  <thead>\n",
       "    <tr style=\"text-align: right;\">\n",
       "      <th></th>\n",
       "      <th>X</th>\n",
       "      <th>Y</th>\n",
       "      <th>GT</th>\n",
       "      <th>K</th>\n",
       "      <th>TH</th>\n",
       "      <th>U</th>\n",
       "      <th>CT</th>\n",
       "      <th>U_K</th>\n",
       "      <th>TH_K</th>\n",
       "      <th>U_TH</th>\n",
       "      <th>...</th>\n",
       "      <th>B04</th>\n",
       "      <th>B05</th>\n",
       "      <th>B06</th>\n",
       "      <th>B07</th>\n",
       "      <th>B08</th>\n",
       "      <th>B09</th>\n",
       "      <th>R</th>\n",
       "      <th>G</th>\n",
       "      <th>B</th>\n",
       "      <th>TARGET</th>\n",
       "    </tr>\n",
       "  </thead>\n",
       "  <tbody>\n",
       "    <tr>\n",
       "      <th>542</th>\n",
       "      <td>637038.68</td>\n",
       "      <td>7979677.08</td>\n",
       "      <td>0.024932</td>\n",
       "      <td>0.25</td>\n",
       "      <td>13.01</td>\n",
       "      <td>2.51</td>\n",
       "      <td>4.46</td>\n",
       "      <td>5.47</td>\n",
       "      <td>24.79</td>\n",
       "      <td>0.32</td>\n",
       "      <td>...</td>\n",
       "      <td>9114.0</td>\n",
       "      <td>12752.0</td>\n",
       "      <td>17694.0</td>\n",
       "      <td>14578.0</td>\n",
       "      <td>8837.0</td>\n",
       "      <td>5086.0</td>\n",
       "      <td>209.0</td>\n",
       "      <td>179.0</td>\n",
       "      <td>182.0</td>\n",
       "      <td>3</td>\n",
       "    </tr>\n",
       "    <tr>\n",
       "      <th>543</th>\n",
       "      <td>637226.18</td>\n",
       "      <td>7977739.57</td>\n",
       "      <td>0.027761</td>\n",
       "      <td>1.06</td>\n",
       "      <td>23.60</td>\n",
       "      <td>5.09</td>\n",
       "      <td>11.40</td>\n",
       "      <td>3.64</td>\n",
       "      <td>16.55</td>\n",
       "      <td>0.26</td>\n",
       "      <td>...</td>\n",
       "      <td>8224.0</td>\n",
       "      <td>13295.0</td>\n",
       "      <td>14278.0</td>\n",
       "      <td>10665.0</td>\n",
       "      <td>7452.0</td>\n",
       "      <td>5073.0</td>\n",
       "      <td>85.0</td>\n",
       "      <td>29.0</td>\n",
       "      <td>65.0</td>\n",
       "      <td>2</td>\n",
       "    </tr>\n",
       "    <tr>\n",
       "      <th>544</th>\n",
       "      <td>634538.68</td>\n",
       "      <td>7971989.57</td>\n",
       "      <td>0.048161</td>\n",
       "      <td>0.44</td>\n",
       "      <td>4.99</td>\n",
       "      <td>2.50</td>\n",
       "      <td>3.80</td>\n",
       "      <td>3.80</td>\n",
       "      <td>6.46</td>\n",
       "      <td>0.62</td>\n",
       "      <td>...</td>\n",
       "      <td>7692.0</td>\n",
       "      <td>13041.0</td>\n",
       "      <td>12384.0</td>\n",
       "      <td>9406.0</td>\n",
       "      <td>7570.0</td>\n",
       "      <td>5052.0</td>\n",
       "      <td>14.0</td>\n",
       "      <td>5.0</td>\n",
       "      <td>26.0</td>\n",
       "      <td>6</td>\n",
       "    </tr>\n",
       "    <tr>\n",
       "      <th>545</th>\n",
       "      <td>636476.18</td>\n",
       "      <td>7970989.56</td>\n",
       "      <td>0.021256</td>\n",
       "      <td>1.01</td>\n",
       "      <td>26.36</td>\n",
       "      <td>8.84</td>\n",
       "      <td>14.89</td>\n",
       "      <td>5.65</td>\n",
       "      <td>17.44</td>\n",
       "      <td>0.31</td>\n",
       "      <td>...</td>\n",
       "      <td>9674.0</td>\n",
       "      <td>15651.0</td>\n",
       "      <td>15847.0</td>\n",
       "      <td>11958.0</td>\n",
       "      <td>9133.0</td>\n",
       "      <td>5069.0</td>\n",
       "      <td>88.0</td>\n",
       "      <td>243.0</td>\n",
       "      <td>131.0</td>\n",
       "      <td>1</td>\n",
       "    </tr>\n",
       "    <tr>\n",
       "      <th>546</th>\n",
       "      <td>637913.68</td>\n",
       "      <td>7978864.58</td>\n",
       "      <td>0.020339</td>\n",
       "      <td>0.92</td>\n",
       "      <td>11.92</td>\n",
       "      <td>3.33</td>\n",
       "      <td>6.71</td>\n",
       "      <td>4.69</td>\n",
       "      <td>13.75</td>\n",
       "      <td>0.35</td>\n",
       "      <td>...</td>\n",
       "      <td>9124.0</td>\n",
       "      <td>13963.0</td>\n",
       "      <td>16161.0</td>\n",
       "      <td>12419.0</td>\n",
       "      <td>8985.0</td>\n",
       "      <td>5075.0</td>\n",
       "      <td>141.0</td>\n",
       "      <td>110.0</td>\n",
       "      <td>133.0</td>\n",
       "      <td>2</td>\n",
       "    </tr>\n",
       "  </tbody>\n",
       "</table>\n",
       "<p>5 rows × 24 columns</p>\n",
       "</div>"
      ],
      "text/plain": [
       "             X           Y        GT     K     TH     U     CT   U_K   TH_K  \\\n",
       "542  637038.68  7979677.08  0.024932  0.25  13.01  2.51   4.46  5.47  24.79   \n",
       "543  637226.18  7977739.57  0.027761  1.06  23.60  5.09  11.40  3.64  16.55   \n",
       "544  634538.68  7971989.57  0.048161  0.44   4.99  2.50   3.80  3.80   6.46   \n",
       "545  636476.18  7970989.56  0.021256  1.01  26.36  8.84  14.89  5.65  17.44   \n",
       "546  637913.68  7978864.58  0.020339  0.92  11.92  3.33   6.71  4.69  13.75   \n",
       "\n",
       "     U_TH  ...     B04      B05      B06      B07     B08     B09      R  \\\n",
       "542  0.32  ...  9114.0  12752.0  17694.0  14578.0  8837.0  5086.0  209.0   \n",
       "543  0.26  ...  8224.0  13295.0  14278.0  10665.0  7452.0  5073.0   85.0   \n",
       "544  0.62  ...  7692.0  13041.0  12384.0   9406.0  7570.0  5052.0   14.0   \n",
       "545  0.31  ...  9674.0  15651.0  15847.0  11958.0  9133.0  5069.0   88.0   \n",
       "546  0.35  ...  9124.0  13963.0  16161.0  12419.0  8985.0  5075.0  141.0   \n",
       "\n",
       "         G      B  TARGET  \n",
       "542  179.0  182.0       3  \n",
       "543   29.0   65.0       2  \n",
       "544    5.0   26.0       6  \n",
       "545  243.0  131.0       1  \n",
       "546  110.0  133.0       2  \n",
       "\n",
       "[5 rows x 24 columns]"
      ]
     },
     "execution_count": 7,
     "metadata": {},
     "output_type": "execute_result"
    }
   ],
   "source": [
    "# dataframe de treino\n",
    "train_loc = pd.DataFrame(coord_train, columns = COORD)\n",
    "train_feat = pd.DataFrame(X_train, columns = FEAT)\n",
    "train = pd.concat([train_loc, train_feat], axis = 1)\n",
    "train['TARGET'] = y_train\n",
    "train.tail()"
   ]
  },
  {
   "cell_type": "code",
   "execution_count": 8,
   "metadata": {},
   "outputs": [
    {
     "data": {
      "text/html": [
       "<div>\n",
       "<style scoped>\n",
       "    .dataframe tbody tr th:only-of-type {\n",
       "        vertical-align: middle;\n",
       "    }\n",
       "\n",
       "    .dataframe tbody tr th {\n",
       "        vertical-align: top;\n",
       "    }\n",
       "\n",
       "    .dataframe thead th {\n",
       "        text-align: right;\n",
       "    }\n",
       "</style>\n",
       "<table border=\"1\" class=\"dataframe\">\n",
       "  <thead>\n",
       "    <tr style=\"text-align: right;\">\n",
       "      <th></th>\n",
       "      <th>X</th>\n",
       "      <th>Y</th>\n",
       "      <th>GT</th>\n",
       "      <th>K</th>\n",
       "      <th>TH</th>\n",
       "      <th>U</th>\n",
       "      <th>CT</th>\n",
       "      <th>U_K</th>\n",
       "      <th>TH_K</th>\n",
       "      <th>U_TH</th>\n",
       "      <th>...</th>\n",
       "      <th>B04</th>\n",
       "      <th>B05</th>\n",
       "      <th>B06</th>\n",
       "      <th>B07</th>\n",
       "      <th>B08</th>\n",
       "      <th>B09</th>\n",
       "      <th>R</th>\n",
       "      <th>G</th>\n",
       "      <th>B</th>\n",
       "      <th>TARGET</th>\n",
       "    </tr>\n",
       "  </thead>\n",
       "  <tbody>\n",
       "    <tr>\n",
       "      <th>10866</th>\n",
       "      <td>634351.18</td>\n",
       "      <td>7971552.06</td>\n",
       "      <td>0.057461</td>\n",
       "      <td>1.20</td>\n",
       "      <td>5.77</td>\n",
       "      <td>2.50</td>\n",
       "      <td>5.32</td>\n",
       "      <td>2.61</td>\n",
       "      <td>6.64</td>\n",
       "      <td>0.43</td>\n",
       "      <td>...</td>\n",
       "      <td>8682.0</td>\n",
       "      <td>13175.0</td>\n",
       "      <td>13670.0</td>\n",
       "      <td>10626.0</td>\n",
       "      <td>8096.0</td>\n",
       "      <td>5055.0</td>\n",
       "      <td>168.0</td>\n",
       "      <td>107.0</td>\n",
       "      <td>119.0</td>\n",
       "      <td>5</td>\n",
       "    </tr>\n",
       "    <tr>\n",
       "      <th>10867</th>\n",
       "      <td>638663.68</td>\n",
       "      <td>7978239.57</td>\n",
       "      <td>0.021195</td>\n",
       "      <td>0.22</td>\n",
       "      <td>6.22</td>\n",
       "      <td>1.92</td>\n",
       "      <td>3.35</td>\n",
       "      <td>4.89</td>\n",
       "      <td>14.76</td>\n",
       "      <td>0.38</td>\n",
       "      <td>...</td>\n",
       "      <td>9496.0</td>\n",
       "      <td>13076.0</td>\n",
       "      <td>17556.0</td>\n",
       "      <td>13199.0</td>\n",
       "      <td>9188.0</td>\n",
       "      <td>5084.0</td>\n",
       "      <td>142.0</td>\n",
       "      <td>121.0</td>\n",
       "      <td>122.0</td>\n",
       "      <td>5</td>\n",
       "    </tr>\n",
       "    <tr>\n",
       "      <th>10868</th>\n",
       "      <td>639976.19</td>\n",
       "      <td>7981114.58</td>\n",
       "      <td>0.107530</td>\n",
       "      <td>0.40</td>\n",
       "      <td>2.80</td>\n",
       "      <td>1.71</td>\n",
       "      <td>2.90</td>\n",
       "      <td>6.35</td>\n",
       "      <td>20.84</td>\n",
       "      <td>0.36</td>\n",
       "      <td>...</td>\n",
       "      <td>10104.0</td>\n",
       "      <td>14008.0</td>\n",
       "      <td>18980.0</td>\n",
       "      <td>14528.0</td>\n",
       "      <td>9619.0</td>\n",
       "      <td>5070.0</td>\n",
       "      <td>164.0</td>\n",
       "      <td>201.0</td>\n",
       "      <td>164.0</td>\n",
       "      <td>6</td>\n",
       "    </tr>\n",
       "    <tr>\n",
       "      <th>10869</th>\n",
       "      <td>638538.68</td>\n",
       "      <td>7980739.58</td>\n",
       "      <td>0.034884</td>\n",
       "      <td>0.35</td>\n",
       "      <td>4.82</td>\n",
       "      <td>2.22</td>\n",
       "      <td>3.69</td>\n",
       "      <td>4.76</td>\n",
       "      <td>11.84</td>\n",
       "      <td>0.40</td>\n",
       "      <td>...</td>\n",
       "      <td>8459.0</td>\n",
       "      <td>12073.0</td>\n",
       "      <td>15322.0</td>\n",
       "      <td>12742.0</td>\n",
       "      <td>9762.0</td>\n",
       "      <td>5092.0</td>\n",
       "      <td>245.0</td>\n",
       "      <td>220.0</td>\n",
       "      <td>241.0</td>\n",
       "      <td>5</td>\n",
       "    </tr>\n",
       "    <tr>\n",
       "      <th>10870</th>\n",
       "      <td>635288.68</td>\n",
       "      <td>7971552.06</td>\n",
       "      <td>0.037119</td>\n",
       "      <td>3.09</td>\n",
       "      <td>12.75</td>\n",
       "      <td>4.71</td>\n",
       "      <td>11.78</td>\n",
       "      <td>1.82</td>\n",
       "      <td>4.97</td>\n",
       "      <td>0.41</td>\n",
       "      <td>...</td>\n",
       "      <td>7987.0</td>\n",
       "      <td>12647.0</td>\n",
       "      <td>13566.0</td>\n",
       "      <td>10003.0</td>\n",
       "      <td>7914.0</td>\n",
       "      <td>5067.0</td>\n",
       "      <td>62.0</td>\n",
       "      <td>65.0</td>\n",
       "      <td>47.0</td>\n",
       "      <td>2</td>\n",
       "    </tr>\n",
       "  </tbody>\n",
       "</table>\n",
       "<p>5 rows × 24 columns</p>\n",
       "</div>"
      ],
      "text/plain": [
       "               X           Y        GT     K     TH     U     CT   U_K   TH_K  \\\n",
       "10866  634351.18  7971552.06  0.057461  1.20   5.77  2.50   5.32  2.61   6.64   \n",
       "10867  638663.68  7978239.57  0.021195  0.22   6.22  1.92   3.35  4.89  14.76   \n",
       "10868  639976.19  7981114.58  0.107530  0.40   2.80  1.71   2.90  6.35  20.84   \n",
       "10869  638538.68  7980739.58  0.034884  0.35   4.82  2.22   3.69  4.76  11.84   \n",
       "10870  635288.68  7971552.06  0.037119  3.09  12.75  4.71  11.78  1.82   4.97   \n",
       "\n",
       "       U_TH  ...      B04      B05      B06      B07     B08     B09      R  \\\n",
       "10866  0.43  ...   8682.0  13175.0  13670.0  10626.0  8096.0  5055.0  168.0   \n",
       "10867  0.38  ...   9496.0  13076.0  17556.0  13199.0  9188.0  5084.0  142.0   \n",
       "10868  0.36  ...  10104.0  14008.0  18980.0  14528.0  9619.0  5070.0  164.0   \n",
       "10869  0.40  ...   8459.0  12073.0  15322.0  12742.0  9762.0  5092.0  245.0   \n",
       "10870  0.41  ...   7987.0  12647.0  13566.0  10003.0  7914.0  5067.0   62.0   \n",
       "\n",
       "           G      B  TARGET  \n",
       "10866  107.0  119.0       5  \n",
       "10867  121.0  122.0       5  \n",
       "10868  201.0  164.0       6  \n",
       "10869  220.0  241.0       5  \n",
       "10870   65.0   47.0       2  \n",
       "\n",
       "[5 rows x 24 columns]"
      ]
     },
     "execution_count": 8,
     "metadata": {},
     "output_type": "execute_result"
    }
   ],
   "source": [
    "# dataframe de teste\n",
    "test_loc = pd.DataFrame(coord_test, columns = COORD)\n",
    "test_feat = pd.DataFrame(X_test, columns = FEAT)\n",
    "test = pd.concat([test_loc, test_feat], axis = 1)\n",
    "test['TARGET'] = y_test\n",
    "test.tail()"
   ]
  },
  {
   "cell_type": "markdown",
   "metadata": {},
   "source": [
    "##### Frequência de ocorrência dos dados de treino e teste por unidade"
   ]
  },
  {
   "cell_type": "code",
   "execution_count": 9,
   "metadata": {},
   "outputs": [
    {
     "data": {
      "image/png": "[encoded data removed]",
      "text/plain": [
       "<Figure size 720x288 with 2 Axes>"
      ]
     },
     "metadata": {},
     "output_type": "display_data"
    }
   ],
   "source": [
    "fig, axes = plt.subplots(nrows = 1, ncols = 2, figsize = (10, 4))\n",
    "\n",
    "# gráfico dos dados de treino\n",
    "sns.countplot(y = 'TARGET', data = train, color = col, edgecolor = ec, ax = axes[0])\n",
    "axes[0].set_title(\"Conjunto de treino\", size = fs_title)\n",
    "axes[0].set_xlabel(\"Frequência absoluta\", size = 14)\n",
    "axes[0].set_ylabel(\"Target\", size = 14)\n",
    "\n",
    "# gráfico dos dados de teste\n",
    "sns.countplot(y = 'TARGET', data = test, color = col, edgecolor = ec, ax = axes[1])\n",
    "axes[1].set_title(\"Conjunto de teste\", size = fs_title)\n",
    "axes[1].set_xlabel(\"Frequência absoluta\", size = 14)\n",
    "axes[1].set_ylabel(\"\")\n",
    "\n",
    "plt.tight_layout();"
   ]
  },
  {
   "cell_type": "markdown",
   "metadata": {},
   "source": [
    "##### Visualização espacial dos dados de treino e teste"
   ]
  },
  {
   "cell_type": "code",
   "execution_count": 10,
   "metadata": {},
   "outputs": [
    {
     "data": {
      "image/png": "[encoded data removed]",
      "text/plain": [
       "<Figure size 504x396 with 3 Axes>"
      ]
     },
     "metadata": {},
     "output_type": "display_data"
    }
   ],
   "source": [
    "fig, (ax1, ax2) = plt.subplots(nrows = 1, ncols = 2, figsize = (7, 5.5))\n",
    "\n",
    "# Localização dos dados de treino\n",
    "p1 = ax1.scatter(data = train, x = 'X', y = 'Y', c = 'TARGET', cmap = cm, s = sz, marker = mk)\n",
    "ax1.set_title('Treino', size = fs_title)\n",
    "ax1.set_xlabel('X (m)', size = 14)\n",
    "ax1.set_ylabel('Y (m)', size = 14)\n",
    "\n",
    "# Localização dos dados de teste\n",
    "p2 = ax2.scatter(data = test, x = 'X', y = 'Y', c = 'TARGET', cmap = cm, s = sz, marker = mk)\n",
    "cbar = fig.colorbar(p2, ax = ax2, use_gridspec = False, anchor = (7, 0))\n",
    "cbar.ax.set_yticklabels(['MAcgg','PP3csbg','PP34b','PP4esjc','PP4esb','PP4egm'])\n",
    "ax2.set_title('Teste', size = fs_title)\n",
    "ax2.set_xlabel('X (m)', size = 14)\n",
    "\n",
    "plt.tight_layout();"
   ]
  },
  {
   "cell_type": "markdown",
   "metadata": {},
   "source": [
    "### Escalonamento das features"
   ]
  },
  {
   "cell_type": "code",
   "execution_count": 11,
   "metadata": {},
   "outputs": [],
   "source": [
    "std_scaler = StandardScaler()\n",
    "X_train_std = std_scaler.fit_transform(X_train)"
   ]
  },
  {
   "cell_type": "code",
   "execution_count": 12,
   "metadata": {},
   "outputs": [
    {
     "data": {
      "text/html": [
       "<div>\n",
       "<style scoped>\n",
       "    .dataframe tbody tr th:only-of-type {\n",
       "        vertical-align: middle;\n",
       "    }\n",
       "\n",
       "    .dataframe tbody tr th {\n",
       "        vertical-align: top;\n",
       "    }\n",
       "\n",
       "    .dataframe thead th {\n",
       "        text-align: right;\n",
       "    }\n",
       "</style>\n",
       "<table border=\"1\" class=\"dataframe\">\n",
       "  <thead>\n",
       "    <tr style=\"text-align: right;\">\n",
       "      <th></th>\n",
       "      <th>GT</th>\n",
       "      <th>K</th>\n",
       "      <th>TH</th>\n",
       "      <th>U</th>\n",
       "      <th>CT</th>\n",
       "      <th>U_K</th>\n",
       "      <th>TH_K</th>\n",
       "      <th>U_TH</th>\n",
       "      <th>MDT</th>\n",
       "      <th>B01</th>\n",
       "      <th>...</th>\n",
       "      <th>B03</th>\n",
       "      <th>B04</th>\n",
       "      <th>B05</th>\n",
       "      <th>B06</th>\n",
       "      <th>B07</th>\n",
       "      <th>B08</th>\n",
       "      <th>B09</th>\n",
       "      <th>R</th>\n",
       "      <th>G</th>\n",
       "      <th>B</th>\n",
       "    </tr>\n",
       "  </thead>\n",
       "  <tbody>\n",
       "    <tr>\n",
       "      <th>0</th>\n",
       "      <td>1.925042</td>\n",
       "      <td>0.294877</td>\n",
       "      <td>-0.315957</td>\n",
       "      <td>0.403014</td>\n",
       "      <td>0.080342</td>\n",
       "      <td>-0.570957</td>\n",
       "      <td>-0.613666</td>\n",
       "      <td>0.396018</td>\n",
       "      <td>-1.647478</td>\n",
       "      <td>-0.883643</td>\n",
       "      <td>...</td>\n",
       "      <td>-0.850956</td>\n",
       "      <td>-1.029210</td>\n",
       "      <td>-0.176277</td>\n",
       "      <td>-1.145369</td>\n",
       "      <td>-1.322683</td>\n",
       "      <td>-0.841989</td>\n",
       "      <td>-1.003773</td>\n",
       "      <td>-0.236750</td>\n",
       "      <td>1.247100</td>\n",
       "      <td>0.781578</td>\n",
       "    </tr>\n",
       "    <tr>\n",
       "      <th>1</th>\n",
       "      <td>-0.697592</td>\n",
       "      <td>-0.635175</td>\n",
       "      <td>1.709698</td>\n",
       "      <td>0.444511</td>\n",
       "      <td>0.357349</td>\n",
       "      <td>0.317860</td>\n",
       "      <td>1.654651</td>\n",
       "      <td>-1.175458</td>\n",
       "      <td>1.617799</td>\n",
       "      <td>-0.824130</td>\n",
       "      <td>...</td>\n",
       "      <td>-0.769237</td>\n",
       "      <td>-0.242417</td>\n",
       "      <td>-1.150729</td>\n",
       "      <td>-0.209394</td>\n",
       "      <td>-0.339503</td>\n",
       "      <td>-0.387236</td>\n",
       "      <td>0.658618</td>\n",
       "      <td>-0.965742</td>\n",
       "      <td>-0.301601</td>\n",
       "      <td>0.001767</td>\n",
       "    </tr>\n",
       "    <tr>\n",
       "      <th>2</th>\n",
       "      <td>0.564241</td>\n",
       "      <td>-0.305536</td>\n",
       "      <td>-0.422973</td>\n",
       "      <td>-0.316259</td>\n",
       "      <td>-0.462130</td>\n",
       "      <td>-0.272755</td>\n",
       "      <td>-0.446748</td>\n",
       "      <td>0.275135</td>\n",
       "      <td>-0.916880</td>\n",
       "      <td>-0.297013</td>\n",
       "      <td>...</td>\n",
       "      <td>-0.188918</td>\n",
       "      <td>-0.149952</td>\n",
       "      <td>-0.358138</td>\n",
       "      <td>0.092082</td>\n",
       "      <td>-0.017206</td>\n",
       "      <td>-0.427049</td>\n",
       "      <td>-0.528804</td>\n",
       "      <td>-0.008940</td>\n",
       "      <td>0.417998</td>\n",
       "      <td>0.086529</td>\n",
       "    </tr>\n",
       "    <tr>\n",
       "      <th>3</th>\n",
       "      <td>-0.669770</td>\n",
       "      <td>-0.258445</td>\n",
       "      <td>-0.945312</td>\n",
       "      <td>-0.583681</td>\n",
       "      <td>-0.519840</td>\n",
       "      <td>-0.382771</td>\n",
       "      <td>-0.247575</td>\n",
       "      <td>0.275135</td>\n",
       "      <td>1.040786</td>\n",
       "      <td>0.796330</td>\n",
       "      <td>...</td>\n",
       "      <td>0.963430</td>\n",
       "      <td>0.825973</td>\n",
       "      <td>0.468382</td>\n",
       "      <td>1.079967</td>\n",
       "      <td>1.151339</td>\n",
       "      <td>1.176975</td>\n",
       "      <td>3.587592</td>\n",
       "      <td>-0.282312</td>\n",
       "      <td>-0.817835</td>\n",
       "      <td>-0.540711</td>\n",
       "    </tr>\n",
       "    <tr>\n",
       "      <th>4</th>\n",
       "      <td>0.026334</td>\n",
       "      <td>-0.529220</td>\n",
       "      <td>-0.774596</td>\n",
       "      <td>-0.431527</td>\n",
       "      <td>-0.773763</td>\n",
       "      <td>-0.269859</td>\n",
       "      <td>-0.387077</td>\n",
       "      <td>-0.027072</td>\n",
       "      <td>-2.231456</td>\n",
       "      <td>-0.589478</td>\n",
       "      <td>...</td>\n",
       "      <td>-0.489737</td>\n",
       "      <td>-0.468536</td>\n",
       "      <td>-0.174241</td>\n",
       "      <td>-0.208596</td>\n",
       "      <td>-0.240436</td>\n",
       "      <td>-0.809254</td>\n",
       "      <td>-2.349518</td>\n",
       "      <td>-0.540497</td>\n",
       "      <td>-1.662581</td>\n",
       "      <td>-0.676330</td>\n",
       "    </tr>\n",
       "  </tbody>\n",
       "</table>\n",
       "<p>5 rows × 21 columns</p>\n",
       "</div>"
      ],
      "text/plain": [
       "         GT         K        TH         U        CT       U_K      TH_K  \\\n",
       "0  1.925042  0.294877 -0.315957  0.403014  0.080342 -0.570957 -0.613666   \n",
       "1 -0.697592 -0.635175  1.709698  0.444511  0.357349  0.317860  1.654651   \n",
       "2  0.564241 -0.305536 -0.422973 -0.316259 -0.462130 -0.272755 -0.446748   \n",
       "3 -0.669770 -0.258445 -0.945312 -0.583681 -0.519840 -0.382771 -0.247575   \n",
       "4  0.026334 -0.529220 -0.774596 -0.431527 -0.773763 -0.269859 -0.387077   \n",
       "\n",
       "       U_TH       MDT       B01  ...       B03       B04       B05       B06  \\\n",
       "0  0.396018 -1.647478 -0.883643  ... -0.850956 -1.029210 -0.176277 -1.145369   \n",
       "1 -1.175458  1.617799 -0.824130  ... -0.769237 -0.242417 -1.150729 -0.209394   \n",
       "2  0.275135 -0.916880 -0.297013  ... -0.188918 -0.149952 -0.358138  0.092082   \n",
       "3  0.275135  1.040786  0.796330  ...  0.963430  0.825973  0.468382  1.079967   \n",
       "4 -0.027072 -2.231456 -0.589478  ... -0.489737 -0.468536 -0.174241 -0.208596   \n",
       "\n",
       "        B07       B08       B09         R         G         B  \n",
       "0 -1.322683 -0.841989 -1.003773 -0.236750  1.247100  0.781578  \n",
       "1 -0.339503 -0.387236  0.658618 -0.965742 -0.301601  0.001767  \n",
       "2 -0.017206 -0.427049 -0.528804 -0.008940  0.417998  0.086529  \n",
       "3  1.151339  1.176975  3.587592 -0.282312 -0.817835 -0.540711  \n",
       "4 -0.240436 -0.809254 -2.349518 -0.540497 -1.662581 -0.676330  \n",
       "\n",
       "[5 rows x 21 columns]"
      ]
     },
     "execution_count": 12,
     "metadata": {},
     "output_type": "execute_result"
    }
   ],
   "source": [
    "pd.DataFrame(X_train_std, columns = df[FEAT].columns).head()"
   ]
  },
  {
   "cell_type": "markdown",
   "metadata": {},
   "source": [
    "### Análise de Componentes Principais\n",
    "\n",
    "A **Análise de Componentes Principais (PCA)** será realizada apenas nos sensores Landsat 8, com o intuito de redução da dimensionalidade."
   ]
  },
  {
   "cell_type": "code",
   "execution_count": 13,
   "metadata": {},
   "outputs": [],
   "source": [
    "pca = PCA(n_components = 9)\n",
    "pcs = pca.fit_transform(X_train_std[:, np.arange(9,18)])"
   ]
  },
  {
   "cell_type": "markdown",
   "metadata": {},
   "source": [
    "##### Variâncias relativas das componentes principais"
   ]
  },
  {
   "cell_type": "code",
   "execution_count": 14,
   "metadata": {},
   "outputs": [
    {
     "data": {
      "image/png": "[encoded data removed]",
      "text/plain": [
       "<Figure size 720x288 with 1 Axes>"
      ]
     },
     "metadata": {},
     "output_type": "display_data"
    }
   ],
   "source": [
    "# variância explicada relativa de cada componente principal\n",
    "explained_var = (pca.explained_variance_ratio_ * 100).round(2)\n",
    "# variância explicada relativa acumulada\n",
    "cum_explained_var = np.cumsum(explained_var).round(2)\n",
    "# labels das componentes principais\n",
    "pc_names = ['PC' + str(i) for i in range(1,10)]\n",
    "\n",
    "# gráfico de barras de componentes principais\n",
    "fig = plt.figure(figsize = (10,4))\n",
    "ax1 = fig.add_subplot(111)\n",
    "plt.bar(x = pc_names, height = explained_var, color = 'lightgray', edgecolor = ec)\n",
    "plt.title(\"Componentes principais das bandas Landsat 8\", size = fs_title)\n",
    "plt.ylabel(\"Variância explicada relativa (%)\", size = 14)\n",
    "\n",
    "# gráfico de linha de variâncias acumuladas\n",
    "ax2 = fig.add_subplot(111)\n",
    "plt.plot(pc_names, cum_explained_var, color = 'red', marker = 'o', label = 'Variância explicada acumulada')\n",
    "plt.yticks(np.arange(0,160,20))\n",
    "plt.legend(loc = 'top right')\n",
    "\n",
    "for i, v in enumerate(cum_explained_var):\n",
    "    ax2.text(i, v + 5, str(v) + '%', ha = 'center', size = 12);"
   ]
  },
  {
   "cell_type": "markdown",
   "metadata": {},
   "source": [
    "- Como as três primeiras componentes principais explicam ~92% da variância presente nas nove bandas Landsat 8, podemos reduzir as iniciais 9 features para apenas 3 componentes."
   ]
  },
  {
   "cell_type": "markdown",
   "metadata": {},
   "source": [
    "##### PCA personalizada\n",
    "\n",
    "Agora que a PCA foi realizada nas bandas Landsat 8 e obteve-se um resultado satisfatório no que diz respeito à variância explicada pelas três primeiras componentes principais, a PCA personalizada (classe `MaskedPCA`) pode ser realizada. Essa classe permite que a PCA seja realizada apenas nas features Landsat 8, retornando as três componentes principais, além das demais features não envolvidas na redução de dimensionalidade.\n",
    "\n",
    "Como as nove bandas Landsat 8 foram redimensionadas para três componentes principais, após a PCA, o número de features total reduzirá de 21 para 15."
   ]
  },
  {
   "cell_type": "code",
   "execution_count": 15,
   "metadata": {},
   "outputs": [
    {
     "name": "stdout",
     "output_type": "stream",
     "text": [
      "Dimensões das features de treino (pré-PCA) = (547, 21)\n",
      "Dimensões das features de treino (pós-PCA) = (547, 15)\n",
      "\n"
     ]
    }
   ],
   "source": [
    "# instanciação do objeto MaskedPCA\n",
    "mask = np.arange(9,18)\n",
    "masked_pca = MaskedPCA(n_components = 3, mask = mask)\n",
    "\n",
    "# treinamento e transformação dos dados de treino\n",
    "X_train_pca = masked_pca.fit_transform(X_train_std)\n",
    "print(f'Dimensões das features de treino (pré-PCA) = {X_train_std.shape}')\n",
    "print(f'Dimensões das features de treino (pós-PCA) = {X_train_pca.shape}\\n')"
   ]
  },
  {
   "cell_type": "markdown",
   "metadata": {},
   "source": [
    "##### Correlação entre features de treino após a PCA"
   ]
  },
  {
   "cell_type": "code",
   "execution_count": 16,
   "metadata": {},
   "outputs": [
    {
     "data": {
      "image/png": "[encoded data removed]",
      "text/plain": [
       "<Figure size 720x648 with 2 Axes>"
      ]
     },
     "metadata": {},
     "output_type": "display_data"
    }
   ],
   "source": [
    "PCA_FEAT = ['GT','K','TH','U','CT','U_K','TH_K','U_TH','MDT','PC1','PC2','PC3','R','G','B']\n",
    "df_X_train_pca = pd.DataFrame(X_train_pca, columns = PCA_FEAT)\n",
    "\n",
    "# Matriz de correlação linear\n",
    "pca_corr = df_X_train_pca.corr(method = 'pearson').round(2)\n",
    "\n",
    "# heatmap\n",
    "plt.figure(figsize = (10, 9))\n",
    "plt.title ('Heatmap de correlação linear entre as novas features', size = fs_title)\n",
    "mask = np.triu(np.ones_like(pca_corr, dtype = np.bool))\n",
    "ax = sns.heatmap(\n",
    "                 pca_corr, annot = True,\n",
    "                 cmap = 'coolwarm', cbar = True,\n",
    "                 mask = mask, vmin = -1.0, vmax = 1.0\n",
    "                )\n",
    "ax.set_xticklabels(PCA_FEAT, rotation = 45)\n",
    "ax.set_yticklabels(PCA_FEAT, rotation = 0);"
   ]
  },
  {
   "cell_type": "markdown",
   "metadata": {},
   "source": [
    "### Seleção de features"
   ]
  },
  {
   "cell_type": "markdown",
   "metadata": {},
   "source": [
    "#### Seleção univariada - Teste F ANOVA"
   ]
  },
  {
   "cell_type": "code",
   "execution_count": 17,
   "metadata": {},
   "outputs": [
    {
     "data": {
      "image/png": "[encoded data removed]",
      "text/plain": [
       "<Figure size 648x216 with 1 Axes>"
      ]
     },
     "metadata": {},
     "output_type": "display_data"
    }
   ],
   "source": [
    "X_train_anova, anova_scores = univariateSelector(X_train_pca, y_train, f_classif)\n",
    "plotSelectionScores(anova_scores, PCA_FEAT, method = 'Teste F ANOVA', col = col, ec = ec)"
   ]
  },
  {
   "cell_type": "markdown",
   "metadata": {},
   "source": [
    "#### Seleção univariada - Informação Mútua"
   ]
  },
  {
   "cell_type": "code",
   "execution_count": 18,
   "metadata": {},
   "outputs": [
    {
     "data": {
      "image/png": "[encoded data removed]",
      "text/plain": [
       "<Figure size 648x216 with 1 Axes>"
      ]
     },
     "metadata": {},
     "output_type": "display_data"
    }
   ],
   "source": [
    "X_train_mut, mut_scores = univariateSelector(X_train_pca, y_train, mutual_info_classif)\n",
    "plotSelectionScores(mut_scores, PCA_FEAT, method = 'Informação Mútua', col = col, ec = ec)"
   ]
  },
  {
   "cell_type": "markdown",
   "metadata": {},
   "source": [
    "#### Seleção a partir do modelo - Random Forest"
   ]
  },
  {
   "cell_type": "code",
   "execution_count": 19,
   "metadata": {},
   "outputs": [
    {
     "data": {
      "image/png": "[encoded data removed]",
      "text/plain": [
       "<Figure size 648x216 with 1 Axes>"
      ]
     },
     "metadata": {},
     "output_type": "display_data"
    }
   ],
   "source": [
    "X_train_rf, rf_scores = randomForestSelector(X_train_pca, y_train, split = 'entropy')\n",
    "plotSelectionScores(rf_scores, PCA_FEAT, method = 'Random Forest', col = col, ec = ec)"
   ]
  },
  {
   "cell_type": "markdown",
   "metadata": {},
   "source": [
    "#### Exclusão de features com elevada correlação linear\n",
    "\n",
    "De acordo com a matriz de correlação linear apresentada anteriormente, a feature `CT` apresenta uma forte correlação linear positiva com os três canais radiométricos e, portanto, será removida."
   ]
  },
  {
   "cell_type": "code",
   "execution_count": 20,
   "metadata": {},
   "outputs": [],
   "source": [
    "# Exclusão da feature CT\n",
    "df.drop(['CT'], axis = 1, inplace = True)\n",
    "\n",
    "# Atualização da lista de features após exclusão\n",
    "FEAT = ['GT','K','TH','U','U_K','TH_K','U_TH','MDT','B01','B02','B03',\n",
    "        'B04', 'B05', 'B06', 'B07', 'B08', 'B09', 'R', 'G', 'B']"
   ]
  },
  {
   "cell_type": "markdown",
   "metadata": {},
   "source": [
    "### Superamostragem"
   ]
  },
  {
   "cell_type": "markdown",
   "metadata": {},
   "source": [
    "#### SMOTE"
   ]
  },
  {
   "cell_type": "code",
   "execution_count": 21,
   "metadata": {},
   "outputs": [],
   "source": [
    "X_train_smt, y_train_smt = SMOTE().fit_resample(X_train_rf, y_train)"
   ]
  },
  {
   "cell_type": "code",
   "execution_count": 22,
   "metadata": {},
   "outputs": [
    {
     "data": {
      "image/png": "[encoded data removed]",
      "text/plain": [
       "<Figure size 432x288 with 1 Axes>"
      ]
     },
     "metadata": {},
     "output_type": "display_data"
    }
   ],
   "source": [
    "# transformação de narray em dataframe\n",
    "train_smt = pd.DataFrame(X_train_smt, columns = PCA_FEAT)\n",
    "train_smt['TARGET'] = y_train_smt\n",
    "\n",
    "# gráfico de barras\n",
    "sns.countplot(y = 'TARGET', data = train_smt, color = col, edgecolor = ec)\n",
    "\n",
    "plt.title(\"Conjunto de treino (após oversampling)\", size = fs_title)\n",
    "plt.xlabel(\"Frequência absoluta\", size = 14)\n",
    "plt.ylabel(\"Target\", size = 14);"
   ]
  },
  {
   "cell_type": "markdown",
   "metadata": {},
   "source": [
    "<a id='4'></a>\n",
    "## Modelagem dos dados"
   ]
  },
  {
   "cell_type": "markdown",
   "metadata": {},
   "source": [
    "### Transformadores e variáveis"
   ]
  },
  {
   "cell_type": "code",
   "execution_count": 23,
   "metadata": {},
   "outputs": [],
   "source": [
    "# número de exemplos de treino por unidade\n",
    "nb_eg = 100\n",
    "\n",
    "# método de escalonamento de features\n",
    "scaler = StandardScaler()\n",
    "\n",
    "# PCA personalizada\n",
    "mask = np.arange(8,17)\n",
    "dim_reduction = MaskedPCA(n_components = 3, mask = mask)\n",
    "\n",
    "# número de features a serem selecionadas\n",
    "nb_features = 10\n",
    "\n",
    "# método de seleção de features\n",
    "selector = SelectKBest(score_func = f_classif, k = nb_features)\n",
    "\n",
    "# método de oversampling\n",
    "oversamp = SMOTE(random_state = 42)\n",
    "\n",
    "# número de folds da validação cruzada\n",
    "n_folds = 5\n",
    "\n",
    "# validação cruzada\n",
    "cv = StratifiedKFold(n_splits = n_folds, shuffle = True, random_state = 42)\n",
    "\n",
    "# métrica de performance\n",
    "metric = 'f1_weighted'"
   ]
  },
  {
   "cell_type": "markdown",
   "metadata": {},
   "source": [
    "### Divisão entre treino e teste"
   ]
  },
  {
   "cell_type": "code",
   "execution_count": 24,
   "metadata": {},
   "outputs": [
    {
     "name": "stdout",
     "output_type": "stream",
     "text": [
      "Treino: X (547, 20), y (547,)\n",
      "Teste: X (10871, 20), y (10871,)\n"
     ]
    }
   ],
   "source": [
    "X_train, y_train, X_test, y_test = customTrainTestSplit(df, FEAT, COORD,\n",
    "                                                        samp_per_class = nb_eg,\n",
    "                                                        threshold = 0.7)\n",
    "\n",
    "print(f\"Treino: X {X_train.shape}, y {y_train.shape}\")\n",
    "print(f\"Teste: X {X_test.shape}, y {y_test.shape}\")"
   ]
  },
  {
   "cell_type": "markdown",
   "metadata": {},
   "source": [
    "### Criação de pipelines\n",
    "\n",
    "Os pipelines abaixo são constituídos pelas seguintes etapas:\n",
    "\n",
    "1. Escalonamento das features\n",
    "\n",
    "2. Redução da dimensionalidade dos sensores Landsat 8\n",
    "\n",
    "3. Seleção das features mais importantes\n",
    "\n",
    "4. Superamostragem\n",
    "\n",
    "5. Instanciação do classificador"
   ]
  },
  {
   "cell_type": "code",
   "execution_count": 25,
   "metadata": {},
   "outputs": [],
   "source": [
    "# MLR\n",
    "mlr_pipe = Pipeline(steps = [('scaler', scaler),\n",
    "                             ('dim_reduction', dim_reduction),\n",
    "                             ('selector', selector),\n",
    "                             ('smote', oversamp),\n",
    "                             ('clf', LogisticRegression(multi_class = 'multinomial', penalty = 'l2'))])\n",
    "\n",
    "# DT\n",
    "dt_pipe = Pipeline(steps = [('scaler', scaler),\n",
    "                            ('dim_reduction', dim_reduction),\n",
    "                            ('selector', selector),\n",
    "                            ('smote', oversamp),\n",
    "                            ('clf', DecisionTreeClassifier(random_state = 42))])\n",
    "\n",
    "# GNB\n",
    "gnb_pipe = Pipeline(steps = [('scaler', scaler),\n",
    "                             ('dim_reduction', dim_reduction),\n",
    "                             ('selector', selector),\n",
    "                             ('smote', oversamp),\n",
    "                             ('clf',GaussianNB(priors = [0.006,0.188,0.093,0.423,0.252,0.038]))])\n",
    "\n",
    "# KNN\n",
    "knn_pipe = Pipeline(steps = [('scaler', scaler),\n",
    "                             ('dim_reduction', dim_reduction),\n",
    "                             ('selector', selector),\n",
    "                             ('smote', oversamp),\n",
    "                             ('clf',KNeighborsClassifier())])\n",
    "\n",
    "# SVM\n",
    "svm_pipe = Pipeline(steps = [('scaler', scaler),\n",
    "                             ('dim_reduction', dim_reduction),\n",
    "                             ('selector', selector),\n",
    "                             ('smote', oversamp),\n",
    "                             ('clf', SVC(random_state = 42))])\n",
    "\n",
    "# RF\n",
    "rf_pipe = Pipeline(steps = [('scaler', scaler),\n",
    "                            ('dim_reduction', dim_reduction),\n",
    "                            ('selector', selector),\n",
    "                            ('smote', oversamp),\n",
    "                            ('clf', RandomForestClassifier(random_state = 42))])\n",
    "\n",
    "# XGB\n",
    "xgb_pipe = Pipeline(steps = [('scaler', scaler),\n",
    "                             ('dim_reduction', dim_reduction),\n",
    "                             ('selector', selector),\n",
    "                             ('smote', oversamp),\n",
    "                             ('clf', XGBClassifier(eval_metric = 'mlogloss', verbosity = 0, random_state = 42))])\n",
    "\n",
    "# MLP\n",
    "mlp_pipe = Pipeline(steps = [('scaler', scaler),\n",
    "                             ('dim_reduction', dim_reduction),\n",
    "                             ('selector', selector),\n",
    "                             ('smote', oversamp),\n",
    "                             ('clf', MLPClassifier(random_state = 42))])"
   ]
  },
  {
   "cell_type": "code",
   "execution_count": 26,
   "metadata": {},
   "outputs": [],
   "source": [
    "pipe = {\"MLR\" : mlr_pipe,\n",
    "        \"DT\"  : dt_pipe,\n",
    "        \"GNB\" : gnb_pipe,\n",
    "        \"KNN\" : knn_pipe,\n",
    "        \"SVM\" : svm_pipe,\n",
    "        \"RF\"  : rf_pipe,\n",
    "        \"XGB\" : xgb_pipe,\n",
    "        \"MLP\" : mlp_pipe}"
   ]
  },
  {
   "cell_type": "markdown",
   "metadata": {},
   "source": [
    "### Treinamento dos classificadores"
   ]
  },
  {
   "cell_type": "code",
   "execution_count": 27,
   "metadata": {},
   "outputs": [],
   "source": [
    "for p in pipe.keys():\n",
    "    pipe[p].fit(X_train, y_train)"
   ]
  },
  {
   "cell_type": "markdown",
   "metadata": {},
   "source": [
    "<a id='5'></a>\n",
    "## Tuning dos modelos"
   ]
  },
  {
   "cell_type": "markdown",
   "metadata": {},
   "source": [
    "##### Dicionário dos parâmetros de tuning"
   ]
  },
  {
   "cell_type": "code",
   "execution_count": 28,
   "metadata": {},
   "outputs": [],
   "source": [
    "# MLR\n",
    "mlr_param = [{'clf__solver'  : ['newton-cg','saga','sag','lbfgs'],\n",
    "              'clf__C'       : np.logspace(-3,3,10)}]\n",
    "\n",
    "# DT\n",
    "dt_param = [{'clf__criterion'         : ['gini','entropy'],\n",
    "             'clf__max_depth'         : [15,25,30,None],\n",
    "             'clf__min_samples_split' : [1,2,5,10],\n",
    "             'clf__min_samples_leaf'  : [1,2,5,10]}]\n",
    "\n",
    "# GNB\n",
    "gnb_param = [{'clf__var_smoothing' : np.logspace(-10,0,11)}]\n",
    "\n",
    "# KNN\n",
    "knn_param = [{'clf__n_neighbors'  : [i for i in range(3,30) if i % 2 != 0],\n",
    "              'clf__weights'      : ['uniform', 'distance'],\n",
    "              'clf__p'            : [1,2]}]\n",
    "\n",
    "# SVM\n",
    "svm_param = [{'clf__C'      : np.logspace(-3,3,10),\n",
    "              'clf__gamma'  : [0.001, 0.01, 0.1, 1, 10, 100, 'auto'],\n",
    "              'clf__kernel' : ['poly', 'rbf']}]\n",
    "\n",
    "# RF\n",
    "rf_param = [{'clf__n_estimators'      : [25,50,100,500],\n",
    "             'clf__max_depth'         : [15,25,30,None],\n",
    "             'clf__criterion'         : ['gini', 'entropy'],\n",
    "             'clf__min_samples_split' : [1,2,5,10],\n",
    "             'clf__min_samples_leaf'  : [1,2,5,10]}]\n",
    "\n",
    "# XGB\n",
    "xgb_param = [{'clf__eta'               : [0.01,0.015,0.025,0.05,0.1],\n",
    "              'clf__learning_rate'     : [0.1,0.15,0.2,0.25,0.3,0.35,0.4],\n",
    "              'clf__gamma'             : [0.05,0.1,0.3,0.4,0.5,0.7,0.9,1.0],\n",
    "              'clf__max_depth'         : [3,5,7,9,12,15,17,25],\n",
    "              'clf__min_child_weight'  : [1,3,5,7],\n",
    "              'clf__subsample'         : [0.6,0.7,0.8,0.9,1.0],\n",
    "              'clf__colsample_bytree'  : [0.6,0.7,0.8,0.9,1.0],\n",
    "              'clf__reg_lambda'        : [10 ** i for i in range(-3,4)],\n",
    "              'clf__alpha'             : [10 ** i for i in range(-3,4)]}]\n",
    "\n",
    "# MLP\n",
    "mlp_param = [{'clf__hidden_layer_sizes' : [(10,),(20,),(30,),(50,),(10,10),(20,20),(10,10,10),(10,30,10),(20,20,20)],\n",
    "              'clf__activation'         : ['logistic','tanh','relu'],\n",
    "              'clf__solver'             : ['lbfgs','sgd','adam'],\n",
    "              'clf__alpha'              : [10 ** i for i in range(-3,4)],\n",
    "              'clf__learning_rate'      : ['constant','adaptive'],\n",
    "              'clf__learning_rate_init' : [0.0001,0.001,0.01,0.1,0.15,0.2,0.25,0.3],\n",
    "              'clf__max_iter'           : [1,5,10,20,50,80,100,150,200,250]}]\n",
    "\n",
    "param = [mlr_param, dt_param, gnb_param, knn_param, svm_param, rf_param, xgb_param, mlp_param]"
   ]
  },
  {
   "cell_type": "code",
   "execution_count": 29,
   "metadata": {},
   "outputs": [],
   "source": [
    "# dicionários de hiperparâmetros por modelo\n",
    "dic_param = {}\n",
    "for k, p in zip(pipe.keys(), param):\n",
    "    dic_param[k] = p"
   ]
  },
  {
   "cell_type": "markdown",
   "metadata": {},
   "source": [
    "##### Tuning dos modelos"
   ]
  },
  {
   "cell_type": "code",
   "execution_count": 30,
   "metadata": {},
   "outputs": [
    {
     "name": "stdout",
     "output_type": "stream",
     "text": [
      "----\n",
      "MLR\n",
      "Melhores parâmetros: {'clf__C': 0.46415888336127775, 'clf__solver': 'saga'}\n",
      "f1_weighted = 0.576\n",
      "----\n",
      "DT\n",
      "Melhores parâmetros: {'clf__criterion': 'entropy', 'clf__max_depth': 15, 'clf__min_samples_leaf': 1, 'clf__min_samples_split': 10}\n",
      "f1_weighted = 0.608\n",
      "----\n",
      "GNB\n",
      "Melhores parâmetros: {'clf__var_smoothing': 1e-10}\n",
      "f1_weighted = 0.523\n",
      "----\n",
      "KNN\n",
      "Melhores parâmetros: {'clf__n_neighbors': 7, 'clf__p': 1, 'clf__weights': 'distance'}\n",
      "f1_weighted = 0.615\n",
      "----\n",
      "SVM\n",
      "Melhores parâmetros: {'clf__C': 1000.0, 'clf__gamma': 0.01, 'clf__kernel': 'rbf'}\n",
      "f1_weighted = 0.626\n",
      "----\n",
      "RF\n",
      "Melhores parâmetros: {'clf__n_estimators': 100, 'clf__min_samples_split': 5, 'clf__min_samples_leaf': 1, 'clf__max_depth': 15, 'clf__criterion': 'gini'}\n",
      "f1_weighted = 0.68\n",
      "----\n",
      "XGB\n",
      "Melhores parâmetros: {'clf__subsample': 0.9, 'clf__reg_lambda': 0.001, 'clf__min_child_weight': 1, 'clf__max_depth': 12, 'clf__learning_rate': 0.15, 'clf__gamma': 0.9, 'clf__eta': 0.05, 'clf__colsample_bytree': 0.9, 'clf__alpha': 0.01}\n",
      "f1_weighted = 0.683\n",
      "----\n",
      "MLP\n",
      "Melhores parâmetros: {'clf__solver': 'adam', 'clf__max_iter': 200, 'clf__learning_rate_init': 0.01, 'clf__learning_rate': 'adaptive', 'clf__hidden_layer_sizes': (20, 20), 'clf__alpha': 0.1, 'clf__activation': 'tanh'}\n",
      "f1_weighted = 0.644\n"
     ]
    }
   ],
   "source": [
    "best_params = []\n",
    "\n",
    "# para cada modelo, exceto RF e XGB\n",
    "for m in ['MLR', 'DT', 'GNB', 'KNN', 'SVM']:\n",
    "    # grid search\n",
    "    grid = GridSearchCV(pipe[m], param_grid = dic_param[m], cv = cv, scoring = metric)\n",
    "    grid.fit(X_train, y_train)\n",
    "    best_params.append(grid.best_params_)\n",
    "    print(\"----\")\n",
    "    print(m)\n",
    "    print(\"Melhores parâmetros:\", grid.best_params_)\n",
    "    print('{0} = {1}'.format(metric, round(grid.best_score_, 3)))\n",
    "    \n",
    "# para apenas RF e XGB\n",
    "for m in ['RF', 'XGB', 'MLP']:\n",
    "    # random search\n",
    "    random = RandomizedSearchCV(pipe[m], param_distributions = dic_param[m], cv = cv,\n",
    "                                    scoring = metric, n_iter = 50, random_state = 42)\n",
    "    random.fit(X_train, y_train)\n",
    "    best_params.append(random.best_params_)\n",
    "    print(\"----\")\n",
    "    print(m)\n",
    "    print(\"Melhores parâmetros:\", random.best_params_)\n",
    "    print('{0} = {1}'.format(metric, round(random.best_score_, 3)))"
   ]
  },
  {
   "cell_type": "markdown",
   "metadata": {},
   "source": [
    "<a id='6'></a>\n",
    "## Validação cruzada"
   ]
  },
  {
   "cell_type": "markdown",
   "metadata": {},
   "source": [
    "##### Criação dos pipelines dos modelos otimizados"
   ]
  },
  {
   "cell_type": "code",
   "execution_count": 31,
   "metadata": {},
   "outputs": [],
   "source": [
    "# baseline\n",
    "dummy = Pipeline(steps = [('clf', DummyClassifier(strategy = \"constant\", constant = 4))])\n",
    "\n",
    "# MLR\n",
    "mlr = Pipeline(steps = [('scaler', scaler),\n",
    "                        ('dim_reduction', dim_reduction),\n",
    "                        ('selector', selector),\n",
    "                        ('smote', oversamp),\n",
    "                        ('clf', LogisticRegression(C = best_params[0]['clf__C'],\n",
    "                                                   solver = best_params[0]['clf__solver'],\n",
    "                                                   multi_class = 'multinomial',\n",
    "                                                   penalty = 'l2'))])\n",
    "\n",
    "# DT\n",
    "dt = Pipeline(steps = [('scaler', scaler),\n",
    "                       ('dim_reduction', dim_reduction),\n",
    "                       ('selector', selector),\n",
    "                       ('smote', oversamp),\n",
    "                       ('clf', DecisionTreeClassifier(criterion = best_params[1]['clf__criterion'],\n",
    "                                                      max_depth = best_params[1]['clf__max_depth'],\n",
    "                                                      min_samples_split = best_params[1]['clf__min_samples_split'],\n",
    "                                                      min_samples_leaf = best_params[1]['clf__min_samples_leaf'],\n",
    "                                                      random_state = 42))])\n",
    "\n",
    "# GNB\n",
    "gnb = Pipeline(steps = [('scaler', scaler),\n",
    "                        ('dim_reduction', dim_reduction),\n",
    "                        ('selector', selector),\n",
    "                        ('smote', oversamp),\n",
    "                        ('clf', GaussianNB(var_smoothing = best_params[2]['clf__var_smoothing'],\n",
    "                                           priors = [0.006,0.188,0.093,0.423,0.252,0.038]))])\n",
    "\n",
    "# KNN\n",
    "knn = Pipeline(steps = [('scaler', scaler),\n",
    "                        ('dim_reduction', dim_reduction),\n",
    "                        ('selector', selector),\n",
    "                        ('smote', oversamp),\n",
    "                        ('clf', KNeighborsClassifier(n_neighbors = best_params[3]['clf__n_neighbors'],\n",
    "                                                     p = best_params[3]['clf__p'],\n",
    "                                                     weights = best_params[3]['clf__weights']))])\n",
    "\n",
    "# SVM\n",
    "svm = Pipeline(steps = [('scaler', scaler),\n",
    "                        ('dim_reduction', dim_reduction),\n",
    "                        ('selector', selector),\n",
    "                        ('smote', oversamp),\n",
    "                        ('clf', SVC(C = best_params[4]['clf__C'],\n",
    "                                    gamma = best_params[4]['clf__gamma'],\n",
    "                                    kernel = best_params[4]['clf__kernel'],\n",
    "                                    random_state = 42))])\n",
    "\n",
    "# RF\n",
    "rf = Pipeline(steps = [('scaler', scaler),\n",
    "                       ('dim_reduction', dim_reduction),\n",
    "                       ('selector', selector),\n",
    "                       ('smote', oversamp),\n",
    "                       ('clf', RandomForestClassifier(n_estimators = best_params[5]['clf__n_estimators'],\n",
    "                                                      min_samples_split = best_params[5]['clf__min_samples_split'],\n",
    "                                                      min_samples_leaf = best_params[5]['clf__min_samples_leaf'],\n",
    "                                                      max_depth = best_params[5]['clf__max_depth'],\n",
    "                                                      criterion = best_params[5]['clf__criterion'],\n",
    "                                                      random_state = 42))])\n",
    "\n",
    "# XGB\n",
    "xgb = Pipeline(steps = [('scaler', scaler),\n",
    "                        ('dim_reduction', dim_reduction),\n",
    "                        ('selector', selector),\n",
    "                        ('smote', oversamp),\n",
    "                        ('clf', XGBClassifier(subsample = best_params[6]['clf__subsample'],\n",
    "                                              reg_lambda = best_params[6]['clf__reg_lambda'],\n",
    "                                              min_child_weight = best_params[6]['clf__min_child_weight'],\n",
    "                                              max_depth = best_params[6]['clf__max_depth'],\n",
    "                                              learning_rate = best_params[6]['clf__learning_rate'],\n",
    "                                              gamma = best_params[6]['clf__gamma'], \n",
    "                                              eta = best_params[6]['clf__eta'],\n",
    "                                              colsample_bytree = best_params[6]['clf__colsample_bytree'],\n",
    "                                              alpha = best_params[6]['clf__alpha'],\n",
    "                                              random_state = 42))])\n",
    "\n",
    "# MLP\n",
    "mlp = Pipeline(steps = [('scaler', scaler),\n",
    "                        ('dim_reduction', dim_reduction),\n",
    "                        ('selector', selector),\n",
    "                        ('smote', oversamp),\n",
    "                        ('clf', MLPClassifier(hidden_layer_sizes = best_params[7]['clf__hidden_layer_sizes'],\n",
    "                                              activation = best_params[7]['clf__activation'],\n",
    "                                              solver = best_params[7]['clf__solver'],\n",
    "                                              alpha = best_params[7]['clf__alpha'],\n",
    "                                              learning_rate = best_params[7]['clf__learning_rate'],\n",
    "                                              learning_rate_init = best_params[7]['clf__learning_rate_init'], \n",
    "                                              max_iter = best_params[7]['clf__max_iter'],\n",
    "                                              random_state = 42))])\n",
    "\n",
    "tuned_models = {\"DUMMY\" : dummy,\n",
    "                \"MLR\"   : mlr,\n",
    "                \"DT\"    : dt,\n",
    "                \"GNB\"   : gnb,\n",
    "                \"KNN\"   : knn,\n",
    "                \"SVM\"   : svm,\n",
    "                \"RF\"    : rf,\n",
    "                \"XGB\"   : xgb,\n",
    "                \"MLP\"   : mlp}"
   ]
  },
  {
   "cell_type": "markdown",
   "metadata": {},
   "source": [
    "##### Validação cruzada"
   ]
  },
  {
   "cell_type": "code",
   "execution_count": null,
   "metadata": {},
   "outputs": [],
   "source": [
    "val_report = validationReport(tuned_models, X_train, y_train, cv)\n",
    "val_report"
   ]
  },
  {
   "cell_type": "markdown",
   "metadata": {},
   "source": [
    "##### Treinamento dos modelos otimizados"
   ]
  },
  {
   "cell_type": "code",
   "execution_count": null,
   "metadata": {},
   "outputs": [],
   "source": [
    "for k in tuned_models.keys():\n",
    "    tuned_models[k].fit(X_train, y_train)"
   ]
  },
  {
   "cell_type": "markdown",
   "metadata": {},
   "source": [
    "<a id='7'></a>\n",
    "## Predições"
   ]
  },
  {
   "cell_type": "markdown",
   "metadata": {},
   "source": [
    "### Predições das unidades"
   ]
  },
  {
   "cell_type": "code",
   "execution_count": null,
   "metadata": {},
   "outputs": [],
   "source": [
    "# baseline\n",
    "ŷ_dummy = tuned_models['DUMMY'].predict(X_test)\n",
    "# MLR\n",
    "ŷ_mlr = tuned_models['MLR'].predict(X_test)\n",
    "# DT\n",
    "ŷ_dt = tuned_models['DT'].predict(X_test)\n",
    "# GNB\n",
    "ŷ_gnb = tuned_models['GNB'].predict(X_test)\n",
    "# KNN\n",
    "ŷ_knn = tuned_models['KNN'].predict(X_test)\n",
    "# SVM\n",
    "ŷ_svm = tuned_models['SVM'].predict(X_test)\n",
    "# RF\n",
    "ŷ_rf = tuned_models['RF'].predict(X_test)\n",
    "# XGB\n",
    "ŷ_xgb = tuned_models['XGB'].predict(X_test)\n",
    "# MLP\n",
    "ŷ_mlp = tuned_models['MLP'].predict(X_test)\n",
    "\n",
    "dic_ŷ = {'DUMMY' : ŷ_dummy,\n",
    "         'MLR'   : ŷ_mlr,\n",
    "         'DT'    : ŷ_dt,\n",
    "         'GNB'   : ŷ_gnb,\n",
    "         'KNN'   : ŷ_knn,\n",
    "         'SVM'   : ŷ_svm,\n",
    "         'RF'    : ŷ_rf,\n",
    "         'XGB'   : ŷ_xgb,\n",
    "         'MLP'   : ŷ_mlp}"
   ]
  },
  {
   "cell_type": "markdown",
   "metadata": {},
   "source": [
    "##### Visualização das predições"
   ]
  },
  {
   "cell_type": "code",
   "execution_count": null,
   "metadata": {
    "scrolled": false
   },
   "outputs": [],
   "source": [
    "# mapa preditivo\n",
    "pred_map = createPredTable(dic_ŷ, train, test)\n",
    "# mapa geológico\n",
    "geo_map = pd.concat([train,test])\n",
    "# mapa de inconsistências\n",
    "miss_map = createMissClassifTable(pred_map, y_train, y_test)\n",
    "# lista de modelos\n",
    "models = ['MLR','DT','GNB','KNN','SVM','RF','XGB','MLP']\n",
    "\n",
    "for model in models:\n",
    "    fig, (ax1, ax2, ax3) = plt.subplots(nrows = 1, ncols = 3, figsize = (10, 5))\n",
    "    \n",
    "    # plotagem do mapa preditivo\n",
    "    cm_map = ax1.scatter(data = pred_map, x = 'X', y = 'Y', c = model, cmap = cm, s = sz, marker = mk)\n",
    "    ax1.set_title(model, size = fs_title)\n",
    "    ax1.set_xlabel('X (m)', size = 14)\n",
    "    ax1.set_ylabel('Y (m)', size = 14)\n",
    "    \n",
    "    # plotagem do mapa geológico\n",
    "    ax2.scatter(data = geo_map, x = 'X', y = 'Y', c = 'TARGET', cmap = cm, s = sz, marker = mk)\n",
    "    ax2.set_title(\"Mapa geológico\", size = fs_title)\n",
    "    ax2.set_xlabel('X (m)', size = 14)\n",
    "    \n",
    "    # plotagem do mapa de inconsistências\n",
    "    filtered_miss_map = miss_map[miss_map['MISS_' + model] == 1]\n",
    "    ax3.scatter(data = filtered_miss_map, x = 'X', y = 'Y', c = 'red', s = 0.1, marker = 'o')\n",
    "    ax3.set_title(\"Inconsistências\", size = fs_title)\n",
    "    ax3.set_xlabel('X (m)', size = 14)\n",
    "    \n",
    "    # legenda de unidades\n",
    "    cbar = fig.colorbar(cm_map, ax = ax1, use_gridspec = False, anchor = (-27, 0))\n",
    "    cbar.ax.set_yticklabels(['MAcgg','PP3csbg','PP34b','PP4esjc','PP4esb','PP4egm'])\n",
    "    \n",
    "    plt.tight_layout();"
   ]
  },
  {
   "cell_type": "markdown",
   "metadata": {},
   "source": [
    "<a id='8'></a>\n",
    "## Validação dos modelos"
   ]
  },
  {
   "cell_type": "markdown",
   "metadata": {},
   "source": [
    "##### Matriz de confusão"
   ]
  },
  {
   "cell_type": "code",
   "execution_count": null,
   "metadata": {},
   "outputs": [],
   "source": [
    "fig, axs = plt.subplots(nrows = 4, ncols = 2, figsize = (10, 16))\n",
    "\n",
    "for ax, m in zip(axs.flat, models):\n",
    "    cm = confusion_matrix(y_test, dic_ŷ[m], normalize = 'true')\n",
    "    p = ax.matshow(cm, cmap = 'coolwarm')\n",
    "    fig.colorbar(p, ax = ax, boundaries = np.linspace(0.0,1.0,6))\n",
    "    ax.set_title(str(m), size = fs_title, pad = 40)\n",
    "    ax.set_xlabel('Predito', size = 14, labelpad = pad)\n",
    "    ax.set_xticklabels([''] + labels, rotation = 45)\n",
    "    ax.set_ylabel('Real', size = 14, labelpad = pad)\n",
    "    ax.set_yticklabels([''] + labels)\n",
    "\n",
    "    for (i, j), z in np.ndenumerate(cm):\n",
    "        ax.text(j, i, '{:0.2f}'.format(z), ha = 'center', va = 'center')\n",
    "\n",
    "plt.tight_layout();"
   ]
  },
  {
   "cell_type": "markdown",
   "metadata": {},
   "source": [
    "##### Report de métricas de classificação"
   ]
  },
  {
   "cell_type": "code",
   "execution_count": null,
   "metadata": {
    "scrolled": false
   },
   "outputs": [],
   "source": [
    "for k in dic_ŷ.keys():\n",
    "    print('---- \\n')\n",
    "    print(f'{k}:')\n",
    "    print(classification_report(y_test, dic_ŷ[k]))"
   ]
  },
  {
   "cell_type": "markdown",
   "metadata": {},
   "source": [
    "##### Métricas de validação do conjunto de teste"
   ]
  },
  {
   "cell_type": "code",
   "execution_count": null,
   "metadata": {},
   "outputs": [],
   "source": [
    "test_report = testReport(dic_ŷ, y_test)\n",
    "test_report"
   ]
  },
  {
   "cell_type": "markdown",
   "metadata": {},
   "source": [
    "##### Comparação entre os resultados de validação e teste"
   ]
  },
  {
   "cell_type": "code",
   "execution_count": null,
   "metadata": {},
   "outputs": [],
   "source": [
    "print(\"Report de validação:\")\n",
    "print(val_report)\n",
    "print('\\n----\\n')\n",
    "print(\"Report de teste:\")\n",
    "print(test_report)"
   ]
  },
  {
   "cell_type": "code",
   "execution_count": null,
   "metadata": {},
   "outputs": [],
   "source": [
    "fig, ax = plt.subplots(3,1,figsize = (8, 10))\n",
    "\n",
    "# heatmap de validação\n",
    "sns.heatmap(val_report, cmap = 'coolwarm', annot = True, vmin = 0.5, vmax = 0.75, ax = ax[0])\n",
    "ax[0].set_title('Validação', size = fs_title)\n",
    "\n",
    "# heatmap de teste\n",
    "sns.heatmap(test_report, cmap = 'coolwarm', annot = True, vmin = 0.4, vmax = 0.75, ax = ax[1])\n",
    "ax[1].set_title('Teste', size = fs_title)\n",
    "\n",
    "# heatmap da diferença entre validação e teste\n",
    "sns.heatmap(val_report - test_report, cmap = 'coolwarm', annot = True, vmin = -0.1, vmax = 0.1, ax = ax[2])\n",
    "ax[2].set_title('Diferença entre validação e teste', size = fs_title)\n",
    "\n",
    "plt.tight_layout();"
   ]
  },
  {
   "cell_type": "markdown",
   "metadata": {},
   "source": [
    "<a id='9'></a>\n",
    "## Mapas de probabilidade por classes"
   ]
  },
  {
   "cell_type": "markdown",
   "metadata": {},
   "source": [
    "#### Random Forest"
   ]
  },
  {
   "cell_type": "code",
   "execution_count": null,
   "metadata": {},
   "outputs": [],
   "source": [
    "# predições probabilísticas (RF)\n",
    "pr_rf = tuned_models['RF'].predict_proba(X_test)\n",
    "\n",
    "# dataframe com as predições probabilísticas (RF)\n",
    "df_pr_rf = createPredProbaTable(pr_rf, test)"
   ]
  },
  {
   "cell_type": "code",
   "execution_count": null,
   "metadata": {},
   "outputs": [],
   "source": [
    "# mapas de probabilidade por classes (RF)\n",
    "fig, axs = plt.subplots(nrows = 2, ncols = 3, figsize = (12, 10))\n",
    "\n",
    "for ax, label in zip(axs.flat, labels):\n",
    "    rf_pr_map = ax.scatter(data = df_pr_rf, x = 'X', y = 'Y', c = label, cmap = 'Reds', s = sz, marker = mk)\n",
    "    fig.colorbar(rf_pr_map, ax = ax, boundaries = np.linspace(0.0,1.0,6))\n",
    "    ax.set_title(label, size = fs_title)\n",
    "        \n",
    "plt.tight_layout();"
   ]
  },
  {
   "cell_type": "markdown",
   "metadata": {},
   "source": [
    "#### XGBoost"
   ]
  },
  {
   "cell_type": "code",
   "execution_count": null,
   "metadata": {},
   "outputs": [],
   "source": [
    "# predições probabilísticas (XGB)\n",
    "pr_xgb = tuned_models['XGB'].predict_proba(X_test)\n",
    "\n",
    "# dataframe com as predições probabilísticas (XGB)\n",
    "df_pr_xgb = createPredProbaTable(pr_xgb, test)"
   ]
  },
  {
   "cell_type": "code",
   "execution_count": null,
   "metadata": {},
   "outputs": [],
   "source": [
    "# mapas de probabilidade por classes (XGB)\n",
    "fig, axs = plt.subplots(nrows = 2, ncols = 3, figsize = (12, 10))\n",
    "\n",
    "for ax, label in zip(axs.flat, labels):\n",
    "    xgb_pr_map = ax.scatter(data = df_pr_xgb, x = 'X', y = 'Y', c = label, cmap = 'Reds', s = sz, marker = mk)\n",
    "    fig.colorbar(xgb_pr_map, ax = ax, boundaries = np.linspace(0.0,1.0,6))\n",
    "    ax.set_title(label, size = fs_title)\n",
    "        \n",
    "plt.tight_layout();"
   ]
  },
  {
   "cell_type": "markdown",
   "metadata": {},
   "source": [
    "<a id='10'></a>\n",
    "## Mapas de entropia cruzada"
   ]
  },
  {
   "cell_type": "code",
   "execution_count": null,
   "metadata": {},
   "outputs": [],
   "source": [
    "# cálculo da entropia para o modelo RF\n",
    "H_rf = categoricalCrossEntropy(pr_rf, dic_ŷ['RF'], test)\n",
    "\n",
    "# cálculo da entropia para o modelo RF\n",
    "H_xgb = categoricalCrossEntropy(pr_xgb, dic_ŷ['XGB'], test)"
   ]
  },
  {
   "cell_type": "code",
   "execution_count": null,
   "metadata": {},
   "outputs": [],
   "source": [
    "fig, (ax1, ax2) = plt.subplots(nrows = 1, ncols = 2, figsize = (9.5, 7))\n",
    "\n",
    "# mapa de entropia cruzada - RF\n",
    "rf_H_map = ax1.scatter(data = H_rf, x = 'X', y = 'Y', c = 'ENTROPY', cmap = 'Reds', s = sz, marker = mk)\n",
    "ax1.set_title('Entropia Cruzada - RF', size = fs_title)\n",
    "ax1.set_xlabel('X (m)', size = 14)\n",
    "ax1.set_ylabel('Y (m)', size = 14)\n",
    "fig.colorbar(rf_H_map, ax = ax1, boundaries = np.linspace(0.0,2.5,6))\n",
    "\n",
    "# mapa de entropia cruzada - XGB\n",
    "xgb_H_map = ax2.scatter(data = H_xgb, x = 'X', y = 'Y', c = 'ENTROPY', cmap = 'Reds', s = sz, marker = mk)\n",
    "ax2.set_title('Entropia Cruzada - XGB', size = fs_title)\n",
    "ax2.set_xlabel('X (m)', size = 14)\n",
    "fig.colorbar(xgb_H_map, ax = ax2, boundaries = np.linspace(0.0,2.5,6))\n",
    "\n",
    "plt.tight_layout();"
   ]
  },
  {
   "cell_type": "markdown",
   "metadata": {},
   "source": [
    "<a id='11'></a>\n",
    "## Exportação dos resultados"
   ]
  },
  {
   "cell_type": "code",
   "execution_count": null,
   "metadata": {},
   "outputs": [],
   "source": [
    "if save_results:\n",
    "    # predições realizadas por cada modelo\n",
    "    pred_map.to_csv('output/out_pred.csv', header = True, index = False, float_format='%.3f')\n",
    "\n",
    "    # predições probabilísticas (RF)\n",
    "    df_pr_rf.to_csv('output/out_pred_proba_rf.csv', header = True, index = False, float_format='%.3f')\n",
    "    \n",
    "    # predições probabilísticas (XGB)\n",
    "    df_pr_xgb.to_csv('output/out_pred_proba_xgb.csv', header = True, index = False, float_format='%.3f')\n",
    "    \n",
    "    # inconsistências apresentadas por cada modelo\n",
    "    miss_map.to_csv('output/out_missclassif.csv', header = True, index = False, float_format='%.3f')\n",
    "    \n",
    "    # entropia cruzada (RF)\n",
    "    H_rf.to_csv('output/out_entropy_rf.csv', header = True, index = False, float_format='%.3f')\n",
    "    \n",
    "    # entropia cruzada (XGB)\n",
    "    H_xgb.to_csv('output/out_entropy_xgb.csv', header = True, index = False, float_format='%.3f')"
   ]
  }
 ],
 "metadata": {
  "kernelspec": {
   "display_name": "Python 3",
   "language": "python",
   "name": "python3"
  },
  "language_info": {
   "codemirror_mode": {
    "name": "ipython",
    "version": 3
   },
   "file_extension": ".py",
   "mimetype": "text/x-python",
   "name": "python",
   "nbconvert_exporter": "python",
   "pygments_lexer": "ipython3",
   "version": "3.6.10"
  }
 },
 "nbformat": 4,
 "nbformat_minor": 4
}
